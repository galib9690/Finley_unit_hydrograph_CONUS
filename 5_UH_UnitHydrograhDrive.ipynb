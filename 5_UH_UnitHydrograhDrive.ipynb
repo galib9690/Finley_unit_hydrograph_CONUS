{
 "cells": [
  {
   "cell_type": "code",
   "execution_count": 1,
   "metadata": {},
   "outputs": [],
   "source": [
    "\n",
    "import os\n",
    "import pandas as pd\n",
    "import numpy as np\n",
    "import matplotlib.pyplot as plt\n",
    "\n",
    "# function to create a folder to store the results if it does not exist\n"
   ]
  },
  {
   "cell_type": "code",
   "execution_count": 2,
   "metadata": {},
   "outputs": [
    {
     "name": "stdout",
     "output_type": "stream",
     "text": [
      "\n",
      "Results of the runoff event in Event_3426385_2000-03-28.csv:\n",
      "\n",
      "Directory created: C:/Users/mgalib/Box/Finley_UH_work/Data/TN\\UH\n",
      "Directory created: C:/Users/mgalib/Box/Finley_UH_work/Data/TN\\UH\\Event_3426385_2000-03-28\n",
      "The drainage area of the watershed is 19.85857201 mile².\n",
      "\n",
      "The time interval of the discharge data is 195.0 mins.\n",
      "\n"
     ]
    },
    {
     "name": "stderr",
     "output_type": "stream",
     "text": [
      "C:\\Users\\mgalib\\AppData\\Local\\Temp\\ipykernel_13792\\2227566579.py:73: FutureWarning: Calling float on a single element Series is deprecated and will raise a TypeError in the future. Use float(ser.iloc[0]) instead\n",
      "  directQ_in.iloc[i] = float((directQ_cfs.iloc[i-1]+directQ_cfs.iloc[i])/2*delta_t*12/(area*5280**2))\n",
      "C:\\Users\\mgalib\\AppData\\Local\\Temp\\ipykernel_13792\\2227566579.py:82: FutureWarning: Calling float on a single element Series is deprecated and will raise a TypeError in the future. Use float(ser.iloc[0]) instead\n",
      "  UH.iloc[i] = float(directQ_cfs.iloc[i]/sum_directQ_in)\n"
     ]
    },
    {
     "name": "stdout",
     "output_type": "stream",
     "text": [
      "The depth of direct runoff in the Unit Hydrograph is 1.0 inch.\n",
      "- - - - - - - - - - - - - - - - - - - - - - - - - - - - - - - - - -\n",
      "\n",
      "Results of the runoff event in Event_3426385_2000-04-01.csv:\n",
      "\n",
      "Directory already exists: C:/Users/mgalib/Box/Finley_UH_work/Data/TN\\UH\n",
      "Directory created: C:/Users/mgalib/Box/Finley_UH_work/Data/TN\\UH\\Event_3426385_2000-04-01\n",
      "The drainage area of the watershed is 19.85857201 mile².\n",
      "\n",
      "The time interval of the discharge data is 1380.0 mins.\n",
      "\n"
     ]
    },
    {
     "name": "stderr",
     "output_type": "stream",
     "text": [
      "C:\\Users\\mgalib\\AppData\\Local\\Temp\\ipykernel_13792\\2227566579.py:118: FutureWarning: Calling float on a single element Series is deprecated and will raise a TypeError in the future. Use float(ser.iloc[0]) instead\n",
      "  DUH.iloc[i] = float(UH.iloc[i]/Q_peak)\n",
      "C:\\Users\\mgalib\\AppData\\Local\\Temp\\ipykernel_13792\\2227566579.py:73: FutureWarning: Calling float on a single element Series is deprecated and will raise a TypeError in the future. Use float(ser.iloc[0]) instead\n",
      "  directQ_in.iloc[i] = float((directQ_cfs.iloc[i-1]+directQ_cfs.iloc[i])/2*delta_t*12/(area*5280**2))\n",
      "C:\\Users\\mgalib\\AppData\\Local\\Temp\\ipykernel_13792\\2227566579.py:82: FutureWarning: Calling float on a single element Series is deprecated and will raise a TypeError in the future. Use float(ser.iloc[0]) instead\n",
      "  UH.iloc[i] = float(directQ_cfs.iloc[i]/sum_directQ_in)\n",
      "C:\\Users\\mgalib\\AppData\\Local\\Temp\\ipykernel_13792\\2227566579.py:118: FutureWarning: Calling float on a single element Series is deprecated and will raise a TypeError in the future. Use float(ser.iloc[0]) instead\n",
      "  DUH.iloc[i] = float(UH.iloc[i]/Q_peak)\n"
     ]
    },
    {
     "name": "stdout",
     "output_type": "stream",
     "text": [
      "The depth of direct runoff in the Unit Hydrograph is 1.0 inch.\n",
      "- - - - - - - - - - - - - - - - - - - - - - - - - - - - - - - - - -\n",
      "\n",
      "Results of the runoff event in Event_3426385_2007-03-28.csv:\n",
      "\n",
      "Directory already exists: C:/Users/mgalib/Box/Finley_UH_work/Data/TN\\UH\n",
      "Directory created: C:/Users/mgalib/Box/Finley_UH_work/Data/TN\\UH\\Event_3426385_2007-03-28\n",
      "The drainage area of the watershed is 19.85857201 mile².\n",
      "\n",
      "The time interval of the discharge data is 450.0 mins.\n",
      "\n"
     ]
    },
    {
     "name": "stderr",
     "output_type": "stream",
     "text": [
      "C:\\Users\\mgalib\\AppData\\Local\\Temp\\ipykernel_13792\\2227566579.py:73: FutureWarning: Calling float on a single element Series is deprecated and will raise a TypeError in the future. Use float(ser.iloc[0]) instead\n",
      "  directQ_in.iloc[i] = float((directQ_cfs.iloc[i-1]+directQ_cfs.iloc[i])/2*delta_t*12/(area*5280**2))\n",
      "C:\\Users\\mgalib\\AppData\\Local\\Temp\\ipykernel_13792\\2227566579.py:82: FutureWarning: Calling float on a single element Series is deprecated and will raise a TypeError in the future. Use float(ser.iloc[0]) instead\n",
      "  UH.iloc[i] = float(directQ_cfs.iloc[i]/sum_directQ_in)\n"
     ]
    },
    {
     "name": "stdout",
     "output_type": "stream",
     "text": [
      "The depth of direct runoff in the Unit Hydrograph is 1.0 inch.\n",
      "- - - - - - - - - - - - - - - - - - - - - - - - - - - - - - - - - -\n",
      "\n",
      "Results of the runoff event in Event_3426385_2008-08-19.csv:\n",
      "\n",
      "Directory already exists: C:/Users/mgalib/Box/Finley_UH_work/Data/TN\\UH\n",
      "Directory created: C:/Users/mgalib/Box/Finley_UH_work/Data/TN\\UH\\Event_3426385_2008-08-19\n",
      "The drainage area of the watershed is 19.85857201 mile².\n",
      "\n",
      "The time interval of the discharge data is 705.0 mins.\n",
      "\n"
     ]
    },
    {
     "name": "stderr",
     "output_type": "stream",
     "text": [
      "C:\\Users\\mgalib\\AppData\\Local\\Temp\\ipykernel_13792\\2227566579.py:118: FutureWarning: Calling float on a single element Series is deprecated and will raise a TypeError in the future. Use float(ser.iloc[0]) instead\n",
      "  DUH.iloc[i] = float(UH.iloc[i]/Q_peak)\n",
      "C:\\Users\\mgalib\\AppData\\Local\\Temp\\ipykernel_13792\\2227566579.py:73: FutureWarning: Calling float on a single element Series is deprecated and will raise a TypeError in the future. Use float(ser.iloc[0]) instead\n",
      "  directQ_in.iloc[i] = float((directQ_cfs.iloc[i-1]+directQ_cfs.iloc[i])/2*delta_t*12/(area*5280**2))\n",
      "C:\\Users\\mgalib\\AppData\\Local\\Temp\\ipykernel_13792\\2227566579.py:82: FutureWarning: Calling float on a single element Series is deprecated and will raise a TypeError in the future. Use float(ser.iloc[0]) instead\n",
      "  UH.iloc[i] = float(directQ_cfs.iloc[i]/sum_directQ_in)\n",
      "C:\\Users\\mgalib\\AppData\\Local\\Temp\\ipykernel_13792\\2227566579.py:118: FutureWarning: Calling float on a single element Series is deprecated and will raise a TypeError in the future. Use float(ser.iloc[0]) instead\n",
      "  DUH.iloc[i] = float(UH.iloc[i]/Q_peak)\n"
     ]
    },
    {
     "name": "stdout",
     "output_type": "stream",
     "text": [
      "The depth of direct runoff in the Unit Hydrograph is 1.0 inch.\n",
      "- - - - - - - - - - - - - - - - - - - - - - - - - - - - - - - - - -\n",
      "\n",
      "Results of the runoff event in Event_3426385_2009-03-26.csv:\n",
      "\n",
      "Directory already exists: C:/Users/mgalib/Box/Finley_UH_work/Data/TN\\UH\n",
      "Directory created: C:/Users/mgalib/Box/Finley_UH_work/Data/TN\\UH\\Event_3426385_2009-03-26\n",
      "The drainage area of the watershed is 19.85857201 mile².\n",
      "\n",
      "The time interval of the discharge data is 45.0 mins.\n",
      "\n"
     ]
    },
    {
     "name": "stderr",
     "output_type": "stream",
     "text": [
      "C:\\Users\\mgalib\\AppData\\Local\\Temp\\ipykernel_13792\\2227566579.py:73: FutureWarning: Calling float on a single element Series is deprecated and will raise a TypeError in the future. Use float(ser.iloc[0]) instead\n",
      "  directQ_in.iloc[i] = float((directQ_cfs.iloc[i-1]+directQ_cfs.iloc[i])/2*delta_t*12/(area*5280**2))\n",
      "C:\\Users\\mgalib\\AppData\\Local\\Temp\\ipykernel_13792\\2227566579.py:82: FutureWarning: Calling float on a single element Series is deprecated and will raise a TypeError in the future. Use float(ser.iloc[0]) instead\n",
      "  UH.iloc[i] = float(directQ_cfs.iloc[i]/sum_directQ_in)\n"
     ]
    },
    {
     "name": "stdout",
     "output_type": "stream",
     "text": [
      "The depth of direct runoff in the Unit Hydrograph is 1.0 inch.\n",
      "- - - - - - - - - - - - - - - - - - - - - - - - - - - - - - - - - -\n",
      "\n",
      "Results of the runoff event in Event_3426385_2009-04-03.csv:\n",
      "\n",
      "Directory already exists: C:/Users/mgalib/Box/Finley_UH_work/Data/TN\\UH\n",
      "Directory created: C:/Users/mgalib/Box/Finley_UH_work/Data/TN\\UH\\Event_3426385_2009-04-03\n",
      "The drainage area of the watershed is 19.85857201 mile².\n",
      "\n",
      "The time interval of the discharge data is 735.0 mins.\n",
      "\n"
     ]
    },
    {
     "name": "stderr",
     "output_type": "stream",
     "text": [
      "C:\\Users\\mgalib\\AppData\\Local\\Temp\\ipykernel_13792\\2227566579.py:118: FutureWarning: Calling float on a single element Series is deprecated and will raise a TypeError in the future. Use float(ser.iloc[0]) instead\n",
      "  DUH.iloc[i] = float(UH.iloc[i]/Q_peak)\n",
      "C:\\Users\\mgalib\\AppData\\Local\\Temp\\ipykernel_13792\\2227566579.py:73: FutureWarning: Calling float on a single element Series is deprecated and will raise a TypeError in the future. Use float(ser.iloc[0]) instead\n",
      "  directQ_in.iloc[i] = float((directQ_cfs.iloc[i-1]+directQ_cfs.iloc[i])/2*delta_t*12/(area*5280**2))\n",
      "C:\\Users\\mgalib\\AppData\\Local\\Temp\\ipykernel_13792\\2227566579.py:82: FutureWarning: Calling float on a single element Series is deprecated and will raise a TypeError in the future. Use float(ser.iloc[0]) instead\n",
      "  UH.iloc[i] = float(directQ_cfs.iloc[i]/sum_directQ_in)\n",
      "C:\\Users\\mgalib\\AppData\\Local\\Temp\\ipykernel_13792\\2227566579.py:118: FutureWarning: Calling float on a single element Series is deprecated and will raise a TypeError in the future. Use float(ser.iloc[0]) instead\n",
      "  DUH.iloc[i] = float(UH.iloc[i]/Q_peak)\n"
     ]
    },
    {
     "name": "stdout",
     "output_type": "stream",
     "text": [
      "The depth of direct runoff in the Unit Hydrograph is 1.0 inch.\n",
      "- - - - - - - - - - - - - - - - - - - - - - - - - - - - - - - - - -\n",
      "\n",
      "Results of the runoff event in Event_3426385_2009-04-12.csv:\n",
      "\n",
      "Directory already exists: C:/Users/mgalib/Box/Finley_UH_work/Data/TN\\UH\n",
      "Directory created: C:/Users/mgalib/Box/Finley_UH_work/Data/TN\\UH\\Event_3426385_2009-04-12\n",
      "The drainage area of the watershed is 19.85857201 mile².\n",
      "\n",
      "The time interval of the discharge data is 30.0 mins.\n",
      "\n"
     ]
    },
    {
     "name": "stderr",
     "output_type": "stream",
     "text": [
      "C:\\Users\\mgalib\\AppData\\Local\\Temp\\ipykernel_13792\\2227566579.py:73: FutureWarning: Calling float on a single element Series is deprecated and will raise a TypeError in the future. Use float(ser.iloc[0]) instead\n",
      "  directQ_in.iloc[i] = float((directQ_cfs.iloc[i-1]+directQ_cfs.iloc[i])/2*delta_t*12/(area*5280**2))\n",
      "C:\\Users\\mgalib\\AppData\\Local\\Temp\\ipykernel_13792\\2227566579.py:82: FutureWarning: Calling float on a single element Series is deprecated and will raise a TypeError in the future. Use float(ser.iloc[0]) instead\n",
      "  UH.iloc[i] = float(directQ_cfs.iloc[i]/sum_directQ_in)\n"
     ]
    },
    {
     "name": "stdout",
     "output_type": "stream",
     "text": [
      "The depth of direct runoff in the Unit Hydrograph is 1.0 inch.\n",
      "- - - - - - - - - - - - - - - - - - - - - - - - - - - - - - - - - -\n",
      "\n",
      "Results of the runoff event in Event_3426385_2009-04-22.csv:\n",
      "\n",
      "Directory already exists: C:/Users/mgalib/Box/Finley_UH_work/Data/TN\\UH\n",
      "Directory created: C:/Users/mgalib/Box/Finley_UH_work/Data/TN\\UH\\Event_3426385_2009-04-22\n",
      "The drainage area of the watershed is 19.85857201 mile².\n",
      "\n",
      "The time interval of the discharge data is 705.0 mins.\n",
      "\n"
     ]
    },
    {
     "name": "stderr",
     "output_type": "stream",
     "text": [
      "C:\\Users\\mgalib\\AppData\\Local\\Temp\\ipykernel_13792\\2227566579.py:118: FutureWarning: Calling float on a single element Series is deprecated and will raise a TypeError in the future. Use float(ser.iloc[0]) instead\n",
      "  DUH.iloc[i] = float(UH.iloc[i]/Q_peak)\n",
      "C:\\Users\\mgalib\\AppData\\Local\\Temp\\ipykernel_13792\\2227566579.py:73: FutureWarning: Calling float on a single element Series is deprecated and will raise a TypeError in the future. Use float(ser.iloc[0]) instead\n",
      "  directQ_in.iloc[i] = float((directQ_cfs.iloc[i-1]+directQ_cfs.iloc[i])/2*delta_t*12/(area*5280**2))\n",
      "C:\\Users\\mgalib\\AppData\\Local\\Temp\\ipykernel_13792\\2227566579.py:82: FutureWarning: Calling float on a single element Series is deprecated and will raise a TypeError in the future. Use float(ser.iloc[0]) instead\n",
      "  UH.iloc[i] = float(directQ_cfs.iloc[i]/sum_directQ_in)\n",
      "C:\\Users\\mgalib\\AppData\\Local\\Temp\\ipykernel_13792\\2227566579.py:118: FutureWarning: Calling float on a single element Series is deprecated and will raise a TypeError in the future. Use float(ser.iloc[0]) instead\n",
      "  DUH.iloc[i] = float(UH.iloc[i]/Q_peak)\n"
     ]
    },
    {
     "name": "stdout",
     "output_type": "stream",
     "text": [
      "The depth of direct runoff in the Unit Hydrograph is 1.0 inch.\n",
      "- - - - - - - - - - - - - - - - - - - - - - - - - - - - - - - - - -\n",
      "\n",
      "Results of the runoff event in Event_3426385_2009-04-24.csv:\n",
      "\n",
      "Directory already exists: C:/Users/mgalib/Box/Finley_UH_work/Data/TN\\UH\n",
      "Directory created: C:/Users/mgalib/Box/Finley_UH_work/Data/TN\\UH\\Event_3426385_2009-04-24\n",
      "The drainage area of the watershed is 19.85857201 mile².\n",
      "\n",
      "The time interval of the discharge data is 810.0 mins.\n",
      "\n"
     ]
    },
    {
     "name": "stderr",
     "output_type": "stream",
     "text": [
      "C:\\Users\\mgalib\\AppData\\Local\\Temp\\ipykernel_13792\\2227566579.py:73: FutureWarning: Calling float on a single element Series is deprecated and will raise a TypeError in the future. Use float(ser.iloc[0]) instead\n",
      "  directQ_in.iloc[i] = float((directQ_cfs.iloc[i-1]+directQ_cfs.iloc[i])/2*delta_t*12/(area*5280**2))\n",
      "C:\\Users\\mgalib\\AppData\\Local\\Temp\\ipykernel_13792\\2227566579.py:82: FutureWarning: Calling float on a single element Series is deprecated and will raise a TypeError in the future. Use float(ser.iloc[0]) instead\n",
      "  UH.iloc[i] = float(directQ_cfs.iloc[i]/sum_directQ_in)\n"
     ]
    },
    {
     "name": "stdout",
     "output_type": "stream",
     "text": [
      "The depth of direct runoff in the Unit Hydrograph is 1.0 inch.\n",
      "- - - - - - - - - - - - - - - - - - - - - - - - - - - - - - - - - -\n",
      "\n",
      "Results of the runoff event in Event_3426385_2009-04-25.csv:\n",
      "\n",
      "Directory already exists: C:/Users/mgalib/Box/Finley_UH_work/Data/TN\\UH\n",
      "Directory created: C:/Users/mgalib/Box/Finley_UH_work/Data/TN\\UH\\Event_3426385_2009-04-25\n",
      "The drainage area of the watershed is 19.85857201 mile².\n",
      "\n",
      "The time interval of the discharge data is 810.0 mins.\n",
      "\n"
     ]
    },
    {
     "name": "stderr",
     "output_type": "stream",
     "text": [
      "C:\\Users\\mgalib\\AppData\\Local\\Temp\\ipykernel_13792\\2227566579.py:118: FutureWarning: Calling float on a single element Series is deprecated and will raise a TypeError in the future. Use float(ser.iloc[0]) instead\n",
      "  DUH.iloc[i] = float(UH.iloc[i]/Q_peak)\n",
      "C:\\Users\\mgalib\\AppData\\Local\\Temp\\ipykernel_13792\\2227566579.py:73: FutureWarning: Calling float on a single element Series is deprecated and will raise a TypeError in the future. Use float(ser.iloc[0]) instead\n",
      "  directQ_in.iloc[i] = float((directQ_cfs.iloc[i-1]+directQ_cfs.iloc[i])/2*delta_t*12/(area*5280**2))\n",
      "C:\\Users\\mgalib\\AppData\\Local\\Temp\\ipykernel_13792\\2227566579.py:82: FutureWarning: Calling float on a single element Series is deprecated and will raise a TypeError in the future. Use float(ser.iloc[0]) instead\n",
      "  UH.iloc[i] = float(directQ_cfs.iloc[i]/sum_directQ_in)\n",
      "C:\\Users\\mgalib\\AppData\\Local\\Temp\\ipykernel_13792\\2227566579.py:118: FutureWarning: Calling float on a single element Series is deprecated and will raise a TypeError in the future. Use float(ser.iloc[0]) instead\n",
      "  DUH.iloc[i] = float(UH.iloc[i]/Q_peak)\n"
     ]
    },
    {
     "name": "stdout",
     "output_type": "stream",
     "text": [
      "The depth of direct runoff in the Unit Hydrograph is 1.0 inch.\n",
      "- - - - - - - - - - - - - - - - - - - - - - - - - - - - - - - - - -\n",
      "\n",
      "Results of the runoff event in Event_3426385_2009-04-27.csv:\n",
      "\n",
      "Directory already exists: C:/Users/mgalib/Box/Finley_UH_work/Data/TN\\UH\n",
      "Directory created: C:/Users/mgalib/Box/Finley_UH_work/Data/TN\\UH\\Event_3426385_2009-04-27\n",
      "The drainage area of the watershed is 19.85857201 mile².\n",
      "\n",
      "The time interval of the discharge data is 30.0 mins.\n",
      "\n"
     ]
    },
    {
     "name": "stderr",
     "output_type": "stream",
     "text": [
      "C:\\Users\\mgalib\\AppData\\Local\\Temp\\ipykernel_13792\\2227566579.py:73: FutureWarning: Calling float on a single element Series is deprecated and will raise a TypeError in the future. Use float(ser.iloc[0]) instead\n",
      "  directQ_in.iloc[i] = float((directQ_cfs.iloc[i-1]+directQ_cfs.iloc[i])/2*delta_t*12/(area*5280**2))\n",
      "C:\\Users\\mgalib\\AppData\\Local\\Temp\\ipykernel_13792\\2227566579.py:82: FutureWarning: Calling float on a single element Series is deprecated and will raise a TypeError in the future. Use float(ser.iloc[0]) instead\n",
      "  UH.iloc[i] = float(directQ_cfs.iloc[i]/sum_directQ_in)\n"
     ]
    },
    {
     "name": "stdout",
     "output_type": "stream",
     "text": [
      "The depth of direct runoff in the Unit Hydrograph is 1.0 inch.\n",
      "- - - - - - - - - - - - - - - - - - - - - - - - - - - - - - - - - -\n",
      "\n",
      "Results of the runoff event in Event_3426385_2009-04-29.csv:\n",
      "\n",
      "Directory already exists: C:/Users/mgalib/Box/Finley_UH_work/Data/TN\\UH\n",
      "Directory created: C:/Users/mgalib/Box/Finley_UH_work/Data/TN\\UH\\Event_3426385_2009-04-29\n",
      "The drainage area of the watershed is 19.85857201 mile².\n",
      "\n",
      "The time interval of the discharge data is 1170.0 mins.\n",
      "\n"
     ]
    },
    {
     "name": "stderr",
     "output_type": "stream",
     "text": [
      "C:\\Users\\mgalib\\AppData\\Local\\Temp\\ipykernel_13792\\2227566579.py:118: FutureWarning: Calling float on a single element Series is deprecated and will raise a TypeError in the future. Use float(ser.iloc[0]) instead\n",
      "  DUH.iloc[i] = float(UH.iloc[i]/Q_peak)\n",
      "C:\\Users\\mgalib\\AppData\\Local\\Temp\\ipykernel_13792\\2227566579.py:73: FutureWarning: Calling float on a single element Series is deprecated and will raise a TypeError in the future. Use float(ser.iloc[0]) instead\n",
      "  directQ_in.iloc[i] = float((directQ_cfs.iloc[i-1]+directQ_cfs.iloc[i])/2*delta_t*12/(area*5280**2))\n",
      "C:\\Users\\mgalib\\AppData\\Local\\Temp\\ipykernel_13792\\2227566579.py:82: FutureWarning: Calling float on a single element Series is deprecated and will raise a TypeError in the future. Use float(ser.iloc[0]) instead\n",
      "  UH.iloc[i] = float(directQ_cfs.iloc[i]/sum_directQ_in)\n",
      "C:\\Users\\mgalib\\AppData\\Local\\Temp\\ipykernel_13792\\2227566579.py:118: FutureWarning: Calling float on a single element Series is deprecated and will raise a TypeError in the future. Use float(ser.iloc[0]) instead\n",
      "  DUH.iloc[i] = float(UH.iloc[i]/Q_peak)\n"
     ]
    },
    {
     "name": "stdout",
     "output_type": "stream",
     "text": [
      "The depth of direct runoff in the Unit Hydrograph is 1.0 inch.\n",
      "- - - - - - - - - - - - - - - - - - - - - - - - - - - - - - - - - -\n",
      "\n",
      "Results of the runoff event in Event_3426385_2009-05-08.csv:\n",
      "\n",
      "Directory already exists: C:/Users/mgalib/Box/Finley_UH_work/Data/TN\\UH\n",
      "Directory created: C:/Users/mgalib/Box/Finley_UH_work/Data/TN\\UH\\Event_3426385_2009-05-08\n",
      "The drainage area of the watershed is 19.85857201 mile².\n",
      "\n",
      "The time interval of the discharge data is 120.0 mins.\n",
      "\n"
     ]
    },
    {
     "name": "stderr",
     "output_type": "stream",
     "text": [
      "C:\\Users\\mgalib\\AppData\\Local\\Temp\\ipykernel_13792\\2227566579.py:73: FutureWarning: Calling float on a single element Series is deprecated and will raise a TypeError in the future. Use float(ser.iloc[0]) instead\n",
      "  directQ_in.iloc[i] = float((directQ_cfs.iloc[i-1]+directQ_cfs.iloc[i])/2*delta_t*12/(area*5280**2))\n",
      "C:\\Users\\mgalib\\AppData\\Local\\Temp\\ipykernel_13792\\2227566579.py:82: FutureWarning: Calling float on a single element Series is deprecated and will raise a TypeError in the future. Use float(ser.iloc[0]) instead\n",
      "  UH.iloc[i] = float(directQ_cfs.iloc[i]/sum_directQ_in)\n"
     ]
    },
    {
     "name": "stdout",
     "output_type": "stream",
     "text": [
      "The depth of direct runoff in the Unit Hydrograph is 1.0 inch.\n",
      "- - - - - - - - - - - - - - - - - - - - - - - - - - - - - - - - - -\n",
      "\n",
      "Results of the runoff event in Event_3426385_2009-05-09.csv:\n",
      "\n",
      "Directory already exists: C:/Users/mgalib/Box/Finley_UH_work/Data/TN\\UH\n",
      "Directory created: C:/Users/mgalib/Box/Finley_UH_work/Data/TN\\UH\\Event_3426385_2009-05-09\n",
      "The drainage area of the watershed is 19.85857201 mile².\n",
      "\n",
      "The time interval of the discharge data is 15.0 mins.\n",
      "\n"
     ]
    },
    {
     "name": "stderr",
     "output_type": "stream",
     "text": [
      "C:\\Users\\mgalib\\AppData\\Local\\Temp\\ipykernel_13792\\2227566579.py:118: FutureWarning: Calling float on a single element Series is deprecated and will raise a TypeError in the future. Use float(ser.iloc[0]) instead\n",
      "  DUH.iloc[i] = float(UH.iloc[i]/Q_peak)\n",
      "C:\\Users\\mgalib\\AppData\\Local\\Temp\\ipykernel_13792\\2227566579.py:73: FutureWarning: Calling float on a single element Series is deprecated and will raise a TypeError in the future. Use float(ser.iloc[0]) instead\n",
      "  directQ_in.iloc[i] = float((directQ_cfs.iloc[i-1]+directQ_cfs.iloc[i])/2*delta_t*12/(area*5280**2))\n",
      "C:\\Users\\mgalib\\AppData\\Local\\Temp\\ipykernel_13792\\2227566579.py:82: FutureWarning: Calling float on a single element Series is deprecated and will raise a TypeError in the future. Use float(ser.iloc[0]) instead\n",
      "  UH.iloc[i] = float(directQ_cfs.iloc[i]/sum_directQ_in)\n",
      "C:\\Users\\mgalib\\AppData\\Local\\Temp\\ipykernel_13792\\2227566579.py:118: FutureWarning: Calling float on a single element Series is deprecated and will raise a TypeError in the future. Use float(ser.iloc[0]) instead\n",
      "  DUH.iloc[i] = float(UH.iloc[i]/Q_peak)\n"
     ]
    },
    {
     "name": "stdout",
     "output_type": "stream",
     "text": [
      "The depth of direct runoff in the Unit Hydrograph is 1.0 inch.\n",
      "- - - - - - - - - - - - - - - - - - - - - - - - - - - - - - - - - -\n",
      "\n",
      "Results of the runoff event in Event_3426385_2009-06-05.csv:\n",
      "\n",
      "Directory already exists: C:/Users/mgalib/Box/Finley_UH_work/Data/TN\\UH\n",
      "Directory created: C:/Users/mgalib/Box/Finley_UH_work/Data/TN\\UH\\Event_3426385_2009-06-05\n",
      "The drainage area of the watershed is 19.85857201 mile².\n",
      "\n",
      "The time interval of the discharge data is 75.0 mins.\n",
      "\n"
     ]
    },
    {
     "name": "stderr",
     "output_type": "stream",
     "text": [
      "C:\\Users\\mgalib\\AppData\\Local\\Temp\\ipykernel_13792\\2227566579.py:73: FutureWarning: Calling float on a single element Series is deprecated and will raise a TypeError in the future. Use float(ser.iloc[0]) instead\n",
      "  directQ_in.iloc[i] = float((directQ_cfs.iloc[i-1]+directQ_cfs.iloc[i])/2*delta_t*12/(area*5280**2))\n",
      "C:\\Users\\mgalib\\AppData\\Local\\Temp\\ipykernel_13792\\2227566579.py:82: FutureWarning: Calling float on a single element Series is deprecated and will raise a TypeError in the future. Use float(ser.iloc[0]) instead\n",
      "  UH.iloc[i] = float(directQ_cfs.iloc[i]/sum_directQ_in)\n"
     ]
    },
    {
     "name": "stdout",
     "output_type": "stream",
     "text": [
      "The depth of direct runoff in the Unit Hydrograph is 1.0 inch.\n",
      "- - - - - - - - - - - - - - - - - - - - - - - - - - - - - - - - - -\n"
     ]
    },
    {
     "name": "stderr",
     "output_type": "stream",
     "text": [
      "C:\\Users\\mgalib\\AppData\\Local\\Temp\\ipykernel_13792\\2227566579.py:118: FutureWarning: Calling float on a single element Series is deprecated and will raise a TypeError in the future. Use float(ser.iloc[0]) instead\n",
      "  DUH.iloc[i] = float(UH.iloc[i]/Q_peak)\n"
     ]
    },
    {
     "name": "stdout",
     "output_type": "stream",
     "text": [
      "\n",
      "Results of the runoff event in Event_3426385_2009-06-28.csv:\n",
      "\n",
      "Directory already exists: C:/Users/mgalib/Box/Finley_UH_work/Data/TN\\UH\n",
      "Directory created: C:/Users/mgalib/Box/Finley_UH_work/Data/TN\\UH\\Event_3426385_2009-06-28\n",
      "The drainage area of the watershed is 19.85857201 mile².\n",
      "\n",
      "The time interval of the discharge data is 345.0 mins.\n",
      "\n"
     ]
    },
    {
     "name": "stderr",
     "output_type": "stream",
     "text": [
      "C:\\Users\\mgalib\\AppData\\Local\\Temp\\ipykernel_13792\\2227566579.py:73: FutureWarning: Calling float on a single element Series is deprecated and will raise a TypeError in the future. Use float(ser.iloc[0]) instead\n",
      "  directQ_in.iloc[i] = float((directQ_cfs.iloc[i-1]+directQ_cfs.iloc[i])/2*delta_t*12/(area*5280**2))\n",
      "C:\\Users\\mgalib\\AppData\\Local\\Temp\\ipykernel_13792\\2227566579.py:82: FutureWarning: Calling float on a single element Series is deprecated and will raise a TypeError in the future. Use float(ser.iloc[0]) instead\n",
      "  UH.iloc[i] = float(directQ_cfs.iloc[i]/sum_directQ_in)\n"
     ]
    },
    {
     "name": "stdout",
     "output_type": "stream",
     "text": [
      "The depth of direct runoff in the Unit Hydrograph is 1.0 inch.\n",
      "- - - - - - - - - - - - - - - - - - - - - - - - - - - - - - - - - -\n",
      "\n",
      "Results of the runoff event in Event_3426470_2006-04-14.csv:\n",
      "\n",
      "Directory already exists: C:/Users/mgalib/Box/Finley_UH_work/Data/TN\\UH\n",
      "Directory created: C:/Users/mgalib/Box/Finley_UH_work/Data/TN\\UH\\Event_3426470_2006-04-14\n",
      "The drainage area of the watershed is 8.74448203 mile².\n",
      "\n",
      "The time interval of the discharge data is 525.0 mins.\n",
      "\n"
     ]
    },
    {
     "name": "stderr",
     "output_type": "stream",
     "text": [
      "C:\\Users\\mgalib\\AppData\\Local\\Temp\\ipykernel_13792\\2227566579.py:118: FutureWarning: Calling float on a single element Series is deprecated and will raise a TypeError in the future. Use float(ser.iloc[0]) instead\n",
      "  DUH.iloc[i] = float(UH.iloc[i]/Q_peak)\n",
      "C:\\Users\\mgalib\\AppData\\Local\\Temp\\ipykernel_13792\\2227566579.py:73: FutureWarning: Calling float on a single element Series is deprecated and will raise a TypeError in the future. Use float(ser.iloc[0]) instead\n",
      "  directQ_in.iloc[i] = float((directQ_cfs.iloc[i-1]+directQ_cfs.iloc[i])/2*delta_t*12/(area*5280**2))\n",
      "C:\\Users\\mgalib\\AppData\\Local\\Temp\\ipykernel_13792\\2227566579.py:82: FutureWarning: Calling float on a single element Series is deprecated and will raise a TypeError in the future. Use float(ser.iloc[0]) instead\n",
      "  UH.iloc[i] = float(directQ_cfs.iloc[i]/sum_directQ_in)\n",
      "C:\\Users\\mgalib\\AppData\\Local\\Temp\\ipykernel_13792\\2227566579.py:118: FutureWarning: Calling float on a single element Series is deprecated and will raise a TypeError in the future. Use float(ser.iloc[0]) instead\n",
      "  DUH.iloc[i] = float(UH.iloc[i]/Q_peak)\n"
     ]
    },
    {
     "name": "stdout",
     "output_type": "stream",
     "text": [
      "The depth of direct runoff in the Unit Hydrograph is 1.0 inch.\n",
      "- - - - - - - - - - - - - - - - - - - - - - - - - - - - - - - - - -\n",
      "\n",
      "Results of the runoff event in Event_3430147_2003-06-11.csv:\n",
      "\n",
      "Directory already exists: C:/Users/mgalib/Box/Finley_UH_work/Data/TN\\UH\n",
      "Directory created: C:/Users/mgalib/Box/Finley_UH_work/Data/TN\\UH\\Event_3430147_2003-06-11\n",
      "The drainage area of the watershed is 20.89073166 mile².\n",
      "\n",
      "The time interval of the discharge data is 150.0 mins.\n",
      "\n"
     ]
    },
    {
     "name": "stderr",
     "output_type": "stream",
     "text": [
      "C:\\Users\\mgalib\\AppData\\Local\\Temp\\ipykernel_13792\\2227566579.py:73: FutureWarning: Calling float on a single element Series is deprecated and will raise a TypeError in the future. Use float(ser.iloc[0]) instead\n",
      "  directQ_in.iloc[i] = float((directQ_cfs.iloc[i-1]+directQ_cfs.iloc[i])/2*delta_t*12/(area*5280**2))\n",
      "C:\\Users\\mgalib\\AppData\\Local\\Temp\\ipykernel_13792\\2227566579.py:82: FutureWarning: Calling float on a single element Series is deprecated and will raise a TypeError in the future. Use float(ser.iloc[0]) instead\n",
      "  UH.iloc[i] = float(directQ_cfs.iloc[i]/sum_directQ_in)\n"
     ]
    },
    {
     "name": "stdout",
     "output_type": "stream",
     "text": [
      "The depth of direct runoff in the Unit Hydrograph is 1.0 inch.\n",
      "- - - - - - - - - - - - - - - - - - - - - - - - - - - - - - - - - -\n",
      "\n",
      "Results of the runoff event in Event_3430147_2003-06-23.csv:\n",
      "\n",
      "Directory already exists: C:/Users/mgalib/Box/Finley_UH_work/Data/TN\\UH\n",
      "Directory created: C:/Users/mgalib/Box/Finley_UH_work/Data/TN\\UH\\Event_3430147_2003-06-23\n",
      "The drainage area of the watershed is 20.89073166 mile².\n",
      "\n",
      "The time interval of the discharge data is 180.0 mins.\n",
      "\n"
     ]
    },
    {
     "name": "stderr",
     "output_type": "stream",
     "text": [
      "C:\\Users\\mgalib\\AppData\\Local\\Temp\\ipykernel_13792\\2227566579.py:118: FutureWarning: Calling float on a single element Series is deprecated and will raise a TypeError in the future. Use float(ser.iloc[0]) instead\n",
      "  DUH.iloc[i] = float(UH.iloc[i]/Q_peak)\n",
      "C:\\Users\\mgalib\\AppData\\Local\\Temp\\ipykernel_13792\\2227566579.py:73: FutureWarning: Calling float on a single element Series is deprecated and will raise a TypeError in the future. Use float(ser.iloc[0]) instead\n",
      "  directQ_in.iloc[i] = float((directQ_cfs.iloc[i-1]+directQ_cfs.iloc[i])/2*delta_t*12/(area*5280**2))\n",
      "C:\\Users\\mgalib\\AppData\\Local\\Temp\\ipykernel_13792\\2227566579.py:82: FutureWarning: Calling float on a single element Series is deprecated and will raise a TypeError in the future. Use float(ser.iloc[0]) instead\n",
      "  UH.iloc[i] = float(directQ_cfs.iloc[i]/sum_directQ_in)\n",
      "C:\\Users\\mgalib\\AppData\\Local\\Temp\\ipykernel_13792\\2227566579.py:118: FutureWarning: Calling float on a single element Series is deprecated and will raise a TypeError in the future. Use float(ser.iloc[0]) instead\n",
      "  DUH.iloc[i] = float(UH.iloc[i]/Q_peak)\n"
     ]
    },
    {
     "name": "stdout",
     "output_type": "stream",
     "text": [
      "The depth of direct runoff in the Unit Hydrograph is 1.0 inch.\n",
      "- - - - - - - - - - - - - - - - - - - - - - - - - - - - - - - - - -\n",
      "\n",
      "Results of the runoff event in Event_3430147_2003-07-06.csv:\n",
      "\n",
      "Directory already exists: C:/Users/mgalib/Box/Finley_UH_work/Data/TN\\UH\n",
      "Directory created: C:/Users/mgalib/Box/Finley_UH_work/Data/TN\\UH\\Event_3430147_2003-07-06\n",
      "The drainage area of the watershed is 20.89073166 mile².\n",
      "\n",
      "The time interval of the discharge data is 150.0 mins.\n",
      "\n"
     ]
    },
    {
     "name": "stderr",
     "output_type": "stream",
     "text": [
      "C:\\Users\\mgalib\\AppData\\Local\\Temp\\ipykernel_13792\\2227566579.py:73: FutureWarning: Calling float on a single element Series is deprecated and will raise a TypeError in the future. Use float(ser.iloc[0]) instead\n",
      "  directQ_in.iloc[i] = float((directQ_cfs.iloc[i-1]+directQ_cfs.iloc[i])/2*delta_t*12/(area*5280**2))\n",
      "C:\\Users\\mgalib\\AppData\\Local\\Temp\\ipykernel_13792\\2227566579.py:82: FutureWarning: Calling float on a single element Series is deprecated and will raise a TypeError in the future. Use float(ser.iloc[0]) instead\n",
      "  UH.iloc[i] = float(directQ_cfs.iloc[i]/sum_directQ_in)\n"
     ]
    },
    {
     "name": "stdout",
     "output_type": "stream",
     "text": [
      "The depth of direct runoff in the Unit Hydrograph is 1.0 inch.\n",
      "- - - - - - - - - - - - - - - - - - - - - - - - - - - - - - - - - -\n",
      "\n",
      "Results of the runoff event in Event_3430147_2003-07-24.csv:\n",
      "\n",
      "Directory already exists: C:/Users/mgalib/Box/Finley_UH_work/Data/TN\\UH\n",
      "Directory created: C:/Users/mgalib/Box/Finley_UH_work/Data/TN\\UH\\Event_3430147_2003-07-24\n",
      "The drainage area of the watershed is 20.89073166 mile².\n",
      "\n",
      "The time interval of the discharge data is 45.0 mins.\n",
      "\n"
     ]
    },
    {
     "name": "stderr",
     "output_type": "stream",
     "text": [
      "C:\\Users\\mgalib\\AppData\\Local\\Temp\\ipykernel_13792\\2227566579.py:118: FutureWarning: Calling float on a single element Series is deprecated and will raise a TypeError in the future. Use float(ser.iloc[0]) instead\n",
      "  DUH.iloc[i] = float(UH.iloc[i]/Q_peak)\n",
      "C:\\Users\\mgalib\\AppData\\Local\\Temp\\ipykernel_13792\\2227566579.py:73: FutureWarning: Calling float on a single element Series is deprecated and will raise a TypeError in the future. Use float(ser.iloc[0]) instead\n",
      "  directQ_in.iloc[i] = float((directQ_cfs.iloc[i-1]+directQ_cfs.iloc[i])/2*delta_t*12/(area*5280**2))\n",
      "C:\\Users\\mgalib\\AppData\\Local\\Temp\\ipykernel_13792\\2227566579.py:82: FutureWarning: Calling float on a single element Series is deprecated and will raise a TypeError in the future. Use float(ser.iloc[0]) instead\n",
      "  UH.iloc[i] = float(directQ_cfs.iloc[i]/sum_directQ_in)\n",
      "C:\\Users\\mgalib\\AppData\\Local\\Temp\\ipykernel_13792\\2227566579.py:118: FutureWarning: Calling float on a single element Series is deprecated and will raise a TypeError in the future. Use float(ser.iloc[0]) instead\n",
      "  DUH.iloc[i] = float(UH.iloc[i]/Q_peak)\n"
     ]
    },
    {
     "name": "stdout",
     "output_type": "stream",
     "text": [
      "The depth of direct runoff in the Unit Hydrograph is 1.0 inch.\n",
      "- - - - - - - - - - - - - - - - - - - - - - - - - - - - - - - - - -\n",
      "\n",
      "Results of the runoff event in Event_3430147_2003-07-27.csv:\n",
      "\n",
      "Directory already exists: C:/Users/mgalib/Box/Finley_UH_work/Data/TN\\UH\n",
      "Directory created: C:/Users/mgalib/Box/Finley_UH_work/Data/TN\\UH\\Event_3430147_2003-07-27\n",
      "The drainage area of the watershed is 20.89073166 mile².\n",
      "\n",
      "The time interval of the discharge data is 45.0 mins.\n",
      "\n"
     ]
    },
    {
     "name": "stderr",
     "output_type": "stream",
     "text": [
      "C:\\Users\\mgalib\\AppData\\Local\\Temp\\ipykernel_13792\\2227566579.py:73: FutureWarning: Calling float on a single element Series is deprecated and will raise a TypeError in the future. Use float(ser.iloc[0]) instead\n",
      "  directQ_in.iloc[i] = float((directQ_cfs.iloc[i-1]+directQ_cfs.iloc[i])/2*delta_t*12/(area*5280**2))\n",
      "C:\\Users\\mgalib\\AppData\\Local\\Temp\\ipykernel_13792\\2227566579.py:82: FutureWarning: Calling float on a single element Series is deprecated and will raise a TypeError in the future. Use float(ser.iloc[0]) instead\n",
      "  UH.iloc[i] = float(directQ_cfs.iloc[i]/sum_directQ_in)\n"
     ]
    },
    {
     "name": "stdout",
     "output_type": "stream",
     "text": [
      "The depth of direct runoff in the Unit Hydrograph is 1.0 inch.\n",
      "- - - - - - - - - - - - - - - - - - - - - - - - - - - - - - - - - -\n",
      "\n",
      "Results of the runoff event in Event_3430147_2003-08-23.csv:\n",
      "\n",
      "Directory already exists: C:/Users/mgalib/Box/Finley_UH_work/Data/TN\\UH\n",
      "Directory created: C:/Users/mgalib/Box/Finley_UH_work/Data/TN\\UH\\Event_3430147_2003-08-23\n",
      "The drainage area of the watershed is 20.89073166 mile².\n",
      "\n",
      "The time interval of the discharge data is 240.0 mins.\n",
      "\n"
     ]
    },
    {
     "name": "stderr",
     "output_type": "stream",
     "text": [
      "C:\\Users\\mgalib\\AppData\\Local\\Temp\\ipykernel_13792\\2227566579.py:118: FutureWarning: Calling float on a single element Series is deprecated and will raise a TypeError in the future. Use float(ser.iloc[0]) instead\n",
      "  DUH.iloc[i] = float(UH.iloc[i]/Q_peak)\n",
      "C:\\Users\\mgalib\\AppData\\Local\\Temp\\ipykernel_13792\\2227566579.py:73: FutureWarning: Calling float on a single element Series is deprecated and will raise a TypeError in the future. Use float(ser.iloc[0]) instead\n",
      "  directQ_in.iloc[i] = float((directQ_cfs.iloc[i-1]+directQ_cfs.iloc[i])/2*delta_t*12/(area*5280**2))\n",
      "C:\\Users\\mgalib\\AppData\\Local\\Temp\\ipykernel_13792\\2227566579.py:82: FutureWarning: Calling float on a single element Series is deprecated and will raise a TypeError in the future. Use float(ser.iloc[0]) instead\n",
      "  UH.iloc[i] = float(directQ_cfs.iloc[i]/sum_directQ_in)\n",
      "C:\\Users\\mgalib\\AppData\\Local\\Temp\\ipykernel_13792\\2227566579.py:118: FutureWarning: Calling float on a single element Series is deprecated and will raise a TypeError in the future. Use float(ser.iloc[0]) instead\n",
      "  DUH.iloc[i] = float(UH.iloc[i]/Q_peak)\n"
     ]
    },
    {
     "name": "stdout",
     "output_type": "stream",
     "text": [
      "The depth of direct runoff in the Unit Hydrograph is 1.0 inch.\n",
      "- - - - - - - - - - - - - - - - - - - - - - - - - - - - - - - - - -\n",
      "\n",
      "Results of the runoff event in Event_3430147_2003-08-24.csv:\n",
      "\n",
      "Directory already exists: C:/Users/mgalib/Box/Finley_UH_work/Data/TN\\UH\n",
      "Directory created: C:/Users/mgalib/Box/Finley_UH_work/Data/TN\\UH\\Event_3430147_2003-08-24\n",
      "The drainage area of the watershed is 20.89073166 mile².\n",
      "\n",
      "The time interval of the discharge data is 240.0 mins.\n",
      "\n"
     ]
    },
    {
     "name": "stderr",
     "output_type": "stream",
     "text": [
      "C:\\Users\\mgalib\\AppData\\Local\\Temp\\ipykernel_13792\\2227566579.py:73: FutureWarning: Calling float on a single element Series is deprecated and will raise a TypeError in the future. Use float(ser.iloc[0]) instead\n",
      "  directQ_in.iloc[i] = float((directQ_cfs.iloc[i-1]+directQ_cfs.iloc[i])/2*delta_t*12/(area*5280**2))\n",
      "C:\\Users\\mgalib\\AppData\\Local\\Temp\\ipykernel_13792\\2227566579.py:82: FutureWarning: Calling float on a single element Series is deprecated and will raise a TypeError in the future. Use float(ser.iloc[0]) instead\n",
      "  UH.iloc[i] = float(directQ_cfs.iloc[i]/sum_directQ_in)\n"
     ]
    },
    {
     "name": "stdout",
     "output_type": "stream",
     "text": [
      "The depth of direct runoff in the Unit Hydrograph is 1.0 inch.\n",
      "- - - - - - - - - - - - - - - - - - - - - - - - - - - - - - - - - -\n"
     ]
    },
    {
     "name": "stderr",
     "output_type": "stream",
     "text": [
      "C:\\Users\\mgalib\\AppData\\Local\\Temp\\ipykernel_13792\\2227566579.py:118: FutureWarning: Calling float on a single element Series is deprecated and will raise a TypeError in the future. Use float(ser.iloc[0]) instead\n",
      "  DUH.iloc[i] = float(UH.iloc[i]/Q_peak)\n"
     ]
    },
    {
     "name": "stdout",
     "output_type": "stream",
     "text": [
      "\n",
      "Results of the runoff event in Event_3430147_2004-03-22.csv:\n",
      "\n",
      "Directory already exists: C:/Users/mgalib/Box/Finley_UH_work/Data/TN\\UH\n",
      "Directory created: C:/Users/mgalib/Box/Finley_UH_work/Data/TN\\UH\\Event_3430147_2004-03-22\n",
      "The drainage area of the watershed is 20.89073166 mile².\n",
      "\n",
      "The time interval of the discharge data is 15.0 mins.\n",
      "\n"
     ]
    },
    {
     "name": "stderr",
     "output_type": "stream",
     "text": [
      "C:\\Users\\mgalib\\AppData\\Local\\Temp\\ipykernel_13792\\2227566579.py:73: FutureWarning: Calling float on a single element Series is deprecated and will raise a TypeError in the future. Use float(ser.iloc[0]) instead\n",
      "  directQ_in.iloc[i] = float((directQ_cfs.iloc[i-1]+directQ_cfs.iloc[i])/2*delta_t*12/(area*5280**2))\n",
      "C:\\Users\\mgalib\\AppData\\Local\\Temp\\ipykernel_13792\\2227566579.py:82: FutureWarning: Calling float on a single element Series is deprecated and will raise a TypeError in the future. Use float(ser.iloc[0]) instead\n",
      "  UH.iloc[i] = float(directQ_cfs.iloc[i]/sum_directQ_in)\n"
     ]
    },
    {
     "name": "stdout",
     "output_type": "stream",
     "text": [
      "The depth of direct runoff in the Unit Hydrograph is 0.0 inch.\n",
      "Note: The ordinates of UH shall be adjusted by proportion so that the depth of direct runoff is 1 inch!\n",
      "\n",
      "- - - - - - - - - - - - - - - - - - - - - - - - - - - - - - - - - -\n"
     ]
    },
    {
     "ename": "IndexError",
     "evalue": "index 0 is out of bounds for axis 0 with size 0",
     "output_type": "error",
     "traceback": [
      "\u001b[1;31m---------------------------------------------------------------------------\u001b[0m",
      "\u001b[1;31mIndexError\u001b[0m                                Traceback (most recent call last)",
      "Cell \u001b[1;32mIn[2], line 111\u001b[0m\n\u001b[0;32m    108\u001b[0m \u001b[38;5;66;03m# generate the Dimensionless Unit Hydrograph, save as CSV & JPEG in the \"UH\" folder\u001b[39;00m\n\u001b[0;32m    110\u001b[0m Q_peak \u001b[38;5;241m=\u001b[39m UH\u001b[38;5;241m.\u001b[39miloc[:,\u001b[38;5;241m0\u001b[39m]\u001b[38;5;241m.\u001b[39mmax()\n\u001b[1;32m--> 111\u001b[0m T_peak \u001b[38;5;241m=\u001b[39m UH[UH\u001b[38;5;241m.\u001b[39miloc[:,\u001b[38;5;241m0\u001b[39m]\u001b[38;5;241m==\u001b[39mQ_peak]\u001b[38;5;241m.\u001b[39mindex[\u001b[38;5;241m0\u001b[39m]\n\u001b[0;32m    113\u001b[0m index_dl \u001b[38;5;241m=\u001b[39m index\u001b[38;5;241m/\u001b[39mT_peak\n\u001b[0;32m    115\u001b[0m DUH \u001b[38;5;241m=\u001b[39m pd\u001b[38;5;241m.\u001b[39mDataFrame(\u001b[38;5;241m0.0\u001b[39m, index\u001b[38;5;241m=\u001b[39mindex_dl, columns\u001b[38;5;241m=\u001b[39m[\u001b[38;5;124m'\u001b[39m\u001b[38;5;124mQ/Qp\u001b[39m\u001b[38;5;124m'\u001b[39m])\n",
      "File \u001b[1;32mc:\\temp\\envs\\purdue\\Lib\\site-packages\\pandas\\core\\indexes\\base.py:5389\u001b[0m, in \u001b[0;36mIndex.__getitem__\u001b[1;34m(self, key)\u001b[0m\n\u001b[0;32m   5386\u001b[0m \u001b[38;5;28;01mif\u001b[39;00m is_integer(key) \u001b[38;5;129;01mor\u001b[39;00m is_float(key):\n\u001b[0;32m   5387\u001b[0m     \u001b[38;5;66;03m# GH#44051 exclude bool, which would return a 2d ndarray\u001b[39;00m\n\u001b[0;32m   5388\u001b[0m     key \u001b[38;5;241m=\u001b[39m com\u001b[38;5;241m.\u001b[39mcast_scalar_indexer(key)\n\u001b[1;32m-> 5389\u001b[0m     \u001b[38;5;28;01mreturn\u001b[39;00m getitem(key)\n\u001b[0;32m   5391\u001b[0m \u001b[38;5;28;01mif\u001b[39;00m \u001b[38;5;28misinstance\u001b[39m(key, \u001b[38;5;28mslice\u001b[39m):\n\u001b[0;32m   5392\u001b[0m     \u001b[38;5;66;03m# This case is separated from the conditional above to avoid\u001b[39;00m\n\u001b[0;32m   5393\u001b[0m     \u001b[38;5;66;03m# pessimization com.is_bool_indexer and ndim checks.\u001b[39;00m\n\u001b[0;32m   5394\u001b[0m     \u001b[38;5;28;01mreturn\u001b[39;00m \u001b[38;5;28mself\u001b[39m\u001b[38;5;241m.\u001b[39m_getitem_slice(key)\n",
      "\u001b[1;31mIndexError\u001b[0m: index 0 is out of bounds for axis 0 with size 0"
     ]
    }
   ],
   "source": [
    "def ResultsFolder(folder_path):\n",
    "    \"\"\" Ensure that a directory exists at the given path, and if not, create it. \"\"\"\n",
    "    if not os.path.exists(folder_path):\n",
    "        os.makedirs(folder_path)\n",
    "        print(f\"Directory created: {folder_path}\")\n",
    "    else:\n",
    "        print(f\"Directory already exists: {folder_path}\")\n",
    "\n",
    "# obtain the file name of the flood event(.csv)\n",
    "\n",
    "rawdata_folder = 'C:/Users/mgalib/Box/Finley_UH_work/Data/TN/rainfall-runoff-events_TN/'\n",
    "direct = 'C:/Users/mgalib/Box/Finley_UH_work/Data/TN'\n",
    "#folder_path = r'.\\raw_data'\n",
    "filename = os.listdir(rawdata_folder)\n",
    "\n",
    "# create a dataframe to store PRF of all the runoff events\n",
    "\n",
    "PRF = pd.DataFrame(0, index=filename,columns=['PRF'])\n",
    "PRF.index.name = 'File_Name'\n",
    "\n",
    "for file in filename:\n",
    "    rawdata = pd.read_csv(rawdata_folder + file)\n",
    "\n",
    "    print(\"\\nResults of the runoff event in \" + file + \":\\n\")\n",
    "\n",
    "    file = file.split(\".\")[0]\n",
    "\n",
    "    # Assuming 'direct' is defined somewhere above this snippet as your base directory path\n",
    "    Folder0 = os.path.join(direct, 'UH')\n",
    "    ResultsFolder(Folder0)  # Ensure this folder exists or create it\n",
    "\n",
    "   \n",
    "    Folder1 = os.path.join(direct, 'UH', file)\n",
    "    ResultsFolder(Folder1)  # Ensure this folder exists or create it\n",
    "\n",
    "        # obtain the drainage area of the watershed\n",
    "    # the value of area is stored in the second row and third column in the original file\n",
    "\n",
    "    # Correctly accessing the 'Area' column for the first row\n",
    "    area = rawdata.loc[0, 'Area']\n",
    "   \n",
    "    print(\"The drainage area of the watershed is \" + str(area) + \" mile\\u00b2.\\n\".format())\n",
    "\n",
    "    # compute the time interval (in seconds) of the discharge data\n",
    "\n",
    "    rawdata.iloc[:,0] = pd.to_datetime(rawdata.iloc[:,0])\n",
    "    delta_t = (rawdata.iloc[1,0] - rawdata.iloc[0,0]).seconds\n",
    "    print(\"The time interval of the discharge data is \" + str(delta_t/60) + \" mins.\\n\")\n",
    "\n",
    "    # create a new time index in days\n",
    "\n",
    "    index = np.linspace(0,delta_t/86400*(len(rawdata)-1),len(rawdata))\n",
    "\n",
    "    # compute the direct runoff(cfs)\n",
    "    # separate baseflow with straight line method and assign the first value as baseflow\n",
    "\n",
    "    baseflow = rawdata.iloc[0,1]\n",
    "\n",
    "    directQ_cfs = pd.DataFrame(0.0, index=index, columns=['Direct_runoff_cfs'])\n",
    "\n",
    "    for i in range(len(rawdata)):\n",
    "        if rawdata.iloc[i,1] - baseflow < 0:\n",
    "            directQ_cfs.iloc[i] = 0\n",
    "        else:\n",
    "            directQ_cfs.iloc[i] = rawdata.iloc[i,1] - baseflow   \n",
    "\n",
    "    # compute the depth of the direct runoff(in)\n",
    "\n",
    "    directQ_in = pd.DataFrame(0.0, index=index, columns=['Direct_runoff_in'])\n",
    "\n",
    "    for i in range(1,len(rawdata)):\n",
    "        # 1 mile = 5280 ft, and 1 ft = 12 in\n",
    "        directQ_in.iloc[i] = float((directQ_cfs.iloc[i-1]+directQ_cfs.iloc[i])/2*delta_t*12/(area*5280**2))\n",
    "\n",
    "    # derive the Unit Hydrograph(cfs/in), save as CSV & JPEG in the \"UH\" folder\n",
    "\n",
    "    sum_directQ_in = float(directQ_in.iloc[:,0].sum())\n",
    "\n",
    "    UH = pd.DataFrame(0.0, index=index, columns=['UH_cfs/in'])\n",
    "\n",
    "    for i in range(len(rawdata)):\n",
    "        UH.iloc[i] = float(directQ_cfs.iloc[i]/sum_directQ_in)\n",
    "\n",
    "    UH.index.name = 'Days'\n",
    "\n",
    "    UH.to_csv(Folder1 + \"Unit Hydrograph of \" + file + \".csv\")\n",
    "\n",
    "    UH.plot(figsize=(12,6))\n",
    "    plt.title(\"Unit Hydrograph of \"+ file)\n",
    "    plt.legend([\"Discharge\"], loc='best',edgecolor='k')\n",
    "    plt.xlabel(\"Days\")\n",
    "    plt.ylabel(\"Discharge (cfs/in)\")\n",
    "    plt.savefig(Folder1 + \"Unit Hydrograph of \" + file + \".jpeg\")\n",
    "    plt.close()\n",
    "\n",
    "    # check whether the depth of the UH is equal to 1 inch\n",
    "\n",
    "    depth_UH = UH.iloc[:,0].sum()*delta_t*12/(area*5280**2)\n",
    "    depth_UH = round(depth_UH,1)\n",
    "\n",
    "    print(\"The depth of direct runoff in the Unit Hydrograph is \" + str(depth_UH) + \" inch.\")\n",
    "\n",
    "    if depth_UH != 1.0:\n",
    "        print(\"Note: The ordinates of UH shall be adjusted by proportion so that the depth of direct runoff is 1 inch!\\n\")\n",
    "\n",
    "    print(\"- - - - - - - - - - - - - - - - - - - - - - - - - - - - - - - - - -\")\n",
    "    \n",
    "    # generate the Dimensionless Unit Hydrograph, save as CSV & JPEG in the \"UH\" folder\n",
    "\n",
    "    Q_peak = UH.iloc[:,0].max()\n",
    "    T_peak = UH[UH.iloc[:,0]==Q_peak].index[0]\n",
    "\n",
    "    index_dl = index/T_peak\n",
    "\n",
    "    DUH = pd.DataFrame(0.0, index=index_dl, columns=['Q/Qp'])\n",
    "\n",
    "    for i in range(len(rawdata)):\n",
    "        DUH.iloc[i] = float(UH.iloc[i]/Q_peak)\n",
    "\n",
    "    DUH.index.name = 't/Tp'\n",
    "\n",
    "    DUH.to_csv(Folder1 + \"Dimensionless Unit Hydrograph of \" + file + \".csv\")\n",
    "\n",
    "    DUH.plot(figsize=(12,6))\n",
    "    plt.title(\"Dimensionless Unit Hydrograph of \" + file)\n",
    "    plt.legend([\"DUH\"], loc='best',edgecolor='k')\n",
    "    plt.xlabel(\"t / Tp\")\n",
    "    plt.ylabel(\"Q / Qp\")\n",
    "    plt.savefig(Folder1 + \"Dimensionless Unit Hydrograph of \" + file + \".jpeg\")\n",
    "    plt.close()\n",
    "\n",
    "    # compute PRF based on the UH\n",
    "\n",
    "    PRF.loc[file+\".csv\"] = round(float(Q_peak*T_peak*24/area))\n",
    "\n",
    "# save PRF of all the runoff events as CSV in the \"UH\" folder\n",
    "\n",
    "csv_file_path = os.path.join(Folder0, \"PRF of Watersheds.csv\")\n",
    "PRF.to_csv(csv_file_path)\n",
    "\n",
    "print(\"UH derivation for the \" + str(len(filename)) + \" runoff events is done!\")\n"
   ]
  }
 ],
 "metadata": {
  "kernelspec": {
   "display_name": "Python 3",
   "language": "python",
   "name": "python3"
  },
  "language_info": {
   "codemirror_mode": {
    "name": "ipython",
    "version": 3
   },
   "file_extension": ".py",
   "mimetype": "text/x-python",
   "name": "python",
   "nbconvert_exporter": "python",
   "pygments_lexer": "ipython3",
   "version": "3.11.7"
  }
 },
 "nbformat": 4,
 "nbformat_minor": 2
}
