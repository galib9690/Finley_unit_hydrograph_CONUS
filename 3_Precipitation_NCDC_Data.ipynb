{
 "cells": [
  {
   "cell_type": "code",
   "execution_count": 3,
   "metadata": {},
   "outputs": [],
   "source": [
    "# - - - - - - - - - - - - - - - - - - - - - - - - - - - - - - - - - - - - - -\n",
    "#\n",
    "# \n",
    "#\n",
    "# Script to download and visualize the precipitation data from NCDC, NOAA\n",
    "#\n",
    "#         \n",
    "#\n",
    "# - - - - - - - - - - - - - - - - - - - - - - - - - - - - - - - - - - - - - -\n",
    "\n",
    "import os\n",
    "import pandas as pd\n",
    "import numpy as np\n",
    "import matplotlib.pyplot as plt\n",
    "from cdo_api_py import Client\n",
    "\n"
   ]
  },
  {
   "cell_type": "code",
   "execution_count": 16,
   "metadata": {},
   "outputs": [],
   "source": [
    "\n",
    "# Define a function to create folders\n",
    "def ResultsFolder(Folder):\n",
    "    if not os.path.exists(Folder):\n",
    "        os.makedirs(Folder)\n",
    "\n",
    "# Define a function to delete empty folders\n",
    "def delete_empty(path):\n",
    "    for folder_name in os.listdir(path):\n",
    "        folder_path = os.path.join(path, folder_name)\n",
    "        if os.path.isdir(folder_path):\n",
    "            try:\n",
    "                os.rmdir(folder_path)\n",
    "                print(f\"* Deleted empty folder: {folder_path}\")\n",
    "            except OSError:\n",
    "                # The folder is not empty or there is no permission to delete it\n",
    "                pass\n",
    "# Define a function to get precipitation data\n",
    "def GetRain(USGS_Gauge, start_date, end_date, extent,Folder1,Folder2):\n",
    "    my_client = Client(my_token, default_units=\"standard\", default_limit=1000)\n",
    "    datasetid = \"PRECIP_15\"\n",
    "   # Folder1 = f'C:/Users/mgalib/Box/Finley_UH_work/Data/TN/Precipitation_data/Raw_Rainfall_Data_{USGS_Gauge}_{start_date}/'\n",
    "    ResultsFolder(Folder1)\n",
    "\n",
    "    try:\n",
    "        stations = my_client.find_stations(datasetid=datasetid,\n",
    "                                           extent=extent,\n",
    "                                           startdate=pd.to_datetime(start_date),\n",
    "                                           enddate=pd.to_datetime(end_date),\n",
    "                                           return_dataframe=True)\n",
    "        if stations.empty:\n",
    "            raise ValueError(\"No stations found in the initial extent.\")\n",
    "    except Exception as e:\n",
    "        print(f\"No stations found for {USGS_Gauge} within the given extent: {extent}\")\n",
    "        print(\"Attempting to expand the extent by 0.2 degrees...\")\n",
    "        for key in ['north', 'south', 'east', 'west']:\n",
    "            if 'north' == key or 'east' == key:\n",
    "                extent[key] += 0.2\n",
    "            else:\n",
    "                extent[key] -= 0.2\n",
    "        stations = my_client.find_stations(datasetid=datasetid,\n",
    "                                           extent=extent,\n",
    "                                           startdate=pd.to_datetime(start_date),\n",
    "                                           enddate=pd.to_datetime(end_date),\n",
    "                                           return_dataframe=True)\n",
    "        if stations.empty:\n",
    "            print(\"No stations found even after expanding the extent. Skipping this gauge.\")\n",
    "            return  # Exiting the function if no stations are found after extent adjustment\n",
    "\n",
    "\n",
    "    rainfall = []\n",
    "    for stationid in stations.id:\n",
    "        station_id = stationid.split(\":\")[1]\n",
    "        csv_path = Folder1 + datasetid + \"min_COOP_\" + station_id + \".csv\"\n",
    "        try:\n",
    "            raw_rainfall = my_client.get_data_by_station(datasetid=datasetid, stationid=stationid, startdate=pd.to_datetime(start_date), enddate=pd.to_datetime(end_date), return_dataframe=True)\n",
    "            raw_rainfall.to_csv(csv_path)\n",
    "            df = pd.read_csv(csv_path)\n",
    "            df = df[['date', 'QPCP']]\n",
    "            rainfall.append(df)\n",
    "        except Exception as msg:\n",
    "            print(f\"Warnings for {USGS_Gauge}: {msg}\")\n",
    "            continue\n",
    "\n",
    "    if not rainfall:\n",
    "        print(f\"No valid data collected for {USGS_Gauge}. Exiting process.\")\n",
    "        return\n",
    "\n",
    "    rainfall = pd.concat(rainfall, axis=0, ignore_index=True)\n",
    "    rainfall.to_csv(Folder1 + 'rainfall of all stations.csv')\n",
    "    rainfall.set_index('date', inplace=True)\n",
    "    rainfall.replace(999.99, pd.NA, inplace=True)\n",
    "    rainfall.dropna(inplace=True)\n",
    "\n",
    "    rainfall_mean = pd.DataFrame({'rainfall_in': rainfall['QPCP'].groupby(rainfall.index).mean()})\n",
    "    rainfall_mean.index = pd.to_datetime(rainfall_mean.index)\n",
    "    # Check if the rainfall_mean DataFrame is empty\n",
    "    if rainfall_mean.empty:\n",
    "        print(f\"No valid mean rainfall data for {USGS_Gauge}. Exiting process.\")\n",
    "        return\n",
    "\n",
    "    #Folder2 = f'C:/Users/mgalib/Box/Finley_UH_work/Data/TN/TN_2010/Hyetograph/Results_Rainfall_{USGS_Gauge}_{start_date}/'\n",
    "    ResultsFolder(Folder2)\n",
    "    rainfall_mean.to_csv(Folder2 + 'rainfall_mean.csv')\n",
    "\n",
    "    plt.figure(figsize=(20, 18))\n",
    "    rainfall_mean.plot.bar()\n",
    "    plt.title(\"Hyetograph\")\n",
    "    plt.legend([\"Rainfall\"], loc='best', edgecolor='k')\n",
    "    plt.xlabel(\"Date\")\n",
    "    plt.ylabel(\"Rainfall (in)\")\n",
    "    plt.savefig(Folder2 + \"Hyetograph.jpeg\")\n",
    "    plt.close()\n",
    "\n",
    "    plt.figure(figsize=(20, 10))\n",
    "    rainfall_mean.plot(style='bo')\n",
    "    plt.title(\"Rainfall scatter\")\n",
    "    plt.legend([\"Rainfall\"], loc='best', edgecolor='k')\n",
    "    plt.xlabel(\"Date\")\n",
    "    plt.ylabel(\"Rainfall (in)\")\n",
    "    plt.savefig(Folder2 + \"Rainfall_scatter.jpeg\")\n",
    "    plt.close()\n"
   ]
  },
  {
   "cell_type": "code",
   "execution_count": 17,
   "metadata": {},
   "outputs": [
    {
     "name": "stdout",
     "output_type": "stream",
     "text": [
      "https://www.ncdc.noaa.gov/cdo-web/api/v2/stations?datasetid=PRECIP_15&startdate=2018-05-25&enddate=2018-06-10&extent=36.47054977&extent=-85.87185917&extent=36.56569568&extent=-85.80165628&limit=1000&units=standard\n",
      "No stations found for 3312259 within the given extent: {'north': 36.56569568, 'south': 36.47054977, 'east': -85.80165628, 'west': -85.87185917}\n",
      "Attempting to expand the extent by 0.2 degrees...\n",
      "https://www.ncdc.noaa.gov/cdo-web/api/v2/stations?datasetid=PRECIP_15&startdate=2018-05-25&enddate=2018-06-10&extent=36.270549769999995&extent=-86.07185917&extent=36.76569568&extent=-85.60165628&limit=1000&units=standard\n",
      "No stations found even after expanding the extent. Skipping this gauge.\n",
      "Rainfall data processing is done for 3312259 starting from 2018-05-25\n",
      "https://www.ncdc.noaa.gov/cdo-web/api/v2/stations?datasetid=PRECIP_15&startdate=2009-04-12&enddate=2009-04-28&extent=36.31355449&extent=-86.79300794&extent=36.41892638&extent=-86.71621875&limit=1000&units=standard\n",
      "No stations found for 3426385 within the given extent: {'north': 36.41892638, 'south': 36.31355449, 'east': -86.71621875, 'west': -86.79300794}\n",
      "Attempting to expand the extent by 0.2 degrees...\n",
      "https://www.ncdc.noaa.gov/cdo-web/api/v2/stations?datasetid=PRECIP_15&startdate=2009-04-12&enddate=2009-04-28&extent=36.11355449&extent=-86.99300794&extent=36.618926380000005&extent=-86.51621875&limit=1000&units=standard\n",
      "https://www.ncdc.noaa.gov/cdo-web/api/v2/data?datasetid=PRECIP_15&startdate=2009-04-12&enddate=2009-04-28&stationid=COOP:406806&limit=1000&units=standard\n",
      "https://www.ncdc.noaa.gov/cdo-web/api/v2/data?datasetid=PRECIP_15&startdate=2009-04-12&enddate=2009-04-28&stationid=COOP:407359&limit=1000&units=standard\n",
      "https://www.ncdc.noaa.gov/cdo-web/api/v2/data?datasetid=PRECIP_15&startdate=2009-04-12&enddate=2009-04-28&stationid=COOP:408562&limit=1000&units=standard\n",
      "Rainfall data processing is done for 3426385 starting from 2009-04-12\n",
      "https://www.ncdc.noaa.gov/cdo-web/api/v2/stations?datasetid=PRECIP_15&startdate=2017-05-05&enddate=2017-05-21&extent=36.26672548&extent=-86.76382851&extent=36.31769794&extent=-86.68765616&limit=1000&units=standard\n",
      "No stations found for 3426470 within the given extent: {'north': 36.31769794, 'south': 36.26672548, 'east': -86.68765616, 'west': -86.76382851}\n",
      "Attempting to expand the extent by 0.2 degrees...\n",
      "https://www.ncdc.noaa.gov/cdo-web/api/v2/stations?datasetid=PRECIP_15&startdate=2017-05-05&enddate=2017-05-21&extent=36.066725479999995&extent=-86.96382851&extent=36.517697940000005&extent=-86.48765616&limit=1000&units=standard\n",
      "No stations found even after expanding the extent. Skipping this gauge.\n",
      "Rainfall data processing is done for 3426470 starting from 2017-05-05\n",
      "https://www.ncdc.noaa.gov/cdo-web/api/v2/stations?datasetid=PRECIP_15&startdate=2004-04-06&enddate=2004-04-22&extent=36.14948376&extent=-86.61437007&extent=36.23681666&extent=-86.4603212&limit=1000&units=standard\n",
      "No stations found for 3430147 within the given extent: {'north': 36.23681666, 'south': 36.14948376, 'east': -86.4603212, 'west': -86.61437007}\n",
      "Attempting to expand the extent by 0.2 degrees...\n",
      "https://www.ncdc.noaa.gov/cdo-web/api/v2/stations?datasetid=PRECIP_15&startdate=2004-04-06&enddate=2004-04-22&extent=35.94948376&extent=-86.81437007000001&extent=36.436816660000005&extent=-86.26032119999999&limit=1000&units=standard\n",
      "https://www.ncdc.noaa.gov/cdo-web/api/v2/data?datasetid=PRECIP_15&startdate=2004-04-06&enddate=2004-04-22&stationid=COOP:405108&limit=1000&units=standard\n",
      "https://www.ncdc.noaa.gov/cdo-web/api/v2/data?datasetid=PRECIP_15&startdate=2004-04-06&enddate=2004-04-22&stationid=COOP:406806&limit=1000&units=standard\n",
      "Warnings for 3430147: \"None of [Index(['date', 'QPCP'], dtype='object')] are in the [columns]\"\n",
      "Rainfall data processing is done for 3430147 starting from 2004-04-06\n",
      "https://www.ncdc.noaa.gov/cdo-web/api/v2/stations?datasetid=PRECIP_15&startdate=2015-03-29&enddate=2015-04-11&extent=36.06495557&extent=-86.81620105&extent=36.16118001&extent=-86.72033451&limit=1000&units=standard\n",
      "No stations found for 3431300 within the given extent: {'north': 36.16118001, 'south': 36.06495557, 'east': -86.72033451, 'west': -86.81620105}\n",
      "Attempting to expand the extent by 0.2 degrees...\n",
      "https://www.ncdc.noaa.gov/cdo-web/api/v2/stations?datasetid=PRECIP_15&startdate=2015-03-29&enddate=2015-04-11&extent=35.86495557&extent=-87.01620105&extent=36.361180010000005&extent=-86.52033451&limit=1000&units=standard\n",
      "No stations found even after expanding the extent. Skipping this gauge.\n",
      "Rainfall data processing is done for 3431300 starting from 2015-03-29\n",
      "https://www.ncdc.noaa.gov/cdo-web/api/v2/stations?datasetid=PRECIP_15&startdate=2016-03-25&enddate=2016-04-10&extent=36.06439975&extent=-86.91755364&extent=36.1539268&extent=-86.79783154&limit=1000&units=standard\n",
      "No stations found for 3431700 within the given extent: {'north': 36.1539268, 'south': 36.06439975, 'east': -86.79783154, 'west': -86.91755364}\n",
      "Attempting to expand the extent by 0.2 degrees...\n",
      "https://www.ncdc.noaa.gov/cdo-web/api/v2/stations?datasetid=PRECIP_15&startdate=2016-03-25&enddate=2016-04-10&extent=35.86439975&extent=-87.11755364&extent=36.3539268&extent=-86.59783154&limit=1000&units=standard\n",
      "No stations found even after expanding the extent. Skipping this gauge.\n",
      "Rainfall data processing is done for 3431700 starting from 2016-03-25\n",
      "https://www.ncdc.noaa.gov/cdo-web/api/v2/stations?datasetid=PRECIP_15&startdate=2000-05-21&enddate=2000-06-03&extent=35.9138341&extent=-86.86123297&extent=35.93584826&extent=-86.81715714&limit=1000&units=standard\n",
      "No stations found for 34323531 within the given extent: {'north': 35.93584826, 'south': 35.9138341, 'east': -86.81715714, 'west': -86.86123297}\n",
      "Attempting to expand the extent by 0.2 degrees...\n",
      "https://www.ncdc.noaa.gov/cdo-web/api/v2/stations?datasetid=PRECIP_15&startdate=2000-05-21&enddate=2000-06-03&extent=35.7138341&extent=-87.06123297&extent=36.13584826&extent=-86.61715714&limit=1000&units=standard\n",
      "No stations found even after expanding the extent. Skipping this gauge.\n",
      "Rainfall data processing is done for 34323531 starting from 2000-05-21\n",
      "https://www.ncdc.noaa.gov/cdo-web/api/v2/stations?datasetid=PRECIP_15&startdate=2005-08-23&enddate=2005-09-08&extent=35.89558097&extent=-86.90401478&extent=35.93319367&extent=-86.86676872&limit=1000&units=standard\n",
      "No stations found for 3432376 within the given extent: {'north': 35.93319367, 'south': 35.89558097, 'east': -86.86676872, 'west': -86.90401478}\n",
      "Attempting to expand the extent by 0.2 degrees...\n",
      "https://www.ncdc.noaa.gov/cdo-web/api/v2/stations?datasetid=PRECIP_15&startdate=2005-08-23&enddate=2005-09-08&extent=35.695580969999995&extent=-87.10401478&extent=36.133193670000004&extent=-86.66676872&limit=1000&units=standard\n",
      "No stations found even after expanding the extent. Skipping this gauge.\n",
      "Rainfall data processing is done for 3432376 starting from 2005-08-23\n",
      "https://www.ncdc.noaa.gov/cdo-web/api/v2/stations?datasetid=PRECIP_15&startdate=2005-08-18&enddate=2005-09-03&extent=35.92571722&extent=-86.82916748&extent=35.9481873&extent=-86.77946158&limit=1000&units=standard\n",
      "No stations found for 3432387 within the given extent: {'north': 35.9481873, 'south': 35.92571722, 'east': -86.77946158, 'west': -86.82916748}\n",
      "Attempting to expand the extent by 0.2 degrees...\n",
      "https://www.ncdc.noaa.gov/cdo-web/api/v2/stations?datasetid=PRECIP_15&startdate=2005-08-18&enddate=2005-09-03&extent=35.72571722&extent=-87.02916748&extent=36.148187300000004&extent=-86.57946158&limit=1000&units=standard\n",
      "No stations found even after expanding the extent. Skipping this gauge.\n",
      "Rainfall data processing is done for 3432387 starting from 2005-08-18\n",
      "https://www.ncdc.noaa.gov/cdo-web/api/v2/stations?datasetid=PRECIP_15&startdate=2003-03-29&enddate=2003-04-14&extent=35.92571722&extent=-86.86050701&extent=35.99175158&extent=-86.77946158&limit=1000&units=standard\n",
      "No stations found for 3432390 within the given extent: {'north': 35.99175158, 'south': 35.92571722, 'east': -86.77946158, 'west': -86.86050701}\n",
      "Attempting to expand the extent by 0.2 degrees...\n",
      "https://www.ncdc.noaa.gov/cdo-web/api/v2/stations?datasetid=PRECIP_15&startdate=2003-03-29&enddate=2003-04-14&extent=35.72571722&extent=-87.06050701000001&extent=36.19175158&extent=-86.57946158&limit=1000&units=standard\n",
      "No stations found even after expanding the extent. Skipping this gauge.\n",
      "Rainfall data processing is done for 3432390 starting from 2003-03-29\n",
      "https://www.ncdc.noaa.gov/cdo-web/api/v2/stations?datasetid=PRECIP_15&startdate=2012-08-10&enddate=2012-08-26&extent=35.79690068&extent=-87.06590957&extent=35.84695527&extent=-87.00605068&limit=1000&units=standard\n",
      "No stations found for 3432516 within the given extent: {'north': 35.84695527, 'south': 35.79690068, 'east': -87.00605068, 'west': -87.06590957}\n",
      "Attempting to expand the extent by 0.2 degrees...\n",
      "https://www.ncdc.noaa.gov/cdo-web/api/v2/stations?datasetid=PRECIP_15&startdate=2012-08-10&enddate=2012-08-26&extent=35.59690068&extent=-87.26590957&extent=36.046955270000005&extent=-86.80605068&limit=1000&units=standard\n",
      "No stations found even after expanding the extent. Skipping this gauge.\n",
      "Rainfall data processing is done for 3432516 starting from 2012-08-10\n",
      "https://www.ncdc.noaa.gov/cdo-web/api/v2/stations?datasetid=PRECIP_15&startdate=2004-05-08&enddate=2004-05-24&extent=36.40887148&extent=-87.08152355&extent=36.50095989&extent=-86.95576251&limit=1000&units=standard\n",
      "No stations found for 3435970 within the given extent: {'north': 36.50095989, 'south': 36.40887148, 'east': -86.95576251, 'west': -87.08152355}\n",
      "Attempting to expand the extent by 0.2 degrees...\n",
      "https://www.ncdc.noaa.gov/cdo-web/api/v2/stations?datasetid=PRECIP_15&startdate=2004-05-08&enddate=2004-05-24&extent=36.20887148&extent=-87.28152355&extent=36.70095989&extent=-86.75576251&limit=1000&units=standard\n",
      "https://www.ncdc.noaa.gov/cdo-web/api/v2/data?datasetid=PRECIP_15&startdate=2004-05-08&enddate=2004-05-24&stationid=COOP:401663&limit=1000&units=standard\n",
      "https://www.ncdc.noaa.gov/cdo-web/api/v2/data?datasetid=PRECIP_15&startdate=2004-05-08&enddate=2004-05-24&stationid=COOP:408562&limit=1000&units=standard\n",
      "Warnings for 3435970: \"None of [Index(['date', 'QPCP'], dtype='object')] are in the [columns]\"\n",
      "Rainfall data processing is done for 3435970 starting from 2004-05-08\n",
      "https://www.ncdc.noaa.gov/cdo-web/api/v2/stations?datasetid=PRECIP_15&startdate=2019-06-27&enddate=2019-07-14&extent=36.37321371&extent=-83.05688717&extent=36.42555552&extent=-82.98309718&limit=1000&units=standard\n",
      "No stations found for 3491544 within the given extent: {'north': 36.42555552, 'south': 36.37321371, 'east': -82.98309718, 'west': -83.05688717}\n",
      "Attempting to expand the extent by 0.2 degrees...\n",
      "https://www.ncdc.noaa.gov/cdo-web/api/v2/stations?datasetid=PRECIP_15&startdate=2019-06-27&enddate=2019-07-14&extent=36.17321371&extent=-83.25688717&extent=36.625555520000006&extent=-82.78309718&limit=1000&units=standard\n",
      "No stations found even after expanding the extent. Skipping this gauge.\n",
      "Rainfall data processing is done for 3491544 starting from 2019-06-27\n",
      "https://www.ncdc.noaa.gov/cdo-web/api/v2/stations?datasetid=PRECIP_15&startdate=2017-06-24&enddate=2017-07-11&extent=36.07117705&extent=-83.85598071&extent=36.13632579&extent=-83.75988312&limit=1000&units=standard\n",
      "No stations found for 3495405 within the given extent: {'north': 36.13632579, 'south': 36.07117705, 'east': -83.75988312, 'west': -83.85598071}\n",
      "Attempting to expand the extent by 0.2 degrees...\n",
      "https://www.ncdc.noaa.gov/cdo-web/api/v2/stations?datasetid=PRECIP_15&startdate=2017-06-24&enddate=2017-07-11&extent=35.87117705&extent=-84.05598071&extent=36.336325790000004&extent=-83.55988312&limit=1000&units=standard\n",
      "No stations found even after expanding the extent. Skipping this gauge.\n",
      "Rainfall data processing is done for 3495405 starting from 2017-06-24\n",
      "https://www.ncdc.noaa.gov/cdo-web/api/v2/stations?datasetid=PRECIP_15&startdate=2009-07-09&enddate=2009-07-25&extent=35.8546123&extent=-83.85496784&extent=35.8929825&extent=-83.8007075&limit=1000&units=standard\n",
      "No stations found for 34991105 within the given extent: {'north': 35.8929825, 'south': 35.8546123, 'east': -83.8007075, 'west': -83.85496784}\n",
      "Attempting to expand the extent by 0.2 degrees...\n",
      "https://www.ncdc.noaa.gov/cdo-web/api/v2/stations?datasetid=PRECIP_15&startdate=2009-07-09&enddate=2009-07-25&extent=35.6546123&extent=-84.05496784&extent=36.092982500000005&extent=-83.6007075&limit=1000&units=standard\n",
      "No stations found even after expanding the extent. Skipping this gauge.\n",
      "Rainfall data processing is done for 34991105 starting from 2009-07-09\n",
      "https://www.ncdc.noaa.gov/cdo-web/api/v2/stations?datasetid=PRECIP_15&startdate=2009-04-04&enddate=2009-04-20&extent=36.06203317&extent=-83.93733116&extent=36.15646214&extent=-83.83673724&limit=1000&units=standard\n",
      "No stations found for 35351830 within the given extent: {'north': 36.15646214, 'south': 36.06203317, 'east': -83.83673724, 'west': -83.93733116}\n",
      "Attempting to expand the extent by 0.2 degrees...\n",
      "https://www.ncdc.noaa.gov/cdo-web/api/v2/stations?datasetid=PRECIP_15&startdate=2009-04-04&enddate=2009-04-20&extent=35.86203317&extent=-84.13733116&extent=36.356462140000005&extent=-83.63673724&limit=1000&units=standard\n",
      "No stations found even after expanding the extent. Skipping this gauge.\n",
      "Rainfall data processing is done for 35351830 starting from 2009-04-04\n",
      "https://www.ncdc.noaa.gov/cdo-web/api/v2/stations?datasetid=PRECIP_15&startdate=2000-04-26&enddate=2000-05-13&extent=35.9104829&extent=-84.339059&extent=35.9577433&extent=-84.29154599&limit=1000&units=standard\n",
      "No stations found for 3536550 within the given extent: {'north': 35.9577433, 'south': 35.9104829, 'east': -84.29154599, 'west': -84.339059}\n",
      "Attempting to expand the extent by 0.2 degrees...\n",
      "https://www.ncdc.noaa.gov/cdo-web/api/v2/stations?datasetid=PRECIP_15&startdate=2000-04-26&enddate=2000-05-13&extent=35.710482899999995&extent=-84.53905900000001&extent=36.1577433&extent=-84.09154599&limit=1000&units=standard\n",
      "No stations found even after expanding the extent. Skipping this gauge.\n",
      "Rainfall data processing is done for 3536550 starting from 2000-04-26\n",
      "https://www.ncdc.noaa.gov/cdo-web/api/v2/stations?datasetid=PRECIP_15&startdate=2005-04-07&enddate=2005-04-20&extent=35.97466049&extent=-84.2748036&extent=36.01601348&extent=-84.22800419&limit=1000&units=standard\n",
      "No stations found for 3538235 within the given extent: {'north': 36.01601348, 'south': 35.97466049, 'east': -84.22800419, 'west': -84.2748036}\n",
      "Attempting to expand the extent by 0.2 degrees...\n",
      "https://www.ncdc.noaa.gov/cdo-web/api/v2/stations?datasetid=PRECIP_15&startdate=2005-04-07&enddate=2005-04-20&extent=35.774660489999995&extent=-84.4748036&extent=36.21601348&extent=-84.02800418999999&limit=1000&units=standard\n",
      "No stations found even after expanding the extent. Skipping this gauge.\n",
      "Rainfall data processing is done for 3538235 starting from 2005-04-07\n",
      "https://www.ncdc.noaa.gov/cdo-web/api/v2/stations?datasetid=PRECIP_15&startdate=2000-05-29&enddate=2000-06-15&extent=35.93220047&extent=-84.34150401&extent=35.9830483&extent=-84.26938022&limit=1000&units=standard\n",
      "No stations found for 3538270 within the given extent: {'north': 35.9830483, 'south': 35.93220047, 'east': -84.26938022, 'west': -84.34150401}\n",
      "Attempting to expand the extent by 0.2 degrees...\n",
      "https://www.ncdc.noaa.gov/cdo-web/api/v2/stations?datasetid=PRECIP_15&startdate=2000-05-29&enddate=2000-06-15&extent=35.732200469999995&extent=-84.54150401&extent=36.1830483&extent=-84.06938022&limit=1000&units=standard\n",
      "No stations found even after expanding the extent. Skipping this gauge.\n",
      "Rainfall data processing is done for 3538270 starting from 2000-05-29\n",
      "https://www.ncdc.noaa.gov/cdo-web/api/v2/stations?datasetid=PRECIP_15&startdate=2020-04-22&enddate=2020-05-09&extent=35.83002675&extent=-85.10105441&extent=35.88963653&extent=-85.03928839&limit=1000&units=standard\n",
      "No stations found for 3538970 within the given extent: {'north': 35.88963653, 'south': 35.83002675, 'east': -85.03928839, 'west': -85.10105441}\n",
      "Attempting to expand the extent by 0.2 degrees...\n",
      "https://www.ncdc.noaa.gov/cdo-web/api/v2/stations?datasetid=PRECIP_15&startdate=2020-04-22&enddate=2020-05-09&extent=35.63002675&extent=-85.30105441&extent=36.08963653&extent=-84.83928839&limit=1000&units=standard\n",
      "No stations found even after expanding the extent. Skipping this gauge.\n",
      "Rainfall data processing is done for 3538970 starting from 2020-04-22\n",
      "https://www.ncdc.noaa.gov/cdo-web/api/v2/stations?datasetid=PRECIP_15&startdate=2007-06-12&enddate=2007-06-28&extent=35.43234109&extent=-84.61386089&extent=35.5391693&extent=-84.44254838&limit=1000&units=standard\n",
      "No stations found for 3565442 within the given extent: {'north': 35.5391693, 'south': 35.43234109, 'east': -84.44254838, 'west': -84.61386089}\n",
      "Attempting to expand the extent by 0.2 degrees...\n",
      "https://www.ncdc.noaa.gov/cdo-web/api/v2/stations?datasetid=PRECIP_15&startdate=2007-06-12&enddate=2007-06-28&extent=35.23234109&extent=-84.81386089&extent=35.7391693&extent=-84.24254838&limit=1000&units=standard\n",
      "No stations found even after expanding the extent. Skipping this gauge.\n",
      "Rainfall data processing is done for 3565442 starting from 2007-06-12\n",
      "https://www.ncdc.noaa.gov/cdo-web/api/v2/stations?datasetid=PRECIP_15&startdate=2020-05-21&enddate=2020-06-06&extent=35.09088592&extent=-85.34162069&extent=35.15988874&extent=-85.28837621&limit=1000&units=standard\n",
      "No stations found for 3569190 within the given extent: {'north': 35.15988874, 'south': 35.09088592, 'east': -85.28837621, 'west': -85.34162069}\n",
      "Attempting to expand the extent by 0.2 degrees...\n",
      "https://www.ncdc.noaa.gov/cdo-web/api/v2/stations?datasetid=PRECIP_15&startdate=2020-05-21&enddate=2020-06-06&extent=34.890885919999995&extent=-85.54162069&extent=35.35988874&extent=-85.08837620999999&limit=1000&units=standard\n",
      "No stations found even after expanding the extent. Skipping this gauge.\n",
      "Rainfall data processing is done for 3569190 starting from 2020-05-21\n",
      "https://www.ncdc.noaa.gov/cdo-web/api/v2/stations?datasetid=PRECIP_15&startdate=2003-05-11&enddate=2003-05-27&extent=35.40935017&extent=-86.09389556&extent=35.47507918&extent=-86.00351129&limit=1000&units=standard\n",
      "No stations found for 3595100 within the given extent: {'north': 35.47507918, 'south': 35.40935017, 'east': -86.00351129, 'west': -86.09389556}\n",
      "Attempting to expand the extent by 0.2 degrees...\n",
      "https://www.ncdc.noaa.gov/cdo-web/api/v2/stations?datasetid=PRECIP_15&startdate=2003-05-11&enddate=2003-05-27&extent=35.20935017&extent=-86.29389556000001&extent=35.675079180000004&extent=-85.80351129&limit=1000&units=standard\n",
      "https://www.ncdc.noaa.gov/cdo-web/api/v2/data?datasetid=PRECIP_15&startdate=2003-05-11&enddate=2003-05-27&stationid=COOP:406162&limit=1000&units=standard\n",
      "Rainfall data processing is done for 3595100 starting from 2003-05-11\n",
      "https://www.ncdc.noaa.gov/cdo-web/api/v2/stations?datasetid=PRECIP_15&startdate=2004-05-24&enddate=2004-06-09&extent=35.36054983&extent=-86.15944768&extent=35.45212428&extent=-86.03567599&limit=1000&units=standard\n",
      "No stations found for 3596100 within the given extent: {'north': 35.45212428, 'south': 35.36054983, 'east': -86.03567599, 'west': -86.15944768}\n",
      "Attempting to expand the extent by 0.2 degrees...\n",
      "https://www.ncdc.noaa.gov/cdo-web/api/v2/stations?datasetid=PRECIP_15&startdate=2004-05-24&enddate=2004-06-09&extent=35.160549829999994&extent=-86.35944768&extent=35.65212428&extent=-85.83567599&limit=1000&units=standard\n",
      "https://www.ncdc.noaa.gov/cdo-web/api/v2/data?datasetid=PRECIP_15&startdate=2004-05-24&enddate=2004-06-09&stationid=COOP:406162&limit=1000&units=standard\n",
      "Rainfall data processing is done for 3596100 starting from 2004-05-24\n",
      "https://www.ncdc.noaa.gov/cdo-web/api/v2/stations?datasetid=PRECIP_15&startdate=2016-03-25&enddate=2016-04-10&extent=35.50636667&extent=-86.40167047&extent=35.66428&extent=-86.300294&limit=1000&units=standard\n",
      "No stations found for 3597590 within the given extent: {'north': 35.66428, 'south': 35.50636667, 'east': -86.300294, 'west': -86.40167047}\n",
      "Attempting to expand the extent by 0.2 degrees...\n",
      "https://www.ncdc.noaa.gov/cdo-web/api/v2/stations?datasetid=PRECIP_15&startdate=2016-03-25&enddate=2016-04-10&extent=35.306366669999996&extent=-86.60167047&extent=35.86428&extent=-86.10029399999999&limit=1000&units=standard\n",
      "No stations found even after expanding the extent. Skipping this gauge.\n",
      "Rainfall data processing is done for 3597590 starting from 2016-03-25\n",
      "https://www.ncdc.noaa.gov/cdo-web/api/v2/stations?datasetid=PRECIP_15&startdate=2009-04-30&enddate=2009-05-16&extent=35.56227767&extent=-86.45657281&extent=35.61146435&extent=-86.38652084&limit=1000&units=standard\n",
      "No stations found for 3598169 within the given extent: {'north': 35.61146435, 'south': 35.56227767, 'east': -86.38652084, 'west': -86.45657281}\n",
      "Attempting to expand the extent by 0.2 degrees...\n",
      "https://www.ncdc.noaa.gov/cdo-web/api/v2/stations?datasetid=PRECIP_15&startdate=2009-04-30&enddate=2009-05-16&extent=35.36227767&extent=-86.65657281&extent=35.81146435&extent=-86.18652084&limit=1000&units=standard\n",
      "No stations found even after expanding the extent. Skipping this gauge.\n",
      "Rainfall data processing is done for 3598169 starting from 2009-04-30\n",
      "https://www.ncdc.noaa.gov/cdo-web/api/v2/stations?datasetid=PRECIP_15&startdate=2000-04-06&enddate=2000-04-22&extent=35.36466547&extent=-86.86027159&extent=35.45978346&extent=-86.7393628&limit=1000&units=standard\n",
      "https://www.ncdc.noaa.gov/cdo-web/api/v2/data?datasetid=PRECIP_15&startdate=2000-04-06&enddate=2000-04-22&stationid=COOP:405187&limit=1000&units=standard\n",
      "Rainfall data processing is done for 3599000 starting from 2000-04-06\n",
      "https://www.ncdc.noaa.gov/cdo-web/api/v2/stations?datasetid=PRECIP_15&startdate=2008-03-23&enddate=2008-04-08&extent=35.71191767&extent=-87.05359782&extent=35.82247825&extent=-86.94925584&limit=1000&units=standard\n",
      "No stations found for 3600088 within the given extent: {'north': 35.82247825, 'south': 35.71191767, 'east': -86.94925584, 'west': -87.05359782}\n",
      "Attempting to expand the extent by 0.2 degrees...\n",
      "https://www.ncdc.noaa.gov/cdo-web/api/v2/stations?datasetid=PRECIP_15&startdate=2008-03-23&enddate=2008-04-08&extent=35.511917669999995&extent=-87.25359782&extent=36.022478250000006&extent=-86.74925584&limit=1000&units=standard\n",
      "No stations found even after expanding the extent. Skipping this gauge.\n",
      "Rainfall data processing is done for 3600088 starting from 2008-03-23\n",
      "https://www.ncdc.noaa.gov/cdo-web/api/v2/stations?datasetid=PRECIP_15&startdate=2020-04-26&enddate=2020-05-13&extent=35.9593737&extent=-88.17490636&extent=36.10035386&extent=-88.06467076&limit=1000&units=standard\n",
      "No stations found for 3605078 within the given extent: {'north': 36.10035386, 'south': 35.9593737, 'east': -88.06467076, 'west': -88.17490636}\n",
      "Attempting to expand the extent by 0.2 degrees...\n",
      "https://www.ncdc.noaa.gov/cdo-web/api/v2/stations?datasetid=PRECIP_15&startdate=2020-04-26&enddate=2020-05-13&extent=35.7593737&extent=-88.37490636&extent=36.30035386&extent=-87.86467076&limit=1000&units=standard\n",
      "No stations found even after expanding the extent. Skipping this gauge.\n",
      "Rainfall data processing is done for 3605078 starting from 2020-04-26\n",
      "https://www.ncdc.noaa.gov/cdo-web/api/v2/stations?datasetid=PRECIP_15&startdate=2016-04-08&enddate=2016-04-24&extent=36.02985571&extent=-88.4245398&extent=36.13893026&extent=-88.30413436&limit=1000&units=standard\n",
      "No stations found for 7024200 within the given extent: {'north': 36.13893026, 'south': 36.02985571, 'east': -88.30413436, 'west': -88.4245398}\n",
      "Attempting to expand the extent by 0.2 degrees...\n",
      "https://www.ncdc.noaa.gov/cdo-web/api/v2/stations?datasetid=PRECIP_15&startdate=2016-04-08&enddate=2016-04-24&extent=35.82985571&extent=-88.62453980000001&extent=36.338930260000005&extent=-88.10413436&limit=1000&units=standard\n",
      "No stations found even after expanding the extent. Skipping this gauge.\n",
      "Rainfall data processing is done for 7024200 starting from 2016-04-08\n",
      "https://www.ncdc.noaa.gov/cdo-web/api/v2/stations?datasetid=PRECIP_15&startdate=2015-06-26&enddate=2015-07-12&extent=36.45700063&extent=-89.33575488&extent=36.58079572&extent=-89.17949579&limit=1000&units=standard\n",
      "No stations found for 7026680 within the given extent: {'north': 36.58079572, 'south': 36.45700063, 'east': -89.17949579, 'west': -89.33575488}\n",
      "Attempting to expand the extent by 0.2 degrees...\n",
      "https://www.ncdc.noaa.gov/cdo-web/api/v2/stations?datasetid=PRECIP_15&startdate=2015-06-26&enddate=2015-07-12&extent=36.25700063&extent=-89.53575488&extent=36.78079572&extent=-88.97949579&limit=1000&units=standard\n",
      "No stations found even after expanding the extent. Skipping this gauge.\n",
      "Rainfall data processing is done for 7026680 starting from 2015-06-26\n",
      "https://www.ncdc.noaa.gov/cdo-web/api/v2/stations?datasetid=PRECIP_15&startdate=2014-06-01&enddate=2014-06-17&extent=36.34292002&extent=-89.35028677&extent=36.39845329&extent=-89.29288658&limit=1000&units=standard\n",
      "No stations found for 7026795 within the given extent: {'north': 36.39845329, 'south': 36.34292002, 'east': -89.29288658, 'west': -89.35028677}\n",
      "Attempting to expand the extent by 0.2 degrees...\n",
      "https://www.ncdc.noaa.gov/cdo-web/api/v2/stations?datasetid=PRECIP_15&startdate=2014-06-01&enddate=2014-06-17&extent=36.14292002&extent=-89.55028677&extent=36.59845329&extent=-89.09288658&limit=1000&units=standard\n",
      "No stations found even after expanding the extent. Skipping this gauge.\n",
      "Rainfall data processing is done for 7026795 starting from 2014-06-01\n",
      "https://www.ncdc.noaa.gov/cdo-web/api/v2/stations?datasetid=PRECIP_15&startdate=2002-07-07&enddate=2002-07-24&extent=35.79841428&extent=-88.81509142&extent=35.83311581&extent=-88.75380996&limit=1000&units=standard\n",
      "No stations found for 7028930 within the given extent: {'north': 35.83311581, 'south': 35.79841428, 'east': -88.75380996, 'west': -88.81509142}\n",
      "Attempting to expand the extent by 0.2 degrees...\n",
      "https://www.ncdc.noaa.gov/cdo-web/api/v2/stations?datasetid=PRECIP_15&startdate=2002-07-07&enddate=2002-07-24&extent=35.59841428&extent=-89.01509142&extent=36.033115810000005&extent=-88.55380996&limit=1000&units=standard\n",
      "https://www.ncdc.noaa.gov/cdo-web/api/v2/data?datasetid=PRECIP_15&startdate=2002-07-07&enddate=2002-07-24&stationid=COOP:404561&limit=1000&units=standard\n",
      "Warnings for 7028930: \"None of [Index(['date', 'QPCP'], dtype='object')] are in the [columns]\"\n",
      "No valid data collected for 7028930. Exiting process.\n",
      "Rainfall data processing is done for 7028930 starting from 2002-07-07\n",
      "https://www.ncdc.noaa.gov/cdo-web/api/v2/stations?datasetid=PRECIP_15&startdate=2010-04-01&enddate=2010-04-17&extent=35.09577534&extent=-89.69916857&extent=35.13027688&extent=-89.60547089&limit=1000&units=standard\n",
      "No stations found for 70306050 within the given extent: {'north': 35.13027688, 'south': 35.09577534, 'east': -89.60547089, 'west': -89.69916857}\n",
      "Attempting to expand the extent by 0.2 degrees...\n",
      "https://www.ncdc.noaa.gov/cdo-web/api/v2/stations?datasetid=PRECIP_15&startdate=2010-04-01&enddate=2010-04-17&extent=34.89577534&extent=-89.89916857&extent=35.33027688&extent=-89.40547089&limit=1000&units=standard\n",
      "https://www.ncdc.noaa.gov/cdo-web/api/v2/data?datasetid=PRECIP_15&startdate=2010-04-01&enddate=2010-04-17&stationid=COOP:405956&limit=1000&units=standard\n",
      "Rainfall data processing is done for 70306050 starting from 2010-04-01\n",
      "https://www.ncdc.noaa.gov/cdo-web/api/v2/stations?datasetid=PRECIP_15&startdate=2004-04-06&enddate=2004-04-22&extent=35.13780356&extent=-89.87493327&extent=35.23990334&extent=-89.74421197&limit=1000&units=standard\n",
      "No stations found for 7031692 within the given extent: {'north': 35.23990334, 'south': 35.13780356, 'east': -89.74421197, 'west': -89.87493327}\n",
      "Attempting to expand the extent by 0.2 degrees...\n",
      "https://www.ncdc.noaa.gov/cdo-web/api/v2/stations?datasetid=PRECIP_15&startdate=2004-04-06&enddate=2004-04-22&extent=34.93780356&extent=-90.07493327&extent=35.43990334&extent=-89.54421196999999&limit=1000&units=standard\n",
      "https://www.ncdc.noaa.gov/cdo-web/api/v2/data?datasetid=PRECIP_15&startdate=2004-04-06&enddate=2004-04-22&stationid=COOP:405956&limit=1000&units=standard\n",
      "Rainfall data processing is done for 7031692 starting from 2004-04-06\n",
      "https://www.ncdc.noaa.gov/cdo-web/api/v2/stations?datasetid=PRECIP_15&startdate=2018-06-20&enddate=2018-07-07&extent=36.47054977&extent=-85.87185917&extent=36.56569568&extent=-85.80165628&limit=1000&units=standard\n",
      "No stations found for 3312259 within the given extent: {'north': 36.56569568, 'south': 36.47054977, 'east': -85.80165628, 'west': -85.87185917}\n",
      "Attempting to expand the extent by 0.2 degrees...\n",
      "https://www.ncdc.noaa.gov/cdo-web/api/v2/stations?datasetid=PRECIP_15&startdate=2018-06-20&enddate=2018-07-07&extent=36.270549769999995&extent=-86.07185917&extent=36.76569568&extent=-85.60165628&limit=1000&units=standard\n",
      "No stations found even after expanding the extent. Skipping this gauge.\n",
      "Rainfall data processing is done for 3312259 starting from 2018-06-20\n",
      "https://www.ncdc.noaa.gov/cdo-web/api/v2/stations?datasetid=PRECIP_15&startdate=2009-04-22&enddate=2009-05-09&extent=36.31355449&extent=-86.79300794&extent=36.41892638&extent=-86.71621875&limit=1000&units=standard\n",
      "No stations found for 3426385 within the given extent: {'north': 36.41892638, 'south': 36.31355449, 'east': -86.71621875, 'west': -86.79300794}\n",
      "Attempting to expand the extent by 0.2 degrees...\n",
      "https://www.ncdc.noaa.gov/cdo-web/api/v2/stations?datasetid=PRECIP_15&startdate=2009-04-22&enddate=2009-05-09&extent=36.11355449&extent=-86.99300794&extent=36.618926380000005&extent=-86.51621875&limit=1000&units=standard\n",
      "https://www.ncdc.noaa.gov/cdo-web/api/v2/data?datasetid=PRECIP_15&startdate=2009-04-22&enddate=2009-05-09&stationid=COOP:406806&limit=1000&units=standard\n",
      "https://www.ncdc.noaa.gov/cdo-web/api/v2/data?datasetid=PRECIP_15&startdate=2009-04-22&enddate=2009-05-09&stationid=COOP:407359&limit=1000&units=standard\n",
      "https://www.ncdc.noaa.gov/cdo-web/api/v2/data?datasetid=PRECIP_15&startdate=2009-04-22&enddate=2009-05-09&stationid=COOP:408562&limit=1000&units=standard\n",
      "Rainfall data processing is done for 3426385 starting from 2009-04-22\n",
      "https://www.ncdc.noaa.gov/cdo-web/api/v2/stations?datasetid=PRECIP_15&startdate=2019-04-01&enddate=2019-04-17&extent=36.26672548&extent=-86.76382851&extent=36.31769794&extent=-86.68765616&limit=1000&units=standard\n",
      "No stations found for 3426470 within the given extent: {'north': 36.31769794, 'south': 36.26672548, 'east': -86.68765616, 'west': -86.76382851}\n",
      "Attempting to expand the extent by 0.2 degrees...\n",
      "https://www.ncdc.noaa.gov/cdo-web/api/v2/stations?datasetid=PRECIP_15&startdate=2019-04-01&enddate=2019-04-17&extent=36.066725479999995&extent=-86.96382851&extent=36.517697940000005&extent=-86.48765616&limit=1000&units=standard\n",
      "No stations found even after expanding the extent. Skipping this gauge.\n",
      "Rainfall data processing is done for 3426470 starting from 2019-04-01\n",
      "https://www.ncdc.noaa.gov/cdo-web/api/v2/stations?datasetid=PRECIP_15&startdate=2004-04-15&enddate=2004-05-01&extent=36.14948376&extent=-86.61437007&extent=36.23681666&extent=-86.4603212&limit=1000&units=standard\n",
      "No stations found for 3430147 within the given extent: {'north': 36.23681666, 'south': 36.14948376, 'east': -86.4603212, 'west': -86.61437007}\n",
      "Attempting to expand the extent by 0.2 degrees...\n",
      "https://www.ncdc.noaa.gov/cdo-web/api/v2/stations?datasetid=PRECIP_15&startdate=2004-04-15&enddate=2004-05-01&extent=35.94948376&extent=-86.81437007000001&extent=36.436816660000005&extent=-86.26032119999999&limit=1000&units=standard\n",
      "https://www.ncdc.noaa.gov/cdo-web/api/v2/data?datasetid=PRECIP_15&startdate=2004-04-15&enddate=2004-05-01&stationid=COOP:405108&limit=1000&units=standard\n",
      "https://www.ncdc.noaa.gov/cdo-web/api/v2/data?datasetid=PRECIP_15&startdate=2004-04-15&enddate=2004-05-01&stationid=COOP:406806&limit=1000&units=standard\n",
      "Warnings for 3430147: \"None of [Index(['date', 'QPCP'], dtype='object')] are in the [columns]\"\n"
     ]
    },
    {
     "name": "stderr",
     "output_type": "stream",
     "text": [
      "c:\\temp\\envs\\purdue\\Lib\\site-packages\\pandas\\plotting\\_matplotlib\\core.py:580: RuntimeWarning: More than 20 figures have been opened. Figures created through the pyplot interface (`matplotlib.pyplot.figure`) are retained until explicitly closed and may consume too much memory. (To control this warning, see the rcParam `figure.max_open_warning`). Consider using `matplotlib.pyplot.close()`.\n",
      "  fig = self.plt.figure(figsize=self.figsize)\n"
     ]
    },
    {
     "name": "stdout",
     "output_type": "stream",
     "text": [
      "Rainfall data processing is done for 3430147 starting from 2004-04-15\n",
      "https://www.ncdc.noaa.gov/cdo-web/api/v2/stations?datasetid=PRECIP_15&startdate=2015-04-01&enddate=2015-04-14&extent=36.06495557&extent=-86.81620105&extent=36.16118001&extent=-86.72033451&limit=1000&units=standard\n",
      "No stations found for 3431300 within the given extent: {'north': 36.16118001, 'south': 36.06495557, 'east': -86.72033451, 'west': -86.81620105}\n",
      "Attempting to expand the extent by 0.2 degrees...\n",
      "https://www.ncdc.noaa.gov/cdo-web/api/v2/stations?datasetid=PRECIP_15&startdate=2015-04-01&enddate=2015-04-14&extent=35.86495557&extent=-87.01620105&extent=36.361180010000005&extent=-86.52033451&limit=1000&units=standard\n",
      "No stations found even after expanding the extent. Skipping this gauge.\n",
      "Rainfall data processing is done for 3431300 starting from 2015-04-01\n",
      "https://www.ncdc.noaa.gov/cdo-web/api/v2/stations?datasetid=PRECIP_15&startdate=2016-04-25&enddate=2016-05-11&extent=36.06439975&extent=-86.91755364&extent=36.1539268&extent=-86.79783154&limit=1000&units=standard\n",
      "No stations found for 3431700 within the given extent: {'north': 36.1539268, 'south': 36.06439975, 'east': -86.79783154, 'west': -86.91755364}\n",
      "Attempting to expand the extent by 0.2 degrees...\n",
      "https://www.ncdc.noaa.gov/cdo-web/api/v2/stations?datasetid=PRECIP_15&startdate=2016-04-25&enddate=2016-05-11&extent=35.86439975&extent=-87.11755364&extent=36.3539268&extent=-86.59783154&limit=1000&units=standard\n",
      "No stations found even after expanding the extent. Skipping this gauge.\n",
      "Rainfall data processing is done for 3431700 starting from 2016-04-25\n",
      "https://www.ncdc.noaa.gov/cdo-web/api/v2/stations?datasetid=PRECIP_15&startdate=2000-06-22&enddate=2000-07-05&extent=35.9138341&extent=-86.86123297&extent=35.93584826&extent=-86.81715714&limit=1000&units=standard\n",
      "No stations found for 34323531 within the given extent: {'north': 35.93584826, 'south': 35.9138341, 'east': -86.81715714, 'west': -86.86123297}\n",
      "Attempting to expand the extent by 0.2 degrees...\n",
      "https://www.ncdc.noaa.gov/cdo-web/api/v2/stations?datasetid=PRECIP_15&startdate=2000-06-22&enddate=2000-07-05&extent=35.7138341&extent=-87.06123297&extent=36.13584826&extent=-86.61715714&limit=1000&units=standard\n",
      "No stations found even after expanding the extent. Skipping this gauge.\n",
      "Rainfall data processing is done for 34323531 starting from 2000-06-22\n",
      "https://www.ncdc.noaa.gov/cdo-web/api/v2/stations?datasetid=PRECIP_15&startdate=2005-08-23&enddate=2005-09-08&extent=35.92571722&extent=-86.82916748&extent=35.9481873&extent=-86.77946158&limit=1000&units=standard\n",
      "No stations found for 3432387 within the given extent: {'north': 35.9481873, 'south': 35.92571722, 'east': -86.77946158, 'west': -86.82916748}\n",
      "Attempting to expand the extent by 0.2 degrees...\n",
      "https://www.ncdc.noaa.gov/cdo-web/api/v2/stations?datasetid=PRECIP_15&startdate=2005-08-23&enddate=2005-09-08&extent=35.72571722&extent=-87.02916748&extent=36.148187300000004&extent=-86.57946158&limit=1000&units=standard\n",
      "No stations found even after expanding the extent. Skipping this gauge.\n",
      "Rainfall data processing is done for 3432387 starting from 2005-08-23\n",
      "https://www.ncdc.noaa.gov/cdo-web/api/v2/stations?datasetid=PRECIP_15&startdate=2004-04-05&enddate=2004-04-21&extent=35.92571722&extent=-86.86050701&extent=35.99175158&extent=-86.77946158&limit=1000&units=standard\n",
      "No stations found for 3432390 within the given extent: {'north': 35.99175158, 'south': 35.92571722, 'east': -86.77946158, 'west': -86.86050701}\n",
      "Attempting to expand the extent by 0.2 degrees...\n",
      "https://www.ncdc.noaa.gov/cdo-web/api/v2/stations?datasetid=PRECIP_15&startdate=2004-04-05&enddate=2004-04-21&extent=35.72571722&extent=-87.06050701000001&extent=36.19175158&extent=-86.57946158&limit=1000&units=standard\n",
      "No stations found even after expanding the extent. Skipping this gauge.\n",
      "Rainfall data processing is done for 3432390 starting from 2004-04-05\n",
      "https://www.ncdc.noaa.gov/cdo-web/api/v2/stations?datasetid=PRECIP_15&startdate=2010-06-18&enddate=2010-07-05&extent=35.79690068&extent=-87.06590957&extent=35.84695527&extent=-87.00605068&limit=1000&units=standard\n",
      "No stations found for 3432516 within the given extent: {'north': 35.84695527, 'south': 35.79690068, 'east': -87.00605068, 'west': -87.06590957}\n",
      "Attempting to expand the extent by 0.2 degrees...\n",
      "https://www.ncdc.noaa.gov/cdo-web/api/v2/stations?datasetid=PRECIP_15&startdate=2010-06-18&enddate=2010-07-05&extent=35.59690068&extent=-87.26590957&extent=36.046955270000005&extent=-86.80605068&limit=1000&units=standard\n",
      "No stations found even after expanding the extent. Skipping this gauge.\n",
      "Rainfall data processing is done for 3432516 starting from 2010-06-18\n",
      "https://www.ncdc.noaa.gov/cdo-web/api/v2/stations?datasetid=PRECIP_15&startdate=2004-05-24&enddate=2004-06-09&extent=36.40887148&extent=-87.08152355&extent=36.50095989&extent=-86.95576251&limit=1000&units=standard\n",
      "No stations found for 3435970 within the given extent: {'north': 36.50095989, 'south': 36.40887148, 'east': -86.95576251, 'west': -87.08152355}\n",
      "Attempting to expand the extent by 0.2 degrees...\n",
      "https://www.ncdc.noaa.gov/cdo-web/api/v2/stations?datasetid=PRECIP_15&startdate=2004-05-24&enddate=2004-06-09&extent=36.20887148&extent=-87.28152355&extent=36.70095989&extent=-86.75576251&limit=1000&units=standard\n",
      "https://www.ncdc.noaa.gov/cdo-web/api/v2/data?datasetid=PRECIP_15&startdate=2004-05-24&enddate=2004-06-09&stationid=COOP:401663&limit=1000&units=standard\n",
      "https://www.ncdc.noaa.gov/cdo-web/api/v2/data?datasetid=PRECIP_15&startdate=2004-05-24&enddate=2004-06-09&stationid=COOP:408562&limit=1000&units=standard\n"
     ]
    },
    {
     "name": "stderr",
     "output_type": "stream",
     "text": [
      "C:\\Users\\mgalib\\AppData\\Local\\Temp\\ipykernel_26288\\3302117483.py:85: RuntimeWarning: More than 20 figures have been opened. Figures created through the pyplot interface (`matplotlib.pyplot.figure`) are retained until explicitly closed and may consume too much memory. (To control this warning, see the rcParam `figure.max_open_warning`). Consider using `matplotlib.pyplot.close()`.\n",
      "  plt.figure(figsize=(20, 18))\n"
     ]
    },
    {
     "name": "stdout",
     "output_type": "stream",
     "text": [
      "Rainfall data processing is done for 3435970 starting from 2004-05-24\n",
      "https://www.ncdc.noaa.gov/cdo-web/api/v2/stations?datasetid=PRECIP_15&startdate=2017-03-24&enddate=2017-04-09&extent=35.58924747&extent=-83.58869221&extent=35.70895269&extent=-83.38886094&limit=1000&units=standard\n",
      "No stations found for 3469251 within the given extent: {'north': 35.70895269, 'south': 35.58924747, 'east': -83.38886094, 'west': -83.58869221}\n",
      "Attempting to expand the extent by 0.2 degrees...\n",
      "https://www.ncdc.noaa.gov/cdo-web/api/v2/stations?datasetid=PRECIP_15&startdate=2017-03-24&enddate=2017-04-09&extent=35.389247469999994&extent=-83.78869221000001&extent=35.90895269&extent=-83.18886094&limit=1000&units=standard\n",
      "No stations found even after expanding the extent. Skipping this gauge.\n",
      "Rainfall data processing is done for 3469251 starting from 2017-03-24\n",
      "https://www.ncdc.noaa.gov/cdo-web/api/v2/stations?datasetid=PRECIP_15&startdate=2019-06-30&enddate=2019-07-16&extent=36.37321371&extent=-83.05688717&extent=36.42555552&extent=-82.98309718&limit=1000&units=standard\n",
      "No stations found for 3491544 within the given extent: {'north': 36.42555552, 'south': 36.37321371, 'east': -82.98309718, 'west': -83.05688717}\n",
      "Attempting to expand the extent by 0.2 degrees...\n",
      "https://www.ncdc.noaa.gov/cdo-web/api/v2/stations?datasetid=PRECIP_15&startdate=2019-06-30&enddate=2019-07-16&extent=36.17321371&extent=-83.25688717&extent=36.625555520000006&extent=-82.78309718&limit=1000&units=standard\n",
      "No stations found even after expanding the extent. Skipping this gauge.\n",
      "Rainfall data processing is done for 3491544 starting from 2019-06-30\n",
      "https://www.ncdc.noaa.gov/cdo-web/api/v2/stations?datasetid=PRECIP_15&startdate=2019-04-01&enddate=2019-04-17&extent=36.07117705&extent=-83.85598071&extent=36.13632579&extent=-83.75988312&limit=1000&units=standard\n",
      "No stations found for 3495405 within the given extent: {'north': 36.13632579, 'south': 36.07117705, 'east': -83.75988312, 'west': -83.85598071}\n",
      "Attempting to expand the extent by 0.2 degrees...\n",
      "https://www.ncdc.noaa.gov/cdo-web/api/v2/stations?datasetid=PRECIP_15&startdate=2019-04-01&enddate=2019-04-17&extent=35.87117705&extent=-84.05598071&extent=36.336325790000004&extent=-83.55988312&limit=1000&units=standard\n",
      "No stations found even after expanding the extent. Skipping this gauge.\n",
      "Rainfall data processing is done for 3495405 starting from 2019-04-01\n",
      "https://www.ncdc.noaa.gov/cdo-web/api/v2/stations?datasetid=PRECIP_15&startdate=2009-07-21&enddate=2009-08-06&extent=35.8546123&extent=-83.85496784&extent=35.8929825&extent=-83.8007075&limit=1000&units=standard\n",
      "No stations found for 34991105 within the given extent: {'north': 35.8929825, 'south': 35.8546123, 'east': -83.8007075, 'west': -83.85496784}\n",
      "Attempting to expand the extent by 0.2 degrees...\n",
      "https://www.ncdc.noaa.gov/cdo-web/api/v2/stations?datasetid=PRECIP_15&startdate=2009-07-21&enddate=2009-08-06&extent=35.6546123&extent=-84.05496784&extent=36.092982500000005&extent=-83.6007075&limit=1000&units=standard\n",
      "No stations found even after expanding the extent. Skipping this gauge.\n",
      "Rainfall data processing is done for 34991105 starting from 2009-07-21\n",
      "https://www.ncdc.noaa.gov/cdo-web/api/v2/stations?datasetid=PRECIP_15&startdate=2009-04-30&enddate=2009-05-16&extent=36.06203317&extent=-83.93733116&extent=36.15646214&extent=-83.83673724&limit=1000&units=standard\n",
      "No stations found for 35351830 within the given extent: {'north': 36.15646214, 'south': 36.06203317, 'east': -83.83673724, 'west': -83.93733116}\n",
      "Attempting to expand the extent by 0.2 degrees...\n",
      "https://www.ncdc.noaa.gov/cdo-web/api/v2/stations?datasetid=PRECIP_15&startdate=2009-04-30&enddate=2009-05-16&extent=35.86203317&extent=-84.13733116&extent=36.356462140000005&extent=-83.63673724&limit=1000&units=standard\n",
      "No stations found even after expanding the extent. Skipping this gauge.\n",
      "Rainfall data processing is done for 35351830 starting from 2009-04-30\n",
      "https://www.ncdc.noaa.gov/cdo-web/api/v2/stations?datasetid=PRECIP_15&startdate=2000-05-17&enddate=2000-06-02&extent=35.9104829&extent=-84.339059&extent=35.9577433&extent=-84.29154599&limit=1000&units=standard\n",
      "No stations found for 3536550 within the given extent: {'north': 35.9577433, 'south': 35.9104829, 'east': -84.29154599, 'west': -84.339059}\n",
      "Attempting to expand the extent by 0.2 degrees...\n",
      "https://www.ncdc.noaa.gov/cdo-web/api/v2/stations?datasetid=PRECIP_15&startdate=2000-05-17&enddate=2000-06-02&extent=35.710482899999995&extent=-84.53905900000001&extent=36.1577433&extent=-84.09154599&limit=1000&units=standard\n",
      "No stations found even after expanding the extent. Skipping this gauge.\n",
      "Rainfall data processing is done for 3536550 starting from 2000-05-17\n",
      "https://www.ncdc.noaa.gov/cdo-web/api/v2/stations?datasetid=PRECIP_15&startdate=2005-04-08&enddate=2005-04-21&extent=35.97466049&extent=-84.2748036&extent=36.01601348&extent=-84.22800419&limit=1000&units=standard\n",
      "No stations found for 3538235 within the given extent: {'north': 36.01601348, 'south': 35.97466049, 'east': -84.22800419, 'west': -84.2748036}\n",
      "Attempting to expand the extent by 0.2 degrees...\n",
      "https://www.ncdc.noaa.gov/cdo-web/api/v2/stations?datasetid=PRECIP_15&startdate=2005-04-08&enddate=2005-04-21&extent=35.774660489999995&extent=-84.4748036&extent=36.21601348&extent=-84.02800418999999&limit=1000&units=standard\n",
      "No stations found even after expanding the extent. Skipping this gauge.\n",
      "Rainfall data processing is done for 3538235 starting from 2005-04-08\n",
      "https://www.ncdc.noaa.gov/cdo-web/api/v2/stations?datasetid=PRECIP_15&startdate=2000-06-21&enddate=2000-07-08&extent=35.93220047&extent=-84.34150401&extent=35.9830483&extent=-84.26938022&limit=1000&units=standard\n",
      "No stations found for 3538270 within the given extent: {'north': 35.9830483, 'south': 35.93220047, 'east': -84.26938022, 'west': -84.34150401}\n",
      "Attempting to expand the extent by 0.2 degrees...\n",
      "https://www.ncdc.noaa.gov/cdo-web/api/v2/stations?datasetid=PRECIP_15&startdate=2000-06-21&enddate=2000-07-08&extent=35.732200469999995&extent=-84.54150401&extent=36.1830483&extent=-84.06938022&limit=1000&units=standard\n",
      "No stations found even after expanding the extent. Skipping this gauge.\n",
      "Rainfall data processing is done for 3538270 starting from 2000-06-21\n",
      "https://www.ncdc.noaa.gov/cdo-web/api/v2/stations?datasetid=PRECIP_15&startdate=2020-05-16&enddate=2020-06-02&extent=35.83002675&extent=-85.10105441&extent=35.88963653&extent=-85.03928839&limit=1000&units=standard\n",
      "No stations found for 3538970 within the given extent: {'north': 35.88963653, 'south': 35.83002675, 'east': -85.03928839, 'west': -85.10105441}\n",
      "Attempting to expand the extent by 0.2 degrees...\n",
      "https://www.ncdc.noaa.gov/cdo-web/api/v2/stations?datasetid=PRECIP_15&startdate=2020-05-16&enddate=2020-06-02&extent=35.63002675&extent=-85.30105441&extent=36.08963653&extent=-84.83928839&limit=1000&units=standard\n",
      "No stations found even after expanding the extent. Skipping this gauge.\n",
      "Rainfall data processing is done for 3538970 starting from 2020-05-16\n",
      "https://www.ncdc.noaa.gov/cdo-web/api/v2/stations?datasetid=PRECIP_15&startdate=2007-06-17&enddate=2007-07-04&extent=35.43234109&extent=-84.61386089&extent=35.5391693&extent=-84.44254838&limit=1000&units=standard\n",
      "No stations found for 3565442 within the given extent: {'north': 35.5391693, 'south': 35.43234109, 'east': -84.44254838, 'west': -84.61386089}\n",
      "Attempting to expand the extent by 0.2 degrees...\n",
      "https://www.ncdc.noaa.gov/cdo-web/api/v2/stations?datasetid=PRECIP_15&startdate=2007-06-17&enddate=2007-07-04&extent=35.23234109&extent=-84.81386089&extent=35.7391693&extent=-84.24254838&limit=1000&units=standard\n",
      "No stations found even after expanding the extent. Skipping this gauge.\n",
      "Rainfall data processing is done for 3565442 starting from 2007-06-17\n",
      "https://www.ncdc.noaa.gov/cdo-web/api/v2/stations?datasetid=PRECIP_15&startdate=2020-06-14&enddate=2020-06-30&extent=35.09088592&extent=-85.34162069&extent=35.15988874&extent=-85.28837621&limit=1000&units=standard\n",
      "No stations found for 3569190 within the given extent: {'north': 35.15988874, 'south': 35.09088592, 'east': -85.28837621, 'west': -85.34162069}\n",
      "Attempting to expand the extent by 0.2 degrees...\n",
      "https://www.ncdc.noaa.gov/cdo-web/api/v2/stations?datasetid=PRECIP_15&startdate=2020-06-14&enddate=2020-06-30&extent=34.890885919999995&extent=-85.54162069&extent=35.35988874&extent=-85.08837620999999&limit=1000&units=standard\n",
      "No stations found even after expanding the extent. Skipping this gauge.\n",
      "Rainfall data processing is done for 3569190 starting from 2020-06-14\n",
      "https://www.ncdc.noaa.gov/cdo-web/api/v2/stations?datasetid=PRECIP_15&startdate=2003-05-14&enddate=2003-05-30&extent=35.40935017&extent=-86.09389556&extent=35.47507918&extent=-86.00351129&limit=1000&units=standard\n",
      "No stations found for 3595100 within the given extent: {'north': 35.47507918, 'south': 35.40935017, 'east': -86.00351129, 'west': -86.09389556}\n",
      "Attempting to expand the extent by 0.2 degrees...\n",
      "https://www.ncdc.noaa.gov/cdo-web/api/v2/stations?datasetid=PRECIP_15&startdate=2003-05-14&enddate=2003-05-30&extent=35.20935017&extent=-86.29389556000001&extent=35.675079180000004&extent=-85.80351129&limit=1000&units=standard\n",
      "https://www.ncdc.noaa.gov/cdo-web/api/v2/data?datasetid=PRECIP_15&startdate=2003-05-14&enddate=2003-05-30&stationid=COOP:406162&limit=1000&units=standard\n",
      "Rainfall data processing is done for 3595100 starting from 2003-05-14\n",
      "https://www.ncdc.noaa.gov/cdo-web/api/v2/stations?datasetid=PRECIP_15&startdate=2004-05-27&enddate=2004-06-13&extent=35.36054983&extent=-86.15944768&extent=35.45212428&extent=-86.03567599&limit=1000&units=standard\n",
      "No stations found for 3596100 within the given extent: {'north': 35.45212428, 'south': 35.36054983, 'east': -86.03567599, 'west': -86.15944768}\n",
      "Attempting to expand the extent by 0.2 degrees...\n",
      "https://www.ncdc.noaa.gov/cdo-web/api/v2/stations?datasetid=PRECIP_15&startdate=2004-05-27&enddate=2004-06-13&extent=35.160549829999994&extent=-86.35944768&extent=35.65212428&extent=-85.83567599&limit=1000&units=standard\n",
      "https://www.ncdc.noaa.gov/cdo-web/api/v2/data?datasetid=PRECIP_15&startdate=2004-05-27&enddate=2004-06-13&stationid=COOP:406162&limit=1000&units=standard\n",
      "Rainfall data processing is done for 3596100 starting from 2004-05-27\n",
      "https://www.ncdc.noaa.gov/cdo-web/api/v2/stations?datasetid=PRECIP_15&startdate=2016-06-17&enddate=2016-07-03&extent=35.50636667&extent=-86.40167047&extent=35.66428&extent=-86.300294&limit=1000&units=standard\n",
      "No stations found for 3597590 within the given extent: {'north': 35.66428, 'south': 35.50636667, 'east': -86.300294, 'west': -86.40167047}\n",
      "Attempting to expand the extent by 0.2 degrees...\n",
      "https://www.ncdc.noaa.gov/cdo-web/api/v2/stations?datasetid=PRECIP_15&startdate=2016-06-17&enddate=2016-07-03&extent=35.306366669999996&extent=-86.60167047&extent=35.86428&extent=-86.10029399999999&limit=1000&units=standard\n",
      "No stations found even after expanding the extent. Skipping this gauge.\n",
      "Rainfall data processing is done for 3597590 starting from 2016-06-17\n",
      "https://www.ncdc.noaa.gov/cdo-web/api/v2/stations?datasetid=PRECIP_15&startdate=2009-05-01&enddate=2009-05-17&extent=35.56227767&extent=-86.45657281&extent=35.61146435&extent=-86.38652084&limit=1000&units=standard\n",
      "No stations found for 3598169 within the given extent: {'north': 35.61146435, 'south': 35.56227767, 'east': -86.38652084, 'west': -86.45657281}\n",
      "Attempting to expand the extent by 0.2 degrees...\n",
      "https://www.ncdc.noaa.gov/cdo-web/api/v2/stations?datasetid=PRECIP_15&startdate=2009-05-01&enddate=2009-05-17&extent=35.36227767&extent=-86.65657281&extent=35.81146435&extent=-86.18652084&limit=1000&units=standard\n",
      "No stations found even after expanding the extent. Skipping this gauge.\n",
      "Rainfall data processing is done for 3598169 starting from 2009-05-01\n",
      "https://www.ncdc.noaa.gov/cdo-web/api/v2/stations?datasetid=PRECIP_15&startdate=2000-04-14&enddate=2000-04-30&extent=35.36466547&extent=-86.86027159&extent=35.45978346&extent=-86.7393628&limit=1000&units=standard\n",
      "https://www.ncdc.noaa.gov/cdo-web/api/v2/data?datasetid=PRECIP_15&startdate=2000-04-14&enddate=2000-04-30&stationid=COOP:405187&limit=1000&units=standard\n",
      "Rainfall data processing is done for 3599000 starting from 2000-04-14\n",
      "https://www.ncdc.noaa.gov/cdo-web/api/v2/stations?datasetid=PRECIP_15&startdate=2008-03-25&enddate=2008-04-10&extent=35.71191767&extent=-87.05359782&extent=35.82247825&extent=-86.94925584&limit=1000&units=standard\n",
      "No stations found for 3600088 within the given extent: {'north': 35.82247825, 'south': 35.71191767, 'east': -86.94925584, 'west': -87.05359782}\n",
      "Attempting to expand the extent by 0.2 degrees...\n",
      "https://www.ncdc.noaa.gov/cdo-web/api/v2/stations?datasetid=PRECIP_15&startdate=2008-03-25&enddate=2008-04-10&extent=35.511917669999995&extent=-87.25359782&extent=36.022478250000006&extent=-86.74925584&limit=1000&units=standard\n",
      "No stations found even after expanding the extent. Skipping this gauge.\n",
      "Rainfall data processing is done for 3600088 starting from 2008-03-25\n",
      "https://www.ncdc.noaa.gov/cdo-web/api/v2/stations?datasetid=PRECIP_15&startdate=2020-05-06&enddate=2020-05-22&extent=35.9593737&extent=-88.17490636&extent=36.10035386&extent=-88.06467076&limit=1000&units=standard\n",
      "No stations found for 3605078 within the given extent: {'north': 36.10035386, 'south': 35.9593737, 'east': -88.06467076, 'west': -88.17490636}\n",
      "Attempting to expand the extent by 0.2 degrees...\n",
      "https://www.ncdc.noaa.gov/cdo-web/api/v2/stations?datasetid=PRECIP_15&startdate=2020-05-06&enddate=2020-05-22&extent=35.7593737&extent=-88.37490636&extent=36.30035386&extent=-87.86467076&limit=1000&units=standard\n",
      "No stations found even after expanding the extent. Skipping this gauge.\n",
      "Rainfall data processing is done for 3605078 starting from 2020-05-06\n",
      "https://www.ncdc.noaa.gov/cdo-web/api/v2/stations?datasetid=PRECIP_15&startdate=2016-04-14&enddate=2016-05-01&extent=36.02985571&extent=-88.4245398&extent=36.13893026&extent=-88.30413436&limit=1000&units=standard\n",
      "No stations found for 7024200 within the given extent: {'north': 36.13893026, 'south': 36.02985571, 'east': -88.30413436, 'west': -88.4245398}\n",
      "Attempting to expand the extent by 0.2 degrees...\n",
      "https://www.ncdc.noaa.gov/cdo-web/api/v2/stations?datasetid=PRECIP_15&startdate=2016-04-14&enddate=2016-05-01&extent=35.82985571&extent=-88.62453980000001&extent=36.338930260000005&extent=-88.10413436&limit=1000&units=standard\n",
      "No stations found even after expanding the extent. Skipping this gauge.\n",
      "Rainfall data processing is done for 7024200 starting from 2016-04-14\n",
      "https://www.ncdc.noaa.gov/cdo-web/api/v2/stations?datasetid=PRECIP_15&startdate=2015-07-02&enddate=2015-07-18&extent=36.45700063&extent=-89.33575488&extent=36.58079572&extent=-89.17949579&limit=1000&units=standard\n",
      "No stations found for 7026680 within the given extent: {'north': 36.58079572, 'south': 36.45700063, 'east': -89.17949579, 'west': -89.33575488}\n",
      "Attempting to expand the extent by 0.2 degrees...\n",
      "https://www.ncdc.noaa.gov/cdo-web/api/v2/stations?datasetid=PRECIP_15&startdate=2015-07-02&enddate=2015-07-18&extent=36.25700063&extent=-89.53575488&extent=36.78079572&extent=-88.97949579&limit=1000&units=standard\n",
      "No stations found even after expanding the extent. Skipping this gauge.\n",
      "Rainfall data processing is done for 7026680 starting from 2015-07-02\n",
      "https://www.ncdc.noaa.gov/cdo-web/api/v2/stations?datasetid=PRECIP_15&startdate=2014-06-25&enddate=2014-07-11&extent=36.34292002&extent=-89.35028677&extent=36.39845329&extent=-89.29288658&limit=1000&units=standard\n",
      "No stations found for 7026795 within the given extent: {'north': 36.39845329, 'south': 36.34292002, 'east': -89.29288658, 'west': -89.35028677}\n",
      "Attempting to expand the extent by 0.2 degrees...\n",
      "https://www.ncdc.noaa.gov/cdo-web/api/v2/stations?datasetid=PRECIP_15&startdate=2014-06-25&enddate=2014-07-11&extent=36.14292002&extent=-89.55028677&extent=36.59845329&extent=-89.09288658&limit=1000&units=standard\n",
      "No stations found even after expanding the extent. Skipping this gauge.\n",
      "Rainfall data processing is done for 7026795 starting from 2014-06-25\n",
      "https://www.ncdc.noaa.gov/cdo-web/api/v2/stations?datasetid=PRECIP_15&startdate=2002-07-24&enddate=2002-08-09&extent=35.79841428&extent=-88.81509142&extent=35.83311581&extent=-88.75380996&limit=1000&units=standard\n",
      "No stations found for 7028930 within the given extent: {'north': 35.83311581, 'south': 35.79841428, 'east': -88.75380996, 'west': -88.81509142}\n",
      "Attempting to expand the extent by 0.2 degrees...\n",
      "https://www.ncdc.noaa.gov/cdo-web/api/v2/stations?datasetid=PRECIP_15&startdate=2002-07-24&enddate=2002-08-09&extent=35.59841428&extent=-89.01509142&extent=36.033115810000005&extent=-88.55380996&limit=1000&units=standard\n",
      "https://www.ncdc.noaa.gov/cdo-web/api/v2/data?datasetid=PRECIP_15&startdate=2002-07-24&enddate=2002-08-09&stationid=COOP:404561&limit=1000&units=standard\n",
      "Warnings for 7028930: \"None of [Index(['date', 'QPCP'], dtype='object')] are in the [columns]\"\n",
      "No valid data collected for 7028930. Exiting process.\n",
      "Rainfall data processing is done for 7028930 starting from 2002-07-24\n",
      "https://www.ncdc.noaa.gov/cdo-web/api/v2/stations?datasetid=PRECIP_15&startdate=2010-04-17&enddate=2010-05-03&extent=35.09577534&extent=-89.69916857&extent=35.13027688&extent=-89.60547089&limit=1000&units=standard\n",
      "No stations found for 70306050 within the given extent: {'north': 35.13027688, 'south': 35.09577534, 'east': -89.60547089, 'west': -89.69916857}\n",
      "Attempting to expand the extent by 0.2 degrees...\n",
      "https://www.ncdc.noaa.gov/cdo-web/api/v2/stations?datasetid=PRECIP_15&startdate=2010-04-17&enddate=2010-05-03&extent=34.89577534&extent=-89.89916857&extent=35.33027688&extent=-89.40547089&limit=1000&units=standard\n",
      "https://www.ncdc.noaa.gov/cdo-web/api/v2/data?datasetid=PRECIP_15&startdate=2010-04-17&enddate=2010-05-03&stationid=COOP:405956&limit=1000&units=standard\n",
      "No valid mean rainfall data for 70306050. Exiting process.\n",
      "Rainfall data processing is done for 70306050 starting from 2010-04-17\n",
      "https://www.ncdc.noaa.gov/cdo-web/api/v2/stations?datasetid=PRECIP_15&startdate=2004-04-15&enddate=2004-05-01&extent=35.13780356&extent=-89.87493327&extent=35.23990334&extent=-89.74421197&limit=1000&units=standard\n",
      "No stations found for 7031692 within the given extent: {'north': 35.23990334, 'south': 35.13780356, 'east': -89.74421197, 'west': -89.87493327}\n",
      "Attempting to expand the extent by 0.2 degrees...\n",
      "https://www.ncdc.noaa.gov/cdo-web/api/v2/stations?datasetid=PRECIP_15&startdate=2004-04-15&enddate=2004-05-01&extent=34.93780356&extent=-90.07493327&extent=35.43990334&extent=-89.54421196999999&limit=1000&units=standard\n",
      "https://www.ncdc.noaa.gov/cdo-web/api/v2/data?datasetid=PRECIP_15&startdate=2004-04-15&enddate=2004-05-01&stationid=COOP:405956&limit=1000&units=standard\n",
      "Warnings for 7031692: \"['QPCP'] not in index\"\n",
      "No valid data collected for 7031692. Exiting process.\n",
      "Rainfall data processing is done for 7031692 starting from 2004-04-15\n",
      "https://www.ncdc.noaa.gov/cdo-web/api/v2/stations?datasetid=PRECIP_15&startdate=2018-08-10&enddate=2018-08-26&extent=36.47054977&extent=-85.87185917&extent=36.56569568&extent=-85.80165628&limit=1000&units=standard\n",
      "No stations found for 3312259 within the given extent: {'north': 36.56569568, 'south': 36.47054977, 'east': -85.80165628, 'west': -85.87185917}\n",
      "Attempting to expand the extent by 0.2 degrees...\n",
      "https://www.ncdc.noaa.gov/cdo-web/api/v2/stations?datasetid=PRECIP_15&startdate=2018-08-10&enddate=2018-08-26&extent=36.270549769999995&extent=-86.07185917&extent=36.76569568&extent=-85.60165628&limit=1000&units=standard\n",
      "No stations found even after expanding the extent. Skipping this gauge.\n",
      "Rainfall data processing is done for 3312259 starting from 2018-08-10\n",
      "https://www.ncdc.noaa.gov/cdo-web/api/v2/stations?datasetid=PRECIP_15&startdate=2009-04-24&enddate=2009-05-10&extent=36.31355449&extent=-86.79300794&extent=36.41892638&extent=-86.71621875&limit=1000&units=standard\n",
      "No stations found for 3426385 within the given extent: {'north': 36.41892638, 'south': 36.31355449, 'east': -86.71621875, 'west': -86.79300794}\n",
      "Attempting to expand the extent by 0.2 degrees...\n",
      "https://www.ncdc.noaa.gov/cdo-web/api/v2/stations?datasetid=PRECIP_15&startdate=2009-04-24&enddate=2009-05-10&extent=36.11355449&extent=-86.99300794&extent=36.618926380000005&extent=-86.51621875&limit=1000&units=standard\n",
      "https://www.ncdc.noaa.gov/cdo-web/api/v2/data?datasetid=PRECIP_15&startdate=2009-04-24&enddate=2009-05-10&stationid=COOP:406806&limit=1000&units=standard\n",
      "https://www.ncdc.noaa.gov/cdo-web/api/v2/data?datasetid=PRECIP_15&startdate=2009-04-24&enddate=2009-05-10&stationid=COOP:407359&limit=1000&units=standard\n",
      "https://www.ncdc.noaa.gov/cdo-web/api/v2/data?datasetid=PRECIP_15&startdate=2009-04-24&enddate=2009-05-10&stationid=COOP:408562&limit=1000&units=standard\n",
      "Rainfall data processing is done for 3426385 starting from 2009-04-24\n",
      "https://www.ncdc.noaa.gov/cdo-web/api/v2/stations?datasetid=PRECIP_15&startdate=2019-04-07&enddate=2019-04-23&extent=36.26672548&extent=-86.76382851&extent=36.31769794&extent=-86.68765616&limit=1000&units=standard\n",
      "No stations found for 3426470 within the given extent: {'north': 36.31769794, 'south': 36.26672548, 'east': -86.68765616, 'west': -86.76382851}\n",
      "Attempting to expand the extent by 0.2 degrees...\n",
      "https://www.ncdc.noaa.gov/cdo-web/api/v2/stations?datasetid=PRECIP_15&startdate=2019-04-07&enddate=2019-04-23&extent=36.066725479999995&extent=-86.96382851&extent=36.517697940000005&extent=-86.48765616&limit=1000&units=standard\n",
      "No stations found even after expanding the extent. Skipping this gauge.\n",
      "Rainfall data processing is done for 3426470 starting from 2019-04-07\n",
      "https://www.ncdc.noaa.gov/cdo-web/api/v2/stations?datasetid=PRECIP_15&startdate=2004-04-16&enddate=2004-05-03&extent=36.14948376&extent=-86.61437007&extent=36.23681666&extent=-86.4603212&limit=1000&units=standard\n",
      "No stations found for 3430147 within the given extent: {'north': 36.23681666, 'south': 36.14948376, 'east': -86.4603212, 'west': -86.61437007}\n",
      "Attempting to expand the extent by 0.2 degrees...\n",
      "https://www.ncdc.noaa.gov/cdo-web/api/v2/stations?datasetid=PRECIP_15&startdate=2004-04-16&enddate=2004-05-03&extent=35.94948376&extent=-86.81437007000001&extent=36.436816660000005&extent=-86.26032119999999&limit=1000&units=standard\n",
      "https://www.ncdc.noaa.gov/cdo-web/api/v2/data?datasetid=PRECIP_15&startdate=2004-04-16&enddate=2004-05-03&stationid=COOP:405108&limit=1000&units=standard\n",
      "https://www.ncdc.noaa.gov/cdo-web/api/v2/data?datasetid=PRECIP_15&startdate=2004-04-16&enddate=2004-05-03&stationid=COOP:406806&limit=1000&units=standard\n",
      "Rainfall data processing is done for 3430147 starting from 2004-04-16\n",
      "https://www.ncdc.noaa.gov/cdo-web/api/v2/stations?datasetid=PRECIP_15&startdate=2015-04-01&enddate=2015-04-15&extent=36.06495557&extent=-86.81620105&extent=36.16118001&extent=-86.72033451&limit=1000&units=standard\n",
      "No stations found for 3431300 within the given extent: {'north': 36.16118001, 'south': 36.06495557, 'east': -86.72033451, 'west': -86.81620105}\n",
      "Attempting to expand the extent by 0.2 degrees...\n",
      "https://www.ncdc.noaa.gov/cdo-web/api/v2/stations?datasetid=PRECIP_15&startdate=2015-04-01&enddate=2015-04-15&extent=35.86495557&extent=-87.01620105&extent=36.361180010000005&extent=-86.52033451&limit=1000&units=standard\n",
      "No stations found even after expanding the extent. Skipping this gauge.\n",
      "Rainfall data processing is done for 3431300 starting from 2015-04-01\n",
      "https://www.ncdc.noaa.gov/cdo-web/api/v2/stations?datasetid=PRECIP_15&startdate=2016-05-03&enddate=2016-05-19&extent=36.06439975&extent=-86.91755364&extent=36.1539268&extent=-86.79783154&limit=1000&units=standard\n",
      "No stations found for 3431700 within the given extent: {'north': 36.1539268, 'south': 36.06439975, 'east': -86.79783154, 'west': -86.91755364}\n",
      "Attempting to expand the extent by 0.2 degrees...\n",
      "https://www.ncdc.noaa.gov/cdo-web/api/v2/stations?datasetid=PRECIP_15&startdate=2016-05-03&enddate=2016-05-19&extent=35.86439975&extent=-87.11755364&extent=36.3539268&extent=-86.59783154&limit=1000&units=standard\n",
      "No stations found even after expanding the extent. Skipping this gauge.\n",
      "Rainfall data processing is done for 3431700 starting from 2016-05-03\n",
      "https://www.ncdc.noaa.gov/cdo-web/api/v2/stations?datasetid=PRECIP_15&startdate=2000-07-29&enddate=2000-08-12&extent=35.9138341&extent=-86.86123297&extent=35.93584826&extent=-86.81715714&limit=1000&units=standard\n",
      "No stations found for 34323531 within the given extent: {'north': 35.93584826, 'south': 35.9138341, 'east': -86.81715714, 'west': -86.86123297}\n",
      "Attempting to expand the extent by 0.2 degrees...\n",
      "https://www.ncdc.noaa.gov/cdo-web/api/v2/stations?datasetid=PRECIP_15&startdate=2000-07-29&enddate=2000-08-12&extent=35.7138341&extent=-87.06123297&extent=36.13584826&extent=-86.61715714&limit=1000&units=standard\n",
      "No stations found even after expanding the extent. Skipping this gauge.\n",
      "Rainfall data processing is done for 34323531 starting from 2000-07-29\n",
      "https://www.ncdc.noaa.gov/cdo-web/api/v2/stations?datasetid=PRECIP_15&startdate=2004-06-24&enddate=2004-07-10&extent=35.92571722&extent=-86.82916748&extent=35.9481873&extent=-86.77946158&limit=1000&units=standard\n",
      "No stations found for 3432387 within the given extent: {'north': 35.9481873, 'south': 35.92571722, 'east': -86.77946158, 'west': -86.82916748}\n",
      "Attempting to expand the extent by 0.2 degrees...\n",
      "https://www.ncdc.noaa.gov/cdo-web/api/v2/stations?datasetid=PRECIP_15&startdate=2004-06-24&enddate=2004-07-10&extent=35.72571722&extent=-87.02916748&extent=36.148187300000004&extent=-86.57946158&limit=1000&units=standard\n",
      "No stations found even after expanding the extent. Skipping this gauge.\n",
      "Rainfall data processing is done for 3432387 starting from 2004-06-24\n",
      "https://www.ncdc.noaa.gov/cdo-web/api/v2/stations?datasetid=PRECIP_15&startdate=2005-03-24&enddate=2005-04-09&extent=35.92571722&extent=-86.86050701&extent=35.99175158&extent=-86.77946158&limit=1000&units=standard\n",
      "No stations found for 3432390 within the given extent: {'north': 35.99175158, 'south': 35.92571722, 'east': -86.77946158, 'west': -86.86050701}\n",
      "Attempting to expand the extent by 0.2 degrees...\n",
      "https://www.ncdc.noaa.gov/cdo-web/api/v2/stations?datasetid=PRECIP_15&startdate=2005-03-24&enddate=2005-04-09&extent=35.72571722&extent=-87.06050701000001&extent=36.19175158&extent=-86.57946158&limit=1000&units=standard\n",
      "No stations found even after expanding the extent. Skipping this gauge.\n",
      "Rainfall data processing is done for 3432390 starting from 2005-03-24\n",
      "https://www.ncdc.noaa.gov/cdo-web/api/v2/stations?datasetid=PRECIP_15&startdate=2009-06-04&enddate=2009-06-20&extent=35.79690068&extent=-87.06590957&extent=35.84695527&extent=-87.00605068&limit=1000&units=standard\n",
      "No stations found for 3432516 within the given extent: {'north': 35.84695527, 'south': 35.79690068, 'east': -87.00605068, 'west': -87.06590957}\n",
      "Attempting to expand the extent by 0.2 degrees...\n",
      "https://www.ncdc.noaa.gov/cdo-web/api/v2/stations?datasetid=PRECIP_15&startdate=2009-06-04&enddate=2009-06-20&extent=35.59690068&extent=-87.26590957&extent=36.046955270000005&extent=-86.80605068&limit=1000&units=standard\n",
      "No stations found even after expanding the extent. Skipping this gauge.\n",
      "Rainfall data processing is done for 3432516 starting from 2009-06-04\n",
      "https://www.ncdc.noaa.gov/cdo-web/api/v2/stations?datasetid=PRECIP_15&startdate=2004-06-30&enddate=2004-07-17&extent=36.40887148&extent=-87.08152355&extent=36.50095989&extent=-86.95576251&limit=1000&units=standard\n",
      "No stations found for 3435970 within the given extent: {'north': 36.50095989, 'south': 36.40887148, 'east': -86.95576251, 'west': -87.08152355}\n",
      "Attempting to expand the extent by 0.2 degrees...\n",
      "https://www.ncdc.noaa.gov/cdo-web/api/v2/stations?datasetid=PRECIP_15&startdate=2004-06-30&enddate=2004-07-17&extent=36.20887148&extent=-87.28152355&extent=36.70095989&extent=-86.75576251&limit=1000&units=standard\n",
      "https://www.ncdc.noaa.gov/cdo-web/api/v2/data?datasetid=PRECIP_15&startdate=2004-06-30&enddate=2004-07-17&stationid=COOP:401663&limit=1000&units=standard\n",
      "Warning: could not squash response: \n",
      " <Response [503]>, b'<!DOCTYPE HTML PUBLIC \"-//IETF//DTD HTML 2.0//EN\">\\n<html><head>\\n<title>503 Service Unavailable</title>\\n</head><body>\\n<h1>Service Unavailable</h1>\\n<p>The server is temporarily unable to service your\\nrequest due to maintenance downtime or capacity\\nproblems. Please try again later.</p>\\n<p>Additionally, a 503 Service Unavailable\\nerror was encountered while trying to use an ErrorDocument to handle the request.</p>\\n</body></html>\\n'\n",
      "Warnings for 3435970: \"None of [Index(['date', 'QPCP'], dtype='object')] are in the [columns]\"\n",
      "https://www.ncdc.noaa.gov/cdo-web/api/v2/data?datasetid=PRECIP_15&startdate=2004-06-30&enddate=2004-07-17&stationid=COOP:408562&limit=1000&units=standard\n",
      "Rainfall data processing is done for 3435970 starting from 2004-06-30\n",
      "https://www.ncdc.noaa.gov/cdo-web/api/v2/stations?datasetid=PRECIP_15&startdate=2017-03-27&enddate=2017-04-13&extent=35.58924747&extent=-83.58869221&extent=35.70895269&extent=-83.38886094&limit=1000&units=standard\n",
      "No stations found for 3469251 within the given extent: {'north': 35.70895269, 'south': 35.58924747, 'east': -83.38886094, 'west': -83.58869221}\n",
      "Attempting to expand the extent by 0.2 degrees...\n",
      "https://www.ncdc.noaa.gov/cdo-web/api/v2/stations?datasetid=PRECIP_15&startdate=2017-03-27&enddate=2017-04-13&extent=35.389247469999994&extent=-83.78869221000001&extent=35.90895269&extent=-83.18886094&limit=1000&units=standard\n",
      "No stations found even after expanding the extent. Skipping this gauge.\n",
      "Rainfall data processing is done for 3469251 starting from 2017-03-27\n",
      "https://www.ncdc.noaa.gov/cdo-web/api/v2/stations?datasetid=PRECIP_15&startdate=2019-07-16&enddate=2019-08-01&extent=36.37321371&extent=-83.05688717&extent=36.42555552&extent=-82.98309718&limit=1000&units=standard\n",
      "No stations found for 3491544 within the given extent: {'north': 36.42555552, 'south': 36.37321371, 'east': -82.98309718, 'west': -83.05688717}\n",
      "Attempting to expand the extent by 0.2 degrees...\n",
      "https://www.ncdc.noaa.gov/cdo-web/api/v2/stations?datasetid=PRECIP_15&startdate=2019-07-16&enddate=2019-08-01&extent=36.17321371&extent=-83.25688717&extent=36.625555520000006&extent=-82.78309718&limit=1000&units=standard\n",
      "No stations found even after expanding the extent. Skipping this gauge.\n",
      "Rainfall data processing is done for 3491544 starting from 2019-07-16\n",
      "https://www.ncdc.noaa.gov/cdo-web/api/v2/stations?datasetid=PRECIP_15&startdate=2019-04-13&enddate=2019-04-29&extent=36.07117705&extent=-83.85598071&extent=36.13632579&extent=-83.75988312&limit=1000&units=standard\n",
      "No stations found for 3495405 within the given extent: {'north': 36.13632579, 'south': 36.07117705, 'east': -83.75988312, 'west': -83.85598071}\n",
      "Attempting to expand the extent by 0.2 degrees...\n",
      "https://www.ncdc.noaa.gov/cdo-web/api/v2/stations?datasetid=PRECIP_15&startdate=2019-04-13&enddate=2019-04-29&extent=35.87117705&extent=-84.05598071&extent=36.336325790000004&extent=-83.55988312&limit=1000&units=standard\n",
      "No stations found even after expanding the extent. Skipping this gauge.\n",
      "Rainfall data processing is done for 3495405 starting from 2019-04-13\n",
      "https://www.ncdc.noaa.gov/cdo-web/api/v2/stations?datasetid=PRECIP_15&startdate=2009-07-24&enddate=2009-08-09&extent=35.8546123&extent=-83.85496784&extent=35.8929825&extent=-83.8007075&limit=1000&units=standard\n",
      "No stations found for 34991105 within the given extent: {'north': 35.8929825, 'south': 35.8546123, 'east': -83.8007075, 'west': -83.85496784}\n",
      "Attempting to expand the extent by 0.2 degrees...\n",
      "https://www.ncdc.noaa.gov/cdo-web/api/v2/stations?datasetid=PRECIP_15&startdate=2009-07-24&enddate=2009-08-09&extent=35.6546123&extent=-84.05496784&extent=36.092982500000005&extent=-83.6007075&limit=1000&units=standard\n",
      "No stations found even after expanding the extent. Skipping this gauge.\n",
      "Rainfall data processing is done for 34991105 starting from 2009-07-24\n",
      "https://www.ncdc.noaa.gov/cdo-web/api/v2/stations?datasetid=PRECIP_15&startdate=2010-04-18&enddate=2010-05-04&extent=36.06203317&extent=-83.93733116&extent=36.15646214&extent=-83.83673724&limit=1000&units=standard\n",
      "No stations found for 35351830 within the given extent: {'north': 36.15646214, 'south': 36.06203317, 'east': -83.83673724, 'west': -83.93733116}\n",
      "Attempting to expand the extent by 0.2 degrees...\n",
      "https://www.ncdc.noaa.gov/cdo-web/api/v2/stations?datasetid=PRECIP_15&startdate=2010-04-18&enddate=2010-05-04&extent=35.86203317&extent=-84.13733116&extent=36.356462140000005&extent=-83.63673724&limit=1000&units=standard\n",
      "Warning: could not squash response: \n",
      " <Response [503]>, b'<!DOCTYPE HTML PUBLIC \"-//IETF//DTD HTML 2.0//EN\">\\n<html><head>\\n<title>503 Service Unavailable</title>\\n</head><body>\\n<h1>Service Unavailable</h1>\\n<p>The server is temporarily unable to service your\\nrequest due to maintenance downtime or capacity\\nproblems. Please try again later.</p>\\n<p>Additionally, a 503 Service Unavailable\\nerror was encountered while trying to use an ErrorDocument to handle the request.</p>\\n</body></html>\\n'\n",
      "No stations found even after expanding the extent. Skipping this gauge.\n",
      "Rainfall data processing is done for 35351830 starting from 2010-04-18\n",
      "https://www.ncdc.noaa.gov/cdo-web/api/v2/stations?datasetid=PRECIP_15&startdate=2000-05-18&enddate=2000-06-03&extent=35.9104829&extent=-84.339059&extent=35.9577433&extent=-84.29154599&limit=1000&units=standard\n",
      "No stations found for 3536550 within the given extent: {'north': 35.9577433, 'south': 35.9104829, 'east': -84.29154599, 'west': -84.339059}\n",
      "Attempting to expand the extent by 0.2 degrees...\n",
      "https://www.ncdc.noaa.gov/cdo-web/api/v2/stations?datasetid=PRECIP_15&startdate=2000-05-18&enddate=2000-06-03&extent=35.710482899999995&extent=-84.53905900000001&extent=36.1577433&extent=-84.09154599&limit=1000&units=standard\n",
      "No stations found even after expanding the extent. Skipping this gauge.\n",
      "Rainfall data processing is done for 3536550 starting from 2000-05-18\n",
      "https://www.ncdc.noaa.gov/cdo-web/api/v2/stations?datasetid=PRECIP_15&startdate=2004-05-21&enddate=2004-06-03&extent=35.97466049&extent=-84.2748036&extent=36.01601348&extent=-84.22800419&limit=1000&units=standard\n",
      "No stations found for 3538235 within the given extent: {'north': 36.01601348, 'south': 35.97466049, 'east': -84.22800419, 'west': -84.2748036}\n",
      "Attempting to expand the extent by 0.2 degrees...\n",
      "https://www.ncdc.noaa.gov/cdo-web/api/v2/stations?datasetid=PRECIP_15&startdate=2004-05-21&enddate=2004-06-03&extent=35.774660489999995&extent=-84.4748036&extent=36.21601348&extent=-84.02800418999999&limit=1000&units=standard\n",
      "No stations found even after expanding the extent. Skipping this gauge.\n",
      "Rainfall data processing is done for 3538235 starting from 2004-05-21\n",
      "https://www.ncdc.noaa.gov/cdo-web/api/v2/stations?datasetid=PRECIP_15&startdate=2020-05-21&enddate=2020-06-06&extent=35.83002675&extent=-85.10105441&extent=35.88963653&extent=-85.03928839&limit=1000&units=standard\n",
      "No stations found for 3538970 within the given extent: {'north': 35.88963653, 'south': 35.83002675, 'east': -85.03928839, 'west': -85.10105441}\n",
      "Attempting to expand the extent by 0.2 degrees...\n",
      "https://www.ncdc.noaa.gov/cdo-web/api/v2/stations?datasetid=PRECIP_15&startdate=2020-05-21&enddate=2020-06-06&extent=35.63002675&extent=-85.30105441&extent=36.08963653&extent=-84.83928839&limit=1000&units=standard\n",
      "No stations found even after expanding the extent. Skipping this gauge.\n",
      "Rainfall data processing is done for 3538970 starting from 2020-05-21\n",
      "https://www.ncdc.noaa.gov/cdo-web/api/v2/stations?datasetid=PRECIP_15&startdate=2007-06-25&enddate=2007-07-11&extent=35.43234109&extent=-84.61386089&extent=35.5391693&extent=-84.44254838&limit=1000&units=standard\n",
      "No stations found for 3565442 within the given extent: {'north': 35.5391693, 'south': 35.43234109, 'east': -84.44254838, 'west': -84.61386089}\n",
      "Attempting to expand the extent by 0.2 degrees...\n",
      "https://www.ncdc.noaa.gov/cdo-web/api/v2/stations?datasetid=PRECIP_15&startdate=2007-06-25&enddate=2007-07-11&extent=35.23234109&extent=-84.81386089&extent=35.7391693&extent=-84.24254838&limit=1000&units=standard\n",
      "No stations found even after expanding the extent. Skipping this gauge.\n",
      "Rainfall data processing is done for 3565442 starting from 2007-06-25\n",
      "https://www.ncdc.noaa.gov/cdo-web/api/v2/stations?datasetid=PRECIP_15&startdate=2020-07-11&enddate=2020-07-27&extent=35.09088592&extent=-85.34162069&extent=35.15988874&extent=-85.28837621&limit=1000&units=standard\n",
      "No stations found for 3569190 within the given extent: {'north': 35.15988874, 'south': 35.09088592, 'east': -85.28837621, 'west': -85.34162069}\n",
      "Attempting to expand the extent by 0.2 degrees...\n",
      "https://www.ncdc.noaa.gov/cdo-web/api/v2/stations?datasetid=PRECIP_15&startdate=2020-07-11&enddate=2020-07-27&extent=34.890885919999995&extent=-85.54162069&extent=35.35988874&extent=-85.08837620999999&limit=1000&units=standard\n",
      "No stations found even after expanding the extent. Skipping this gauge.\n",
      "Rainfall data processing is done for 3569190 starting from 2020-07-11\n",
      "https://www.ncdc.noaa.gov/cdo-web/api/v2/stations?datasetid=PRECIP_15&startdate=2002-07-16&enddate=2002-08-02&extent=35.40935017&extent=-86.09389556&extent=35.47507918&extent=-86.00351129&limit=1000&units=standard\n",
      "No stations found for 3595100 within the given extent: {'north': 35.47507918, 'south': 35.40935017, 'east': -86.00351129, 'west': -86.09389556}\n",
      "Attempting to expand the extent by 0.2 degrees...\n",
      "https://www.ncdc.noaa.gov/cdo-web/api/v2/stations?datasetid=PRECIP_15&startdate=2002-07-16&enddate=2002-08-02&extent=35.20935017&extent=-86.29389556000001&extent=35.675079180000004&extent=-85.80351129&limit=1000&units=standard\n",
      "https://www.ncdc.noaa.gov/cdo-web/api/v2/data?datasetid=PRECIP_15&startdate=2002-07-16&enddate=2002-08-02&stationid=COOP:406162&limit=1000&units=standard\n",
      "Rainfall data processing is done for 3595100 starting from 2002-07-16\n",
      "https://www.ncdc.noaa.gov/cdo-web/api/v2/stations?datasetid=PRECIP_15&startdate=2004-06-18&enddate=2004-07-04&extent=35.36054983&extent=-86.15944768&extent=35.45212428&extent=-86.03567599&limit=1000&units=standard\n",
      "No stations found for 3596100 within the given extent: {'north': 35.45212428, 'south': 35.36054983, 'east': -86.03567599, 'west': -86.15944768}\n",
      "Attempting to expand the extent by 0.2 degrees...\n",
      "https://www.ncdc.noaa.gov/cdo-web/api/v2/stations?datasetid=PRECIP_15&startdate=2004-06-18&enddate=2004-07-04&extent=35.160549829999994&extent=-86.35944768&extent=35.65212428&extent=-85.83567599&limit=1000&units=standard\n",
      "https://www.ncdc.noaa.gov/cdo-web/api/v2/data?datasetid=PRECIP_15&startdate=2004-06-18&enddate=2004-07-04&stationid=COOP:406162&limit=1000&units=standard\n",
      "Rainfall data processing is done for 3596100 starting from 2004-06-18\n",
      "https://www.ncdc.noaa.gov/cdo-web/api/v2/stations?datasetid=PRECIP_15&startdate=2016-06-29&enddate=2016-07-15&extent=35.50636667&extent=-86.40167047&extent=35.66428&extent=-86.300294&limit=1000&units=standard\n",
      "No stations found for 3597590 within the given extent: {'north': 35.66428, 'south': 35.50636667, 'east': -86.300294, 'west': -86.40167047}\n",
      "Attempting to expand the extent by 0.2 degrees...\n",
      "https://www.ncdc.noaa.gov/cdo-web/api/v2/stations?datasetid=PRECIP_15&startdate=2016-06-29&enddate=2016-07-15&extent=35.306366669999996&extent=-86.60167047&extent=35.86428&extent=-86.10029399999999&limit=1000&units=standard\n",
      "No stations found even after expanding the extent. Skipping this gauge.\n",
      "Rainfall data processing is done for 3597590 starting from 2016-06-29\n",
      "https://www.ncdc.noaa.gov/cdo-web/api/v2/stations?datasetid=PRECIP_15&startdate=2000-04-17&enddate=2000-05-03&extent=35.36466547&extent=-86.86027159&extent=35.45978346&extent=-86.7393628&limit=1000&units=standard\n",
      "https://www.ncdc.noaa.gov/cdo-web/api/v2/data?datasetid=PRECIP_15&startdate=2000-04-17&enddate=2000-05-03&stationid=COOP:405187&limit=1000&units=standard\n",
      "Rainfall data processing is done for 3599000 starting from 2000-04-17\n",
      "https://www.ncdc.noaa.gov/cdo-web/api/v2/stations?datasetid=PRECIP_15&startdate=2008-03-27&enddate=2008-04-12&extent=35.71191767&extent=-87.05359782&extent=35.82247825&extent=-86.94925584&limit=1000&units=standard\n",
      "No stations found for 3600088 within the given extent: {'north': 35.82247825, 'south': 35.71191767, 'east': -86.94925584, 'west': -87.05359782}\n",
      "Attempting to expand the extent by 0.2 degrees...\n",
      "https://www.ncdc.noaa.gov/cdo-web/api/v2/stations?datasetid=PRECIP_15&startdate=2008-03-27&enddate=2008-04-12&extent=35.511917669999995&extent=-87.25359782&extent=36.022478250000006&extent=-86.74925584&limit=1000&units=standard\n",
      "No stations found even after expanding the extent. Skipping this gauge.\n",
      "Rainfall data processing is done for 3600088 starting from 2008-03-27\n",
      "https://www.ncdc.noaa.gov/cdo-web/api/v2/stations?datasetid=PRECIP_15&startdate=2020-05-13&enddate=2020-05-29&extent=35.9593737&extent=-88.17490636&extent=36.10035386&extent=-88.06467076&limit=1000&units=standard\n",
      "No stations found for 3605078 within the given extent: {'north': 36.10035386, 'south': 35.9593737, 'east': -88.06467076, 'west': -88.17490636}\n",
      "Attempting to expand the extent by 0.2 degrees...\n",
      "https://www.ncdc.noaa.gov/cdo-web/api/v2/stations?datasetid=PRECIP_15&startdate=2020-05-13&enddate=2020-05-29&extent=35.7593737&extent=-88.37490636&extent=36.30035386&extent=-87.86467076&limit=1000&units=standard\n",
      "No stations found even after expanding the extent. Skipping this gauge.\n",
      "Rainfall data processing is done for 3605078 starting from 2020-05-13\n",
      "https://www.ncdc.noaa.gov/cdo-web/api/v2/stations?datasetid=PRECIP_15&startdate=2016-04-20&enddate=2016-05-06&extent=36.02985571&extent=-88.4245398&extent=36.13893026&extent=-88.30413436&limit=1000&units=standard\n",
      "No stations found for 7024200 within the given extent: {'north': 36.13893026, 'south': 36.02985571, 'east': -88.30413436, 'west': -88.4245398}\n",
      "Attempting to expand the extent by 0.2 degrees...\n",
      "https://www.ncdc.noaa.gov/cdo-web/api/v2/stations?datasetid=PRECIP_15&startdate=2016-04-20&enddate=2016-05-06&extent=35.82985571&extent=-88.62453980000001&extent=36.338930260000005&extent=-88.10413436&limit=1000&units=standard\n",
      "No stations found even after expanding the extent. Skipping this gauge.\n",
      "Rainfall data processing is done for 7024200 starting from 2016-04-20\n",
      "https://www.ncdc.noaa.gov/cdo-web/api/v2/stations?datasetid=PRECIP_15&startdate=2015-08-04&enddate=2015-08-20&extent=36.45700063&extent=-89.33575488&extent=36.58079572&extent=-89.17949579&limit=1000&units=standard\n",
      "No stations found for 7026680 within the given extent: {'north': 36.58079572, 'south': 36.45700063, 'east': -89.17949579, 'west': -89.33575488}\n",
      "Attempting to expand the extent by 0.2 degrees...\n",
      "https://www.ncdc.noaa.gov/cdo-web/api/v2/stations?datasetid=PRECIP_15&startdate=2015-08-04&enddate=2015-08-20&extent=36.25700063&extent=-89.53575488&extent=36.78079572&extent=-88.97949579&limit=1000&units=standard\n",
      "No stations found even after expanding the extent. Skipping this gauge.\n",
      "Rainfall data processing is done for 7026680 starting from 2015-08-04\n",
      "https://www.ncdc.noaa.gov/cdo-web/api/v2/stations?datasetid=PRECIP_15&startdate=2002-08-11&enddate=2002-08-28&extent=35.79841428&extent=-88.81509142&extent=35.83311581&extent=-88.75380996&limit=1000&units=standard\n",
      "No stations found for 7028930 within the given extent: {'north': 35.83311581, 'south': 35.79841428, 'east': -88.75380996, 'west': -88.81509142}\n",
      "Attempting to expand the extent by 0.2 degrees...\n",
      "https://www.ncdc.noaa.gov/cdo-web/api/v2/stations?datasetid=PRECIP_15&startdate=2002-08-11&enddate=2002-08-28&extent=35.59841428&extent=-89.01509142&extent=36.033115810000005&extent=-88.55380996&limit=1000&units=standard\n",
      "https://www.ncdc.noaa.gov/cdo-web/api/v2/data?datasetid=PRECIP_15&startdate=2002-08-11&enddate=2002-08-28&stationid=COOP:404561&limit=1000&units=standard\n",
      "Warnings for 7028930: \"None of [Index(['date', 'QPCP'], dtype='object')] are in the [columns]\"\n",
      "No valid data collected for 7028930. Exiting process.\n",
      "Rainfall data processing is done for 7028930 starting from 2002-08-11\n",
      "https://www.ncdc.noaa.gov/cdo-web/api/v2/stations?datasetid=PRECIP_15&startdate=2010-04-25&enddate=2010-05-11&extent=35.09577534&extent=-89.69916857&extent=35.13027688&extent=-89.60547089&limit=1000&units=standard\n",
      "No stations found for 70306050 within the given extent: {'north': 35.13027688, 'south': 35.09577534, 'east': -89.60547089, 'west': -89.69916857}\n",
      "Attempting to expand the extent by 0.2 degrees...\n",
      "https://www.ncdc.noaa.gov/cdo-web/api/v2/stations?datasetid=PRECIP_15&startdate=2010-04-25&enddate=2010-05-11&extent=34.89577534&extent=-89.89916857&extent=35.33027688&extent=-89.40547089&limit=1000&units=standard\n",
      "https://www.ncdc.noaa.gov/cdo-web/api/v2/data?datasetid=PRECIP_15&startdate=2010-04-25&enddate=2010-05-11&stationid=COOP:405956&limit=1000&units=standard\n",
      "No valid mean rainfall data for 70306050. Exiting process.\n",
      "Rainfall data processing is done for 70306050 starting from 2010-04-25\n",
      "https://www.ncdc.noaa.gov/cdo-web/api/v2/stations?datasetid=PRECIP_15&startdate=2007-03-24&enddate=2007-04-10&extent=35.13780356&extent=-89.87493327&extent=35.23990334&extent=-89.74421197&limit=1000&units=standard\n",
      "No stations found for 7031692 within the given extent: {'north': 35.23990334, 'south': 35.13780356, 'east': -89.74421197, 'west': -89.87493327}\n",
      "Attempting to expand the extent by 0.2 degrees...\n",
      "https://www.ncdc.noaa.gov/cdo-web/api/v2/stations?datasetid=PRECIP_15&startdate=2007-03-24&enddate=2007-04-10&extent=34.93780356&extent=-90.07493327&extent=35.43990334&extent=-89.54421196999999&limit=1000&units=standard\n",
      "https://www.ncdc.noaa.gov/cdo-web/api/v2/data?datasetid=PRECIP_15&startdate=2007-03-24&enddate=2007-04-10&stationid=COOP:405956&limit=1000&units=standard\n",
      "Rainfall data processing is done for 7031692 starting from 2007-03-24\n",
      "https://www.ncdc.noaa.gov/cdo-web/api/v2/stations?datasetid=PRECIP_15&startdate=2018-08-12&enddate=2018-08-28&extent=36.47054977&extent=-85.87185917&extent=36.56569568&extent=-85.80165628&limit=1000&units=standard\n",
      "No stations found for 3312259 within the given extent: {'north': 36.56569568, 'south': 36.47054977, 'east': -85.80165628, 'west': -85.87185917}\n",
      "Attempting to expand the extent by 0.2 degrees...\n",
      "https://www.ncdc.noaa.gov/cdo-web/api/v2/stations?datasetid=PRECIP_15&startdate=2018-08-12&enddate=2018-08-28&extent=36.270549769999995&extent=-86.07185917&extent=36.76569568&extent=-85.60165628&limit=1000&units=standard\n",
      "No stations found even after expanding the extent. Skipping this gauge.\n",
      "Rainfall data processing is done for 3312259 starting from 2018-08-12\n",
      "https://www.ncdc.noaa.gov/cdo-web/api/v2/stations?datasetid=PRECIP_15&startdate=2009-04-25&enddate=2009-05-11&extent=36.31355449&extent=-86.79300794&extent=36.41892638&extent=-86.71621875&limit=1000&units=standard\n",
      "No stations found for 3426385 within the given extent: {'north': 36.41892638, 'south': 36.31355449, 'east': -86.71621875, 'west': -86.79300794}\n",
      "Attempting to expand the extent by 0.2 degrees...\n",
      "https://www.ncdc.noaa.gov/cdo-web/api/v2/stations?datasetid=PRECIP_15&startdate=2009-04-25&enddate=2009-05-11&extent=36.11355449&extent=-86.99300794&extent=36.618926380000005&extent=-86.51621875&limit=1000&units=standard\n",
      "https://www.ncdc.noaa.gov/cdo-web/api/v2/data?datasetid=PRECIP_15&startdate=2009-04-25&enddate=2009-05-11&stationid=COOP:406806&limit=1000&units=standard\n",
      "https://www.ncdc.noaa.gov/cdo-web/api/v2/data?datasetid=PRECIP_15&startdate=2009-04-25&enddate=2009-05-11&stationid=COOP:407359&limit=1000&units=standard\n",
      "https://www.ncdc.noaa.gov/cdo-web/api/v2/data?datasetid=PRECIP_15&startdate=2009-04-25&enddate=2009-05-11&stationid=COOP:408562&limit=1000&units=standard\n",
      "Rainfall data processing is done for 3426385 starting from 2009-04-25\n",
      "https://www.ncdc.noaa.gov/cdo-web/api/v2/stations?datasetid=PRECIP_15&startdate=2019-05-31&enddate=2019-06-16&extent=36.26672548&extent=-86.76382851&extent=36.31769794&extent=-86.68765616&limit=1000&units=standard\n",
      "No stations found for 3426470 within the given extent: {'north': 36.31769794, 'south': 36.26672548, 'east': -86.68765616, 'west': -86.76382851}\n",
      "Attempting to expand the extent by 0.2 degrees...\n",
      "https://www.ncdc.noaa.gov/cdo-web/api/v2/stations?datasetid=PRECIP_15&startdate=2019-05-31&enddate=2019-06-16&extent=36.066725479999995&extent=-86.96382851&extent=36.517697940000005&extent=-86.48765616&limit=1000&units=standard\n",
      "No stations found even after expanding the extent. Skipping this gauge.\n",
      "Rainfall data processing is done for 3426470 starting from 2019-05-31\n",
      "https://www.ncdc.noaa.gov/cdo-web/api/v2/stations?datasetid=PRECIP_15&startdate=2004-04-25&enddate=2004-05-11&extent=36.14948376&extent=-86.61437007&extent=36.23681666&extent=-86.4603212&limit=1000&units=standard\n",
      "No stations found for 3430147 within the given extent: {'north': 36.23681666, 'south': 36.14948376, 'east': -86.4603212, 'west': -86.61437007}\n",
      "Attempting to expand the extent by 0.2 degrees...\n",
      "https://www.ncdc.noaa.gov/cdo-web/api/v2/stations?datasetid=PRECIP_15&startdate=2004-04-25&enddate=2004-05-11&extent=35.94948376&extent=-86.81437007000001&extent=36.436816660000005&extent=-86.26032119999999&limit=1000&units=standard\n",
      "https://www.ncdc.noaa.gov/cdo-web/api/v2/data?datasetid=PRECIP_15&startdate=2004-04-25&enddate=2004-05-11&stationid=COOP:405108&limit=1000&units=standard\n",
      "https://www.ncdc.noaa.gov/cdo-web/api/v2/data?datasetid=PRECIP_15&startdate=2004-04-25&enddate=2004-05-11&stationid=COOP:406806&limit=1000&units=standard\n",
      "Rainfall data processing is done for 3430147 starting from 2004-04-25\n",
      "https://www.ncdc.noaa.gov/cdo-web/api/v2/stations?datasetid=PRECIP_15&startdate=2015-04-04&enddate=2015-04-18&extent=36.06495557&extent=-86.81620105&extent=36.16118001&extent=-86.72033451&limit=1000&units=standard\n",
      "No stations found for 3431300 within the given extent: {'north': 36.16118001, 'south': 36.06495557, 'east': -86.72033451, 'west': -86.81620105}\n",
      "Attempting to expand the extent by 0.2 degrees...\n",
      "https://www.ncdc.noaa.gov/cdo-web/api/v2/stations?datasetid=PRECIP_15&startdate=2015-04-04&enddate=2015-04-18&extent=35.86495557&extent=-87.01620105&extent=36.361180010000005&extent=-86.52033451&limit=1000&units=standard\n",
      "No stations found even after expanding the extent. Skipping this gauge.\n",
      "Rainfall data processing is done for 3431300 starting from 2015-04-04\n",
      "https://www.ncdc.noaa.gov/cdo-web/api/v2/stations?datasetid=PRECIP_15&startdate=2016-05-05&enddate=2016-05-21&extent=36.06439975&extent=-86.91755364&extent=36.1539268&extent=-86.79783154&limit=1000&units=standard\n",
      "No stations found for 3431700 within the given extent: {'north': 36.1539268, 'south': 36.06439975, 'east': -86.79783154, 'west': -86.91755364}\n",
      "Attempting to expand the extent by 0.2 degrees...\n",
      "https://www.ncdc.noaa.gov/cdo-web/api/v2/stations?datasetid=PRECIP_15&startdate=2016-05-05&enddate=2016-05-21&extent=35.86439975&extent=-87.11755364&extent=36.3539268&extent=-86.59783154&limit=1000&units=standard\n",
      "No stations found even after expanding the extent. Skipping this gauge.\n",
      "Rainfall data processing is done for 3431700 starting from 2016-05-05\n",
      "https://www.ncdc.noaa.gov/cdo-web/api/v2/stations?datasetid=PRECIP_15&startdate=2004-07-29&enddate=2004-08-14&extent=35.92571722&extent=-86.82916748&extent=35.9481873&extent=-86.77946158&limit=1000&units=standard\n",
      "No stations found for 3432387 within the given extent: {'north': 35.9481873, 'south': 35.92571722, 'east': -86.77946158, 'west': -86.82916748}\n",
      "Attempting to expand the extent by 0.2 degrees...\n",
      "https://www.ncdc.noaa.gov/cdo-web/api/v2/stations?datasetid=PRECIP_15&startdate=2004-07-29&enddate=2004-08-14&extent=35.72571722&extent=-87.02916748&extent=36.148187300000004&extent=-86.57946158&limit=1000&units=standard\n",
      "No stations found even after expanding the extent. Skipping this gauge.\n",
      "Rainfall data processing is done for 3432387 starting from 2004-07-29\n",
      "https://www.ncdc.noaa.gov/cdo-web/api/v2/stations?datasetid=PRECIP_15&startdate=2005-03-25&enddate=2005-04-10&extent=35.92571722&extent=-86.86050701&extent=35.99175158&extent=-86.77946158&limit=1000&units=standard\n",
      "No stations found for 3432390 within the given extent: {'north': 35.99175158, 'south': 35.92571722, 'east': -86.77946158, 'west': -86.86050701}\n",
      "Attempting to expand the extent by 0.2 degrees...\n",
      "https://www.ncdc.noaa.gov/cdo-web/api/v2/stations?datasetid=PRECIP_15&startdate=2005-03-25&enddate=2005-04-10&extent=35.72571722&extent=-87.06050701000001&extent=36.19175158&extent=-86.57946158&limit=1000&units=standard\n",
      "No stations found even after expanding the extent. Skipping this gauge.\n",
      "Rainfall data processing is done for 3432390 starting from 2005-03-25\n",
      "https://www.ncdc.noaa.gov/cdo-web/api/v2/stations?datasetid=PRECIP_15&startdate=2009-07-06&enddate=2009-07-22&extent=35.79690068&extent=-87.06590957&extent=35.84695527&extent=-87.00605068&limit=1000&units=standard\n",
      "No stations found for 3432516 within the given extent: {'north': 35.84695527, 'south': 35.79690068, 'east': -87.00605068, 'west': -87.06590957}\n",
      "Attempting to expand the extent by 0.2 degrees...\n",
      "https://www.ncdc.noaa.gov/cdo-web/api/v2/stations?datasetid=PRECIP_15&startdate=2009-07-06&enddate=2009-07-22&extent=35.59690068&extent=-87.26590957&extent=36.046955270000005&extent=-86.80605068&limit=1000&units=standard\n",
      "No stations found even after expanding the extent. Skipping this gauge.\n",
      "Rainfall data processing is done for 3432516 starting from 2009-07-06\n",
      "https://www.ncdc.noaa.gov/cdo-web/api/v2/stations?datasetid=PRECIP_15&startdate=2004-07-24&enddate=2004-08-09&extent=36.40887148&extent=-87.08152355&extent=36.50095989&extent=-86.95576251&limit=1000&units=standard\n",
      "No stations found for 3435970 within the given extent: {'north': 36.50095989, 'south': 36.40887148, 'east': -86.95576251, 'west': -87.08152355}\n",
      "Attempting to expand the extent by 0.2 degrees...\n",
      "https://www.ncdc.noaa.gov/cdo-web/api/v2/stations?datasetid=PRECIP_15&startdate=2004-07-24&enddate=2004-08-09&extent=36.20887148&extent=-87.28152355&extent=36.70095989&extent=-86.75576251&limit=1000&units=standard\n",
      "https://www.ncdc.noaa.gov/cdo-web/api/v2/data?datasetid=PRECIP_15&startdate=2004-07-24&enddate=2004-08-09&stationid=COOP:401663&limit=1000&units=standard\n",
      "https://www.ncdc.noaa.gov/cdo-web/api/v2/data?datasetid=PRECIP_15&startdate=2004-07-24&enddate=2004-08-09&stationid=COOP:408562&limit=1000&units=standard\n",
      "Rainfall data processing is done for 3435970 starting from 2004-07-24\n",
      "https://www.ncdc.noaa.gov/cdo-web/api/v2/stations?datasetid=PRECIP_15&startdate=2017-03-30&enddate=2017-04-15&extent=35.58924747&extent=-83.58869221&extent=35.70895269&extent=-83.38886094&limit=1000&units=standard\n",
      "No stations found for 3469251 within the given extent: {'north': 35.70895269, 'south': 35.58924747, 'east': -83.38886094, 'west': -83.58869221}\n",
      "Attempting to expand the extent by 0.2 degrees...\n",
      "https://www.ncdc.noaa.gov/cdo-web/api/v2/stations?datasetid=PRECIP_15&startdate=2017-03-30&enddate=2017-04-15&extent=35.389247469999994&extent=-83.78869221000001&extent=35.90895269&extent=-83.18886094&limit=1000&units=standard\n",
      "No stations found even after expanding the extent. Skipping this gauge.\n",
      "Rainfall data processing is done for 3469251 starting from 2017-03-30\n",
      "https://www.ncdc.noaa.gov/cdo-web/api/v2/stations?datasetid=PRECIP_15&startdate=2020-04-06&enddate=2020-04-22&extent=36.37321371&extent=-83.05688717&extent=36.42555552&extent=-82.98309718&limit=1000&units=standard\n",
      "No stations found for 3491544 within the given extent: {'north': 36.42555552, 'south': 36.37321371, 'east': -82.98309718, 'west': -83.05688717}\n",
      "Attempting to expand the extent by 0.2 degrees...\n",
      "https://www.ncdc.noaa.gov/cdo-web/api/v2/stations?datasetid=PRECIP_15&startdate=2020-04-06&enddate=2020-04-22&extent=36.17321371&extent=-83.25688717&extent=36.625555520000006&extent=-82.78309718&limit=1000&units=standard\n",
      "No stations found even after expanding the extent. Skipping this gauge.\n",
      "Rainfall data processing is done for 3491544 starting from 2020-04-06\n",
      "https://www.ncdc.noaa.gov/cdo-web/api/v2/stations?datasetid=PRECIP_15&startdate=2019-05-05&enddate=2019-05-21&extent=36.07117705&extent=-83.85598071&extent=36.13632579&extent=-83.75988312&limit=1000&units=standard\n",
      "No stations found for 3495405 within the given extent: {'north': 36.13632579, 'south': 36.07117705, 'east': -83.75988312, 'west': -83.85598071}\n",
      "Attempting to expand the extent by 0.2 degrees...\n",
      "https://www.ncdc.noaa.gov/cdo-web/api/v2/stations?datasetid=PRECIP_15&startdate=2019-05-05&enddate=2019-05-21&extent=35.87117705&extent=-84.05598071&extent=36.336325790000004&extent=-83.55988312&limit=1000&units=standard\n",
      "No stations found even after expanding the extent. Skipping this gauge.\n",
      "Rainfall data processing is done for 3495405 starting from 2019-05-05\n",
      "https://www.ncdc.noaa.gov/cdo-web/api/v2/stations?datasetid=PRECIP_15&startdate=2010-04-25&enddate=2010-05-11&extent=36.06203317&extent=-83.93733116&extent=36.15646214&extent=-83.83673724&limit=1000&units=standard\n",
      "No stations found for 35351830 within the given extent: {'north': 36.15646214, 'south': 36.06203317, 'east': -83.83673724, 'west': -83.93733116}\n",
      "Attempting to expand the extent by 0.2 degrees...\n",
      "https://www.ncdc.noaa.gov/cdo-web/api/v2/stations?datasetid=PRECIP_15&startdate=2010-04-25&enddate=2010-05-11&extent=35.86203317&extent=-84.13733116&extent=36.356462140000005&extent=-83.63673724&limit=1000&units=standard\n",
      "No stations found even after expanding the extent. Skipping this gauge.\n",
      "Rainfall data processing is done for 35351830 starting from 2010-04-25\n",
      "https://www.ncdc.noaa.gov/cdo-web/api/v2/stations?datasetid=PRECIP_15&startdate=2000-05-29&enddate=2000-06-15&extent=35.9104829&extent=-84.339059&extent=35.9577433&extent=-84.29154599&limit=1000&units=standard\n",
      "No stations found for 3536550 within the given extent: {'north': 35.9577433, 'south': 35.9104829, 'east': -84.29154599, 'west': -84.339059}\n",
      "Attempting to expand the extent by 0.2 degrees...\n",
      "https://www.ncdc.noaa.gov/cdo-web/api/v2/stations?datasetid=PRECIP_15&startdate=2000-05-29&enddate=2000-06-15&extent=35.710482899999995&extent=-84.53905900000001&extent=36.1577433&extent=-84.09154599&limit=1000&units=standard\n",
      "No stations found even after expanding the extent. Skipping this gauge.\n",
      "Rainfall data processing is done for 3536550 starting from 2000-05-29\n",
      "https://www.ncdc.noaa.gov/cdo-web/api/v2/stations?datasetid=PRECIP_15&startdate=2004-05-25&enddate=2004-06-08&extent=35.97466049&extent=-84.2748036&extent=36.01601348&extent=-84.22800419&limit=1000&units=standard\n",
      "No stations found for 3538235 within the given extent: {'north': 36.01601348, 'south': 35.97466049, 'east': -84.22800419, 'west': -84.2748036}\n",
      "Attempting to expand the extent by 0.2 degrees...\n",
      "https://www.ncdc.noaa.gov/cdo-web/api/v2/stations?datasetid=PRECIP_15&startdate=2004-05-25&enddate=2004-06-08&extent=35.774660489999995&extent=-84.4748036&extent=36.21601348&extent=-84.02800418999999&limit=1000&units=standard\n",
      "No stations found even after expanding the extent. Skipping this gauge.\n",
      "Rainfall data processing is done for 3538235 starting from 2004-05-25\n",
      "https://www.ncdc.noaa.gov/cdo-web/api/v2/stations?datasetid=PRECIP_15&startdate=2019-04-07&enddate=2019-04-23&extent=35.83002675&extent=-85.10105441&extent=35.88963653&extent=-85.03928839&limit=1000&units=standard\n",
      "No stations found for 3538970 within the given extent: {'north': 35.88963653, 'south': 35.83002675, 'east': -85.03928839, 'west': -85.10105441}\n",
      "Attempting to expand the extent by 0.2 degrees...\n",
      "https://www.ncdc.noaa.gov/cdo-web/api/v2/stations?datasetid=PRECIP_15&startdate=2019-04-07&enddate=2019-04-23&extent=35.63002675&extent=-85.30105441&extent=36.08963653&extent=-84.83928839&limit=1000&units=standard\n",
      "No stations found even after expanding the extent. Skipping this gauge.\n",
      "Rainfall data processing is done for 3538970 starting from 2019-04-07\n",
      "https://www.ncdc.noaa.gov/cdo-web/api/v2/stations?datasetid=PRECIP_15&startdate=2007-06-30&enddate=2007-07-17&extent=35.43234109&extent=-84.61386089&extent=35.5391693&extent=-84.44254838&limit=1000&units=standard\n",
      "No stations found for 3565442 within the given extent: {'north': 35.5391693, 'south': 35.43234109, 'east': -84.44254838, 'west': -84.61386089}\n",
      "Attempting to expand the extent by 0.2 degrees...\n",
      "https://www.ncdc.noaa.gov/cdo-web/api/v2/stations?datasetid=PRECIP_15&startdate=2007-06-30&enddate=2007-07-17&extent=35.23234109&extent=-84.81386089&extent=35.7391693&extent=-84.24254838&limit=1000&units=standard\n",
      "No stations found even after expanding the extent. Skipping this gauge.\n",
      "Rainfall data processing is done for 3565442 starting from 2007-06-30\n",
      "https://www.ncdc.noaa.gov/cdo-web/api/v2/stations?datasetid=PRECIP_15&startdate=2020-08-06&enddate=2020-08-22&extent=35.09088592&extent=-85.34162069&extent=35.15988874&extent=-85.28837621&limit=1000&units=standard\n",
      "No stations found for 3569190 within the given extent: {'north': 35.15988874, 'south': 35.09088592, 'east': -85.28837621, 'west': -85.34162069}\n",
      "Attempting to expand the extent by 0.2 degrees...\n",
      "https://www.ncdc.noaa.gov/cdo-web/api/v2/stations?datasetid=PRECIP_15&startdate=2020-08-06&enddate=2020-08-22&extent=34.890885919999995&extent=-85.54162069&extent=35.35988874&extent=-85.08837620999999&limit=1000&units=standard\n",
      "No stations found even after expanding the extent. Skipping this gauge.\n",
      "Rainfall data processing is done for 3569190 starting from 2020-08-06\n",
      "https://www.ncdc.noaa.gov/cdo-web/api/v2/stations?datasetid=PRECIP_15&startdate=2004-06-23&enddate=2004-07-10&extent=35.36054983&extent=-86.15944768&extent=35.45212428&extent=-86.03567599&limit=1000&units=standard\n",
      "No stations found for 3596100 within the given extent: {'north': 35.45212428, 'south': 35.36054983, 'east': -86.03567599, 'west': -86.15944768}\n",
      "Attempting to expand the extent by 0.2 degrees...\n",
      "https://www.ncdc.noaa.gov/cdo-web/api/v2/stations?datasetid=PRECIP_15&startdate=2004-06-23&enddate=2004-07-10&extent=35.160549829999994&extent=-86.35944768&extent=35.65212428&extent=-85.83567599&limit=1000&units=standard\n",
      "https://www.ncdc.noaa.gov/cdo-web/api/v2/data?datasetid=PRECIP_15&startdate=2004-06-23&enddate=2004-07-10&stationid=COOP:406162&limit=1000&units=standard\n",
      "Rainfall data processing is done for 3596100 starting from 2004-06-23\n",
      "https://www.ncdc.noaa.gov/cdo-web/api/v2/stations?datasetid=PRECIP_15&startdate=2016-06-30&enddate=2016-07-16&extent=35.50636667&extent=-86.40167047&extent=35.66428&extent=-86.300294&limit=1000&units=standard\n",
      "No stations found for 3597590 within the given extent: {'north': 35.66428, 'south': 35.50636667, 'east': -86.300294, 'west': -86.40167047}\n",
      "Attempting to expand the extent by 0.2 degrees...\n",
      "https://www.ncdc.noaa.gov/cdo-web/api/v2/stations?datasetid=PRECIP_15&startdate=2016-06-30&enddate=2016-07-16&extent=35.306366669999996&extent=-86.60167047&extent=35.86428&extent=-86.10029399999999&limit=1000&units=standard\n",
      "No stations found even after expanding the extent. Skipping this gauge.\n",
      "Rainfall data processing is done for 3597590 starting from 2016-06-30\n",
      "https://www.ncdc.noaa.gov/cdo-web/api/v2/stations?datasetid=PRECIP_15&startdate=2000-04-26&enddate=2000-05-13&extent=35.36466547&extent=-86.86027159&extent=35.45978346&extent=-86.7393628&limit=1000&units=standard\n",
      "https://www.ncdc.noaa.gov/cdo-web/api/v2/data?datasetid=PRECIP_15&startdate=2000-04-26&enddate=2000-05-13&stationid=COOP:405187&limit=1000&units=standard\n",
      "Rainfall data processing is done for 3599000 starting from 2000-04-26\n",
      "https://www.ncdc.noaa.gov/cdo-web/api/v2/stations?datasetid=PRECIP_15&startdate=2008-03-28&enddate=2008-04-13&extent=35.71191767&extent=-87.05359782&extent=35.82247825&extent=-86.94925584&limit=1000&units=standard\n",
      "No stations found for 3600088 within the given extent: {'north': 35.82247825, 'south': 35.71191767, 'east': -86.94925584, 'west': -87.05359782}\n",
      "Attempting to expand the extent by 0.2 degrees...\n",
      "https://www.ncdc.noaa.gov/cdo-web/api/v2/stations?datasetid=PRECIP_15&startdate=2008-03-28&enddate=2008-04-13&extent=35.511917669999995&extent=-87.25359782&extent=36.022478250000006&extent=-86.74925584&limit=1000&units=standard\n",
      "No stations found even after expanding the extent. Skipping this gauge.\n",
      "Rainfall data processing is done for 3600088 starting from 2008-03-28\n",
      "https://www.ncdc.noaa.gov/cdo-web/api/v2/stations?datasetid=PRECIP_15&startdate=2020-05-17&enddate=2020-06-02&extent=35.9593737&extent=-88.17490636&extent=36.10035386&extent=-88.06467076&limit=1000&units=standard\n",
      "No stations found for 3605078 within the given extent: {'north': 36.10035386, 'south': 35.9593737, 'east': -88.06467076, 'west': -88.17490636}\n",
      "Attempting to expand the extent by 0.2 degrees...\n",
      "https://www.ncdc.noaa.gov/cdo-web/api/v2/stations?datasetid=PRECIP_15&startdate=2020-05-17&enddate=2020-06-02&extent=35.7593737&extent=-88.37490636&extent=36.30035386&extent=-87.86467076&limit=1000&units=standard\n",
      "No stations found even after expanding the extent. Skipping this gauge.\n",
      "Rainfall data processing is done for 3605078 starting from 2020-05-17\n",
      "https://www.ncdc.noaa.gov/cdo-web/api/v2/stations?datasetid=PRECIP_15&startdate=2016-04-25&enddate=2016-05-11&extent=36.02985571&extent=-88.4245398&extent=36.13893026&extent=-88.30413436&limit=1000&units=standard\n",
      "No stations found for 7024200 within the given extent: {'north': 36.13893026, 'south': 36.02985571, 'east': -88.30413436, 'west': -88.4245398}\n",
      "Attempting to expand the extent by 0.2 degrees...\n",
      "https://www.ncdc.noaa.gov/cdo-web/api/v2/stations?datasetid=PRECIP_15&startdate=2016-04-25&enddate=2016-05-11&extent=35.82985571&extent=-88.62453980000001&extent=36.338930260000005&extent=-88.10413436&limit=1000&units=standard\n",
      "No stations found even after expanding the extent. Skipping this gauge.\n",
      "Rainfall data processing is done for 7024200 starting from 2016-04-25\n",
      "https://www.ncdc.noaa.gov/cdo-web/api/v2/stations?datasetid=PRECIP_15&startdate=2010-05-09&enddate=2010-05-25&extent=35.09577534&extent=-89.69916857&extent=35.13027688&extent=-89.60547089&limit=1000&units=standard\n",
      "No stations found for 70306050 within the given extent: {'north': 35.13027688, 'south': 35.09577534, 'east': -89.60547089, 'west': -89.69916857}\n",
      "Attempting to expand the extent by 0.2 degrees...\n",
      "https://www.ncdc.noaa.gov/cdo-web/api/v2/stations?datasetid=PRECIP_15&startdate=2010-05-09&enddate=2010-05-25&extent=34.89577534&extent=-89.89916857&extent=35.33027688&extent=-89.40547089&limit=1000&units=standard\n",
      "https://www.ncdc.noaa.gov/cdo-web/api/v2/data?datasetid=PRECIP_15&startdate=2010-05-09&enddate=2010-05-25&stationid=COOP:405956&limit=1000&units=standard\n",
      "Rainfall data processing is done for 70306050 starting from 2010-05-09\n",
      "https://www.ncdc.noaa.gov/cdo-web/api/v2/stations?datasetid=PRECIP_15&startdate=2007-03-28&enddate=2007-04-13&extent=35.13780356&extent=-89.87493327&extent=35.23990334&extent=-89.74421197&limit=1000&units=standard\n",
      "No stations found for 7031692 within the given extent: {'north': 35.23990334, 'south': 35.13780356, 'east': -89.74421197, 'west': -89.87493327}\n",
      "Attempting to expand the extent by 0.2 degrees...\n",
      "https://www.ncdc.noaa.gov/cdo-web/api/v2/stations?datasetid=PRECIP_15&startdate=2007-03-28&enddate=2007-04-13&extent=34.93780356&extent=-90.07493327&extent=35.43990334&extent=-89.54421196999999&limit=1000&units=standard\n",
      "https://www.ncdc.noaa.gov/cdo-web/api/v2/data?datasetid=PRECIP_15&startdate=2007-03-28&enddate=2007-04-13&stationid=COOP:405956&limit=1000&units=standard\n",
      "Rainfall data processing is done for 7031692 starting from 2007-03-28\n",
      "https://www.ncdc.noaa.gov/cdo-web/api/v2/stations?datasetid=PRECIP_15&startdate=2017-07-01&enddate=2017-07-17&extent=36.47054977&extent=-85.87185917&extent=36.56569568&extent=-85.80165628&limit=1000&units=standard\n",
      "No stations found for 3312259 within the given extent: {'north': 36.56569568, 'south': 36.47054977, 'east': -85.80165628, 'west': -85.87185917}\n",
      "Attempting to expand the extent by 0.2 degrees...\n",
      "https://www.ncdc.noaa.gov/cdo-web/api/v2/stations?datasetid=PRECIP_15&startdate=2017-07-01&enddate=2017-07-17&extent=36.270549769999995&extent=-86.07185917&extent=36.76569568&extent=-85.60165628&limit=1000&units=standard\n",
      "No stations found even after expanding the extent. Skipping this gauge.\n",
      "Rainfall data processing is done for 3312259 starting from 2017-07-01\n",
      "https://www.ncdc.noaa.gov/cdo-web/api/v2/stations?datasetid=PRECIP_15&startdate=2009-04-27&enddate=2009-05-13&extent=36.31355449&extent=-86.79300794&extent=36.41892638&extent=-86.71621875&limit=1000&units=standard\n",
      "No stations found for 3426385 within the given extent: {'north': 36.41892638, 'south': 36.31355449, 'east': -86.71621875, 'west': -86.79300794}\n",
      "Attempting to expand the extent by 0.2 degrees...\n",
      "https://www.ncdc.noaa.gov/cdo-web/api/v2/stations?datasetid=PRECIP_15&startdate=2009-04-27&enddate=2009-05-13&extent=36.11355449&extent=-86.99300794&extent=36.618926380000005&extent=-86.51621875&limit=1000&units=standard\n",
      "https://www.ncdc.noaa.gov/cdo-web/api/v2/data?datasetid=PRECIP_15&startdate=2009-04-27&enddate=2009-05-13&stationid=COOP:406806&limit=1000&units=standard\n",
      "https://www.ncdc.noaa.gov/cdo-web/api/v2/data?datasetid=PRECIP_15&startdate=2009-04-27&enddate=2009-05-13&stationid=COOP:407359&limit=1000&units=standard\n",
      "https://www.ncdc.noaa.gov/cdo-web/api/v2/data?datasetid=PRECIP_15&startdate=2009-04-27&enddate=2009-05-13&stationid=COOP:408562&limit=1000&units=standard\n",
      "Rainfall data processing is done for 3426385 starting from 2009-04-27\n",
      "https://www.ncdc.noaa.gov/cdo-web/api/v2/stations?datasetid=PRECIP_15&startdate=2019-06-02&enddate=2019-06-19&extent=36.26672548&extent=-86.76382851&extent=36.31769794&extent=-86.68765616&limit=1000&units=standard\n",
      "No stations found for 3426470 within the given extent: {'north': 36.31769794, 'south': 36.26672548, 'east': -86.68765616, 'west': -86.76382851}\n",
      "Attempting to expand the extent by 0.2 degrees...\n",
      "https://www.ncdc.noaa.gov/cdo-web/api/v2/stations?datasetid=PRECIP_15&startdate=2019-06-02&enddate=2019-06-19&extent=36.066725479999995&extent=-86.96382851&extent=36.517697940000005&extent=-86.48765616&limit=1000&units=standard\n",
      "No stations found even after expanding the extent. Skipping this gauge.\n",
      "Rainfall data processing is done for 3426470 starting from 2019-06-02\n",
      "https://www.ncdc.noaa.gov/cdo-web/api/v2/stations?datasetid=PRECIP_15&startdate=2004-04-26&enddate=2004-05-12&extent=36.14948376&extent=-86.61437007&extent=36.23681666&extent=-86.4603212&limit=1000&units=standard\n",
      "No stations found for 3430147 within the given extent: {'north': 36.23681666, 'south': 36.14948376, 'east': -86.4603212, 'west': -86.61437007}\n",
      "Attempting to expand the extent by 0.2 degrees...\n",
      "https://www.ncdc.noaa.gov/cdo-web/api/v2/stations?datasetid=PRECIP_15&startdate=2004-04-26&enddate=2004-05-12&extent=35.94948376&extent=-86.81437007000001&extent=36.436816660000005&extent=-86.26032119999999&limit=1000&units=standard\n",
      "https://www.ncdc.noaa.gov/cdo-web/api/v2/data?datasetid=PRECIP_15&startdate=2004-04-26&enddate=2004-05-12&stationid=COOP:405108&limit=1000&units=standard\n",
      "https://www.ncdc.noaa.gov/cdo-web/api/v2/data?datasetid=PRECIP_15&startdate=2004-04-26&enddate=2004-05-12&stationid=COOP:406806&limit=1000&units=standard\n",
      "Rainfall data processing is done for 3430147 starting from 2004-04-26\n",
      "https://www.ncdc.noaa.gov/cdo-web/api/v2/stations?datasetid=PRECIP_15&startdate=2015-04-08&enddate=2015-04-21&extent=36.06495557&extent=-86.81620105&extent=36.16118001&extent=-86.72033451&limit=1000&units=standard\n",
      "No stations found for 3431300 within the given extent: {'north': 36.16118001, 'south': 36.06495557, 'east': -86.72033451, 'west': -86.81620105}\n",
      "Attempting to expand the extent by 0.2 degrees...\n",
      "https://www.ncdc.noaa.gov/cdo-web/api/v2/stations?datasetid=PRECIP_15&startdate=2015-04-08&enddate=2015-04-21&extent=35.86495557&extent=-87.01620105&extent=36.361180010000005&extent=-86.52033451&limit=1000&units=standard\n",
      "No stations found even after expanding the extent. Skipping this gauge.\n",
      "Rainfall data processing is done for 3431300 starting from 2015-04-08\n",
      "https://www.ncdc.noaa.gov/cdo-web/api/v2/stations?datasetid=PRECIP_15&startdate=2018-03-28&enddate=2018-04-13&extent=36.06439975&extent=-86.91755364&extent=36.1539268&extent=-86.79783154&limit=1000&units=standard\n",
      "No stations found for 3431700 within the given extent: {'north': 36.1539268, 'south': 36.06439975, 'east': -86.79783154, 'west': -86.91755364}\n",
      "Attempting to expand the extent by 0.2 degrees...\n",
      "https://www.ncdc.noaa.gov/cdo-web/api/v2/stations?datasetid=PRECIP_15&startdate=2018-03-28&enddate=2018-04-13&extent=35.86439975&extent=-87.11755364&extent=36.3539268&extent=-86.59783154&limit=1000&units=standard\n",
      "No stations found even after expanding the extent. Skipping this gauge.\n",
      "Rainfall data processing is done for 3431700 starting from 2018-03-28\n",
      "https://www.ncdc.noaa.gov/cdo-web/api/v2/stations?datasetid=PRECIP_15&startdate=2002-08-16&enddate=2002-09-02&extent=35.92571722&extent=-86.82916748&extent=35.9481873&extent=-86.77946158&limit=1000&units=standard\n",
      "No stations found for 3432387 within the given extent: {'north': 35.9481873, 'south': 35.92571722, 'east': -86.77946158, 'west': -86.82916748}\n",
      "Attempting to expand the extent by 0.2 degrees...\n",
      "https://www.ncdc.noaa.gov/cdo-web/api/v2/stations?datasetid=PRECIP_15&startdate=2002-08-16&enddate=2002-09-02&extent=35.72571722&extent=-87.02916748&extent=36.148187300000004&extent=-86.57946158&limit=1000&units=standard\n",
      "No stations found even after expanding the extent. Skipping this gauge.\n",
      "Rainfall data processing is done for 3432387 starting from 2002-08-16\n",
      "https://www.ncdc.noaa.gov/cdo-web/api/v2/stations?datasetid=PRECIP_15&startdate=2005-03-31&enddate=2005-04-16&extent=35.92571722&extent=-86.86050701&extent=35.99175158&extent=-86.77946158&limit=1000&units=standard\n",
      "No stations found for 3432390 within the given extent: {'north': 35.99175158, 'south': 35.92571722, 'east': -86.77946158, 'west': -86.86050701}\n",
      "Attempting to expand the extent by 0.2 degrees...\n",
      "https://www.ncdc.noaa.gov/cdo-web/api/v2/stations?datasetid=PRECIP_15&startdate=2005-03-31&enddate=2005-04-16&extent=35.72571722&extent=-87.06050701000001&extent=36.19175158&extent=-86.57946158&limit=1000&units=standard\n",
      "No stations found even after expanding the extent. Skipping this gauge.\n",
      "Rainfall data processing is done for 3432390 starting from 2005-03-31\n",
      "https://www.ncdc.noaa.gov/cdo-web/api/v2/stations?datasetid=PRECIP_15&startdate=2009-07-23&enddate=2009-08-08&extent=35.79690068&extent=-87.06590957&extent=35.84695527&extent=-87.00605068&limit=1000&units=standard\n",
      "No stations found for 3432516 within the given extent: {'north': 35.84695527, 'south': 35.79690068, 'east': -87.00605068, 'west': -87.06590957}\n",
      "Attempting to expand the extent by 0.2 degrees...\n",
      "https://www.ncdc.noaa.gov/cdo-web/api/v2/stations?datasetid=PRECIP_15&startdate=2009-07-23&enddate=2009-08-08&extent=35.59690068&extent=-87.26590957&extent=36.046955270000005&extent=-86.80605068&limit=1000&units=standard\n",
      "No stations found even after expanding the extent. Skipping this gauge.\n",
      "Rainfall data processing is done for 3432516 starting from 2009-07-23\n",
      "https://www.ncdc.noaa.gov/cdo-web/api/v2/stations?datasetid=PRECIP_15&startdate=2004-07-29&enddate=2004-08-14&extent=36.40887148&extent=-87.08152355&extent=36.50095989&extent=-86.95576251&limit=1000&units=standard\n",
      "No stations found for 3435970 within the given extent: {'north': 36.50095989, 'south': 36.40887148, 'east': -86.95576251, 'west': -87.08152355}\n",
      "Attempting to expand the extent by 0.2 degrees...\n",
      "https://www.ncdc.noaa.gov/cdo-web/api/v2/stations?datasetid=PRECIP_15&startdate=2004-07-29&enddate=2004-08-14&extent=36.20887148&extent=-87.28152355&extent=36.70095989&extent=-86.75576251&limit=1000&units=standard\n",
      "https://www.ncdc.noaa.gov/cdo-web/api/v2/data?datasetid=PRECIP_15&startdate=2004-07-29&enddate=2004-08-14&stationid=COOP:401663&limit=1000&units=standard\n",
      "https://www.ncdc.noaa.gov/cdo-web/api/v2/data?datasetid=PRECIP_15&startdate=2004-07-29&enddate=2004-08-14&stationid=COOP:408562&limit=1000&units=standard\n",
      "Rainfall data processing is done for 3435970 starting from 2004-07-29\n",
      "https://www.ncdc.noaa.gov/cdo-web/api/v2/stations?datasetid=PRECIP_15&startdate=2017-04-16&enddate=2017-05-02&extent=35.58924747&extent=-83.58869221&extent=35.70895269&extent=-83.38886094&limit=1000&units=standard\n",
      "No stations found for 3469251 within the given extent: {'north': 35.70895269, 'south': 35.58924747, 'east': -83.38886094, 'west': -83.58869221}\n",
      "Attempting to expand the extent by 0.2 degrees...\n",
      "https://www.ncdc.noaa.gov/cdo-web/api/v2/stations?datasetid=PRECIP_15&startdate=2017-04-16&enddate=2017-05-02&extent=35.389247469999994&extent=-83.78869221000001&extent=35.90895269&extent=-83.18886094&limit=1000&units=standard\n",
      "No stations found even after expanding the extent. Skipping this gauge.\n",
      "Rainfall data processing is done for 3469251 starting from 2017-04-16\n",
      "https://www.ncdc.noaa.gov/cdo-web/api/v2/stations?datasetid=PRECIP_15&startdate=2020-04-19&enddate=2020-05-05&extent=36.37321371&extent=-83.05688717&extent=36.42555552&extent=-82.98309718&limit=1000&units=standard\n",
      "No stations found for 3491544 within the given extent: {'north': 36.42555552, 'south': 36.37321371, 'east': -82.98309718, 'west': -83.05688717}\n",
      "Attempting to expand the extent by 0.2 degrees...\n",
      "https://www.ncdc.noaa.gov/cdo-web/api/v2/stations?datasetid=PRECIP_15&startdate=2020-04-19&enddate=2020-05-05&extent=36.17321371&extent=-83.25688717&extent=36.625555520000006&extent=-82.78309718&limit=1000&units=standard\n",
      "No stations found even after expanding the extent. Skipping this gauge.\n",
      "Rainfall data processing is done for 3491544 starting from 2020-04-19\n",
      "https://www.ncdc.noaa.gov/cdo-web/api/v2/stations?datasetid=PRECIP_15&startdate=2020-03-24&enddate=2020-04-10&extent=36.07117705&extent=-83.85598071&extent=36.13632579&extent=-83.75988312&limit=1000&units=standard\n",
      "No stations found for 3495405 within the given extent: {'north': 36.13632579, 'south': 36.07117705, 'east': -83.75988312, 'west': -83.85598071}\n",
      "Attempting to expand the extent by 0.2 degrees...\n",
      "https://www.ncdc.noaa.gov/cdo-web/api/v2/stations?datasetid=PRECIP_15&startdate=2020-03-24&enddate=2020-04-10&extent=35.87117705&extent=-84.05598071&extent=36.336325790000004&extent=-83.55988312&limit=1000&units=standard\n",
      "No stations found even after expanding the extent. Skipping this gauge.\n",
      "Rainfall data processing is done for 3495405 starting from 2020-03-24\n",
      "https://www.ncdc.noaa.gov/cdo-web/api/v2/stations?datasetid=PRECIP_15&startdate=2010-04-26&enddate=2010-05-12&extent=36.06203317&extent=-83.93733116&extent=36.15646214&extent=-83.83673724&limit=1000&units=standard\n",
      "No stations found for 35351830 within the given extent: {'north': 36.15646214, 'south': 36.06203317, 'east': -83.83673724, 'west': -83.93733116}\n",
      "Attempting to expand the extent by 0.2 degrees...\n",
      "https://www.ncdc.noaa.gov/cdo-web/api/v2/stations?datasetid=PRECIP_15&startdate=2010-04-26&enddate=2010-05-12&extent=35.86203317&extent=-84.13733116&extent=36.356462140000005&extent=-83.63673724&limit=1000&units=standard\n",
      "No stations found even after expanding the extent. Skipping this gauge.\n",
      "Rainfall data processing is done for 35351830 starting from 2010-04-26\n",
      "https://www.ncdc.noaa.gov/cdo-web/api/v2/stations?datasetid=PRECIP_15&startdate=2004-05-28&enddate=2004-06-10&extent=35.97466049&extent=-84.2748036&extent=36.01601348&extent=-84.22800419&limit=1000&units=standard\n",
      "No stations found for 3538235 within the given extent: {'north': 36.01601348, 'south': 35.97466049, 'east': -84.22800419, 'west': -84.2748036}\n",
      "Attempting to expand the extent by 0.2 degrees...\n",
      "https://www.ncdc.noaa.gov/cdo-web/api/v2/stations?datasetid=PRECIP_15&startdate=2004-05-28&enddate=2004-06-10&extent=35.774660489999995&extent=-84.4748036&extent=36.21601348&extent=-84.02800418999999&limit=1000&units=standard\n",
      "No stations found even after expanding the extent. Skipping this gauge.\n",
      "Rainfall data processing is done for 3538235 starting from 2004-05-28\n",
      "https://www.ncdc.noaa.gov/cdo-web/api/v2/stations?datasetid=PRECIP_15&startdate=2019-04-12&enddate=2019-04-28&extent=35.83002675&extent=-85.10105441&extent=35.88963653&extent=-85.03928839&limit=1000&units=standard\n",
      "No stations found for 3538970 within the given extent: {'north': 35.88963653, 'south': 35.83002675, 'east': -85.03928839, 'west': -85.10105441}\n",
      "Attempting to expand the extent by 0.2 degrees...\n",
      "https://www.ncdc.noaa.gov/cdo-web/api/v2/stations?datasetid=PRECIP_15&startdate=2019-04-12&enddate=2019-04-28&extent=35.63002675&extent=-85.30105441&extent=36.08963653&extent=-84.83928839&limit=1000&units=standard\n",
      "No stations found even after expanding the extent. Skipping this gauge.\n",
      "Rainfall data processing is done for 3538970 starting from 2019-04-12\n",
      "https://www.ncdc.noaa.gov/cdo-web/api/v2/stations?datasetid=PRECIP_15&startdate=2007-07-04&enddate=2007-07-20&extent=35.43234109&extent=-84.61386089&extent=35.5391693&extent=-84.44254838&limit=1000&units=standard\n",
      "No stations found for 3565442 within the given extent: {'north': 35.5391693, 'south': 35.43234109, 'east': -84.44254838, 'west': -84.61386089}\n",
      "Attempting to expand the extent by 0.2 degrees...\n",
      "https://www.ncdc.noaa.gov/cdo-web/api/v2/stations?datasetid=PRECIP_15&startdate=2007-07-04&enddate=2007-07-20&extent=35.23234109&extent=-84.81386089&extent=35.7391693&extent=-84.24254838&limit=1000&units=standard\n",
      "No stations found even after expanding the extent. Skipping this gauge.\n",
      "Rainfall data processing is done for 3565442 starting from 2007-07-04\n",
      "https://www.ncdc.noaa.gov/cdo-web/api/v2/stations?datasetid=PRECIP_15&startdate=2020-08-23&enddate=2020-09-09&extent=35.09088592&extent=-85.34162069&extent=35.15988874&extent=-85.28837621&limit=1000&units=standard\n",
      "No stations found for 3569190 within the given extent: {'north': 35.15988874, 'south': 35.09088592, 'east': -85.28837621, 'west': -85.34162069}\n",
      "Attempting to expand the extent by 0.2 degrees...\n",
      "https://www.ncdc.noaa.gov/cdo-web/api/v2/stations?datasetid=PRECIP_15&startdate=2020-08-23&enddate=2020-09-09&extent=34.890885919999995&extent=-85.54162069&extent=35.35988874&extent=-85.08837620999999&limit=1000&units=standard\n",
      "No stations found even after expanding the extent. Skipping this gauge.\n",
      "Rainfall data processing is done for 3569190 starting from 2020-08-23\n",
      "https://www.ncdc.noaa.gov/cdo-web/api/v2/stations?datasetid=PRECIP_15&startdate=2004-06-27&enddate=2004-07-13&extent=35.36054983&extent=-86.15944768&extent=35.45212428&extent=-86.03567599&limit=1000&units=standard\n",
      "No stations found for 3596100 within the given extent: {'north': 35.45212428, 'south': 35.36054983, 'east': -86.03567599, 'west': -86.15944768}\n",
      "Attempting to expand the extent by 0.2 degrees...\n",
      "https://www.ncdc.noaa.gov/cdo-web/api/v2/stations?datasetid=PRECIP_15&startdate=2004-06-27&enddate=2004-07-13&extent=35.160549829999994&extent=-86.35944768&extent=35.65212428&extent=-85.83567599&limit=1000&units=standard\n",
      "https://www.ncdc.noaa.gov/cdo-web/api/v2/data?datasetid=PRECIP_15&startdate=2004-06-27&enddate=2004-07-13&stationid=COOP:406162&limit=1000&units=standard\n",
      "Rainfall data processing is done for 3596100 starting from 2004-06-27\n",
      "https://www.ncdc.noaa.gov/cdo-web/api/v2/stations?datasetid=PRECIP_15&startdate=2018-03-22&enddate=2018-04-08&extent=35.50636667&extent=-86.40167047&extent=35.66428&extent=-86.300294&limit=1000&units=standard\n",
      "No stations found for 3597590 within the given extent: {'north': 35.66428, 'south': 35.50636667, 'east': -86.300294, 'west': -86.40167047}\n",
      "Attempting to expand the extent by 0.2 degrees...\n",
      "https://www.ncdc.noaa.gov/cdo-web/api/v2/stations?datasetid=PRECIP_15&startdate=2018-03-22&enddate=2018-04-08&extent=35.306366669999996&extent=-86.60167047&extent=35.86428&extent=-86.10029399999999&limit=1000&units=standard\n",
      "No stations found even after expanding the extent. Skipping this gauge.\n",
      "Rainfall data processing is done for 3597590 starting from 2018-03-22\n",
      "https://www.ncdc.noaa.gov/cdo-web/api/v2/stations?datasetid=PRECIP_15&startdate=2000-05-16&enddate=2000-06-01&extent=35.36466547&extent=-86.86027159&extent=35.45978346&extent=-86.7393628&limit=1000&units=standard\n",
      "https://www.ncdc.noaa.gov/cdo-web/api/v2/data?datasetid=PRECIP_15&startdate=2000-05-16&enddate=2000-06-01&stationid=COOP:405187&limit=1000&units=standard\n",
      "Rainfall data processing is done for 3599000 starting from 2000-05-16\n",
      "https://www.ncdc.noaa.gov/cdo-web/api/v2/stations?datasetid=PRECIP_15&startdate=2008-04-04&enddate=2008-04-20&extent=35.71191767&extent=-87.05359782&extent=35.82247825&extent=-86.94925584&limit=1000&units=standard\n",
      "No stations found for 3600088 within the given extent: {'north': 35.82247825, 'south': 35.71191767, 'east': -86.94925584, 'west': -87.05359782}\n",
      "Attempting to expand the extent by 0.2 degrees...\n",
      "https://www.ncdc.noaa.gov/cdo-web/api/v2/stations?datasetid=PRECIP_15&startdate=2008-04-04&enddate=2008-04-20&extent=35.511917669999995&extent=-87.25359782&extent=36.022478250000006&extent=-86.74925584&limit=1000&units=standard\n",
      "No stations found even after expanding the extent. Skipping this gauge.\n",
      "Rainfall data processing is done for 3600088 starting from 2008-04-04\n",
      "https://www.ncdc.noaa.gov/cdo-web/api/v2/stations?datasetid=PRECIP_15&startdate=2020-05-20&enddate=2020-06-05&extent=35.9593737&extent=-88.17490636&extent=36.10035386&extent=-88.06467076&limit=1000&units=standard\n",
      "No stations found for 3605078 within the given extent: {'north': 36.10035386, 'south': 35.9593737, 'east': -88.06467076, 'west': -88.17490636}\n",
      "Attempting to expand the extent by 0.2 degrees...\n",
      "https://www.ncdc.noaa.gov/cdo-web/api/v2/stations?datasetid=PRECIP_15&startdate=2020-05-20&enddate=2020-06-05&extent=35.7593737&extent=-88.37490636&extent=36.30035386&extent=-87.86467076&limit=1000&units=standard\n",
      "No stations found even after expanding the extent. Skipping this gauge.\n",
      "Rainfall data processing is done for 3605078 starting from 2020-05-20\n",
      "https://www.ncdc.noaa.gov/cdo-web/api/v2/stations?datasetid=PRECIP_15&startdate=2019-03-31&enddate=2019-04-17&extent=36.02985571&extent=-88.4245398&extent=36.13893026&extent=-88.30413436&limit=1000&units=standard\n",
      "No stations found for 7024200 within the given extent: {'north': 36.13893026, 'south': 36.02985571, 'east': -88.30413436, 'west': -88.4245398}\n",
      "Attempting to expand the extent by 0.2 degrees...\n",
      "https://www.ncdc.noaa.gov/cdo-web/api/v2/stations?datasetid=PRECIP_15&startdate=2019-03-31&enddate=2019-04-17&extent=35.82985571&extent=-88.62453980000001&extent=36.338930260000005&extent=-88.10413436&limit=1000&units=standard\n",
      "No stations found even after expanding the extent. Skipping this gauge.\n",
      "Rainfall data processing is done for 7024200 starting from 2019-03-31\n",
      "https://www.ncdc.noaa.gov/cdo-web/api/v2/stations?datasetid=PRECIP_15&startdate=2010-07-05&enddate=2010-07-21&extent=35.09577534&extent=-89.69916857&extent=35.13027688&extent=-89.60547089&limit=1000&units=standard\n",
      "No stations found for 70306050 within the given extent: {'north': 35.13027688, 'south': 35.09577534, 'east': -89.60547089, 'west': -89.69916857}\n",
      "Attempting to expand the extent by 0.2 degrees...\n",
      "https://www.ncdc.noaa.gov/cdo-web/api/v2/stations?datasetid=PRECIP_15&startdate=2010-07-05&enddate=2010-07-21&extent=34.89577534&extent=-89.89916857&extent=35.33027688&extent=-89.40547089&limit=1000&units=standard\n",
      "https://www.ncdc.noaa.gov/cdo-web/api/v2/data?datasetid=PRECIP_15&startdate=2010-07-05&enddate=2010-07-21&stationid=COOP:405956&limit=1000&units=standard\n",
      "Rainfall data processing is done for 70306050 starting from 2010-07-05\n",
      "https://www.ncdc.noaa.gov/cdo-web/api/v2/stations?datasetid=PRECIP_15&startdate=2011-03-23&enddate=2011-04-08&extent=35.13780356&extent=-89.87493327&extent=35.23990334&extent=-89.74421197&limit=1000&units=standard\n",
      "No stations found for 7031692 within the given extent: {'north': 35.23990334, 'south': 35.13780356, 'east': -89.74421197, 'west': -89.87493327}\n",
      "Attempting to expand the extent by 0.2 degrees...\n",
      "https://www.ncdc.noaa.gov/cdo-web/api/v2/stations?datasetid=PRECIP_15&startdate=2011-03-23&enddate=2011-04-08&extent=34.93780356&extent=-90.07493327&extent=35.43990334&extent=-89.54421196999999&limit=1000&units=standard\n",
      "https://www.ncdc.noaa.gov/cdo-web/api/v2/data?datasetid=PRECIP_15&startdate=2011-03-23&enddate=2011-04-08&stationid=COOP:405956&limit=1000&units=standard\n",
      "Rainfall data processing is done for 7031692 starting from 2011-03-23\n",
      "https://www.ncdc.noaa.gov/cdo-web/api/v2/stations?datasetid=PRECIP_15&startdate=2017-07-07&enddate=2017-07-23&extent=36.47054977&extent=-85.87185917&extent=36.56569568&extent=-85.80165628&limit=1000&units=standard\n",
      "No stations found for 3312259 within the given extent: {'north': 36.56569568, 'south': 36.47054977, 'east': -85.80165628, 'west': -85.87185917}\n",
      "Attempting to expand the extent by 0.2 degrees...\n",
      "https://www.ncdc.noaa.gov/cdo-web/api/v2/stations?datasetid=PRECIP_15&startdate=2017-07-07&enddate=2017-07-23&extent=36.270549769999995&extent=-86.07185917&extent=36.76569568&extent=-85.60165628&limit=1000&units=standard\n",
      "No stations found even after expanding the extent. Skipping this gauge.\n",
      "Rainfall data processing is done for 3312259 starting from 2017-07-07\n",
      "https://www.ncdc.noaa.gov/cdo-web/api/v2/stations?datasetid=PRECIP_15&startdate=2009-04-29&enddate=2009-05-15&extent=36.31355449&extent=-86.79300794&extent=36.41892638&extent=-86.71621875&limit=1000&units=standard\n",
      "No stations found for 3426385 within the given extent: {'north': 36.41892638, 'south': 36.31355449, 'east': -86.71621875, 'west': -86.79300794}\n",
      "Attempting to expand the extent by 0.2 degrees...\n",
      "https://www.ncdc.noaa.gov/cdo-web/api/v2/stations?datasetid=PRECIP_15&startdate=2009-04-29&enddate=2009-05-15&extent=36.11355449&extent=-86.99300794&extent=36.618926380000005&extent=-86.51621875&limit=1000&units=standard\n",
      "https://www.ncdc.noaa.gov/cdo-web/api/v2/data?datasetid=PRECIP_15&startdate=2009-04-29&enddate=2009-05-15&stationid=COOP:406806&limit=1000&units=standard\n",
      "https://www.ncdc.noaa.gov/cdo-web/api/v2/data?datasetid=PRECIP_15&startdate=2009-04-29&enddate=2009-05-15&stationid=COOP:407359&limit=1000&units=standard\n",
      "https://www.ncdc.noaa.gov/cdo-web/api/v2/data?datasetid=PRECIP_15&startdate=2009-04-29&enddate=2009-05-15&stationid=COOP:408562&limit=1000&units=standard\n",
      "Rainfall data processing is done for 3426385 starting from 2009-04-29\n",
      "https://www.ncdc.noaa.gov/cdo-web/api/v2/stations?datasetid=PRECIP_15&startdate=2019-06-11&enddate=2019-06-27&extent=36.26672548&extent=-86.76382851&extent=36.31769794&extent=-86.68765616&limit=1000&units=standard\n",
      "No stations found for 3426470 within the given extent: {'north': 36.31769794, 'south': 36.26672548, 'east': -86.68765616, 'west': -86.76382851}\n",
      "Attempting to expand the extent by 0.2 degrees...\n",
      "https://www.ncdc.noaa.gov/cdo-web/api/v2/stations?datasetid=PRECIP_15&startdate=2019-06-11&enddate=2019-06-27&extent=36.066725479999995&extent=-86.96382851&extent=36.517697940000005&extent=-86.48765616&limit=1000&units=standard\n",
      "No stations found even after expanding the extent. Skipping this gauge.\n",
      "Rainfall data processing is done for 3426470 starting from 2019-06-11\n",
      "https://www.ncdc.noaa.gov/cdo-web/api/v2/stations?datasetid=PRECIP_15&startdate=2004-05-08&enddate=2004-05-24&extent=36.14948376&extent=-86.61437007&extent=36.23681666&extent=-86.4603212&limit=1000&units=standard\n",
      "No stations found for 3430147 within the given extent: {'north': 36.23681666, 'south': 36.14948376, 'east': -86.4603212, 'west': -86.61437007}\n",
      "Attempting to expand the extent by 0.2 degrees...\n",
      "https://www.ncdc.noaa.gov/cdo-web/api/v2/stations?datasetid=PRECIP_15&startdate=2004-05-08&enddate=2004-05-24&extent=35.94948376&extent=-86.81437007000001&extent=36.436816660000005&extent=-86.26032119999999&limit=1000&units=standard\n",
      "https://www.ncdc.noaa.gov/cdo-web/api/v2/data?datasetid=PRECIP_15&startdate=2004-05-08&enddate=2004-05-24&stationid=COOP:405108&limit=1000&units=standard\n",
      "Warnings for 3430147: \"None of [Index(['date', 'QPCP'], dtype='object')] are in the [columns]\"\n",
      "https://www.ncdc.noaa.gov/cdo-web/api/v2/data?datasetid=PRECIP_15&startdate=2004-05-08&enddate=2004-05-24&stationid=COOP:406806&limit=1000&units=standard\n",
      "Warnings for 3430147: \"None of [Index(['date', 'QPCP'], dtype='object')] are in the [columns]\"\n",
      "No valid data collected for 3430147. Exiting process.\n",
      "Rainfall data processing is done for 3430147 starting from 2004-05-08\n",
      "https://www.ncdc.noaa.gov/cdo-web/api/v2/stations?datasetid=PRECIP_15&startdate=2016-03-25&enddate=2016-04-08&extent=36.06495557&extent=-86.81620105&extent=36.16118001&extent=-86.72033451&limit=1000&units=standard\n",
      "No stations found for 3431300 within the given extent: {'north': 36.16118001, 'south': 36.06495557, 'east': -86.72033451, 'west': -86.81620105}\n",
      "Attempting to expand the extent by 0.2 degrees...\n",
      "https://www.ncdc.noaa.gov/cdo-web/api/v2/stations?datasetid=PRECIP_15&startdate=2016-03-25&enddate=2016-04-08&extent=35.86495557&extent=-87.01620105&extent=36.361180010000005&extent=-86.52033451&limit=1000&units=standard\n",
      "No stations found even after expanding the extent. Skipping this gauge.\n",
      "Rainfall data processing is done for 3431300 starting from 2016-03-25\n",
      "https://www.ncdc.noaa.gov/cdo-web/api/v2/stations?datasetid=PRECIP_15&startdate=2018-04-07&enddate=2018-04-23&extent=36.06439975&extent=-86.91755364&extent=36.1539268&extent=-86.79783154&limit=1000&units=standard\n",
      "No stations found for 3431700 within the given extent: {'north': 36.1539268, 'south': 36.06439975, 'east': -86.79783154, 'west': -86.91755364}\n",
      "Attempting to expand the extent by 0.2 degrees...\n",
      "https://www.ncdc.noaa.gov/cdo-web/api/v2/stations?datasetid=PRECIP_15&startdate=2018-04-07&enddate=2018-04-23&extent=35.86439975&extent=-87.11755364&extent=36.3539268&extent=-86.59783154&limit=1000&units=standard\n",
      "No stations found even after expanding the extent. Skipping this gauge.\n",
      "Rainfall data processing is done for 3431700 starting from 2018-04-07\n",
      "https://www.ncdc.noaa.gov/cdo-web/api/v2/stations?datasetid=PRECIP_15&startdate=2005-04-01&enddate=2005-04-17&extent=35.92571722&extent=-86.86050701&extent=35.99175158&extent=-86.77946158&limit=1000&units=standard\n",
      "No stations found for 3432390 within the given extent: {'north': 35.99175158, 'south': 35.92571722, 'east': -86.77946158, 'west': -86.86050701}\n",
      "Attempting to expand the extent by 0.2 degrees...\n",
      "https://www.ncdc.noaa.gov/cdo-web/api/v2/stations?datasetid=PRECIP_15&startdate=2005-04-01&enddate=2005-04-17&extent=35.72571722&extent=-87.06050701000001&extent=36.19175158&extent=-86.57946158&limit=1000&units=standard\n",
      "No stations found even after expanding the extent. Skipping this gauge.\n",
      "Rainfall data processing is done for 3432390 starting from 2005-04-01\n",
      "https://www.ncdc.noaa.gov/cdo-web/api/v2/stations?datasetid=PRECIP_15&startdate=2004-08-13&enddate=2004-08-29&extent=36.40887148&extent=-87.08152355&extent=36.50095989&extent=-86.95576251&limit=1000&units=standard\n",
      "No stations found for 3435970 within the given extent: {'north': 36.50095989, 'south': 36.40887148, 'east': -86.95576251, 'west': -87.08152355}\n",
      "Attempting to expand the extent by 0.2 degrees...\n",
      "https://www.ncdc.noaa.gov/cdo-web/api/v2/stations?datasetid=PRECIP_15&startdate=2004-08-13&enddate=2004-08-29&extent=36.20887148&extent=-87.28152355&extent=36.70095989&extent=-86.75576251&limit=1000&units=standard\n",
      "https://www.ncdc.noaa.gov/cdo-web/api/v2/data?datasetid=PRECIP_15&startdate=2004-08-13&enddate=2004-08-29&stationid=COOP:401663&limit=1000&units=standard\n",
      "https://www.ncdc.noaa.gov/cdo-web/api/v2/data?datasetid=PRECIP_15&startdate=2004-08-13&enddate=2004-08-29&stationid=COOP:408562&limit=1000&units=standard\n",
      "Rainfall data processing is done for 3435970 starting from 2004-08-13\n",
      "https://www.ncdc.noaa.gov/cdo-web/api/v2/stations?datasetid=PRECIP_15&startdate=2017-04-17&enddate=2017-05-03&extent=35.58924747&extent=-83.58869221&extent=35.70895269&extent=-83.38886094&limit=1000&units=standard\n",
      "No stations found for 3469251 within the given extent: {'north': 35.70895269, 'south': 35.58924747, 'east': -83.38886094, 'west': -83.58869221}\n",
      "Attempting to expand the extent by 0.2 degrees...\n",
      "https://www.ncdc.noaa.gov/cdo-web/api/v2/stations?datasetid=PRECIP_15&startdate=2017-04-17&enddate=2017-05-03&extent=35.389247469999994&extent=-83.78869221000001&extent=35.90895269&extent=-83.18886094&limit=1000&units=standard\n",
      "No stations found even after expanding the extent. Skipping this gauge.\n",
      "Rainfall data processing is done for 3469251 starting from 2017-04-17\n",
      "https://www.ncdc.noaa.gov/cdo-web/api/v2/stations?datasetid=PRECIP_15&startdate=2020-04-22&enddate=2020-05-09&extent=36.37321371&extent=-83.05688717&extent=36.42555552&extent=-82.98309718&limit=1000&units=standard\n",
      "No stations found for 3491544 within the given extent: {'north': 36.42555552, 'south': 36.37321371, 'east': -82.98309718, 'west': -83.05688717}\n",
      "Attempting to expand the extent by 0.2 degrees...\n",
      "https://www.ncdc.noaa.gov/cdo-web/api/v2/stations?datasetid=PRECIP_15&startdate=2020-04-22&enddate=2020-05-09&extent=36.17321371&extent=-83.25688717&extent=36.625555520000006&extent=-82.78309718&limit=1000&units=standard\n",
      "No stations found even after expanding the extent. Skipping this gauge.\n",
      "Rainfall data processing is done for 3491544 starting from 2020-04-22\n",
      "https://www.ncdc.noaa.gov/cdo-web/api/v2/stations?datasetid=PRECIP_15&startdate=2020-04-06&enddate=2020-04-22&extent=36.07117705&extent=-83.85598071&extent=36.13632579&extent=-83.75988312&limit=1000&units=standard\n",
      "No stations found for 3495405 within the given extent: {'north': 36.13632579, 'south': 36.07117705, 'east': -83.75988312, 'west': -83.85598071}\n",
      "Attempting to expand the extent by 0.2 degrees...\n",
      "https://www.ncdc.noaa.gov/cdo-web/api/v2/stations?datasetid=PRECIP_15&startdate=2020-04-06&enddate=2020-04-22&extent=35.87117705&extent=-84.05598071&extent=36.336325790000004&extent=-83.55988312&limit=1000&units=standard\n",
      "No stations found even after expanding the extent. Skipping this gauge.\n",
      "Rainfall data processing is done for 3495405 starting from 2020-04-06\n",
      "https://www.ncdc.noaa.gov/cdo-web/api/v2/stations?datasetid=PRECIP_15&startdate=2010-08-15&enddate=2010-08-31&extent=36.06203317&extent=-83.93733116&extent=36.15646214&extent=-83.83673724&limit=1000&units=standard\n",
      "No stations found for 35351830 within the given extent: {'north': 36.15646214, 'south': 36.06203317, 'east': -83.83673724, 'west': -83.93733116}\n",
      "Attempting to expand the extent by 0.2 degrees...\n",
      "https://www.ncdc.noaa.gov/cdo-web/api/v2/stations?datasetid=PRECIP_15&startdate=2010-08-15&enddate=2010-08-31&extent=35.86203317&extent=-84.13733116&extent=36.356462140000005&extent=-83.63673724&limit=1000&units=standard\n",
      "Warning: could not squash response: \n",
      " <Response [503]>, b'<!DOCTYPE HTML PUBLIC \"-//IETF//DTD HTML 2.0//EN\">\\n<html><head>\\n<title>503 Service Unavailable</title>\\n</head><body>\\n<h1>Service Unavailable</h1>\\n<p>The server is temporarily unable to service your\\nrequest due to maintenance downtime or capacity\\nproblems. Please try again later.</p>\\n<p>Additionally, a 503 Service Unavailable\\nerror was encountered while trying to use an ErrorDocument to handle the request.</p>\\n</body></html>\\n'\n",
      "No stations found even after expanding the extent. Skipping this gauge.\n",
      "Rainfall data processing is done for 35351830 starting from 2010-08-15\n",
      "https://www.ncdc.noaa.gov/cdo-web/api/v2/stations?datasetid=PRECIP_15&startdate=2004-05-29&enddate=2004-06-12&extent=35.97466049&extent=-84.2748036&extent=36.01601348&extent=-84.22800419&limit=1000&units=standard\n",
      "No stations found for 3538235 within the given extent: {'north': 36.01601348, 'south': 35.97466049, 'east': -84.22800419, 'west': -84.2748036}\n",
      "Attempting to expand the extent by 0.2 degrees...\n",
      "https://www.ncdc.noaa.gov/cdo-web/api/v2/stations?datasetid=PRECIP_15&startdate=2004-05-29&enddate=2004-06-12&extent=35.774660489999995&extent=-84.4748036&extent=36.21601348&extent=-84.02800418999999&limit=1000&units=standard\n",
      "No stations found even after expanding the extent. Skipping this gauge.\n",
      "Rainfall data processing is done for 3538235 starting from 2004-05-29\n",
      "https://www.ncdc.noaa.gov/cdo-web/api/v2/stations?datasetid=PRECIP_15&startdate=2019-04-28&enddate=2019-05-14&extent=35.83002675&extent=-85.10105441&extent=35.88963653&extent=-85.03928839&limit=1000&units=standard\n",
      "No stations found for 3538970 within the given extent: {'north': 35.88963653, 'south': 35.83002675, 'east': -85.03928839, 'west': -85.10105441}\n",
      "Attempting to expand the extent by 0.2 degrees...\n",
      "https://www.ncdc.noaa.gov/cdo-web/api/v2/stations?datasetid=PRECIP_15&startdate=2019-04-28&enddate=2019-05-14&extent=35.63002675&extent=-85.30105441&extent=36.08963653&extent=-84.83928839&limit=1000&units=standard\n",
      "No stations found even after expanding the extent. Skipping this gauge.\n",
      "Rainfall data processing is done for 3538970 starting from 2019-04-28\n",
      "https://www.ncdc.noaa.gov/cdo-web/api/v2/stations?datasetid=PRECIP_15&startdate=2007-07-26&enddate=2007-08-12&extent=35.43234109&extent=-84.61386089&extent=35.5391693&extent=-84.44254838&limit=1000&units=standard\n",
      "No stations found for 3565442 within the given extent: {'north': 35.5391693, 'south': 35.43234109, 'east': -84.44254838, 'west': -84.61386089}\n",
      "Attempting to expand the extent by 0.2 degrees...\n",
      "https://www.ncdc.noaa.gov/cdo-web/api/v2/stations?datasetid=PRECIP_15&startdate=2007-07-26&enddate=2007-08-12&extent=35.23234109&extent=-84.81386089&extent=35.7391693&extent=-84.24254838&limit=1000&units=standard\n",
      "No stations found even after expanding the extent. Skipping this gauge.\n",
      "Rainfall data processing is done for 3565442 starting from 2007-07-26\n",
      "https://www.ncdc.noaa.gov/cdo-web/api/v2/stations?datasetid=PRECIP_15&startdate=2004-06-30&enddate=2004-07-17&extent=35.36054983&extent=-86.15944768&extent=35.45212428&extent=-86.03567599&limit=1000&units=standard\n",
      "No stations found for 3596100 within the given extent: {'north': 35.45212428, 'south': 35.36054983, 'east': -86.03567599, 'west': -86.15944768}\n",
      "Attempting to expand the extent by 0.2 degrees...\n",
      "https://www.ncdc.noaa.gov/cdo-web/api/v2/stations?datasetid=PRECIP_15&startdate=2004-06-30&enddate=2004-07-17&extent=35.160549829999994&extent=-86.35944768&extent=35.65212428&extent=-85.83567599&limit=1000&units=standard\n",
      "https://www.ncdc.noaa.gov/cdo-web/api/v2/data?datasetid=PRECIP_15&startdate=2004-06-30&enddate=2004-07-17&stationid=COOP:406162&limit=1000&units=standard\n",
      "Rainfall data processing is done for 3596100 starting from 2004-06-30\n",
      "https://www.ncdc.noaa.gov/cdo-web/api/v2/stations?datasetid=PRECIP_15&startdate=2019-04-01&enddate=2019-04-17&extent=35.50636667&extent=-86.40167047&extent=35.66428&extent=-86.300294&limit=1000&units=standard\n",
      "No stations found for 3597590 within the given extent: {'north': 35.66428, 'south': 35.50636667, 'east': -86.300294, 'west': -86.40167047}\n",
      "Attempting to expand the extent by 0.2 degrees...\n",
      "https://www.ncdc.noaa.gov/cdo-web/api/v2/stations?datasetid=PRECIP_15&startdate=2019-04-01&enddate=2019-04-17&extent=35.306366669999996&extent=-86.60167047&extent=35.86428&extent=-86.10029399999999&limit=1000&units=standard\n",
      "No stations found even after expanding the extent. Skipping this gauge.\n",
      "Rainfall data processing is done for 3597590 starting from 2019-04-01\n",
      "https://www.ncdc.noaa.gov/cdo-web/api/v2/stations?datasetid=PRECIP_15&startdate=2000-06-15&enddate=2000-07-01&extent=35.36466547&extent=-86.86027159&extent=35.45978346&extent=-86.7393628&limit=1000&units=standard\n",
      "https://www.ncdc.noaa.gov/cdo-web/api/v2/data?datasetid=PRECIP_15&startdate=2000-06-15&enddate=2000-07-01&stationid=COOP:405187&limit=1000&units=standard\n",
      "Rainfall data processing is done for 3599000 starting from 2000-06-15\n",
      "https://www.ncdc.noaa.gov/cdo-web/api/v2/stations?datasetid=PRECIP_15&startdate=2008-04-12&enddate=2008-04-28&extent=35.71191767&extent=-87.05359782&extent=35.82247825&extent=-86.94925584&limit=1000&units=standard\n",
      "No stations found for 3600088 within the given extent: {'north': 35.82247825, 'south': 35.71191767, 'east': -86.94925584, 'west': -87.05359782}\n",
      "Attempting to expand the extent by 0.2 degrees...\n",
      "https://www.ncdc.noaa.gov/cdo-web/api/v2/stations?datasetid=PRECIP_15&startdate=2008-04-12&enddate=2008-04-28&extent=35.511917669999995&extent=-87.25359782&extent=36.022478250000006&extent=-86.74925584&limit=1000&units=standard\n",
      "No stations found even after expanding the extent. Skipping this gauge.\n",
      "Rainfall data processing is done for 3600088 starting from 2008-04-12\n",
      "https://www.ncdc.noaa.gov/cdo-web/api/v2/stations?datasetid=PRECIP_15&startdate=2020-06-02&enddate=2020-06-18&extent=35.9593737&extent=-88.17490636&extent=36.10035386&extent=-88.06467076&limit=1000&units=standard\n",
      "No stations found for 3605078 within the given extent: {'north': 36.10035386, 'south': 35.9593737, 'east': -88.06467076, 'west': -88.17490636}\n",
      "Attempting to expand the extent by 0.2 degrees...\n",
      "https://www.ncdc.noaa.gov/cdo-web/api/v2/stations?datasetid=PRECIP_15&startdate=2020-06-02&enddate=2020-06-18&extent=35.7593737&extent=-88.37490636&extent=36.30035386&extent=-87.86467076&limit=1000&units=standard\n",
      "No stations found even after expanding the extent. Skipping this gauge.\n",
      "Rainfall data processing is done for 3605078 starting from 2020-06-02\n",
      "https://www.ncdc.noaa.gov/cdo-web/api/v2/stations?datasetid=PRECIP_15&startdate=2019-04-01&enddate=2019-04-17&extent=36.02985571&extent=-88.4245398&extent=36.13893026&extent=-88.30413436&limit=1000&units=standard\n",
      "No stations found for 7024200 within the given extent: {'north': 36.13893026, 'south': 36.02985571, 'east': -88.30413436, 'west': -88.4245398}\n",
      "Attempting to expand the extent by 0.2 degrees...\n",
      "https://www.ncdc.noaa.gov/cdo-web/api/v2/stations?datasetid=PRECIP_15&startdate=2019-04-01&enddate=2019-04-17&extent=35.82985571&extent=-88.62453980000001&extent=36.338930260000005&extent=-88.10413436&limit=1000&units=standard\n",
      "No stations found even after expanding the extent. Skipping this gauge.\n",
      "Rainfall data processing is done for 7024200 starting from 2019-04-01\n",
      "https://www.ncdc.noaa.gov/cdo-web/api/v2/stations?datasetid=PRECIP_15&startdate=2010-07-06&enddate=2010-07-22&extent=35.09577534&extent=-89.69916857&extent=35.13027688&extent=-89.60547089&limit=1000&units=standard\n",
      "No stations found for 70306050 within the given extent: {'north': 35.13027688, 'south': 35.09577534, 'east': -89.60547089, 'west': -89.69916857}\n",
      "Attempting to expand the extent by 0.2 degrees...\n",
      "https://www.ncdc.noaa.gov/cdo-web/api/v2/stations?datasetid=PRECIP_15&startdate=2010-07-06&enddate=2010-07-22&extent=34.89577534&extent=-89.89916857&extent=35.33027688&extent=-89.40547089&limit=1000&units=standard\n",
      "https://www.ncdc.noaa.gov/cdo-web/api/v2/data?datasetid=PRECIP_15&startdate=2010-07-06&enddate=2010-07-22&stationid=COOP:405956&limit=1000&units=standard\n",
      "Rainfall data processing is done for 70306050 starting from 2010-07-06\n",
      "https://www.ncdc.noaa.gov/cdo-web/api/v2/stations?datasetid=PRECIP_15&startdate=2012-03-27&enddate=2012-04-13&extent=35.13780356&extent=-89.87493327&extent=35.23990334&extent=-89.74421197&limit=1000&units=standard\n",
      "No stations found for 7031692 within the given extent: {'north': 35.23990334, 'south': 35.13780356, 'east': -89.74421197, 'west': -89.87493327}\n",
      "Attempting to expand the extent by 0.2 degrees...\n",
      "https://www.ncdc.noaa.gov/cdo-web/api/v2/stations?datasetid=PRECIP_15&startdate=2012-03-27&enddate=2012-04-13&extent=34.93780356&extent=-90.07493327&extent=35.43990334&extent=-89.54421196999999&limit=1000&units=standard\n",
      "https://www.ncdc.noaa.gov/cdo-web/api/v2/data?datasetid=PRECIP_15&startdate=2012-03-27&enddate=2012-04-13&stationid=COOP:405956&limit=1000&units=standard\n",
      "Rainfall data processing is done for 7031692 starting from 2012-03-27\n",
      "https://www.ncdc.noaa.gov/cdo-web/api/v2/stations?datasetid=PRECIP_15&startdate=2017-07-31&enddate=2017-08-16&extent=36.47054977&extent=-85.87185917&extent=36.56569568&extent=-85.80165628&limit=1000&units=standard\n",
      "No stations found for 3312259 within the given extent: {'north': 36.56569568, 'south': 36.47054977, 'east': -85.80165628, 'west': -85.87185917}\n",
      "Attempting to expand the extent by 0.2 degrees...\n",
      "https://www.ncdc.noaa.gov/cdo-web/api/v2/stations?datasetid=PRECIP_15&startdate=2017-07-31&enddate=2017-08-16&extent=36.270549769999995&extent=-86.07185917&extent=36.76569568&extent=-85.60165628&limit=1000&units=standard\n",
      "No stations found even after expanding the extent. Skipping this gauge.\n",
      "Rainfall data processing is done for 3312259 starting from 2017-07-31\n",
      "https://www.ncdc.noaa.gov/cdo-web/api/v2/stations?datasetid=PRECIP_15&startdate=2009-05-08&enddate=2009-05-25&extent=36.31355449&extent=-86.79300794&extent=36.41892638&extent=-86.71621875&limit=1000&units=standard\n",
      "No stations found for 3426385 within the given extent: {'north': 36.41892638, 'south': 36.31355449, 'east': -86.71621875, 'west': -86.79300794}\n",
      "Attempting to expand the extent by 0.2 degrees...\n",
      "https://www.ncdc.noaa.gov/cdo-web/api/v2/stations?datasetid=PRECIP_15&startdate=2009-05-08&enddate=2009-05-25&extent=36.11355449&extent=-86.99300794&extent=36.618926380000005&extent=-86.51621875&limit=1000&units=standard\n",
      "https://www.ncdc.noaa.gov/cdo-web/api/v2/data?datasetid=PRECIP_15&startdate=2009-05-08&enddate=2009-05-25&stationid=COOP:406806&limit=1000&units=standard\n",
      "https://www.ncdc.noaa.gov/cdo-web/api/v2/data?datasetid=PRECIP_15&startdate=2009-05-08&enddate=2009-05-25&stationid=COOP:407359&limit=1000&units=standard\n",
      "https://www.ncdc.noaa.gov/cdo-web/api/v2/data?datasetid=PRECIP_15&startdate=2009-05-08&enddate=2009-05-25&stationid=COOP:408562&limit=1000&units=standard\n",
      "Rainfall data processing is done for 3426385 starting from 2009-05-08\n",
      "https://www.ncdc.noaa.gov/cdo-web/api/v2/stations?datasetid=PRECIP_15&startdate=2019-06-17&enddate=2019-07-03&extent=36.26672548&extent=-86.76382851&extent=36.31769794&extent=-86.68765616&limit=1000&units=standard\n",
      "No stations found for 3426470 within the given extent: {'north': 36.31769794, 'south': 36.26672548, 'east': -86.68765616, 'west': -86.76382851}\n",
      "Attempting to expand the extent by 0.2 degrees...\n",
      "https://www.ncdc.noaa.gov/cdo-web/api/v2/stations?datasetid=PRECIP_15&startdate=2019-06-17&enddate=2019-07-03&extent=36.066725479999995&extent=-86.96382851&extent=36.517697940000005&extent=-86.48765616&limit=1000&units=standard\n",
      "No stations found even after expanding the extent. Skipping this gauge.\n",
      "Rainfall data processing is done for 3426470 starting from 2019-06-17\n",
      "https://www.ncdc.noaa.gov/cdo-web/api/v2/stations?datasetid=PRECIP_15&startdate=2004-05-24&enddate=2004-06-09&extent=36.14948376&extent=-86.61437007&extent=36.23681666&extent=-86.4603212&limit=1000&units=standard\n",
      "No stations found for 3430147 within the given extent: {'north': 36.23681666, 'south': 36.14948376, 'east': -86.4603212, 'west': -86.61437007}\n",
      "Attempting to expand the extent by 0.2 degrees...\n",
      "https://www.ncdc.noaa.gov/cdo-web/api/v2/stations?datasetid=PRECIP_15&startdate=2004-05-24&enddate=2004-06-09&extent=35.94948376&extent=-86.81437007000001&extent=36.436816660000005&extent=-86.26032119999999&limit=1000&units=standard\n",
      "https://www.ncdc.noaa.gov/cdo-web/api/v2/data?datasetid=PRECIP_15&startdate=2004-05-24&enddate=2004-06-09&stationid=COOP:405108&limit=1000&units=standard\n",
      "https://www.ncdc.noaa.gov/cdo-web/api/v2/data?datasetid=PRECIP_15&startdate=2004-05-24&enddate=2004-06-09&stationid=COOP:406806&limit=1000&units=standard\n",
      "Rainfall data processing is done for 3430147 starting from 2004-05-24\n",
      "https://www.ncdc.noaa.gov/cdo-web/api/v2/stations?datasetid=PRECIP_15&startdate=2018-03-29&enddate=2018-04-11&extent=36.06495557&extent=-86.81620105&extent=36.16118001&extent=-86.72033451&limit=1000&units=standard\n",
      "No stations found for 3431300 within the given extent: {'north': 36.16118001, 'south': 36.06495557, 'east': -86.72033451, 'west': -86.81620105}\n",
      "Attempting to expand the extent by 0.2 degrees...\n",
      "https://www.ncdc.noaa.gov/cdo-web/api/v2/stations?datasetid=PRECIP_15&startdate=2018-03-29&enddate=2018-04-11&extent=35.86495557&extent=-87.01620105&extent=36.361180010000005&extent=-86.52033451&limit=1000&units=standard\n",
      "No stations found even after expanding the extent. Skipping this gauge.\n",
      "Rainfall data processing is done for 3431300 starting from 2018-03-29\n",
      "https://www.ncdc.noaa.gov/cdo-web/api/v2/stations?datasetid=PRECIP_15&startdate=2018-04-08&enddate=2018-04-24&extent=36.06439975&extent=-86.91755364&extent=36.1539268&extent=-86.79783154&limit=1000&units=standard\n",
      "No stations found for 3431700 within the given extent: {'north': 36.1539268, 'south': 36.06439975, 'east': -86.79783154, 'west': -86.91755364}\n",
      "Attempting to expand the extent by 0.2 degrees...\n",
      "https://www.ncdc.noaa.gov/cdo-web/api/v2/stations?datasetid=PRECIP_15&startdate=2018-04-08&enddate=2018-04-24&extent=35.86439975&extent=-87.11755364&extent=36.3539268&extent=-86.59783154&limit=1000&units=standard\n",
      "No stations found even after expanding the extent. Skipping this gauge.\n",
      "Rainfall data processing is done for 3431700 starting from 2018-04-08\n",
      "https://www.ncdc.noaa.gov/cdo-web/api/v2/stations?datasetid=PRECIP_15&startdate=2005-04-15&enddate=2005-05-01&extent=35.92571722&extent=-86.86050701&extent=35.99175158&extent=-86.77946158&limit=1000&units=standard\n",
      "No stations found for 3432390 within the given extent: {'north': 35.99175158, 'south': 35.92571722, 'east': -86.77946158, 'west': -86.86050701}\n",
      "Attempting to expand the extent by 0.2 degrees...\n",
      "https://www.ncdc.noaa.gov/cdo-web/api/v2/stations?datasetid=PRECIP_15&startdate=2005-04-15&enddate=2005-05-01&extent=35.72571722&extent=-87.06050701000001&extent=36.19175158&extent=-86.57946158&limit=1000&units=standard\n",
      "No stations found even after expanding the extent. Skipping this gauge.\n",
      "Rainfall data processing is done for 3432390 starting from 2005-04-15\n",
      "https://www.ncdc.noaa.gov/cdo-web/api/v2/stations?datasetid=PRECIP_15&startdate=2004-08-23&enddate=2004-09-08&extent=36.40887148&extent=-87.08152355&extent=36.50095989&extent=-86.95576251&limit=1000&units=standard\n",
      "No stations found for 3435970 within the given extent: {'north': 36.50095989, 'south': 36.40887148, 'east': -86.95576251, 'west': -87.08152355}\n",
      "Attempting to expand the extent by 0.2 degrees...\n",
      "https://www.ncdc.noaa.gov/cdo-web/api/v2/stations?datasetid=PRECIP_15&startdate=2004-08-23&enddate=2004-09-08&extent=36.20887148&extent=-87.28152355&extent=36.70095989&extent=-86.75576251&limit=1000&units=standard\n",
      "https://www.ncdc.noaa.gov/cdo-web/api/v2/data?datasetid=PRECIP_15&startdate=2004-08-23&enddate=2004-09-08&stationid=COOP:401663&limit=1000&units=standard\n",
      "https://www.ncdc.noaa.gov/cdo-web/api/v2/data?datasetid=PRECIP_15&startdate=2004-08-23&enddate=2004-09-08&stationid=COOP:408562&limit=1000&units=standard\n",
      "Rainfall data processing is done for 3435970 starting from 2004-08-23\n",
      "https://www.ncdc.noaa.gov/cdo-web/api/v2/stations?datasetid=PRECIP_15&startdate=2017-04-24&enddate=2017-05-11&extent=35.58924747&extent=-83.58869221&extent=35.70895269&extent=-83.38886094&limit=1000&units=standard\n",
      "No stations found for 3469251 within the given extent: {'north': 35.70895269, 'south': 35.58924747, 'east': -83.38886094, 'west': -83.58869221}\n",
      "Attempting to expand the extent by 0.2 degrees...\n",
      "https://www.ncdc.noaa.gov/cdo-web/api/v2/stations?datasetid=PRECIP_15&startdate=2017-04-24&enddate=2017-05-11&extent=35.389247469999994&extent=-83.78869221000001&extent=35.90895269&extent=-83.18886094&limit=1000&units=standard\n",
      "No stations found even after expanding the extent. Skipping this gauge.\n",
      "Rainfall data processing is done for 3469251 starting from 2017-04-24\n",
      "https://www.ncdc.noaa.gov/cdo-web/api/v2/stations?datasetid=PRECIP_15&startdate=2020-05-12&enddate=2020-05-28&extent=36.37321371&extent=-83.05688717&extent=36.42555552&extent=-82.98309718&limit=1000&units=standard\n",
      "No stations found for 3491544 within the given extent: {'north': 36.42555552, 'south': 36.37321371, 'east': -82.98309718, 'west': -83.05688717}\n",
      "Attempting to expand the extent by 0.2 degrees...\n",
      "https://www.ncdc.noaa.gov/cdo-web/api/v2/stations?datasetid=PRECIP_15&startdate=2020-05-12&enddate=2020-05-28&extent=36.17321371&extent=-83.25688717&extent=36.625555520000006&extent=-82.78309718&limit=1000&units=standard\n",
      "No stations found even after expanding the extent. Skipping this gauge.\n",
      "Rainfall data processing is done for 3491544 starting from 2020-05-12\n",
      "https://www.ncdc.noaa.gov/cdo-web/api/v2/stations?datasetid=PRECIP_15&startdate=2020-04-13&enddate=2020-04-29&extent=36.07117705&extent=-83.85598071&extent=36.13632579&extent=-83.75988312&limit=1000&units=standard\n",
      "No stations found for 3495405 within the given extent: {'north': 36.13632579, 'south': 36.07117705, 'east': -83.75988312, 'west': -83.85598071}\n",
      "Attempting to expand the extent by 0.2 degrees...\n",
      "https://www.ncdc.noaa.gov/cdo-web/api/v2/stations?datasetid=PRECIP_15&startdate=2020-04-13&enddate=2020-04-29&extent=35.87117705&extent=-84.05598071&extent=36.336325790000004&extent=-83.55988312&limit=1000&units=standard\n",
      "No stations found even after expanding the extent. Skipping this gauge.\n",
      "Rainfall data processing is done for 3495405 starting from 2020-04-13\n",
      "https://www.ncdc.noaa.gov/cdo-web/api/v2/stations?datasetid=PRECIP_15&startdate=2009-06-04&enddate=2009-06-20&extent=36.06203317&extent=-83.93733116&extent=36.15646214&extent=-83.83673724&limit=1000&units=standard\n",
      "No stations found for 35351830 within the given extent: {'north': 36.15646214, 'south': 36.06203317, 'east': -83.83673724, 'west': -83.93733116}\n",
      "Attempting to expand the extent by 0.2 degrees...\n",
      "https://www.ncdc.noaa.gov/cdo-web/api/v2/stations?datasetid=PRECIP_15&startdate=2009-06-04&enddate=2009-06-20&extent=35.86203317&extent=-84.13733116&extent=36.356462140000005&extent=-83.63673724&limit=1000&units=standard\n",
      "No stations found even after expanding the extent. Skipping this gauge.\n",
      "Rainfall data processing is done for 35351830 starting from 2009-06-04\n",
      "https://www.ncdc.noaa.gov/cdo-web/api/v2/stations?datasetid=PRECIP_15&startdate=2004-06-09&enddate=2004-06-22&extent=35.97466049&extent=-84.2748036&extent=36.01601348&extent=-84.22800419&limit=1000&units=standard\n",
      "No stations found for 3538235 within the given extent: {'north': 36.01601348, 'south': 35.97466049, 'east': -84.22800419, 'west': -84.2748036}\n",
      "Attempting to expand the extent by 0.2 degrees...\n",
      "https://www.ncdc.noaa.gov/cdo-web/api/v2/stations?datasetid=PRECIP_15&startdate=2004-06-09&enddate=2004-06-22&extent=35.774660489999995&extent=-84.4748036&extent=36.21601348&extent=-84.02800418999999&limit=1000&units=standard\n",
      "No stations found even after expanding the extent. Skipping this gauge.\n",
      "Rainfall data processing is done for 3538235 starting from 2004-06-09\n",
      "https://www.ncdc.noaa.gov/cdo-web/api/v2/stations?datasetid=PRECIP_15&startdate=2019-05-05&enddate=2019-05-21&extent=35.83002675&extent=-85.10105441&extent=35.88963653&extent=-85.03928839&limit=1000&units=standard\n",
      "No stations found for 3538970 within the given extent: {'north': 35.88963653, 'south': 35.83002675, 'east': -85.03928839, 'west': -85.10105441}\n",
      "Attempting to expand the extent by 0.2 degrees...\n",
      "https://www.ncdc.noaa.gov/cdo-web/api/v2/stations?datasetid=PRECIP_15&startdate=2019-05-05&enddate=2019-05-21&extent=35.63002675&extent=-85.30105441&extent=36.08963653&extent=-84.83928839&limit=1000&units=standard\n",
      "No stations found even after expanding the extent. Skipping this gauge.\n",
      "Rainfall data processing is done for 3538970 starting from 2019-05-05\n",
      "https://www.ncdc.noaa.gov/cdo-web/api/v2/stations?datasetid=PRECIP_15&startdate=2007-08-23&enddate=2007-09-08&extent=35.43234109&extent=-84.61386089&extent=35.5391693&extent=-84.44254838&limit=1000&units=standard\n",
      "No stations found for 3565442 within the given extent: {'north': 35.5391693, 'south': 35.43234109, 'east': -84.44254838, 'west': -84.61386089}\n",
      "Attempting to expand the extent by 0.2 degrees...\n",
      "https://www.ncdc.noaa.gov/cdo-web/api/v2/stations?datasetid=PRECIP_15&startdate=2007-08-23&enddate=2007-09-08&extent=35.23234109&extent=-84.81386089&extent=35.7391693&extent=-84.24254838&limit=1000&units=standard\n",
      "No stations found even after expanding the extent. Skipping this gauge.\n",
      "Rainfall data processing is done for 3565442 starting from 2007-08-23\n",
      "https://www.ncdc.noaa.gov/cdo-web/api/v2/stations?datasetid=PRECIP_15&startdate=2004-07-05&enddate=2004-07-22&extent=35.36054983&extent=-86.15944768&extent=35.45212428&extent=-86.03567599&limit=1000&units=standard\n",
      "No stations found for 3596100 within the given extent: {'north': 35.45212428, 'south': 35.36054983, 'east': -86.03567599, 'west': -86.15944768}\n",
      "Attempting to expand the extent by 0.2 degrees...\n",
      "https://www.ncdc.noaa.gov/cdo-web/api/v2/stations?datasetid=PRECIP_15&startdate=2004-07-05&enddate=2004-07-22&extent=35.160549829999994&extent=-86.35944768&extent=35.65212428&extent=-85.83567599&limit=1000&units=standard\n",
      "https://www.ncdc.noaa.gov/cdo-web/api/v2/data?datasetid=PRECIP_15&startdate=2004-07-05&enddate=2004-07-22&stationid=COOP:406162&limit=1000&units=standard\n",
      "Rainfall data processing is done for 3596100 starting from 2004-07-05\n",
      "https://www.ncdc.noaa.gov/cdo-web/api/v2/stations?datasetid=PRECIP_15&startdate=2019-04-02&enddate=2019-04-18&extent=35.50636667&extent=-86.40167047&extent=35.66428&extent=-86.300294&limit=1000&units=standard\n",
      "No stations found for 3597590 within the given extent: {'north': 35.66428, 'south': 35.50636667, 'east': -86.300294, 'west': -86.40167047}\n",
      "Attempting to expand the extent by 0.2 degrees...\n",
      "https://www.ncdc.noaa.gov/cdo-web/api/v2/stations?datasetid=PRECIP_15&startdate=2019-04-02&enddate=2019-04-18&extent=35.306366669999996&extent=-86.60167047&extent=35.86428&extent=-86.10029399999999&limit=1000&units=standard\n",
      "No stations found even after expanding the extent. Skipping this gauge.\n",
      "Rainfall data processing is done for 3597590 starting from 2019-04-02\n",
      "https://www.ncdc.noaa.gov/cdo-web/api/v2/stations?datasetid=PRECIP_15&startdate=2008-04-26&enddate=2008-05-12&extent=35.71191767&extent=-87.05359782&extent=35.82247825&extent=-86.94925584&limit=1000&units=standard\n",
      "No stations found for 3600088 within the given extent: {'north': 35.82247825, 'south': 35.71191767, 'east': -86.94925584, 'west': -87.05359782}\n",
      "Attempting to expand the extent by 0.2 degrees...\n",
      "https://www.ncdc.noaa.gov/cdo-web/api/v2/stations?datasetid=PRECIP_15&startdate=2008-04-26&enddate=2008-05-12&extent=35.511917669999995&extent=-87.25359782&extent=36.022478250000006&extent=-86.74925584&limit=1000&units=standard\n",
      "No stations found even after expanding the extent. Skipping this gauge.\n",
      "Rainfall data processing is done for 3600088 starting from 2008-04-26\n",
      "https://www.ncdc.noaa.gov/cdo-web/api/v2/stations?datasetid=PRECIP_15&startdate=2020-06-14&enddate=2020-06-30&extent=35.9593737&extent=-88.17490636&extent=36.10035386&extent=-88.06467076&limit=1000&units=standard\n",
      "No stations found for 3605078 within the given extent: {'north': 36.10035386, 'south': 35.9593737, 'east': -88.06467076, 'west': -88.17490636}\n",
      "Attempting to expand the extent by 0.2 degrees...\n",
      "https://www.ncdc.noaa.gov/cdo-web/api/v2/stations?datasetid=PRECIP_15&startdate=2020-06-14&enddate=2020-06-30&extent=35.7593737&extent=-88.37490636&extent=36.30035386&extent=-87.86467076&limit=1000&units=standard\n",
      "No stations found even after expanding the extent. Skipping this gauge.\n",
      "Rainfall data processing is done for 3605078 starting from 2020-06-14\n",
      "https://www.ncdc.noaa.gov/cdo-web/api/v2/stations?datasetid=PRECIP_15&startdate=2019-04-07&enddate=2019-04-23&extent=36.02985571&extent=-88.4245398&extent=36.13893026&extent=-88.30413436&limit=1000&units=standard\n",
      "No stations found for 7024200 within the given extent: {'north': 36.13893026, 'south': 36.02985571, 'east': -88.30413436, 'west': -88.4245398}\n",
      "Attempting to expand the extent by 0.2 degrees...\n",
      "https://www.ncdc.noaa.gov/cdo-web/api/v2/stations?datasetid=PRECIP_15&startdate=2019-04-07&enddate=2019-04-23&extent=35.82985571&extent=-88.62453980000001&extent=36.338930260000005&extent=-88.10413436&limit=1000&units=standard\n",
      "No stations found even after expanding the extent. Skipping this gauge.\n",
      "Rainfall data processing is done for 7024200 starting from 2019-04-07\n",
      "https://www.ncdc.noaa.gov/cdo-web/api/v2/stations?datasetid=PRECIP_15&startdate=2010-07-20&enddate=2010-08-05&extent=35.09577534&extent=-89.69916857&extent=35.13027688&extent=-89.60547089&limit=1000&units=standard\n",
      "No stations found for 70306050 within the given extent: {'north': 35.13027688, 'south': 35.09577534, 'east': -89.60547089, 'west': -89.69916857}\n",
      "Attempting to expand the extent by 0.2 degrees...\n",
      "https://www.ncdc.noaa.gov/cdo-web/api/v2/stations?datasetid=PRECIP_15&startdate=2010-07-20&enddate=2010-08-05&extent=34.89577534&extent=-89.89916857&extent=35.33027688&extent=-89.40547089&limit=1000&units=standard\n",
      "https://www.ncdc.noaa.gov/cdo-web/api/v2/data?datasetid=PRECIP_15&startdate=2010-07-20&enddate=2010-08-05&stationid=COOP:405956&limit=1000&units=standard\n",
      "Rainfall data processing is done for 70306050 starting from 2010-07-20\n",
      "https://www.ncdc.noaa.gov/cdo-web/api/v2/stations?datasetid=PRECIP_15&startdate=2012-03-29&enddate=2012-04-14&extent=35.13780356&extent=-89.87493327&extent=35.23990334&extent=-89.74421197&limit=1000&units=standard\n",
      "No stations found for 7031692 within the given extent: {'north': 35.23990334, 'south': 35.13780356, 'east': -89.74421197, 'west': -89.87493327}\n",
      "Attempting to expand the extent by 0.2 degrees...\n",
      "https://www.ncdc.noaa.gov/cdo-web/api/v2/stations?datasetid=PRECIP_15&startdate=2012-03-29&enddate=2012-04-14&extent=34.93780356&extent=-90.07493327&extent=35.43990334&extent=-89.54421196999999&limit=1000&units=standard\n",
      "https://www.ncdc.noaa.gov/cdo-web/api/v2/data?datasetid=PRECIP_15&startdate=2012-03-29&enddate=2012-04-14&stationid=COOP:405956&limit=1000&units=standard\n",
      "Rainfall data processing is done for 7031692 starting from 2012-03-29\n",
      "https://www.ncdc.noaa.gov/cdo-web/api/v2/stations?datasetid=PRECIP_15&startdate=2017-08-15&enddate=2017-09-01&extent=36.47054977&extent=-85.87185917&extent=36.56569568&extent=-85.80165628&limit=1000&units=standard\n",
      "No stations found for 3312259 within the given extent: {'north': 36.56569568, 'south': 36.47054977, 'east': -85.80165628, 'west': -85.87185917}\n",
      "Attempting to expand the extent by 0.2 degrees...\n",
      "https://www.ncdc.noaa.gov/cdo-web/api/v2/stations?datasetid=PRECIP_15&startdate=2017-08-15&enddate=2017-09-01&extent=36.270549769999995&extent=-86.07185917&extent=36.76569568&extent=-85.60165628&limit=1000&units=standard\n",
      "No stations found even after expanding the extent. Skipping this gauge.\n",
      "Rainfall data processing is done for 3312259 starting from 2017-08-15\n",
      "https://www.ncdc.noaa.gov/cdo-web/api/v2/stations?datasetid=PRECIP_15&startdate=2009-05-09&enddate=2009-05-25&extent=36.31355449&extent=-86.79300794&extent=36.41892638&extent=-86.71621875&limit=1000&units=standard\n",
      "No stations found for 3426385 within the given extent: {'north': 36.41892638, 'south': 36.31355449, 'east': -86.71621875, 'west': -86.79300794}\n",
      "Attempting to expand the extent by 0.2 degrees...\n",
      "https://www.ncdc.noaa.gov/cdo-web/api/v2/stations?datasetid=PRECIP_15&startdate=2009-05-09&enddate=2009-05-25&extent=36.11355449&extent=-86.99300794&extent=36.618926380000005&extent=-86.51621875&limit=1000&units=standard\n",
      "https://www.ncdc.noaa.gov/cdo-web/api/v2/data?datasetid=PRECIP_15&startdate=2009-05-09&enddate=2009-05-25&stationid=COOP:406806&limit=1000&units=standard\n",
      "https://www.ncdc.noaa.gov/cdo-web/api/v2/data?datasetid=PRECIP_15&startdate=2009-05-09&enddate=2009-05-25&stationid=COOP:407359&limit=1000&units=standard\n",
      "https://www.ncdc.noaa.gov/cdo-web/api/v2/data?datasetid=PRECIP_15&startdate=2009-05-09&enddate=2009-05-25&stationid=COOP:408562&limit=1000&units=standard\n",
      "Rainfall data processing is done for 3426385 starting from 2009-05-09\n",
      "https://www.ncdc.noaa.gov/cdo-web/api/v2/stations?datasetid=PRECIP_15&startdate=2020-04-05&enddate=2020-04-22&extent=36.26672548&extent=-86.76382851&extent=36.31769794&extent=-86.68765616&limit=1000&units=standard\n",
      "No stations found for 3426470 within the given extent: {'north': 36.31769794, 'south': 36.26672548, 'east': -86.68765616, 'west': -86.76382851}\n",
      "Attempting to expand the extent by 0.2 degrees...\n",
      "https://www.ncdc.noaa.gov/cdo-web/api/v2/stations?datasetid=PRECIP_15&startdate=2020-04-05&enddate=2020-04-22&extent=36.066725479999995&extent=-86.96382851&extent=36.517697940000005&extent=-86.48765616&limit=1000&units=standard\n",
      "No stations found even after expanding the extent. Skipping this gauge.\n",
      "Rainfall data processing is done for 3426470 starting from 2020-04-05\n",
      "https://www.ncdc.noaa.gov/cdo-web/api/v2/stations?datasetid=PRECIP_15&startdate=2004-06-05&enddate=2004-06-21&extent=36.14948376&extent=-86.61437007&extent=36.23681666&extent=-86.4603212&limit=1000&units=standard\n",
      "No stations found for 3430147 within the given extent: {'north': 36.23681666, 'south': 36.14948376, 'east': -86.4603212, 'west': -86.61437007}\n",
      "Attempting to expand the extent by 0.2 degrees...\n",
      "https://www.ncdc.noaa.gov/cdo-web/api/v2/stations?datasetid=PRECIP_15&startdate=2004-06-05&enddate=2004-06-21&extent=35.94948376&extent=-86.81437007000001&extent=36.436816660000005&extent=-86.26032119999999&limit=1000&units=standard\n",
      "https://www.ncdc.noaa.gov/cdo-web/api/v2/data?datasetid=PRECIP_15&startdate=2004-06-05&enddate=2004-06-21&stationid=COOP:405108&limit=1000&units=standard\n",
      "Warnings for 3430147: \"None of [Index(['date', 'QPCP'], dtype='object')] are in the [columns]\"\n",
      "https://www.ncdc.noaa.gov/cdo-web/api/v2/data?datasetid=PRECIP_15&startdate=2004-06-05&enddate=2004-06-21&stationid=COOP:406806&limit=1000&units=standard\n",
      "Rainfall data processing is done for 3430147 starting from 2004-06-05\n",
      "https://www.ncdc.noaa.gov/cdo-web/api/v2/stations?datasetid=PRECIP_15&startdate=2018-04-08&enddate=2018-04-22&extent=36.06495557&extent=-86.81620105&extent=36.16118001&extent=-86.72033451&limit=1000&units=standard\n",
      "No stations found for 3431300 within the given extent: {'north': 36.16118001, 'south': 36.06495557, 'east': -86.72033451, 'west': -86.81620105}\n",
      "Attempting to expand the extent by 0.2 degrees...\n",
      "https://www.ncdc.noaa.gov/cdo-web/api/v2/stations?datasetid=PRECIP_15&startdate=2018-04-08&enddate=2018-04-22&extent=35.86495557&extent=-87.01620105&extent=36.361180010000005&extent=-86.52033451&limit=1000&units=standard\n",
      "No stations found even after expanding the extent. Skipping this gauge.\n",
      "Rainfall data processing is done for 3431300 starting from 2018-04-08\n",
      "https://www.ncdc.noaa.gov/cdo-web/api/v2/stations?datasetid=PRECIP_15&startdate=2019-03-31&enddate=2019-04-16&extent=36.06439975&extent=-86.91755364&extent=36.1539268&extent=-86.79783154&limit=1000&units=standard\n",
      "No stations found for 3431700 within the given extent: {'north': 36.1539268, 'south': 36.06439975, 'east': -86.79783154, 'west': -86.91755364}\n",
      "Attempting to expand the extent by 0.2 degrees...\n",
      "https://www.ncdc.noaa.gov/cdo-web/api/v2/stations?datasetid=PRECIP_15&startdate=2019-03-31&enddate=2019-04-16&extent=35.86439975&extent=-87.11755364&extent=36.3539268&extent=-86.59783154&limit=1000&units=standard\n",
      "No stations found even after expanding the extent. Skipping this gauge.\n",
      "Rainfall data processing is done for 3431700 starting from 2019-03-31\n",
      "https://www.ncdc.noaa.gov/cdo-web/api/v2/stations?datasetid=PRECIP_15&startdate=2005-04-21&enddate=2005-05-07&extent=35.92571722&extent=-86.86050701&extent=35.99175158&extent=-86.77946158&limit=1000&units=standard\n",
      "No stations found for 3432390 within the given extent: {'north': 35.99175158, 'south': 35.92571722, 'east': -86.77946158, 'west': -86.86050701}\n",
      "Attempting to expand the extent by 0.2 degrees...\n",
      "https://www.ncdc.noaa.gov/cdo-web/api/v2/stations?datasetid=PRECIP_15&startdate=2005-04-21&enddate=2005-05-07&extent=35.72571722&extent=-87.06050701000001&extent=36.19175158&extent=-86.57946158&limit=1000&units=standard\n",
      "No stations found even after expanding the extent. Skipping this gauge.\n",
      "Rainfall data processing is done for 3432390 starting from 2005-04-21\n",
      "https://www.ncdc.noaa.gov/cdo-web/api/v2/stations?datasetid=PRECIP_15&startdate=2002-04-27&enddate=2002-05-13&extent=36.40887148&extent=-87.08152355&extent=36.50095989&extent=-86.95576251&limit=1000&units=standard\n",
      "No stations found for 3435970 within the given extent: {'north': 36.50095989, 'south': 36.40887148, 'east': -86.95576251, 'west': -87.08152355}\n",
      "Attempting to expand the extent by 0.2 degrees...\n",
      "https://www.ncdc.noaa.gov/cdo-web/api/v2/stations?datasetid=PRECIP_15&startdate=2002-04-27&enddate=2002-05-13&extent=36.20887148&extent=-87.28152355&extent=36.70095989&extent=-86.75576251&limit=1000&units=standard\n",
      "https://www.ncdc.noaa.gov/cdo-web/api/v2/data?datasetid=PRECIP_15&startdate=2002-04-27&enddate=2002-05-13&stationid=COOP:401663&limit=1000&units=standard\n",
      "https://www.ncdc.noaa.gov/cdo-web/api/v2/data?datasetid=PRECIP_15&startdate=2002-04-27&enddate=2002-05-13&stationid=COOP:408562&limit=1000&units=standard\n",
      "Rainfall data processing is done for 3435970 starting from 2002-04-27\n",
      "https://www.ncdc.noaa.gov/cdo-web/api/v2/stations?datasetid=PRECIP_15&startdate=2017-04-30&enddate=2017-05-16&extent=35.58924747&extent=-83.58869221&extent=35.70895269&extent=-83.38886094&limit=1000&units=standard\n",
      "No stations found for 3469251 within the given extent: {'north': 35.70895269, 'south': 35.58924747, 'east': -83.38886094, 'west': -83.58869221}\n",
      "Attempting to expand the extent by 0.2 degrees...\n",
      "https://www.ncdc.noaa.gov/cdo-web/api/v2/stations?datasetid=PRECIP_15&startdate=2017-04-30&enddate=2017-05-16&extent=35.389247469999994&extent=-83.78869221000001&extent=35.90895269&extent=-83.18886094&limit=1000&units=standard\n",
      "No stations found even after expanding the extent. Skipping this gauge.\n",
      "Rainfall data processing is done for 3469251 starting from 2017-04-30\n",
      "https://www.ncdc.noaa.gov/cdo-web/api/v2/stations?datasetid=PRECIP_15&startdate=2020-05-13&enddate=2020-05-29&extent=36.37321371&extent=-83.05688717&extent=36.42555552&extent=-82.98309718&limit=1000&units=standard\n",
      "No stations found for 3491544 within the given extent: {'north': 36.42555552, 'south': 36.37321371, 'east': -82.98309718, 'west': -83.05688717}\n",
      "Attempting to expand the extent by 0.2 degrees...\n",
      "https://www.ncdc.noaa.gov/cdo-web/api/v2/stations?datasetid=PRECIP_15&startdate=2020-05-13&enddate=2020-05-29&extent=36.17321371&extent=-83.25688717&extent=36.625555520000006&extent=-82.78309718&limit=1000&units=standard\n",
      "No stations found even after expanding the extent. Skipping this gauge.\n",
      "Rainfall data processing is done for 3491544 starting from 2020-05-13\n",
      "https://www.ncdc.noaa.gov/cdo-web/api/v2/stations?datasetid=PRECIP_15&startdate=2020-04-17&enddate=2020-05-03&extent=36.07117705&extent=-83.85598071&extent=36.13632579&extent=-83.75988312&limit=1000&units=standard\n",
      "No stations found for 3495405 within the given extent: {'north': 36.13632579, 'south': 36.07117705, 'east': -83.75988312, 'west': -83.85598071}\n",
      "Attempting to expand the extent by 0.2 degrees...\n",
      "https://www.ncdc.noaa.gov/cdo-web/api/v2/stations?datasetid=PRECIP_15&startdate=2020-04-17&enddate=2020-05-03&extent=35.87117705&extent=-84.05598071&extent=36.336325790000004&extent=-83.55988312&limit=1000&units=standard\n",
      "No stations found even after expanding the extent. Skipping this gauge.\n",
      "Rainfall data processing is done for 3495405 starting from 2020-04-17\n",
      "https://www.ncdc.noaa.gov/cdo-web/api/v2/stations?datasetid=PRECIP_15&startdate=2009-06-05&enddate=2009-06-21&extent=36.06203317&extent=-83.93733116&extent=36.15646214&extent=-83.83673724&limit=1000&units=standard\n",
      "No stations found for 35351830 within the given extent: {'north': 36.15646214, 'south': 36.06203317, 'east': -83.83673724, 'west': -83.93733116}\n",
      "Attempting to expand the extent by 0.2 degrees...\n",
      "https://www.ncdc.noaa.gov/cdo-web/api/v2/stations?datasetid=PRECIP_15&startdate=2009-06-05&enddate=2009-06-21&extent=35.86203317&extent=-84.13733116&extent=36.356462140000005&extent=-83.63673724&limit=1000&units=standard\n",
      "No stations found even after expanding the extent. Skipping this gauge.\n",
      "Rainfall data processing is done for 35351830 starting from 2009-06-05\n",
      "https://www.ncdc.noaa.gov/cdo-web/api/v2/stations?datasetid=PRECIP_15&startdate=2004-06-10&enddate=2004-06-23&extent=35.97466049&extent=-84.2748036&extent=36.01601348&extent=-84.22800419&limit=1000&units=standard\n",
      "No stations found for 3538235 within the given extent: {'north': 36.01601348, 'south': 35.97466049, 'east': -84.22800419, 'west': -84.2748036}\n",
      "Attempting to expand the extent by 0.2 degrees...\n",
      "https://www.ncdc.noaa.gov/cdo-web/api/v2/stations?datasetid=PRECIP_15&startdate=2004-06-10&enddate=2004-06-23&extent=35.774660489999995&extent=-84.4748036&extent=36.21601348&extent=-84.02800418999999&limit=1000&units=standard\n",
      "No stations found even after expanding the extent. Skipping this gauge.\n",
      "Rainfall data processing is done for 3538235 starting from 2004-06-10\n",
      "https://www.ncdc.noaa.gov/cdo-web/api/v2/stations?datasetid=PRECIP_15&startdate=2019-06-13&enddate=2019-06-30&extent=35.83002675&extent=-85.10105441&extent=35.88963653&extent=-85.03928839&limit=1000&units=standard\n",
      "No stations found for 3538970 within the given extent: {'north': 35.88963653, 'south': 35.83002675, 'east': -85.03928839, 'west': -85.10105441}\n",
      "Attempting to expand the extent by 0.2 degrees...\n",
      "https://www.ncdc.noaa.gov/cdo-web/api/v2/stations?datasetid=PRECIP_15&startdate=2019-06-13&enddate=2019-06-30&extent=35.63002675&extent=-85.30105441&extent=36.08963653&extent=-84.83928839&limit=1000&units=standard\n",
      "No stations found even after expanding the extent. Skipping this gauge.\n",
      "Rainfall data processing is done for 3538970 starting from 2019-06-13\n",
      "https://www.ncdc.noaa.gov/cdo-web/api/v2/stations?datasetid=PRECIP_15&startdate=2006-05-26&enddate=2006-06-11&extent=35.43234109&extent=-84.61386089&extent=35.5391693&extent=-84.44254838&limit=1000&units=standard\n",
      "No stations found for 3565442 within the given extent: {'north': 35.5391693, 'south': 35.43234109, 'east': -84.44254838, 'west': -84.61386089}\n",
      "Attempting to expand the extent by 0.2 degrees...\n",
      "https://www.ncdc.noaa.gov/cdo-web/api/v2/stations?datasetid=PRECIP_15&startdate=2006-05-26&enddate=2006-06-11&extent=35.23234109&extent=-84.81386089&extent=35.7391693&extent=-84.24254838&limit=1000&units=standard\n",
      "No stations found even after expanding the extent. Skipping this gauge.\n",
      "Rainfall data processing is done for 3565442 starting from 2006-05-26\n",
      "https://www.ncdc.noaa.gov/cdo-web/api/v2/stations?datasetid=PRECIP_15&startdate=2004-07-07&enddate=2004-07-23&extent=35.36054983&extent=-86.15944768&extent=35.45212428&extent=-86.03567599&limit=1000&units=standard\n",
      "No stations found for 3596100 within the given extent: {'north': 35.45212428, 'south': 35.36054983, 'east': -86.03567599, 'west': -86.15944768}\n",
      "Attempting to expand the extent by 0.2 degrees...\n",
      "https://www.ncdc.noaa.gov/cdo-web/api/v2/stations?datasetid=PRECIP_15&startdate=2004-07-07&enddate=2004-07-23&extent=35.160549829999994&extent=-86.35944768&extent=35.65212428&extent=-85.83567599&limit=1000&units=standard\n",
      "https://www.ncdc.noaa.gov/cdo-web/api/v2/data?datasetid=PRECIP_15&startdate=2004-07-07&enddate=2004-07-23&stationid=COOP:406162&limit=1000&units=standard\n",
      "Rainfall data processing is done for 3596100 starting from 2004-07-07\n",
      "https://www.ncdc.noaa.gov/cdo-web/api/v2/stations?datasetid=PRECIP_15&startdate=2019-04-07&enddate=2019-04-23&extent=35.50636667&extent=-86.40167047&extent=35.66428&extent=-86.300294&limit=1000&units=standard\n",
      "No stations found for 3597590 within the given extent: {'north': 35.66428, 'south': 35.50636667, 'east': -86.300294, 'west': -86.40167047}\n",
      "Attempting to expand the extent by 0.2 degrees...\n",
      "https://www.ncdc.noaa.gov/cdo-web/api/v2/stations?datasetid=PRECIP_15&startdate=2019-04-07&enddate=2019-04-23&extent=35.306366669999996&extent=-86.60167047&extent=35.86428&extent=-86.10029399999999&limit=1000&units=standard\n",
      "No stations found even after expanding the extent. Skipping this gauge.\n",
      "Rainfall data processing is done for 3597590 starting from 2019-04-07\n",
      "https://www.ncdc.noaa.gov/cdo-web/api/v2/stations?datasetid=PRECIP_15&startdate=2008-05-01&enddate=2008-05-18&extent=35.71191767&extent=-87.05359782&extent=35.82247825&extent=-86.94925584&limit=1000&units=standard\n",
      "No stations found for 3600088 within the given extent: {'north': 35.82247825, 'south': 35.71191767, 'east': -86.94925584, 'west': -87.05359782}\n",
      "Attempting to expand the extent by 0.2 degrees...\n",
      "https://www.ncdc.noaa.gov/cdo-web/api/v2/stations?datasetid=PRECIP_15&startdate=2008-05-01&enddate=2008-05-18&extent=35.511917669999995&extent=-87.25359782&extent=36.022478250000006&extent=-86.74925584&limit=1000&units=standard\n",
      "No stations found even after expanding the extent. Skipping this gauge.\n",
      "Rainfall data processing is done for 3600088 starting from 2008-05-01\n",
      "https://www.ncdc.noaa.gov/cdo-web/api/v2/stations?datasetid=PRECIP_15&startdate=2020-06-23&enddate=2020-07-09&extent=35.9593737&extent=-88.17490636&extent=36.10035386&extent=-88.06467076&limit=1000&units=standard\n",
      "No stations found for 3605078 within the given extent: {'north': 36.10035386, 'south': 35.9593737, 'east': -88.06467076, 'west': -88.17490636}\n",
      "Attempting to expand the extent by 0.2 degrees...\n",
      "https://www.ncdc.noaa.gov/cdo-web/api/v2/stations?datasetid=PRECIP_15&startdate=2020-06-23&enddate=2020-07-09&extent=35.7593737&extent=-88.37490636&extent=36.30035386&extent=-87.86467076&limit=1000&units=standard\n",
      "No stations found even after expanding the extent. Skipping this gauge.\n",
      "Rainfall data processing is done for 3605078 starting from 2020-06-23\n",
      "https://www.ncdc.noaa.gov/cdo-web/api/v2/stations?datasetid=PRECIP_15&startdate=2019-04-12&enddate=2019-04-28&extent=36.02985571&extent=-88.4245398&extent=36.13893026&extent=-88.30413436&limit=1000&units=standard\n",
      "No stations found for 7024200 within the given extent: {'north': 36.13893026, 'south': 36.02985571, 'east': -88.30413436, 'west': -88.4245398}\n",
      "Attempting to expand the extent by 0.2 degrees...\n",
      "https://www.ncdc.noaa.gov/cdo-web/api/v2/stations?datasetid=PRECIP_15&startdate=2019-04-12&enddate=2019-04-28&extent=35.82985571&extent=-88.62453980000001&extent=36.338930260000005&extent=-88.10413436&limit=1000&units=standard\n",
      "No stations found even after expanding the extent. Skipping this gauge.\n",
      "Rainfall data processing is done for 7024200 starting from 2019-04-12\n",
      "https://www.ncdc.noaa.gov/cdo-web/api/v2/stations?datasetid=PRECIP_15&startdate=2009-07-09&enddate=2009-07-25&extent=35.09577534&extent=-89.69916857&extent=35.13027688&extent=-89.60547089&limit=1000&units=standard\n",
      "No stations found for 70306050 within the given extent: {'north': 35.13027688, 'south': 35.09577534, 'east': -89.60547089, 'west': -89.69916857}\n",
      "Attempting to expand the extent by 0.2 degrees...\n",
      "https://www.ncdc.noaa.gov/cdo-web/api/v2/stations?datasetid=PRECIP_15&startdate=2009-07-09&enddate=2009-07-25&extent=34.89577534&extent=-89.89916857&extent=35.33027688&extent=-89.40547089&limit=1000&units=standard\n",
      "https://www.ncdc.noaa.gov/cdo-web/api/v2/data?datasetid=PRECIP_15&startdate=2009-07-09&enddate=2009-07-25&stationid=COOP:405956&limit=1000&units=standard\n",
      "Rainfall data processing is done for 70306050 starting from 2009-07-09\n",
      "https://www.ncdc.noaa.gov/cdo-web/api/v2/stations?datasetid=PRECIP_15&startdate=2012-04-09&enddate=2012-04-25&extent=35.13780356&extent=-89.87493327&extent=35.23990334&extent=-89.74421197&limit=1000&units=standard\n",
      "No stations found for 7031692 within the given extent: {'north': 35.23990334, 'south': 35.13780356, 'east': -89.74421197, 'west': -89.87493327}\n",
      "Attempting to expand the extent by 0.2 degrees...\n",
      "https://www.ncdc.noaa.gov/cdo-web/api/v2/stations?datasetid=PRECIP_15&startdate=2012-04-09&enddate=2012-04-25&extent=34.93780356&extent=-90.07493327&extent=35.43990334&extent=-89.54421196999999&limit=1000&units=standard\n",
      "https://www.ncdc.noaa.gov/cdo-web/api/v2/data?datasetid=PRECIP_15&startdate=2012-04-09&enddate=2012-04-25&stationid=COOP:405956&limit=1000&units=standard\n",
      "Rainfall data processing is done for 7031692 starting from 2012-04-09\n",
      "https://www.ncdc.noaa.gov/cdo-web/api/v2/stations?datasetid=PRECIP_15&startdate=2017-08-25&enddate=2017-09-10&extent=36.47054977&extent=-85.87185917&extent=36.56569568&extent=-85.80165628&limit=1000&units=standard\n",
      "No stations found for 3312259 within the given extent: {'north': 36.56569568, 'south': 36.47054977, 'east': -85.80165628, 'west': -85.87185917}\n",
      "Attempting to expand the extent by 0.2 degrees...\n",
      "https://www.ncdc.noaa.gov/cdo-web/api/v2/stations?datasetid=PRECIP_15&startdate=2017-08-25&enddate=2017-09-10&extent=36.270549769999995&extent=-86.07185917&extent=36.76569568&extent=-85.60165628&limit=1000&units=standard\n",
      "No stations found even after expanding the extent. Skipping this gauge.\n",
      "Rainfall data processing is done for 3312259 starting from 2017-08-25\n",
      "https://www.ncdc.noaa.gov/cdo-web/api/v2/stations?datasetid=PRECIP_15&startdate=2009-06-05&enddate=2009-06-21&extent=36.31355449&extent=-86.79300794&extent=36.41892638&extent=-86.71621875&limit=1000&units=standard\n",
      "No stations found for 3426385 within the given extent: {'north': 36.41892638, 'south': 36.31355449, 'east': -86.71621875, 'west': -86.79300794}\n",
      "Attempting to expand the extent by 0.2 degrees...\n",
      "https://www.ncdc.noaa.gov/cdo-web/api/v2/stations?datasetid=PRECIP_15&startdate=2009-06-05&enddate=2009-06-21&extent=36.11355449&extent=-86.99300794&extent=36.618926380000005&extent=-86.51621875&limit=1000&units=standard\n",
      "https://www.ncdc.noaa.gov/cdo-web/api/v2/data?datasetid=PRECIP_15&startdate=2009-06-05&enddate=2009-06-21&stationid=COOP:406806&limit=1000&units=standard\n",
      "https://www.ncdc.noaa.gov/cdo-web/api/v2/data?datasetid=PRECIP_15&startdate=2009-06-05&enddate=2009-06-21&stationid=COOP:407359&limit=1000&units=standard\n",
      "Warnings for 3426385: \"['QPCP'] not in index\"\n",
      "https://www.ncdc.noaa.gov/cdo-web/api/v2/data?datasetid=PRECIP_15&startdate=2009-06-05&enddate=2009-06-21&stationid=COOP:408562&limit=1000&units=standard\n",
      "Warnings for 3426385: \"['QPCP'] not in index\"\n",
      "Rainfall data processing is done for 3426385 starting from 2009-06-05\n",
      "https://www.ncdc.noaa.gov/cdo-web/api/v2/stations?datasetid=PRECIP_15&startdate=2020-04-26&enddate=2020-05-13&extent=36.26672548&extent=-86.76382851&extent=36.31769794&extent=-86.68765616&limit=1000&units=standard\n",
      "No stations found for 3426470 within the given extent: {'north': 36.31769794, 'south': 36.26672548, 'east': -86.68765616, 'west': -86.76382851}\n",
      "Attempting to expand the extent by 0.2 degrees...\n",
      "https://www.ncdc.noaa.gov/cdo-web/api/v2/stations?datasetid=PRECIP_15&startdate=2020-04-26&enddate=2020-05-13&extent=36.066725479999995&extent=-86.96382851&extent=36.517697940000005&extent=-86.48765616&limit=1000&units=standard\n",
      "No stations found even after expanding the extent. Skipping this gauge.\n",
      "Rainfall data processing is done for 3426470 starting from 2020-04-26\n",
      "https://www.ncdc.noaa.gov/cdo-web/api/v2/stations?datasetid=PRECIP_15&startdate=2004-06-06&enddate=2004-06-23&extent=36.14948376&extent=-86.61437007&extent=36.23681666&extent=-86.4603212&limit=1000&units=standard\n",
      "No stations found for 3430147 within the given extent: {'north': 36.23681666, 'south': 36.14948376, 'east': -86.4603212, 'west': -86.61437007}\n",
      "Attempting to expand the extent by 0.2 degrees...\n",
      "https://www.ncdc.noaa.gov/cdo-web/api/v2/stations?datasetid=PRECIP_15&startdate=2004-06-06&enddate=2004-06-23&extent=35.94948376&extent=-86.81437007000001&extent=36.436816660000005&extent=-86.26032119999999&limit=1000&units=standard\n",
      "https://www.ncdc.noaa.gov/cdo-web/api/v2/data?datasetid=PRECIP_15&startdate=2004-06-06&enddate=2004-06-23&stationid=COOP:405108&limit=1000&units=standard\n",
      "Warnings for 3430147: \"None of [Index(['date', 'QPCP'], dtype='object')] are in the [columns]\"\n",
      "https://www.ncdc.noaa.gov/cdo-web/api/v2/data?datasetid=PRECIP_15&startdate=2004-06-06&enddate=2004-06-23&stationid=COOP:406806&limit=1000&units=standard\n",
      "Rainfall data processing is done for 3430147 starting from 2004-06-06\n",
      "https://www.ncdc.noaa.gov/cdo-web/api/v2/stations?datasetid=PRECIP_15&startdate=2019-03-30&enddate=2019-04-13&extent=36.06495557&extent=-86.81620105&extent=36.16118001&extent=-86.72033451&limit=1000&units=standard\n",
      "No stations found for 3431300 within the given extent: {'north': 36.16118001, 'south': 36.06495557, 'east': -86.72033451, 'west': -86.81620105}\n",
      "Attempting to expand the extent by 0.2 degrees...\n",
      "https://www.ncdc.noaa.gov/cdo-web/api/v2/stations?datasetid=PRECIP_15&startdate=2019-03-30&enddate=2019-04-13&extent=35.86495557&extent=-87.01620105&extent=36.361180010000005&extent=-86.52033451&limit=1000&units=standard\n",
      "No stations found even after expanding the extent. Skipping this gauge.\n",
      "Rainfall data processing is done for 3431300 starting from 2019-03-30\n",
      "https://www.ncdc.noaa.gov/cdo-web/api/v2/stations?datasetid=PRECIP_15&startdate=2019-04-01&enddate=2019-04-17&extent=36.06439975&extent=-86.91755364&extent=36.1539268&extent=-86.79783154&limit=1000&units=standard\n",
      "No stations found for 3431700 within the given extent: {'north': 36.1539268, 'south': 36.06439975, 'east': -86.79783154, 'west': -86.91755364}\n",
      "Attempting to expand the extent by 0.2 degrees...\n",
      "https://www.ncdc.noaa.gov/cdo-web/api/v2/stations?datasetid=PRECIP_15&startdate=2019-04-01&enddate=2019-04-17&extent=35.86439975&extent=-87.11755364&extent=36.3539268&extent=-86.59783154&limit=1000&units=standard\n",
      "No stations found even after expanding the extent. Skipping this gauge.\n",
      "Rainfall data processing is done for 3431700 starting from 2019-04-01\n",
      "https://www.ncdc.noaa.gov/cdo-web/api/v2/stations?datasetid=PRECIP_15&startdate=2005-04-23&enddate=2005-05-09&extent=35.92571722&extent=-86.86050701&extent=35.99175158&extent=-86.77946158&limit=1000&units=standard\n",
      "No stations found for 3432390 within the given extent: {'north': 35.99175158, 'south': 35.92571722, 'east': -86.77946158, 'west': -86.86050701}\n",
      "Attempting to expand the extent by 0.2 degrees...\n",
      "https://www.ncdc.noaa.gov/cdo-web/api/v2/stations?datasetid=PRECIP_15&startdate=2005-04-23&enddate=2005-05-09&extent=35.72571722&extent=-87.06050701000001&extent=36.19175158&extent=-86.57946158&limit=1000&units=standard\n",
      "No stations found even after expanding the extent. Skipping this gauge.\n",
      "Rainfall data processing is done for 3432390 starting from 2005-04-23\n",
      "https://www.ncdc.noaa.gov/cdo-web/api/v2/stations?datasetid=PRECIP_15&startdate=2002-05-03&enddate=2002-05-19&extent=36.40887148&extent=-87.08152355&extent=36.50095989&extent=-86.95576251&limit=1000&units=standard\n",
      "No stations found for 3435970 within the given extent: {'north': 36.50095989, 'south': 36.40887148, 'east': -86.95576251, 'west': -87.08152355}\n",
      "Attempting to expand the extent by 0.2 degrees...\n",
      "https://www.ncdc.noaa.gov/cdo-web/api/v2/stations?datasetid=PRECIP_15&startdate=2002-05-03&enddate=2002-05-19&extent=36.20887148&extent=-87.28152355&extent=36.70095989&extent=-86.75576251&limit=1000&units=standard\n",
      "https://www.ncdc.noaa.gov/cdo-web/api/v2/data?datasetid=PRECIP_15&startdate=2002-05-03&enddate=2002-05-19&stationid=COOP:401663&limit=1000&units=standard\n",
      "Warnings for 3435970: \"None of [Index(['date', 'QPCP'], dtype='object')] are in the [columns]\"\n",
      "https://www.ncdc.noaa.gov/cdo-web/api/v2/data?datasetid=PRECIP_15&startdate=2002-05-03&enddate=2002-05-19&stationid=COOP:408562&limit=1000&units=standard\n",
      "Warnings for 3435970: \"None of [Index(['date', 'QPCP'], dtype='object')] are in the [columns]\"\n",
      "No valid data collected for 3435970. Exiting process.\n",
      "Rainfall data processing is done for 3435970 starting from 2002-05-03\n",
      "https://www.ncdc.noaa.gov/cdo-web/api/v2/stations?datasetid=PRECIP_15&startdate=2020-03-25&enddate=2020-04-10&extent=35.58924747&extent=-83.58869221&extent=35.70895269&extent=-83.38886094&limit=1000&units=standard\n",
      "No stations found for 3469251 within the given extent: {'north': 35.70895269, 'south': 35.58924747, 'east': -83.38886094, 'west': -83.58869221}\n",
      "Attempting to expand the extent by 0.2 degrees...\n",
      "https://www.ncdc.noaa.gov/cdo-web/api/v2/stations?datasetid=PRECIP_15&startdate=2020-03-25&enddate=2020-04-10&extent=35.389247469999994&extent=-83.78869221000001&extent=35.90895269&extent=-83.18886094&limit=1000&units=standard\n",
      "No stations found even after expanding the extent. Skipping this gauge.\n",
      "Rainfall data processing is done for 3469251 starting from 2020-03-25\n",
      "https://www.ncdc.noaa.gov/cdo-web/api/v2/stations?datasetid=PRECIP_15&startdate=2020-05-14&enddate=2020-05-30&extent=36.37321371&extent=-83.05688717&extent=36.42555552&extent=-82.98309718&limit=1000&units=standard\n",
      "No stations found for 3491544 within the given extent: {'north': 36.42555552, 'south': 36.37321371, 'east': -82.98309718, 'west': -83.05688717}\n",
      "Attempting to expand the extent by 0.2 degrees...\n",
      "https://www.ncdc.noaa.gov/cdo-web/api/v2/stations?datasetid=PRECIP_15&startdate=2020-05-14&enddate=2020-05-30&extent=36.17321371&extent=-83.25688717&extent=36.625555520000006&extent=-82.78309718&limit=1000&units=standard\n",
      "No stations found even after expanding the extent. Skipping this gauge.\n",
      "Rainfall data processing is done for 3491544 starting from 2020-05-14\n",
      "https://www.ncdc.noaa.gov/cdo-web/api/v2/stations?datasetid=PRECIP_15&startdate=2020-04-19&enddate=2020-05-05&extent=36.07117705&extent=-83.85598071&extent=36.13632579&extent=-83.75988312&limit=1000&units=standard\n",
      "Warning: could not squash response: \n",
      " <Response [503]>, b'<!DOCTYPE HTML PUBLIC \"-//IETF//DTD HTML 2.0//EN\">\\n<html><head>\\n<title>503 Service Unavailable</title>\\n</head><body>\\n<h1>Service Unavailable</h1>\\n<p>The server is temporarily unable to service your\\nrequest due to maintenance downtime or capacity\\nproblems. Please try again later.</p>\\n<p>Additionally, a 503 Service Unavailable\\nerror was encountered while trying to use an ErrorDocument to handle the request.</p>\\n</body></html>\\n'\n",
      "No stations found for 3495405 within the given extent: {'north': 36.13632579, 'south': 36.07117705, 'east': -83.75988312, 'west': -83.85598071}\n",
      "Attempting to expand the extent by 0.2 degrees...\n",
      "https://www.ncdc.noaa.gov/cdo-web/api/v2/stations?datasetid=PRECIP_15&startdate=2020-04-19&enddate=2020-05-05&extent=35.87117705&extent=-84.05598071&extent=36.336325790000004&extent=-83.55988312&limit=1000&units=standard\n",
      "No stations found even after expanding the extent. Skipping this gauge.\n",
      "Rainfall data processing is done for 3495405 starting from 2020-04-19\n",
      "https://www.ncdc.noaa.gov/cdo-web/api/v2/stations?datasetid=PRECIP_15&startdate=2009-06-09&enddate=2009-06-25&extent=36.06203317&extent=-83.93733116&extent=36.15646214&extent=-83.83673724&limit=1000&units=standard\n",
      "No stations found for 35351830 within the given extent: {'north': 36.15646214, 'south': 36.06203317, 'east': -83.83673724, 'west': -83.93733116}\n",
      "Attempting to expand the extent by 0.2 degrees...\n",
      "https://www.ncdc.noaa.gov/cdo-web/api/v2/stations?datasetid=PRECIP_15&startdate=2009-06-09&enddate=2009-06-25&extent=35.86203317&extent=-84.13733116&extent=36.356462140000005&extent=-83.63673724&limit=1000&units=standard\n",
      "No stations found even after expanding the extent. Skipping this gauge.\n",
      "Rainfall data processing is done for 35351830 starting from 2009-06-09\n",
      "https://www.ncdc.noaa.gov/cdo-web/api/v2/stations?datasetid=PRECIP_15&startdate=2004-06-12&enddate=2004-06-25&extent=35.97466049&extent=-84.2748036&extent=36.01601348&extent=-84.22800419&limit=1000&units=standard\n",
      "No stations found for 3538235 within the given extent: {'north': 36.01601348, 'south': 35.97466049, 'east': -84.22800419, 'west': -84.2748036}\n",
      "Attempting to expand the extent by 0.2 degrees...\n",
      "https://www.ncdc.noaa.gov/cdo-web/api/v2/stations?datasetid=PRECIP_15&startdate=2004-06-12&enddate=2004-06-25&extent=35.774660489999995&extent=-84.4748036&extent=36.21601348&extent=-84.02800418999999&limit=1000&units=standard\n",
      "No stations found even after expanding the extent. Skipping this gauge.\n",
      "Rainfall data processing is done for 3538235 starting from 2004-06-12\n",
      "https://www.ncdc.noaa.gov/cdo-web/api/v2/stations?datasetid=PRECIP_15&startdate=2019-07-16&enddate=2019-08-01&extent=35.83002675&extent=-85.10105441&extent=35.88963653&extent=-85.03928839&limit=1000&units=standard\n",
      "No stations found for 3538970 within the given extent: {'north': 35.88963653, 'south': 35.83002675, 'east': -85.03928839, 'west': -85.10105441}\n",
      "Attempting to expand the extent by 0.2 degrees...\n",
      "https://www.ncdc.noaa.gov/cdo-web/api/v2/stations?datasetid=PRECIP_15&startdate=2019-07-16&enddate=2019-08-01&extent=35.63002675&extent=-85.30105441&extent=36.08963653&extent=-84.83928839&limit=1000&units=standard\n",
      "No stations found even after expanding the extent. Skipping this gauge.\n",
      "Rainfall data processing is done for 3538970 starting from 2019-07-16\n",
      "https://www.ncdc.noaa.gov/cdo-web/api/v2/stations?datasetid=PRECIP_15&startdate=2006-05-28&enddate=2006-06-13&extent=35.43234109&extent=-84.61386089&extent=35.5391693&extent=-84.44254838&limit=1000&units=standard\n",
      "No stations found for 3565442 within the given extent: {'north': 35.5391693, 'south': 35.43234109, 'east': -84.44254838, 'west': -84.61386089}\n",
      "Attempting to expand the extent by 0.2 degrees...\n",
      "https://www.ncdc.noaa.gov/cdo-web/api/v2/stations?datasetid=PRECIP_15&startdate=2006-05-28&enddate=2006-06-13&extent=35.23234109&extent=-84.81386089&extent=35.7391693&extent=-84.24254838&limit=1000&units=standard\n",
      "No stations found even after expanding the extent. Skipping this gauge.\n",
      "Rainfall data processing is done for 3565442 starting from 2006-05-28\n",
      "https://www.ncdc.noaa.gov/cdo-web/api/v2/stations?datasetid=PRECIP_15&startdate=2004-08-23&enddate=2004-09-08&extent=35.36054983&extent=-86.15944768&extent=35.45212428&extent=-86.03567599&limit=1000&units=standard\n",
      "No stations found for 3596100 within the given extent: {'north': 35.45212428, 'south': 35.36054983, 'east': -86.03567599, 'west': -86.15944768}\n",
      "Attempting to expand the extent by 0.2 degrees...\n",
      "https://www.ncdc.noaa.gov/cdo-web/api/v2/stations?datasetid=PRECIP_15&startdate=2004-08-23&enddate=2004-09-08&extent=35.160549829999994&extent=-86.35944768&extent=35.65212428&extent=-85.83567599&limit=1000&units=standard\n",
      "https://www.ncdc.noaa.gov/cdo-web/api/v2/data?datasetid=PRECIP_15&startdate=2004-08-23&enddate=2004-09-08&stationid=COOP:406162&limit=1000&units=standard\n",
      "Rainfall data processing is done for 3596100 starting from 2004-08-23\n",
      "https://www.ncdc.noaa.gov/cdo-web/api/v2/stations?datasetid=PRECIP_15&startdate=2019-04-12&enddate=2019-04-28&extent=35.50636667&extent=-86.40167047&extent=35.66428&extent=-86.300294&limit=1000&units=standard\n",
      "No stations found for 3597590 within the given extent: {'north': 35.66428, 'south': 35.50636667, 'east': -86.300294, 'west': -86.40167047}\n",
      "Attempting to expand the extent by 0.2 degrees...\n",
      "https://www.ncdc.noaa.gov/cdo-web/api/v2/stations?datasetid=PRECIP_15&startdate=2019-04-12&enddate=2019-04-28&extent=35.306366669999996&extent=-86.60167047&extent=35.86428&extent=-86.10029399999999&limit=1000&units=standard\n",
      "No stations found even after expanding the extent. Skipping this gauge.\n",
      "Rainfall data processing is done for 3597590 starting from 2019-04-12\n",
      "https://www.ncdc.noaa.gov/cdo-web/api/v2/stations?datasetid=PRECIP_15&startdate=2008-05-04&enddate=2008-05-20&extent=35.71191767&extent=-87.05359782&extent=35.82247825&extent=-86.94925584&limit=1000&units=standard\n",
      "No stations found for 3600088 within the given extent: {'north': 35.82247825, 'south': 35.71191767, 'east': -86.94925584, 'west': -87.05359782}\n",
      "Attempting to expand the extent by 0.2 degrees...\n",
      "https://www.ncdc.noaa.gov/cdo-web/api/v2/stations?datasetid=PRECIP_15&startdate=2008-05-04&enddate=2008-05-20&extent=35.511917669999995&extent=-87.25359782&extent=36.022478250000006&extent=-86.74925584&limit=1000&units=standard\n",
      "No stations found even after expanding the extent. Skipping this gauge.\n",
      "Rainfall data processing is done for 3600088 starting from 2008-05-04\n",
      "https://www.ncdc.noaa.gov/cdo-web/api/v2/stations?datasetid=PRECIP_15&startdate=2020-06-25&enddate=2020-07-11&extent=35.9593737&extent=-88.17490636&extent=36.10035386&extent=-88.06467076&limit=1000&units=standard\n",
      "No stations found for 3605078 within the given extent: {'north': 36.10035386, 'south': 35.9593737, 'east': -88.06467076, 'west': -88.17490636}\n",
      "Attempting to expand the extent by 0.2 degrees...\n",
      "https://www.ncdc.noaa.gov/cdo-web/api/v2/stations?datasetid=PRECIP_15&startdate=2020-06-25&enddate=2020-07-11&extent=35.7593737&extent=-88.37490636&extent=36.30035386&extent=-87.86467076&limit=1000&units=standard\n",
      "No stations found even after expanding the extent. Skipping this gauge.\n",
      "Rainfall data processing is done for 3605078 starting from 2020-06-25\n",
      "https://www.ncdc.noaa.gov/cdo-web/api/v2/stations?datasetid=PRECIP_15&startdate=2019-04-13&enddate=2019-04-29&extent=36.02985571&extent=-88.4245398&extent=36.13893026&extent=-88.30413436&limit=1000&units=standard\n",
      "No stations found for 7024200 within the given extent: {'north': 36.13893026, 'south': 36.02985571, 'east': -88.30413436, 'west': -88.4245398}\n",
      "Attempting to expand the extent by 0.2 degrees...\n",
      "https://www.ncdc.noaa.gov/cdo-web/api/v2/stations?datasetid=PRECIP_15&startdate=2019-04-13&enddate=2019-04-29&extent=35.82985571&extent=-88.62453980000001&extent=36.338930260000005&extent=-88.10413436&limit=1000&units=standard\n",
      "No stations found even after expanding the extent. Skipping this gauge.\n",
      "Rainfall data processing is done for 7024200 starting from 2019-04-13\n",
      "https://www.ncdc.noaa.gov/cdo-web/api/v2/stations?datasetid=PRECIP_15&startdate=2009-07-15&enddate=2009-07-31&extent=35.09577534&extent=-89.69916857&extent=35.13027688&extent=-89.60547089&limit=1000&units=standard\n",
      "No stations found for 70306050 within the given extent: {'north': 35.13027688, 'south': 35.09577534, 'east': -89.60547089, 'west': -89.69916857}\n",
      "Attempting to expand the extent by 0.2 degrees...\n",
      "https://www.ncdc.noaa.gov/cdo-web/api/v2/stations?datasetid=PRECIP_15&startdate=2009-07-15&enddate=2009-07-31&extent=34.89577534&extent=-89.89916857&extent=35.33027688&extent=-89.40547089&limit=1000&units=standard\n",
      "https://www.ncdc.noaa.gov/cdo-web/api/v2/data?datasetid=PRECIP_15&startdate=2009-07-15&enddate=2009-07-31&stationid=COOP:405956&limit=1000&units=standard\n",
      "Rainfall data processing is done for 70306050 starting from 2009-07-15\n",
      "https://www.ncdc.noaa.gov/cdo-web/api/v2/stations?datasetid=PRECIP_15&startdate=2012-04-14&enddate=2012-04-30&extent=35.13780356&extent=-89.87493327&extent=35.23990334&extent=-89.74421197&limit=1000&units=standard\n",
      "No stations found for 7031692 within the given extent: {'north': 35.23990334, 'south': 35.13780356, 'east': -89.74421197, 'west': -89.87493327}\n",
      "Attempting to expand the extent by 0.2 degrees...\n",
      "https://www.ncdc.noaa.gov/cdo-web/api/v2/stations?datasetid=PRECIP_15&startdate=2012-04-14&enddate=2012-04-30&extent=34.93780356&extent=-90.07493327&extent=35.43990334&extent=-89.54421196999999&limit=1000&units=standard\n",
      "https://www.ncdc.noaa.gov/cdo-web/api/v2/data?datasetid=PRECIP_15&startdate=2012-04-14&enddate=2012-04-30&stationid=COOP:405956&limit=1000&units=standard\n",
      "Rainfall data processing is done for 7031692 starting from 2012-04-14\n",
      "https://www.ncdc.noaa.gov/cdo-web/api/v2/stations?datasetid=PRECIP_15&startdate=2016-08-13&enddate=2016-08-30&extent=36.47054977&extent=-85.87185917&extent=36.56569568&extent=-85.80165628&limit=1000&units=standard\n",
      "No stations found for 3312259 within the given extent: {'north': 36.56569568, 'south': 36.47054977, 'east': -85.80165628, 'west': -85.87185917}\n",
      "Attempting to expand the extent by 0.2 degrees...\n",
      "https://www.ncdc.noaa.gov/cdo-web/api/v2/stations?datasetid=PRECIP_15&startdate=2016-08-13&enddate=2016-08-30&extent=36.270549769999995&extent=-86.07185917&extent=36.76569568&extent=-85.60165628&limit=1000&units=standard\n",
      "No stations found even after expanding the extent. Skipping this gauge.\n",
      "Rainfall data processing is done for 3312259 starting from 2016-08-13\n",
      "https://www.ncdc.noaa.gov/cdo-web/api/v2/stations?datasetid=PRECIP_15&startdate=2009-06-28&enddate=2009-07-15&extent=36.31355449&extent=-86.79300794&extent=36.41892638&extent=-86.71621875&limit=1000&units=standard\n",
      "No stations found for 3426385 within the given extent: {'north': 36.41892638, 'south': 36.31355449, 'east': -86.71621875, 'west': -86.79300794}\n",
      "Attempting to expand the extent by 0.2 degrees...\n",
      "https://www.ncdc.noaa.gov/cdo-web/api/v2/stations?datasetid=PRECIP_15&startdate=2009-06-28&enddate=2009-07-15&extent=36.11355449&extent=-86.99300794&extent=36.618926380000005&extent=-86.51621875&limit=1000&units=standard\n",
      "https://www.ncdc.noaa.gov/cdo-web/api/v2/data?datasetid=PRECIP_15&startdate=2009-06-28&enddate=2009-07-15&stationid=COOP:406806&limit=1000&units=standard\n",
      "https://www.ncdc.noaa.gov/cdo-web/api/v2/data?datasetid=PRECIP_15&startdate=2009-06-28&enddate=2009-07-15&stationid=COOP:407359&limit=1000&units=standard\n",
      "https://www.ncdc.noaa.gov/cdo-web/api/v2/data?datasetid=PRECIP_15&startdate=2009-06-28&enddate=2009-07-15&stationid=COOP:408562&limit=1000&units=standard\n",
      "Rainfall data processing is done for 3426385 starting from 2009-06-28\n",
      "https://www.ncdc.noaa.gov/cdo-web/api/v2/stations?datasetid=PRECIP_15&startdate=2020-05-20&enddate=2020-06-05&extent=36.26672548&extent=-86.76382851&extent=36.31769794&extent=-86.68765616&limit=1000&units=standard\n",
      "No stations found for 3426470 within the given extent: {'north': 36.31769794, 'south': 36.26672548, 'east': -86.68765616, 'west': -86.76382851}\n",
      "Attempting to expand the extent by 0.2 degrees...\n",
      "https://www.ncdc.noaa.gov/cdo-web/api/v2/stations?datasetid=PRECIP_15&startdate=2020-05-20&enddate=2020-06-05&extent=36.066725479999995&extent=-86.96382851&extent=36.517697940000005&extent=-86.48765616&limit=1000&units=standard\n",
      "No stations found even after expanding the extent. Skipping this gauge.\n",
      "Rainfall data processing is done for 3426470 starting from 2020-05-20\n",
      "https://www.ncdc.noaa.gov/cdo-web/api/v2/stations?datasetid=PRECIP_15&startdate=2004-06-30&enddate=2004-07-16&extent=36.14948376&extent=-86.61437007&extent=36.23681666&extent=-86.4603212&limit=1000&units=standard\n",
      "No stations found for 3430147 within the given extent: {'north': 36.23681666, 'south': 36.14948376, 'east': -86.4603212, 'west': -86.61437007}\n",
      "Attempting to expand the extent by 0.2 degrees...\n",
      "https://www.ncdc.noaa.gov/cdo-web/api/v2/stations?datasetid=PRECIP_15&startdate=2004-06-30&enddate=2004-07-16&extent=35.94948376&extent=-86.81437007000001&extent=36.436816660000005&extent=-86.26032119999999&limit=1000&units=standard\n",
      "https://www.ncdc.noaa.gov/cdo-web/api/v2/data?datasetid=PRECIP_15&startdate=2004-06-30&enddate=2004-07-16&stationid=COOP:405108&limit=1000&units=standard\n",
      "https://www.ncdc.noaa.gov/cdo-web/api/v2/data?datasetid=PRECIP_15&startdate=2004-06-30&enddate=2004-07-16&stationid=COOP:406806&limit=1000&units=standard\n",
      "Rainfall data processing is done for 3430147 starting from 2004-06-30\n",
      "https://www.ncdc.noaa.gov/cdo-web/api/v2/stations?datasetid=PRECIP_15&startdate=2019-04-01&enddate=2019-04-14&extent=36.06495557&extent=-86.81620105&extent=36.16118001&extent=-86.72033451&limit=1000&units=standard\n",
      "No stations found for 3431300 within the given extent: {'north': 36.16118001, 'south': 36.06495557, 'east': -86.72033451, 'west': -86.81620105}\n",
      "Attempting to expand the extent by 0.2 degrees...\n",
      "https://www.ncdc.noaa.gov/cdo-web/api/v2/stations?datasetid=PRECIP_15&startdate=2019-04-01&enddate=2019-04-14&extent=35.86495557&extent=-87.01620105&extent=36.361180010000005&extent=-86.52033451&limit=1000&units=standard\n",
      "No stations found even after expanding the extent. Skipping this gauge.\n",
      "Rainfall data processing is done for 3431300 starting from 2019-04-01\n",
      "https://www.ncdc.noaa.gov/cdo-web/api/v2/stations?datasetid=PRECIP_15&startdate=2019-04-07&enddate=2019-04-23&extent=36.06439975&extent=-86.91755364&extent=36.1539268&extent=-86.79783154&limit=1000&units=standard\n",
      "No stations found for 3431700 within the given extent: {'north': 36.1539268, 'south': 36.06439975, 'east': -86.79783154, 'west': -86.91755364}\n",
      "Attempting to expand the extent by 0.2 degrees...\n",
      "https://www.ncdc.noaa.gov/cdo-web/api/v2/stations?datasetid=PRECIP_15&startdate=2019-04-07&enddate=2019-04-23&extent=35.86439975&extent=-87.11755364&extent=36.3539268&extent=-86.59783154&limit=1000&units=standard\n",
      "No stations found even after expanding the extent. Skipping this gauge.\n",
      "Rainfall data processing is done for 3431700 starting from 2019-04-07\n",
      "https://www.ncdc.noaa.gov/cdo-web/api/v2/stations?datasetid=PRECIP_15&startdate=2005-05-07&enddate=2005-05-24&extent=35.92571722&extent=-86.86050701&extent=35.99175158&extent=-86.77946158&limit=1000&units=standard\n",
      "No stations found for 3432390 within the given extent: {'north': 35.99175158, 'south': 35.92571722, 'east': -86.77946158, 'west': -86.86050701}\n",
      "Attempting to expand the extent by 0.2 degrees...\n",
      "https://www.ncdc.noaa.gov/cdo-web/api/v2/stations?datasetid=PRECIP_15&startdate=2005-05-07&enddate=2005-05-24&extent=35.72571722&extent=-87.06050701000001&extent=36.19175158&extent=-86.57946158&limit=1000&units=standard\n",
      "No stations found even after expanding the extent. Skipping this gauge.\n",
      "Rainfall data processing is done for 3432390 starting from 2005-05-07\n",
      "https://www.ncdc.noaa.gov/cdo-web/api/v2/stations?datasetid=PRECIP_15&startdate=2002-05-06&enddate=2002-05-22&extent=36.40887148&extent=-87.08152355&extent=36.50095989&extent=-86.95576251&limit=1000&units=standard\n",
      "No stations found for 3435970 within the given extent: {'north': 36.50095989, 'south': 36.40887148, 'east': -86.95576251, 'west': -87.08152355}\n",
      "Attempting to expand the extent by 0.2 degrees...\n",
      "https://www.ncdc.noaa.gov/cdo-web/api/v2/stations?datasetid=PRECIP_15&startdate=2002-05-06&enddate=2002-05-22&extent=36.20887148&extent=-87.28152355&extent=36.70095989&extent=-86.75576251&limit=1000&units=standard\n",
      "https://www.ncdc.noaa.gov/cdo-web/api/v2/data?datasetid=PRECIP_15&startdate=2002-05-06&enddate=2002-05-22&stationid=COOP:401663&limit=1000&units=standard\n",
      "Warnings for 3435970: \"None of [Index(['date', 'QPCP'], dtype='object')] are in the [columns]\"\n",
      "https://www.ncdc.noaa.gov/cdo-web/api/v2/data?datasetid=PRECIP_15&startdate=2002-05-06&enddate=2002-05-22&stationid=COOP:408562&limit=1000&units=standard\n",
      "Warnings for 3435970: \"None of [Index(['date', 'QPCP'], dtype='object')] are in the [columns]\"\n",
      "No valid data collected for 3435970. Exiting process.\n",
      "Rainfall data processing is done for 3435970 starting from 2002-05-06\n",
      "https://www.ncdc.noaa.gov/cdo-web/api/v2/stations?datasetid=PRECIP_15&startdate=2020-04-06&enddate=2020-04-22&extent=35.58924747&extent=-83.58869221&extent=35.70895269&extent=-83.38886094&limit=1000&units=standard\n",
      "No stations found for 3469251 within the given extent: {'north': 35.70895269, 'south': 35.58924747, 'east': -83.38886094, 'west': -83.58869221}\n",
      "Attempting to expand the extent by 0.2 degrees...\n",
      "https://www.ncdc.noaa.gov/cdo-web/api/v2/stations?datasetid=PRECIP_15&startdate=2020-04-06&enddate=2020-04-22&extent=35.389247469999994&extent=-83.78869221000001&extent=35.90895269&extent=-83.18886094&limit=1000&units=standard\n",
      "No stations found even after expanding the extent. Skipping this gauge.\n",
      "Rainfall data processing is done for 3469251 starting from 2020-04-06\n",
      "https://www.ncdc.noaa.gov/cdo-web/api/v2/stations?datasetid=PRECIP_15&startdate=2020-05-22&enddate=2020-06-07&extent=36.37321371&extent=-83.05688717&extent=36.42555552&extent=-82.98309718&limit=1000&units=standard\n",
      "No stations found for 3491544 within the given extent: {'north': 36.42555552, 'south': 36.37321371, 'east': -82.98309718, 'west': -83.05688717}\n",
      "Attempting to expand the extent by 0.2 degrees...\n",
      "https://www.ncdc.noaa.gov/cdo-web/api/v2/stations?datasetid=PRECIP_15&startdate=2020-05-22&enddate=2020-06-07&extent=36.17321371&extent=-83.25688717&extent=36.625555520000006&extent=-82.78309718&limit=1000&units=standard\n",
      "No stations found even after expanding the extent. Skipping this gauge.\n",
      "Rainfall data processing is done for 3491544 starting from 2020-05-22\n",
      "https://www.ncdc.noaa.gov/cdo-web/api/v2/stations?datasetid=PRECIP_15&startdate=2020-05-12&enddate=2020-05-28&extent=36.07117705&extent=-83.85598071&extent=36.13632579&extent=-83.75988312&limit=1000&units=standard\n",
      "No stations found for 3495405 within the given extent: {'north': 36.13632579, 'south': 36.07117705, 'east': -83.75988312, 'west': -83.85598071}\n",
      "Attempting to expand the extent by 0.2 degrees...\n",
      "https://www.ncdc.noaa.gov/cdo-web/api/v2/stations?datasetid=PRECIP_15&startdate=2020-05-12&enddate=2020-05-28&extent=35.87117705&extent=-84.05598071&extent=36.336325790000004&extent=-83.55988312&limit=1000&units=standard\n",
      "No stations found even after expanding the extent. Skipping this gauge.\n",
      "Rainfall data processing is done for 3495405 starting from 2020-05-12\n",
      "https://www.ncdc.noaa.gov/cdo-web/api/v2/stations?datasetid=PRECIP_15&startdate=2009-06-10&enddate=2009-06-26&extent=36.06203317&extent=-83.93733116&extent=36.15646214&extent=-83.83673724&limit=1000&units=standard\n",
      "No stations found for 35351830 within the given extent: {'north': 36.15646214, 'south': 36.06203317, 'east': -83.83673724, 'west': -83.93733116}\n",
      "Attempting to expand the extent by 0.2 degrees...\n",
      "https://www.ncdc.noaa.gov/cdo-web/api/v2/stations?datasetid=PRECIP_15&startdate=2009-06-10&enddate=2009-06-26&extent=35.86203317&extent=-84.13733116&extent=36.356462140000005&extent=-83.63673724&limit=1000&units=standard\n",
      "No stations found even after expanding the extent. Skipping this gauge.\n",
      "Rainfall data processing is done for 35351830 starting from 2009-06-10\n",
      "https://www.ncdc.noaa.gov/cdo-web/api/v2/stations?datasetid=PRECIP_15&startdate=2004-06-16&enddate=2004-06-29&extent=35.97466049&extent=-84.2748036&extent=36.01601348&extent=-84.22800419&limit=1000&units=standard\n",
      "No stations found for 3538235 within the given extent: {'north': 36.01601348, 'south': 35.97466049, 'east': -84.22800419, 'west': -84.2748036}\n",
      "Attempting to expand the extent by 0.2 degrees...\n",
      "https://www.ncdc.noaa.gov/cdo-web/api/v2/stations?datasetid=PRECIP_15&startdate=2004-06-16&enddate=2004-06-29&extent=35.774660489999995&extent=-84.4748036&extent=36.21601348&extent=-84.02800418999999&limit=1000&units=standard\n",
      "No stations found even after expanding the extent. Skipping this gauge.\n",
      "Rainfall data processing is done for 3538235 starting from 2004-06-16\n",
      "https://www.ncdc.noaa.gov/cdo-web/api/v2/stations?datasetid=PRECIP_15&startdate=2019-07-26&enddate=2019-08-11&extent=35.83002675&extent=-85.10105441&extent=35.88963653&extent=-85.03928839&limit=1000&units=standard\n",
      "No stations found for 3538970 within the given extent: {'north': 35.88963653, 'south': 35.83002675, 'east': -85.03928839, 'west': -85.10105441}\n",
      "Attempting to expand the extent by 0.2 degrees...\n",
      "https://www.ncdc.noaa.gov/cdo-web/api/v2/stations?datasetid=PRECIP_15&startdate=2019-07-26&enddate=2019-08-11&extent=35.63002675&extent=-85.30105441&extent=36.08963653&extent=-84.83928839&limit=1000&units=standard\n",
      "No stations found even after expanding the extent. Skipping this gauge.\n",
      "Rainfall data processing is done for 3538970 starting from 2019-07-26\n",
      "https://www.ncdc.noaa.gov/cdo-web/api/v2/stations?datasetid=PRECIP_15&startdate=2006-06-23&enddate=2006-07-10&extent=35.43234109&extent=-84.61386089&extent=35.5391693&extent=-84.44254838&limit=1000&units=standard\n",
      "No stations found for 3565442 within the given extent: {'north': 35.5391693, 'south': 35.43234109, 'east': -84.44254838, 'west': -84.61386089}\n",
      "Attempting to expand the extent by 0.2 degrees...\n",
      "https://www.ncdc.noaa.gov/cdo-web/api/v2/stations?datasetid=PRECIP_15&startdate=2006-06-23&enddate=2006-07-10&extent=35.23234109&extent=-84.81386089&extent=35.7391693&extent=-84.24254838&limit=1000&units=standard\n",
      "No stations found even after expanding the extent. Skipping this gauge.\n",
      "Rainfall data processing is done for 3565442 starting from 2006-06-23\n",
      "https://www.ncdc.noaa.gov/cdo-web/api/v2/stations?datasetid=PRECIP_15&startdate=2019-04-13&enddate=2019-04-29&extent=35.50636667&extent=-86.40167047&extent=35.66428&extent=-86.300294&limit=1000&units=standard\n",
      "No stations found for 3597590 within the given extent: {'north': 35.66428, 'south': 35.50636667, 'east': -86.300294, 'west': -86.40167047}\n",
      "Attempting to expand the extent by 0.2 degrees...\n",
      "https://www.ncdc.noaa.gov/cdo-web/api/v2/stations?datasetid=PRECIP_15&startdate=2019-04-13&enddate=2019-04-29&extent=35.306366669999996&extent=-86.60167047&extent=35.86428&extent=-86.10029399999999&limit=1000&units=standard\n",
      "No stations found even after expanding the extent. Skipping this gauge.\n",
      "Rainfall data processing is done for 3597590 starting from 2019-04-13\n",
      "https://www.ncdc.noaa.gov/cdo-web/api/v2/stations?datasetid=PRECIP_15&startdate=2008-05-19&enddate=2008-06-05&extent=35.71191767&extent=-87.05359782&extent=35.82247825&extent=-86.94925584&limit=1000&units=standard\n",
      "No stations found for 3600088 within the given extent: {'north': 35.82247825, 'south': 35.71191767, 'east': -86.94925584, 'west': -87.05359782}\n",
      "Attempting to expand the extent by 0.2 degrees...\n",
      "https://www.ncdc.noaa.gov/cdo-web/api/v2/stations?datasetid=PRECIP_15&startdate=2008-05-19&enddate=2008-06-05&extent=35.511917669999995&extent=-87.25359782&extent=36.022478250000006&extent=-86.74925584&limit=1000&units=standard\n",
      "No stations found even after expanding the extent. Skipping this gauge.\n",
      "Rainfall data processing is done for 3600088 starting from 2008-05-19\n",
      "https://www.ncdc.noaa.gov/cdo-web/api/v2/stations?datasetid=PRECIP_15&startdate=2020-06-30&enddate=2020-07-16&extent=35.9593737&extent=-88.17490636&extent=36.10035386&extent=-88.06467076&limit=1000&units=standard\n",
      "No stations found for 3605078 within the given extent: {'north': 36.10035386, 'south': 35.9593737, 'east': -88.06467076, 'west': -88.17490636}\n",
      "Attempting to expand the extent by 0.2 degrees...\n",
      "https://www.ncdc.noaa.gov/cdo-web/api/v2/stations?datasetid=PRECIP_15&startdate=2020-06-30&enddate=2020-07-16&extent=35.7593737&extent=-88.37490636&extent=36.30035386&extent=-87.86467076&limit=1000&units=standard\n",
      "No stations found even after expanding the extent. Skipping this gauge.\n",
      "Rainfall data processing is done for 3605078 starting from 2020-06-30\n",
      "https://www.ncdc.noaa.gov/cdo-web/api/v2/stations?datasetid=PRECIP_15&startdate=2020-03-24&enddate=2020-04-09&extent=36.02985571&extent=-88.4245398&extent=36.13893026&extent=-88.30413436&limit=1000&units=standard\n",
      "No stations found for 7024200 within the given extent: {'north': 36.13893026, 'south': 36.02985571, 'east': -88.30413436, 'west': -88.4245398}\n",
      "Attempting to expand the extent by 0.2 degrees...\n",
      "https://www.ncdc.noaa.gov/cdo-web/api/v2/stations?datasetid=PRECIP_15&startdate=2020-03-24&enddate=2020-04-09&extent=35.82985571&extent=-88.62453980000001&extent=36.338930260000005&extent=-88.10413436&limit=1000&units=standard\n",
      "No stations found even after expanding the extent. Skipping this gauge.\n",
      "Rainfall data processing is done for 7024200 starting from 2020-03-24\n",
      "https://www.ncdc.noaa.gov/cdo-web/api/v2/stations?datasetid=PRECIP_15&startdate=2012-04-30&enddate=2012-05-16&extent=35.13780356&extent=-89.87493327&extent=35.23990334&extent=-89.74421197&limit=1000&units=standard\n",
      "No stations found for 7031692 within the given extent: {'north': 35.23990334, 'south': 35.13780356, 'east': -89.74421197, 'west': -89.87493327}\n",
      "Attempting to expand the extent by 0.2 degrees...\n",
      "https://www.ncdc.noaa.gov/cdo-web/api/v2/stations?datasetid=PRECIP_15&startdate=2012-04-30&enddate=2012-05-16&extent=34.93780356&extent=-90.07493327&extent=35.43990334&extent=-89.54421196999999&limit=1000&units=standard\n",
      "https://www.ncdc.noaa.gov/cdo-web/api/v2/data?datasetid=PRECIP_15&startdate=2012-04-30&enddate=2012-05-16&stationid=COOP:405956&limit=1000&units=standard\n",
      "Rainfall data processing is done for 7031692 starting from 2012-04-30\n",
      "https://www.ncdc.noaa.gov/cdo-web/api/v2/stations?datasetid=PRECIP_15&startdate=2002-04-22&enddate=2002-05-06&extent=35.9138341&extent=-86.86123297&extent=35.93584826&extent=-86.81715714&limit=1000&units=standard\n",
      "No stations found for 34323531 within the given extent: {'north': 35.93584826, 'south': 35.9138341, 'east': -86.81715714, 'west': -86.86123297}\n",
      "Attempting to expand the extent by 0.2 degrees...\n",
      "https://www.ncdc.noaa.gov/cdo-web/api/v2/stations?datasetid=PRECIP_15&startdate=2002-04-22&enddate=2002-05-06&extent=35.7138341&extent=-87.06123297&extent=36.13584826&extent=-86.61715714&limit=1000&units=standard\n",
      "No stations found even after expanding the extent. Skipping this gauge.\n",
      "Rainfall data processing is done for 34323531 starting from 2002-04-22\n",
      "https://www.ncdc.noaa.gov/cdo-web/api/v2/stations?datasetid=PRECIP_15&startdate=2011-04-08&enddate=2011-04-25&extent=35.80852748&extent=-87.01515977&extent=35.82814209&extent=-86.97920855&limit=1000&units=standard\n",
      "No stations found for 3432472 within the given extent: {'north': 35.82814209, 'south': 35.80852748, 'east': -86.97920855, 'west': -87.01515977}\n",
      "Attempting to expand the extent by 0.2 degrees...\n",
      "https://www.ncdc.noaa.gov/cdo-web/api/v2/stations?datasetid=PRECIP_15&startdate=2011-04-08&enddate=2011-04-25&extent=35.60852748&extent=-87.21515977&extent=36.02814209&extent=-86.77920854999999&limit=1000&units=standard\n",
      "No stations found even after expanding the extent. Skipping this gauge.\n",
      "Rainfall data processing is done for 3432472 starting from 2011-04-08\n",
      "https://www.ncdc.noaa.gov/cdo-web/api/v2/stations?datasetid=PRECIP_15&startdate=2009-04-29&enddate=2009-05-15&extent=35.79690068&extent=-87.03415221&extent=35.82602345&extent=-87.00605068&limit=1000&units=standard\n",
      "No stations found for 34325065 within the given extent: {'north': 35.82602345, 'south': 35.79690068, 'east': -87.00605068, 'west': -87.03415221}\n",
      "Attempting to expand the extent by 0.2 degrees...\n",
      "https://www.ncdc.noaa.gov/cdo-web/api/v2/stations?datasetid=PRECIP_15&startdate=2009-04-29&enddate=2009-05-15&extent=35.59690068&extent=-87.23415221&extent=36.026023450000004&extent=-86.80605068&limit=1000&units=standard\n",
      "No stations found even after expanding the extent. Skipping this gauge.\n",
      "Rainfall data processing is done for 34325065 starting from 2009-04-29\n",
      "https://www.ncdc.noaa.gov/cdo-web/api/v2/stations?datasetid=PRECIP_15&startdate=2010-04-24&enddate=2010-05-10&extent=35.88397462&extent=-87.13499686&extent=35.91192244&extent=-87.09880096&limit=1000&units=standard\n",
      "No stations found for 34336392 within the given extent: {'north': 35.91192244, 'south': 35.88397462, 'east': -87.09880096, 'west': -87.13499686}\n",
      "Attempting to expand the extent by 0.2 degrees...\n",
      "https://www.ncdc.noaa.gov/cdo-web/api/v2/stations?datasetid=PRECIP_15&startdate=2010-04-24&enddate=2010-05-10&extent=35.683974619999994&extent=-87.33499686&extent=36.11192244&extent=-86.89880096&limit=1000&units=standard\n",
      "No stations found even after expanding the extent. Skipping this gauge.\n",
      "Rainfall data processing is done for 34336392 starting from 2010-04-24\n",
      "https://www.ncdc.noaa.gov/cdo-web/api/v2/stations?datasetid=PRECIP_15&startdate=2004-04-15&enddate=2004-05-01&extent=35.88397462&extent=-87.13499686&extent=35.91192244&extent=-87.09880096&limit=1000&units=standard\n",
      "No stations found for 3433640 within the given extent: {'north': 35.91192244, 'south': 35.88397462, 'east': -87.09880096, 'west': -87.13499686}\n",
      "Attempting to expand the extent by 0.2 degrees...\n",
      "https://www.ncdc.noaa.gov/cdo-web/api/v2/stations?datasetid=PRECIP_15&startdate=2004-04-15&enddate=2004-05-01&extent=35.683974619999994&extent=-87.33499686&extent=36.11192244&extent=-86.89880096&limit=1000&units=standard\n",
      "No stations found even after expanding the extent. Skipping this gauge.\n",
      "Rainfall data processing is done for 3433640 starting from 2004-04-15\n",
      "https://www.ncdc.noaa.gov/cdo-web/api/v2/stations?datasetid=PRECIP_15&startdate=2000-03-28&enddate=2000-04-13&extent=36.40887148&extent=-87.08152355&extent=36.50095989&extent=-86.95576251&limit=1000&units=standard\n",
      "No stations found for 3435970 within the given extent: {'north': 36.50095989, 'south': 36.40887148, 'east': -86.95576251, 'west': -87.08152355}\n",
      "Attempting to expand the extent by 0.2 degrees...\n",
      "https://www.ncdc.noaa.gov/cdo-web/api/v2/stations?datasetid=PRECIP_15&startdate=2000-03-28&enddate=2000-04-13&extent=36.20887148&extent=-87.28152355&extent=36.70095989&extent=-86.75576251&limit=1000&units=standard\n",
      "https://www.ncdc.noaa.gov/cdo-web/api/v2/data?datasetid=PRECIP_15&startdate=2000-03-28&enddate=2000-04-13&stationid=COOP:401663&limit=1000&units=standard\n",
      "https://www.ncdc.noaa.gov/cdo-web/api/v2/data?datasetid=PRECIP_15&startdate=2000-03-28&enddate=2000-04-13&stationid=COOP:408562&limit=1000&units=standard\n",
      "Rainfall data processing is done for 3435970 starting from 2000-03-28\n",
      "https://www.ncdc.noaa.gov/cdo-web/api/v2/stations?datasetid=PRECIP_15&startdate=2003-08-09&enddate=2003-08-26&extent=36.23566899&extent=-82.37727876&extent=36.31697728&extent=-82.32536546&limit=1000&units=standard\n",
      "No stations found for 3486311 within the given extent: {'north': 36.31697728, 'south': 36.23566899, 'east': -82.32536546, 'west': -82.37727876}\n",
      "Attempting to expand the extent by 0.2 degrees...\n",
      "https://www.ncdc.noaa.gov/cdo-web/api/v2/stations?datasetid=PRECIP_15&startdate=2003-08-09&enddate=2003-08-26&extent=36.03566899&extent=-82.57727876&extent=36.516977280000006&extent=-82.12536546&limit=1000&units=standard\n",
      "https://www.ncdc.noaa.gov/cdo-web/api/v2/data?datasetid=PRECIP_15&startdate=2003-08-09&enddate=2003-08-26&stationid=COOP:402934&limit=1000&units=standard\n",
      "Rainfall data processing is done for 3486311 starting from 2003-08-09\n",
      "https://www.ncdc.noaa.gov/cdo-web/api/v2/stations?datasetid=PRECIP_15&startdate=2011-06-09&enddate=2011-06-25&extent=35.85339047&extent=-83.89852241&extent=35.91893952&extent=-83.8007075&limit=1000&units=standard\n",
      "No stations found for 34991109 within the given extent: {'north': 35.91893952, 'south': 35.85339047, 'east': -83.8007075, 'west': -83.89852241}\n",
      "Attempting to expand the extent by 0.2 degrees...\n",
      "https://www.ncdc.noaa.gov/cdo-web/api/v2/stations?datasetid=PRECIP_15&startdate=2011-06-09&enddate=2011-06-25&extent=35.65339047&extent=-84.09852241&extent=36.118939520000005&extent=-83.6007075&limit=1000&units=standard\n",
      "No stations found even after expanding the extent. Skipping this gauge.\n",
      "Rainfall data processing is done for 34991109 starting from 2011-06-09\n",
      "https://www.ncdc.noaa.gov/cdo-web/api/v2/stations?datasetid=PRECIP_15&startdate=2017-05-30&enddate=2017-06-15&extent=35.5602573&extent=-83.84338361&extent=35.62883319&extent=-83.72851131&limit=1000&units=standard\n",
      "No stations found for 3518100 within the given extent: {'north': 35.62883319, 'south': 35.5602573, 'east': -83.72851131, 'west': -83.84338361}\n",
      "Attempting to expand the extent by 0.2 degrees...\n",
      "https://www.ncdc.noaa.gov/cdo-web/api/v2/stations?datasetid=PRECIP_15&startdate=2017-05-30&enddate=2017-06-15&extent=35.3602573&extent=-84.04338361&extent=35.828833190000005&extent=-83.52851131&limit=1000&units=standard\n",
      "No stations found even after expanding the extent. Skipping this gauge.\n",
      "Rainfall data processing is done for 3518100 starting from 2017-05-30\n",
      "https://www.ncdc.noaa.gov/cdo-web/api/v2/stations?datasetid=PRECIP_15&startdate=2012-08-02&enddate=2012-08-18&extent=35.83002675&extent=-85.10105441&extent=35.88963653&extent=-85.03928839&limit=1000&units=standard\n",
      "No stations found for 3538970 within the given extent: {'north': 35.88963653, 'south': 35.83002675, 'east': -85.03928839, 'west': -85.10105441}\n",
      "Attempting to expand the extent by 0.2 degrees...\n",
      "https://www.ncdc.noaa.gov/cdo-web/api/v2/stations?datasetid=PRECIP_15&startdate=2012-08-02&enddate=2012-08-18&extent=35.63002675&extent=-85.30105441&extent=36.08963653&extent=-84.83928839&limit=1000&units=standard\n",
      "https://www.ncdc.noaa.gov/cdo-web/api/v2/data?datasetid=PRECIP_15&startdate=2012-08-02&enddate=2012-08-18&stationid=COOP:408540&limit=1000&units=standard\n",
      "Rainfall data processing is done for 3538970 starting from 2012-08-02\n",
      "https://www.ncdc.noaa.gov/cdo-web/api/v2/stations?datasetid=PRECIP_15&startdate=2003-04-19&enddate=2003-05-05&extent=35.43234109&extent=-84.61386089&extent=35.5391693&extent=-84.44254838&limit=1000&units=standard\n",
      "No stations found for 3565442 within the given extent: {'north': 35.5391693, 'south': 35.43234109, 'east': -84.44254838, 'west': -84.61386089}\n",
      "Attempting to expand the extent by 0.2 degrees...\n",
      "https://www.ncdc.noaa.gov/cdo-web/api/v2/stations?datasetid=PRECIP_15&startdate=2003-04-19&enddate=2003-05-05&extent=35.23234109&extent=-84.81386089&extent=35.7391693&extent=-84.24254838&limit=1000&units=standard\n",
      "No stations found even after expanding the extent. Skipping this gauge.\n",
      "Rainfall data processing is done for 3565442 starting from 2003-04-19\n",
      "https://www.ncdc.noaa.gov/cdo-web/api/v2/stations?datasetid=PRECIP_15&startdate=2002-04-21&enddate=2002-05-07&extent=35.9593737&extent=-88.17490636&extent=36.10035386&extent=-88.06467076&limit=1000&units=standard\n",
      "No stations found for 3605078 within the given extent: {'north': 36.10035386, 'south': 35.9593737, 'east': -88.06467076, 'west': -88.17490636}\n",
      "Attempting to expand the extent by 0.2 degrees...\n",
      "https://www.ncdc.noaa.gov/cdo-web/api/v2/stations?datasetid=PRECIP_15&startdate=2002-04-21&enddate=2002-05-07&extent=35.7593737&extent=-88.37490636&extent=36.30035386&extent=-87.86467076&limit=1000&units=standard\n",
      "No stations found even after expanding the extent. Skipping this gauge.\n",
      "Rainfall data processing is done for 3605078 starting from 2002-04-21\n",
      "https://www.ncdc.noaa.gov/cdo-web/api/v2/stations?datasetid=PRECIP_15&startdate=2013-08-04&enddate=2013-08-20&extent=36.47054977&extent=-85.87185917&extent=36.56569568&extent=-85.80165628&limit=1000&units=standard\n",
      "No stations found for 3312259 within the given extent: {'north': 36.56569568, 'south': 36.47054977, 'east': -85.80165628, 'west': -85.87185917}\n",
      "Attempting to expand the extent by 0.2 degrees...\n",
      "https://www.ncdc.noaa.gov/cdo-web/api/v2/stations?datasetid=PRECIP_15&startdate=2013-08-04&enddate=2013-08-20&extent=36.270549769999995&extent=-86.07185917&extent=36.76569568&extent=-85.60165628&limit=1000&units=standard\n",
      "No stations found even after expanding the extent. Skipping this gauge.\n",
      "Rainfall data processing is done for 3312259 starting from 2013-08-04\n",
      "https://www.ncdc.noaa.gov/cdo-web/api/v2/stations?datasetid=PRECIP_15&startdate=2008-08-19&enddate=2008-09-04&extent=36.31355449&extent=-86.79300794&extent=36.41892638&extent=-86.71621875&limit=1000&units=standard\n",
      "No stations found for 3426385 within the given extent: {'north': 36.41892638, 'south': 36.31355449, 'east': -86.71621875, 'west': -86.79300794}\n",
      "Attempting to expand the extent by 0.2 degrees...\n",
      "https://www.ncdc.noaa.gov/cdo-web/api/v2/stations?datasetid=PRECIP_15&startdate=2008-08-19&enddate=2008-09-04&extent=36.11355449&extent=-86.99300794&extent=36.618926380000005&extent=-86.51621875&limit=1000&units=standard\n",
      "https://www.ncdc.noaa.gov/cdo-web/api/v2/data?datasetid=PRECIP_15&startdate=2008-08-19&enddate=2008-09-04&stationid=COOP:406806&limit=1000&units=standard\n",
      "https://www.ncdc.noaa.gov/cdo-web/api/v2/data?datasetid=PRECIP_15&startdate=2008-08-19&enddate=2008-09-04&stationid=COOP:407359&limit=1000&units=standard\n",
      "https://www.ncdc.noaa.gov/cdo-web/api/v2/data?datasetid=PRECIP_15&startdate=2008-08-19&enddate=2008-09-04&stationid=COOP:408562&limit=1000&units=standard\n",
      "Rainfall data processing is done for 3426385 starting from 2008-08-19\n",
      "https://www.ncdc.noaa.gov/cdo-web/api/v2/stations?datasetid=PRECIP_15&startdate=2020-05-29&enddate=2020-06-14&extent=36.26672548&extent=-86.76382851&extent=36.31769794&extent=-86.68765616&limit=1000&units=standard\n",
      "No stations found for 3426470 within the given extent: {'north': 36.31769794, 'south': 36.26672548, 'east': -86.68765616, 'west': -86.76382851}\n",
      "Attempting to expand the extent by 0.2 degrees...\n",
      "https://www.ncdc.noaa.gov/cdo-web/api/v2/stations?datasetid=PRECIP_15&startdate=2020-05-29&enddate=2020-06-14&extent=36.066725479999995&extent=-86.96382851&extent=36.517697940000005&extent=-86.48765616&limit=1000&units=standard\n",
      "No stations found even after expanding the extent. Skipping this gauge.\n",
      "Rainfall data processing is done for 3426470 starting from 2020-05-29\n",
      "https://www.ncdc.noaa.gov/cdo-web/api/v2/stations?datasetid=PRECIP_15&startdate=2004-07-29&enddate=2004-08-14&extent=36.14948376&extent=-86.61437007&extent=36.23681666&extent=-86.4603212&limit=1000&units=standard\n",
      "No stations found for 3430147 within the given extent: {'north': 36.23681666, 'south': 36.14948376, 'east': -86.4603212, 'west': -86.61437007}\n",
      "Attempting to expand the extent by 0.2 degrees...\n",
      "https://www.ncdc.noaa.gov/cdo-web/api/v2/stations?datasetid=PRECIP_15&startdate=2004-07-29&enddate=2004-08-14&extent=35.94948376&extent=-86.81437007000001&extent=36.436816660000005&extent=-86.26032119999999&limit=1000&units=standard\n",
      "https://www.ncdc.noaa.gov/cdo-web/api/v2/data?datasetid=PRECIP_15&startdate=2004-07-29&enddate=2004-08-14&stationid=COOP:405108&limit=1000&units=standard\n",
      "https://www.ncdc.noaa.gov/cdo-web/api/v2/data?datasetid=PRECIP_15&startdate=2004-07-29&enddate=2004-08-14&stationid=COOP:406806&limit=1000&units=standard\n",
      "Rainfall data processing is done for 3430147 starting from 2004-07-29\n",
      "https://www.ncdc.noaa.gov/cdo-web/api/v2/stations?datasetid=PRECIP_15&startdate=2019-04-01&enddate=2019-04-15&extent=36.06495557&extent=-86.81620105&extent=36.16118001&extent=-86.72033451&limit=1000&units=standard\n",
      "No stations found for 3431300 within the given extent: {'north': 36.16118001, 'south': 36.06495557, 'east': -86.72033451, 'west': -86.81620105}\n",
      "Attempting to expand the extent by 0.2 degrees...\n",
      "https://www.ncdc.noaa.gov/cdo-web/api/v2/stations?datasetid=PRECIP_15&startdate=2019-04-01&enddate=2019-04-15&extent=35.86495557&extent=-87.01620105&extent=36.361180010000005&extent=-86.52033451&limit=1000&units=standard\n",
      "No stations found even after expanding the extent. Skipping this gauge.\n",
      "Rainfall data processing is done for 3431300 starting from 2019-04-01\n",
      "https://www.ncdc.noaa.gov/cdo-web/api/v2/stations?datasetid=PRECIP_15&startdate=2020-03-24&enddate=2020-04-09&extent=36.06439975&extent=-86.91755364&extent=36.1539268&extent=-86.79783154&limit=1000&units=standard\n",
      "No stations found for 3431700 within the given extent: {'north': 36.1539268, 'south': 36.06439975, 'east': -86.79783154, 'west': -86.91755364}\n",
      "Attempting to expand the extent by 0.2 degrees...\n",
      "https://www.ncdc.noaa.gov/cdo-web/api/v2/stations?datasetid=PRECIP_15&startdate=2020-03-24&enddate=2020-04-09&extent=35.86439975&extent=-87.11755364&extent=36.3539268&extent=-86.59783154&limit=1000&units=standard\n",
      "No stations found even after expanding the extent. Skipping this gauge.\n",
      "Rainfall data processing is done for 3431700 starting from 2020-03-24\n",
      "https://www.ncdc.noaa.gov/cdo-web/api/v2/stations?datasetid=PRECIP_15&startdate=2005-05-12&enddate=2005-05-29&extent=35.92571722&extent=-86.86050701&extent=35.99175158&extent=-86.77946158&limit=1000&units=standard\n",
      "No stations found for 3432390 within the given extent: {'north': 35.99175158, 'south': 35.92571722, 'east': -86.77946158, 'west': -86.86050701}\n",
      "Attempting to expand the extent by 0.2 degrees...\n",
      "https://www.ncdc.noaa.gov/cdo-web/api/v2/stations?datasetid=PRECIP_15&startdate=2005-05-12&enddate=2005-05-29&extent=35.72571722&extent=-87.06050701000001&extent=36.19175158&extent=-86.57946158&limit=1000&units=standard\n",
      "No stations found even after expanding the extent. Skipping this gauge.\n",
      "Rainfall data processing is done for 3432390 starting from 2005-05-12\n",
      "https://www.ncdc.noaa.gov/cdo-web/api/v2/stations?datasetid=PRECIP_15&startdate=2002-05-11&enddate=2002-05-27&extent=36.40887148&extent=-87.08152355&extent=36.50095989&extent=-86.95576251&limit=1000&units=standard\n",
      "No stations found for 3435970 within the given extent: {'north': 36.50095989, 'south': 36.40887148, 'east': -86.95576251, 'west': -87.08152355}\n",
      "Attempting to expand the extent by 0.2 degrees...\n",
      "https://www.ncdc.noaa.gov/cdo-web/api/v2/stations?datasetid=PRECIP_15&startdate=2002-05-11&enddate=2002-05-27&extent=36.20887148&extent=-87.28152355&extent=36.70095989&extent=-86.75576251&limit=1000&units=standard\n",
      "https://www.ncdc.noaa.gov/cdo-web/api/v2/data?datasetid=PRECIP_15&startdate=2002-05-11&enddate=2002-05-27&stationid=COOP:401663&limit=1000&units=standard\n",
      "Warnings for 3435970: \"None of [Index(['date', 'QPCP'], dtype='object')] are in the [columns]\"\n",
      "https://www.ncdc.noaa.gov/cdo-web/api/v2/data?datasetid=PRECIP_15&startdate=2002-05-11&enddate=2002-05-27&stationid=COOP:408562&limit=1000&units=standard\n",
      "Warnings for 3435970: \"None of [Index(['date', 'QPCP'], dtype='object')] are in the [columns]\"\n",
      "No valid data collected for 3435970. Exiting process.\n",
      "Rainfall data processing is done for 3435970 starting from 2002-05-11\n",
      "https://www.ncdc.noaa.gov/cdo-web/api/v2/stations?datasetid=PRECIP_15&startdate=2020-04-11&enddate=2020-04-27&extent=35.58924747&extent=-83.58869221&extent=35.70895269&extent=-83.38886094&limit=1000&units=standard\n",
      "No stations found for 3469251 within the given extent: {'north': 35.70895269, 'south': 35.58924747, 'east': -83.38886094, 'west': -83.58869221}\n",
      "Attempting to expand the extent by 0.2 degrees...\n",
      "https://www.ncdc.noaa.gov/cdo-web/api/v2/stations?datasetid=PRECIP_15&startdate=2020-04-11&enddate=2020-04-27&extent=35.389247469999994&extent=-83.78869221000001&extent=35.90895269&extent=-83.18886094&limit=1000&units=standard\n",
      "No stations found even after expanding the extent. Skipping this gauge.\n",
      "Rainfall data processing is done for 3469251 starting from 2020-04-11\n",
      "https://www.ncdc.noaa.gov/cdo-web/api/v2/stations?datasetid=PRECIP_15&startdate=2020-05-29&enddate=2020-06-14&extent=36.37321371&extent=-83.05688717&extent=36.42555552&extent=-82.98309718&limit=1000&units=standard\n",
      "No stations found for 3491544 within the given extent: {'north': 36.42555552, 'south': 36.37321371, 'east': -82.98309718, 'west': -83.05688717}\n",
      "Attempting to expand the extent by 0.2 degrees...\n",
      "https://www.ncdc.noaa.gov/cdo-web/api/v2/stations?datasetid=PRECIP_15&startdate=2020-05-29&enddate=2020-06-14&extent=36.17321371&extent=-83.25688717&extent=36.625555520000006&extent=-82.78309718&limit=1000&units=standard\n",
      "No stations found even after expanding the extent. Skipping this gauge.\n",
      "Rainfall data processing is done for 3491544 starting from 2020-05-29\n",
      "https://www.ncdc.noaa.gov/cdo-web/api/v2/stations?datasetid=PRECIP_15&startdate=2020-06-24&enddate=2020-07-11&extent=36.07117705&extent=-83.85598071&extent=36.13632579&extent=-83.75988312&limit=1000&units=standard\n",
      "No stations found for 3495405 within the given extent: {'north': 36.13632579, 'south': 36.07117705, 'east': -83.75988312, 'west': -83.85598071}\n",
      "Attempting to expand the extent by 0.2 degrees...\n",
      "https://www.ncdc.noaa.gov/cdo-web/api/v2/stations?datasetid=PRECIP_15&startdate=2020-06-24&enddate=2020-07-11&extent=35.87117705&extent=-84.05598071&extent=36.336325790000004&extent=-83.55988312&limit=1000&units=standard\n",
      "No stations found even after expanding the extent. Skipping this gauge.\n",
      "Rainfall data processing is done for 3495405 starting from 2020-06-24\n",
      "https://www.ncdc.noaa.gov/cdo-web/api/v2/stations?datasetid=PRECIP_15&startdate=2009-06-11&enddate=2009-06-27&extent=36.06203317&extent=-83.93733116&extent=36.15646214&extent=-83.83673724&limit=1000&units=standard\n",
      "No stations found for 35351830 within the given extent: {'north': 36.15646214, 'south': 36.06203317, 'east': -83.83673724, 'west': -83.93733116}\n",
      "Attempting to expand the extent by 0.2 degrees...\n",
      "https://www.ncdc.noaa.gov/cdo-web/api/v2/stations?datasetid=PRECIP_15&startdate=2009-06-11&enddate=2009-06-27&extent=35.86203317&extent=-84.13733116&extent=36.356462140000005&extent=-83.63673724&limit=1000&units=standard\n",
      "No stations found even after expanding the extent. Skipping this gauge.\n",
      "Rainfall data processing is done for 35351830 starting from 2009-06-11\n",
      "https://www.ncdc.noaa.gov/cdo-web/api/v2/stations?datasetid=PRECIP_15&startdate=2004-06-20&enddate=2004-07-03&extent=35.97466049&extent=-84.2748036&extent=36.01601348&extent=-84.22800419&limit=1000&units=standard\n",
      "No stations found for 3538235 within the given extent: {'north': 36.01601348, 'south': 35.97466049, 'east': -84.22800419, 'west': -84.2748036}\n",
      "Attempting to expand the extent by 0.2 degrees...\n",
      "https://www.ncdc.noaa.gov/cdo-web/api/v2/stations?datasetid=PRECIP_15&startdate=2004-06-20&enddate=2004-07-03&extent=35.774660489999995&extent=-84.4748036&extent=36.21601348&extent=-84.02800418999999&limit=1000&units=standard\n",
      "No stations found even after expanding the extent. Skipping this gauge.\n",
      "Rainfall data processing is done for 3538235 starting from 2004-06-20\n",
      "https://www.ncdc.noaa.gov/cdo-web/api/v2/stations?datasetid=PRECIP_15&startdate=2006-06-29&enddate=2006-07-15&extent=35.43234109&extent=-84.61386089&extent=35.5391693&extent=-84.44254838&limit=1000&units=standard\n",
      "No stations found for 3565442 within the given extent: {'north': 35.5391693, 'south': 35.43234109, 'east': -84.44254838, 'west': -84.61386089}\n",
      "Attempting to expand the extent by 0.2 degrees...\n",
      "https://www.ncdc.noaa.gov/cdo-web/api/v2/stations?datasetid=PRECIP_15&startdate=2006-06-29&enddate=2006-07-15&extent=35.23234109&extent=-84.81386089&extent=35.7391693&extent=-84.24254838&limit=1000&units=standard\n",
      "No stations found even after expanding the extent. Skipping this gauge.\n",
      "Rainfall data processing is done for 3565442 starting from 2006-06-29\n",
      "https://www.ncdc.noaa.gov/cdo-web/api/v2/stations?datasetid=PRECIP_15&startdate=2019-04-28&enddate=2019-05-14&extent=35.50636667&extent=-86.40167047&extent=35.66428&extent=-86.300294&limit=1000&units=standard\n",
      "No stations found for 3597590 within the given extent: {'north': 35.66428, 'south': 35.50636667, 'east': -86.300294, 'west': -86.40167047}\n",
      "Attempting to expand the extent by 0.2 degrees...\n",
      "https://www.ncdc.noaa.gov/cdo-web/api/v2/stations?datasetid=PRECIP_15&startdate=2019-04-28&enddate=2019-05-14&extent=35.306366669999996&extent=-86.60167047&extent=35.86428&extent=-86.10029399999999&limit=1000&units=standard\n",
      "No stations found even after expanding the extent. Skipping this gauge.\n",
      "Rainfall data processing is done for 3597590 starting from 2019-04-28\n",
      "https://www.ncdc.noaa.gov/cdo-web/api/v2/stations?datasetid=PRECIP_15&startdate=2008-06-06&enddate=2008-06-22&extent=35.71191767&extent=-87.05359782&extent=35.82247825&extent=-86.94925584&limit=1000&units=standard\n",
      "No stations found for 3600088 within the given extent: {'north': 35.82247825, 'south': 35.71191767, 'east': -86.94925584, 'west': -87.05359782}\n",
      "Attempting to expand the extent by 0.2 degrees...\n",
      "https://www.ncdc.noaa.gov/cdo-web/api/v2/stations?datasetid=PRECIP_15&startdate=2008-06-06&enddate=2008-06-22&extent=35.511917669999995&extent=-87.25359782&extent=36.022478250000006&extent=-86.74925584&limit=1000&units=standard\n",
      "No stations found even after expanding the extent. Skipping this gauge.\n",
      "Rainfall data processing is done for 3600088 starting from 2008-06-06\n",
      "https://www.ncdc.noaa.gov/cdo-web/api/v2/stations?datasetid=PRECIP_15&startdate=2020-08-08&enddate=2020-08-24&extent=35.9593737&extent=-88.17490636&extent=36.10035386&extent=-88.06467076&limit=1000&units=standard\n",
      "No stations found for 3605078 within the given extent: {'north': 36.10035386, 'south': 35.9593737, 'east': -88.06467076, 'west': -88.17490636}\n",
      "Attempting to expand the extent by 0.2 degrees...\n",
      "https://www.ncdc.noaa.gov/cdo-web/api/v2/stations?datasetid=PRECIP_15&startdate=2020-08-08&enddate=2020-08-24&extent=35.7593737&extent=-88.37490636&extent=36.30035386&extent=-87.86467076&limit=1000&units=standard\n",
      "No stations found even after expanding the extent. Skipping this gauge.\n",
      "Rainfall data processing is done for 3605078 starting from 2020-08-08\n",
      "https://www.ncdc.noaa.gov/cdo-web/api/v2/stations?datasetid=PRECIP_15&startdate=2020-04-06&enddate=2020-04-22&extent=36.02985571&extent=-88.4245398&extent=36.13893026&extent=-88.30413436&limit=1000&units=standard\n",
      "No stations found for 7024200 within the given extent: {'north': 36.13893026, 'south': 36.02985571, 'east': -88.30413436, 'west': -88.4245398}\n",
      "Attempting to expand the extent by 0.2 degrees...\n",
      "https://www.ncdc.noaa.gov/cdo-web/api/v2/stations?datasetid=PRECIP_15&startdate=2020-04-06&enddate=2020-04-22&extent=35.82985571&extent=-88.62453980000001&extent=36.338930260000005&extent=-88.10413436&limit=1000&units=standard\n",
      "No stations found even after expanding the extent. Skipping this gauge.\n",
      "Rainfall data processing is done for 7024200 starting from 2020-04-06\n",
      "https://www.ncdc.noaa.gov/cdo-web/api/v2/stations?datasetid=PRECIP_15&startdate=2012-05-24&enddate=2012-06-10&extent=35.13780356&extent=-89.87493327&extent=35.23990334&extent=-89.74421197&limit=1000&units=standard\n",
      "No stations found for 7031692 within the given extent: {'north': 35.23990334, 'south': 35.13780356, 'east': -89.74421197, 'west': -89.87493327}\n",
      "Attempting to expand the extent by 0.2 degrees...\n",
      "https://www.ncdc.noaa.gov/cdo-web/api/v2/stations?datasetid=PRECIP_15&startdate=2012-05-24&enddate=2012-06-10&extent=34.93780356&extent=-90.07493327&extent=35.43990334&extent=-89.54421196999999&limit=1000&units=standard\n",
      "https://www.ncdc.noaa.gov/cdo-web/api/v2/data?datasetid=PRECIP_15&startdate=2012-05-24&enddate=2012-06-10&stationid=COOP:405956&limit=1000&units=standard\n",
      "Rainfall data processing is done for 7031692 starting from 2012-05-24\n",
      "https://www.ncdc.noaa.gov/cdo-web/api/v2/stations?datasetid=PRECIP_15&startdate=2011-06-21&enddate=2011-07-07&extent=36.47054977&extent=-85.87185917&extent=36.56569568&extent=-85.80165628&limit=1000&units=standard\n",
      "No stations found for 3312259 within the given extent: {'north': 36.56569568, 'south': 36.47054977, 'east': -85.80165628, 'west': -85.87185917}\n",
      "Attempting to expand the extent by 0.2 degrees...\n",
      "https://www.ncdc.noaa.gov/cdo-web/api/v2/stations?datasetid=PRECIP_15&startdate=2011-06-21&enddate=2011-07-07&extent=36.270549769999995&extent=-86.07185917&extent=36.76569568&extent=-85.60165628&limit=1000&units=standard\n",
      "No stations found even after expanding the extent. Skipping this gauge.\n",
      "Rainfall data processing is done for 3312259 starting from 2011-06-21\n",
      "https://www.ncdc.noaa.gov/cdo-web/api/v2/stations?datasetid=PRECIP_15&startdate=2003-08-06&enddate=2003-08-22&extent=36.31355449&extent=-86.79300794&extent=36.41892638&extent=-86.71621875&limit=1000&units=standard\n",
      "No stations found for 3426385 within the given extent: {'north': 36.41892638, 'south': 36.31355449, 'east': -86.71621875, 'west': -86.79300794}\n",
      "Attempting to expand the extent by 0.2 degrees...\n",
      "https://www.ncdc.noaa.gov/cdo-web/api/v2/stations?datasetid=PRECIP_15&startdate=2003-08-06&enddate=2003-08-22&extent=36.11355449&extent=-86.99300794&extent=36.618926380000005&extent=-86.51621875&limit=1000&units=standard\n",
      "https://www.ncdc.noaa.gov/cdo-web/api/v2/data?datasetid=PRECIP_15&startdate=2003-08-06&enddate=2003-08-22&stationid=COOP:406806&limit=1000&units=standard\n",
      "https://www.ncdc.noaa.gov/cdo-web/api/v2/data?datasetid=PRECIP_15&startdate=2003-08-06&enddate=2003-08-22&stationid=COOP:407359&limit=1000&units=standard\n",
      "https://www.ncdc.noaa.gov/cdo-web/api/v2/data?datasetid=PRECIP_15&startdate=2003-08-06&enddate=2003-08-22&stationid=COOP:408562&limit=1000&units=standard\n",
      "Rainfall data processing is done for 3426385 starting from 2003-08-06\n",
      "https://www.ncdc.noaa.gov/cdo-web/api/v2/stations?datasetid=PRECIP_15&startdate=2020-06-23&enddate=2020-07-09&extent=36.26672548&extent=-86.76382851&extent=36.31769794&extent=-86.68765616&limit=1000&units=standard\n",
      "No stations found for 3426470 within the given extent: {'north': 36.31769794, 'south': 36.26672548, 'east': -86.68765616, 'west': -86.76382851}\n",
      "Attempting to expand the extent by 0.2 degrees...\n",
      "https://www.ncdc.noaa.gov/cdo-web/api/v2/stations?datasetid=PRECIP_15&startdate=2020-06-23&enddate=2020-07-09&extent=36.066725479999995&extent=-86.96382851&extent=36.517697940000005&extent=-86.48765616&limit=1000&units=standard\n",
      "No stations found even after expanding the extent. Skipping this gauge.\n",
      "Rainfall data processing is done for 3426470 starting from 2020-06-23\n",
      "https://www.ncdc.noaa.gov/cdo-web/api/v2/stations?datasetid=PRECIP_15&startdate=2003-06-11&enddate=2003-06-28&extent=36.14948376&extent=-86.61437007&extent=36.23681666&extent=-86.4603212&limit=1000&units=standard\n",
      "No stations found for 3430147 within the given extent: {'north': 36.23681666, 'south': 36.14948376, 'east': -86.4603212, 'west': -86.61437007}\n",
      "Attempting to expand the extent by 0.2 degrees...\n",
      "https://www.ncdc.noaa.gov/cdo-web/api/v2/stations?datasetid=PRECIP_15&startdate=2003-06-11&enddate=2003-06-28&extent=35.94948376&extent=-86.81437007000001&extent=36.436816660000005&extent=-86.26032119999999&limit=1000&units=standard\n",
      "https://www.ncdc.noaa.gov/cdo-web/api/v2/data?datasetid=PRECIP_15&startdate=2003-06-11&enddate=2003-06-28&stationid=COOP:405108&limit=1000&units=standard\n",
      "https://www.ncdc.noaa.gov/cdo-web/api/v2/data?datasetid=PRECIP_15&startdate=2003-06-11&enddate=2003-06-28&stationid=COOP:406806&limit=1000&units=standard\n",
      "Warnings for 3430147: \"None of [Index(['date', 'QPCP'], dtype='object')] are in the [columns]\"\n",
      "Rainfall data processing is done for 3430147 starting from 2003-06-11\n",
      "https://www.ncdc.noaa.gov/cdo-web/api/v2/stations?datasetid=PRECIP_15&startdate=2019-04-02&enddate=2019-04-15&extent=36.06495557&extent=-86.81620105&extent=36.16118001&extent=-86.72033451&limit=1000&units=standard\n",
      "No stations found for 3431300 within the given extent: {'north': 36.16118001, 'south': 36.06495557, 'east': -86.72033451, 'west': -86.81620105}\n",
      "Attempting to expand the extent by 0.2 degrees...\n",
      "https://www.ncdc.noaa.gov/cdo-web/api/v2/stations?datasetid=PRECIP_15&startdate=2019-04-02&enddate=2019-04-15&extent=35.86495557&extent=-87.01620105&extent=36.361180010000005&extent=-86.52033451&limit=1000&units=standard\n",
      "No stations found even after expanding the extent. Skipping this gauge.\n",
      "Rainfall data processing is done for 3431300 starting from 2019-04-02\n",
      "https://www.ncdc.noaa.gov/cdo-web/api/v2/stations?datasetid=PRECIP_15&startdate=2020-04-02&enddate=2020-04-18&extent=36.06439975&extent=-86.91755364&extent=36.1539268&extent=-86.79783154&limit=1000&units=standard\n",
      "No stations found for 3431700 within the given extent: {'north': 36.1539268, 'south': 36.06439975, 'east': -86.79783154, 'west': -86.91755364}\n",
      "Attempting to expand the extent by 0.2 degrees...\n",
      "https://www.ncdc.noaa.gov/cdo-web/api/v2/stations?datasetid=PRECIP_15&startdate=2020-04-02&enddate=2020-04-18&extent=35.86439975&extent=-87.11755364&extent=36.3539268&extent=-86.59783154&limit=1000&units=standard\n",
      "No stations found even after expanding the extent. Skipping this gauge.\n",
      "Rainfall data processing is done for 3431700 starting from 2020-04-02\n",
      "https://www.ncdc.noaa.gov/cdo-web/api/v2/stations?datasetid=PRECIP_15&startdate=2005-05-26&enddate=2005-06-11&extent=35.92571722&extent=-86.86050701&extent=35.99175158&extent=-86.77946158&limit=1000&units=standard\n",
      "No stations found for 3432390 within the given extent: {'north': 35.99175158, 'south': 35.92571722, 'east': -86.77946158, 'west': -86.86050701}\n",
      "Attempting to expand the extent by 0.2 degrees...\n",
      "https://www.ncdc.noaa.gov/cdo-web/api/v2/stations?datasetid=PRECIP_15&startdate=2005-05-26&enddate=2005-06-11&extent=35.72571722&extent=-87.06050701000001&extent=36.19175158&extent=-86.57946158&limit=1000&units=standard\n",
      "No stations found even after expanding the extent. Skipping this gauge.\n",
      "Rainfall data processing is done for 3432390 starting from 2005-05-26\n",
      "https://www.ncdc.noaa.gov/cdo-web/api/v2/stations?datasetid=PRECIP_15&startdate=2002-05-30&enddate=2002-06-15&extent=36.40887148&extent=-87.08152355&extent=36.50095989&extent=-86.95576251&limit=1000&units=standard\n",
      "No stations found for 3435970 within the given extent: {'north': 36.50095989, 'south': 36.40887148, 'east': -86.95576251, 'west': -87.08152355}\n",
      "Attempting to expand the extent by 0.2 degrees...\n",
      "https://www.ncdc.noaa.gov/cdo-web/api/v2/stations?datasetid=PRECIP_15&startdate=2002-05-30&enddate=2002-06-15&extent=36.20887148&extent=-87.28152355&extent=36.70095989&extent=-86.75576251&limit=1000&units=standard\n",
      "https://www.ncdc.noaa.gov/cdo-web/api/v2/data?datasetid=PRECIP_15&startdate=2002-05-30&enddate=2002-06-15&stationid=COOP:401663&limit=1000&units=standard\n",
      "Warnings for 3435970: \"None of [Index(['date', 'QPCP'], dtype='object')] are in the [columns]\"\n",
      "https://www.ncdc.noaa.gov/cdo-web/api/v2/data?datasetid=PRECIP_15&startdate=2002-05-30&enddate=2002-06-15&stationid=COOP:408562&limit=1000&units=standard\n",
      "No valid mean rainfall data for 3435970. Exiting process.\n",
      "Rainfall data processing is done for 3435970 starting from 2002-05-30\n",
      "https://www.ncdc.noaa.gov/cdo-web/api/v2/stations?datasetid=PRECIP_15&startdate=2020-04-13&enddate=2020-04-29&extent=35.58924747&extent=-83.58869221&extent=35.70895269&extent=-83.38886094&limit=1000&units=standard\n",
      "No stations found for 3469251 within the given extent: {'north': 35.70895269, 'south': 35.58924747, 'east': -83.38886094, 'west': -83.58869221}\n",
      "Attempting to expand the extent by 0.2 degrees...\n",
      "https://www.ncdc.noaa.gov/cdo-web/api/v2/stations?datasetid=PRECIP_15&startdate=2020-04-13&enddate=2020-04-29&extent=35.389247469999994&extent=-83.78869221000001&extent=35.90895269&extent=-83.18886094&limit=1000&units=standard\n",
      "No stations found even after expanding the extent. Skipping this gauge.\n",
      "Rainfall data processing is done for 3469251 starting from 2020-04-13\n",
      "https://www.ncdc.noaa.gov/cdo-web/api/v2/stations?datasetid=PRECIP_15&startdate=2020-07-18&enddate=2020-08-04&extent=36.37321371&extent=-83.05688717&extent=36.42555552&extent=-82.98309718&limit=1000&units=standard\n",
      "No stations found for 3491544 within the given extent: {'north': 36.42555552, 'south': 36.37321371, 'east': -82.98309718, 'west': -83.05688717}\n",
      "Attempting to expand the extent by 0.2 degrees...\n",
      "https://www.ncdc.noaa.gov/cdo-web/api/v2/stations?datasetid=PRECIP_15&startdate=2020-07-18&enddate=2020-08-04&extent=36.17321371&extent=-83.25688717&extent=36.625555520000006&extent=-82.78309718&limit=1000&units=standard\n",
      "No stations found even after expanding the extent. Skipping this gauge.\n",
      "Rainfall data processing is done for 3491544 starting from 2020-07-18\n",
      "https://www.ncdc.noaa.gov/cdo-web/api/v2/stations?datasetid=PRECIP_15&startdate=2020-07-24&enddate=2020-08-10&extent=36.07117705&extent=-83.85598071&extent=36.13632579&extent=-83.75988312&limit=1000&units=standard\n",
      "No stations found for 3495405 within the given extent: {'north': 36.13632579, 'south': 36.07117705, 'east': -83.75988312, 'west': -83.85598071}\n",
      "Attempting to expand the extent by 0.2 degrees...\n",
      "https://www.ncdc.noaa.gov/cdo-web/api/v2/stations?datasetid=PRECIP_15&startdate=2020-07-24&enddate=2020-08-10&extent=35.87117705&extent=-84.05598071&extent=36.336325790000004&extent=-83.55988312&limit=1000&units=standard\n",
      "No stations found even after expanding the extent. Skipping this gauge.\n",
      "Rainfall data processing is done for 3495405 starting from 2020-07-24\n",
      "https://www.ncdc.noaa.gov/cdo-web/api/v2/stations?datasetid=PRECIP_15&startdate=2009-06-12&enddate=2009-06-28&extent=36.06203317&extent=-83.93733116&extent=36.15646214&extent=-83.83673724&limit=1000&units=standard\n",
      "No stations found for 35351830 within the given extent: {'north': 36.15646214, 'south': 36.06203317, 'east': -83.83673724, 'west': -83.93733116}\n",
      "Attempting to expand the extent by 0.2 degrees...\n",
      "https://www.ncdc.noaa.gov/cdo-web/api/v2/stations?datasetid=PRECIP_15&startdate=2009-06-12&enddate=2009-06-28&extent=35.86203317&extent=-84.13733116&extent=36.356462140000005&extent=-83.63673724&limit=1000&units=standard\n",
      "No stations found even after expanding the extent. Skipping this gauge.\n",
      "Rainfall data processing is done for 35351830 starting from 2009-06-12\n",
      "https://www.ncdc.noaa.gov/cdo-web/api/v2/stations?datasetid=PRECIP_15&startdate=2004-07-01&enddate=2004-07-14&extent=35.97466049&extent=-84.2748036&extent=36.01601348&extent=-84.22800419&limit=1000&units=standard\n",
      "No stations found for 3538235 within the given extent: {'north': 36.01601348, 'south': 35.97466049, 'east': -84.22800419, 'west': -84.2748036}\n",
      "Attempting to expand the extent by 0.2 degrees...\n",
      "https://www.ncdc.noaa.gov/cdo-web/api/v2/stations?datasetid=PRECIP_15&startdate=2004-07-01&enddate=2004-07-14&extent=35.774660489999995&extent=-84.4748036&extent=36.21601348&extent=-84.02800418999999&limit=1000&units=standard\n",
      "No stations found even after expanding the extent. Skipping this gauge.\n",
      "Rainfall data processing is done for 3538235 starting from 2004-07-01\n",
      "https://www.ncdc.noaa.gov/cdo-web/api/v2/stations?datasetid=PRECIP_15&startdate=2006-07-02&enddate=2006-07-19&extent=35.43234109&extent=-84.61386089&extent=35.5391693&extent=-84.44254838&limit=1000&units=standard\n",
      "No stations found for 3565442 within the given extent: {'north': 35.5391693, 'south': 35.43234109, 'east': -84.44254838, 'west': -84.61386089}\n",
      "Attempting to expand the extent by 0.2 degrees...\n",
      "https://www.ncdc.noaa.gov/cdo-web/api/v2/stations?datasetid=PRECIP_15&startdate=2006-07-02&enddate=2006-07-19&extent=35.23234109&extent=-84.81386089&extent=35.7391693&extent=-84.24254838&limit=1000&units=standard\n",
      "No stations found even after expanding the extent. Skipping this gauge.\n",
      "Rainfall data processing is done for 3565442 starting from 2006-07-02\n",
      "https://www.ncdc.noaa.gov/cdo-web/api/v2/stations?datasetid=PRECIP_15&startdate=2020-03-24&enddate=2020-04-10&extent=35.50636667&extent=-86.40167047&extent=35.66428&extent=-86.300294&limit=1000&units=standard\n",
      "No stations found for 3597590 within the given extent: {'north': 35.66428, 'south': 35.50636667, 'east': -86.300294, 'west': -86.40167047}\n",
      "Attempting to expand the extent by 0.2 degrees...\n",
      "https://www.ncdc.noaa.gov/cdo-web/api/v2/stations?datasetid=PRECIP_15&startdate=2020-03-24&enddate=2020-04-10&extent=35.306366669999996&extent=-86.60167047&extent=35.86428&extent=-86.10029399999999&limit=1000&units=standard\n",
      "No stations found even after expanding the extent. Skipping this gauge.\n",
      "Rainfall data processing is done for 3597590 starting from 2020-03-24\n",
      "https://www.ncdc.noaa.gov/cdo-web/api/v2/stations?datasetid=PRECIP_15&startdate=2008-06-10&enddate=2008-06-26&extent=35.71191767&extent=-87.05359782&extent=35.82247825&extent=-86.94925584&limit=1000&units=standard\n",
      "No stations found for 3600088 within the given extent: {'north': 35.82247825, 'south': 35.71191767, 'east': -86.94925584, 'west': -87.05359782}\n",
      "Attempting to expand the extent by 0.2 degrees...\n",
      "https://www.ncdc.noaa.gov/cdo-web/api/v2/stations?datasetid=PRECIP_15&startdate=2008-06-10&enddate=2008-06-26&extent=35.511917669999995&extent=-87.25359782&extent=36.022478250000006&extent=-86.74925584&limit=1000&units=standard\n",
      "No stations found even after expanding the extent. Skipping this gauge.\n",
      "Rainfall data processing is done for 3600088 starting from 2008-06-10\n",
      "https://www.ncdc.noaa.gov/cdo-web/api/v2/stations?datasetid=PRECIP_15&startdate=2020-08-19&enddate=2020-09-04&extent=35.9593737&extent=-88.17490636&extent=36.10035386&extent=-88.06467076&limit=1000&units=standard\n",
      "No stations found for 3605078 within the given extent: {'north': 36.10035386, 'south': 35.9593737, 'east': -88.06467076, 'west': -88.17490636}\n",
      "Attempting to expand the extent by 0.2 degrees...\n",
      "https://www.ncdc.noaa.gov/cdo-web/api/v2/stations?datasetid=PRECIP_15&startdate=2020-08-19&enddate=2020-09-04&extent=35.7593737&extent=-88.37490636&extent=36.30035386&extent=-87.86467076&limit=1000&units=standard\n",
      "No stations found even after expanding the extent. Skipping this gauge.\n",
      "Rainfall data processing is done for 3605078 starting from 2020-08-19\n",
      "https://www.ncdc.noaa.gov/cdo-web/api/v2/stations?datasetid=PRECIP_15&startdate=2020-04-16&enddate=2020-05-02&extent=36.02985571&extent=-88.4245398&extent=36.13893026&extent=-88.30413436&limit=1000&units=standard\n",
      "No stations found for 7024200 within the given extent: {'north': 36.13893026, 'south': 36.02985571, 'east': -88.30413436, 'west': -88.4245398}\n",
      "Attempting to expand the extent by 0.2 degrees...\n",
      "https://www.ncdc.noaa.gov/cdo-web/api/v2/stations?datasetid=PRECIP_15&startdate=2020-04-16&enddate=2020-05-02&extent=35.82985571&extent=-88.62453980000001&extent=36.338930260000005&extent=-88.10413436&limit=1000&units=standard\n",
      "No stations found even after expanding the extent. Skipping this gauge.\n",
      "Rainfall data processing is done for 7024200 starting from 2020-04-16\n",
      "https://www.ncdc.noaa.gov/cdo-web/api/v2/stations?datasetid=PRECIP_15&startdate=2012-05-28&enddate=2012-06-13&extent=35.13780356&extent=-89.87493327&extent=35.23990334&extent=-89.74421197&limit=1000&units=standard\n",
      "No stations found for 7031692 within the given extent: {'north': 35.23990334, 'south': 35.13780356, 'east': -89.74421197, 'west': -89.87493327}\n",
      "Attempting to expand the extent by 0.2 degrees...\n",
      "https://www.ncdc.noaa.gov/cdo-web/api/v2/stations?datasetid=PRECIP_15&startdate=2012-05-28&enddate=2012-06-13&extent=34.93780356&extent=-90.07493327&extent=35.43990334&extent=-89.54421196999999&limit=1000&units=standard\n",
      "https://www.ncdc.noaa.gov/cdo-web/api/v2/data?datasetid=PRECIP_15&startdate=2012-05-28&enddate=2012-06-13&stationid=COOP:405956&limit=1000&units=standard\n",
      "Rainfall data processing is done for 7031692 starting from 2012-05-28\n",
      "https://www.ncdc.noaa.gov/cdo-web/api/v2/stations?datasetid=PRECIP_15&startdate=2011-07-05&enddate=2011-07-21&extent=36.47054977&extent=-85.87185917&extent=36.56569568&extent=-85.80165628&limit=1000&units=standard\n",
      "No stations found for 3312259 within the given extent: {'north': 36.56569568, 'south': 36.47054977, 'east': -85.80165628, 'west': -85.87185917}\n",
      "Attempting to expand the extent by 0.2 degrees...\n",
      "https://www.ncdc.noaa.gov/cdo-web/api/v2/stations?datasetid=PRECIP_15&startdate=2011-07-05&enddate=2011-07-21&extent=36.270549769999995&extent=-86.07185917&extent=36.76569568&extent=-85.60165628&limit=1000&units=standard\n",
      "No stations found even after expanding the extent. Skipping this gauge.\n",
      "Rainfall data processing is done for 3312259 starting from 2011-07-05\n",
      "https://www.ncdc.noaa.gov/cdo-web/api/v2/stations?datasetid=PRECIP_15&startdate=2003-08-06&enddate=2003-08-23&extent=36.31355449&extent=-86.79300794&extent=36.41892638&extent=-86.71621875&limit=1000&units=standard\n",
      "No stations found for 3426385 within the given extent: {'north': 36.41892638, 'south': 36.31355449, 'east': -86.71621875, 'west': -86.79300794}\n",
      "Attempting to expand the extent by 0.2 degrees...\n",
      "https://www.ncdc.noaa.gov/cdo-web/api/v2/stations?datasetid=PRECIP_15&startdate=2003-08-06&enddate=2003-08-23&extent=36.11355449&extent=-86.99300794&extent=36.618926380000005&extent=-86.51621875&limit=1000&units=standard\n",
      "https://www.ncdc.noaa.gov/cdo-web/api/v2/data?datasetid=PRECIP_15&startdate=2003-08-06&enddate=2003-08-23&stationid=COOP:406806&limit=1000&units=standard\n",
      "https://www.ncdc.noaa.gov/cdo-web/api/v2/data?datasetid=PRECIP_15&startdate=2003-08-06&enddate=2003-08-23&stationid=COOP:407359&limit=1000&units=standard\n",
      "https://www.ncdc.noaa.gov/cdo-web/api/v2/data?datasetid=PRECIP_15&startdate=2003-08-06&enddate=2003-08-23&stationid=COOP:408562&limit=1000&units=standard\n",
      "Rainfall data processing is done for 3426385 starting from 2003-08-06\n",
      "https://www.ncdc.noaa.gov/cdo-web/api/v2/stations?datasetid=PRECIP_15&startdate=2020-07-05&enddate=2020-07-21&extent=36.26672548&extent=-86.76382851&extent=36.31769794&extent=-86.68765616&limit=1000&units=standard\n",
      "No stations found for 3426470 within the given extent: {'north': 36.31769794, 'south': 36.26672548, 'east': -86.68765616, 'west': -86.76382851}\n",
      "Attempting to expand the extent by 0.2 degrees...\n",
      "https://www.ncdc.noaa.gov/cdo-web/api/v2/stations?datasetid=PRECIP_15&startdate=2020-07-05&enddate=2020-07-21&extent=36.066725479999995&extent=-86.96382851&extent=36.517697940000005&extent=-86.48765616&limit=1000&units=standard\n",
      "No stations found even after expanding the extent. Skipping this gauge.\n",
      "Rainfall data processing is done for 3426470 starting from 2020-07-05\n",
      "https://www.ncdc.noaa.gov/cdo-web/api/v2/stations?datasetid=PRECIP_15&startdate=2003-06-23&enddate=2003-07-10&extent=36.14948376&extent=-86.61437007&extent=36.23681666&extent=-86.4603212&limit=1000&units=standard\n",
      "No stations found for 3430147 within the given extent: {'north': 36.23681666, 'south': 36.14948376, 'east': -86.4603212, 'west': -86.61437007}\n",
      "Attempting to expand the extent by 0.2 degrees...\n",
      "https://www.ncdc.noaa.gov/cdo-web/api/v2/stations?datasetid=PRECIP_15&startdate=2003-06-23&enddate=2003-07-10&extent=35.94948376&extent=-86.81437007000001&extent=36.436816660000005&extent=-86.26032119999999&limit=1000&units=standard\n",
      "https://www.ncdc.noaa.gov/cdo-web/api/v2/data?datasetid=PRECIP_15&startdate=2003-06-23&enddate=2003-07-10&stationid=COOP:405108&limit=1000&units=standard\n",
      "https://www.ncdc.noaa.gov/cdo-web/api/v2/data?datasetid=PRECIP_15&startdate=2003-06-23&enddate=2003-07-10&stationid=COOP:406806&limit=1000&units=standard\n",
      "Rainfall data processing is done for 3430147 starting from 2003-06-23\n",
      "https://www.ncdc.noaa.gov/cdo-web/api/v2/stations?datasetid=PRECIP_15&startdate=2019-04-02&enddate=2019-04-16&extent=36.06495557&extent=-86.81620105&extent=36.16118001&extent=-86.72033451&limit=1000&units=standard\n",
      "No stations found for 3431300 within the given extent: {'north': 36.16118001, 'south': 36.06495557, 'east': -86.72033451, 'west': -86.81620105}\n",
      "Attempting to expand the extent by 0.2 degrees...\n",
      "https://www.ncdc.noaa.gov/cdo-web/api/v2/stations?datasetid=PRECIP_15&startdate=2019-04-02&enddate=2019-04-16&extent=35.86495557&extent=-87.01620105&extent=36.361180010000005&extent=-86.52033451&limit=1000&units=standard\n",
      "No stations found even after expanding the extent. Skipping this gauge.\n",
      "Rainfall data processing is done for 3431300 starting from 2019-04-02\n",
      "https://www.ncdc.noaa.gov/cdo-web/api/v2/stations?datasetid=PRECIP_15&startdate=2020-04-05&enddate=2020-04-22&extent=36.06439975&extent=-86.91755364&extent=36.1539268&extent=-86.79783154&limit=1000&units=standard\n",
      "No stations found for 3431700 within the given extent: {'north': 36.1539268, 'south': 36.06439975, 'east': -86.79783154, 'west': -86.91755364}\n",
      "Attempting to expand the extent by 0.2 degrees...\n",
      "https://www.ncdc.noaa.gov/cdo-web/api/v2/stations?datasetid=PRECIP_15&startdate=2020-04-05&enddate=2020-04-22&extent=35.86439975&extent=-87.11755364&extent=36.3539268&extent=-86.59783154&limit=1000&units=standard\n",
      "No stations found even after expanding the extent. Skipping this gauge.\n",
      "Rainfall data processing is done for 3431700 starting from 2020-04-05\n",
      "https://www.ncdc.noaa.gov/cdo-web/api/v2/stations?datasetid=PRECIP_15&startdate=2005-06-05&enddate=2005-06-21&extent=35.92571722&extent=-86.86050701&extent=35.99175158&extent=-86.77946158&limit=1000&units=standard\n",
      "No stations found for 3432390 within the given extent: {'north': 35.99175158, 'south': 35.92571722, 'east': -86.77946158, 'west': -86.86050701}\n",
      "Attempting to expand the extent by 0.2 degrees...\n",
      "https://www.ncdc.noaa.gov/cdo-web/api/v2/stations?datasetid=PRECIP_15&startdate=2005-06-05&enddate=2005-06-21&extent=35.72571722&extent=-87.06050701000001&extent=36.19175158&extent=-86.57946158&limit=1000&units=standard\n",
      "No stations found even after expanding the extent. Skipping this gauge.\n",
      "Rainfall data processing is done for 3432390 starting from 2005-06-05\n",
      "https://www.ncdc.noaa.gov/cdo-web/api/v2/stations?datasetid=PRECIP_15&startdate=2020-04-17&enddate=2020-05-03&extent=35.58924747&extent=-83.58869221&extent=35.70895269&extent=-83.38886094&limit=1000&units=standard\n",
      "No stations found for 3469251 within the given extent: {'north': 35.70895269, 'south': 35.58924747, 'east': -83.38886094, 'west': -83.58869221}\n",
      "Attempting to expand the extent by 0.2 degrees...\n",
      "https://www.ncdc.noaa.gov/cdo-web/api/v2/stations?datasetid=PRECIP_15&startdate=2020-04-17&enddate=2020-05-03&extent=35.389247469999994&extent=-83.78869221000001&extent=35.90895269&extent=-83.18886094&limit=1000&units=standard\n",
      "No stations found even after expanding the extent. Skipping this gauge.\n",
      "Rainfall data processing is done for 3469251 starting from 2020-04-17\n",
      "https://www.ncdc.noaa.gov/cdo-web/api/v2/stations?datasetid=PRECIP_15&startdate=2020-07-24&enddate=2020-08-10&extent=36.37321371&extent=-83.05688717&extent=36.42555552&extent=-82.98309718&limit=1000&units=standard\n",
      "No stations found for 3491544 within the given extent: {'north': 36.42555552, 'south': 36.37321371, 'east': -82.98309718, 'west': -83.05688717}\n",
      "Attempting to expand the extent by 0.2 degrees...\n",
      "https://www.ncdc.noaa.gov/cdo-web/api/v2/stations?datasetid=PRECIP_15&startdate=2020-07-24&enddate=2020-08-10&extent=36.17321371&extent=-83.25688717&extent=36.625555520000006&extent=-82.78309718&limit=1000&units=standard\n",
      "No stations found even after expanding the extent. Skipping this gauge.\n",
      "Rainfall data processing is done for 3491544 starting from 2020-07-24\n",
      "https://www.ncdc.noaa.gov/cdo-web/api/v2/stations?datasetid=PRECIP_15&startdate=2020-07-29&enddate=2020-08-15&extent=36.07117705&extent=-83.85598071&extent=36.13632579&extent=-83.75988312&limit=1000&units=standard\n",
      "No stations found for 3495405 within the given extent: {'north': 36.13632579, 'south': 36.07117705, 'east': -83.75988312, 'west': -83.85598071}\n",
      "Attempting to expand the extent by 0.2 degrees...\n",
      "https://www.ncdc.noaa.gov/cdo-web/api/v2/stations?datasetid=PRECIP_15&startdate=2020-07-29&enddate=2020-08-15&extent=35.87117705&extent=-84.05598071&extent=36.336325790000004&extent=-83.55988312&limit=1000&units=standard\n",
      "No stations found even after expanding the extent. Skipping this gauge.\n",
      "Rainfall data processing is done for 3495405 starting from 2020-07-29\n",
      "https://www.ncdc.noaa.gov/cdo-web/api/v2/stations?datasetid=PRECIP_15&startdate=2009-06-14&enddate=2009-06-30&extent=36.06203317&extent=-83.93733116&extent=36.15646214&extent=-83.83673724&limit=1000&units=standard\n",
      "No stations found for 35351830 within the given extent: {'north': 36.15646214, 'south': 36.06203317, 'east': -83.83673724, 'west': -83.93733116}\n",
      "Attempting to expand the extent by 0.2 degrees...\n",
      "https://www.ncdc.noaa.gov/cdo-web/api/v2/stations?datasetid=PRECIP_15&startdate=2009-06-14&enddate=2009-06-30&extent=35.86203317&extent=-84.13733116&extent=36.356462140000005&extent=-83.63673724&limit=1000&units=standard\n",
      "Warning: could not squash response: \n",
      " <Response [503]>, b'<!DOCTYPE HTML PUBLIC \"-//IETF//DTD HTML 2.0//EN\">\\n<html><head>\\n<title>503 Service Unavailable</title>\\n</head><body>\\n<h1>Service Unavailable</h1>\\n<p>The server is temporarily unable to service your\\nrequest due to maintenance downtime or capacity\\nproblems. Please try again later.</p>\\n<p>Additionally, a 503 Service Unavailable\\nerror was encountered while trying to use an ErrorDocument to handle the request.</p>\\n</body></html>\\n'\n",
      "No stations found even after expanding the extent. Skipping this gauge.\n",
      "Rainfall data processing is done for 35351830 starting from 2009-06-14\n",
      "https://www.ncdc.noaa.gov/cdo-web/api/v2/stations?datasetid=PRECIP_15&startdate=2004-07-07&enddate=2004-07-20&extent=35.97466049&extent=-84.2748036&extent=36.01601348&extent=-84.22800419&limit=1000&units=standard\n",
      "No stations found for 3538235 within the given extent: {'north': 36.01601348, 'south': 35.97466049, 'east': -84.22800419, 'west': -84.2748036}\n",
      "Attempting to expand the extent by 0.2 degrees...\n",
      "https://www.ncdc.noaa.gov/cdo-web/api/v2/stations?datasetid=PRECIP_15&startdate=2004-07-07&enddate=2004-07-20&extent=35.774660489999995&extent=-84.4748036&extent=36.21601348&extent=-84.02800418999999&limit=1000&units=standard\n",
      "No stations found even after expanding the extent. Skipping this gauge.\n",
      "Rainfall data processing is done for 3538235 starting from 2004-07-07\n",
      "https://www.ncdc.noaa.gov/cdo-web/api/v2/stations?datasetid=PRECIP_15&startdate=2006-07-07&enddate=2006-07-23&extent=35.43234109&extent=-84.61386089&extent=35.5391693&extent=-84.44254838&limit=1000&units=standard\n",
      "No stations found for 3565442 within the given extent: {'north': 35.5391693, 'south': 35.43234109, 'east': -84.44254838, 'west': -84.61386089}\n",
      "Attempting to expand the extent by 0.2 degrees...\n",
      "https://www.ncdc.noaa.gov/cdo-web/api/v2/stations?datasetid=PRECIP_15&startdate=2006-07-07&enddate=2006-07-23&extent=35.23234109&extent=-84.81386089&extent=35.7391693&extent=-84.24254838&limit=1000&units=standard\n",
      "No stations found even after expanding the extent. Skipping this gauge.\n",
      "Rainfall data processing is done for 3565442 starting from 2006-07-07\n",
      "https://www.ncdc.noaa.gov/cdo-web/api/v2/stations?datasetid=PRECIP_15&startdate=2020-03-24&enddate=2020-04-09&extent=34.98438763&extent=-85.07389224&extent=35.07348289&extent=-84.97657938&limit=1000&units=standard\n",
      "No stations found for 3566420 within the given extent: {'north': 35.07348289, 'south': 34.98438763, 'east': -84.97657938, 'west': -85.07389224}\n",
      "Attempting to expand the extent by 0.2 degrees...\n",
      "https://www.ncdc.noaa.gov/cdo-web/api/v2/stations?datasetid=PRECIP_15&startdate=2020-03-24&enddate=2020-04-09&extent=34.78438763&extent=-85.27389224000001&extent=35.273482890000004&extent=-84.77657938&limit=1000&units=standard\n",
      "No stations found even after expanding the extent. Skipping this gauge.\n",
      "Rainfall data processing is done for 3566420 starting from 2020-03-24\n",
      "https://www.ncdc.noaa.gov/cdo-web/api/v2/stations?datasetid=PRECIP_15&startdate=2020-04-02&enddate=2020-04-18&extent=35.50636667&extent=-86.40167047&extent=35.66428&extent=-86.300294&limit=1000&units=standard\n",
      "No stations found for 3597590 within the given extent: {'north': 35.66428, 'south': 35.50636667, 'east': -86.300294, 'west': -86.40167047}\n",
      "Attempting to expand the extent by 0.2 degrees...\n",
      "https://www.ncdc.noaa.gov/cdo-web/api/v2/stations?datasetid=PRECIP_15&startdate=2020-04-02&enddate=2020-04-18&extent=35.306366669999996&extent=-86.60167047&extent=35.86428&extent=-86.10029399999999&limit=1000&units=standard\n",
      "No stations found even after expanding the extent. Skipping this gauge.\n",
      "Rainfall data processing is done for 3597590 starting from 2020-04-02\n",
      "https://www.ncdc.noaa.gov/cdo-web/api/v2/stations?datasetid=PRECIP_15&startdate=2008-07-02&enddate=2008-07-19&extent=35.71191767&extent=-87.05359782&extent=35.82247825&extent=-86.94925584&limit=1000&units=standard\n",
      "No stations found for 3600088 within the given extent: {'north': 35.82247825, 'south': 35.71191767, 'east': -86.94925584, 'west': -87.05359782}\n",
      "Attempting to expand the extent by 0.2 degrees...\n",
      "https://www.ncdc.noaa.gov/cdo-web/api/v2/stations?datasetid=PRECIP_15&startdate=2008-07-02&enddate=2008-07-19&extent=35.511917669999995&extent=-87.25359782&extent=36.022478250000006&extent=-86.74925584&limit=1000&units=standard\n",
      "No stations found even after expanding the extent. Skipping this gauge.\n",
      "Rainfall data processing is done for 3600088 starting from 2008-07-02\n",
      "https://www.ncdc.noaa.gov/cdo-web/api/v2/stations?datasetid=PRECIP_15&startdate=2020-08-23&enddate=2020-09-08&extent=35.9593737&extent=-88.17490636&extent=36.10035386&extent=-88.06467076&limit=1000&units=standard\n",
      "No stations found for 3605078 within the given extent: {'north': 36.10035386, 'south': 35.9593737, 'east': -88.06467076, 'west': -88.17490636}\n",
      "Attempting to expand the extent by 0.2 degrees...\n",
      "https://www.ncdc.noaa.gov/cdo-web/api/v2/stations?datasetid=PRECIP_15&startdate=2020-08-23&enddate=2020-09-08&extent=35.7593737&extent=-88.37490636&extent=36.30035386&extent=-87.86467076&limit=1000&units=standard\n",
      "No stations found even after expanding the extent. Skipping this gauge.\n",
      "Rainfall data processing is done for 3605078 starting from 2020-08-23\n",
      "https://www.ncdc.noaa.gov/cdo-web/api/v2/stations?datasetid=PRECIP_15&startdate=2020-04-26&enddate=2020-05-13&extent=36.02985571&extent=-88.4245398&extent=36.13893026&extent=-88.30413436&limit=1000&units=standard\n",
      "No stations found for 7024200 within the given extent: {'north': 36.13893026, 'south': 36.02985571, 'east': -88.30413436, 'west': -88.4245398}\n",
      "Attempting to expand the extent by 0.2 degrees...\n",
      "https://www.ncdc.noaa.gov/cdo-web/api/v2/stations?datasetid=PRECIP_15&startdate=2020-04-26&enddate=2020-05-13&extent=35.82985571&extent=-88.62453980000001&extent=36.338930260000005&extent=-88.10413436&limit=1000&units=standard\n",
      "No stations found even after expanding the extent. Skipping this gauge.\n",
      "Rainfall data processing is done for 7024200 starting from 2020-04-26\n",
      "https://www.ncdc.noaa.gov/cdo-web/api/v2/stations?datasetid=PRECIP_15&startdate=2012-06-04&enddate=2012-06-21&extent=35.13780356&extent=-89.87493327&extent=35.23990334&extent=-89.74421197&limit=1000&units=standard\n",
      "No stations found for 7031692 within the given extent: {'north': 35.23990334, 'south': 35.13780356, 'east': -89.74421197, 'west': -89.87493327}\n",
      "Attempting to expand the extent by 0.2 degrees...\n",
      "https://www.ncdc.noaa.gov/cdo-web/api/v2/stations?datasetid=PRECIP_15&startdate=2012-06-04&enddate=2012-06-21&extent=34.93780356&extent=-90.07493327&extent=35.43990334&extent=-89.54421196999999&limit=1000&units=standard\n",
      "https://www.ncdc.noaa.gov/cdo-web/api/v2/data?datasetid=PRECIP_15&startdate=2012-06-04&enddate=2012-06-21&stationid=COOP:405956&limit=1000&units=standard\n",
      "Rainfall data processing is done for 7031692 starting from 2012-06-04\n",
      "https://www.ncdc.noaa.gov/cdo-web/api/v2/stations?datasetid=PRECIP_15&startdate=2004-08-23&enddate=2004-09-08&extent=36.47054977&extent=-85.87185917&extent=36.56569568&extent=-85.80165628&limit=1000&units=standard\n",
      "No stations found for 3312259 within the given extent: {'north': 36.56569568, 'south': 36.47054977, 'east': -85.80165628, 'west': -85.87185917}\n",
      "Attempting to expand the extent by 0.2 degrees...\n",
      "https://www.ncdc.noaa.gov/cdo-web/api/v2/stations?datasetid=PRECIP_15&startdate=2004-08-23&enddate=2004-09-08&extent=36.270549769999995&extent=-86.07185917&extent=36.76569568&extent=-85.60165628&limit=1000&units=standard\n",
      "No stations found even after expanding the extent. Skipping this gauge.\n",
      "Rainfall data processing is done for 3312259 starting from 2004-08-23\n",
      "https://www.ncdc.noaa.gov/cdo-web/api/v2/stations?datasetid=PRECIP_15&startdate=2020-07-22&enddate=2020-08-07&extent=36.26672548&extent=-86.76382851&extent=36.31769794&extent=-86.68765616&limit=1000&units=standard\n",
      "No stations found for 3426470 within the given extent: {'north': 36.31769794, 'south': 36.26672548, 'east': -86.68765616, 'west': -86.76382851}\n",
      "Attempting to expand the extent by 0.2 degrees...\n",
      "https://www.ncdc.noaa.gov/cdo-web/api/v2/stations?datasetid=PRECIP_15&startdate=2020-07-22&enddate=2020-08-07&extent=36.066725479999995&extent=-86.96382851&extent=36.517697940000005&extent=-86.48765616&limit=1000&units=standard\n",
      "No stations found even after expanding the extent. Skipping this gauge.\n",
      "Rainfall data processing is done for 3426470 starting from 2020-07-22\n",
      "https://www.ncdc.noaa.gov/cdo-web/api/v2/stations?datasetid=PRECIP_15&startdate=2003-07-03&enddate=2003-07-19&extent=36.14948376&extent=-86.61437007&extent=36.23681666&extent=-86.4603212&limit=1000&units=standard\n",
      "No stations found for 3430147 within the given extent: {'north': 36.23681666, 'south': 36.14948376, 'east': -86.4603212, 'west': -86.61437007}\n",
      "Attempting to expand the extent by 0.2 degrees...\n",
      "https://www.ncdc.noaa.gov/cdo-web/api/v2/stations?datasetid=PRECIP_15&startdate=2003-07-03&enddate=2003-07-19&extent=35.94948376&extent=-86.81437007000001&extent=36.436816660000005&extent=-86.26032119999999&limit=1000&units=standard\n",
      "https://www.ncdc.noaa.gov/cdo-web/api/v2/data?datasetid=PRECIP_15&startdate=2003-07-03&enddate=2003-07-19&stationid=COOP:405108&limit=1000&units=standard\n",
      "https://www.ncdc.noaa.gov/cdo-web/api/v2/data?datasetid=PRECIP_15&startdate=2003-07-03&enddate=2003-07-19&stationid=COOP:406806&limit=1000&units=standard\n",
      "Rainfall data processing is done for 3430147 starting from 2003-07-03\n",
      "https://www.ncdc.noaa.gov/cdo-web/api/v2/stations?datasetid=PRECIP_15&startdate=2019-04-08&enddate=2019-04-21&extent=36.06495557&extent=-86.81620105&extent=36.16118001&extent=-86.72033451&limit=1000&units=standard\n",
      "No stations found for 3431300 within the given extent: {'north': 36.16118001, 'south': 36.06495557, 'east': -86.72033451, 'west': -86.81620105}\n",
      "Attempting to expand the extent by 0.2 degrees...\n",
      "https://www.ncdc.noaa.gov/cdo-web/api/v2/stations?datasetid=PRECIP_15&startdate=2019-04-08&enddate=2019-04-21&extent=35.86495557&extent=-87.01620105&extent=36.361180010000005&extent=-86.52033451&limit=1000&units=standard\n",
      "No stations found even after expanding the extent. Skipping this gauge.\n",
      "Rainfall data processing is done for 3431300 starting from 2019-04-08\n",
      "https://www.ncdc.noaa.gov/cdo-web/api/v2/stations?datasetid=PRECIP_15&startdate=2020-04-13&enddate=2020-04-29&extent=36.06439975&extent=-86.91755364&extent=36.1539268&extent=-86.79783154&limit=1000&units=standard\n",
      "No stations found for 3431700 within the given extent: {'north': 36.1539268, 'south': 36.06439975, 'east': -86.79783154, 'west': -86.91755364}\n",
      "Attempting to expand the extent by 0.2 degrees...\n",
      "https://www.ncdc.noaa.gov/cdo-web/api/v2/stations?datasetid=PRECIP_15&startdate=2020-04-13&enddate=2020-04-29&extent=35.86439975&extent=-87.11755364&extent=36.3539268&extent=-86.59783154&limit=1000&units=standard\n",
      "No stations found even after expanding the extent. Skipping this gauge.\n",
      "Rainfall data processing is done for 3431700 starting from 2020-04-13\n",
      "https://www.ncdc.noaa.gov/cdo-web/api/v2/stations?datasetid=PRECIP_15&startdate=2005-06-22&enddate=2005-07-09&extent=35.92571722&extent=-86.86050701&extent=35.99175158&extent=-86.77946158&limit=1000&units=standard\n",
      "No stations found for 3432390 within the given extent: {'north': 35.99175158, 'south': 35.92571722, 'east': -86.77946158, 'west': -86.86050701}\n",
      "Attempting to expand the extent by 0.2 degrees...\n",
      "https://www.ncdc.noaa.gov/cdo-web/api/v2/stations?datasetid=PRECIP_15&startdate=2005-06-22&enddate=2005-07-09&extent=35.72571722&extent=-87.06050701000001&extent=36.19175158&extent=-86.57946158&limit=1000&units=standard\n",
      "No stations found even after expanding the extent. Skipping this gauge.\n",
      "Rainfall data processing is done for 3432390 starting from 2005-06-22\n",
      "https://www.ncdc.noaa.gov/cdo-web/api/v2/stations?datasetid=PRECIP_15&startdate=2020-04-19&enddate=2020-05-05&extent=35.58924747&extent=-83.58869221&extent=35.70895269&extent=-83.38886094&limit=1000&units=standard\n",
      "No stations found for 3469251 within the given extent: {'north': 35.70895269, 'south': 35.58924747, 'east': -83.38886094, 'west': -83.58869221}\n",
      "Attempting to expand the extent by 0.2 degrees...\n",
      "https://www.ncdc.noaa.gov/cdo-web/api/v2/stations?datasetid=PRECIP_15&startdate=2020-04-19&enddate=2020-05-05&extent=35.389247469999994&extent=-83.78869221000001&extent=35.90895269&extent=-83.18886094&limit=1000&units=standard\n",
      "No stations found even after expanding the extent. Skipping this gauge.\n",
      "Rainfall data processing is done for 3469251 starting from 2020-04-19\n",
      "https://www.ncdc.noaa.gov/cdo-web/api/v2/stations?datasetid=PRECIP_15&startdate=2020-08-24&enddate=2020-09-09&extent=36.07117705&extent=-83.85598071&extent=36.13632579&extent=-83.75988312&limit=1000&units=standard\n",
      "No stations found for 3495405 within the given extent: {'north': 36.13632579, 'south': 36.07117705, 'east': -83.75988312, 'west': -83.85598071}\n",
      "Attempting to expand the extent by 0.2 degrees...\n",
      "https://www.ncdc.noaa.gov/cdo-web/api/v2/stations?datasetid=PRECIP_15&startdate=2020-08-24&enddate=2020-09-09&extent=35.87117705&extent=-84.05598071&extent=36.336325790000004&extent=-83.55988312&limit=1000&units=standard\n",
      "No stations found even after expanding the extent. Skipping this gauge.\n",
      "Rainfall data processing is done for 3495405 starting from 2020-08-24\n",
      "https://www.ncdc.noaa.gov/cdo-web/api/v2/stations?datasetid=PRECIP_15&startdate=2009-06-21&enddate=2009-07-08&extent=36.06203317&extent=-83.93733116&extent=36.15646214&extent=-83.83673724&limit=1000&units=standard\n",
      "No stations found for 35351830 within the given extent: {'north': 36.15646214, 'south': 36.06203317, 'east': -83.83673724, 'west': -83.93733116}\n",
      "Attempting to expand the extent by 0.2 degrees...\n",
      "https://www.ncdc.noaa.gov/cdo-web/api/v2/stations?datasetid=PRECIP_15&startdate=2009-06-21&enddate=2009-07-08&extent=35.86203317&extent=-84.13733116&extent=36.356462140000005&extent=-83.63673724&limit=1000&units=standard\n",
      "No stations found even after expanding the extent. Skipping this gauge.\n",
      "Rainfall data processing is done for 35351830 starting from 2009-06-21\n",
      "https://www.ncdc.noaa.gov/cdo-web/api/v2/stations?datasetid=PRECIP_15&startdate=2004-07-12&enddate=2004-07-25&extent=35.97466049&extent=-84.2748036&extent=36.01601348&extent=-84.22800419&limit=1000&units=standard\n",
      "No stations found for 3538235 within the given extent: {'north': 36.01601348, 'south': 35.97466049, 'east': -84.22800419, 'west': -84.2748036}\n",
      "Attempting to expand the extent by 0.2 degrees...\n",
      "https://www.ncdc.noaa.gov/cdo-web/api/v2/stations?datasetid=PRECIP_15&startdate=2004-07-12&enddate=2004-07-25&extent=35.774660489999995&extent=-84.4748036&extent=36.21601348&extent=-84.02800418999999&limit=1000&units=standard\n",
      "No stations found even after expanding the extent. Skipping this gauge.\n",
      "Rainfall data processing is done for 3538235 starting from 2004-07-12\n",
      "https://www.ncdc.noaa.gov/cdo-web/api/v2/stations?datasetid=PRECIP_15&startdate=2006-07-15&enddate=2006-07-31&extent=35.43234109&extent=-84.61386089&extent=35.5391693&extent=-84.44254838&limit=1000&units=standard\n",
      "No stations found for 3565442 within the given extent: {'north': 35.5391693, 'south': 35.43234109, 'east': -84.44254838, 'west': -84.61386089}\n",
      "Attempting to expand the extent by 0.2 degrees...\n",
      "https://www.ncdc.noaa.gov/cdo-web/api/v2/stations?datasetid=PRECIP_15&startdate=2006-07-15&enddate=2006-07-31&extent=35.23234109&extent=-84.81386089&extent=35.7391693&extent=-84.24254838&limit=1000&units=standard\n",
      "No stations found even after expanding the extent. Skipping this gauge.\n",
      "Rainfall data processing is done for 3565442 starting from 2006-07-15\n",
      "https://www.ncdc.noaa.gov/cdo-web/api/v2/stations?datasetid=PRECIP_15&startdate=2020-04-06&enddate=2020-04-22&extent=34.98438763&extent=-85.07389224&extent=35.07348289&extent=-84.97657938&limit=1000&units=standard\n",
      "No stations found for 3566420 within the given extent: {'north': 35.07348289, 'south': 34.98438763, 'east': -84.97657938, 'west': -85.07389224}\n",
      "Attempting to expand the extent by 0.2 degrees...\n",
      "https://www.ncdc.noaa.gov/cdo-web/api/v2/stations?datasetid=PRECIP_15&startdate=2020-04-06&enddate=2020-04-22&extent=34.78438763&extent=-85.27389224000001&extent=35.273482890000004&extent=-84.77657938&limit=1000&units=standard\n",
      "No stations found even after expanding the extent. Skipping this gauge.\n",
      "Rainfall data processing is done for 3566420 starting from 2020-04-06\n",
      "https://www.ncdc.noaa.gov/cdo-web/api/v2/stations?datasetid=PRECIP_15&startdate=2020-04-06&enddate=2020-04-22&extent=35.50636667&extent=-86.40167047&extent=35.66428&extent=-86.300294&limit=1000&units=standard\n",
      "No stations found for 3597590 within the given extent: {'north': 35.66428, 'south': 35.50636667, 'east': -86.300294, 'west': -86.40167047}\n",
      "Attempting to expand the extent by 0.2 degrees...\n",
      "https://www.ncdc.noaa.gov/cdo-web/api/v2/stations?datasetid=PRECIP_15&startdate=2020-04-06&enddate=2020-04-22&extent=35.306366669999996&extent=-86.60167047&extent=35.86428&extent=-86.10029399999999&limit=1000&units=standard\n",
      "No stations found even after expanding the extent. Skipping this gauge.\n",
      "Rainfall data processing is done for 3597590 starting from 2020-04-06\n",
      "https://www.ncdc.noaa.gov/cdo-web/api/v2/stations?datasetid=PRECIP_15&startdate=2008-07-06&enddate=2008-07-22&extent=35.71191767&extent=-87.05359782&extent=35.82247825&extent=-86.94925584&limit=1000&units=standard\n",
      "No stations found for 3600088 within the given extent: {'north': 35.82247825, 'south': 35.71191767, 'east': -86.94925584, 'west': -87.05359782}\n",
      "Attempting to expand the extent by 0.2 degrees...\n",
      "https://www.ncdc.noaa.gov/cdo-web/api/v2/stations?datasetid=PRECIP_15&startdate=2008-07-06&enddate=2008-07-22&extent=35.511917669999995&extent=-87.25359782&extent=36.022478250000006&extent=-86.74925584&limit=1000&units=standard\n",
      "No stations found even after expanding the extent. Skipping this gauge.\n",
      "Rainfall data processing is done for 3600088 starting from 2008-07-06\n",
      "https://www.ncdc.noaa.gov/cdo-web/api/v2/stations?datasetid=PRECIP_15&startdate=2020-08-25&enddate=2020-09-10&extent=35.9593737&extent=-88.17490636&extent=36.10035386&extent=-88.06467076&limit=1000&units=standard\n",
      "No stations found for 3605078 within the given extent: {'north': 36.10035386, 'south': 35.9593737, 'east': -88.06467076, 'west': -88.17490636}\n",
      "Attempting to expand the extent by 0.2 degrees...\n",
      "https://www.ncdc.noaa.gov/cdo-web/api/v2/stations?datasetid=PRECIP_15&startdate=2020-08-25&enddate=2020-09-10&extent=35.7593737&extent=-88.37490636&extent=36.30035386&extent=-87.86467076&limit=1000&units=standard\n",
      "No stations found even after expanding the extent. Skipping this gauge.\n",
      "Rainfall data processing is done for 3605078 starting from 2020-08-25\n",
      "https://www.ncdc.noaa.gov/cdo-web/api/v2/stations?datasetid=PRECIP_15&startdate=2020-04-28&enddate=2020-05-14&extent=36.02985571&extent=-88.4245398&extent=36.13893026&extent=-88.30413436&limit=1000&units=standard\n",
      "No stations found for 7024200 within the given extent: {'north': 36.13893026, 'south': 36.02985571, 'east': -88.30413436, 'west': -88.4245398}\n",
      "Attempting to expand the extent by 0.2 degrees...\n",
      "https://www.ncdc.noaa.gov/cdo-web/api/v2/stations?datasetid=PRECIP_15&startdate=2020-04-28&enddate=2020-05-14&extent=35.82985571&extent=-88.62453980000001&extent=36.338930260000005&extent=-88.10413436&limit=1000&units=standard\n",
      "No stations found even after expanding the extent. Skipping this gauge.\n",
      "Rainfall data processing is done for 7024200 starting from 2020-04-28\n",
      "https://www.ncdc.noaa.gov/cdo-web/api/v2/stations?datasetid=PRECIP_15&startdate=2012-07-02&enddate=2012-07-18&extent=35.13780356&extent=-89.87493327&extent=35.23990334&extent=-89.74421197&limit=1000&units=standard\n",
      "No stations found for 7031692 within the given extent: {'north': 35.23990334, 'south': 35.13780356, 'east': -89.74421197, 'west': -89.87493327}\n",
      "Attempting to expand the extent by 0.2 degrees...\n",
      "https://www.ncdc.noaa.gov/cdo-web/api/v2/stations?datasetid=PRECIP_15&startdate=2012-07-02&enddate=2012-07-18&extent=34.93780356&extent=-90.07493327&extent=35.43990334&extent=-89.54421196999999&limit=1000&units=standard\n",
      "https://www.ncdc.noaa.gov/cdo-web/api/v2/data?datasetid=PRECIP_15&startdate=2012-07-02&enddate=2012-07-18&stationid=COOP:405956&limit=1000&units=standard\n",
      "Rainfall data processing is done for 7031692 starting from 2012-07-02\n",
      "https://www.ncdc.noaa.gov/cdo-web/api/v2/stations?datasetid=PRECIP_15&startdate=2020-07-25&enddate=2020-08-10&extent=36.26672548&extent=-86.76382851&extent=36.31769794&extent=-86.68765616&limit=1000&units=standard\n",
      "No stations found for 3426470 within the given extent: {'north': 36.31769794, 'south': 36.26672548, 'east': -86.68765616, 'west': -86.76382851}\n",
      "Attempting to expand the extent by 0.2 degrees...\n",
      "https://www.ncdc.noaa.gov/cdo-web/api/v2/stations?datasetid=PRECIP_15&startdate=2020-07-25&enddate=2020-08-10&extent=36.066725479999995&extent=-86.96382851&extent=36.517697940000005&extent=-86.48765616&limit=1000&units=standard\n",
      "No stations found even after expanding the extent. Skipping this gauge.\n",
      "Rainfall data processing is done for 3426470 starting from 2020-07-25\n",
      "https://www.ncdc.noaa.gov/cdo-web/api/v2/stations?datasetid=PRECIP_15&startdate=2003-07-03&enddate=2003-07-20&extent=36.14948376&extent=-86.61437007&extent=36.23681666&extent=-86.4603212&limit=1000&units=standard\n",
      "No stations found for 3430147 within the given extent: {'north': 36.23681666, 'south': 36.14948376, 'east': -86.4603212, 'west': -86.61437007}\n",
      "Attempting to expand the extent by 0.2 degrees...\n",
      "https://www.ncdc.noaa.gov/cdo-web/api/v2/stations?datasetid=PRECIP_15&startdate=2003-07-03&enddate=2003-07-20&extent=35.94948376&extent=-86.81437007000001&extent=36.436816660000005&extent=-86.26032119999999&limit=1000&units=standard\n",
      "https://www.ncdc.noaa.gov/cdo-web/api/v2/data?datasetid=PRECIP_15&startdate=2003-07-03&enddate=2003-07-20&stationid=COOP:405108&limit=1000&units=standard\n",
      "https://www.ncdc.noaa.gov/cdo-web/api/v2/data?datasetid=PRECIP_15&startdate=2003-07-03&enddate=2003-07-20&stationid=COOP:406806&limit=1000&units=standard\n",
      "Rainfall data processing is done for 3430147 starting from 2003-07-03\n",
      "https://www.ncdc.noaa.gov/cdo-web/api/v2/stations?datasetid=PRECIP_15&startdate=2020-03-25&enddate=2020-04-08&extent=36.06495557&extent=-86.81620105&extent=36.16118001&extent=-86.72033451&limit=1000&units=standard\n",
      "No stations found for 3431300 within the given extent: {'north': 36.16118001, 'south': 36.06495557, 'east': -86.72033451, 'west': -86.81620105}\n",
      "Attempting to expand the extent by 0.2 degrees...\n",
      "https://www.ncdc.noaa.gov/cdo-web/api/v2/stations?datasetid=PRECIP_15&startdate=2020-03-25&enddate=2020-04-08&extent=35.86495557&extent=-87.01620105&extent=36.361180010000005&extent=-86.52033451&limit=1000&units=standard\n",
      "No stations found even after expanding the extent. Skipping this gauge.\n",
      "Rainfall data processing is done for 3431300 starting from 2020-03-25\n",
      "https://www.ncdc.noaa.gov/cdo-web/api/v2/stations?datasetid=PRECIP_15&startdate=2020-04-16&enddate=2020-05-02&extent=36.06439975&extent=-86.91755364&extent=36.1539268&extent=-86.79783154&limit=1000&units=standard\n",
      "No stations found for 3431700 within the given extent: {'north': 36.1539268, 'south': 36.06439975, 'east': -86.79783154, 'west': -86.91755364}\n",
      "Attempting to expand the extent by 0.2 degrees...\n",
      "https://www.ncdc.noaa.gov/cdo-web/api/v2/stations?datasetid=PRECIP_15&startdate=2020-04-16&enddate=2020-05-02&extent=35.86439975&extent=-87.11755364&extent=36.3539268&extent=-86.59783154&limit=1000&units=standard\n",
      "No stations found even after expanding the extent. Skipping this gauge.\n",
      "Rainfall data processing is done for 3431700 starting from 2020-04-16\n",
      "https://www.ncdc.noaa.gov/cdo-web/api/v2/stations?datasetid=PRECIP_15&startdate=2005-07-04&enddate=2005-07-20&extent=35.92571722&extent=-86.86050701&extent=35.99175158&extent=-86.77946158&limit=1000&units=standard\n",
      "No stations found for 3432390 within the given extent: {'north': 35.99175158, 'south': 35.92571722, 'east': -86.77946158, 'west': -86.86050701}\n",
      "Attempting to expand the extent by 0.2 degrees...\n",
      "https://www.ncdc.noaa.gov/cdo-web/api/v2/stations?datasetid=PRECIP_15&startdate=2005-07-04&enddate=2005-07-20&extent=35.72571722&extent=-87.06050701000001&extent=36.19175158&extent=-86.57946158&limit=1000&units=standard\n",
      "No stations found even after expanding the extent. Skipping this gauge.\n",
      "Rainfall data processing is done for 3432390 starting from 2005-07-04\n",
      "https://www.ncdc.noaa.gov/cdo-web/api/v2/stations?datasetid=PRECIP_15&startdate=2020-04-23&enddate=2020-05-09&extent=35.58924747&extent=-83.58869221&extent=35.70895269&extent=-83.38886094&limit=1000&units=standard\n",
      "No stations found for 3469251 within the given extent: {'north': 35.70895269, 'south': 35.58924747, 'east': -83.38886094, 'west': -83.58869221}\n",
      "Attempting to expand the extent by 0.2 degrees...\n",
      "https://www.ncdc.noaa.gov/cdo-web/api/v2/stations?datasetid=PRECIP_15&startdate=2020-04-23&enddate=2020-05-09&extent=35.389247469999994&extent=-83.78869221000001&extent=35.90895269&extent=-83.18886094&limit=1000&units=standard\n",
      "No stations found even after expanding the extent. Skipping this gauge.\n",
      "Rainfall data processing is done for 3469251 starting from 2020-04-23\n",
      "https://www.ncdc.noaa.gov/cdo-web/api/v2/stations?datasetid=PRECIP_15&startdate=2009-07-09&enddate=2009-07-25&extent=36.06203317&extent=-83.93733116&extent=36.15646214&extent=-83.83673724&limit=1000&units=standard\n",
      "No stations found for 35351830 within the given extent: {'north': 36.15646214, 'south': 36.06203317, 'east': -83.83673724, 'west': -83.93733116}\n",
      "Attempting to expand the extent by 0.2 degrees...\n",
      "https://www.ncdc.noaa.gov/cdo-web/api/v2/stations?datasetid=PRECIP_15&startdate=2009-07-09&enddate=2009-07-25&extent=35.86203317&extent=-84.13733116&extent=36.356462140000005&extent=-83.63673724&limit=1000&units=standard\n",
      "No stations found even after expanding the extent. Skipping this gauge.\n",
      "Rainfall data processing is done for 35351830 starting from 2009-07-09\n",
      "https://www.ncdc.noaa.gov/cdo-web/api/v2/stations?datasetid=PRECIP_15&startdate=2004-07-20&enddate=2004-08-02&extent=35.97466049&extent=-84.2748036&extent=36.01601348&extent=-84.22800419&limit=1000&units=standard\n",
      "No stations found for 3538235 within the given extent: {'north': 36.01601348, 'south': 35.97466049, 'east': -84.22800419, 'west': -84.2748036}\n",
      "Attempting to expand the extent by 0.2 degrees...\n",
      "https://www.ncdc.noaa.gov/cdo-web/api/v2/stations?datasetid=PRECIP_15&startdate=2004-07-20&enddate=2004-08-02&extent=35.774660489999995&extent=-84.4748036&extent=36.21601348&extent=-84.02800418999999&limit=1000&units=standard\n",
      "No stations found even after expanding the extent. Skipping this gauge.\n",
      "Rainfall data processing is done for 3538235 starting from 2004-07-20\n",
      "https://www.ncdc.noaa.gov/cdo-web/api/v2/stations?datasetid=PRECIP_15&startdate=2006-07-26&enddate=2006-08-11&extent=35.43234109&extent=-84.61386089&extent=35.5391693&extent=-84.44254838&limit=1000&units=standard\n",
      "No stations found for 3565442 within the given extent: {'north': 35.5391693, 'south': 35.43234109, 'east': -84.44254838, 'west': -84.61386089}\n",
      "Attempting to expand the extent by 0.2 degrees...\n",
      "https://www.ncdc.noaa.gov/cdo-web/api/v2/stations?datasetid=PRECIP_15&startdate=2006-07-26&enddate=2006-08-11&extent=35.23234109&extent=-84.81386089&extent=35.7391693&extent=-84.24254838&limit=1000&units=standard\n",
      "No stations found even after expanding the extent. Skipping this gauge.\n",
      "Rainfall data processing is done for 3565442 starting from 2006-07-26\n",
      "https://www.ncdc.noaa.gov/cdo-web/api/v2/stations?datasetid=PRECIP_15&startdate=2020-04-13&enddate=2020-04-29&extent=34.98438763&extent=-85.07389224&extent=35.07348289&extent=-84.97657938&limit=1000&units=standard\n",
      "No stations found for 3566420 within the given extent: {'north': 35.07348289, 'south': 34.98438763, 'east': -84.97657938, 'west': -85.07389224}\n",
      "Attempting to expand the extent by 0.2 degrees...\n",
      "https://www.ncdc.noaa.gov/cdo-web/api/v2/stations?datasetid=PRECIP_15&startdate=2020-04-13&enddate=2020-04-29&extent=34.78438763&extent=-85.27389224000001&extent=35.273482890000004&extent=-84.77657938&limit=1000&units=standard\n",
      "No stations found even after expanding the extent. Skipping this gauge.\n",
      "Rainfall data processing is done for 3566420 starting from 2020-04-13\n",
      "https://www.ncdc.noaa.gov/cdo-web/api/v2/stations?datasetid=PRECIP_15&startdate=2020-04-13&enddate=2020-04-29&extent=35.50636667&extent=-86.40167047&extent=35.66428&extent=-86.300294&limit=1000&units=standard\n",
      "No stations found for 3597590 within the given extent: {'north': 35.66428, 'south': 35.50636667, 'east': -86.300294, 'west': -86.40167047}\n",
      "Attempting to expand the extent by 0.2 degrees...\n",
      "https://www.ncdc.noaa.gov/cdo-web/api/v2/stations?datasetid=PRECIP_15&startdate=2020-04-13&enddate=2020-04-29&extent=35.306366669999996&extent=-86.60167047&extent=35.86428&extent=-86.10029399999999&limit=1000&units=standard\n",
      "No stations found even after expanding the extent. Skipping this gauge.\n",
      "Rainfall data processing is done for 3597590 starting from 2020-04-13\n",
      "https://www.ncdc.noaa.gov/cdo-web/api/v2/stations?datasetid=PRECIP_15&startdate=2008-07-23&enddate=2008-08-08&extent=35.71191767&extent=-87.05359782&extent=35.82247825&extent=-86.94925584&limit=1000&units=standard\n",
      "No stations found for 3600088 within the given extent: {'north': 35.82247825, 'south': 35.71191767, 'east': -86.94925584, 'west': -87.05359782}\n",
      "Attempting to expand the extent by 0.2 degrees...\n",
      "https://www.ncdc.noaa.gov/cdo-web/api/v2/stations?datasetid=PRECIP_15&startdate=2008-07-23&enddate=2008-08-08&extent=35.511917669999995&extent=-87.25359782&extent=36.022478250000006&extent=-86.74925584&limit=1000&units=standard\n",
      "No stations found even after expanding the extent. Skipping this gauge.\n",
      "Rainfall data processing is done for 3600088 starting from 2008-07-23\n",
      "https://www.ncdc.noaa.gov/cdo-web/api/v2/stations?datasetid=PRECIP_15&startdate=2020-05-01&enddate=2020-05-17&extent=36.02985571&extent=-88.4245398&extent=36.13893026&extent=-88.30413436&limit=1000&units=standard\n",
      "No stations found for 7024200 within the given extent: {'north': 36.13893026, 'south': 36.02985571, 'east': -88.30413436, 'west': -88.4245398}\n",
      "Attempting to expand the extent by 0.2 degrees...\n",
      "https://www.ncdc.noaa.gov/cdo-web/api/v2/stations?datasetid=PRECIP_15&startdate=2020-05-01&enddate=2020-05-17&extent=35.82985571&extent=-88.62453980000001&extent=36.338930260000005&extent=-88.10413436&limit=1000&units=standard\n",
      "No stations found even after expanding the extent. Skipping this gauge.\n",
      "Rainfall data processing is done for 7024200 starting from 2020-05-01\n",
      "https://www.ncdc.noaa.gov/cdo-web/api/v2/stations?datasetid=PRECIP_15&startdate=2012-07-06&enddate=2012-07-22&extent=35.13780356&extent=-89.87493327&extent=35.23990334&extent=-89.74421197&limit=1000&units=standard\n",
      "No stations found for 7031692 within the given extent: {'north': 35.23990334, 'south': 35.13780356, 'east': -89.74421197, 'west': -89.87493327}\n",
      "Attempting to expand the extent by 0.2 degrees...\n",
      "https://www.ncdc.noaa.gov/cdo-web/api/v2/stations?datasetid=PRECIP_15&startdate=2012-07-06&enddate=2012-07-22&extent=34.93780356&extent=-90.07493327&extent=35.43990334&extent=-89.54421196999999&limit=1000&units=standard\n",
      "https://www.ncdc.noaa.gov/cdo-web/api/v2/data?datasetid=PRECIP_15&startdate=2012-07-06&enddate=2012-07-22&stationid=COOP:405956&limit=1000&units=standard\n",
      "Rainfall data processing is done for 7031692 starting from 2012-07-06\n",
      "https://www.ncdc.noaa.gov/cdo-web/api/v2/stations?datasetid=PRECIP_15&startdate=2003-07-06&enddate=2003-07-22&extent=36.14948376&extent=-86.61437007&extent=36.23681666&extent=-86.4603212&limit=1000&units=standard\n",
      "No stations found for 3430147 within the given extent: {'north': 36.23681666, 'south': 36.14948376, 'east': -86.4603212, 'west': -86.61437007}\n",
      "Attempting to expand the extent by 0.2 degrees...\n",
      "https://www.ncdc.noaa.gov/cdo-web/api/v2/stations?datasetid=PRECIP_15&startdate=2003-07-06&enddate=2003-07-22&extent=35.94948376&extent=-86.81437007000001&extent=36.436816660000005&extent=-86.26032119999999&limit=1000&units=standard\n",
      "https://www.ncdc.noaa.gov/cdo-web/api/v2/data?datasetid=PRECIP_15&startdate=2003-07-06&enddate=2003-07-22&stationid=COOP:405108&limit=1000&units=standard\n",
      "Warnings for 3430147: \"None of [Index(['date', 'QPCP'], dtype='object')] are in the [columns]\"\n",
      "https://www.ncdc.noaa.gov/cdo-web/api/v2/data?datasetid=PRECIP_15&startdate=2003-07-06&enddate=2003-07-22&stationid=COOP:406806&limit=1000&units=standard\n",
      "Rainfall data processing is done for 3430147 starting from 2003-07-06\n",
      "https://www.ncdc.noaa.gov/cdo-web/api/v2/stations?datasetid=PRECIP_15&startdate=2020-04-03&enddate=2020-04-16&extent=36.06495557&extent=-86.81620105&extent=36.16118001&extent=-86.72033451&limit=1000&units=standard\n",
      "No stations found for 3431300 within the given extent: {'north': 36.16118001, 'south': 36.06495557, 'east': -86.72033451, 'west': -86.81620105}\n",
      "Attempting to expand the extent by 0.2 degrees...\n",
      "https://www.ncdc.noaa.gov/cdo-web/api/v2/stations?datasetid=PRECIP_15&startdate=2020-04-03&enddate=2020-04-16&extent=35.86495557&extent=-87.01620105&extent=36.361180010000005&extent=-86.52033451&limit=1000&units=standard\n",
      "No stations found even after expanding the extent. Skipping this gauge.\n",
      "Rainfall data processing is done for 3431300 starting from 2020-04-03\n",
      "https://www.ncdc.noaa.gov/cdo-web/api/v2/stations?datasetid=PRECIP_15&startdate=2020-04-26&enddate=2020-05-13&extent=36.06439975&extent=-86.91755364&extent=36.1539268&extent=-86.79783154&limit=1000&units=standard\n",
      "No stations found for 3431700 within the given extent: {'north': 36.1539268, 'south': 36.06439975, 'east': -86.79783154, 'west': -86.91755364}\n",
      "Attempting to expand the extent by 0.2 degrees...\n",
      "https://www.ncdc.noaa.gov/cdo-web/api/v2/stations?datasetid=PRECIP_15&startdate=2020-04-26&enddate=2020-05-13&extent=35.86439975&extent=-87.11755364&extent=36.3539268&extent=-86.59783154&limit=1000&units=standard\n",
      "No stations found even after expanding the extent. Skipping this gauge.\n",
      "Rainfall data processing is done for 3431700 starting from 2020-04-26\n",
      "https://www.ncdc.noaa.gov/cdo-web/api/v2/stations?datasetid=PRECIP_15&startdate=2005-07-06&enddate=2005-07-22&extent=35.92571722&extent=-86.86050701&extent=35.99175158&extent=-86.77946158&limit=1000&units=standard\n",
      "No stations found for 3432390 within the given extent: {'north': 35.99175158, 'south': 35.92571722, 'east': -86.77946158, 'west': -86.86050701}\n",
      "Attempting to expand the extent by 0.2 degrees...\n",
      "https://www.ncdc.noaa.gov/cdo-web/api/v2/stations?datasetid=PRECIP_15&startdate=2005-07-06&enddate=2005-07-22&extent=35.72571722&extent=-87.06050701000001&extent=36.19175158&extent=-86.57946158&limit=1000&units=standard\n",
      "No stations found even after expanding the extent. Skipping this gauge.\n",
      "Rainfall data processing is done for 3432390 starting from 2005-07-06\n",
      "https://www.ncdc.noaa.gov/cdo-web/api/v2/stations?datasetid=PRECIP_15&startdate=2020-04-30&enddate=2020-05-16&extent=35.58924747&extent=-83.58869221&extent=35.70895269&extent=-83.38886094&limit=1000&units=standard\n",
      "No stations found for 3469251 within the given extent: {'north': 35.70895269, 'south': 35.58924747, 'east': -83.38886094, 'west': -83.58869221}\n",
      "Attempting to expand the extent by 0.2 degrees...\n",
      "https://www.ncdc.noaa.gov/cdo-web/api/v2/stations?datasetid=PRECIP_15&startdate=2020-04-30&enddate=2020-05-16&extent=35.389247469999994&extent=-83.78869221000001&extent=35.90895269&extent=-83.18886094&limit=1000&units=standard\n",
      "No stations found even after expanding the extent. Skipping this gauge.\n",
      "Rainfall data processing is done for 3469251 starting from 2020-04-30\n",
      "https://www.ncdc.noaa.gov/cdo-web/api/v2/stations?datasetid=PRECIP_15&startdate=2009-07-24&enddate=2009-08-09&extent=36.06203317&extent=-83.93733116&extent=36.15646214&extent=-83.83673724&limit=1000&units=standard\n",
      "No stations found for 35351830 within the given extent: {'north': 36.15646214, 'south': 36.06203317, 'east': -83.83673724, 'west': -83.93733116}\n",
      "Attempting to expand the extent by 0.2 degrees...\n",
      "https://www.ncdc.noaa.gov/cdo-web/api/v2/stations?datasetid=PRECIP_15&startdate=2009-07-24&enddate=2009-08-09&extent=35.86203317&extent=-84.13733116&extent=36.356462140000005&extent=-83.63673724&limit=1000&units=standard\n",
      "No stations found even after expanding the extent. Skipping this gauge.\n",
      "Rainfall data processing is done for 35351830 starting from 2009-07-24\n",
      "https://www.ncdc.noaa.gov/cdo-web/api/v2/stations?datasetid=PRECIP_15&startdate=2004-07-26&enddate=2004-08-08&extent=35.97466049&extent=-84.2748036&extent=36.01601348&extent=-84.22800419&limit=1000&units=standard\n",
      "No stations found for 3538235 within the given extent: {'north': 36.01601348, 'south': 35.97466049, 'east': -84.22800419, 'west': -84.2748036}\n",
      "Attempting to expand the extent by 0.2 degrees...\n",
      "https://www.ncdc.noaa.gov/cdo-web/api/v2/stations?datasetid=PRECIP_15&startdate=2004-07-26&enddate=2004-08-08&extent=35.774660489999995&extent=-84.4748036&extent=36.21601348&extent=-84.02800418999999&limit=1000&units=standard\n",
      "No stations found even after expanding the extent. Skipping this gauge.\n",
      "Rainfall data processing is done for 3538235 starting from 2004-07-26\n",
      "https://www.ncdc.noaa.gov/cdo-web/api/v2/stations?datasetid=PRECIP_15&startdate=2006-07-27&enddate=2006-08-12&extent=35.43234109&extent=-84.61386089&extent=35.5391693&extent=-84.44254838&limit=1000&units=standard\n",
      "No stations found for 3565442 within the given extent: {'north': 35.5391693, 'south': 35.43234109, 'east': -84.44254838, 'west': -84.61386089}\n",
      "Attempting to expand the extent by 0.2 degrees...\n",
      "https://www.ncdc.noaa.gov/cdo-web/api/v2/stations?datasetid=PRECIP_15&startdate=2006-07-27&enddate=2006-08-12&extent=35.23234109&extent=-84.81386089&extent=35.7391693&extent=-84.24254838&limit=1000&units=standard\n",
      "No stations found even after expanding the extent. Skipping this gauge.\n",
      "Rainfall data processing is done for 3565442 starting from 2006-07-27\n",
      "https://www.ncdc.noaa.gov/cdo-web/api/v2/stations?datasetid=PRECIP_15&startdate=2020-04-16&enddate=2020-05-02&extent=34.98438763&extent=-85.07389224&extent=35.07348289&extent=-84.97657938&limit=1000&units=standard\n",
      "No stations found for 3566420 within the given extent: {'north': 35.07348289, 'south': 34.98438763, 'east': -84.97657938, 'west': -85.07389224}\n",
      "Attempting to expand the extent by 0.2 degrees...\n",
      "https://www.ncdc.noaa.gov/cdo-web/api/v2/stations?datasetid=PRECIP_15&startdate=2020-04-16&enddate=2020-05-02&extent=34.78438763&extent=-85.27389224000001&extent=35.273482890000004&extent=-84.77657938&limit=1000&units=standard\n",
      "No stations found even after expanding the extent. Skipping this gauge.\n",
      "Rainfall data processing is done for 3566420 starting from 2020-04-16\n",
      "https://www.ncdc.noaa.gov/cdo-web/api/v2/stations?datasetid=PRECIP_15&startdate=2020-04-16&enddate=2020-05-02&extent=35.50636667&extent=-86.40167047&extent=35.66428&extent=-86.300294&limit=1000&units=standard\n",
      "No stations found for 3597590 within the given extent: {'north': 35.66428, 'south': 35.50636667, 'east': -86.300294, 'west': -86.40167047}\n",
      "Attempting to expand the extent by 0.2 degrees...\n",
      "https://www.ncdc.noaa.gov/cdo-web/api/v2/stations?datasetid=PRECIP_15&startdate=2020-04-16&enddate=2020-05-02&extent=35.306366669999996&extent=-86.60167047&extent=35.86428&extent=-86.10029399999999&limit=1000&units=standard\n",
      "No stations found even after expanding the extent. Skipping this gauge.\n",
      "Rainfall data processing is done for 3597590 starting from 2020-04-16\n",
      "https://www.ncdc.noaa.gov/cdo-web/api/v2/stations?datasetid=PRECIP_15&startdate=2008-08-19&enddate=2008-09-04&extent=35.71191767&extent=-87.05359782&extent=35.82247825&extent=-86.94925584&limit=1000&units=standard\n",
      "No stations found for 3600088 within the given extent: {'north': 35.82247825, 'south': 35.71191767, 'east': -86.94925584, 'west': -87.05359782}\n",
      "Attempting to expand the extent by 0.2 degrees...\n",
      "https://www.ncdc.noaa.gov/cdo-web/api/v2/stations?datasetid=PRECIP_15&startdate=2008-08-19&enddate=2008-09-04&extent=35.511917669999995&extent=-87.25359782&extent=36.022478250000006&extent=-86.74925584&limit=1000&units=standard\n",
      "No stations found even after expanding the extent. Skipping this gauge.\n",
      "Rainfall data processing is done for 3600088 starting from 2008-08-19\n",
      "https://www.ncdc.noaa.gov/cdo-web/api/v2/stations?datasetid=PRECIP_15&startdate=2020-05-06&enddate=2020-05-22&extent=36.02985571&extent=-88.4245398&extent=36.13893026&extent=-88.30413436&limit=1000&units=standard\n",
      "No stations found for 7024200 within the given extent: {'north': 36.13893026, 'south': 36.02985571, 'east': -88.30413436, 'west': -88.4245398}\n",
      "Attempting to expand the extent by 0.2 degrees...\n",
      "https://www.ncdc.noaa.gov/cdo-web/api/v2/stations?datasetid=PRECIP_15&startdate=2020-05-06&enddate=2020-05-22&extent=35.82985571&extent=-88.62453980000001&extent=36.338930260000005&extent=-88.10413436&limit=1000&units=standard\n",
      "No stations found even after expanding the extent. Skipping this gauge.\n",
      "Rainfall data processing is done for 7024200 starting from 2020-05-06\n",
      "https://www.ncdc.noaa.gov/cdo-web/api/v2/stations?datasetid=PRECIP_15&startdate=2012-07-07&enddate=2012-07-24&extent=35.13780356&extent=-89.87493327&extent=35.23990334&extent=-89.74421197&limit=1000&units=standard\n",
      "No stations found for 7031692 within the given extent: {'north': 35.23990334, 'south': 35.13780356, 'east': -89.74421197, 'west': -89.87493327}\n",
      "Attempting to expand the extent by 0.2 degrees...\n",
      "https://www.ncdc.noaa.gov/cdo-web/api/v2/stations?datasetid=PRECIP_15&startdate=2012-07-07&enddate=2012-07-24&extent=34.93780356&extent=-90.07493327&extent=35.43990334&extent=-89.54421196999999&limit=1000&units=standard\n",
      "Warning: could not squash response: \n",
      " <Response [503]>, b'<!DOCTYPE HTML PUBLIC \"-//IETF//DTD HTML 2.0//EN\">\\n<html><head>\\n<title>503 Service Unavailable</title>\\n</head><body>\\n<h1>Service Unavailable</h1>\\n<p>The server is temporarily unable to service your\\nrequest due to maintenance downtime or capacity\\nproblems. Please try again later.</p>\\n<p>Additionally, a 503 Service Unavailable\\nerror was encountered while trying to use an ErrorDocument to handle the request.</p>\\n</body></html>\\n'\n",
      "No stations found even after expanding the extent. Skipping this gauge.\n",
      "Rainfall data processing is done for 7031692 starting from 2012-07-07\n",
      "https://www.ncdc.noaa.gov/cdo-web/api/v2/stations?datasetid=PRECIP_15&startdate=2003-07-24&enddate=2003-08-09&extent=36.14948376&extent=-86.61437007&extent=36.23681666&extent=-86.4603212&limit=1000&units=standard\n",
      "No stations found for 3430147 within the given extent: {'north': 36.23681666, 'south': 36.14948376, 'east': -86.4603212, 'west': -86.61437007}\n",
      "Attempting to expand the extent by 0.2 degrees...\n",
      "https://www.ncdc.noaa.gov/cdo-web/api/v2/stations?datasetid=PRECIP_15&startdate=2003-07-24&enddate=2003-08-09&extent=35.94948376&extent=-86.81437007000001&extent=36.436816660000005&extent=-86.26032119999999&limit=1000&units=standard\n",
      "https://www.ncdc.noaa.gov/cdo-web/api/v2/data?datasetid=PRECIP_15&startdate=2003-07-24&enddate=2003-08-09&stationid=COOP:405108&limit=1000&units=standard\n",
      "https://www.ncdc.noaa.gov/cdo-web/api/v2/data?datasetid=PRECIP_15&startdate=2003-07-24&enddate=2003-08-09&stationid=COOP:406806&limit=1000&units=standard\n",
      "Rainfall data processing is done for 3430147 starting from 2003-07-24\n",
      "https://www.ncdc.noaa.gov/cdo-web/api/v2/stations?datasetid=PRECIP_15&startdate=2020-04-06&enddate=2020-04-20&extent=36.06495557&extent=-86.81620105&extent=36.16118001&extent=-86.72033451&limit=1000&units=standard\n",
      "No stations found for 3431300 within the given extent: {'north': 36.16118001, 'south': 36.06495557, 'east': -86.72033451, 'west': -86.81620105}\n",
      "Attempting to expand the extent by 0.2 degrees...\n",
      "https://www.ncdc.noaa.gov/cdo-web/api/v2/stations?datasetid=PRECIP_15&startdate=2020-04-06&enddate=2020-04-20&extent=35.86495557&extent=-87.01620105&extent=36.361180010000005&extent=-86.52033451&limit=1000&units=standard\n",
      "No stations found even after expanding the extent. Skipping this gauge.\n",
      "Rainfall data processing is done for 3431300 starting from 2020-04-06\n",
      "https://www.ncdc.noaa.gov/cdo-web/api/v2/stations?datasetid=PRECIP_15&startdate=2020-04-28&enddate=2020-05-14&extent=36.06439975&extent=-86.91755364&extent=36.1539268&extent=-86.79783154&limit=1000&units=standard\n",
      "No stations found for 3431700 within the given extent: {'north': 36.1539268, 'south': 36.06439975, 'east': -86.79783154, 'west': -86.91755364}\n",
      "Attempting to expand the extent by 0.2 degrees...\n",
      "https://www.ncdc.noaa.gov/cdo-web/api/v2/stations?datasetid=PRECIP_15&startdate=2020-04-28&enddate=2020-05-14&extent=35.86439975&extent=-87.11755364&extent=36.3539268&extent=-86.59783154&limit=1000&units=standard\n",
      "No stations found even after expanding the extent. Skipping this gauge.\n",
      "Rainfall data processing is done for 3431700 starting from 2020-04-28\n",
      "https://www.ncdc.noaa.gov/cdo-web/api/v2/stations?datasetid=PRECIP_15&startdate=2005-07-07&enddate=2005-07-23&extent=35.92571722&extent=-86.86050701&extent=35.99175158&extent=-86.77946158&limit=1000&units=standard\n",
      "No stations found for 3432390 within the given extent: {'north': 35.99175158, 'south': 35.92571722, 'east': -86.77946158, 'west': -86.86050701}\n",
      "Attempting to expand the extent by 0.2 degrees...\n",
      "https://www.ncdc.noaa.gov/cdo-web/api/v2/stations?datasetid=PRECIP_15&startdate=2005-07-07&enddate=2005-07-23&extent=35.72571722&extent=-87.06050701000001&extent=36.19175158&extent=-86.57946158&limit=1000&units=standard\n",
      "No stations found even after expanding the extent. Skipping this gauge.\n",
      "Rainfall data processing is done for 3432390 starting from 2005-07-07\n",
      "https://www.ncdc.noaa.gov/cdo-web/api/v2/stations?datasetid=PRECIP_15&startdate=2020-05-02&enddate=2020-05-18&extent=35.58924747&extent=-83.58869221&extent=35.70895269&extent=-83.38886094&limit=1000&units=standard\n",
      "No stations found for 3469251 within the given extent: {'north': 35.70895269, 'south': 35.58924747, 'east': -83.38886094, 'west': -83.58869221}\n",
      "Attempting to expand the extent by 0.2 degrees...\n",
      "https://www.ncdc.noaa.gov/cdo-web/api/v2/stations?datasetid=PRECIP_15&startdate=2020-05-02&enddate=2020-05-18&extent=35.389247469999994&extent=-83.78869221000001&extent=35.90895269&extent=-83.18886094&limit=1000&units=standard\n",
      "No stations found even after expanding the extent. Skipping this gauge.\n",
      "Rainfall data processing is done for 3469251 starting from 2020-05-02\n",
      "https://www.ncdc.noaa.gov/cdo-web/api/v2/stations?datasetid=PRECIP_15&startdate=2009-07-29&enddate=2009-08-14&extent=36.06203317&extent=-83.93733116&extent=36.15646214&extent=-83.83673724&limit=1000&units=standard\n",
      "No stations found for 35351830 within the given extent: {'north': 36.15646214, 'south': 36.06203317, 'east': -83.83673724, 'west': -83.93733116}\n",
      "Attempting to expand the extent by 0.2 degrees...\n",
      "https://www.ncdc.noaa.gov/cdo-web/api/v2/stations?datasetid=PRECIP_15&startdate=2009-07-29&enddate=2009-08-14&extent=35.86203317&extent=-84.13733116&extent=36.356462140000005&extent=-83.63673724&limit=1000&units=standard\n",
      "No stations found even after expanding the extent. Skipping this gauge.\n",
      "Rainfall data processing is done for 35351830 starting from 2009-07-29\n",
      "https://www.ncdc.noaa.gov/cdo-web/api/v2/stations?datasetid=PRECIP_15&startdate=2004-08-06&enddate=2004-08-20&extent=35.97466049&extent=-84.2748036&extent=36.01601348&extent=-84.22800419&limit=1000&units=standard\n",
      "No stations found for 3538235 within the given extent: {'north': 36.01601348, 'south': 35.97466049, 'east': -84.22800419, 'west': -84.2748036}\n",
      "Attempting to expand the extent by 0.2 degrees...\n",
      "https://www.ncdc.noaa.gov/cdo-web/api/v2/stations?datasetid=PRECIP_15&startdate=2004-08-06&enddate=2004-08-20&extent=35.774660489999995&extent=-84.4748036&extent=36.21601348&extent=-84.02800418999999&limit=1000&units=standard\n",
      "No stations found even after expanding the extent. Skipping this gauge.\n",
      "Rainfall data processing is done for 3538235 starting from 2004-08-06\n",
      "https://www.ncdc.noaa.gov/cdo-web/api/v2/stations?datasetid=PRECIP_15&startdate=2006-08-04&enddate=2006-08-20&extent=35.43234109&extent=-84.61386089&extent=35.5391693&extent=-84.44254838&limit=1000&units=standard\n",
      "No stations found for 3565442 within the given extent: {'north': 35.5391693, 'south': 35.43234109, 'east': -84.44254838, 'west': -84.61386089}\n",
      "Attempting to expand the extent by 0.2 degrees...\n",
      "https://www.ncdc.noaa.gov/cdo-web/api/v2/stations?datasetid=PRECIP_15&startdate=2006-08-04&enddate=2006-08-20&extent=35.23234109&extent=-84.81386089&extent=35.7391693&extent=-84.24254838&limit=1000&units=standard\n",
      "No stations found even after expanding the extent. Skipping this gauge.\n",
      "Rainfall data processing is done for 3565442 starting from 2006-08-04\n",
      "https://www.ncdc.noaa.gov/cdo-web/api/v2/stations?datasetid=PRECIP_15&startdate=2020-04-23&enddate=2020-05-09&extent=34.98438763&extent=-85.07389224&extent=35.07348289&extent=-84.97657938&limit=1000&units=standard\n",
      "No stations found for 3566420 within the given extent: {'north': 35.07348289, 'south': 34.98438763, 'east': -84.97657938, 'west': -85.07389224}\n",
      "Attempting to expand the extent by 0.2 degrees...\n",
      "https://www.ncdc.noaa.gov/cdo-web/api/v2/stations?datasetid=PRECIP_15&startdate=2020-04-23&enddate=2020-05-09&extent=34.78438763&extent=-85.27389224000001&extent=35.273482890000004&extent=-84.77657938&limit=1000&units=standard\n",
      "No stations found even after expanding the extent. Skipping this gauge.\n",
      "Rainfall data processing is done for 3566420 starting from 2020-04-23\n",
      "https://www.ncdc.noaa.gov/cdo-web/api/v2/stations?datasetid=PRECIP_15&startdate=2020-04-17&enddate=2020-05-03&extent=35.50636667&extent=-86.40167047&extent=35.66428&extent=-86.300294&limit=1000&units=standard\n",
      "No stations found for 3597590 within the given extent: {'north': 35.66428, 'south': 35.50636667, 'east': -86.300294, 'west': -86.40167047}\n",
      "Attempting to expand the extent by 0.2 degrees...\n",
      "https://www.ncdc.noaa.gov/cdo-web/api/v2/stations?datasetid=PRECIP_15&startdate=2020-04-17&enddate=2020-05-03&extent=35.306366669999996&extent=-86.60167047&extent=35.86428&extent=-86.10029399999999&limit=1000&units=standard\n",
      "No stations found even after expanding the extent. Skipping this gauge.\n",
      "Rainfall data processing is done for 3597590 starting from 2020-04-17\n",
      "https://www.ncdc.noaa.gov/cdo-web/api/v2/stations?datasetid=PRECIP_15&startdate=2020-05-11&enddate=2020-05-27&extent=36.02985571&extent=-88.4245398&extent=36.13893026&extent=-88.30413436&limit=1000&units=standard\n",
      "No stations found for 7024200 within the given extent: {'north': 36.13893026, 'south': 36.02985571, 'east': -88.30413436, 'west': -88.4245398}\n",
      "Attempting to expand the extent by 0.2 degrees...\n",
      "https://www.ncdc.noaa.gov/cdo-web/api/v2/stations?datasetid=PRECIP_15&startdate=2020-05-11&enddate=2020-05-27&extent=35.82985571&extent=-88.62453980000001&extent=36.338930260000005&extent=-88.10413436&limit=1000&units=standard\n",
      "No stations found even after expanding the extent. Skipping this gauge.\n",
      "Rainfall data processing is done for 7024200 starting from 2020-05-11\n",
      "https://www.ncdc.noaa.gov/cdo-web/api/v2/stations?datasetid=PRECIP_15&startdate=2012-07-27&enddate=2012-08-12&extent=35.13780356&extent=-89.87493327&extent=35.23990334&extent=-89.74421197&limit=1000&units=standard\n",
      "No stations found for 7031692 within the given extent: {'north': 35.23990334, 'south': 35.13780356, 'east': -89.74421197, 'west': -89.87493327}\n",
      "Attempting to expand the extent by 0.2 degrees...\n",
      "https://www.ncdc.noaa.gov/cdo-web/api/v2/stations?datasetid=PRECIP_15&startdate=2012-07-27&enddate=2012-08-12&extent=34.93780356&extent=-90.07493327&extent=35.43990334&extent=-89.54421196999999&limit=1000&units=standard\n",
      "https://www.ncdc.noaa.gov/cdo-web/api/v2/data?datasetid=PRECIP_15&startdate=2012-07-27&enddate=2012-08-12&stationid=COOP:405956&limit=1000&units=standard\n",
      "Rainfall data processing is done for 7031692 starting from 2012-07-27\n",
      "https://www.ncdc.noaa.gov/cdo-web/api/v2/stations?datasetid=PRECIP_15&startdate=2003-07-27&enddate=2003-08-12&extent=36.14948376&extent=-86.61437007&extent=36.23681666&extent=-86.4603212&limit=1000&units=standard\n",
      "No stations found for 3430147 within the given extent: {'north': 36.23681666, 'south': 36.14948376, 'east': -86.4603212, 'west': -86.61437007}\n",
      "Attempting to expand the extent by 0.2 degrees...\n",
      "https://www.ncdc.noaa.gov/cdo-web/api/v2/stations?datasetid=PRECIP_15&startdate=2003-07-27&enddate=2003-08-12&extent=35.94948376&extent=-86.81437007000001&extent=36.436816660000005&extent=-86.26032119999999&limit=1000&units=standard\n",
      "https://www.ncdc.noaa.gov/cdo-web/api/v2/data?datasetid=PRECIP_15&startdate=2003-07-27&enddate=2003-08-12&stationid=COOP:405108&limit=1000&units=standard\n",
      "https://www.ncdc.noaa.gov/cdo-web/api/v2/data?datasetid=PRECIP_15&startdate=2003-07-27&enddate=2003-08-12&stationid=COOP:406806&limit=1000&units=standard\n",
      "Rainfall data processing is done for 3430147 starting from 2003-07-27\n",
      "https://www.ncdc.noaa.gov/cdo-web/api/v2/stations?datasetid=PRECIP_15&startdate=2020-04-07&enddate=2020-04-20&extent=36.06495557&extent=-86.81620105&extent=36.16118001&extent=-86.72033451&limit=1000&units=standard\n",
      "No stations found for 3431300 within the given extent: {'north': 36.16118001, 'south': 36.06495557, 'east': -86.72033451, 'west': -86.81620105}\n",
      "Attempting to expand the extent by 0.2 degrees...\n",
      "https://www.ncdc.noaa.gov/cdo-web/api/v2/stations?datasetid=PRECIP_15&startdate=2020-04-07&enddate=2020-04-20&extent=35.86495557&extent=-87.01620105&extent=36.361180010000005&extent=-86.52033451&limit=1000&units=standard\n",
      "No stations found even after expanding the extent. Skipping this gauge.\n",
      "Rainfall data processing is done for 3431300 starting from 2020-04-07\n",
      "https://www.ncdc.noaa.gov/cdo-web/api/v2/stations?datasetid=PRECIP_15&startdate=2020-05-29&enddate=2020-06-14&extent=36.06439975&extent=-86.91755364&extent=36.1539268&extent=-86.79783154&limit=1000&units=standard\n",
      "No stations found for 3431700 within the given extent: {'north': 36.1539268, 'south': 36.06439975, 'east': -86.79783154, 'west': -86.91755364}\n",
      "Attempting to expand the extent by 0.2 degrees...\n",
      "https://www.ncdc.noaa.gov/cdo-web/api/v2/stations?datasetid=PRECIP_15&startdate=2020-05-29&enddate=2020-06-14&extent=35.86439975&extent=-87.11755364&extent=36.3539268&extent=-86.59783154&limit=1000&units=standard\n",
      "No stations found even after expanding the extent. Skipping this gauge.\n",
      "Rainfall data processing is done for 3431700 starting from 2020-05-29\n",
      "https://www.ncdc.noaa.gov/cdo-web/api/v2/stations?datasetid=PRECIP_15&startdate=2005-07-07&enddate=2005-07-24&extent=35.92571722&extent=-86.86050701&extent=35.99175158&extent=-86.77946158&limit=1000&units=standard\n",
      "No stations found for 3432390 within the given extent: {'north': 35.99175158, 'south': 35.92571722, 'east': -86.77946158, 'west': -86.86050701}\n",
      "Attempting to expand the extent by 0.2 degrees...\n",
      "https://www.ncdc.noaa.gov/cdo-web/api/v2/stations?datasetid=PRECIP_15&startdate=2005-07-07&enddate=2005-07-24&extent=35.72571722&extent=-87.06050701000001&extent=36.19175158&extent=-86.57946158&limit=1000&units=standard\n",
      "No stations found even after expanding the extent. Skipping this gauge.\n",
      "Rainfall data processing is done for 3432390 starting from 2005-07-07\n",
      "https://www.ncdc.noaa.gov/cdo-web/api/v2/stations?datasetid=PRECIP_15&startdate=2020-05-12&enddate=2020-05-28&extent=35.58924747&extent=-83.58869221&extent=35.70895269&extent=-83.38886094&limit=1000&units=standard\n",
      "No stations found for 3469251 within the given extent: {'north': 35.70895269, 'south': 35.58924747, 'east': -83.38886094, 'west': -83.58869221}\n",
      "Attempting to expand the extent by 0.2 degrees...\n",
      "https://www.ncdc.noaa.gov/cdo-web/api/v2/stations?datasetid=PRECIP_15&startdate=2020-05-12&enddate=2020-05-28&extent=35.389247469999994&extent=-83.78869221000001&extent=35.90895269&extent=-83.18886094&limit=1000&units=standard\n",
      "No stations found even after expanding the extent. Skipping this gauge.\n",
      "Rainfall data processing is done for 3469251 starting from 2020-05-12\n",
      "https://www.ncdc.noaa.gov/cdo-web/api/v2/stations?datasetid=PRECIP_15&startdate=2009-08-14&enddate=2009-08-30&extent=36.06203317&extent=-83.93733116&extent=36.15646214&extent=-83.83673724&limit=1000&units=standard\n",
      "No stations found for 35351830 within the given extent: {'north': 36.15646214, 'south': 36.06203317, 'east': -83.83673724, 'west': -83.93733116}\n",
      "Attempting to expand the extent by 0.2 degrees...\n",
      "https://www.ncdc.noaa.gov/cdo-web/api/v2/stations?datasetid=PRECIP_15&startdate=2009-08-14&enddate=2009-08-30&extent=35.86203317&extent=-84.13733116&extent=36.356462140000005&extent=-83.63673724&limit=1000&units=standard\n",
      "No stations found even after expanding the extent. Skipping this gauge.\n",
      "Rainfall data processing is done for 35351830 starting from 2009-08-14\n",
      "https://www.ncdc.noaa.gov/cdo-web/api/v2/stations?datasetid=PRECIP_15&startdate=2004-08-15&enddate=2004-08-29&extent=35.97466049&extent=-84.2748036&extent=36.01601348&extent=-84.22800419&limit=1000&units=standard\n",
      "No stations found for 3538235 within the given extent: {'north': 36.01601348, 'south': 35.97466049, 'east': -84.22800419, 'west': -84.2748036}\n",
      "Attempting to expand the extent by 0.2 degrees...\n",
      "https://www.ncdc.noaa.gov/cdo-web/api/v2/stations?datasetid=PRECIP_15&startdate=2004-08-15&enddate=2004-08-29&extent=35.774660489999995&extent=-84.4748036&extent=36.21601348&extent=-84.02800418999999&limit=1000&units=standard\n",
      "No stations found even after expanding the extent. Skipping this gauge.\n",
      "Rainfall data processing is done for 3538235 starting from 2004-08-15\n",
      "https://www.ncdc.noaa.gov/cdo-web/api/v2/stations?datasetid=PRECIP_15&startdate=2006-08-08&enddate=2006-08-25&extent=35.43234109&extent=-84.61386089&extent=35.5391693&extent=-84.44254838&limit=1000&units=standard\n",
      "No stations found for 3565442 within the given extent: {'north': 35.5391693, 'south': 35.43234109, 'east': -84.44254838, 'west': -84.61386089}\n",
      "Attempting to expand the extent by 0.2 degrees...\n",
      "https://www.ncdc.noaa.gov/cdo-web/api/v2/stations?datasetid=PRECIP_15&startdate=2006-08-08&enddate=2006-08-25&extent=35.23234109&extent=-84.81386089&extent=35.7391693&extent=-84.24254838&limit=1000&units=standard\n",
      "No stations found even after expanding the extent. Skipping this gauge.\n",
      "Rainfall data processing is done for 3565442 starting from 2006-08-08\n",
      "https://www.ncdc.noaa.gov/cdo-web/api/v2/stations?datasetid=PRECIP_15&startdate=2020-04-28&enddate=2020-05-14&extent=34.98438763&extent=-85.07389224&extent=35.07348289&extent=-84.97657938&limit=1000&units=standard\n",
      "No stations found for 3566420 within the given extent: {'north': 35.07348289, 'south': 34.98438763, 'east': -84.97657938, 'west': -85.07389224}\n",
      "Attempting to expand the extent by 0.2 degrees...\n",
      "https://www.ncdc.noaa.gov/cdo-web/api/v2/stations?datasetid=PRECIP_15&startdate=2020-04-28&enddate=2020-05-14&extent=34.78438763&extent=-85.27389224000001&extent=35.273482890000004&extent=-84.77657938&limit=1000&units=standard\n",
      "No stations found even after expanding the extent. Skipping this gauge.\n",
      "Rainfall data processing is done for 3566420 starting from 2020-04-28\n",
      "https://www.ncdc.noaa.gov/cdo-web/api/v2/stations?datasetid=PRECIP_15&startdate=2020-04-28&enddate=2020-05-14&extent=35.50636667&extent=-86.40167047&extent=35.66428&extent=-86.300294&limit=1000&units=standard\n",
      "No stations found for 3597590 within the given extent: {'north': 35.66428, 'south': 35.50636667, 'east': -86.300294, 'west': -86.40167047}\n",
      "Attempting to expand the extent by 0.2 degrees...\n",
      "https://www.ncdc.noaa.gov/cdo-web/api/v2/stations?datasetid=PRECIP_15&startdate=2020-04-28&enddate=2020-05-14&extent=35.306366669999996&extent=-86.60167047&extent=35.86428&extent=-86.10029399999999&limit=1000&units=standard\n",
      "No stations found even after expanding the extent. Skipping this gauge.\n",
      "Rainfall data processing is done for 3597590 starting from 2020-04-28\n",
      "https://www.ncdc.noaa.gov/cdo-web/api/v2/stations?datasetid=PRECIP_15&startdate=2020-05-17&enddate=2020-06-02&extent=36.02985571&extent=-88.4245398&extent=36.13893026&extent=-88.30413436&limit=1000&units=standard\n",
      "No stations found for 7024200 within the given extent: {'north': 36.13893026, 'south': 36.02985571, 'east': -88.30413436, 'west': -88.4245398}\n",
      "Attempting to expand the extent by 0.2 degrees...\n",
      "https://www.ncdc.noaa.gov/cdo-web/api/v2/stations?datasetid=PRECIP_15&startdate=2020-05-17&enddate=2020-06-02&extent=35.82985571&extent=-88.62453980000001&extent=36.338930260000005&extent=-88.10413436&limit=1000&units=standard\n",
      "No stations found even after expanding the extent. Skipping this gauge.\n",
      "Rainfall data processing is done for 7024200 starting from 2020-05-17\n",
      "https://www.ncdc.noaa.gov/cdo-web/api/v2/stations?datasetid=PRECIP_15&startdate=2012-08-07&enddate=2012-08-23&extent=35.13780356&extent=-89.87493327&extent=35.23990334&extent=-89.74421197&limit=1000&units=standard\n",
      "No stations found for 7031692 within the given extent: {'north': 35.23990334, 'south': 35.13780356, 'east': -89.74421197, 'west': -89.87493327}\n",
      "Attempting to expand the extent by 0.2 degrees...\n",
      "https://www.ncdc.noaa.gov/cdo-web/api/v2/stations?datasetid=PRECIP_15&startdate=2012-08-07&enddate=2012-08-23&extent=34.93780356&extent=-90.07493327&extent=35.43990334&extent=-89.54421196999999&limit=1000&units=standard\n",
      "https://www.ncdc.noaa.gov/cdo-web/api/v2/data?datasetid=PRECIP_15&startdate=2012-08-07&enddate=2012-08-23&stationid=COOP:405956&limit=1000&units=standard\n",
      "Rainfall data processing is done for 7031692 starting from 2012-08-07\n",
      "https://www.ncdc.noaa.gov/cdo-web/api/v2/stations?datasetid=PRECIP_15&startdate=2003-08-23&enddate=2003-09-09&extent=36.14948376&extent=-86.61437007&extent=36.23681666&extent=-86.4603212&limit=1000&units=standard\n",
      "No stations found for 3430147 within the given extent: {'north': 36.23681666, 'south': 36.14948376, 'east': -86.4603212, 'west': -86.61437007}\n",
      "Attempting to expand the extent by 0.2 degrees...\n",
      "https://www.ncdc.noaa.gov/cdo-web/api/v2/stations?datasetid=PRECIP_15&startdate=2003-08-23&enddate=2003-09-09&extent=35.94948376&extent=-86.81437007000001&extent=36.436816660000005&extent=-86.26032119999999&limit=1000&units=standard\n",
      "https://www.ncdc.noaa.gov/cdo-web/api/v2/data?datasetid=PRECIP_15&startdate=2003-08-23&enddate=2003-09-09&stationid=COOP:405108&limit=1000&units=standard\n",
      "https://www.ncdc.noaa.gov/cdo-web/api/v2/data?datasetid=PRECIP_15&startdate=2003-08-23&enddate=2003-09-09&stationid=COOP:406806&limit=1000&units=standard\n",
      "Rainfall data processing is done for 3430147 starting from 2003-08-23\n",
      "https://www.ncdc.noaa.gov/cdo-web/api/v2/stations?datasetid=PRECIP_15&startdate=2020-04-07&enddate=2020-04-21&extent=36.06495557&extent=-86.81620105&extent=36.16118001&extent=-86.72033451&limit=1000&units=standard\n",
      "No stations found for 3431300 within the given extent: {'north': 36.16118001, 'south': 36.06495557, 'east': -86.72033451, 'west': -86.81620105}\n",
      "Attempting to expand the extent by 0.2 degrees...\n",
      "https://www.ncdc.noaa.gov/cdo-web/api/v2/stations?datasetid=PRECIP_15&startdate=2020-04-07&enddate=2020-04-21&extent=35.86495557&extent=-87.01620105&extent=36.361180010000005&extent=-86.52033451&limit=1000&units=standard\n",
      "No stations found even after expanding the extent. Skipping this gauge.\n",
      "Rainfall data processing is done for 3431300 starting from 2020-04-07\n",
      "https://www.ncdc.noaa.gov/cdo-web/api/v2/stations?datasetid=PRECIP_15&startdate=2020-06-14&enddate=2020-06-30&extent=36.06439975&extent=-86.91755364&extent=36.1539268&extent=-86.79783154&limit=1000&units=standard\n",
      "No stations found for 3431700 within the given extent: {'north': 36.1539268, 'south': 36.06439975, 'east': -86.79783154, 'west': -86.91755364}\n",
      "Attempting to expand the extent by 0.2 degrees...\n",
      "https://www.ncdc.noaa.gov/cdo-web/api/v2/stations?datasetid=PRECIP_15&startdate=2020-06-14&enddate=2020-06-30&extent=35.86439975&extent=-87.11755364&extent=36.3539268&extent=-86.59783154&limit=1000&units=standard\n",
      "No stations found even after expanding the extent. Skipping this gauge.\n",
      "Rainfall data processing is done for 3431700 starting from 2020-06-14\n",
      "https://www.ncdc.noaa.gov/cdo-web/api/v2/stations?datasetid=PRECIP_15&startdate=2005-07-12&enddate=2005-07-28&extent=35.92571722&extent=-86.86050701&extent=35.99175158&extent=-86.77946158&limit=1000&units=standard\n",
      "No stations found for 3432390 within the given extent: {'north': 35.99175158, 'south': 35.92571722, 'east': -86.77946158, 'west': -86.86050701}\n",
      "Attempting to expand the extent by 0.2 degrees...\n",
      "https://www.ncdc.noaa.gov/cdo-web/api/v2/stations?datasetid=PRECIP_15&startdate=2005-07-12&enddate=2005-07-28&extent=35.72571722&extent=-87.06050701000001&extent=36.19175158&extent=-86.57946158&limit=1000&units=standard\n",
      "No stations found even after expanding the extent. Skipping this gauge.\n",
      "Rainfall data processing is done for 3432390 starting from 2005-07-12\n",
      "https://www.ncdc.noaa.gov/cdo-web/api/v2/stations?datasetid=PRECIP_15&startdate=2020-05-15&enddate=2020-06-01&extent=35.58924747&extent=-83.58869221&extent=35.70895269&extent=-83.38886094&limit=1000&units=standard\n",
      "No stations found for 3469251 within the given extent: {'north': 35.70895269, 'south': 35.58924747, 'east': -83.38886094, 'west': -83.58869221}\n",
      "Attempting to expand the extent by 0.2 degrees...\n",
      "https://www.ncdc.noaa.gov/cdo-web/api/v2/stations?datasetid=PRECIP_15&startdate=2020-05-15&enddate=2020-06-01&extent=35.389247469999994&extent=-83.78869221000001&extent=35.90895269&extent=-83.18886094&limit=1000&units=standard\n",
      "No stations found even after expanding the extent. Skipping this gauge.\n",
      "Rainfall data processing is done for 3469251 starting from 2020-05-15\n",
      "https://www.ncdc.noaa.gov/cdo-web/api/v2/stations?datasetid=PRECIP_15&startdate=2004-08-19&enddate=2004-09-01&extent=35.97466049&extent=-84.2748036&extent=36.01601348&extent=-84.22800419&limit=1000&units=standard\n",
      "No stations found for 3538235 within the given extent: {'north': 36.01601348, 'south': 35.97466049, 'east': -84.22800419, 'west': -84.2748036}\n",
      "Attempting to expand the extent by 0.2 degrees...\n",
      "https://www.ncdc.noaa.gov/cdo-web/api/v2/stations?datasetid=PRECIP_15&startdate=2004-08-19&enddate=2004-09-01&extent=35.774660489999995&extent=-84.4748036&extent=36.21601348&extent=-84.02800418999999&limit=1000&units=standard\n",
      "No stations found even after expanding the extent. Skipping this gauge.\n",
      "Rainfall data processing is done for 3538235 starting from 2004-08-19\n",
      "https://www.ncdc.noaa.gov/cdo-web/api/v2/stations?datasetid=PRECIP_15&startdate=2006-08-13&enddate=2006-08-29&extent=35.43234109&extent=-84.61386089&extent=35.5391693&extent=-84.44254838&limit=1000&units=standard\n",
      "No stations found for 3565442 within the given extent: {'north': 35.5391693, 'south': 35.43234109, 'east': -84.44254838, 'west': -84.61386089}\n",
      "Attempting to expand the extent by 0.2 degrees...\n",
      "https://www.ncdc.noaa.gov/cdo-web/api/v2/stations?datasetid=PRECIP_15&startdate=2006-08-13&enddate=2006-08-29&extent=35.23234109&extent=-84.81386089&extent=35.7391693&extent=-84.24254838&limit=1000&units=standard\n",
      "No stations found even after expanding the extent. Skipping this gauge.\n",
      "Rainfall data processing is done for 3565442 starting from 2006-08-13\n",
      "https://www.ncdc.noaa.gov/cdo-web/api/v2/stations?datasetid=PRECIP_15&startdate=2020-05-12&enddate=2020-05-28&extent=34.98438763&extent=-85.07389224&extent=35.07348289&extent=-84.97657938&limit=1000&units=standard\n",
      "No stations found for 3566420 within the given extent: {'north': 35.07348289, 'south': 34.98438763, 'east': -84.97657938, 'west': -85.07389224}\n",
      "Attempting to expand the extent by 0.2 degrees...\n",
      "https://www.ncdc.noaa.gov/cdo-web/api/v2/stations?datasetid=PRECIP_15&startdate=2020-05-12&enddate=2020-05-28&extent=34.78438763&extent=-85.27389224000001&extent=35.273482890000004&extent=-84.77657938&limit=1000&units=standard\n",
      "No stations found even after expanding the extent. Skipping this gauge.\n",
      "Rainfall data processing is done for 3566420 starting from 2020-05-12\n",
      "https://www.ncdc.noaa.gov/cdo-web/api/v2/stations?datasetid=PRECIP_15&startdate=2020-05-11&enddate=2020-05-27&extent=35.50636667&extent=-86.40167047&extent=35.66428&extent=-86.300294&limit=1000&units=standard\n",
      "No stations found for 3597590 within the given extent: {'north': 35.66428, 'south': 35.50636667, 'east': -86.300294, 'west': -86.40167047}\n",
      "Attempting to expand the extent by 0.2 degrees...\n",
      "https://www.ncdc.noaa.gov/cdo-web/api/v2/stations?datasetid=PRECIP_15&startdate=2020-05-11&enddate=2020-05-27&extent=35.306366669999996&extent=-86.60167047&extent=35.86428&extent=-86.10029399999999&limit=1000&units=standard\n",
      "No stations found even after expanding the extent. Skipping this gauge.\n",
      "Rainfall data processing is done for 3597590 starting from 2020-05-11\n",
      "https://www.ncdc.noaa.gov/cdo-web/api/v2/stations?datasetid=PRECIP_15&startdate=2020-05-20&enddate=2020-06-05&extent=36.02985571&extent=-88.4245398&extent=36.13893026&extent=-88.30413436&limit=1000&units=standard\n",
      "No stations found for 7024200 within the given extent: {'north': 36.13893026, 'south': 36.02985571, 'east': -88.30413436, 'west': -88.4245398}\n",
      "Attempting to expand the extent by 0.2 degrees...\n",
      "https://www.ncdc.noaa.gov/cdo-web/api/v2/stations?datasetid=PRECIP_15&startdate=2020-05-20&enddate=2020-06-05&extent=35.82985571&extent=-88.62453980000001&extent=36.338930260000005&extent=-88.10413436&limit=1000&units=standard\n",
      "Warning: could not squash response: \n",
      " <Response [503]>, b'<!DOCTYPE HTML PUBLIC \"-//IETF//DTD HTML 2.0//EN\">\\n<html><head>\\n<title>503 Service Unavailable</title>\\n</head><body>\\n<h1>Service Unavailable</h1>\\n<p>The server is temporarily unable to service your\\nrequest due to maintenance downtime or capacity\\nproblems. Please try again later.</p>\\n<p>Additionally, a 503 Service Unavailable\\nerror was encountered while trying to use an ErrorDocument to handle the request.</p>\\n</body></html>\\n'\n",
      "No stations found even after expanding the extent. Skipping this gauge.\n",
      "Rainfall data processing is done for 7024200 starting from 2020-05-20\n",
      "https://www.ncdc.noaa.gov/cdo-web/api/v2/stations?datasetid=PRECIP_15&startdate=2012-08-10&enddate=2012-08-26&extent=35.13780356&extent=-89.87493327&extent=35.23990334&extent=-89.74421197&limit=1000&units=standard\n",
      "No stations found for 7031692 within the given extent: {'north': 35.23990334, 'south': 35.13780356, 'east': -89.74421197, 'west': -89.87493327}\n",
      "Attempting to expand the extent by 0.2 degrees...\n",
      "https://www.ncdc.noaa.gov/cdo-web/api/v2/stations?datasetid=PRECIP_15&startdate=2012-08-10&enddate=2012-08-26&extent=34.93780356&extent=-90.07493327&extent=35.43990334&extent=-89.54421196999999&limit=1000&units=standard\n",
      "https://www.ncdc.noaa.gov/cdo-web/api/v2/data?datasetid=PRECIP_15&startdate=2012-08-10&enddate=2012-08-26&stationid=COOP:405956&limit=1000&units=standard\n",
      "Rainfall data processing is done for 7031692 starting from 2012-08-10\n",
      "https://www.ncdc.noaa.gov/cdo-web/api/v2/stations?datasetid=PRECIP_15&startdate=2003-08-24&enddate=2003-09-10&extent=36.14948376&extent=-86.61437007&extent=36.23681666&extent=-86.4603212&limit=1000&units=standard\n",
      "No stations found for 3430147 within the given extent: {'north': 36.23681666, 'south': 36.14948376, 'east': -86.4603212, 'west': -86.61437007}\n",
      "Attempting to expand the extent by 0.2 degrees...\n",
      "https://www.ncdc.noaa.gov/cdo-web/api/v2/stations?datasetid=PRECIP_15&startdate=2003-08-24&enddate=2003-09-10&extent=35.94948376&extent=-86.81437007000001&extent=36.436816660000005&extent=-86.26032119999999&limit=1000&units=standard\n",
      "https://www.ncdc.noaa.gov/cdo-web/api/v2/data?datasetid=PRECIP_15&startdate=2003-08-24&enddate=2003-09-10&stationid=COOP:405108&limit=1000&units=standard\n",
      "https://www.ncdc.noaa.gov/cdo-web/api/v2/data?datasetid=PRECIP_15&startdate=2003-08-24&enddate=2003-09-10&stationid=COOP:406806&limit=1000&units=standard\n",
      "Rainfall data processing is done for 3430147 starting from 2003-08-24\n",
      "https://www.ncdc.noaa.gov/cdo-web/api/v2/stations?datasetid=PRECIP_15&startdate=2020-04-12&enddate=2020-04-25&extent=36.06495557&extent=-86.81620105&extent=36.16118001&extent=-86.72033451&limit=1000&units=standard\n",
      "No stations found for 3431300 within the given extent: {'north': 36.16118001, 'south': 36.06495557, 'east': -86.72033451, 'west': -86.81620105}\n",
      "Attempting to expand the extent by 0.2 degrees...\n",
      "https://www.ncdc.noaa.gov/cdo-web/api/v2/stations?datasetid=PRECIP_15&startdate=2020-04-12&enddate=2020-04-25&extent=35.86495557&extent=-87.01620105&extent=36.361180010000005&extent=-86.52033451&limit=1000&units=standard\n",
      "No stations found even after expanding the extent. Skipping this gauge.\n",
      "Rainfall data processing is done for 3431300 starting from 2020-04-12\n",
      "https://www.ncdc.noaa.gov/cdo-web/api/v2/stations?datasetid=PRECIP_15&startdate=2020-06-23&enddate=2020-07-09&extent=36.06439975&extent=-86.91755364&extent=36.1539268&extent=-86.79783154&limit=1000&units=standard\n",
      "No stations found for 3431700 within the given extent: {'north': 36.1539268, 'south': 36.06439975, 'east': -86.79783154, 'west': -86.91755364}\n",
      "Attempting to expand the extent by 0.2 degrees...\n",
      "https://www.ncdc.noaa.gov/cdo-web/api/v2/stations?datasetid=PRECIP_15&startdate=2020-06-23&enddate=2020-07-09&extent=35.86439975&extent=-87.11755364&extent=36.3539268&extent=-86.59783154&limit=1000&units=standard\n",
      "No stations found even after expanding the extent. Skipping this gauge.\n",
      "Rainfall data processing is done for 3431700 starting from 2020-06-23\n",
      "https://www.ncdc.noaa.gov/cdo-web/api/v2/stations?datasetid=PRECIP_15&startdate=2005-07-15&enddate=2005-07-31&extent=35.92571722&extent=-86.86050701&extent=35.99175158&extent=-86.77946158&limit=1000&units=standard\n",
      "No stations found for 3432390 within the given extent: {'north': 35.99175158, 'south': 35.92571722, 'east': -86.77946158, 'west': -86.86050701}\n",
      "Attempting to expand the extent by 0.2 degrees...\n",
      "https://www.ncdc.noaa.gov/cdo-web/api/v2/stations?datasetid=PRECIP_15&startdate=2005-07-15&enddate=2005-07-31&extent=35.72571722&extent=-87.06050701000001&extent=36.19175158&extent=-86.57946158&limit=1000&units=standard\n",
      "No stations found even after expanding the extent. Skipping this gauge.\n",
      "Rainfall data processing is done for 3432390 starting from 2005-07-15\n",
      "https://www.ncdc.noaa.gov/cdo-web/api/v2/stations?datasetid=PRECIP_15&startdate=2020-05-17&enddate=2020-06-03&extent=35.58924747&extent=-83.58869221&extent=35.70895269&extent=-83.38886094&limit=1000&units=standard\n",
      "No stations found for 3469251 within the given extent: {'north': 35.70895269, 'south': 35.58924747, 'east': -83.38886094, 'west': -83.58869221}\n",
      "Attempting to expand the extent by 0.2 degrees...\n",
      "https://www.ncdc.noaa.gov/cdo-web/api/v2/stations?datasetid=PRECIP_15&startdate=2020-05-17&enddate=2020-06-03&extent=35.389247469999994&extent=-83.78869221000001&extent=35.90895269&extent=-83.18886094&limit=1000&units=standard\n",
      "No stations found even after expanding the extent. Skipping this gauge.\n",
      "Rainfall data processing is done for 3469251 starting from 2020-05-17\n",
      "https://www.ncdc.noaa.gov/cdo-web/api/v2/stations?datasetid=PRECIP_15&startdate=2004-08-23&enddate=2004-09-05&extent=35.97466049&extent=-84.2748036&extent=36.01601348&extent=-84.22800419&limit=1000&units=standard\n",
      "No stations found for 3538235 within the given extent: {'north': 36.01601348, 'south': 35.97466049, 'east': -84.22800419, 'west': -84.2748036}\n",
      "Attempting to expand the extent by 0.2 degrees...\n",
      "https://www.ncdc.noaa.gov/cdo-web/api/v2/stations?datasetid=PRECIP_15&startdate=2004-08-23&enddate=2004-09-05&extent=35.774660489999995&extent=-84.4748036&extent=36.21601348&extent=-84.02800418999999&limit=1000&units=standard\n",
      "No stations found even after expanding the extent. Skipping this gauge.\n",
      "Rainfall data processing is done for 3538235 starting from 2004-08-23\n",
      "https://www.ncdc.noaa.gov/cdo-web/api/v2/stations?datasetid=PRECIP_15&startdate=2006-08-24&enddate=2006-09-09&extent=35.43234109&extent=-84.61386089&extent=35.5391693&extent=-84.44254838&limit=1000&units=standard\n",
      "No stations found for 3565442 within the given extent: {'north': 35.5391693, 'south': 35.43234109, 'east': -84.44254838, 'west': -84.61386089}\n",
      "Attempting to expand the extent by 0.2 degrees...\n",
      "https://www.ncdc.noaa.gov/cdo-web/api/v2/stations?datasetid=PRECIP_15&startdate=2006-08-24&enddate=2006-09-09&extent=35.23234109&extent=-84.81386089&extent=35.7391693&extent=-84.24254838&limit=1000&units=standard\n",
      "No stations found even after expanding the extent. Skipping this gauge.\n",
      "Rainfall data processing is done for 3565442 starting from 2006-08-24\n",
      "https://www.ncdc.noaa.gov/cdo-web/api/v2/stations?datasetid=PRECIP_15&startdate=2020-05-13&enddate=2020-05-29&extent=34.98438763&extent=-85.07389224&extent=35.07348289&extent=-84.97657938&limit=1000&units=standard\n",
      "No stations found for 3566420 within the given extent: {'north': 35.07348289, 'south': 34.98438763, 'east': -84.97657938, 'west': -85.07389224}\n",
      "Attempting to expand the extent by 0.2 degrees...\n",
      "https://www.ncdc.noaa.gov/cdo-web/api/v2/stations?datasetid=PRECIP_15&startdate=2020-05-13&enddate=2020-05-29&extent=34.78438763&extent=-85.27389224000001&extent=35.273482890000004&extent=-84.77657938&limit=1000&units=standard\n",
      "No stations found even after expanding the extent. Skipping this gauge.\n",
      "Rainfall data processing is done for 3566420 starting from 2020-05-13\n",
      "https://www.ncdc.noaa.gov/cdo-web/api/v2/stations?datasetid=PRECIP_15&startdate=2020-05-14&enddate=2020-05-30&extent=35.50636667&extent=-86.40167047&extent=35.66428&extent=-86.300294&limit=1000&units=standard\n",
      "No stations found for 3597590 within the given extent: {'north': 35.66428, 'south': 35.50636667, 'east': -86.300294, 'west': -86.40167047}\n",
      "Attempting to expand the extent by 0.2 degrees...\n",
      "https://www.ncdc.noaa.gov/cdo-web/api/v2/stations?datasetid=PRECIP_15&startdate=2020-05-14&enddate=2020-05-30&extent=35.306366669999996&extent=-86.60167047&extent=35.86428&extent=-86.10029399999999&limit=1000&units=standard\n",
      "No stations found even after expanding the extent. Skipping this gauge.\n",
      "Rainfall data processing is done for 3597590 starting from 2020-05-14\n",
      "https://www.ncdc.noaa.gov/cdo-web/api/v2/stations?datasetid=PRECIP_15&startdate=2020-06-02&enddate=2020-06-18&extent=36.02985571&extent=-88.4245398&extent=36.13893026&extent=-88.30413436&limit=1000&units=standard\n",
      "No stations found for 7024200 within the given extent: {'north': 36.13893026, 'south': 36.02985571, 'east': -88.30413436, 'west': -88.4245398}\n",
      "Attempting to expand the extent by 0.2 degrees...\n",
      "https://www.ncdc.noaa.gov/cdo-web/api/v2/stations?datasetid=PRECIP_15&startdate=2020-06-02&enddate=2020-06-18&extent=35.82985571&extent=-88.62453980000001&extent=36.338930260000005&extent=-88.10413436&limit=1000&units=standard\n",
      "No stations found even after expanding the extent. Skipping this gauge.\n",
      "Rainfall data processing is done for 7024200 starting from 2020-06-02\n",
      "https://www.ncdc.noaa.gov/cdo-web/api/v2/stations?datasetid=PRECIP_15&startdate=2012-08-18&enddate=2012-09-04&extent=35.13780356&extent=-89.87493327&extent=35.23990334&extent=-89.74421197&limit=1000&units=standard\n",
      "No stations found for 7031692 within the given extent: {'north': 35.23990334, 'south': 35.13780356, 'east': -89.74421197, 'west': -89.87493327}\n",
      "Attempting to expand the extent by 0.2 degrees...\n",
      "https://www.ncdc.noaa.gov/cdo-web/api/v2/stations?datasetid=PRECIP_15&startdate=2012-08-18&enddate=2012-09-04&extent=34.93780356&extent=-90.07493327&extent=35.43990334&extent=-89.54421196999999&limit=1000&units=standard\n",
      "https://www.ncdc.noaa.gov/cdo-web/api/v2/data?datasetid=PRECIP_15&startdate=2012-08-18&enddate=2012-09-04&stationid=COOP:405956&limit=1000&units=standard\n",
      "Rainfall data processing is done for 7031692 starting from 2012-08-18\n",
      "https://www.ncdc.noaa.gov/cdo-web/api/v2/stations?datasetid=PRECIP_15&startdate=2002-04-25&enddate=2002-05-08&extent=35.9138341&extent=-86.86123297&extent=35.93584826&extent=-86.81715714&limit=1000&units=standard\n",
      "No stations found for 34323531 within the given extent: {'north': 35.93584826, 'south': 35.9138341, 'east': -86.81715714, 'west': -86.86123297}\n",
      "Attempting to expand the extent by 0.2 degrees...\n",
      "https://www.ncdc.noaa.gov/cdo-web/api/v2/stations?datasetid=PRECIP_15&startdate=2002-04-25&enddate=2002-05-08&extent=35.7138341&extent=-87.06123297&extent=36.13584826&extent=-86.61715714&limit=1000&units=standard\n",
      "No stations found even after expanding the extent. Skipping this gauge.\n",
      "Rainfall data processing is done for 34323531 starting from 2002-04-25\n",
      "https://www.ncdc.noaa.gov/cdo-web/api/v2/stations?datasetid=PRECIP_15&startdate=2005-03-25&enddate=2005-04-10&extent=35.89558097&extent=-86.90401478&extent=35.93319367&extent=-86.86676872&limit=1000&units=standard\n",
      "No stations found for 3432376 within the given extent: {'north': 35.93319367, 'south': 35.89558097, 'east': -86.86676872, 'west': -86.90401478}\n",
      "Attempting to expand the extent by 0.2 degrees...\n",
      "https://www.ncdc.noaa.gov/cdo-web/api/v2/stations?datasetid=PRECIP_15&startdate=2005-03-25&enddate=2005-04-10&extent=35.695580969999995&extent=-87.10401478&extent=36.133193670000004&extent=-86.66676872&limit=1000&units=standard\n",
      "No stations found even after expanding the extent. Skipping this gauge.\n",
      "Rainfall data processing is done for 3432376 starting from 2005-03-25\n",
      "https://www.ncdc.noaa.gov/cdo-web/api/v2/stations?datasetid=PRECIP_15&startdate=2012-07-07&enddate=2012-07-23&extent=35.80852748&extent=-87.01515977&extent=35.82814209&extent=-86.97920855&limit=1000&units=standard\n",
      "No stations found for 3432472 within the given extent: {'north': 35.82814209, 'south': 35.80852748, 'east': -86.97920855, 'west': -87.01515977}\n",
      "Attempting to expand the extent by 0.2 degrees...\n",
      "https://www.ncdc.noaa.gov/cdo-web/api/v2/stations?datasetid=PRECIP_15&startdate=2012-07-07&enddate=2012-07-23&extent=35.60852748&extent=-87.21515977&extent=36.02814209&extent=-86.77920854999999&limit=1000&units=standard\n",
      "No stations found even after expanding the extent. Skipping this gauge.\n",
      "Rainfall data processing is done for 3432472 starting from 2012-07-07\n",
      "https://www.ncdc.noaa.gov/cdo-web/api/v2/stations?datasetid=PRECIP_15&startdate=2012-07-07&enddate=2012-07-23&extent=35.79690068&extent=-87.03415221&extent=35.82602345&extent=-87.00605068&limit=1000&units=standard\n",
      "No stations found for 34325065 within the given extent: {'north': 35.82602345, 'south': 35.79690068, 'east': -87.00605068, 'west': -87.03415221}\n",
      "Attempting to expand the extent by 0.2 degrees...\n",
      "https://www.ncdc.noaa.gov/cdo-web/api/v2/stations?datasetid=PRECIP_15&startdate=2012-07-07&enddate=2012-07-23&extent=35.59690068&extent=-87.23415221&extent=36.026023450000004&extent=-86.80605068&limit=1000&units=standard\n",
      "No stations found even after expanding the extent. Skipping this gauge.\n",
      "Rainfall data processing is done for 34325065 starting from 2012-07-07\n",
      "https://www.ncdc.noaa.gov/cdo-web/api/v2/stations?datasetid=PRECIP_15&startdate=2012-07-07&enddate=2012-07-23&extent=35.83826481&extent=-87.08367313&extent=35.86956963&extent=-87.04319905&limit=1000&units=standard\n",
      "Warning: could not squash response: \n",
      " <Response [503]>, b'<!DOCTYPE HTML PUBLIC \"-//IETF//DTD HTML 2.0//EN\">\\n<html><head>\\n<title>503 Service Unavailable</title>\\n</head><body>\\n<h1>Service Unavailable</h1>\\n<p>The server is temporarily unable to service your\\nrequest due to maintenance downtime or capacity\\nproblems. Please try again later.</p>\\n<p>Additionally, a 503 Service Unavailable\\nerror was encountered while trying to use an ErrorDocument to handle the request.</p>\\n</body></html>\\n'\n",
      "No stations found for 3432522 within the given extent: {'north': 35.86956963, 'south': 35.83826481, 'east': -87.04319905, 'west': -87.08367313}\n",
      "Attempting to expand the extent by 0.2 degrees...\n",
      "https://www.ncdc.noaa.gov/cdo-web/api/v2/stations?datasetid=PRECIP_15&startdate=2012-07-07&enddate=2012-07-23&extent=35.638264809999995&extent=-87.28367313&extent=36.069569630000004&extent=-86.84319905&limit=1000&units=standard\n",
      "No stations found even after expanding the extent. Skipping this gauge.\n",
      "Rainfall data processing is done for 3432522 starting from 2012-07-07\n",
      "https://www.ncdc.noaa.gov/cdo-web/api/v2/stations?datasetid=PRECIP_15&startdate=2009-03-26&enddate=2009-04-12&extent=35.88610806&extent=-87.156871&extent=35.91036299&extent=-87.12623542&limit=1000&units=standard\n",
      "No stations found for 3433637 within the given extent: {'north': 35.91036299, 'south': 35.88610806, 'east': -87.12623542, 'west': -87.156871}\n",
      "Attempting to expand the extent by 0.2 degrees...\n",
      "https://www.ncdc.noaa.gov/cdo-web/api/v2/stations?datasetid=PRECIP_15&startdate=2009-03-26&enddate=2009-04-12&extent=35.686108059999995&extent=-87.356871&extent=36.110362990000006&extent=-86.92623542&limit=1000&units=standard\n",
      "No stations found even after expanding the extent. Skipping this gauge.\n",
      "Rainfall data processing is done for 3433637 starting from 2009-03-26\n",
      "https://www.ncdc.noaa.gov/cdo-web/api/v2/stations?datasetid=PRECIP_15&startdate=2011-04-20&enddate=2011-05-06&extent=35.88397462&extent=-87.13499686&extent=35.91192244&extent=-87.09880096&limit=1000&units=standard\n",
      "No stations found for 34336392 within the given extent: {'north': 35.91192244, 'south': 35.88397462, 'east': -87.09880096, 'west': -87.13499686}\n",
      "Attempting to expand the extent by 0.2 degrees...\n",
      "https://www.ncdc.noaa.gov/cdo-web/api/v2/stations?datasetid=PRECIP_15&startdate=2011-04-20&enddate=2011-05-06&extent=35.683974619999994&extent=-87.33499686&extent=36.11192244&extent=-86.89880096&limit=1000&units=standard\n",
      "No stations found even after expanding the extent. Skipping this gauge.\n",
      "Rainfall data processing is done for 34336392 starting from 2011-04-20\n",
      "https://www.ncdc.noaa.gov/cdo-web/api/v2/stations?datasetid=PRECIP_15&startdate=2012-07-13&enddate=2012-07-29&extent=35.88397462&extent=-87.13499686&extent=35.91192244&extent=-87.09880096&limit=1000&units=standard\n",
      "No stations found for 3433640 within the given extent: {'north': 35.91192244, 'south': 35.88397462, 'east': -87.09880096, 'west': -87.13499686}\n",
      "Attempting to expand the extent by 0.2 degrees...\n",
      "https://www.ncdc.noaa.gov/cdo-web/api/v2/stations?datasetid=PRECIP_15&startdate=2012-07-13&enddate=2012-07-29&extent=35.683974619999994&extent=-87.33499686&extent=36.11192244&extent=-86.89880096&limit=1000&units=standard\n",
      "No stations found even after expanding the extent. Skipping this gauge.\n",
      "Rainfall data processing is done for 3433640 starting from 2012-07-13\n",
      "https://www.ncdc.noaa.gov/cdo-web/api/v2/stations?datasetid=PRECIP_15&startdate=2000-04-05&enddate=2000-04-21&extent=36.40887148&extent=-87.08152355&extent=36.50095989&extent=-86.95576251&limit=1000&units=standard\n",
      "No stations found for 3435970 within the given extent: {'north': 36.50095989, 'south': 36.40887148, 'east': -86.95576251, 'west': -87.08152355}\n",
      "Attempting to expand the extent by 0.2 degrees...\n",
      "https://www.ncdc.noaa.gov/cdo-web/api/v2/stations?datasetid=PRECIP_15&startdate=2000-04-05&enddate=2000-04-21&extent=36.20887148&extent=-87.28152355&extent=36.70095989&extent=-86.75576251&limit=1000&units=standard\n",
      "https://www.ncdc.noaa.gov/cdo-web/api/v2/data?datasetid=PRECIP_15&startdate=2000-04-05&enddate=2000-04-21&stationid=COOP:401663&limit=1000&units=standard\n",
      "https://www.ncdc.noaa.gov/cdo-web/api/v2/data?datasetid=PRECIP_15&startdate=2000-04-05&enddate=2000-04-21&stationid=COOP:408562&limit=1000&units=standard\n",
      "Rainfall data processing is done for 3435970 starting from 2000-04-05\n",
      "https://www.ncdc.noaa.gov/cdo-web/api/v2/stations?datasetid=PRECIP_15&startdate=2000-03-28&enddate=2000-04-13&extent=36.17010954&extent=-82.77742688&extent=36.3061735&extent=-82.66685482&limit=1000&units=standard\n",
      "No stations found for 3466228 within the given extent: {'north': 36.3061735, 'south': 36.17010954, 'east': -82.66685482, 'west': -82.77742688}\n",
      "Attempting to expand the extent by 0.2 degrees...\n",
      "https://www.ncdc.noaa.gov/cdo-web/api/v2/stations?datasetid=PRECIP_15&startdate=2000-03-28&enddate=2000-04-13&extent=35.970109539999996&extent=-82.97742688&extent=36.5061735&extent=-82.46685482&limit=1000&units=standard\n",
      "No stations found even after expanding the extent. Skipping this gauge.\n",
      "Rainfall data processing is done for 3466228 starting from 2000-03-28\n",
      "https://www.ncdc.noaa.gov/cdo-web/api/v2/stations?datasetid=PRECIP_15&startdate=2004-05-24&enddate=2004-06-09&extent=36.23566899&extent=-82.37727876&extent=36.31697728&extent=-82.32536546&limit=1000&units=standard\n",
      "No stations found for 3486311 within the given extent: {'north': 36.31697728, 'south': 36.23566899, 'east': -82.32536546, 'west': -82.37727876}\n",
      "Attempting to expand the extent by 0.2 degrees...\n",
      "https://www.ncdc.noaa.gov/cdo-web/api/v2/stations?datasetid=PRECIP_15&startdate=2004-05-24&enddate=2004-06-09&extent=36.03566899&extent=-82.57727876&extent=36.516977280000006&extent=-82.12536546&limit=1000&units=standard\n",
      "https://www.ncdc.noaa.gov/cdo-web/api/v2/data?datasetid=PRECIP_15&startdate=2004-05-24&enddate=2004-06-09&stationid=COOP:402934&limit=1000&units=standard\n",
      "Rainfall data processing is done for 3486311 starting from 2004-05-24\n",
      "https://www.ncdc.noaa.gov/cdo-web/api/v2/stations?datasetid=PRECIP_15&startdate=2011-06-11&enddate=2011-06-28&extent=35.85339047&extent=-83.89852241&extent=35.91893952&extent=-83.8007075&limit=1000&units=standard\n",
      "No stations found for 34991109 within the given extent: {'north': 35.91893952, 'south': 35.85339047, 'east': -83.8007075, 'west': -83.89852241}\n",
      "Attempting to expand the extent by 0.2 degrees...\n",
      "https://www.ncdc.noaa.gov/cdo-web/api/v2/stations?datasetid=PRECIP_15&startdate=2011-06-11&enddate=2011-06-28&extent=35.65339047&extent=-84.09852241&extent=36.118939520000005&extent=-83.6007075&limit=1000&units=standard\n",
      "Warning: could not squash response: \n",
      " <Response [503]>, b'<!DOCTYPE HTML PUBLIC \"-//IETF//DTD HTML 2.0//EN\">\\n<html><head>\\n<title>503 Service Unavailable</title>\\n</head><body>\\n<h1>Service Unavailable</h1>\\n<p>The server is temporarily unable to service your\\nrequest due to maintenance downtime or capacity\\nproblems. Please try again later.</p>\\n<p>Additionally, a 503 Service Unavailable\\nerror was encountered while trying to use an ErrorDocument to handle the request.</p>\\n</body></html>\\n'\n",
      "No stations found even after expanding the extent. Skipping this gauge.\n",
      "Rainfall data processing is done for 34991109 starting from 2011-06-11\n",
      "https://www.ncdc.noaa.gov/cdo-web/api/v2/stations?datasetid=PRECIP_15&startdate=2003-04-23&enddate=2003-05-09&extent=35.43234109&extent=-84.61386089&extent=35.5391693&extent=-84.44254838&limit=1000&units=standard\n",
      "No stations found for 3565442 within the given extent: {'north': 35.5391693, 'south': 35.43234109, 'east': -84.44254838, 'west': -84.61386089}\n",
      "Attempting to expand the extent by 0.2 degrees...\n",
      "https://www.ncdc.noaa.gov/cdo-web/api/v2/stations?datasetid=PRECIP_15&startdate=2003-04-23&enddate=2003-05-09&extent=35.23234109&extent=-84.81386089&extent=35.7391693&extent=-84.24254838&limit=1000&units=standard\n",
      "No stations found even after expanding the extent. Skipping this gauge.\n",
      "Rainfall data processing is done for 3565442 starting from 2003-04-23\n",
      "https://www.ncdc.noaa.gov/cdo-web/api/v2/stations?datasetid=PRECIP_15&startdate=2002-03-23&enddate=2002-04-09&extent=35.29759725&extent=-86.16869329&extent=35.37069856&extent=-86.11064113&limit=1000&units=standard\n",
      "No stations found for 3579040 within the given extent: {'north': 35.37069856, 'south': 35.29759725, 'east': -86.11064113, 'west': -86.16869329}\n",
      "Attempting to expand the extent by 0.2 degrees...\n",
      "https://www.ncdc.noaa.gov/cdo-web/api/v2/stations?datasetid=PRECIP_15&startdate=2002-03-23&enddate=2002-04-09&extent=35.09759725&extent=-86.36869329&extent=35.570698560000004&extent=-85.91064113&limit=1000&units=standard\n",
      "Warning: could not squash response: \n",
      " <Response [503]>, b'<!DOCTYPE HTML PUBLIC \"-//IETF//DTD HTML 2.0//EN\">\\n<html><head>\\n<title>503 Service Unavailable</title>\\n</head><body>\\n<h1>Service Unavailable</h1>\\n<p>The server is temporarily unable to service your\\nrequest due to maintenance downtime or capacity\\nproblems. Please try again later.</p>\\n<p>Additionally, a 503 Service Unavailable\\nerror was encountered while trying to use an ErrorDocument to handle the request.</p>\\n</body></html>\\n'\n",
      "No stations found even after expanding the extent. Skipping this gauge.\n",
      "Rainfall data processing is done for 3579040 starting from 2002-03-23\n",
      "https://www.ncdc.noaa.gov/cdo-web/api/v2/stations?datasetid=PRECIP_15&startdate=2002-03-23&enddate=2002-04-08&extent=35.36054983&extent=-86.15944768&extent=35.45212428&extent=-86.03567599&limit=1000&units=standard\n",
      "No stations found for 3596100 within the given extent: {'north': 35.45212428, 'south': 35.36054983, 'east': -86.03567599, 'west': -86.15944768}\n",
      "Attempting to expand the extent by 0.2 degrees...\n",
      "https://www.ncdc.noaa.gov/cdo-web/api/v2/stations?datasetid=PRECIP_15&startdate=2002-03-23&enddate=2002-04-08&extent=35.160549829999994&extent=-86.35944768&extent=35.65212428&extent=-85.83567599&limit=1000&units=standard\n",
      "https://www.ncdc.noaa.gov/cdo-web/api/v2/data?datasetid=PRECIP_15&startdate=2002-03-23&enddate=2002-04-08&stationid=COOP:406162&limit=1000&units=standard\n",
      "Warning: could not squash response: \n",
      " <Response [503]>, b'<!DOCTYPE HTML PUBLIC \"-//IETF//DTD HTML 2.0//EN\">\\n<html><head>\\n<title>503 Service Unavailable</title>\\n</head><body>\\n<h1>Service Unavailable</h1>\\n<p>The server is temporarily unable to service your\\nrequest due to maintenance downtime or capacity\\nproblems. Please try again later.</p>\\n<p>Additionally, a 503 Service Unavailable\\nerror was encountered while trying to use an ErrorDocument to handle the request.</p>\\n</body></html>\\n'\n",
      "Warnings for 3596100: \"None of [Index(['date', 'QPCP'], dtype='object')] are in the [columns]\"\n",
      "No valid data collected for 3596100. Exiting process.\n",
      "Rainfall data processing is done for 3596100 starting from 2002-03-23\n",
      "https://www.ncdc.noaa.gov/cdo-web/api/v2/stations?datasetid=PRECIP_15&startdate=2002-05-08&enddate=2002-05-24&extent=35.9593737&extent=-88.17490636&extent=36.10035386&extent=-88.06467076&limit=1000&units=standard\n",
      "No stations found for 3605078 within the given extent: {'north': 36.10035386, 'south': 35.9593737, 'east': -88.06467076, 'west': -88.17490636}\n",
      "Attempting to expand the extent by 0.2 degrees...\n",
      "https://www.ncdc.noaa.gov/cdo-web/api/v2/stations?datasetid=PRECIP_15&startdate=2002-05-08&enddate=2002-05-24&extent=35.7593737&extent=-88.37490636&extent=36.30035386&extent=-87.86467076&limit=1000&units=standard\n",
      "No stations found even after expanding the extent. Skipping this gauge.\n",
      "Rainfall data processing is done for 3605078 starting from 2002-05-08\n",
      "https://www.ncdc.noaa.gov/cdo-web/api/v2/stations?datasetid=PRECIP_15&startdate=2000-03-27&enddate=2000-04-12&extent=35.79841428&extent=-88.81509142&extent=35.83311581&extent=-88.75380996&limit=1000&units=standard\n",
      "No stations found for 7028930 within the given extent: {'north': 35.83311581, 'south': 35.79841428, 'east': -88.75380996, 'west': -88.81509142}\n",
      "Attempting to expand the extent by 0.2 degrees...\n",
      "https://www.ncdc.noaa.gov/cdo-web/api/v2/stations?datasetid=PRECIP_15&startdate=2000-03-27&enddate=2000-04-12&extent=35.59841428&extent=-89.01509142&extent=36.033115810000005&extent=-88.55380996&limit=1000&units=standard\n",
      "https://www.ncdc.noaa.gov/cdo-web/api/v2/data?datasetid=PRECIP_15&startdate=2000-03-27&enddate=2000-04-12&stationid=COOP:404561&limit=1000&units=standard\n",
      "Warnings for 7028930: \"None of [Index(['date', 'QPCP'], dtype='object')] are in the [columns]\"\n",
      "No valid data collected for 7028930. Exiting process.\n",
      "Rainfall data processing is done for 7028930 starting from 2000-03-27\n",
      "https://www.ncdc.noaa.gov/cdo-web/api/v2/stations?datasetid=PRECIP_15&startdate=2020-04-14&enddate=2020-04-27&extent=36.06495557&extent=-86.81620105&extent=36.16118001&extent=-86.72033451&limit=1000&units=standard\n",
      "No stations found for 3431300 within the given extent: {'north': 36.16118001, 'south': 36.06495557, 'east': -86.72033451, 'west': -86.81620105}\n",
      "Attempting to expand the extent by 0.2 degrees...\n",
      "https://www.ncdc.noaa.gov/cdo-web/api/v2/stations?datasetid=PRECIP_15&startdate=2020-04-14&enddate=2020-04-27&extent=35.86495557&extent=-87.01620105&extent=36.361180010000005&extent=-86.52033451&limit=1000&units=standard\n",
      "No stations found even after expanding the extent. Skipping this gauge.\n",
      "Rainfall data processing is done for 3431300 starting from 2020-04-14\n",
      "https://www.ncdc.noaa.gov/cdo-web/api/v2/stations?datasetid=PRECIP_15&startdate=2020-07-05&enddate=2020-07-21&extent=36.06439975&extent=-86.91755364&extent=36.1539268&extent=-86.79783154&limit=1000&units=standard\n",
      "No stations found for 3431700 within the given extent: {'north': 36.1539268, 'south': 36.06439975, 'east': -86.79783154, 'west': -86.91755364}\n",
      "Attempting to expand the extent by 0.2 degrees...\n",
      "https://www.ncdc.noaa.gov/cdo-web/api/v2/stations?datasetid=PRECIP_15&startdate=2020-07-05&enddate=2020-07-21&extent=35.86439975&extent=-87.11755364&extent=36.3539268&extent=-86.59783154&limit=1000&units=standard\n",
      "No stations found even after expanding the extent. Skipping this gauge.\n",
      "Rainfall data processing is done for 3431700 starting from 2020-07-05\n",
      "https://www.ncdc.noaa.gov/cdo-web/api/v2/stations?datasetid=PRECIP_15&startdate=2005-07-20&enddate=2005-08-05&extent=35.92571722&extent=-86.86050701&extent=35.99175158&extent=-86.77946158&limit=1000&units=standard\n",
      "No stations found for 3432390 within the given extent: {'north': 35.99175158, 'south': 35.92571722, 'east': -86.77946158, 'west': -86.86050701}\n",
      "Attempting to expand the extent by 0.2 degrees...\n",
      "https://www.ncdc.noaa.gov/cdo-web/api/v2/stations?datasetid=PRECIP_15&startdate=2005-07-20&enddate=2005-08-05&extent=35.72571722&extent=-87.06050701000001&extent=36.19175158&extent=-86.57946158&limit=1000&units=standard\n",
      "No stations found even after expanding the extent. Skipping this gauge.\n",
      "Rainfall data processing is done for 3432390 starting from 2005-07-20\n",
      "https://www.ncdc.noaa.gov/cdo-web/api/v2/stations?datasetid=PRECIP_15&startdate=2020-05-18&enddate=2020-06-03&extent=35.58924747&extent=-83.58869221&extent=35.70895269&extent=-83.38886094&limit=1000&units=standard\n",
      "No stations found for 3469251 within the given extent: {'north': 35.70895269, 'south': 35.58924747, 'east': -83.38886094, 'west': -83.58869221}\n",
      "Attempting to expand the extent by 0.2 degrees...\n",
      "https://www.ncdc.noaa.gov/cdo-web/api/v2/stations?datasetid=PRECIP_15&startdate=2020-05-18&enddate=2020-06-03&extent=35.389247469999994&extent=-83.78869221000001&extent=35.90895269&extent=-83.18886094&limit=1000&units=standard\n",
      "Warning: could not squash response: \n",
      " <Response [503]>, b'<!DOCTYPE HTML PUBLIC \"-//IETF//DTD HTML 2.0//EN\">\\n<html><head>\\n<title>503 Service Unavailable</title>\\n</head><body>\\n<h1>Service Unavailable</h1>\\n<p>The server is temporarily unable to service your\\nrequest due to maintenance downtime or capacity\\nproblems. Please try again later.</p>\\n<p>Additionally, a 503 Service Unavailable\\nerror was encountered while trying to use an ErrorDocument to handle the request.</p>\\n</body></html>\\n'\n",
      "No stations found even after expanding the extent. Skipping this gauge.\n",
      "Rainfall data processing is done for 3469251 starting from 2020-05-18\n",
      "https://www.ncdc.noaa.gov/cdo-web/api/v2/stations?datasetid=PRECIP_15&startdate=2004-08-25&enddate=2004-09-07&extent=35.97466049&extent=-84.2748036&extent=36.01601348&extent=-84.22800419&limit=1000&units=standard\n",
      "No stations found for 3538235 within the given extent: {'north': 36.01601348, 'south': 35.97466049, 'east': -84.22800419, 'west': -84.2748036}\n",
      "Attempting to expand the extent by 0.2 degrees...\n",
      "https://www.ncdc.noaa.gov/cdo-web/api/v2/stations?datasetid=PRECIP_15&startdate=2004-08-25&enddate=2004-09-07&extent=35.774660489999995&extent=-84.4748036&extent=36.21601348&extent=-84.02800418999999&limit=1000&units=standard\n",
      "No stations found even after expanding the extent. Skipping this gauge.\n",
      "Rainfall data processing is done for 3538235 starting from 2004-08-25\n",
      "https://www.ncdc.noaa.gov/cdo-web/api/v2/stations?datasetid=PRECIP_15&startdate=2003-07-30&enddate=2003-08-15&extent=35.43234109&extent=-84.61386089&extent=35.5391693&extent=-84.44254838&limit=1000&units=standard\n",
      "No stations found for 3565442 within the given extent: {'north': 35.5391693, 'south': 35.43234109, 'east': -84.44254838, 'west': -84.61386089}\n",
      "Attempting to expand the extent by 0.2 degrees...\n",
      "https://www.ncdc.noaa.gov/cdo-web/api/v2/stations?datasetid=PRECIP_15&startdate=2003-07-30&enddate=2003-08-15&extent=35.23234109&extent=-84.81386089&extent=35.7391693&extent=-84.24254838&limit=1000&units=standard\n",
      "No stations found even after expanding the extent. Skipping this gauge.\n",
      "Rainfall data processing is done for 3565442 starting from 2003-07-30\n",
      "https://www.ncdc.noaa.gov/cdo-web/api/v2/stations?datasetid=PRECIP_15&startdate=2020-05-15&enddate=2020-05-31&extent=34.98438763&extent=-85.07389224&extent=35.07348289&extent=-84.97657938&limit=1000&units=standard\n",
      "No stations found for 3566420 within the given extent: {'north': 35.07348289, 'south': 34.98438763, 'east': -84.97657938, 'west': -85.07389224}\n",
      "Attempting to expand the extent by 0.2 degrees...\n",
      "https://www.ncdc.noaa.gov/cdo-web/api/v2/stations?datasetid=PRECIP_15&startdate=2020-05-15&enddate=2020-05-31&extent=34.78438763&extent=-85.27389224000001&extent=35.273482890000004&extent=-84.77657938&limit=1000&units=standard\n",
      "No stations found even after expanding the extent. Skipping this gauge.\n",
      "Rainfall data processing is done for 3566420 starting from 2020-05-15\n",
      "https://www.ncdc.noaa.gov/cdo-web/api/v2/stations?datasetid=PRECIP_15&startdate=2020-05-16&enddate=2020-06-01&extent=35.50636667&extent=-86.40167047&extent=35.66428&extent=-86.300294&limit=1000&units=standard\n",
      "No stations found for 3597590 within the given extent: {'north': 35.66428, 'south': 35.50636667, 'east': -86.300294, 'west': -86.40167047}\n",
      "Attempting to expand the extent by 0.2 degrees...\n",
      "https://www.ncdc.noaa.gov/cdo-web/api/v2/stations?datasetid=PRECIP_15&startdate=2020-05-16&enddate=2020-06-01&extent=35.306366669999996&extent=-86.60167047&extent=35.86428&extent=-86.10029399999999&limit=1000&units=standard\n",
      "No stations found even after expanding the extent. Skipping this gauge.\n",
      "Rainfall data processing is done for 3597590 starting from 2020-05-16\n",
      "https://www.ncdc.noaa.gov/cdo-web/api/v2/stations?datasetid=PRECIP_15&startdate=2020-06-20&enddate=2020-07-06&extent=36.02985571&extent=-88.4245398&extent=36.13893026&extent=-88.30413436&limit=1000&units=standard\n",
      "No stations found for 7024200 within the given extent: {'north': 36.13893026, 'south': 36.02985571, 'east': -88.30413436, 'west': -88.4245398}\n",
      "Attempting to expand the extent by 0.2 degrees...\n",
      "https://www.ncdc.noaa.gov/cdo-web/api/v2/stations?datasetid=PRECIP_15&startdate=2020-06-20&enddate=2020-07-06&extent=35.82985571&extent=-88.62453980000001&extent=36.338930260000005&extent=-88.10413436&limit=1000&units=standard\n",
      "No stations found even after expanding the extent. Skipping this gauge.\n",
      "Rainfall data processing is done for 7024200 starting from 2020-06-20\n",
      "https://www.ncdc.noaa.gov/cdo-web/api/v2/stations?datasetid=PRECIP_15&startdate=2012-08-24&enddate=2012-09-09&extent=35.13780356&extent=-89.87493327&extent=35.23990334&extent=-89.74421197&limit=1000&units=standard\n",
      "No stations found for 7031692 within the given extent: {'north': 35.23990334, 'south': 35.13780356, 'east': -89.74421197, 'west': -89.87493327}\n",
      "Attempting to expand the extent by 0.2 degrees...\n",
      "https://www.ncdc.noaa.gov/cdo-web/api/v2/stations?datasetid=PRECIP_15&startdate=2012-08-24&enddate=2012-09-09&extent=34.93780356&extent=-90.07493327&extent=35.43990334&extent=-89.54421196999999&limit=1000&units=standard\n",
      "https://www.ncdc.noaa.gov/cdo-web/api/v2/data?datasetid=PRECIP_15&startdate=2012-08-24&enddate=2012-09-09&stationid=COOP:405956&limit=1000&units=standard\n",
      "Rainfall data processing is done for 7031692 starting from 2012-08-24\n",
      "https://www.ncdc.noaa.gov/cdo-web/api/v2/stations?datasetid=PRECIP_15&startdate=2020-04-17&enddate=2020-05-01&extent=36.06495557&extent=-86.81620105&extent=36.16118001&extent=-86.72033451&limit=1000&units=standard\n",
      "No stations found for 3431300 within the given extent: {'north': 36.16118001, 'south': 36.06495557, 'east': -86.72033451, 'west': -86.81620105}\n",
      "Attempting to expand the extent by 0.2 degrees...\n",
      "https://www.ncdc.noaa.gov/cdo-web/api/v2/stations?datasetid=PRECIP_15&startdate=2020-04-17&enddate=2020-05-01&extent=35.86495557&extent=-87.01620105&extent=36.361180010000005&extent=-86.52033451&limit=1000&units=standard\n",
      "No stations found even after expanding the extent. Skipping this gauge.\n",
      "Rainfall data processing is done for 3431300 starting from 2020-04-17\n",
      "https://www.ncdc.noaa.gov/cdo-web/api/v2/stations?datasetid=PRECIP_15&startdate=2020-07-15&enddate=2020-07-31&extent=36.06439975&extent=-86.91755364&extent=36.1539268&extent=-86.79783154&limit=1000&units=standard\n",
      "No stations found for 3431700 within the given extent: {'north': 36.1539268, 'south': 36.06439975, 'east': -86.79783154, 'west': -86.91755364}\n",
      "Attempting to expand the extent by 0.2 degrees...\n",
      "https://www.ncdc.noaa.gov/cdo-web/api/v2/stations?datasetid=PRECIP_15&startdate=2020-07-15&enddate=2020-07-31&extent=35.86439975&extent=-87.11755364&extent=36.3539268&extent=-86.59783154&limit=1000&units=standard\n",
      "No stations found even after expanding the extent. Skipping this gauge.\n",
      "Rainfall data processing is done for 3431700 starting from 2020-07-15\n",
      "https://www.ncdc.noaa.gov/cdo-web/api/v2/stations?datasetid=PRECIP_15&startdate=2005-08-08&enddate=2005-08-24&extent=35.92571722&extent=-86.86050701&extent=35.99175158&extent=-86.77946158&limit=1000&units=standard\n",
      "No stations found for 3432390 within the given extent: {'north': 35.99175158, 'south': 35.92571722, 'east': -86.77946158, 'west': -86.86050701}\n",
      "Attempting to expand the extent by 0.2 degrees...\n",
      "https://www.ncdc.noaa.gov/cdo-web/api/v2/stations?datasetid=PRECIP_15&startdate=2005-08-08&enddate=2005-08-24&extent=35.72571722&extent=-87.06050701000001&extent=36.19175158&extent=-86.57946158&limit=1000&units=standard\n",
      "No stations found even after expanding the extent. Skipping this gauge.\n",
      "Rainfall data processing is done for 3432390 starting from 2005-08-08\n",
      "https://www.ncdc.noaa.gov/cdo-web/api/v2/stations?datasetid=PRECIP_15&startdate=2020-05-22&enddate=2020-06-07&extent=35.58924747&extent=-83.58869221&extent=35.70895269&extent=-83.38886094&limit=1000&units=standard\n",
      "No stations found for 3469251 within the given extent: {'north': 35.70895269, 'south': 35.58924747, 'east': -83.38886094, 'west': -83.58869221}\n",
      "Attempting to expand the extent by 0.2 degrees...\n",
      "https://www.ncdc.noaa.gov/cdo-web/api/v2/stations?datasetid=PRECIP_15&startdate=2020-05-22&enddate=2020-06-07&extent=35.389247469999994&extent=-83.78869221000001&extent=35.90895269&extent=-83.18886094&limit=1000&units=standard\n",
      "No stations found even after expanding the extent. Skipping this gauge.\n",
      "Rainfall data processing is done for 3469251 starting from 2020-05-22\n",
      "https://www.ncdc.noaa.gov/cdo-web/api/v2/stations?datasetid=PRECIP_15&startdate=2003-06-01&enddate=2003-06-15&extent=35.97466049&extent=-84.2748036&extent=36.01601348&extent=-84.22800419&limit=1000&units=standard\n",
      "No stations found for 3538235 within the given extent: {'north': 36.01601348, 'south': 35.97466049, 'east': -84.22800419, 'west': -84.2748036}\n",
      "Attempting to expand the extent by 0.2 degrees...\n",
      "https://www.ncdc.noaa.gov/cdo-web/api/v2/stations?datasetid=PRECIP_15&startdate=2003-06-01&enddate=2003-06-15&extent=35.774660489999995&extent=-84.4748036&extent=36.21601348&extent=-84.02800418999999&limit=1000&units=standard\n",
      "No stations found even after expanding the extent. Skipping this gauge.\n",
      "Rainfall data processing is done for 3538235 starting from 2003-06-01\n",
      "https://www.ncdc.noaa.gov/cdo-web/api/v2/stations?datasetid=PRECIP_15&startdate=2003-08-06&enddate=2003-08-22&extent=35.43234109&extent=-84.61386089&extent=35.5391693&extent=-84.44254838&limit=1000&units=standard\n",
      "No stations found for 3565442 within the given extent: {'north': 35.5391693, 'south': 35.43234109, 'east': -84.44254838, 'west': -84.61386089}\n",
      "Attempting to expand the extent by 0.2 degrees...\n",
      "https://www.ncdc.noaa.gov/cdo-web/api/v2/stations?datasetid=PRECIP_15&startdate=2003-08-06&enddate=2003-08-22&extent=35.23234109&extent=-84.81386089&extent=35.7391693&extent=-84.24254838&limit=1000&units=standard\n",
      "No stations found even after expanding the extent. Skipping this gauge.\n",
      "Rainfall data processing is done for 3565442 starting from 2003-08-06\n",
      "https://www.ncdc.noaa.gov/cdo-web/api/v2/stations?datasetid=PRECIP_15&startdate=2020-06-02&enddate=2020-06-19&extent=34.98438763&extent=-85.07389224&extent=35.07348289&extent=-84.97657938&limit=1000&units=standard\n",
      "No stations found for 3566420 within the given extent: {'north': 35.07348289, 'south': 34.98438763, 'east': -84.97657938, 'west': -85.07389224}\n",
      "Attempting to expand the extent by 0.2 degrees...\n",
      "https://www.ncdc.noaa.gov/cdo-web/api/v2/stations?datasetid=PRECIP_15&startdate=2020-06-02&enddate=2020-06-19&extent=34.78438763&extent=-85.27389224000001&extent=35.273482890000004&extent=-84.77657938&limit=1000&units=standard\n",
      "No stations found even after expanding the extent. Skipping this gauge.\n",
      "Rainfall data processing is done for 3566420 starting from 2020-06-02\n",
      "https://www.ncdc.noaa.gov/cdo-web/api/v2/stations?datasetid=PRECIP_15&startdate=2020-05-21&enddate=2020-06-06&extent=35.50636667&extent=-86.40167047&extent=35.66428&extent=-86.300294&limit=1000&units=standard\n",
      "No stations found for 3597590 within the given extent: {'north': 35.66428, 'south': 35.50636667, 'east': -86.300294, 'west': -86.40167047}\n",
      "Attempting to expand the extent by 0.2 degrees...\n",
      "https://www.ncdc.noaa.gov/cdo-web/api/v2/stations?datasetid=PRECIP_15&startdate=2020-05-21&enddate=2020-06-06&extent=35.306366669999996&extent=-86.60167047&extent=35.86428&extent=-86.10029399999999&limit=1000&units=standard\n",
      "No stations found even after expanding the extent. Skipping this gauge.\n",
      "Rainfall data processing is done for 3597590 starting from 2020-05-21\n",
      "https://www.ncdc.noaa.gov/cdo-web/api/v2/stations?datasetid=PRECIP_15&startdate=2020-06-24&enddate=2020-07-10&extent=36.02985571&extent=-88.4245398&extent=36.13893026&extent=-88.30413436&limit=1000&units=standard\n",
      "No stations found for 7024200 within the given extent: {'north': 36.13893026, 'south': 36.02985571, 'east': -88.30413436, 'west': -88.4245398}\n",
      "Attempting to expand the extent by 0.2 degrees...\n",
      "https://www.ncdc.noaa.gov/cdo-web/api/v2/stations?datasetid=PRECIP_15&startdate=2020-06-24&enddate=2020-07-10&extent=35.82985571&extent=-88.62453980000001&extent=36.338930260000005&extent=-88.10413436&limit=1000&units=standard\n",
      "No stations found even after expanding the extent. Skipping this gauge.\n",
      "Rainfall data processing is done for 7024200 starting from 2020-06-24\n",
      "https://www.ncdc.noaa.gov/cdo-web/api/v2/stations?datasetid=PRECIP_15&startdate=2011-08-06&enddate=2011-08-22&extent=35.13780356&extent=-89.87493327&extent=35.23990334&extent=-89.74421197&limit=1000&units=standard\n",
      "No stations found for 7031692 within the given extent: {'north': 35.23990334, 'south': 35.13780356, 'east': -89.74421197, 'west': -89.87493327}\n",
      "Attempting to expand the extent by 0.2 degrees...\n",
      "https://www.ncdc.noaa.gov/cdo-web/api/v2/stations?datasetid=PRECIP_15&startdate=2011-08-06&enddate=2011-08-22&extent=34.93780356&extent=-90.07493327&extent=35.43990334&extent=-89.54421196999999&limit=1000&units=standard\n",
      "https://www.ncdc.noaa.gov/cdo-web/api/v2/data?datasetid=PRECIP_15&startdate=2011-08-06&enddate=2011-08-22&stationid=COOP:405956&limit=1000&units=standard\n",
      "Rainfall data processing is done for 7031692 starting from 2011-08-06\n",
      "https://www.ncdc.noaa.gov/cdo-web/api/v2/stations?datasetid=PRECIP_15&startdate=2020-04-20&enddate=2020-05-03&extent=36.06495557&extent=-86.81620105&extent=36.16118001&extent=-86.72033451&limit=1000&units=standard\n",
      "No stations found for 3431300 within the given extent: {'north': 36.16118001, 'south': 36.06495557, 'east': -86.72033451, 'west': -86.81620105}\n",
      "Attempting to expand the extent by 0.2 degrees...\n",
      "https://www.ncdc.noaa.gov/cdo-web/api/v2/stations?datasetid=PRECIP_15&startdate=2020-04-20&enddate=2020-05-03&extent=35.86495557&extent=-87.01620105&extent=36.361180010000005&extent=-86.52033451&limit=1000&units=standard\n",
      "No stations found even after expanding the extent. Skipping this gauge.\n",
      "Rainfall data processing is done for 3431300 starting from 2020-04-20\n",
      "https://www.ncdc.noaa.gov/cdo-web/api/v2/stations?datasetid=PRECIP_15&startdate=2020-07-19&enddate=2020-08-04&extent=36.06439975&extent=-86.91755364&extent=36.1539268&extent=-86.79783154&limit=1000&units=standard\n",
      "No stations found for 3431700 within the given extent: {'north': 36.1539268, 'south': 36.06439975, 'east': -86.79783154, 'west': -86.91755364}\n",
      "Attempting to expand the extent by 0.2 degrees...\n",
      "https://www.ncdc.noaa.gov/cdo-web/api/v2/stations?datasetid=PRECIP_15&startdate=2020-07-19&enddate=2020-08-04&extent=35.86439975&extent=-87.11755364&extent=36.3539268&extent=-86.59783154&limit=1000&units=standard\n",
      "No stations found even after expanding the extent. Skipping this gauge.\n",
      "Rainfall data processing is done for 3431700 starting from 2020-07-19\n",
      "https://www.ncdc.noaa.gov/cdo-web/api/v2/stations?datasetid=PRECIP_15&startdate=2005-08-18&enddate=2005-09-03&extent=35.92571722&extent=-86.86050701&extent=35.99175158&extent=-86.77946158&limit=1000&units=standard\n",
      "No stations found for 3432390 within the given extent: {'north': 35.99175158, 'south': 35.92571722, 'east': -86.77946158, 'west': -86.86050701}\n",
      "Attempting to expand the extent by 0.2 degrees...\n",
      "https://www.ncdc.noaa.gov/cdo-web/api/v2/stations?datasetid=PRECIP_15&startdate=2005-08-18&enddate=2005-09-03&extent=35.72571722&extent=-87.06050701000001&extent=36.19175158&extent=-86.57946158&limit=1000&units=standard\n",
      "Warning: could not squash response: \n",
      " <Response [503]>, b'<!DOCTYPE HTML PUBLIC \"-//IETF//DTD HTML 2.0//EN\">\\n<html><head>\\n<title>503 Service Unavailable</title>\\n</head><body>\\n<h1>Service Unavailable</h1>\\n<p>The server is temporarily unable to service your\\nrequest due to maintenance downtime or capacity\\nproblems. Please try again later.</p>\\n<p>Additionally, a 503 Service Unavailable\\nerror was encountered while trying to use an ErrorDocument to handle the request.</p>\\n</body></html>\\n'\n",
      "No stations found even after expanding the extent. Skipping this gauge.\n",
      "Rainfall data processing is done for 3432390 starting from 2005-08-18\n",
      "https://www.ncdc.noaa.gov/cdo-web/api/v2/stations?datasetid=PRECIP_15&startdate=2020-06-22&enddate=2020-07-08&extent=35.58924747&extent=-83.58869221&extent=35.70895269&extent=-83.38886094&limit=1000&units=standard\n",
      "No stations found for 3469251 within the given extent: {'north': 35.70895269, 'south': 35.58924747, 'east': -83.38886094, 'west': -83.58869221}\n",
      "Attempting to expand the extent by 0.2 degrees...\n",
      "https://www.ncdc.noaa.gov/cdo-web/api/v2/stations?datasetid=PRECIP_15&startdate=2020-06-22&enddate=2020-07-08&extent=35.389247469999994&extent=-83.78869221000001&extent=35.90895269&extent=-83.18886094&limit=1000&units=standard\n",
      "No stations found even after expanding the extent. Skipping this gauge.\n",
      "Rainfall data processing is done for 3469251 starting from 2020-06-22\n",
      "https://www.ncdc.noaa.gov/cdo-web/api/v2/stations?datasetid=PRECIP_15&startdate=2003-06-02&enddate=2003-06-15&extent=35.97466049&extent=-84.2748036&extent=36.01601348&extent=-84.22800419&limit=1000&units=standard\n",
      "No stations found for 3538235 within the given extent: {'north': 36.01601348, 'south': 35.97466049, 'east': -84.22800419, 'west': -84.2748036}\n",
      "Attempting to expand the extent by 0.2 degrees...\n",
      "https://www.ncdc.noaa.gov/cdo-web/api/v2/stations?datasetid=PRECIP_15&startdate=2003-06-02&enddate=2003-06-15&extent=35.774660489999995&extent=-84.4748036&extent=36.21601348&extent=-84.02800418999999&limit=1000&units=standard\n",
      "No stations found even after expanding the extent. Skipping this gauge.\n",
      "Rainfall data processing is done for 3538235 starting from 2003-06-02\n",
      "https://www.ncdc.noaa.gov/cdo-web/api/v2/stations?datasetid=PRECIP_15&startdate=2020-06-16&enddate=2020-07-02&extent=34.98438763&extent=-85.07389224&extent=35.07348289&extent=-84.97657938&limit=1000&units=standard\n",
      "No stations found for 3566420 within the given extent: {'north': 35.07348289, 'south': 34.98438763, 'east': -84.97657938, 'west': -85.07389224}\n",
      "Attempting to expand the extent by 0.2 degrees...\n",
      "https://www.ncdc.noaa.gov/cdo-web/api/v2/stations?datasetid=PRECIP_15&startdate=2020-06-16&enddate=2020-07-02&extent=34.78438763&extent=-85.27389224000001&extent=35.273482890000004&extent=-84.77657938&limit=1000&units=standard\n",
      "No stations found even after expanding the extent. Skipping this gauge.\n",
      "Rainfall data processing is done for 3566420 starting from 2020-06-16\n",
      "https://www.ncdc.noaa.gov/cdo-web/api/v2/stations?datasetid=PRECIP_15&startdate=2020-06-22&enddate=2020-07-09&extent=35.50636667&extent=-86.40167047&extent=35.66428&extent=-86.300294&limit=1000&units=standard\n",
      "No stations found for 3597590 within the given extent: {'north': 35.66428, 'south': 35.50636667, 'east': -86.300294, 'west': -86.40167047}\n",
      "Attempting to expand the extent by 0.2 degrees...\n",
      "https://www.ncdc.noaa.gov/cdo-web/api/v2/stations?datasetid=PRECIP_15&startdate=2020-06-22&enddate=2020-07-09&extent=35.306366669999996&extent=-86.60167047&extent=35.86428&extent=-86.10029399999999&limit=1000&units=standard\n",
      "No stations found even after expanding the extent. Skipping this gauge.\n",
      "Rainfall data processing is done for 3597590 starting from 2020-06-22\n",
      "https://www.ncdc.noaa.gov/cdo-web/api/v2/stations?datasetid=PRECIP_15&startdate=2020-06-30&enddate=2020-07-16&extent=36.02985571&extent=-88.4245398&extent=36.13893026&extent=-88.30413436&limit=1000&units=standard\n",
      "Warning: could not squash response: \n",
      " <Response [503]>, b'<!DOCTYPE HTML PUBLIC \"-//IETF//DTD HTML 2.0//EN\">\\n<html><head>\\n<title>503 Service Unavailable</title>\\n</head><body>\\n<h1>Service Unavailable</h1>\\n<p>The server is temporarily unable to service your\\nrequest due to maintenance downtime or capacity\\nproblems. Please try again later.</p>\\n<p>Additionally, a 503 Service Unavailable\\nerror was encountered while trying to use an ErrorDocument to handle the request.</p>\\n</body></html>\\n'\n",
      "No stations found for 7024200 within the given extent: {'north': 36.13893026, 'south': 36.02985571, 'east': -88.30413436, 'west': -88.4245398}\n",
      "Attempting to expand the extent by 0.2 degrees...\n",
      "https://www.ncdc.noaa.gov/cdo-web/api/v2/stations?datasetid=PRECIP_15&startdate=2020-06-30&enddate=2020-07-16&extent=35.82985571&extent=-88.62453980000001&extent=36.338930260000005&extent=-88.10413436&limit=1000&units=standard\n",
      "No stations found even after expanding the extent. Skipping this gauge.\n",
      "Rainfall data processing is done for 7024200 starting from 2020-06-30\n",
      "https://www.ncdc.noaa.gov/cdo-web/api/v2/stations?datasetid=PRECIP_15&startdate=2011-08-10&enddate=2011-08-26&extent=35.13780356&extent=-89.87493327&extent=35.23990334&extent=-89.74421197&limit=1000&units=standard\n",
      "No stations found for 7031692 within the given extent: {'north': 35.23990334, 'south': 35.13780356, 'east': -89.74421197, 'west': -89.87493327}\n",
      "Attempting to expand the extent by 0.2 degrees...\n",
      "https://www.ncdc.noaa.gov/cdo-web/api/v2/stations?datasetid=PRECIP_15&startdate=2011-08-10&enddate=2011-08-26&extent=34.93780356&extent=-90.07493327&extent=35.43990334&extent=-89.54421196999999&limit=1000&units=standard\n",
      "https://www.ncdc.noaa.gov/cdo-web/api/v2/data?datasetid=PRECIP_15&startdate=2011-08-10&enddate=2011-08-26&stationid=COOP:405956&limit=1000&units=standard\n",
      "Rainfall data processing is done for 7031692 starting from 2011-08-10\n",
      "https://www.ncdc.noaa.gov/cdo-web/api/v2/stations?datasetid=PRECIP_15&startdate=2020-04-24&enddate=2020-05-07&extent=36.06495557&extent=-86.81620105&extent=36.16118001&extent=-86.72033451&limit=1000&units=standard\n",
      "No stations found for 3431300 within the given extent: {'north': 36.16118001, 'south': 36.06495557, 'east': -86.72033451, 'west': -86.81620105}\n",
      "Attempting to expand the extent by 0.2 degrees...\n",
      "https://www.ncdc.noaa.gov/cdo-web/api/v2/stations?datasetid=PRECIP_15&startdate=2020-04-24&enddate=2020-05-07&extent=35.86495557&extent=-87.01620105&extent=36.361180010000005&extent=-86.52033451&limit=1000&units=standard\n",
      "No stations found even after expanding the extent. Skipping this gauge.\n",
      "Rainfall data processing is done for 3431300 starting from 2020-04-24\n",
      "https://www.ncdc.noaa.gov/cdo-web/api/v2/stations?datasetid=PRECIP_15&startdate=2020-07-19&enddate=2020-08-05&extent=36.06439975&extent=-86.91755364&extent=36.1539268&extent=-86.79783154&limit=1000&units=standard\n",
      "No stations found for 3431700 within the given extent: {'north': 36.1539268, 'south': 36.06439975, 'east': -86.79783154, 'west': -86.91755364}\n",
      "Attempting to expand the extent by 0.2 degrees...\n",
      "https://www.ncdc.noaa.gov/cdo-web/api/v2/stations?datasetid=PRECIP_15&startdate=2020-07-19&enddate=2020-08-05&extent=35.86439975&extent=-87.11755364&extent=36.3539268&extent=-86.59783154&limit=1000&units=standard\n",
      "No stations found even after expanding the extent. Skipping this gauge.\n",
      "Rainfall data processing is done for 3431700 starting from 2020-07-19\n",
      "https://www.ncdc.noaa.gov/cdo-web/api/v2/stations?datasetid=PRECIP_15&startdate=2005-08-19&enddate=2005-09-04&extent=35.92571722&extent=-86.86050701&extent=35.99175158&extent=-86.77946158&limit=1000&units=standard\n",
      "No stations found for 3432390 within the given extent: {'north': 35.99175158, 'south': 35.92571722, 'east': -86.77946158, 'west': -86.86050701}\n",
      "Attempting to expand the extent by 0.2 degrees...\n",
      "https://www.ncdc.noaa.gov/cdo-web/api/v2/stations?datasetid=PRECIP_15&startdate=2005-08-19&enddate=2005-09-04&extent=35.72571722&extent=-87.06050701000001&extent=36.19175158&extent=-86.57946158&limit=1000&units=standard\n",
      "No stations found even after expanding the extent. Skipping this gauge.\n",
      "Rainfall data processing is done for 3432390 starting from 2005-08-19\n",
      "https://www.ncdc.noaa.gov/cdo-web/api/v2/stations?datasetid=PRECIP_15&startdate=2020-06-24&enddate=2020-07-11&extent=35.58924747&extent=-83.58869221&extent=35.70895269&extent=-83.38886094&limit=1000&units=standard\n",
      "No stations found for 3469251 within the given extent: {'north': 35.70895269, 'south': 35.58924747, 'east': -83.38886094, 'west': -83.58869221}\n",
      "Attempting to expand the extent by 0.2 degrees...\n",
      "https://www.ncdc.noaa.gov/cdo-web/api/v2/stations?datasetid=PRECIP_15&startdate=2020-06-24&enddate=2020-07-11&extent=35.389247469999994&extent=-83.78869221000001&extent=35.90895269&extent=-83.18886094&limit=1000&units=standard\n",
      "No stations found even after expanding the extent. Skipping this gauge.\n",
      "Rainfall data processing is done for 3469251 starting from 2020-06-24\n",
      "https://www.ncdc.noaa.gov/cdo-web/api/v2/stations?datasetid=PRECIP_15&startdate=2003-06-07&enddate=2003-06-20&extent=35.97466049&extent=-84.2748036&extent=36.01601348&extent=-84.22800419&limit=1000&units=standard\n",
      "No stations found for 3538235 within the given extent: {'north': 36.01601348, 'south': 35.97466049, 'east': -84.22800419, 'west': -84.2748036}\n",
      "Attempting to expand the extent by 0.2 degrees...\n",
      "https://www.ncdc.noaa.gov/cdo-web/api/v2/stations?datasetid=PRECIP_15&startdate=2003-06-07&enddate=2003-06-20&extent=35.774660489999995&extent=-84.4748036&extent=36.21601348&extent=-84.02800418999999&limit=1000&units=standard\n",
      "No stations found even after expanding the extent. Skipping this gauge.\n",
      "Rainfall data processing is done for 3538235 starting from 2003-06-07\n",
      "https://www.ncdc.noaa.gov/cdo-web/api/v2/stations?datasetid=PRECIP_15&startdate=2020-06-22&enddate=2020-07-09&extent=34.98438763&extent=-85.07389224&extent=35.07348289&extent=-84.97657938&limit=1000&units=standard\n",
      "No stations found for 3566420 within the given extent: {'north': 35.07348289, 'south': 34.98438763, 'east': -84.97657938, 'west': -85.07389224}\n",
      "Attempting to expand the extent by 0.2 degrees...\n",
      "https://www.ncdc.noaa.gov/cdo-web/api/v2/stations?datasetid=PRECIP_15&startdate=2020-06-22&enddate=2020-07-09&extent=34.78438763&extent=-85.27389224000001&extent=35.273482890000004&extent=-84.77657938&limit=1000&units=standard\n",
      "No stations found even after expanding the extent. Skipping this gauge.\n",
      "Rainfall data processing is done for 3566420 starting from 2020-06-22\n",
      "https://www.ncdc.noaa.gov/cdo-web/api/v2/stations?datasetid=PRECIP_15&startdate=2020-06-23&enddate=2020-07-10&extent=35.50636667&extent=-86.40167047&extent=35.66428&extent=-86.300294&limit=1000&units=standard\n",
      "Warning: could not squash response: \n",
      " <Response [503]>, b'<!DOCTYPE HTML PUBLIC \"-//IETF//DTD HTML 2.0//EN\">\\n<html><head>\\n<title>503 Service Unavailable</title>\\n</head><body>\\n<h1>Service Unavailable</h1>\\n<p>The server is temporarily unable to service your\\nrequest due to maintenance downtime or capacity\\nproblems. Please try again later.</p>\\n<p>Additionally, a 503 Service Unavailable\\nerror was encountered while trying to use an ErrorDocument to handle the request.</p>\\n</body></html>\\n'\n",
      "No stations found for 3597590 within the given extent: {'north': 35.66428, 'south': 35.50636667, 'east': -86.300294, 'west': -86.40167047}\n",
      "Attempting to expand the extent by 0.2 degrees...\n",
      "https://www.ncdc.noaa.gov/cdo-web/api/v2/stations?datasetid=PRECIP_15&startdate=2020-06-23&enddate=2020-07-10&extent=35.306366669999996&extent=-86.60167047&extent=35.86428&extent=-86.10029399999999&limit=1000&units=standard\n",
      "No stations found even after expanding the extent. Skipping this gauge.\n",
      "Rainfall data processing is done for 3597590 starting from 2020-06-23\n",
      "https://www.ncdc.noaa.gov/cdo-web/api/v2/stations?datasetid=PRECIP_15&startdate=2020-07-06&enddate=2020-07-22&extent=36.02985571&extent=-88.4245398&extent=36.13893026&extent=-88.30413436&limit=1000&units=standard\n",
      "Warning: could not squash response: \n",
      " <Response [503]>, b'<!DOCTYPE HTML PUBLIC \"-//IETF//DTD HTML 2.0//EN\">\\n<html><head>\\n<title>503 Service Unavailable</title>\\n</head><body>\\n<h1>Service Unavailable</h1>\\n<p>The server is temporarily unable to service your\\nrequest due to maintenance downtime or capacity\\nproblems. Please try again later.</p>\\n<p>Additionally, a 503 Service Unavailable\\nerror was encountered while trying to use an ErrorDocument to handle the request.</p>\\n</body></html>\\n'\n",
      "No stations found for 7024200 within the given extent: {'north': 36.13893026, 'south': 36.02985571, 'east': -88.30413436, 'west': -88.4245398}\n",
      "Attempting to expand the extent by 0.2 degrees...\n",
      "https://www.ncdc.noaa.gov/cdo-web/api/v2/stations?datasetid=PRECIP_15&startdate=2020-07-06&enddate=2020-07-22&extent=35.82985571&extent=-88.62453980000001&extent=36.338930260000005&extent=-88.10413436&limit=1000&units=standard\n",
      "No stations found even after expanding the extent. Skipping this gauge.\n",
      "Rainfall data processing is done for 7024200 starting from 2020-07-06\n",
      "https://www.ncdc.noaa.gov/cdo-web/api/v2/stations?datasetid=PRECIP_15&startdate=2011-08-11&enddate=2011-08-27&extent=35.13780356&extent=-89.87493327&extent=35.23990334&extent=-89.74421197&limit=1000&units=standard\n",
      "No stations found for 7031692 within the given extent: {'north': 35.23990334, 'south': 35.13780356, 'east': -89.74421197, 'west': -89.87493327}\n",
      "Attempting to expand the extent by 0.2 degrees...\n",
      "https://www.ncdc.noaa.gov/cdo-web/api/v2/stations?datasetid=PRECIP_15&startdate=2011-08-11&enddate=2011-08-27&extent=34.93780356&extent=-90.07493327&extent=35.43990334&extent=-89.54421196999999&limit=1000&units=standard\n",
      "https://www.ncdc.noaa.gov/cdo-web/api/v2/data?datasetid=PRECIP_15&startdate=2011-08-11&enddate=2011-08-27&stationid=COOP:405956&limit=1000&units=standard\n",
      "Rainfall data processing is done for 7031692 starting from 2011-08-11\n",
      "https://www.ncdc.noaa.gov/cdo-web/api/v2/stations?datasetid=PRECIP_15&startdate=2020-04-28&enddate=2020-05-11&extent=36.06495557&extent=-86.81620105&extent=36.16118001&extent=-86.72033451&limit=1000&units=standard\n",
      "No stations found for 3431300 within the given extent: {'north': 36.16118001, 'south': 36.06495557, 'east': -86.72033451, 'west': -86.81620105}\n",
      "Attempting to expand the extent by 0.2 degrees...\n",
      "https://www.ncdc.noaa.gov/cdo-web/api/v2/stations?datasetid=PRECIP_15&startdate=2020-04-28&enddate=2020-05-11&extent=35.86495557&extent=-87.01620105&extent=36.361180010000005&extent=-86.52033451&limit=1000&units=standard\n",
      "No stations found even after expanding the extent. Skipping this gauge.\n",
      "Rainfall data processing is done for 3431300 starting from 2020-04-28\n",
      "https://www.ncdc.noaa.gov/cdo-web/api/v2/stations?datasetid=PRECIP_15&startdate=2020-07-21&enddate=2020-08-07&extent=36.06439975&extent=-86.91755364&extent=36.1539268&extent=-86.79783154&limit=1000&units=standard\n",
      "No stations found for 3431700 within the given extent: {'north': 36.1539268, 'south': 36.06439975, 'east': -86.79783154, 'west': -86.91755364}\n",
      "Attempting to expand the extent by 0.2 degrees...\n",
      "https://www.ncdc.noaa.gov/cdo-web/api/v2/stations?datasetid=PRECIP_15&startdate=2020-07-21&enddate=2020-08-07&extent=35.86439975&extent=-87.11755364&extent=36.3539268&extent=-86.59783154&limit=1000&units=standard\n",
      "No stations found even after expanding the extent. Skipping this gauge.\n",
      "Rainfall data processing is done for 3431700 starting from 2020-07-21\n",
      "https://www.ncdc.noaa.gov/cdo-web/api/v2/stations?datasetid=PRECIP_15&startdate=2005-08-21&enddate=2005-09-06&extent=35.92571722&extent=-86.86050701&extent=35.99175158&extent=-86.77946158&limit=1000&units=standard\n",
      "No stations found for 3432390 within the given extent: {'north': 35.99175158, 'south': 35.92571722, 'east': -86.77946158, 'west': -86.86050701}\n",
      "Attempting to expand the extent by 0.2 degrees...\n",
      "https://www.ncdc.noaa.gov/cdo-web/api/v2/stations?datasetid=PRECIP_15&startdate=2005-08-21&enddate=2005-09-06&extent=35.72571722&extent=-87.06050701000001&extent=36.19175158&extent=-86.57946158&limit=1000&units=standard\n",
      "No stations found even after expanding the extent. Skipping this gauge.\n",
      "Rainfall data processing is done for 3432390 starting from 2005-08-21\n",
      "https://www.ncdc.noaa.gov/cdo-web/api/v2/stations?datasetid=PRECIP_15&startdate=2020-07-01&enddate=2020-07-17&extent=35.58924747&extent=-83.58869221&extent=35.70895269&extent=-83.38886094&limit=1000&units=standard\n",
      "No stations found for 3469251 within the given extent: {'north': 35.70895269, 'south': 35.58924747, 'east': -83.38886094, 'west': -83.58869221}\n",
      "Attempting to expand the extent by 0.2 degrees...\n",
      "https://www.ncdc.noaa.gov/cdo-web/api/v2/stations?datasetid=PRECIP_15&startdate=2020-07-01&enddate=2020-07-17&extent=35.389247469999994&extent=-83.78869221000001&extent=35.90895269&extent=-83.18886094&limit=1000&units=standard\n",
      "No stations found even after expanding the extent. Skipping this gauge.\n",
      "Rainfall data processing is done for 3469251 starting from 2020-07-01\n",
      "https://www.ncdc.noaa.gov/cdo-web/api/v2/stations?datasetid=PRECIP_15&startdate=2003-06-11&enddate=2003-06-24&extent=35.97466049&extent=-84.2748036&extent=36.01601348&extent=-84.22800419&limit=1000&units=standard\n",
      "No stations found for 3538235 within the given extent: {'north': 36.01601348, 'south': 35.97466049, 'east': -84.22800419, 'west': -84.2748036}\n",
      "Attempting to expand the extent by 0.2 degrees...\n",
      "https://www.ncdc.noaa.gov/cdo-web/api/v2/stations?datasetid=PRECIP_15&startdate=2003-06-11&enddate=2003-06-24&extent=35.774660489999995&extent=-84.4748036&extent=36.21601348&extent=-84.02800418999999&limit=1000&units=standard\n",
      "No stations found even after expanding the extent. Skipping this gauge.\n",
      "Rainfall data processing is done for 3538235 starting from 2003-06-11\n",
      "https://www.ncdc.noaa.gov/cdo-web/api/v2/stations?datasetid=PRECIP_15&startdate=2020-06-23&enddate=2020-07-09&extent=34.98438763&extent=-85.07389224&extent=35.07348289&extent=-84.97657938&limit=1000&units=standard\n",
      "No stations found for 3566420 within the given extent: {'north': 35.07348289, 'south': 34.98438763, 'east': -84.97657938, 'west': -85.07389224}\n",
      "Attempting to expand the extent by 0.2 degrees...\n",
      "https://www.ncdc.noaa.gov/cdo-web/api/v2/stations?datasetid=PRECIP_15&startdate=2020-06-23&enddate=2020-07-09&extent=34.78438763&extent=-85.27389224000001&extent=35.273482890000004&extent=-84.77657938&limit=1000&units=standard\n",
      "No stations found even after expanding the extent. Skipping this gauge.\n",
      "Rainfall data processing is done for 3566420 starting from 2020-06-23\n",
      "https://www.ncdc.noaa.gov/cdo-web/api/v2/stations?datasetid=PRECIP_15&startdate=2020-07-05&enddate=2020-07-21&extent=35.50636667&extent=-86.40167047&extent=35.66428&extent=-86.300294&limit=1000&units=standard\n",
      "No stations found for 3597590 within the given extent: {'north': 35.66428, 'south': 35.50636667, 'east': -86.300294, 'west': -86.40167047}\n",
      "Attempting to expand the extent by 0.2 degrees...\n",
      "https://www.ncdc.noaa.gov/cdo-web/api/v2/stations?datasetid=PRECIP_15&startdate=2020-07-05&enddate=2020-07-21&extent=35.306366669999996&extent=-86.60167047&extent=35.86428&extent=-86.10029399999999&limit=1000&units=standard\n",
      "No stations found even after expanding the extent. Skipping this gauge.\n",
      "Rainfall data processing is done for 3597590 starting from 2020-07-05\n",
      "https://www.ncdc.noaa.gov/cdo-web/api/v2/stations?datasetid=PRECIP_15&startdate=2020-07-10&enddate=2020-07-26&extent=36.02985571&extent=-88.4245398&extent=36.13893026&extent=-88.30413436&limit=1000&units=standard\n",
      "No stations found for 7024200 within the given extent: {'north': 36.13893026, 'south': 36.02985571, 'east': -88.30413436, 'west': -88.4245398}\n",
      "Attempting to expand the extent by 0.2 degrees...\n",
      "https://www.ncdc.noaa.gov/cdo-web/api/v2/stations?datasetid=PRECIP_15&startdate=2020-07-10&enddate=2020-07-26&extent=35.82985571&extent=-88.62453980000001&extent=36.338930260000005&extent=-88.10413436&limit=1000&units=standard\n",
      "No stations found even after expanding the extent. Skipping this gauge.\n",
      "Rainfall data processing is done for 7024200 starting from 2020-07-10\n",
      "https://www.ncdc.noaa.gov/cdo-web/api/v2/stations?datasetid=PRECIP_15&startdate=2011-08-14&enddate=2011-08-30&extent=35.13780356&extent=-89.87493327&extent=35.23990334&extent=-89.74421197&limit=1000&units=standard\n",
      "No stations found for 7031692 within the given extent: {'north': 35.23990334, 'south': 35.13780356, 'east': -89.74421197, 'west': -89.87493327}\n",
      "Attempting to expand the extent by 0.2 degrees...\n",
      "https://www.ncdc.noaa.gov/cdo-web/api/v2/stations?datasetid=PRECIP_15&startdate=2011-08-14&enddate=2011-08-30&extent=34.93780356&extent=-90.07493327&extent=35.43990334&extent=-89.54421196999999&limit=1000&units=standard\n",
      "https://www.ncdc.noaa.gov/cdo-web/api/v2/data?datasetid=PRECIP_15&startdate=2011-08-14&enddate=2011-08-30&stationid=COOP:405956&limit=1000&units=standard\n",
      "Rainfall data processing is done for 7031692 starting from 2011-08-14\n",
      "https://www.ncdc.noaa.gov/cdo-web/api/v2/stations?datasetid=PRECIP_15&startdate=2020-04-29&enddate=2020-05-12&extent=36.06495557&extent=-86.81620105&extent=36.16118001&extent=-86.72033451&limit=1000&units=standard\n",
      "No stations found for 3431300 within the given extent: {'north': 36.16118001, 'south': 36.06495557, 'east': -86.72033451, 'west': -86.81620105}\n",
      "Attempting to expand the extent by 0.2 degrees...\n",
      "https://www.ncdc.noaa.gov/cdo-web/api/v2/stations?datasetid=PRECIP_15&startdate=2020-04-29&enddate=2020-05-12&extent=35.86495557&extent=-87.01620105&extent=36.361180010000005&extent=-86.52033451&limit=1000&units=standard\n",
      "No stations found even after expanding the extent. Skipping this gauge.\n",
      "Rainfall data processing is done for 3431300 starting from 2020-04-29\n",
      "https://www.ncdc.noaa.gov/cdo-web/api/v2/stations?datasetid=PRECIP_15&startdate=2020-07-24&enddate=2020-08-09&extent=36.06439975&extent=-86.91755364&extent=36.1539268&extent=-86.79783154&limit=1000&units=standard\n",
      "No stations found for 3431700 within the given extent: {'north': 36.1539268, 'south': 36.06439975, 'east': -86.79783154, 'west': -86.91755364}\n",
      "Attempting to expand the extent by 0.2 degrees...\n",
      "https://www.ncdc.noaa.gov/cdo-web/api/v2/stations?datasetid=PRECIP_15&startdate=2020-07-24&enddate=2020-08-09&extent=35.86439975&extent=-87.11755364&extent=36.3539268&extent=-86.59783154&limit=1000&units=standard\n",
      "No stations found even after expanding the extent. Skipping this gauge.\n",
      "Rainfall data processing is done for 3431700 starting from 2020-07-24\n",
      "https://www.ncdc.noaa.gov/cdo-web/api/v2/stations?datasetid=PRECIP_15&startdate=2005-08-23&enddate=2005-09-08&extent=35.92571722&extent=-86.86050701&extent=35.99175158&extent=-86.77946158&limit=1000&units=standard\n",
      "No stations found for 3432390 within the given extent: {'north': 35.99175158, 'south': 35.92571722, 'east': -86.77946158, 'west': -86.86050701}\n",
      "Attempting to expand the extent by 0.2 degrees...\n",
      "https://www.ncdc.noaa.gov/cdo-web/api/v2/stations?datasetid=PRECIP_15&startdate=2005-08-23&enddate=2005-09-08&extent=35.72571722&extent=-87.06050701000001&extent=36.19175158&extent=-86.57946158&limit=1000&units=standard\n",
      "No stations found even after expanding the extent. Skipping this gauge.\n",
      "Rainfall data processing is done for 3432390 starting from 2005-08-23\n",
      "https://www.ncdc.noaa.gov/cdo-web/api/v2/stations?datasetid=PRECIP_15&startdate=2020-07-13&enddate=2020-07-29&extent=35.58924747&extent=-83.58869221&extent=35.70895269&extent=-83.38886094&limit=1000&units=standard\n",
      "No stations found for 3469251 within the given extent: {'north': 35.70895269, 'south': 35.58924747, 'east': -83.38886094, 'west': -83.58869221}\n",
      "Attempting to expand the extent by 0.2 degrees...\n",
      "https://www.ncdc.noaa.gov/cdo-web/api/v2/stations?datasetid=PRECIP_15&startdate=2020-07-13&enddate=2020-07-29&extent=35.389247469999994&extent=-83.78869221000001&extent=35.90895269&extent=-83.18886094&limit=1000&units=standard\n",
      "No stations found even after expanding the extent. Skipping this gauge.\n",
      "Rainfall data processing is done for 3469251 starting from 2020-07-13\n",
      "https://www.ncdc.noaa.gov/cdo-web/api/v2/stations?datasetid=PRECIP_15&startdate=2003-06-24&enddate=2003-07-07&extent=35.97466049&extent=-84.2748036&extent=36.01601348&extent=-84.22800419&limit=1000&units=standard\n",
      "No stations found for 3538235 within the given extent: {'north': 36.01601348, 'south': 35.97466049, 'east': -84.22800419, 'west': -84.2748036}\n",
      "Attempting to expand the extent by 0.2 degrees...\n",
      "https://www.ncdc.noaa.gov/cdo-web/api/v2/stations?datasetid=PRECIP_15&startdate=2003-06-24&enddate=2003-07-07&extent=35.774660489999995&extent=-84.4748036&extent=36.21601348&extent=-84.02800418999999&limit=1000&units=standard\n",
      "No stations found even after expanding the extent. Skipping this gauge.\n",
      "Rainfall data processing is done for 3538235 starting from 2003-06-24\n",
      "https://www.ncdc.noaa.gov/cdo-web/api/v2/stations?datasetid=PRECIP_15&startdate=2020-06-24&enddate=2020-07-10&extent=34.98438763&extent=-85.07389224&extent=35.07348289&extent=-84.97657938&limit=1000&units=standard\n",
      "No stations found for 3566420 within the given extent: {'north': 35.07348289, 'south': 34.98438763, 'east': -84.97657938, 'west': -85.07389224}\n",
      "Attempting to expand the extent by 0.2 degrees...\n",
      "https://www.ncdc.noaa.gov/cdo-web/api/v2/stations?datasetid=PRECIP_15&startdate=2020-06-24&enddate=2020-07-10&extent=34.78438763&extent=-85.27389224000001&extent=35.273482890000004&extent=-84.77657938&limit=1000&units=standard\n",
      "No stations found even after expanding the extent. Skipping this gauge.\n",
      "Rainfall data processing is done for 3566420 starting from 2020-06-24\n",
      "https://www.ncdc.noaa.gov/cdo-web/api/v2/stations?datasetid=PRECIP_15&startdate=2020-07-22&enddate=2020-08-07&extent=35.50636667&extent=-86.40167047&extent=35.66428&extent=-86.300294&limit=1000&units=standard\n",
      "No stations found for 3597590 within the given extent: {'north': 35.66428, 'south': 35.50636667, 'east': -86.300294, 'west': -86.40167047}\n",
      "Attempting to expand the extent by 0.2 degrees...\n",
      "https://www.ncdc.noaa.gov/cdo-web/api/v2/stations?datasetid=PRECIP_15&startdate=2020-07-22&enddate=2020-08-07&extent=35.306366669999996&extent=-86.60167047&extent=35.86428&extent=-86.10029399999999&limit=1000&units=standard\n",
      "Warning: could not squash response: \n",
      " <Response [503]>, b'<!DOCTYPE HTML PUBLIC \"-//IETF//DTD HTML 2.0//EN\">\\n<html><head>\\n<title>503 Service Unavailable</title>\\n</head><body>\\n<h1>Service Unavailable</h1>\\n<p>The server is temporarily unable to service your\\nrequest due to maintenance downtime or capacity\\nproblems. Please try again later.</p>\\n<p>Additionally, a 503 Service Unavailable\\nerror was encountered while trying to use an ErrorDocument to handle the request.</p>\\n</body></html>\\n'\n",
      "No stations found even after expanding the extent. Skipping this gauge.\n",
      "Rainfall data processing is done for 3597590 starting from 2020-07-22\n",
      "https://www.ncdc.noaa.gov/cdo-web/api/v2/stations?datasetid=PRECIP_15&startdate=2020-07-24&enddate=2020-08-09&extent=36.02985571&extent=-88.4245398&extent=36.13893026&extent=-88.30413436&limit=1000&units=standard\n",
      "No stations found for 7024200 within the given extent: {'north': 36.13893026, 'south': 36.02985571, 'east': -88.30413436, 'west': -88.4245398}\n",
      "Attempting to expand the extent by 0.2 degrees...\n",
      "https://www.ncdc.noaa.gov/cdo-web/api/v2/stations?datasetid=PRECIP_15&startdate=2020-07-24&enddate=2020-08-09&extent=35.82985571&extent=-88.62453980000001&extent=36.338930260000005&extent=-88.10413436&limit=1000&units=standard\n",
      "No stations found even after expanding the extent. Skipping this gauge.\n",
      "Rainfall data processing is done for 7024200 starting from 2020-07-24\n",
      "https://www.ncdc.noaa.gov/cdo-web/api/v2/stations?datasetid=PRECIP_15&startdate=2010-07-06&enddate=2010-07-22&extent=35.13780356&extent=-89.87493327&extent=35.23990334&extent=-89.74421197&limit=1000&units=standard\n",
      "No stations found for 7031692 within the given extent: {'north': 35.23990334, 'south': 35.13780356, 'east': -89.74421197, 'west': -89.87493327}\n",
      "Attempting to expand the extent by 0.2 degrees...\n",
      "https://www.ncdc.noaa.gov/cdo-web/api/v2/stations?datasetid=PRECIP_15&startdate=2010-07-06&enddate=2010-07-22&extent=34.93780356&extent=-90.07493327&extent=35.43990334&extent=-89.54421196999999&limit=1000&units=standard\n",
      "https://www.ncdc.noaa.gov/cdo-web/api/v2/data?datasetid=PRECIP_15&startdate=2010-07-06&enddate=2010-07-22&stationid=COOP:405956&limit=1000&units=standard\n",
      "Rainfall data processing is done for 7031692 starting from 2010-07-06\n",
      "https://www.ncdc.noaa.gov/cdo-web/api/v2/stations?datasetid=PRECIP_15&startdate=2020-05-03&enddate=2020-05-16&extent=36.06495557&extent=-86.81620105&extent=36.16118001&extent=-86.72033451&limit=1000&units=standard\n",
      "No stations found for 3431300 within the given extent: {'north': 36.16118001, 'south': 36.06495557, 'east': -86.72033451, 'west': -86.81620105}\n",
      "Attempting to expand the extent by 0.2 degrees...\n",
      "https://www.ncdc.noaa.gov/cdo-web/api/v2/stations?datasetid=PRECIP_15&startdate=2020-05-03&enddate=2020-05-16&extent=35.86495557&extent=-87.01620105&extent=36.361180010000005&extent=-86.52033451&limit=1000&units=standard\n",
      "No stations found even after expanding the extent. Skipping this gauge.\n",
      "Rainfall data processing is done for 3431300 starting from 2020-05-03\n",
      "https://www.ncdc.noaa.gov/cdo-web/api/v2/stations?datasetid=PRECIP_15&startdate=2020-07-25&enddate=2020-08-10&extent=36.06439975&extent=-86.91755364&extent=36.1539268&extent=-86.79783154&limit=1000&units=standard\n",
      "No stations found for 3431700 within the given extent: {'north': 36.1539268, 'south': 36.06439975, 'east': -86.79783154, 'west': -86.91755364}\n",
      "Attempting to expand the extent by 0.2 degrees...\n",
      "https://www.ncdc.noaa.gov/cdo-web/api/v2/stations?datasetid=PRECIP_15&startdate=2020-07-25&enddate=2020-08-10&extent=35.86439975&extent=-87.11755364&extent=36.3539268&extent=-86.59783154&limit=1000&units=standard\n",
      "No stations found even after expanding the extent. Skipping this gauge.\n",
      "Rainfall data processing is done for 3431700 starting from 2020-07-25\n",
      "https://www.ncdc.noaa.gov/cdo-web/api/v2/stations?datasetid=PRECIP_15&startdate=2020-07-16&enddate=2020-08-01&extent=35.58924747&extent=-83.58869221&extent=35.70895269&extent=-83.38886094&limit=1000&units=standard\n",
      "No stations found for 3469251 within the given extent: {'north': 35.70895269, 'south': 35.58924747, 'east': -83.38886094, 'west': -83.58869221}\n",
      "Attempting to expand the extent by 0.2 degrees...\n",
      "https://www.ncdc.noaa.gov/cdo-web/api/v2/stations?datasetid=PRECIP_15&startdate=2020-07-16&enddate=2020-08-01&extent=35.389247469999994&extent=-83.78869221000001&extent=35.90895269&extent=-83.18886094&limit=1000&units=standard\n",
      "No stations found even after expanding the extent. Skipping this gauge.\n",
      "Rainfall data processing is done for 3469251 starting from 2020-07-16\n",
      "https://www.ncdc.noaa.gov/cdo-web/api/v2/stations?datasetid=PRECIP_15&startdate=2003-06-26&enddate=2003-07-10&extent=35.97466049&extent=-84.2748036&extent=36.01601348&extent=-84.22800419&limit=1000&units=standard\n",
      "No stations found for 3538235 within the given extent: {'north': 36.01601348, 'south': 35.97466049, 'east': -84.22800419, 'west': -84.2748036}\n",
      "Attempting to expand the extent by 0.2 degrees...\n",
      "https://www.ncdc.noaa.gov/cdo-web/api/v2/stations?datasetid=PRECIP_15&startdate=2003-06-26&enddate=2003-07-10&extent=35.774660489999995&extent=-84.4748036&extent=36.21601348&extent=-84.02800418999999&limit=1000&units=standard\n",
      "No stations found even after expanding the extent. Skipping this gauge.\n",
      "Rainfall data processing is done for 3538235 starting from 2003-06-26\n",
      "https://www.ncdc.noaa.gov/cdo-web/api/v2/stations?datasetid=PRECIP_15&startdate=2020-06-29&enddate=2020-07-15&extent=34.98438763&extent=-85.07389224&extent=35.07348289&extent=-84.97657938&limit=1000&units=standard\n",
      "No stations found for 3566420 within the given extent: {'north': 35.07348289, 'south': 34.98438763, 'east': -84.97657938, 'west': -85.07389224}\n",
      "Attempting to expand the extent by 0.2 degrees...\n",
      "https://www.ncdc.noaa.gov/cdo-web/api/v2/stations?datasetid=PRECIP_15&startdate=2020-06-29&enddate=2020-07-15&extent=34.78438763&extent=-85.27389224000001&extent=35.273482890000004&extent=-84.77657938&limit=1000&units=standard\n",
      "No stations found even after expanding the extent. Skipping this gauge.\n",
      "Rainfall data processing is done for 3566420 starting from 2020-06-29\n",
      "https://www.ncdc.noaa.gov/cdo-web/api/v2/stations?datasetid=PRECIP_15&startdate=2020-08-22&enddate=2020-09-07&extent=35.50636667&extent=-86.40167047&extent=35.66428&extent=-86.300294&limit=1000&units=standard\n",
      "No stations found for 3597590 within the given extent: {'north': 35.66428, 'south': 35.50636667, 'east': -86.300294, 'west': -86.40167047}\n",
      "Attempting to expand the extent by 0.2 degrees...\n",
      "https://www.ncdc.noaa.gov/cdo-web/api/v2/stations?datasetid=PRECIP_15&startdate=2020-08-22&enddate=2020-09-07&extent=35.306366669999996&extent=-86.60167047&extent=35.86428&extent=-86.10029399999999&limit=1000&units=standard\n",
      "No stations found even after expanding the extent. Skipping this gauge.\n",
      "Rainfall data processing is done for 3597590 starting from 2020-08-22\n",
      "https://www.ncdc.noaa.gov/cdo-web/api/v2/stations?datasetid=PRECIP_15&startdate=2020-07-28&enddate=2020-08-13&extent=36.02985571&extent=-88.4245398&extent=36.13893026&extent=-88.30413436&limit=1000&units=standard\n",
      "No stations found for 7024200 within the given extent: {'north': 36.13893026, 'south': 36.02985571, 'east': -88.30413436, 'west': -88.4245398}\n",
      "Attempting to expand the extent by 0.2 degrees...\n",
      "https://www.ncdc.noaa.gov/cdo-web/api/v2/stations?datasetid=PRECIP_15&startdate=2020-07-28&enddate=2020-08-13&extent=35.82985571&extent=-88.62453980000001&extent=36.338930260000005&extent=-88.10413436&limit=1000&units=standard\n",
      "No stations found even after expanding the extent. Skipping this gauge.\n",
      "Rainfall data processing is done for 7024200 starting from 2020-07-28\n",
      "https://www.ncdc.noaa.gov/cdo-web/api/v2/stations?datasetid=PRECIP_15&startdate=2010-07-09&enddate=2010-07-26&extent=35.13780356&extent=-89.87493327&extent=35.23990334&extent=-89.74421197&limit=1000&units=standard\n",
      "No stations found for 7031692 within the given extent: {'north': 35.23990334, 'south': 35.13780356, 'east': -89.74421197, 'west': -89.87493327}\n",
      "Attempting to expand the extent by 0.2 degrees...\n",
      "https://www.ncdc.noaa.gov/cdo-web/api/v2/stations?datasetid=PRECIP_15&startdate=2010-07-09&enddate=2010-07-26&extent=34.93780356&extent=-90.07493327&extent=35.43990334&extent=-89.54421196999999&limit=1000&units=standard\n",
      "https://www.ncdc.noaa.gov/cdo-web/api/v2/data?datasetid=PRECIP_15&startdate=2010-07-09&enddate=2010-07-26&stationid=COOP:405956&limit=1000&units=standard\n",
      "Rainfall data processing is done for 7031692 starting from 2010-07-09\n",
      "https://www.ncdc.noaa.gov/cdo-web/api/v2/stations?datasetid=PRECIP_15&startdate=2020-05-14&enddate=2020-05-27&extent=36.06495557&extent=-86.81620105&extent=36.16118001&extent=-86.72033451&limit=1000&units=standard\n",
      "No stations found for 3431300 within the given extent: {'north': 36.16118001, 'south': 36.06495557, 'east': -86.72033451, 'west': -86.81620105}\n",
      "Attempting to expand the extent by 0.2 degrees...\n",
      "https://www.ncdc.noaa.gov/cdo-web/api/v2/stations?datasetid=PRECIP_15&startdate=2020-05-14&enddate=2020-05-27&extent=35.86495557&extent=-87.01620105&extent=36.361180010000005&extent=-86.52033451&limit=1000&units=standard\n",
      "No stations found even after expanding the extent. Skipping this gauge.\n",
      "Rainfall data processing is done for 3431300 starting from 2020-05-14\n",
      "https://www.ncdc.noaa.gov/cdo-web/api/v2/stations?datasetid=PRECIP_15&startdate=2020-08-08&enddate=2020-08-24&extent=36.06439975&extent=-86.91755364&extent=36.1539268&extent=-86.79783154&limit=1000&units=standard\n",
      "No stations found for 3431700 within the given extent: {'north': 36.1539268, 'south': 36.06439975, 'east': -86.79783154, 'west': -86.91755364}\n",
      "Attempting to expand the extent by 0.2 degrees...\n",
      "https://www.ncdc.noaa.gov/cdo-web/api/v2/stations?datasetid=PRECIP_15&startdate=2020-08-08&enddate=2020-08-24&extent=35.86439975&extent=-87.11755364&extent=36.3539268&extent=-86.59783154&limit=1000&units=standard\n",
      "No stations found even after expanding the extent. Skipping this gauge.\n",
      "Rainfall data processing is done for 3431700 starting from 2020-08-08\n",
      "https://www.ncdc.noaa.gov/cdo-web/api/v2/stations?datasetid=PRECIP_15&startdate=2020-07-19&enddate=2020-08-04&extent=35.58924747&extent=-83.58869221&extent=35.70895269&extent=-83.38886094&limit=1000&units=standard\n",
      "No stations found for 3469251 within the given extent: {'north': 35.70895269, 'south': 35.58924747, 'east': -83.38886094, 'west': -83.58869221}\n",
      "Attempting to expand the extent by 0.2 degrees...\n",
      "https://www.ncdc.noaa.gov/cdo-web/api/v2/stations?datasetid=PRECIP_15&startdate=2020-07-19&enddate=2020-08-04&extent=35.389247469999994&extent=-83.78869221000001&extent=35.90895269&extent=-83.18886094&limit=1000&units=standard\n",
      "No stations found even after expanding the extent. Skipping this gauge.\n",
      "Rainfall data processing is done for 3469251 starting from 2020-07-19\n",
      "https://www.ncdc.noaa.gov/cdo-web/api/v2/stations?datasetid=PRECIP_15&startdate=2003-06-27&enddate=2003-07-10&extent=35.97466049&extent=-84.2748036&extent=36.01601348&extent=-84.22800419&limit=1000&units=standard\n",
      "No stations found for 3538235 within the given extent: {'north': 36.01601348, 'south': 35.97466049, 'east': -84.22800419, 'west': -84.2748036}\n",
      "Attempting to expand the extent by 0.2 degrees...\n",
      "https://www.ncdc.noaa.gov/cdo-web/api/v2/stations?datasetid=PRECIP_15&startdate=2003-06-27&enddate=2003-07-10&extent=35.774660489999995&extent=-84.4748036&extent=36.21601348&extent=-84.02800418999999&limit=1000&units=standard\n",
      "No stations found even after expanding the extent. Skipping this gauge.\n",
      "Rainfall data processing is done for 3538235 starting from 2003-06-27\n",
      "https://www.ncdc.noaa.gov/cdo-web/api/v2/stations?datasetid=PRECIP_15&startdate=2020-07-16&enddate=2020-08-02&extent=34.98438763&extent=-85.07389224&extent=35.07348289&extent=-84.97657938&limit=1000&units=standard\n",
      "No stations found for 3566420 within the given extent: {'north': 35.07348289, 'south': 34.98438763, 'east': -84.97657938, 'west': -85.07389224}\n",
      "Attempting to expand the extent by 0.2 degrees...\n",
      "https://www.ncdc.noaa.gov/cdo-web/api/v2/stations?datasetid=PRECIP_15&startdate=2020-07-16&enddate=2020-08-02&extent=34.78438763&extent=-85.27389224000001&extent=35.273482890000004&extent=-84.77657938&limit=1000&units=standard\n",
      "No stations found even after expanding the extent. Skipping this gauge.\n",
      "Rainfall data processing is done for 3566420 starting from 2020-07-16\n",
      "https://www.ncdc.noaa.gov/cdo-web/api/v2/stations?datasetid=PRECIP_15&startdate=2020-08-25&enddate=2020-09-10&extent=35.50636667&extent=-86.40167047&extent=35.66428&extent=-86.300294&limit=1000&units=standard\n",
      "No stations found for 3597590 within the given extent: {'north': 35.66428, 'south': 35.50636667, 'east': -86.300294, 'west': -86.40167047}\n",
      "Attempting to expand the extent by 0.2 degrees...\n",
      "https://www.ncdc.noaa.gov/cdo-web/api/v2/stations?datasetid=PRECIP_15&startdate=2020-08-25&enddate=2020-09-10&extent=35.306366669999996&extent=-86.60167047&extent=35.86428&extent=-86.10029399999999&limit=1000&units=standard\n",
      "No stations found even after expanding the extent. Skipping this gauge.\n",
      "Rainfall data processing is done for 3597590 starting from 2020-08-25\n",
      "https://www.ncdc.noaa.gov/cdo-web/api/v2/stations?datasetid=PRECIP_15&startdate=2020-08-04&enddate=2020-08-20&extent=36.02985571&extent=-88.4245398&extent=36.13893026&extent=-88.30413436&limit=1000&units=standard\n",
      "No stations found for 7024200 within the given extent: {'north': 36.13893026, 'south': 36.02985571, 'east': -88.30413436, 'west': -88.4245398}\n",
      "Attempting to expand the extent by 0.2 degrees...\n",
      "https://www.ncdc.noaa.gov/cdo-web/api/v2/stations?datasetid=PRECIP_15&startdate=2020-08-04&enddate=2020-08-20&extent=35.82985571&extent=-88.62453980000001&extent=36.338930260000005&extent=-88.10413436&limit=1000&units=standard\n",
      "No stations found even after expanding the extent. Skipping this gauge.\n",
      "Rainfall data processing is done for 7024200 starting from 2020-08-04\n",
      "https://www.ncdc.noaa.gov/cdo-web/api/v2/stations?datasetid=PRECIP_15&startdate=2010-07-20&enddate=2010-08-05&extent=35.13780356&extent=-89.87493327&extent=35.23990334&extent=-89.74421197&limit=1000&units=standard\n",
      "No stations found for 7031692 within the given extent: {'north': 35.23990334, 'south': 35.13780356, 'east': -89.74421197, 'west': -89.87493327}\n",
      "Attempting to expand the extent by 0.2 degrees...\n",
      "https://www.ncdc.noaa.gov/cdo-web/api/v2/stations?datasetid=PRECIP_15&startdate=2010-07-20&enddate=2010-08-05&extent=34.93780356&extent=-90.07493327&extent=35.43990334&extent=-89.54421196999999&limit=1000&units=standard\n",
      "https://www.ncdc.noaa.gov/cdo-web/api/v2/data?datasetid=PRECIP_15&startdate=2010-07-20&enddate=2010-08-05&stationid=COOP:405956&limit=1000&units=standard\n",
      "Rainfall data processing is done for 7031692 starting from 2010-07-20\n",
      "https://www.ncdc.noaa.gov/cdo-web/api/v2/stations?datasetid=PRECIP_15&startdate=2020-05-16&enddate=2020-05-29&extent=36.06495557&extent=-86.81620105&extent=36.16118001&extent=-86.72033451&limit=1000&units=standard\n",
      "No stations found for 3431300 within the given extent: {'north': 36.16118001, 'south': 36.06495557, 'east': -86.72033451, 'west': -86.81620105}\n",
      "Attempting to expand the extent by 0.2 degrees...\n",
      "https://www.ncdc.noaa.gov/cdo-web/api/v2/stations?datasetid=PRECIP_15&startdate=2020-05-16&enddate=2020-05-29&extent=35.86495557&extent=-87.01620105&extent=36.361180010000005&extent=-86.52033451&limit=1000&units=standard\n",
      "No stations found even after expanding the extent. Skipping this gauge.\n",
      "Rainfall data processing is done for 3431300 starting from 2020-05-16\n",
      "https://www.ncdc.noaa.gov/cdo-web/api/v2/stations?datasetid=PRECIP_15&startdate=2020-08-15&enddate=2020-08-31&extent=36.06439975&extent=-86.91755364&extent=36.1539268&extent=-86.79783154&limit=1000&units=standard\n",
      "No stations found for 3431700 within the given extent: {'north': 36.1539268, 'south': 36.06439975, 'east': -86.79783154, 'west': -86.91755364}\n",
      "Attempting to expand the extent by 0.2 degrees...\n",
      "https://www.ncdc.noaa.gov/cdo-web/api/v2/stations?datasetid=PRECIP_15&startdate=2020-08-15&enddate=2020-08-31&extent=35.86439975&extent=-87.11755364&extent=36.3539268&extent=-86.59783154&limit=1000&units=standard\n",
      "No stations found even after expanding the extent. Skipping this gauge.\n",
      "Rainfall data processing is done for 3431700 starting from 2020-08-15\n",
      "https://www.ncdc.noaa.gov/cdo-web/api/v2/stations?datasetid=PRECIP_15&startdate=2020-07-21&enddate=2020-08-06&extent=35.58924747&extent=-83.58869221&extent=35.70895269&extent=-83.38886094&limit=1000&units=standard\n",
      "No stations found for 3469251 within the given extent: {'north': 35.70895269, 'south': 35.58924747, 'east': -83.38886094, 'west': -83.58869221}\n",
      "Attempting to expand the extent by 0.2 degrees...\n",
      "https://www.ncdc.noaa.gov/cdo-web/api/v2/stations?datasetid=PRECIP_15&startdate=2020-07-21&enddate=2020-08-06&extent=35.389247469999994&extent=-83.78869221000001&extent=35.90895269&extent=-83.18886094&limit=1000&units=standard\n",
      "No stations found even after expanding the extent. Skipping this gauge.\n",
      "Rainfall data processing is done for 3469251 starting from 2020-07-21\n",
      "https://www.ncdc.noaa.gov/cdo-web/api/v2/stations?datasetid=PRECIP_15&startdate=2003-07-04&enddate=2003-07-17&extent=35.97466049&extent=-84.2748036&extent=36.01601348&extent=-84.22800419&limit=1000&units=standard\n",
      "No stations found for 3538235 within the given extent: {'north': 36.01601348, 'south': 35.97466049, 'east': -84.22800419, 'west': -84.2748036}\n",
      "Attempting to expand the extent by 0.2 degrees...\n",
      "https://www.ncdc.noaa.gov/cdo-web/api/v2/stations?datasetid=PRECIP_15&startdate=2003-07-04&enddate=2003-07-17&extent=35.774660489999995&extent=-84.4748036&extent=36.21601348&extent=-84.02800418999999&limit=1000&units=standard\n",
      "No stations found even after expanding the extent. Skipping this gauge.\n",
      "Rainfall data processing is done for 3538235 starting from 2003-07-04\n",
      "https://www.ncdc.noaa.gov/cdo-web/api/v2/stations?datasetid=PRECIP_15&startdate=2020-08-14&enddate=2020-08-30&extent=34.98438763&extent=-85.07389224&extent=35.07348289&extent=-84.97657938&limit=1000&units=standard\n",
      "Warning: could not squash response: \n",
      " <Response [503]>, b'<!DOCTYPE HTML PUBLIC \"-//IETF//DTD HTML 2.0//EN\">\\n<html><head>\\n<title>503 Service Unavailable</title>\\n</head><body>\\n<h1>Service Unavailable</h1>\\n<p>The server is temporarily unable to service your\\nrequest due to maintenance downtime or capacity\\nproblems. Please try again later.</p>\\n<p>Additionally, a 503 Service Unavailable\\nerror was encountered while trying to use an ErrorDocument to handle the request.</p>\\n</body></html>\\n'\n",
      "No stations found for 3566420 within the given extent: {'north': 35.07348289, 'south': 34.98438763, 'east': -84.97657938, 'west': -85.07389224}\n",
      "Attempting to expand the extent by 0.2 degrees...\n",
      "https://www.ncdc.noaa.gov/cdo-web/api/v2/stations?datasetid=PRECIP_15&startdate=2020-08-14&enddate=2020-08-30&extent=34.78438763&extent=-85.27389224000001&extent=35.273482890000004&extent=-84.77657938&limit=1000&units=standard\n",
      "No stations found even after expanding the extent. Skipping this gauge.\n",
      "Rainfall data processing is done for 3566420 starting from 2020-08-14\n",
      "https://www.ncdc.noaa.gov/cdo-web/api/v2/stations?datasetid=PRECIP_15&startdate=2020-08-14&enddate=2020-08-30&extent=36.02985571&extent=-88.4245398&extent=36.13893026&extent=-88.30413436&limit=1000&units=standard\n",
      "No stations found for 7024200 within the given extent: {'north': 36.13893026, 'south': 36.02985571, 'east': -88.30413436, 'west': -88.4245398}\n",
      "Attempting to expand the extent by 0.2 degrees...\n",
      "https://www.ncdc.noaa.gov/cdo-web/api/v2/stations?datasetid=PRECIP_15&startdate=2020-08-14&enddate=2020-08-30&extent=35.82985571&extent=-88.62453980000001&extent=36.338930260000005&extent=-88.10413436&limit=1000&units=standard\n",
      "No stations found even after expanding the extent. Skipping this gauge.\n",
      "Rainfall data processing is done for 7024200 starting from 2020-08-14\n",
      "https://www.ncdc.noaa.gov/cdo-web/api/v2/stations?datasetid=PRECIP_15&startdate=2010-07-23&enddate=2010-08-08&extent=35.13780356&extent=-89.87493327&extent=35.23990334&extent=-89.74421197&limit=1000&units=standard\n",
      "No stations found for 7031692 within the given extent: {'north': 35.23990334, 'south': 35.13780356, 'east': -89.74421197, 'west': -89.87493327}\n",
      "Attempting to expand the extent by 0.2 degrees...\n",
      "https://www.ncdc.noaa.gov/cdo-web/api/v2/stations?datasetid=PRECIP_15&startdate=2010-07-23&enddate=2010-08-08&extent=34.93780356&extent=-90.07493327&extent=35.43990334&extent=-89.54421196999999&limit=1000&units=standard\n",
      "https://www.ncdc.noaa.gov/cdo-web/api/v2/data?datasetid=PRECIP_15&startdate=2010-07-23&enddate=2010-08-08&stationid=COOP:405956&limit=1000&units=standard\n",
      "Rainfall data processing is done for 7031692 starting from 2010-07-23\n",
      "https://www.ncdc.noaa.gov/cdo-web/api/v2/stations?datasetid=PRECIP_15&startdate=2020-05-23&enddate=2020-06-05&extent=36.06495557&extent=-86.81620105&extent=36.16118001&extent=-86.72033451&limit=1000&units=standard\n",
      "No stations found for 3431300 within the given extent: {'north': 36.16118001, 'south': 36.06495557, 'east': -86.72033451, 'west': -86.81620105}\n",
      "Attempting to expand the extent by 0.2 degrees...\n",
      "https://www.ncdc.noaa.gov/cdo-web/api/v2/stations?datasetid=PRECIP_15&startdate=2020-05-23&enddate=2020-06-05&extent=35.86495557&extent=-87.01620105&extent=36.361180010000005&extent=-86.52033451&limit=1000&units=standard\n",
      "No stations found even after expanding the extent. Skipping this gauge.\n",
      "Rainfall data processing is done for 3431300 starting from 2020-05-23\n",
      "https://www.ncdc.noaa.gov/cdo-web/api/v2/stations?datasetid=PRECIP_15&startdate=2020-08-21&enddate=2020-09-06&extent=36.06439975&extent=-86.91755364&extent=36.1539268&extent=-86.79783154&limit=1000&units=standard\n",
      "No stations found for 3431700 within the given extent: {'north': 36.1539268, 'south': 36.06439975, 'east': -86.79783154, 'west': -86.91755364}\n",
      "Attempting to expand the extent by 0.2 degrees...\n",
      "https://www.ncdc.noaa.gov/cdo-web/api/v2/stations?datasetid=PRECIP_15&startdate=2020-08-21&enddate=2020-09-06&extent=35.86439975&extent=-87.11755364&extent=36.3539268&extent=-86.59783154&limit=1000&units=standard\n",
      "No stations found even after expanding the extent. Skipping this gauge.\n",
      "Rainfall data processing is done for 3431700 starting from 2020-08-21\n",
      "https://www.ncdc.noaa.gov/cdo-web/api/v2/stations?datasetid=PRECIP_15&startdate=2020-07-21&enddate=2020-08-07&extent=35.58924747&extent=-83.58869221&extent=35.70895269&extent=-83.38886094&limit=1000&units=standard\n",
      "No stations found for 3469251 within the given extent: {'north': 35.70895269, 'south': 35.58924747, 'east': -83.38886094, 'west': -83.58869221}\n",
      "Attempting to expand the extent by 0.2 degrees...\n",
      "https://www.ncdc.noaa.gov/cdo-web/api/v2/stations?datasetid=PRECIP_15&startdate=2020-07-21&enddate=2020-08-07&extent=35.389247469999994&extent=-83.78869221000001&extent=35.90895269&extent=-83.18886094&limit=1000&units=standard\n",
      "No stations found even after expanding the extent. Skipping this gauge.\n",
      "Rainfall data processing is done for 3469251 starting from 2020-07-21\n",
      "https://www.ncdc.noaa.gov/cdo-web/api/v2/stations?datasetid=PRECIP_15&startdate=2003-07-05&enddate=2003-07-19&extent=35.97466049&extent=-84.2748036&extent=36.01601348&extent=-84.22800419&limit=1000&units=standard\n",
      "No stations found for 3538235 within the given extent: {'north': 36.01601348, 'south': 35.97466049, 'east': -84.22800419, 'west': -84.2748036}\n",
      "Attempting to expand the extent by 0.2 degrees...\n",
      "https://www.ncdc.noaa.gov/cdo-web/api/v2/stations?datasetid=PRECIP_15&startdate=2003-07-05&enddate=2003-07-19&extent=35.774660489999995&extent=-84.4748036&extent=36.21601348&extent=-84.02800418999999&limit=1000&units=standard\n",
      "No stations found even after expanding the extent. Skipping this gauge.\n",
      "Rainfall data processing is done for 3538235 starting from 2003-07-05\n",
      "https://www.ncdc.noaa.gov/cdo-web/api/v2/stations?datasetid=PRECIP_15&startdate=2020-08-23&enddate=2020-09-08&extent=34.98438763&extent=-85.07389224&extent=35.07348289&extent=-84.97657938&limit=1000&units=standard\n",
      "No stations found for 3566420 within the given extent: {'north': 35.07348289, 'south': 34.98438763, 'east': -84.97657938, 'west': -85.07389224}\n",
      "Attempting to expand the extent by 0.2 degrees...\n",
      "https://www.ncdc.noaa.gov/cdo-web/api/v2/stations?datasetid=PRECIP_15&startdate=2020-08-23&enddate=2020-09-08&extent=34.78438763&extent=-85.27389224000001&extent=35.273482890000004&extent=-84.77657938&limit=1000&units=standard\n",
      "No stations found even after expanding the extent. Skipping this gauge.\n",
      "Rainfall data processing is done for 3566420 starting from 2020-08-23\n",
      "https://www.ncdc.noaa.gov/cdo-web/api/v2/stations?datasetid=PRECIP_15&startdate=2020-08-15&enddate=2020-09-01&extent=36.02985571&extent=-88.4245398&extent=36.13893026&extent=-88.30413436&limit=1000&units=standard\n",
      "No stations found for 7024200 within the given extent: {'north': 36.13893026, 'south': 36.02985571, 'east': -88.30413436, 'west': -88.4245398}\n",
      "Attempting to expand the extent by 0.2 degrees...\n",
      "https://www.ncdc.noaa.gov/cdo-web/api/v2/stations?datasetid=PRECIP_15&startdate=2020-08-15&enddate=2020-09-01&extent=35.82985571&extent=-88.62453980000001&extent=36.338930260000005&extent=-88.10413436&limit=1000&units=standard\n",
      "No stations found even after expanding the extent. Skipping this gauge.\n",
      "Rainfall data processing is done for 7024200 starting from 2020-08-15\n",
      "https://www.ncdc.noaa.gov/cdo-web/api/v2/stations?datasetid=PRECIP_15&startdate=2010-07-29&enddate=2010-08-15&extent=35.13780356&extent=-89.87493327&extent=35.23990334&extent=-89.74421197&limit=1000&units=standard\n",
      "No stations found for 7031692 within the given extent: {'north': 35.23990334, 'south': 35.13780356, 'east': -89.74421197, 'west': -89.87493327}\n",
      "Attempting to expand the extent by 0.2 degrees...\n",
      "https://www.ncdc.noaa.gov/cdo-web/api/v2/stations?datasetid=PRECIP_15&startdate=2010-07-29&enddate=2010-08-15&extent=34.93780356&extent=-90.07493327&extent=35.43990334&extent=-89.54421196999999&limit=1000&units=standard\n",
      "https://www.ncdc.noaa.gov/cdo-web/api/v2/data?datasetid=PRECIP_15&startdate=2010-07-29&enddate=2010-08-15&stationid=COOP:405956&limit=1000&units=standard\n",
      "Rainfall data processing is done for 7031692 starting from 2010-07-29\n",
      "https://www.ncdc.noaa.gov/cdo-web/api/v2/stations?datasetid=PRECIP_15&startdate=2007-04-08&enddate=2007-04-24&extent=36.47054977&extent=-85.87185917&extent=36.56569568&extent=-85.80165628&limit=1000&units=standard\n",
      "Warning: could not squash response: \n",
      " <Response [503]>, b'<!DOCTYPE HTML PUBLIC \"-//IETF//DTD HTML 2.0//EN\">\\n<html><head>\\n<title>503 Service Unavailable</title>\\n</head><body>\\n<h1>Service Unavailable</h1>\\n<p>The server is temporarily unable to service your\\nrequest due to maintenance downtime or capacity\\nproblems. Please try again later.</p>\\n<p>Additionally, a 503 Service Unavailable\\nerror was encountered while trying to use an ErrorDocument to handle the request.</p>\\n</body></html>\\n'\n",
      "No stations found for 3312259 within the given extent: {'north': 36.56569568, 'south': 36.47054977, 'east': -85.80165628, 'west': -85.87185917}\n",
      "Attempting to expand the extent by 0.2 degrees...\n",
      "https://www.ncdc.noaa.gov/cdo-web/api/v2/stations?datasetid=PRECIP_15&startdate=2007-04-08&enddate=2007-04-24&extent=36.270549769999995&extent=-86.07185917&extent=36.76569568&extent=-85.60165628&limit=1000&units=standard\n",
      "No stations found even after expanding the extent. Skipping this gauge.\n",
      "Rainfall data processing is done for 3312259 starting from 2007-04-08\n",
      "https://www.ncdc.noaa.gov/cdo-web/api/v2/stations?datasetid=PRECIP_15&startdate=2004-05-25&enddate=2004-06-07&extent=35.9138341&extent=-86.86123297&extent=35.93584826&extent=-86.81715714&limit=1000&units=standard\n",
      "No stations found for 34323531 within the given extent: {'north': 35.93584826, 'south': 35.9138341, 'east': -86.81715714, 'west': -86.86123297}\n",
      "Attempting to expand the extent by 0.2 degrees...\n",
      "https://www.ncdc.noaa.gov/cdo-web/api/v2/stations?datasetid=PRECIP_15&startdate=2004-05-25&enddate=2004-06-07&extent=35.7138341&extent=-87.06123297&extent=36.13584826&extent=-86.61715714&limit=1000&units=standard\n",
      "No stations found even after expanding the extent. Skipping this gauge.\n",
      "Rainfall data processing is done for 34323531 starting from 2004-05-25\n",
      "https://www.ncdc.noaa.gov/cdo-web/api/v2/stations?datasetid=PRECIP_15&startdate=2005-03-31&enddate=2005-04-16&extent=35.89558097&extent=-86.90401478&extent=35.93319367&extent=-86.86676872&limit=1000&units=standard\n",
      "No stations found for 3432376 within the given extent: {'north': 35.93319367, 'south': 35.89558097, 'east': -86.86676872, 'west': -86.90401478}\n",
      "Attempting to expand the extent by 0.2 degrees...\n",
      "https://www.ncdc.noaa.gov/cdo-web/api/v2/stations?datasetid=PRECIP_15&startdate=2005-03-31&enddate=2005-04-16&extent=35.695580969999995&extent=-87.10401478&extent=36.133193670000004&extent=-86.66676872&limit=1000&units=standard\n",
      "No stations found even after expanding the extent. Skipping this gauge.\n",
      "Rainfall data processing is done for 3432376 starting from 2005-03-31\n",
      "https://www.ncdc.noaa.gov/cdo-web/api/v2/stations?datasetid=PRECIP_15&startdate=2008-01-27&enddate=2008-04-14&extent=35.92571722&extent=-86.86050701&extent=35.99175158&extent=-86.77946158&limit=1000&units=standard\n",
      "No stations found for 3432390 within the given extent: {'north': 35.99175158, 'south': 35.92571722, 'east': -86.77946158, 'west': -86.86050701}\n",
      "Attempting to expand the extent by 0.2 degrees...\n",
      "https://www.ncdc.noaa.gov/cdo-web/api/v2/stations?datasetid=PRECIP_15&startdate=2008-01-27&enddate=2008-04-14&extent=35.72571722&extent=-87.06050701000001&extent=36.19175158&extent=-86.57946158&limit=1000&units=standard\n",
      "No stations found even after expanding the extent. Skipping this gauge.\n",
      "Rainfall data processing is done for 3432390 starting from 2008-01-27\n",
      "https://www.ncdc.noaa.gov/cdo-web/api/v2/stations?datasetid=PRECIP_15&startdate=2011-06-21&enddate=2011-07-07&extent=35.80852748&extent=-87.01515977&extent=35.82814209&extent=-86.97920855&limit=1000&units=standard\n",
      "No stations found for 3432472 within the given extent: {'north': 35.82814209, 'south': 35.80852748, 'east': -86.97920855, 'west': -87.01515977}\n",
      "Attempting to expand the extent by 0.2 degrees...\n",
      "https://www.ncdc.noaa.gov/cdo-web/api/v2/stations?datasetid=PRECIP_15&startdate=2011-06-21&enddate=2011-07-07&extent=35.60852748&extent=-87.21515977&extent=36.02814209&extent=-86.77920854999999&limit=1000&units=standard\n",
      "No stations found even after expanding the extent. Skipping this gauge.\n",
      "Rainfall data processing is done for 3432472 starting from 2011-06-21\n",
      "https://www.ncdc.noaa.gov/cdo-web/api/v2/stations?datasetid=PRECIP_15&startdate=2011-04-08&enddate=2011-04-25&extent=35.79690068&extent=-87.03415221&extent=35.82602345&extent=-87.00605068&limit=1000&units=standard\n",
      "No stations found for 34325065 within the given extent: {'north': 35.82602345, 'south': 35.79690068, 'east': -87.00605068, 'west': -87.03415221}\n",
      "Attempting to expand the extent by 0.2 degrees...\n",
      "https://www.ncdc.noaa.gov/cdo-web/api/v2/stations?datasetid=PRECIP_15&startdate=2011-04-08&enddate=2011-04-25&extent=35.59690068&extent=-87.23415221&extent=36.026023450000004&extent=-86.80605068&limit=1000&units=standard\n",
      "No stations found even after expanding the extent. Skipping this gauge.\n",
      "Rainfall data processing is done for 34325065 starting from 2011-04-08\n",
      "https://www.ncdc.noaa.gov/cdo-web/api/v2/stations?datasetid=PRECIP_15&startdate=2012-07-13&enddate=2012-07-29&extent=35.83826481&extent=-87.08367313&extent=35.86956963&extent=-87.04319905&limit=1000&units=standard\n",
      "No stations found for 3432522 within the given extent: {'north': 35.86956963, 'south': 35.83826481, 'east': -87.04319905, 'west': -87.08367313}\n",
      "Attempting to expand the extent by 0.2 degrees...\n",
      "https://www.ncdc.noaa.gov/cdo-web/api/v2/stations?datasetid=PRECIP_15&startdate=2012-07-13&enddate=2012-07-29&extent=35.638264809999995&extent=-87.28367313&extent=36.069569630000004&extent=-86.84319905&limit=1000&units=standard\n",
      "No stations found even after expanding the extent. Skipping this gauge.\n",
      "Rainfall data processing is done for 3432522 starting from 2012-07-13\n",
      "https://www.ncdc.noaa.gov/cdo-web/api/v2/stations?datasetid=PRECIP_15&startdate=2009-04-24&enddate=2009-05-10&extent=35.88610806&extent=-87.156871&extent=35.91036299&extent=-87.12623542&limit=1000&units=standard\n",
      "No stations found for 3433637 within the given extent: {'north': 35.91036299, 'south': 35.88610806, 'east': -87.12623542, 'west': -87.156871}\n",
      "Attempting to expand the extent by 0.2 degrees...\n",
      "https://www.ncdc.noaa.gov/cdo-web/api/v2/stations?datasetid=PRECIP_15&startdate=2009-04-24&enddate=2009-05-10&extent=35.686108059999995&extent=-87.356871&extent=36.110362990000006&extent=-86.92623542&limit=1000&units=standard\n",
      "No stations found even after expanding the extent. Skipping this gauge.\n",
      "Rainfall data processing is done for 3433637 starting from 2009-04-24\n",
      "https://www.ncdc.noaa.gov/cdo-web/api/v2/stations?datasetid=PRECIP_15&startdate=2011-03-28&enddate=2011-04-13&extent=35.88397462&extent=-87.13499686&extent=35.91192244&extent=-87.09880096&limit=1000&units=standard\n",
      "No stations found for 3433640 within the given extent: {'north': 35.91192244, 'south': 35.88397462, 'east': -87.09880096, 'west': -87.13499686}\n",
      "Attempting to expand the extent by 0.2 degrees...\n",
      "https://www.ncdc.noaa.gov/cdo-web/api/v2/stations?datasetid=PRECIP_15&startdate=2011-03-28&enddate=2011-04-13&extent=35.683974619999994&extent=-87.33499686&extent=36.11192244&extent=-86.89880096&limit=1000&units=standard\n",
      "No stations found even after expanding the extent. Skipping this gauge.\n",
      "Rainfall data processing is done for 3433640 starting from 2011-03-28\n",
      "https://www.ncdc.noaa.gov/cdo-web/api/v2/stations?datasetid=PRECIP_15&startdate=2000-04-18&enddate=2000-05-04&extent=36.40887148&extent=-87.08152355&extent=36.50095989&extent=-86.95576251&limit=1000&units=standard\n",
      "No stations found for 3435970 within the given extent: {'north': 36.50095989, 'south': 36.40887148, 'east': -86.95576251, 'west': -87.08152355}\n",
      "Attempting to expand the extent by 0.2 degrees...\n",
      "https://www.ncdc.noaa.gov/cdo-web/api/v2/stations?datasetid=PRECIP_15&startdate=2000-04-18&enddate=2000-05-04&extent=36.20887148&extent=-87.28152355&extent=36.70095989&extent=-86.75576251&limit=1000&units=standard\n",
      "https://www.ncdc.noaa.gov/cdo-web/api/v2/data?datasetid=PRECIP_15&startdate=2000-04-18&enddate=2000-05-04&stationid=COOP:401663&limit=1000&units=standard\n",
      "https://www.ncdc.noaa.gov/cdo-web/api/v2/data?datasetid=PRECIP_15&startdate=2000-04-18&enddate=2000-05-04&stationid=COOP:408562&limit=1000&units=standard\n",
      "Rainfall data processing is done for 3435970 starting from 2000-04-18\n",
      "https://www.ncdc.noaa.gov/cdo-web/api/v2/stations?datasetid=PRECIP_15&startdate=2000-05-27&enddate=2000-06-13&extent=36.17010954&extent=-82.77742688&extent=36.3061735&extent=-82.66685482&limit=1000&units=standard\n",
      "No stations found for 3466228 within the given extent: {'north': 36.3061735, 'south': 36.17010954, 'east': -82.66685482, 'west': -82.77742688}\n",
      "Attempting to expand the extent by 0.2 degrees...\n",
      "https://www.ncdc.noaa.gov/cdo-web/api/v2/stations?datasetid=PRECIP_15&startdate=2000-05-27&enddate=2000-06-13&extent=35.970109539999996&extent=-82.97742688&extent=36.5061735&extent=-82.46685482&limit=1000&units=standard\n",
      "No stations found even after expanding the extent. Skipping this gauge.\n",
      "Rainfall data processing is done for 3466228 starting from 2000-05-27\n",
      "https://www.ncdc.noaa.gov/cdo-web/api/v2/stations?datasetid=PRECIP_15&startdate=2004-06-05&enddate=2004-06-22&extent=36.23566899&extent=-82.37727876&extent=36.31697728&extent=-82.32536546&limit=1000&units=standard\n",
      "No stations found for 3486311 within the given extent: {'north': 36.31697728, 'south': 36.23566899, 'east': -82.32536546, 'west': -82.37727876}\n",
      "Attempting to expand the extent by 0.2 degrees...\n",
      "https://www.ncdc.noaa.gov/cdo-web/api/v2/stations?datasetid=PRECIP_15&startdate=2004-06-05&enddate=2004-06-22&extent=36.03566899&extent=-82.57727876&extent=36.516977280000006&extent=-82.12536546&limit=1000&units=standard\n",
      "https://www.ncdc.noaa.gov/cdo-web/api/v2/data?datasetid=PRECIP_15&startdate=2004-06-05&enddate=2004-06-22&stationid=COOP:402934&limit=1000&units=standard\n",
      "Rainfall data processing is done for 3486311 starting from 2004-06-05\n",
      "https://www.ncdc.noaa.gov/cdo-web/api/v2/stations?datasetid=PRECIP_15&startdate=2016-03-25&enddate=2016-04-10&extent=36.37321371&extent=-83.05688717&extent=36.42555552&extent=-82.98309718&limit=1000&units=standard\n",
      "No stations found for 3491544 within the given extent: {'north': 36.42555552, 'south': 36.37321371, 'east': -82.98309718, 'west': -83.05688717}\n",
      "Attempting to expand the extent by 0.2 degrees...\n",
      "https://www.ncdc.noaa.gov/cdo-web/api/v2/stations?datasetid=PRECIP_15&startdate=2016-03-25&enddate=2016-04-10&extent=36.17321371&extent=-83.25688717&extent=36.625555520000006&extent=-82.78309718&limit=1000&units=standard\n",
      "No stations found even after expanding the extent. Skipping this gauge.\n",
      "Rainfall data processing is done for 3491544 starting from 2016-03-25\n",
      "https://www.ncdc.noaa.gov/cdo-web/api/v2/stations?datasetid=PRECIP_15&startdate=2009-04-28&enddate=2009-05-14&extent=35.8546123&extent=-83.85496784&extent=35.8929825&extent=-83.8007075&limit=1000&units=standard\n",
      "No stations found for 34991105 within the given extent: {'north': 35.8929825, 'south': 35.8546123, 'east': -83.8007075, 'west': -83.85496784}\n",
      "Attempting to expand the extent by 0.2 degrees...\n",
      "https://www.ncdc.noaa.gov/cdo-web/api/v2/stations?datasetid=PRECIP_15&startdate=2009-04-28&enddate=2009-05-14&extent=35.6546123&extent=-84.05496784&extent=36.092982500000005&extent=-83.6007075&limit=1000&units=standard\n",
      "No stations found even after expanding the extent. Skipping this gauge.\n",
      "Rainfall data processing is done for 34991105 starting from 2009-04-28\n",
      "https://www.ncdc.noaa.gov/cdo-web/api/v2/stations?datasetid=PRECIP_15&startdate=2011-06-15&enddate=2011-07-02&extent=35.85339047&extent=-83.89852241&extent=35.91893952&extent=-83.8007075&limit=1000&units=standard\n",
      "No stations found for 34991109 within the given extent: {'north': 35.91893952, 'south': 35.85339047, 'east': -83.8007075, 'west': -83.89852241}\n",
      "Attempting to expand the extent by 0.2 degrees...\n",
      "https://www.ncdc.noaa.gov/cdo-web/api/v2/stations?datasetid=PRECIP_15&startdate=2011-06-15&enddate=2011-07-02&extent=35.65339047&extent=-84.09852241&extent=36.118939520000005&extent=-83.6007075&limit=1000&units=standard\n",
      "No stations found even after expanding the extent. Skipping this gauge.\n",
      "Rainfall data processing is done for 34991109 starting from 2011-06-15\n",
      "https://www.ncdc.noaa.gov/cdo-web/api/v2/stations?datasetid=PRECIP_15&startdate=2018-04-01&enddate=2018-04-17&extent=35.5602573&extent=-83.84338361&extent=35.62883319&extent=-83.72851131&limit=1000&units=standard\n",
      "No stations found for 3518100 within the given extent: {'north': 35.62883319, 'south': 35.5602573, 'east': -83.72851131, 'west': -83.84338361}\n",
      "Attempting to expand the extent by 0.2 degrees...\n",
      "https://www.ncdc.noaa.gov/cdo-web/api/v2/stations?datasetid=PRECIP_15&startdate=2018-04-01&enddate=2018-04-17&extent=35.3602573&extent=-84.04338361&extent=35.828833190000005&extent=-83.52851131&limit=1000&units=standard\n",
      "No stations found even after expanding the extent. Skipping this gauge.\n",
      "Rainfall data processing is done for 3518100 starting from 2018-04-01\n",
      "https://www.ncdc.noaa.gov/cdo-web/api/v2/stations?datasetid=PRECIP_15&startdate=2003-04-29&enddate=2003-05-15&extent=35.43234109&extent=-84.61386089&extent=35.5391693&extent=-84.44254838&limit=1000&units=standard\n",
      "No stations found for 3565442 within the given extent: {'north': 35.5391693, 'south': 35.43234109, 'east': -84.44254838, 'west': -84.61386089}\n",
      "Attempting to expand the extent by 0.2 degrees...\n",
      "https://www.ncdc.noaa.gov/cdo-web/api/v2/stations?datasetid=PRECIP_15&startdate=2003-04-29&enddate=2003-05-15&extent=35.23234109&extent=-84.81386089&extent=35.7391693&extent=-84.24254838&limit=1000&units=standard\n",
      "No stations found even after expanding the extent. Skipping this gauge.\n",
      "Rainfall data processing is done for 3565442 starting from 2003-04-29\n",
      "https://www.ncdc.noaa.gov/cdo-web/api/v2/stations?datasetid=PRECIP_15&startdate=2002-03-24&enddate=2002-04-09&extent=35.29759725&extent=-86.16869329&extent=35.37069856&extent=-86.11064113&limit=1000&units=standard\n",
      "No stations found for 3579040 within the given extent: {'north': 35.37069856, 'south': 35.29759725, 'east': -86.11064113, 'west': -86.16869329}\n",
      "Attempting to expand the extent by 0.2 degrees...\n",
      "https://www.ncdc.noaa.gov/cdo-web/api/v2/stations?datasetid=PRECIP_15&startdate=2002-03-24&enddate=2002-04-09&extent=35.09759725&extent=-86.36869329&extent=35.570698560000004&extent=-85.91064113&limit=1000&units=standard\n",
      "No stations found even after expanding the extent. Skipping this gauge.\n",
      "Rainfall data processing is done for 3579040 starting from 2002-03-24\n",
      "https://www.ncdc.noaa.gov/cdo-web/api/v2/stations?datasetid=PRECIP_15&startdate=2002-03-24&enddate=2002-04-09&extent=35.36054983&extent=-86.15944768&extent=35.45212428&extent=-86.03567599&limit=1000&units=standard\n",
      "No stations found for 3596100 within the given extent: {'north': 35.45212428, 'south': 35.36054983, 'east': -86.03567599, 'west': -86.15944768}\n",
      "Attempting to expand the extent by 0.2 degrees...\n",
      "https://www.ncdc.noaa.gov/cdo-web/api/v2/stations?datasetid=PRECIP_15&startdate=2002-03-24&enddate=2002-04-09&extent=35.160549829999994&extent=-86.35944768&extent=35.65212428&extent=-85.83567599&limit=1000&units=standard\n",
      "https://www.ncdc.noaa.gov/cdo-web/api/v2/data?datasetid=PRECIP_15&startdate=2002-03-24&enddate=2002-04-09&stationid=COOP:406162&limit=1000&units=standard\n",
      "Rainfall data processing is done for 3596100 starting from 2002-03-24\n",
      "https://www.ncdc.noaa.gov/cdo-web/api/v2/stations?datasetid=PRECIP_15&startdate=2012-05-25&enddate=2012-06-10&extent=35.9593737&extent=-88.17490636&extent=36.10035386&extent=-88.06467076&limit=1000&units=standard\n",
      "No stations found for 3605078 within the given extent: {'north': 36.10035386, 'south': 35.9593737, 'east': -88.06467076, 'west': -88.17490636}\n",
      "Attempting to expand the extent by 0.2 degrees...\n",
      "https://www.ncdc.noaa.gov/cdo-web/api/v2/stations?datasetid=PRECIP_15&startdate=2012-05-25&enddate=2012-06-10&extent=35.7593737&extent=-88.37490636&extent=36.30035386&extent=-87.86467076&limit=1000&units=standard\n",
      "No stations found even after expanding the extent. Skipping this gauge.\n",
      "Rainfall data processing is done for 3605078 starting from 2012-05-25\n",
      "https://www.ncdc.noaa.gov/cdo-web/api/v2/stations?datasetid=PRECIP_15&startdate=2001-03-28&enddate=2001-04-13&extent=35.79841428&extent=-88.81509142&extent=35.83311581&extent=-88.75380996&limit=1000&units=standard\n",
      "No stations found for 7028930 within the given extent: {'north': 35.83311581, 'south': 35.79841428, 'east': -88.75380996, 'west': -88.81509142}\n",
      "Attempting to expand the extent by 0.2 degrees...\n",
      "https://www.ncdc.noaa.gov/cdo-web/api/v2/stations?datasetid=PRECIP_15&startdate=2001-03-28&enddate=2001-04-13&extent=35.59841428&extent=-89.01509142&extent=36.033115810000005&extent=-88.55380996&limit=1000&units=standard\n",
      "https://www.ncdc.noaa.gov/cdo-web/api/v2/data?datasetid=PRECIP_15&startdate=2001-03-28&enddate=2001-04-13&stationid=COOP:404561&limit=1000&units=standard\n",
      "Warning: could not squash response: \n",
      " <Response [503]>, b'<!DOCTYPE HTML PUBLIC \"-//IETF//DTD HTML 2.0//EN\">\\n<html><head>\\n<title>503 Service Unavailable</title>\\n</head><body>\\n<h1>Service Unavailable</h1>\\n<p>The server is temporarily unable to service your\\nrequest due to maintenance downtime or capacity\\nproblems. Please try again later.</p>\\n<p>Additionally, a 503 Service Unavailable\\nerror was encountered while trying to use an ErrorDocument to handle the request.</p>\\n</body></html>\\n'\n",
      "Warnings for 7028930: \"None of [Index(['date', 'QPCP'], dtype='object')] are in the [columns]\"\n",
      "No valid data collected for 7028930. Exiting process.\n",
      "Rainfall data processing is done for 7028930 starting from 2001-03-28\n",
      "https://www.ncdc.noaa.gov/cdo-web/api/v2/stations?datasetid=PRECIP_15&startdate=2020-05-30&enddate=2020-06-12&extent=36.06495557&extent=-86.81620105&extent=36.16118001&extent=-86.72033451&limit=1000&units=standard\n",
      "No stations found for 3431300 within the given extent: {'north': 36.16118001, 'south': 36.06495557, 'east': -86.72033451, 'west': -86.81620105}\n",
      "Attempting to expand the extent by 0.2 degrees...\n",
      "https://www.ncdc.noaa.gov/cdo-web/api/v2/stations?datasetid=PRECIP_15&startdate=2020-05-30&enddate=2020-06-12&extent=35.86495557&extent=-87.01620105&extent=36.361180010000005&extent=-86.52033451&limit=1000&units=standard\n",
      "No stations found even after expanding the extent. Skipping this gauge.\n",
      "Rainfall data processing is done for 3431300 starting from 2020-05-30\n",
      "https://www.ncdc.noaa.gov/cdo-web/api/v2/stations?datasetid=PRECIP_15&startdate=2020-08-23&enddate=2020-09-08&extent=36.06439975&extent=-86.91755364&extent=36.1539268&extent=-86.79783154&limit=1000&units=standard\n",
      "No stations found for 3431700 within the given extent: {'north': 36.1539268, 'south': 36.06439975, 'east': -86.79783154, 'west': -86.91755364}\n",
      "Attempting to expand the extent by 0.2 degrees...\n",
      "https://www.ncdc.noaa.gov/cdo-web/api/v2/stations?datasetid=PRECIP_15&startdate=2020-08-23&enddate=2020-09-08&extent=35.86439975&extent=-87.11755364&extent=36.3539268&extent=-86.59783154&limit=1000&units=standard\n",
      "No stations found even after expanding the extent. Skipping this gauge.\n",
      "Rainfall data processing is done for 3431700 starting from 2020-08-23\n",
      "https://www.ncdc.noaa.gov/cdo-web/api/v2/stations?datasetid=PRECIP_15&startdate=2020-07-25&enddate=2020-08-10&extent=35.58924747&extent=-83.58869221&extent=35.70895269&extent=-83.38886094&limit=1000&units=standard\n",
      "No stations found for 3469251 within the given extent: {'north': 35.70895269, 'south': 35.58924747, 'east': -83.38886094, 'west': -83.58869221}\n",
      "Attempting to expand the extent by 0.2 degrees...\n",
      "https://www.ncdc.noaa.gov/cdo-web/api/v2/stations?datasetid=PRECIP_15&startdate=2020-07-25&enddate=2020-08-10&extent=35.389247469999994&extent=-83.78869221000001&extent=35.90895269&extent=-83.18886094&limit=1000&units=standard\n",
      "No stations found even after expanding the extent. Skipping this gauge.\n",
      "Rainfall data processing is done for 3469251 starting from 2020-07-25\n",
      "https://www.ncdc.noaa.gov/cdo-web/api/v2/stations?datasetid=PRECIP_15&startdate=2003-07-07&enddate=2003-07-20&extent=35.97466049&extent=-84.2748036&extent=36.01601348&extent=-84.22800419&limit=1000&units=standard\n",
      "No stations found for 3538235 within the given extent: {'north': 36.01601348, 'south': 35.97466049, 'east': -84.22800419, 'west': -84.2748036}\n",
      "Attempting to expand the extent by 0.2 degrees...\n",
      "https://www.ncdc.noaa.gov/cdo-web/api/v2/stations?datasetid=PRECIP_15&startdate=2003-07-07&enddate=2003-07-20&extent=35.774660489999995&extent=-84.4748036&extent=36.21601348&extent=-84.02800418999999&limit=1000&units=standard\n",
      "No stations found even after expanding the extent. Skipping this gauge.\n",
      "Rainfall data processing is done for 3538235 starting from 2003-07-07\n",
      "https://www.ncdc.noaa.gov/cdo-web/api/v2/stations?datasetid=PRECIP_15&startdate=2020-08-24&enddate=2020-09-10&extent=34.98438763&extent=-85.07389224&extent=35.07348289&extent=-84.97657938&limit=1000&units=standard\n",
      "No stations found for 3566420 within the given extent: {'north': 35.07348289, 'south': 34.98438763, 'east': -84.97657938, 'west': -85.07389224}\n",
      "Attempting to expand the extent by 0.2 degrees...\n",
      "https://www.ncdc.noaa.gov/cdo-web/api/v2/stations?datasetid=PRECIP_15&startdate=2020-08-24&enddate=2020-09-10&extent=34.78438763&extent=-85.27389224000001&extent=35.273482890000004&extent=-84.77657938&limit=1000&units=standard\n",
      "No stations found even after expanding the extent. Skipping this gauge.\n",
      "Rainfall data processing is done for 3566420 starting from 2020-08-24\n",
      "https://www.ncdc.noaa.gov/cdo-web/api/v2/stations?datasetid=PRECIP_15&startdate=2020-08-21&enddate=2020-09-06&extent=36.02985571&extent=-88.4245398&extent=36.13893026&extent=-88.30413436&limit=1000&units=standard\n",
      "No stations found for 7024200 within the given extent: {'north': 36.13893026, 'south': 36.02985571, 'east': -88.30413436, 'west': -88.4245398}\n",
      "Attempting to expand the extent by 0.2 degrees...\n",
      "https://www.ncdc.noaa.gov/cdo-web/api/v2/stations?datasetid=PRECIP_15&startdate=2020-08-21&enddate=2020-09-06&extent=35.82985571&extent=-88.62453980000001&extent=36.338930260000005&extent=-88.10413436&limit=1000&units=standard\n",
      "No stations found even after expanding the extent. Skipping this gauge.\n",
      "Rainfall data processing is done for 7024200 starting from 2020-08-21\n",
      "https://www.ncdc.noaa.gov/cdo-web/api/v2/stations?datasetid=PRECIP_15&startdate=2010-08-03&enddate=2010-08-20&extent=35.13780356&extent=-89.87493327&extent=35.23990334&extent=-89.74421197&limit=1000&units=standard\n",
      "No stations found for 7031692 within the given extent: {'north': 35.23990334, 'south': 35.13780356, 'east': -89.74421197, 'west': -89.87493327}\n",
      "Attempting to expand the extent by 0.2 degrees...\n",
      "https://www.ncdc.noaa.gov/cdo-web/api/v2/stations?datasetid=PRECIP_15&startdate=2010-08-03&enddate=2010-08-20&extent=34.93780356&extent=-90.07493327&extent=35.43990334&extent=-89.54421196999999&limit=1000&units=standard\n",
      "https://www.ncdc.noaa.gov/cdo-web/api/v2/data?datasetid=PRECIP_15&startdate=2010-08-03&enddate=2010-08-20&stationid=COOP:405956&limit=1000&units=standard\n",
      "Rainfall data processing is done for 7031692 starting from 2010-08-03\n",
      "https://www.ncdc.noaa.gov/cdo-web/api/v2/stations?datasetid=PRECIP_15&startdate=2020-05-30&enddate=2020-06-12&extent=36.06495557&extent=-86.81620105&extent=36.16118001&extent=-86.72033451&limit=1000&units=standard\n",
      "No stations found for 3431300 within the given extent: {'north': 36.16118001, 'south': 36.06495557, 'east': -86.72033451, 'west': -86.81620105}\n",
      "Attempting to expand the extent by 0.2 degrees...\n",
      "https://www.ncdc.noaa.gov/cdo-web/api/v2/stations?datasetid=PRECIP_15&startdate=2020-05-30&enddate=2020-06-12&extent=35.86495557&extent=-87.01620105&extent=36.361180010000005&extent=-86.52033451&limit=1000&units=standard\n",
      "No stations found even after expanding the extent. Skipping this gauge.\n",
      "Rainfall data processing is done for 3431300 starting from 2020-05-30\n",
      "https://www.ncdc.noaa.gov/cdo-web/api/v2/stations?datasetid=PRECIP_15&startdate=2017-08-09&enddate=2017-08-25&extent=36.06439975&extent=-86.91755364&extent=36.1539268&extent=-86.79783154&limit=1000&units=standard\n",
      "No stations found for 3431700 within the given extent: {'north': 36.1539268, 'south': 36.06439975, 'east': -86.79783154, 'west': -86.91755364}\n",
      "Attempting to expand the extent by 0.2 degrees...\n",
      "https://www.ncdc.noaa.gov/cdo-web/api/v2/stations?datasetid=PRECIP_15&startdate=2017-08-09&enddate=2017-08-25&extent=35.86439975&extent=-87.11755364&extent=36.3539268&extent=-86.59783154&limit=1000&units=standard\n",
      "No stations found even after expanding the extent. Skipping this gauge.\n",
      "Rainfall data processing is done for 3431700 starting from 2017-08-09\n",
      "https://www.ncdc.noaa.gov/cdo-web/api/v2/stations?datasetid=PRECIP_15&startdate=2020-07-30&enddate=2020-08-16&extent=35.58924747&extent=-83.58869221&extent=35.70895269&extent=-83.38886094&limit=1000&units=standard\n",
      "No stations found for 3469251 within the given extent: {'north': 35.70895269, 'south': 35.58924747, 'east': -83.38886094, 'west': -83.58869221}\n",
      "Attempting to expand the extent by 0.2 degrees...\n",
      "https://www.ncdc.noaa.gov/cdo-web/api/v2/stations?datasetid=PRECIP_15&startdate=2020-07-30&enddate=2020-08-16&extent=35.389247469999994&extent=-83.78869221000001&extent=35.90895269&extent=-83.18886094&limit=1000&units=standard\n",
      "No stations found even after expanding the extent. Skipping this gauge.\n",
      "Rainfall data processing is done for 3469251 starting from 2020-07-30\n",
      "https://www.ncdc.noaa.gov/cdo-web/api/v2/stations?datasetid=PRECIP_15&startdate=2003-07-08&enddate=2003-07-21&extent=35.97466049&extent=-84.2748036&extent=36.01601348&extent=-84.22800419&limit=1000&units=standard\n",
      "No stations found for 3538235 within the given extent: {'north': 36.01601348, 'south': 35.97466049, 'east': -84.22800419, 'west': -84.2748036}\n",
      "Attempting to expand the extent by 0.2 degrees...\n",
      "https://www.ncdc.noaa.gov/cdo-web/api/v2/stations?datasetid=PRECIP_15&startdate=2003-07-08&enddate=2003-07-21&extent=35.774660489999995&extent=-84.4748036&extent=36.21601348&extent=-84.02800418999999&limit=1000&units=standard\n",
      "No stations found even after expanding the extent. Skipping this gauge.\n",
      "Rainfall data processing is done for 3538235 starting from 2003-07-08\n",
      "https://www.ncdc.noaa.gov/cdo-web/api/v2/stations?datasetid=PRECIP_15&startdate=2020-08-23&enddate=2020-09-08&extent=36.02985571&extent=-88.4245398&extent=36.13893026&extent=-88.30413436&limit=1000&units=standard\n",
      "No stations found for 7024200 within the given extent: {'north': 36.13893026, 'south': 36.02985571, 'east': -88.30413436, 'west': -88.4245398}\n",
      "Attempting to expand the extent by 0.2 degrees...\n",
      "https://www.ncdc.noaa.gov/cdo-web/api/v2/stations?datasetid=PRECIP_15&startdate=2020-08-23&enddate=2020-09-08&extent=35.82985571&extent=-88.62453980000001&extent=36.338930260000005&extent=-88.10413436&limit=1000&units=standard\n",
      "No stations found even after expanding the extent. Skipping this gauge.\n",
      "Rainfall data processing is done for 7024200 starting from 2020-08-23\n",
      "https://www.ncdc.noaa.gov/cdo-web/api/v2/stations?datasetid=PRECIP_15&startdate=2010-08-05&enddate=2010-08-21&extent=35.13780356&extent=-89.87493327&extent=35.23990334&extent=-89.74421197&limit=1000&units=standard\n",
      "No stations found for 7031692 within the given extent: {'north': 35.23990334, 'south': 35.13780356, 'east': -89.74421197, 'west': -89.87493327}\n",
      "Attempting to expand the extent by 0.2 degrees...\n",
      "https://www.ncdc.noaa.gov/cdo-web/api/v2/stations?datasetid=PRECIP_15&startdate=2010-08-05&enddate=2010-08-21&extent=34.93780356&extent=-90.07493327&extent=35.43990334&extent=-89.54421196999999&limit=1000&units=standard\n",
      "https://www.ncdc.noaa.gov/cdo-web/api/v2/data?datasetid=PRECIP_15&startdate=2010-08-05&enddate=2010-08-21&stationid=COOP:405956&limit=1000&units=standard\n",
      "Rainfall data processing is done for 7031692 starting from 2010-08-05\n",
      "https://www.ncdc.noaa.gov/cdo-web/api/v2/stations?datasetid=PRECIP_15&startdate=2020-06-16&enddate=2020-06-29&extent=36.06495557&extent=-86.81620105&extent=36.16118001&extent=-86.72033451&limit=1000&units=standard\n",
      "No stations found for 3431300 within the given extent: {'north': 36.16118001, 'south': 36.06495557, 'east': -86.72033451, 'west': -86.81620105}\n",
      "Attempting to expand the extent by 0.2 degrees...\n",
      "https://www.ncdc.noaa.gov/cdo-web/api/v2/stations?datasetid=PRECIP_15&startdate=2020-06-16&enddate=2020-06-29&extent=35.86495557&extent=-87.01620105&extent=36.361180010000005&extent=-86.52033451&limit=1000&units=standard\n",
      "No stations found even after expanding the extent. Skipping this gauge.\n",
      "Rainfall data processing is done for 3431300 starting from 2020-06-16\n",
      "https://www.ncdc.noaa.gov/cdo-web/api/v2/stations?datasetid=PRECIP_15&startdate=2017-08-15&enddate=2017-09-01&extent=36.06439975&extent=-86.91755364&extent=36.1539268&extent=-86.79783154&limit=1000&units=standard\n",
      "No stations found for 3431700 within the given extent: {'north': 36.1539268, 'south': 36.06439975, 'east': -86.79783154, 'west': -86.91755364}\n",
      "Attempting to expand the extent by 0.2 degrees...\n",
      "https://www.ncdc.noaa.gov/cdo-web/api/v2/stations?datasetid=PRECIP_15&startdate=2017-08-15&enddate=2017-09-01&extent=35.86439975&extent=-87.11755364&extent=36.3539268&extent=-86.59783154&limit=1000&units=standard\n",
      "No stations found even after expanding the extent. Skipping this gauge.\n",
      "Rainfall data processing is done for 3431700 starting from 2017-08-15\n",
      "https://www.ncdc.noaa.gov/cdo-web/api/v2/stations?datasetid=PRECIP_15&startdate=2020-08-07&enddate=2020-08-24&extent=35.58924747&extent=-83.58869221&extent=35.70895269&extent=-83.38886094&limit=1000&units=standard\n",
      "No stations found for 3469251 within the given extent: {'north': 35.70895269, 'south': 35.58924747, 'east': -83.38886094, 'west': -83.58869221}\n",
      "Attempting to expand the extent by 0.2 degrees...\n",
      "https://www.ncdc.noaa.gov/cdo-web/api/v2/stations?datasetid=PRECIP_15&startdate=2020-08-07&enddate=2020-08-24&extent=35.389247469999994&extent=-83.78869221000001&extent=35.90895269&extent=-83.18886094&limit=1000&units=standard\n",
      "No stations found even after expanding the extent. Skipping this gauge.\n",
      "Rainfall data processing is done for 3469251 starting from 2020-08-07\n",
      "https://www.ncdc.noaa.gov/cdo-web/api/v2/stations?datasetid=PRECIP_15&startdate=2003-07-17&enddate=2003-07-30&extent=35.97466049&extent=-84.2748036&extent=36.01601348&extent=-84.22800419&limit=1000&units=standard\n",
      "No stations found for 3538235 within the given extent: {'north': 36.01601348, 'south': 35.97466049, 'east': -84.22800419, 'west': -84.2748036}\n",
      "Attempting to expand the extent by 0.2 degrees...\n",
      "https://www.ncdc.noaa.gov/cdo-web/api/v2/stations?datasetid=PRECIP_15&startdate=2003-07-17&enddate=2003-07-30&extent=35.774660489999995&extent=-84.4748036&extent=36.21601348&extent=-84.02800418999999&limit=1000&units=standard\n",
      "No stations found even after expanding the extent. Skipping this gauge.\n",
      "Rainfall data processing is done for 3538235 starting from 2003-07-17\n",
      "https://www.ncdc.noaa.gov/cdo-web/api/v2/stations?datasetid=PRECIP_15&startdate=2020-08-24&enddate=2020-09-10&extent=36.02985571&extent=-88.4245398&extent=36.13893026&extent=-88.30413436&limit=1000&units=standard\n",
      "No stations found for 7024200 within the given extent: {'north': 36.13893026, 'south': 36.02985571, 'east': -88.30413436, 'west': -88.4245398}\n",
      "Attempting to expand the extent by 0.2 degrees...\n",
      "https://www.ncdc.noaa.gov/cdo-web/api/v2/stations?datasetid=PRECIP_15&startdate=2020-08-24&enddate=2020-09-10&extent=35.82985571&extent=-88.62453980000001&extent=36.338930260000005&extent=-88.10413436&limit=1000&units=standard\n",
      "No stations found even after expanding the extent. Skipping this gauge.\n",
      "Rainfall data processing is done for 7024200 starting from 2020-08-24\n",
      "https://www.ncdc.noaa.gov/cdo-web/api/v2/stations?datasetid=PRECIP_15&startdate=2010-08-15&enddate=2010-08-31&extent=35.13780356&extent=-89.87493327&extent=35.23990334&extent=-89.74421197&limit=1000&units=standard\n",
      "No stations found for 7031692 within the given extent: {'north': 35.23990334, 'south': 35.13780356, 'east': -89.74421197, 'west': -89.87493327}\n",
      "Attempting to expand the extent by 0.2 degrees...\n",
      "https://www.ncdc.noaa.gov/cdo-web/api/v2/stations?datasetid=PRECIP_15&startdate=2010-08-15&enddate=2010-08-31&extent=34.93780356&extent=-90.07493327&extent=35.43990334&extent=-89.54421196999999&limit=1000&units=standard\n",
      "Warning: could not squash response: \n",
      " <Response [503]>, b'<!DOCTYPE HTML PUBLIC \"-//IETF//DTD HTML 2.0//EN\">\\n<html><head>\\n<title>503 Service Unavailable</title>\\n</head><body>\\n<h1>Service Unavailable</h1>\\n<p>The server is temporarily unable to service your\\nrequest due to maintenance downtime or capacity\\nproblems. Please try again later.</p>\\n<p>Additionally, a 503 Service Unavailable\\nerror was encountered while trying to use an ErrorDocument to handle the request.</p>\\n</body></html>\\n'\n",
      "No stations found even after expanding the extent. Skipping this gauge.\n",
      "Rainfall data processing is done for 7031692 starting from 2010-08-15\n",
      "https://www.ncdc.noaa.gov/cdo-web/api/v2/stations?datasetid=PRECIP_15&startdate=2020-06-17&enddate=2020-07-01&extent=36.06495557&extent=-86.81620105&extent=36.16118001&extent=-86.72033451&limit=1000&units=standard\n",
      "No stations found for 3431300 within the given extent: {'north': 36.16118001, 'south': 36.06495557, 'east': -86.72033451, 'west': -86.81620105}\n",
      "Attempting to expand the extent by 0.2 degrees...\n",
      "https://www.ncdc.noaa.gov/cdo-web/api/v2/stations?datasetid=PRECIP_15&startdate=2020-06-17&enddate=2020-07-01&extent=35.86495557&extent=-87.01620105&extent=36.361180010000005&extent=-86.52033451&limit=1000&units=standard\n",
      "No stations found even after expanding the extent. Skipping this gauge.\n",
      "Rainfall data processing is done for 3431300 starting from 2020-06-17\n",
      "https://www.ncdc.noaa.gov/cdo-web/api/v2/stations?datasetid=PRECIP_15&startdate=2017-08-24&enddate=2017-09-09&extent=36.06439975&extent=-86.91755364&extent=36.1539268&extent=-86.79783154&limit=1000&units=standard\n",
      "Warning: could not squash response: \n",
      " <Response [503]>, b'<!DOCTYPE HTML PUBLIC \"-//IETF//DTD HTML 2.0//EN\">\\n<html><head>\\n<title>503 Service Unavailable</title>\\n</head><body>\\n<h1>Service Unavailable</h1>\\n<p>The server is temporarily unable to service your\\nrequest due to maintenance downtime or capacity\\nproblems. Please try again later.</p>\\n<p>Additionally, a 503 Service Unavailable\\nerror was encountered while trying to use an ErrorDocument to handle the request.</p>\\n</body></html>\\n'\n",
      "No stations found for 3431700 within the given extent: {'north': 36.1539268, 'south': 36.06439975, 'east': -86.79783154, 'west': -86.91755364}\n",
      "Attempting to expand the extent by 0.2 degrees...\n",
      "https://www.ncdc.noaa.gov/cdo-web/api/v2/stations?datasetid=PRECIP_15&startdate=2017-08-24&enddate=2017-09-09&extent=35.86439975&extent=-87.11755364&extent=36.3539268&extent=-86.59783154&limit=1000&units=standard\n",
      "No stations found even after expanding the extent. Skipping this gauge.\n",
      "Rainfall data processing is done for 3431700 starting from 2017-08-24\n",
      "https://www.ncdc.noaa.gov/cdo-web/api/v2/stations?datasetid=PRECIP_15&startdate=2020-08-18&enddate=2020-09-03&extent=35.58924747&extent=-83.58869221&extent=35.70895269&extent=-83.38886094&limit=1000&units=standard\n",
      "No stations found for 3469251 within the given extent: {'north': 35.70895269, 'south': 35.58924747, 'east': -83.38886094, 'west': -83.58869221}\n",
      "Attempting to expand the extent by 0.2 degrees...\n",
      "https://www.ncdc.noaa.gov/cdo-web/api/v2/stations?datasetid=PRECIP_15&startdate=2020-08-18&enddate=2020-09-03&extent=35.389247469999994&extent=-83.78869221000001&extent=35.90895269&extent=-83.18886094&limit=1000&units=standard\n",
      "No stations found even after expanding the extent. Skipping this gauge.\n",
      "Rainfall data processing is done for 3469251 starting from 2020-08-18\n",
      "https://www.ncdc.noaa.gov/cdo-web/api/v2/stations?datasetid=PRECIP_15&startdate=2003-07-25&enddate=2003-08-08&extent=35.97466049&extent=-84.2748036&extent=36.01601348&extent=-84.22800419&limit=1000&units=standard\n",
      "No stations found for 3538235 within the given extent: {'north': 36.01601348, 'south': 35.97466049, 'east': -84.22800419, 'west': -84.2748036}\n",
      "Attempting to expand the extent by 0.2 degrees...\n",
      "https://www.ncdc.noaa.gov/cdo-web/api/v2/stations?datasetid=PRECIP_15&startdate=2003-07-25&enddate=2003-08-08&extent=35.774660489999995&extent=-84.4748036&extent=36.21601348&extent=-84.02800418999999&limit=1000&units=standard\n",
      "No stations found even after expanding the extent. Skipping this gauge.\n",
      "Rainfall data processing is done for 3538235 starting from 2003-07-25\n",
      "https://www.ncdc.noaa.gov/cdo-web/api/v2/stations?datasetid=PRECIP_15&startdate=2020-06-24&enddate=2020-07-08&extent=36.06495557&extent=-86.81620105&extent=36.16118001&extent=-86.72033451&limit=1000&units=standard\n",
      "No stations found for 3431300 within the given extent: {'north': 36.16118001, 'south': 36.06495557, 'east': -86.72033451, 'west': -86.81620105}\n",
      "Attempting to expand the extent by 0.2 degrees...\n",
      "https://www.ncdc.noaa.gov/cdo-web/api/v2/stations?datasetid=PRECIP_15&startdate=2020-06-24&enddate=2020-07-08&extent=35.86495557&extent=-87.01620105&extent=36.361180010000005&extent=-86.52033451&limit=1000&units=standard\n",
      "No stations found even after expanding the extent. Skipping this gauge.\n",
      "Rainfall data processing is done for 3431300 starting from 2020-06-24\n",
      "https://www.ncdc.noaa.gov/cdo-web/api/v2/stations?datasetid=PRECIP_15&startdate=2017-08-25&enddate=2017-09-10&extent=36.06439975&extent=-86.91755364&extent=36.1539268&extent=-86.79783154&limit=1000&units=standard\n",
      "No stations found for 3431700 within the given extent: {'north': 36.1539268, 'south': 36.06439975, 'east': -86.79783154, 'west': -86.91755364}\n",
      "Attempting to expand the extent by 0.2 degrees...\n",
      "https://www.ncdc.noaa.gov/cdo-web/api/v2/stations?datasetid=PRECIP_15&startdate=2017-08-25&enddate=2017-09-10&extent=35.86439975&extent=-87.11755364&extent=36.3539268&extent=-86.59783154&limit=1000&units=standard\n",
      "No stations found even after expanding the extent. Skipping this gauge.\n",
      "Rainfall data processing is done for 3431700 starting from 2017-08-25\n",
      "https://www.ncdc.noaa.gov/cdo-web/api/v2/stations?datasetid=PRECIP_15&startdate=2020-08-22&enddate=2020-09-07&extent=35.58924747&extent=-83.58869221&extent=35.70895269&extent=-83.38886094&limit=1000&units=standard\n",
      "No stations found for 3469251 within the given extent: {'north': 35.70895269, 'south': 35.58924747, 'east': -83.38886094, 'west': -83.58869221}\n",
      "Attempting to expand the extent by 0.2 degrees...\n",
      "https://www.ncdc.noaa.gov/cdo-web/api/v2/stations?datasetid=PRECIP_15&startdate=2020-08-22&enddate=2020-09-07&extent=35.389247469999994&extent=-83.78869221000001&extent=35.90895269&extent=-83.18886094&limit=1000&units=standard\n",
      "No stations found even after expanding the extent. Skipping this gauge.\n",
      "Rainfall data processing is done for 3469251 starting from 2020-08-22\n",
      "https://www.ncdc.noaa.gov/cdo-web/api/v2/stations?datasetid=PRECIP_15&startdate=2003-07-26&enddate=2003-08-08&extent=35.97466049&extent=-84.2748036&extent=36.01601348&extent=-84.22800419&limit=1000&units=standard\n",
      "No stations found for 3538235 within the given extent: {'north': 36.01601348, 'south': 35.97466049, 'east': -84.22800419, 'west': -84.2748036}\n",
      "Attempting to expand the extent by 0.2 degrees...\n",
      "https://www.ncdc.noaa.gov/cdo-web/api/v2/stations?datasetid=PRECIP_15&startdate=2003-07-26&enddate=2003-08-08&extent=35.774660489999995&extent=-84.4748036&extent=36.21601348&extent=-84.02800418999999&limit=1000&units=standard\n",
      "Warning: could not squash response: \n",
      " <Response [503]>, b'<!DOCTYPE HTML PUBLIC \"-//IETF//DTD HTML 2.0//EN\">\\n<html><head>\\n<title>503 Service Unavailable</title>\\n</head><body>\\n<h1>Service Unavailable</h1>\\n<p>The server is temporarily unable to service your\\nrequest due to maintenance downtime or capacity\\nproblems. Please try again later.</p>\\n<p>Additionally, a 503 Service Unavailable\\nerror was encountered while trying to use an ErrorDocument to handle the request.</p>\\n</body></html>\\n'\n",
      "No stations found even after expanding the extent. Skipping this gauge.\n",
      "Rainfall data processing is done for 3538235 starting from 2003-07-26\n",
      "https://www.ncdc.noaa.gov/cdo-web/api/v2/stations?datasetid=PRECIP_15&startdate=2020-06-25&enddate=2020-07-08&extent=36.06495557&extent=-86.81620105&extent=36.16118001&extent=-86.72033451&limit=1000&units=standard\n",
      "No stations found for 3431300 within the given extent: {'north': 36.16118001, 'south': 36.06495557, 'east': -86.72033451, 'west': -86.81620105}\n",
      "Attempting to expand the extent by 0.2 degrees...\n",
      "https://www.ncdc.noaa.gov/cdo-web/api/v2/stations?datasetid=PRECIP_15&startdate=2020-06-25&enddate=2020-07-08&extent=35.86495557&extent=-87.01620105&extent=36.361180010000005&extent=-86.52033451&limit=1000&units=standard\n",
      "No stations found even after expanding the extent. Skipping this gauge.\n",
      "Rainfall data processing is done for 3431300 starting from 2020-06-25\n",
      "https://www.ncdc.noaa.gov/cdo-web/api/v2/stations?datasetid=PRECIP_15&startdate=2020-08-24&enddate=2020-09-09&extent=35.58924747&extent=-83.58869221&extent=35.70895269&extent=-83.38886094&limit=1000&units=standard\n",
      "No stations found for 3469251 within the given extent: {'north': 35.70895269, 'south': 35.58924747, 'east': -83.38886094, 'west': -83.58869221}\n",
      "Attempting to expand the extent by 0.2 degrees...\n",
      "https://www.ncdc.noaa.gov/cdo-web/api/v2/stations?datasetid=PRECIP_15&startdate=2020-08-24&enddate=2020-09-09&extent=35.389247469999994&extent=-83.78869221000001&extent=35.90895269&extent=-83.18886094&limit=1000&units=standard\n",
      "No stations found even after expanding the extent. Skipping this gauge.\n",
      "Rainfall data processing is done for 3469251 starting from 2020-08-24\n",
      "https://www.ncdc.noaa.gov/cdo-web/api/v2/stations?datasetid=PRECIP_15&startdate=2003-07-28&enddate=2003-08-11&extent=35.97466049&extent=-84.2748036&extent=36.01601348&extent=-84.22800419&limit=1000&units=standard\n",
      "No stations found for 3538235 within the given extent: {'north': 36.01601348, 'south': 35.97466049, 'east': -84.22800419, 'west': -84.2748036}\n",
      "Attempting to expand the extent by 0.2 degrees...\n",
      "https://www.ncdc.noaa.gov/cdo-web/api/v2/stations?datasetid=PRECIP_15&startdate=2003-07-28&enddate=2003-08-11&extent=35.774660489999995&extent=-84.4748036&extent=36.21601348&extent=-84.02800418999999&limit=1000&units=standard\n",
      "No stations found even after expanding the extent. Skipping this gauge.\n",
      "Rainfall data processing is done for 3538235 starting from 2003-07-28\n",
      "https://www.ncdc.noaa.gov/cdo-web/api/v2/stations?datasetid=PRECIP_15&startdate=2020-07-04&enddate=2020-07-17&extent=36.06495557&extent=-86.81620105&extent=36.16118001&extent=-86.72033451&limit=1000&units=standard\n",
      "No stations found for 3431300 within the given extent: {'north': 36.16118001, 'south': 36.06495557, 'east': -86.72033451, 'west': -86.81620105}\n",
      "Attempting to expand the extent by 0.2 degrees...\n",
      "https://www.ncdc.noaa.gov/cdo-web/api/v2/stations?datasetid=PRECIP_15&startdate=2020-07-04&enddate=2020-07-17&extent=35.86495557&extent=-87.01620105&extent=36.361180010000005&extent=-86.52033451&limit=1000&units=standard\n",
      "No stations found even after expanding the extent. Skipping this gauge.\n",
      "Rainfall data processing is done for 3431300 starting from 2020-07-04\n",
      "https://www.ncdc.noaa.gov/cdo-web/api/v2/stations?datasetid=PRECIP_15&startdate=2003-07-29&enddate=2003-08-12&extent=35.97466049&extent=-84.2748036&extent=36.01601348&extent=-84.22800419&limit=1000&units=standard\n",
      "No stations found for 3538235 within the given extent: {'north': 36.01601348, 'south': 35.97466049, 'east': -84.22800419, 'west': -84.2748036}\n",
      "Attempting to expand the extent by 0.2 degrees...\n",
      "https://www.ncdc.noaa.gov/cdo-web/api/v2/stations?datasetid=PRECIP_15&startdate=2003-07-29&enddate=2003-08-12&extent=35.774660489999995&extent=-84.4748036&extent=36.21601348&extent=-84.02800418999999&limit=1000&units=standard\n",
      "No stations found even after expanding the extent. Skipping this gauge.\n",
      "Rainfall data processing is done for 3538235 starting from 2003-07-29\n",
      "https://www.ncdc.noaa.gov/cdo-web/api/v2/stations?datasetid=PRECIP_15&startdate=2020-07-06&enddate=2020-07-20&extent=36.06495557&extent=-86.81620105&extent=36.16118001&extent=-86.72033451&limit=1000&units=standard\n",
      "Warning: could not squash response: \n",
      " <Response [503]>, b'<!DOCTYPE HTML PUBLIC \"-//IETF//DTD HTML 2.0//EN\">\\n<html><head>\\n<title>503 Service Unavailable</title>\\n</head><body>\\n<h1>Service Unavailable</h1>\\n<p>The server is temporarily unable to service your\\nrequest due to maintenance downtime or capacity\\nproblems. Please try again later.</p>\\n<p>Additionally, a 503 Service Unavailable\\nerror was encountered while trying to use an ErrorDocument to handle the request.</p>\\n</body></html>\\n'\n",
      "No stations found for 3431300 within the given extent: {'north': 36.16118001, 'south': 36.06495557, 'east': -86.72033451, 'west': -86.81620105}\n",
      "Attempting to expand the extent by 0.2 degrees...\n",
      "https://www.ncdc.noaa.gov/cdo-web/api/v2/stations?datasetid=PRECIP_15&startdate=2020-07-06&enddate=2020-07-20&extent=35.86495557&extent=-87.01620105&extent=36.361180010000005&extent=-86.52033451&limit=1000&units=standard\n",
      "No stations found even after expanding the extent. Skipping this gauge.\n",
      "Rainfall data processing is done for 3431300 starting from 2020-07-06\n",
      "https://www.ncdc.noaa.gov/cdo-web/api/v2/stations?datasetid=PRECIP_15&startdate=2003-07-30&enddate=2003-08-12&extent=35.97466049&extent=-84.2748036&extent=36.01601348&extent=-84.22800419&limit=1000&units=standard\n",
      "No stations found for 3538235 within the given extent: {'north': 36.01601348, 'south': 35.97466049, 'east': -84.22800419, 'west': -84.2748036}\n",
      "Attempting to expand the extent by 0.2 degrees...\n",
      "https://www.ncdc.noaa.gov/cdo-web/api/v2/stations?datasetid=PRECIP_15&startdate=2003-07-30&enddate=2003-08-12&extent=35.774660489999995&extent=-84.4748036&extent=36.21601348&extent=-84.02800418999999&limit=1000&units=standard\n",
      "No stations found even after expanding the extent. Skipping this gauge.\n",
      "Rainfall data processing is done for 3538235 starting from 2003-07-30\n",
      "https://www.ncdc.noaa.gov/cdo-web/api/v2/stations?datasetid=PRECIP_15&startdate=2020-07-17&enddate=2020-07-30&extent=36.06495557&extent=-86.81620105&extent=36.16118001&extent=-86.72033451&limit=1000&units=standard\n",
      "No stations found for 3431300 within the given extent: {'north': 36.16118001, 'south': 36.06495557, 'east': -86.72033451, 'west': -86.81620105}\n",
      "Attempting to expand the extent by 0.2 degrees...\n",
      "https://www.ncdc.noaa.gov/cdo-web/api/v2/stations?datasetid=PRECIP_15&startdate=2020-07-17&enddate=2020-07-30&extent=35.86495557&extent=-87.01620105&extent=36.361180010000005&extent=-86.52033451&limit=1000&units=standard\n",
      "No stations found even after expanding the extent. Skipping this gauge.\n",
      "Rainfall data processing is done for 3431300 starting from 2020-07-17\n",
      "https://www.ncdc.noaa.gov/cdo-web/api/v2/stations?datasetid=PRECIP_15&startdate=2003-08-04&enddate=2003-08-17&extent=35.97466049&extent=-84.2748036&extent=36.01601348&extent=-84.22800419&limit=1000&units=standard\n",
      "No stations found for 3538235 within the given extent: {'north': 36.01601348, 'south': 35.97466049, 'east': -84.22800419, 'west': -84.2748036}\n",
      "Attempting to expand the extent by 0.2 degrees...\n",
      "https://www.ncdc.noaa.gov/cdo-web/api/v2/stations?datasetid=PRECIP_15&startdate=2003-08-04&enddate=2003-08-17&extent=35.774660489999995&extent=-84.4748036&extent=36.21601348&extent=-84.02800418999999&limit=1000&units=standard\n",
      "No stations found even after expanding the extent. Skipping this gauge.\n",
      "Rainfall data processing is done for 3538235 starting from 2003-08-04\n",
      "https://www.ncdc.noaa.gov/cdo-web/api/v2/stations?datasetid=PRECIP_15&startdate=2020-07-20&enddate=2020-08-02&extent=36.06495557&extent=-86.81620105&extent=36.16118001&extent=-86.72033451&limit=1000&units=standard\n",
      "No stations found for 3431300 within the given extent: {'north': 36.16118001, 'south': 36.06495557, 'east': -86.72033451, 'west': -86.81620105}\n",
      "Attempting to expand the extent by 0.2 degrees...\n",
      "https://www.ncdc.noaa.gov/cdo-web/api/v2/stations?datasetid=PRECIP_15&startdate=2020-07-20&enddate=2020-08-02&extent=35.86495557&extent=-87.01620105&extent=36.361180010000005&extent=-86.52033451&limit=1000&units=standard\n",
      "No stations found even after expanding the extent. Skipping this gauge.\n",
      "Rainfall data processing is done for 3431300 starting from 2020-07-20\n",
      "https://www.ncdc.noaa.gov/cdo-web/api/v2/stations?datasetid=PRECIP_15&startdate=2003-08-12&enddate=2003-08-25&extent=35.97466049&extent=-84.2748036&extent=36.01601348&extent=-84.22800419&limit=1000&units=standard\n",
      "No stations found for 3538235 within the given extent: {'north': 36.01601348, 'south': 35.97466049, 'east': -84.22800419, 'west': -84.2748036}\n",
      "Attempting to expand the extent by 0.2 degrees...\n",
      "https://www.ncdc.noaa.gov/cdo-web/api/v2/stations?datasetid=PRECIP_15&startdate=2003-08-12&enddate=2003-08-25&extent=35.774660489999995&extent=-84.4748036&extent=36.21601348&extent=-84.02800418999999&limit=1000&units=standard\n",
      "No stations found even after expanding the extent. Skipping this gauge.\n",
      "Rainfall data processing is done for 3538235 starting from 2003-08-12\n",
      "https://www.ncdc.noaa.gov/cdo-web/api/v2/stations?datasetid=PRECIP_15&startdate=2007-06-16&enddate=2007-07-03&extent=36.47054977&extent=-85.87185917&extent=36.56569568&extent=-85.80165628&limit=1000&units=standard\n",
      "No stations found for 3312259 within the given extent: {'north': 36.56569568, 'south': 36.47054977, 'east': -85.80165628, 'west': -85.87185917}\n",
      "Attempting to expand the extent by 0.2 degrees...\n",
      "https://www.ncdc.noaa.gov/cdo-web/api/v2/stations?datasetid=PRECIP_15&startdate=2007-06-16&enddate=2007-07-03&extent=36.270549769999995&extent=-86.07185917&extent=36.76569568&extent=-85.60165628&limit=1000&units=standard\n",
      "No stations found even after expanding the extent. Skipping this gauge.\n",
      "Rainfall data processing is done for 3312259 starting from 2007-06-16\n",
      "https://www.ncdc.noaa.gov/cdo-web/api/v2/stations?datasetid=PRECIP_15&startdate=2006-04-14&enddate=2006-04-30&extent=36.26672548&extent=-86.76382851&extent=36.31769794&extent=-86.68765616&limit=1000&units=standard\n",
      "No stations found for 3426470 within the given extent: {'north': 36.31769794, 'south': 36.26672548, 'east': -86.68765616, 'west': -86.76382851}\n",
      "Attempting to expand the extent by 0.2 degrees...\n",
      "https://www.ncdc.noaa.gov/cdo-web/api/v2/stations?datasetid=PRECIP_15&startdate=2006-04-14&enddate=2006-04-30&extent=36.066725479999995&extent=-86.96382851&extent=36.517697940000005&extent=-86.48765616&limit=1000&units=standard\n",
      "https://www.ncdc.noaa.gov/cdo-web/api/v2/data?datasetid=PRECIP_15&startdate=2006-04-14&enddate=2006-04-30&stationid=COOP:406806&limit=1000&units=standard\n",
      "https://www.ncdc.noaa.gov/cdo-web/api/v2/data?datasetid=PRECIP_15&startdate=2006-04-14&enddate=2006-04-30&stationid=COOP:408562&limit=1000&units=standard\n",
      "Rainfall data processing is done for 3426470 starting from 2006-04-14\n",
      "https://www.ncdc.noaa.gov/cdo-web/api/v2/stations?datasetid=PRECIP_15&startdate=2004-06-07&enddate=2004-06-20&extent=35.9138341&extent=-86.86123297&extent=35.93584826&extent=-86.81715714&limit=1000&units=standard\n",
      "No stations found for 34323531 within the given extent: {'north': 35.93584826, 'south': 35.9138341, 'east': -86.81715714, 'west': -86.86123297}\n",
      "Attempting to expand the extent by 0.2 degrees...\n",
      "https://www.ncdc.noaa.gov/cdo-web/api/v2/stations?datasetid=PRECIP_15&startdate=2004-06-07&enddate=2004-06-20&extent=35.7138341&extent=-87.06123297&extent=36.13584826&extent=-86.61715714&limit=1000&units=standard\n",
      "No stations found even after expanding the extent. Skipping this gauge.\n",
      "Rainfall data processing is done for 34323531 starting from 2004-06-07\n",
      "https://www.ncdc.noaa.gov/cdo-web/api/v2/stations?datasetid=PRECIP_15&startdate=2005-06-05&enddate=2005-06-21&extent=35.89558097&extent=-86.90401478&extent=35.93319367&extent=-86.86676872&limit=1000&units=standard\n",
      "No stations found for 3432376 within the given extent: {'north': 35.93319367, 'south': 35.89558097, 'east': -86.86676872, 'west': -86.90401478}\n",
      "Attempting to expand the extent by 0.2 degrees...\n",
      "https://www.ncdc.noaa.gov/cdo-web/api/v2/stations?datasetid=PRECIP_15&startdate=2005-06-05&enddate=2005-06-21&extent=35.695580969999995&extent=-87.10401478&extent=36.133193670000004&extent=-86.66676872&limit=1000&units=standard\n",
      "No stations found even after expanding the extent. Skipping this gauge.\n",
      "Rainfall data processing is done for 3432376 starting from 2005-06-05\n",
      "https://www.ncdc.noaa.gov/cdo-web/api/v2/stations?datasetid=PRECIP_15&startdate=2001-04-08&enddate=2001-04-24&extent=35.92571722&extent=-86.82916748&extent=35.9481873&extent=-86.77946158&limit=1000&units=standard\n",
      "No stations found for 3432387 within the given extent: {'north': 35.9481873, 'south': 35.92571722, 'east': -86.77946158, 'west': -86.82916748}\n",
      "Attempting to expand the extent by 0.2 degrees...\n",
      "https://www.ncdc.noaa.gov/cdo-web/api/v2/stations?datasetid=PRECIP_15&startdate=2001-04-08&enddate=2001-04-24&extent=35.72571722&extent=-87.02916748&extent=36.148187300000004&extent=-86.57946158&limit=1000&units=standard\n",
      "No stations found even after expanding the extent. Skipping this gauge.\n",
      "Rainfall data processing is done for 3432387 starting from 2001-04-08\n",
      "https://www.ncdc.noaa.gov/cdo-web/api/v2/stations?datasetid=PRECIP_15&startdate=2009-02-20&enddate=2009-05-09&extent=35.92571722&extent=-86.86050701&extent=35.99175158&extent=-86.77946158&limit=1000&units=standard\n",
      "No stations found for 3432390 within the given extent: {'north': 35.99175158, 'south': 35.92571722, 'east': -86.77946158, 'west': -86.86050701}\n",
      "Attempting to expand the extent by 0.2 degrees...\n",
      "https://www.ncdc.noaa.gov/cdo-web/api/v2/stations?datasetid=PRECIP_15&startdate=2009-02-20&enddate=2009-05-09&extent=35.72571722&extent=-87.06050701000001&extent=36.19175158&extent=-86.57946158&limit=1000&units=standard\n",
      "No stations found even after expanding the extent. Skipping this gauge.\n",
      "Rainfall data processing is done for 3432390 starting from 2009-02-20\n",
      "https://www.ncdc.noaa.gov/cdo-web/api/v2/stations?datasetid=PRECIP_15&startdate=2010-04-17&enddate=2010-05-03&extent=35.80852748&extent=-87.01515977&extent=35.82814209&extent=-86.97920855&limit=1000&units=standard\n",
      "No stations found for 3432472 within the given extent: {'north': 35.82814209, 'south': 35.80852748, 'east': -86.97920855, 'west': -87.01515977}\n",
      "Attempting to expand the extent by 0.2 degrees...\n",
      "https://www.ncdc.noaa.gov/cdo-web/api/v2/stations?datasetid=PRECIP_15&startdate=2010-04-17&enddate=2010-05-03&extent=35.60852748&extent=-87.21515977&extent=36.02814209&extent=-86.77920854999999&limit=1000&units=standard\n",
      "No stations found even after expanding the extent. Skipping this gauge.\n",
      "Rainfall data processing is done for 3432472 starting from 2010-04-17\n",
      "https://www.ncdc.noaa.gov/cdo-web/api/v2/stations?datasetid=PRECIP_15&startdate=2011-04-20&enddate=2011-05-06&extent=35.79690068&extent=-87.03415221&extent=35.82602345&extent=-87.00605068&limit=1000&units=standard\n",
      "No stations found for 34325065 within the given extent: {'north': 35.82602345, 'south': 35.79690068, 'east': -87.00605068, 'west': -87.03415221}\n",
      "Attempting to expand the extent by 0.2 degrees...\n",
      "https://www.ncdc.noaa.gov/cdo-web/api/v2/stations?datasetid=PRECIP_15&startdate=2011-04-20&enddate=2011-05-06&extent=35.59690068&extent=-87.23415221&extent=36.026023450000004&extent=-86.80605068&limit=1000&units=standard\n",
      "No stations found even after expanding the extent. Skipping this gauge.\n",
      "Rainfall data processing is done for 34325065 starting from 2011-04-20\n",
      "https://www.ncdc.noaa.gov/cdo-web/api/v2/stations?datasetid=PRECIP_15&startdate=2010-04-17&enddate=2010-05-03&extent=35.88610806&extent=-87.156871&extent=35.91036299&extent=-87.12623542&limit=1000&units=standard\n",
      "No stations found for 3433637 within the given extent: {'north': 35.91036299, 'south': 35.88610806, 'east': -87.12623542, 'west': -87.156871}\n",
      "Attempting to expand the extent by 0.2 degrees...\n",
      "https://www.ncdc.noaa.gov/cdo-web/api/v2/stations?datasetid=PRECIP_15&startdate=2010-04-17&enddate=2010-05-03&extent=35.686108059999995&extent=-87.356871&extent=36.110362990000006&extent=-86.92623542&limit=1000&units=standard\n",
      "No stations found even after expanding the extent. Skipping this gauge.\n",
      "Rainfall data processing is done for 3433637 starting from 2010-04-17\n",
      "https://www.ncdc.noaa.gov/cdo-web/api/v2/stations?datasetid=PRECIP_15&startdate=2011-04-04&enddate=2011-04-21&extent=35.88397462&extent=-87.13499686&extent=35.91192244&extent=-87.09880096&limit=1000&units=standard\n",
      "No stations found for 3433640 within the given extent: {'north': 35.91192244, 'south': 35.88397462, 'east': -87.09880096, 'west': -87.13499686}\n",
      "Attempting to expand the extent by 0.2 degrees...\n",
      "https://www.ncdc.noaa.gov/cdo-web/api/v2/stations?datasetid=PRECIP_15&startdate=2011-04-04&enddate=2011-04-21&extent=35.683974619999994&extent=-87.33499686&extent=36.11192244&extent=-86.89880096&limit=1000&units=standard\n",
      "No stations found even after expanding the extent. Skipping this gauge.\n",
      "Rainfall data processing is done for 3433640 starting from 2011-04-04\n",
      "https://www.ncdc.noaa.gov/cdo-web/api/v2/stations?datasetid=PRECIP_15&startdate=2003-03-31&enddate=2003-04-16&extent=36.40887148&extent=-87.08152355&extent=36.50095989&extent=-86.95576251&limit=1000&units=standard\n",
      "No stations found for 3435970 within the given extent: {'north': 36.50095989, 'south': 36.40887148, 'east': -86.95576251, 'west': -87.08152355}\n",
      "Attempting to expand the extent by 0.2 degrees...\n",
      "https://www.ncdc.noaa.gov/cdo-web/api/v2/stations?datasetid=PRECIP_15&startdate=2003-03-31&enddate=2003-04-16&extent=36.20887148&extent=-87.28152355&extent=36.70095989&extent=-86.75576251&limit=1000&units=standard\n",
      "https://www.ncdc.noaa.gov/cdo-web/api/v2/data?datasetid=PRECIP_15&startdate=2003-03-31&enddate=2003-04-16&stationid=COOP:401663&limit=1000&units=standard\n",
      "https://www.ncdc.noaa.gov/cdo-web/api/v2/data?datasetid=PRECIP_15&startdate=2003-03-31&enddate=2003-04-16&stationid=COOP:408562&limit=1000&units=standard\n",
      "Rainfall data processing is done for 3435970 starting from 2003-03-31\n",
      "https://www.ncdc.noaa.gov/cdo-web/api/v2/stations?datasetid=PRECIP_15&startdate=2004-06-18&enddate=2004-07-04&extent=36.23566899&extent=-82.37727876&extent=36.31697728&extent=-82.32536546&limit=1000&units=standard\n",
      "No stations found for 3486311 within the given extent: {'north': 36.31697728, 'south': 36.23566899, 'east': -82.32536546, 'west': -82.37727876}\n",
      "Attempting to expand the extent by 0.2 degrees...\n",
      "https://www.ncdc.noaa.gov/cdo-web/api/v2/stations?datasetid=PRECIP_15&startdate=2004-06-18&enddate=2004-07-04&extent=36.03566899&extent=-82.57727876&extent=36.516977280000006&extent=-82.12536546&limit=1000&units=standard\n",
      "https://www.ncdc.noaa.gov/cdo-web/api/v2/data?datasetid=PRECIP_15&startdate=2004-06-18&enddate=2004-07-04&stationid=COOP:402934&limit=1000&units=standard\n",
      "Rainfall data processing is done for 3486311 starting from 2004-06-18\n",
      "https://www.ncdc.noaa.gov/cdo-web/api/v2/stations?datasetid=PRECIP_15&startdate=2016-05-04&enddate=2016-05-20&extent=36.37321371&extent=-83.05688717&extent=36.42555552&extent=-82.98309718&limit=1000&units=standard\n",
      "No stations found for 3491544 within the given extent: {'north': 36.42555552, 'south': 36.37321371, 'east': -82.98309718, 'west': -83.05688717}\n",
      "Attempting to expand the extent by 0.2 degrees...\n",
      "https://www.ncdc.noaa.gov/cdo-web/api/v2/stations?datasetid=PRECIP_15&startdate=2016-05-04&enddate=2016-05-20&extent=36.17321371&extent=-83.25688717&extent=36.625555520000006&extent=-82.78309718&limit=1000&units=standard\n",
      "No stations found even after expanding the extent. Skipping this gauge.\n",
      "Rainfall data processing is done for 3491544 starting from 2016-05-04\n",
      "https://www.ncdc.noaa.gov/cdo-web/api/v2/stations?datasetid=PRECIP_15&startdate=2017-03-27&enddate=2017-04-12&extent=36.07117705&extent=-83.85598071&extent=36.13632579&extent=-83.75988312&limit=1000&units=standard\n",
      "No stations found for 3495405 within the given extent: {'north': 36.13632579, 'south': 36.07117705, 'east': -83.75988312, 'west': -83.85598071}\n",
      "Attempting to expand the extent by 0.2 degrees...\n",
      "https://www.ncdc.noaa.gov/cdo-web/api/v2/stations?datasetid=PRECIP_15&startdate=2017-03-27&enddate=2017-04-12&extent=35.87117705&extent=-84.05598071&extent=36.336325790000004&extent=-83.55988312&limit=1000&units=standard\n",
      "No stations found even after expanding the extent. Skipping this gauge.\n",
      "Rainfall data processing is done for 3495405 starting from 2017-03-27\n",
      "https://www.ncdc.noaa.gov/cdo-web/api/v2/stations?datasetid=PRECIP_15&startdate=2009-05-01&enddate=2009-05-17&extent=35.8546123&extent=-83.85496784&extent=35.8929825&extent=-83.8007075&limit=1000&units=standard\n",
      "No stations found for 34991105 within the given extent: {'north': 35.8929825, 'south': 35.8546123, 'east': -83.8007075, 'west': -83.85496784}\n",
      "Attempting to expand the extent by 0.2 degrees...\n",
      "https://www.ncdc.noaa.gov/cdo-web/api/v2/stations?datasetid=PRECIP_15&startdate=2009-05-01&enddate=2009-05-17&extent=35.6546123&extent=-84.05496784&extent=36.092982500000005&extent=-83.6007075&limit=1000&units=standard\n",
      "No stations found even after expanding the extent. Skipping this gauge.\n",
      "Rainfall data processing is done for 34991105 starting from 2009-05-01\n",
      "https://www.ncdc.noaa.gov/cdo-web/api/v2/stations?datasetid=PRECIP_15&startdate=2011-07-12&enddate=2011-07-29&extent=35.85339047&extent=-83.89852241&extent=35.91893952&extent=-83.8007075&limit=1000&units=standard\n",
      "No stations found for 34991109 within the given extent: {'north': 35.91893952, 'south': 35.85339047, 'east': -83.8007075, 'west': -83.89852241}\n",
      "Attempting to expand the extent by 0.2 degrees...\n",
      "https://www.ncdc.noaa.gov/cdo-web/api/v2/stations?datasetid=PRECIP_15&startdate=2011-07-12&enddate=2011-07-29&extent=35.65339047&extent=-84.09852241&extent=36.118939520000005&extent=-83.6007075&limit=1000&units=standard\n",
      "No stations found even after expanding the extent. Skipping this gauge.\n",
      "Rainfall data processing is done for 34991109 starting from 2011-07-12\n",
      "https://www.ncdc.noaa.gov/cdo-web/api/v2/stations?datasetid=PRECIP_15&startdate=2018-04-18&enddate=2018-05-04&extent=35.5602573&extent=-83.84338361&extent=35.62883319&extent=-83.72851131&limit=1000&units=standard\n",
      "No stations found for 3518100 within the given extent: {'north': 35.62883319, 'south': 35.5602573, 'east': -83.72851131, 'west': -83.84338361}\n",
      "Attempting to expand the extent by 0.2 degrees...\n",
      "https://www.ncdc.noaa.gov/cdo-web/api/v2/stations?datasetid=PRECIP_15&startdate=2018-04-18&enddate=2018-05-04&extent=35.3602573&extent=-84.04338361&extent=35.828833190000005&extent=-83.52851131&limit=1000&units=standard\n",
      "No stations found even after expanding the extent. Skipping this gauge.\n",
      "Rainfall data processing is done for 3518100 starting from 2018-04-18\n",
      "https://www.ncdc.noaa.gov/cdo-web/api/v2/stations?datasetid=PRECIP_15&startdate=2003-03-31&enddate=2003-04-16&extent=35.98604651&extent=-84.98580367&extent=36.04870537&extent=-84.92582596&limit=1000&units=standard\n",
      "No stations found for 3538845 within the given extent: {'north': 36.04870537, 'south': 35.98604651, 'east': -84.92582596, 'west': -84.98580367}\n",
      "Attempting to expand the extent by 0.2 degrees...\n",
      "https://www.ncdc.noaa.gov/cdo-web/api/v2/stations?datasetid=PRECIP_15&startdate=2003-03-31&enddate=2003-04-16&extent=35.78604651&extent=-85.18580367&extent=36.24870537&extent=-84.72582596&limit=1000&units=standard\n",
      "No stations found even after expanding the extent. Skipping this gauge.\n",
      "Rainfall data processing is done for 3538845 starting from 2003-03-31\n",
      "https://www.ncdc.noaa.gov/cdo-web/api/v2/stations?datasetid=PRECIP_15&startdate=2003-03-31&enddate=2003-04-16&extent=36.07352082&extent=-84.98326528&extent=36.11850478&extent=-84.89807066&limit=1000&units=standard\n",
      "No stations found for 3538865 within the given extent: {'north': 36.11850478, 'south': 36.07352082, 'east': -84.89807066, 'west': -84.98326528}\n",
      "Attempting to expand the extent by 0.2 degrees...\n",
      "https://www.ncdc.noaa.gov/cdo-web/api/v2/stations?datasetid=PRECIP_15&startdate=2003-03-31&enddate=2003-04-16&extent=35.873520819999996&extent=-85.18326528&extent=36.318504780000005&extent=-84.69807066&limit=1000&units=standard\n",
      "No stations found even after expanding the extent. Skipping this gauge.\n",
      "Rainfall data processing is done for 3538865 starting from 2003-03-31\n",
      "https://www.ncdc.noaa.gov/cdo-web/api/v2/stations?datasetid=PRECIP_15&startdate=2015-04-08&enddate=2015-04-25&extent=35.83002675&extent=-85.10105441&extent=35.88963653&extent=-85.03928839&limit=1000&units=standard\n",
      "No stations found for 3538970 within the given extent: {'north': 35.88963653, 'south': 35.83002675, 'east': -85.03928839, 'west': -85.10105441}\n",
      "Attempting to expand the extent by 0.2 degrees...\n",
      "https://www.ncdc.noaa.gov/cdo-web/api/v2/stations?datasetid=PRECIP_15&startdate=2015-04-08&enddate=2015-04-25&extent=35.63002675&extent=-85.30105441&extent=36.08963653&extent=-84.83928839&limit=1000&units=standard\n",
      "No stations found even after expanding the extent. Skipping this gauge.\n",
      "Rainfall data processing is done for 3538970 starting from 2015-04-08\n",
      "https://www.ncdc.noaa.gov/cdo-web/api/v2/stations?datasetid=PRECIP_15&startdate=2003-04-30&enddate=2003-05-17&extent=35.43234109&extent=-84.61386089&extent=35.5391693&extent=-84.44254838&limit=1000&units=standard\n",
      "No stations found for 3565442 within the given extent: {'north': 35.5391693, 'south': 35.43234109, 'east': -84.44254838, 'west': -84.61386089}\n",
      "Attempting to expand the extent by 0.2 degrees...\n",
      "https://www.ncdc.noaa.gov/cdo-web/api/v2/stations?datasetid=PRECIP_15&startdate=2003-04-30&enddate=2003-05-17&extent=35.23234109&extent=-84.81386089&extent=35.7391693&extent=-84.24254838&limit=1000&units=standard\n",
      "No stations found even after expanding the extent. Skipping this gauge.\n",
      "Rainfall data processing is done for 3565442 starting from 2003-04-30\n",
      "https://www.ncdc.noaa.gov/cdo-web/api/v2/stations?datasetid=PRECIP_15&startdate=2002-04-24&enddate=2002-05-10&extent=35.29759725&extent=-86.16869329&extent=35.37069856&extent=-86.11064113&limit=1000&units=standard\n",
      "No stations found for 3579040 within the given extent: {'north': 35.37069856, 'south': 35.29759725, 'east': -86.11064113, 'west': -86.16869329}\n",
      "Attempting to expand the extent by 0.2 degrees...\n",
      "https://www.ncdc.noaa.gov/cdo-web/api/v2/stations?datasetid=PRECIP_15&startdate=2002-04-24&enddate=2002-05-10&extent=35.09759725&extent=-86.36869329&extent=35.570698560000004&extent=-85.91064113&limit=1000&units=standard\n",
      "No stations found even after expanding the extent. Skipping this gauge.\n",
      "Rainfall data processing is done for 3579040 starting from 2002-04-24\n",
      "https://www.ncdc.noaa.gov/cdo-web/api/v2/stations?datasetid=PRECIP_15&startdate=2005-03-25&enddate=2005-04-11&extent=35.36054983&extent=-86.15944768&extent=35.45212428&extent=-86.03567599&limit=1000&units=standard\n",
      "No stations found for 3596100 within the given extent: {'north': 35.45212428, 'south': 35.36054983, 'east': -86.03567599, 'west': -86.15944768}\n",
      "Attempting to expand the extent by 0.2 degrees...\n",
      "https://www.ncdc.noaa.gov/cdo-web/api/v2/stations?datasetid=PRECIP_15&startdate=2005-03-25&enddate=2005-04-11&extent=35.160549829999994&extent=-86.35944768&extent=35.65212428&extent=-85.83567599&limit=1000&units=standard\n",
      "https://www.ncdc.noaa.gov/cdo-web/api/v2/data?datasetid=PRECIP_15&startdate=2005-03-25&enddate=2005-04-11&stationid=COOP:406162&limit=1000&units=standard\n",
      "Rainfall data processing is done for 3596100 starting from 2005-03-25\n",
      "https://www.ncdc.noaa.gov/cdo-web/api/v2/stations?datasetid=PRECIP_15&startdate=2012-05-28&enddate=2012-06-13&extent=35.9593737&extent=-88.17490636&extent=36.10035386&extent=-88.06467076&limit=1000&units=standard\n",
      "No stations found for 3605078 within the given extent: {'north': 36.10035386, 'south': 35.9593737, 'east': -88.06467076, 'west': -88.17490636}\n",
      "Attempting to expand the extent by 0.2 degrees...\n",
      "https://www.ncdc.noaa.gov/cdo-web/api/v2/stations?datasetid=PRECIP_15&startdate=2012-05-28&enddate=2012-06-13&extent=35.7593737&extent=-88.37490636&extent=36.30035386&extent=-87.86467076&limit=1000&units=standard\n",
      "No stations found even after expanding the extent. Skipping this gauge.\n",
      "Rainfall data processing is done for 3605078 starting from 2012-05-28\n",
      "https://www.ncdc.noaa.gov/cdo-web/api/v2/stations?datasetid=PRECIP_15&startdate=2013-04-12&enddate=2013-04-28&extent=36.45700063&extent=-89.33575488&extent=36.58079572&extent=-89.17949579&limit=1000&units=standard\n",
      "No stations found for 7026680 within the given extent: {'north': 36.58079572, 'south': 36.45700063, 'east': -89.17949579, 'west': -89.33575488}\n",
      "Attempting to expand the extent by 0.2 degrees...\n",
      "https://www.ncdc.noaa.gov/cdo-web/api/v2/stations?datasetid=PRECIP_15&startdate=2013-04-12&enddate=2013-04-28&extent=36.25700063&extent=-89.53575488&extent=36.78079572&extent=-88.97949579&limit=1000&units=standard\n",
      "https://www.ncdc.noaa.gov/cdo-web/api/v2/data?datasetid=PRECIP_15&startdate=2013-04-12&enddate=2013-04-28&stationid=COOP:408065&limit=1000&units=standard\n",
      "Warnings for 7026680: \"['QPCP'] not in index\"\n",
      "https://www.ncdc.noaa.gov/cdo-web/api/v2/data?datasetid=PRECIP_15&startdate=2013-04-12&enddate=2013-04-28&stationid=COOP:409219&limit=1000&units=standard\n",
      "Rainfall data processing is done for 7026680 starting from 2013-04-12\n",
      "https://www.ncdc.noaa.gov/cdo-web/api/v2/stations?datasetid=PRECIP_15&startdate=2016-03-24&enddate=2016-04-09&extent=36.34292002&extent=-89.35028677&extent=36.39845329&extent=-89.29288658&limit=1000&units=standard\n",
      "No stations found for 7026795 within the given extent: {'north': 36.39845329, 'south': 36.34292002, 'east': -89.29288658, 'west': -89.35028677}\n",
      "Attempting to expand the extent by 0.2 degrees...\n",
      "https://www.ncdc.noaa.gov/cdo-web/api/v2/stations?datasetid=PRECIP_15&startdate=2016-03-24&enddate=2016-04-09&extent=36.14292002&extent=-89.55028677&extent=36.59845329&extent=-89.09288658&limit=1000&units=standard\n",
      "No stations found even after expanding the extent. Skipping this gauge.\n",
      "Rainfall data processing is done for 7026795 starting from 2016-03-24\n",
      "https://www.ncdc.noaa.gov/cdo-web/api/v2/stations?datasetid=PRECIP_15&startdate=2001-04-05&enddate=2001-04-21&extent=35.79841428&extent=-88.81509142&extent=35.83311581&extent=-88.75380996&limit=1000&units=standard\n",
      "No stations found for 7028930 within the given extent: {'north': 35.83311581, 'south': 35.79841428, 'east': -88.75380996, 'west': -88.81509142}\n",
      "Attempting to expand the extent by 0.2 degrees...\n",
      "https://www.ncdc.noaa.gov/cdo-web/api/v2/stations?datasetid=PRECIP_15&startdate=2001-04-05&enddate=2001-04-21&extent=35.59841428&extent=-89.01509142&extent=36.033115810000005&extent=-88.55380996&limit=1000&units=standard\n",
      "https://www.ncdc.noaa.gov/cdo-web/api/v2/data?datasetid=PRECIP_15&startdate=2001-04-05&enddate=2001-04-21&stationid=COOP:404561&limit=1000&units=standard\n",
      "Warnings for 7028930: \"None of [Index(['date', 'QPCP'], dtype='object')] are in the [columns]\"\n",
      "No valid data collected for 7028930. Exiting process.\n",
      "Rainfall data processing is done for 7028930 starting from 2001-04-05\n",
      "https://www.ncdc.noaa.gov/cdo-web/api/v2/stations?datasetid=PRECIP_15&startdate=2000-03-27&enddate=2000-04-12&extent=35.89402029&extent=-89.22361669&extent=35.97786749&extent=-89.15245689&limit=1000&units=standard\n",
      "No stations found for 7029035 within the given extent: {'north': 35.97786749, 'south': 35.89402029, 'east': -89.15245689, 'west': -89.22361669}\n",
      "Attempting to expand the extent by 0.2 degrees...\n",
      "https://www.ncdc.noaa.gov/cdo-web/api/v2/stations?datasetid=PRECIP_15&startdate=2000-03-27&enddate=2000-04-12&extent=35.69402029&extent=-89.42361669&extent=36.177867490000004&extent=-88.95245689&limit=1000&units=standard\n",
      "https://www.ncdc.noaa.gov/cdo-web/api/v2/data?datasetid=PRECIP_15&startdate=2000-03-27&enddate=2000-04-12&stationid=COOP:402680&limit=1000&units=standard\n",
      "No valid mean rainfall data for 7029035. Exiting process.\n",
      "Rainfall data processing is done for 7029035 starting from 2000-03-27\n",
      "https://www.ncdc.noaa.gov/cdo-web/api/v2/stations?datasetid=PRECIP_15&startdate=2020-07-21&enddate=2020-08-03&extent=36.06495557&extent=-86.81620105&extent=36.16118001&extent=-86.72033451&limit=1000&units=standard\n",
      "No stations found for 3431300 within the given extent: {'north': 36.16118001, 'south': 36.06495557, 'east': -86.72033451, 'west': -86.81620105}\n",
      "Attempting to expand the extent by 0.2 degrees...\n",
      "https://www.ncdc.noaa.gov/cdo-web/api/v2/stations?datasetid=PRECIP_15&startdate=2020-07-21&enddate=2020-08-03&extent=35.86495557&extent=-87.01620105&extent=36.361180010000005&extent=-86.52033451&limit=1000&units=standard\n",
      "No stations found even after expanding the extent. Skipping this gauge.\n",
      "Rainfall data processing is done for 3431300 starting from 2020-07-21\n",
      "https://www.ncdc.noaa.gov/cdo-web/api/v2/stations?datasetid=PRECIP_15&startdate=2020-07-23&enddate=2020-08-05&extent=36.06495557&extent=-86.81620105&extent=36.16118001&extent=-86.72033451&limit=1000&units=standard\n",
      "No stations found for 3431300 within the given extent: {'north': 36.16118001, 'south': 36.06495557, 'east': -86.72033451, 'west': -86.81620105}\n",
      "Attempting to expand the extent by 0.2 degrees...\n",
      "https://www.ncdc.noaa.gov/cdo-web/api/v2/stations?datasetid=PRECIP_15&startdate=2020-07-23&enddate=2020-08-05&extent=35.86495557&extent=-87.01620105&extent=36.361180010000005&extent=-86.52033451&limit=1000&units=standard\n",
      "No stations found even after expanding the extent. Skipping this gauge.\n",
      "Rainfall data processing is done for 3431300 starting from 2020-07-23\n",
      "https://www.ncdc.noaa.gov/cdo-web/api/v2/stations?datasetid=PRECIP_15&startdate=2020-07-25&enddate=2020-08-07&extent=36.06495557&extent=-86.81620105&extent=36.16118001&extent=-86.72033451&limit=1000&units=standard\n",
      "No stations found for 3431300 within the given extent: {'north': 36.16118001, 'south': 36.06495557, 'east': -86.72033451, 'west': -86.81620105}\n",
      "Attempting to expand the extent by 0.2 degrees...\n",
      "https://www.ncdc.noaa.gov/cdo-web/api/v2/stations?datasetid=PRECIP_15&startdate=2020-07-25&enddate=2020-08-07&extent=35.86495557&extent=-87.01620105&extent=36.361180010000005&extent=-86.52033451&limit=1000&units=standard\n",
      "Warning: could not squash response: \n",
      " <Response [503]>, b'<!DOCTYPE HTML PUBLIC \"-//IETF//DTD HTML 2.0//EN\">\\n<html><head>\\n<title>503 Service Unavailable</title>\\n</head><body>\\n<h1>Service Unavailable</h1>\\n<p>The server is temporarily unable to service your\\nrequest due to maintenance downtime or capacity\\nproblems. Please try again later.</p>\\n<p>Additionally, a 503 Service Unavailable\\nerror was encountered while trying to use an ErrorDocument to handle the request.</p>\\n</body></html>\\n'\n",
      "No stations found even after expanding the extent. Skipping this gauge.\n",
      "Rainfall data processing is done for 3431300 starting from 2020-07-25\n",
      "https://www.ncdc.noaa.gov/cdo-web/api/v2/stations?datasetid=PRECIP_15&startdate=2020-07-25&enddate=2020-08-08&extent=36.06495557&extent=-86.81620105&extent=36.16118001&extent=-86.72033451&limit=1000&units=standard\n",
      "No stations found for 3431300 within the given extent: {'north': 36.16118001, 'south': 36.06495557, 'east': -86.72033451, 'west': -86.81620105}\n",
      "Attempting to expand the extent by 0.2 degrees...\n",
      "https://www.ncdc.noaa.gov/cdo-web/api/v2/stations?datasetid=PRECIP_15&startdate=2020-07-25&enddate=2020-08-08&extent=35.86495557&extent=-87.01620105&extent=36.361180010000005&extent=-86.52033451&limit=1000&units=standard\n",
      "No stations found even after expanding the extent. Skipping this gauge.\n",
      "Rainfall data processing is done for 3431300 starting from 2020-07-25\n",
      "https://www.ncdc.noaa.gov/cdo-web/api/v2/stations?datasetid=PRECIP_15&startdate=2020-07-26&enddate=2020-08-08&extent=36.06495557&extent=-86.81620105&extent=36.16118001&extent=-86.72033451&limit=1000&units=standard\n",
      "No stations found for 3431300 within the given extent: {'north': 36.16118001, 'south': 36.06495557, 'east': -86.72033451, 'west': -86.81620105}\n",
      "Attempting to expand the extent by 0.2 degrees...\n",
      "https://www.ncdc.noaa.gov/cdo-web/api/v2/stations?datasetid=PRECIP_15&startdate=2020-07-26&enddate=2020-08-08&extent=35.86495557&extent=-87.01620105&extent=36.361180010000005&extent=-86.52033451&limit=1000&units=standard\n",
      "No stations found even after expanding the extent. Skipping this gauge.\n",
      "Rainfall data processing is done for 3431300 starting from 2020-07-26\n",
      "https://www.ncdc.noaa.gov/cdo-web/api/v2/stations?datasetid=PRECIP_15&startdate=2020-07-26&enddate=2020-08-08&extent=36.06495557&extent=-86.81620105&extent=36.16118001&extent=-86.72033451&limit=1000&units=standard\n",
      "No stations found for 3431300 within the given extent: {'north': 36.16118001, 'south': 36.06495557, 'east': -86.72033451, 'west': -86.81620105}\n",
      "Attempting to expand the extent by 0.2 degrees...\n",
      "https://www.ncdc.noaa.gov/cdo-web/api/v2/stations?datasetid=PRECIP_15&startdate=2020-07-26&enddate=2020-08-08&extent=35.86495557&extent=-87.01620105&extent=36.361180010000005&extent=-86.52033451&limit=1000&units=standard\n",
      "No stations found even after expanding the extent. Skipping this gauge.\n",
      "Rainfall data processing is done for 3431300 starting from 2020-07-26\n",
      "https://www.ncdc.noaa.gov/cdo-web/api/v2/stations?datasetid=PRECIP_15&startdate=2020-07-27&enddate=2020-08-09&extent=36.06495557&extent=-86.81620105&extent=36.16118001&extent=-86.72033451&limit=1000&units=standard\n",
      "No stations found for 3431300 within the given extent: {'north': 36.16118001, 'south': 36.06495557, 'east': -86.72033451, 'west': -86.81620105}\n",
      "Attempting to expand the extent by 0.2 degrees...\n",
      "https://www.ncdc.noaa.gov/cdo-web/api/v2/stations?datasetid=PRECIP_15&startdate=2020-07-27&enddate=2020-08-09&extent=35.86495557&extent=-87.01620105&extent=36.361180010000005&extent=-86.52033451&limit=1000&units=standard\n",
      "No stations found even after expanding the extent. Skipping this gauge.\n",
      "Rainfall data processing is done for 3431300 starting from 2020-07-27\n",
      "https://www.ncdc.noaa.gov/cdo-web/api/v2/stations?datasetid=PRECIP_15&startdate=2020-08-07&enddate=2020-08-20&extent=36.06495557&extent=-86.81620105&extent=36.16118001&extent=-86.72033451&limit=1000&units=standard\n",
      "No stations found for 3431300 within the given extent: {'north': 36.16118001, 'south': 36.06495557, 'east': -86.72033451, 'west': -86.81620105}\n",
      "Attempting to expand the extent by 0.2 degrees...\n",
      "https://www.ncdc.noaa.gov/cdo-web/api/v2/stations?datasetid=PRECIP_15&startdate=2020-08-07&enddate=2020-08-20&extent=35.86495557&extent=-87.01620105&extent=36.361180010000005&extent=-86.52033451&limit=1000&units=standard\n",
      "No stations found even after expanding the extent. Skipping this gauge.\n",
      "Rainfall data processing is done for 3431300 starting from 2020-08-07\n",
      "https://www.ncdc.noaa.gov/cdo-web/api/v2/stations?datasetid=PRECIP_15&startdate=2020-08-09&enddate=2020-08-22&extent=36.06495557&extent=-86.81620105&extent=36.16118001&extent=-86.72033451&limit=1000&units=standard\n",
      "No stations found for 3431300 within the given extent: {'north': 36.16118001, 'south': 36.06495557, 'east': -86.72033451, 'west': -86.81620105}\n",
      "Attempting to expand the extent by 0.2 degrees...\n",
      "https://www.ncdc.noaa.gov/cdo-web/api/v2/stations?datasetid=PRECIP_15&startdate=2020-08-09&enddate=2020-08-22&extent=35.86495557&extent=-87.01620105&extent=36.361180010000005&extent=-86.52033451&limit=1000&units=standard\n",
      "No stations found even after expanding the extent. Skipping this gauge.\n",
      "Rainfall data processing is done for 3431300 starting from 2020-08-09\n",
      "https://www.ncdc.noaa.gov/cdo-web/api/v2/stations?datasetid=PRECIP_15&startdate=2020-08-16&enddate=2020-08-29&extent=36.06495557&extent=-86.81620105&extent=36.16118001&extent=-86.72033451&limit=1000&units=standard\n",
      "Warning: could not squash response: \n",
      " <Response [503]>, b'<!DOCTYPE HTML PUBLIC \"-//IETF//DTD HTML 2.0//EN\">\\n<html><head>\\n<title>503 Service Unavailable</title>\\n</head><body>\\n<h1>Service Unavailable</h1>\\n<p>The server is temporarily unable to service your\\nrequest due to maintenance downtime or capacity\\nproblems. Please try again later.</p>\\n<p>Additionally, a 503 Service Unavailable\\nerror was encountered while trying to use an ErrorDocument to handle the request.</p>\\n</body></html>\\n'\n",
      "No stations found for 3431300 within the given extent: {'north': 36.16118001, 'south': 36.06495557, 'east': -86.72033451, 'west': -86.81620105}\n",
      "Attempting to expand the extent by 0.2 degrees...\n",
      "https://www.ncdc.noaa.gov/cdo-web/api/v2/stations?datasetid=PRECIP_15&startdate=2020-08-16&enddate=2020-08-29&extent=35.86495557&extent=-87.01620105&extent=36.361180010000005&extent=-86.52033451&limit=1000&units=standard\n",
      "No stations found even after expanding the extent. Skipping this gauge.\n",
      "Rainfall data processing is done for 3431300 starting from 2020-08-16\n",
      "https://www.ncdc.noaa.gov/cdo-web/api/v2/stations?datasetid=PRECIP_15&startdate=2017-04-15&enddate=2017-05-01&extent=36.47054977&extent=-85.87185917&extent=36.56569568&extent=-85.80165628&limit=1000&units=standard\n",
      "No stations found for 3312259 within the given extent: {'north': 36.56569568, 'south': 36.47054977, 'east': -85.80165628, 'west': -85.87185917}\n",
      "Attempting to expand the extent by 0.2 degrees...\n",
      "https://www.ncdc.noaa.gov/cdo-web/api/v2/stations?datasetid=PRECIP_15&startdate=2017-04-15&enddate=2017-05-01&extent=36.270549769999995&extent=-86.07185917&extent=36.76569568&extent=-85.60165628&limit=1000&units=standard\n",
      "No stations found even after expanding the extent. Skipping this gauge.\n",
      "Rainfall data processing is done for 3312259 starting from 2017-04-15\n",
      "https://www.ncdc.noaa.gov/cdo-web/api/v2/stations?datasetid=PRECIP_15&startdate=2000-03-28&enddate=2000-04-13&extent=36.31355449&extent=-86.79300794&extent=36.41892638&extent=-86.71621875&limit=1000&units=standard\n",
      "No stations found for 3426385 within the given extent: {'north': 36.41892638, 'south': 36.31355449, 'east': -86.71621875, 'west': -86.79300794}\n",
      "Attempting to expand the extent by 0.2 degrees...\n",
      "https://www.ncdc.noaa.gov/cdo-web/api/v2/stations?datasetid=PRECIP_15&startdate=2000-03-28&enddate=2000-04-13&extent=36.11355449&extent=-86.99300794&extent=36.618926380000005&extent=-86.51621875&limit=1000&units=standard\n",
      "https://www.ncdc.noaa.gov/cdo-web/api/v2/data?datasetid=PRECIP_15&startdate=2000-03-28&enddate=2000-04-13&stationid=COOP:407359&limit=1000&units=standard\n",
      "https://www.ncdc.noaa.gov/cdo-web/api/v2/data?datasetid=PRECIP_15&startdate=2000-03-28&enddate=2000-04-13&stationid=COOP:408562&limit=1000&units=standard\n",
      "Rainfall data processing is done for 3426385 starting from 2000-03-28\n",
      "https://www.ncdc.noaa.gov/cdo-web/api/v2/stations?datasetid=PRECIP_15&startdate=2017-04-04&enddate=2017-04-21&extent=36.26672548&extent=-86.76382851&extent=36.31769794&extent=-86.68765616&limit=1000&units=standard\n",
      "No stations found for 3426470 within the given extent: {'north': 36.31769794, 'south': 36.26672548, 'east': -86.68765616, 'west': -86.76382851}\n",
      "Attempting to expand the extent by 0.2 degrees...\n",
      "https://www.ncdc.noaa.gov/cdo-web/api/v2/stations?datasetid=PRECIP_15&startdate=2017-04-04&enddate=2017-04-21&extent=36.066725479999995&extent=-86.96382851&extent=36.517697940000005&extent=-86.48765616&limit=1000&units=standard\n",
      "No stations found even after expanding the extent. Skipping this gauge.\n",
      "Rainfall data processing is done for 3426470 starting from 2017-04-04\n",
      "https://www.ncdc.noaa.gov/cdo-web/api/v2/stations?datasetid=PRECIP_15&startdate=2004-06-24&enddate=2004-07-08&extent=35.9138341&extent=-86.86123297&extent=35.93584826&extent=-86.81715714&limit=1000&units=standard\n",
      "No stations found for 34323531 within the given extent: {'north': 35.93584826, 'south': 35.9138341, 'east': -86.81715714, 'west': -86.86123297}\n",
      "Attempting to expand the extent by 0.2 degrees...\n",
      "https://www.ncdc.noaa.gov/cdo-web/api/v2/stations?datasetid=PRECIP_15&startdate=2004-06-24&enddate=2004-07-08&extent=35.7138341&extent=-87.06123297&extent=36.13584826&extent=-86.61715714&limit=1000&units=standard\n",
      "No stations found even after expanding the extent. Skipping this gauge.\n",
      "Rainfall data processing is done for 34323531 starting from 2004-06-24\n",
      "https://www.ncdc.noaa.gov/cdo-web/api/v2/stations?datasetid=PRECIP_15&startdate=2005-07-07&enddate=2005-07-24&extent=35.89558097&extent=-86.90401478&extent=35.93319367&extent=-86.86676872&limit=1000&units=standard\n",
      "No stations found for 3432376 within the given extent: {'north': 35.93319367, 'south': 35.89558097, 'east': -86.86676872, 'west': -86.90401478}\n",
      "Attempting to expand the extent by 0.2 degrees...\n",
      "https://www.ncdc.noaa.gov/cdo-web/api/v2/stations?datasetid=PRECIP_15&startdate=2005-07-07&enddate=2005-07-24&extent=35.695580969999995&extent=-87.10401478&extent=36.133193670000004&extent=-86.66676872&limit=1000&units=standard\n",
      "No stations found even after expanding the extent. Skipping this gauge.\n",
      "Rainfall data processing is done for 3432376 starting from 2005-07-07\n",
      "https://www.ncdc.noaa.gov/cdo-web/api/v2/stations?datasetid=PRECIP_15&startdate=2005-03-24&enddate=2005-04-09&extent=35.92571722&extent=-86.82916748&extent=35.9481873&extent=-86.77946158&limit=1000&units=standard\n",
      "No stations found for 3432387 within the given extent: {'north': 35.9481873, 'south': 35.92571722, 'east': -86.77946158, 'west': -86.82916748}\n",
      "Attempting to expand the extent by 0.2 degrees...\n",
      "https://www.ncdc.noaa.gov/cdo-web/api/v2/stations?datasetid=PRECIP_15&startdate=2005-03-24&enddate=2005-04-09&extent=35.72571722&extent=-87.02916748&extent=36.148187300000004&extent=-86.57946158&limit=1000&units=standard\n",
      "No stations found even after expanding the extent. Skipping this gauge.\n",
      "Rainfall data processing is done for 3432387 starting from 2005-03-24\n",
      "https://www.ncdc.noaa.gov/cdo-web/api/v2/stations?datasetid=PRECIP_15&startdate=2009-03-04&enddate=2009-05-22&extent=35.92571722&extent=-86.86050701&extent=35.99175158&extent=-86.77946158&limit=1000&units=standard\n",
      "No stations found for 3432390 within the given extent: {'north': 35.99175158, 'south': 35.92571722, 'east': -86.77946158, 'west': -86.86050701}\n",
      "Attempting to expand the extent by 0.2 degrees...\n",
      "https://www.ncdc.noaa.gov/cdo-web/api/v2/stations?datasetid=PRECIP_15&startdate=2009-03-04&enddate=2009-05-22&extent=35.72571722&extent=-87.06050701000001&extent=36.19175158&extent=-86.57946158&limit=1000&units=standard\n",
      "No stations found even after expanding the extent. Skipping this gauge.\n",
      "Rainfall data processing is done for 3432390 starting from 2009-03-04\n",
      "https://www.ncdc.noaa.gov/cdo-web/api/v2/stations?datasetid=PRECIP_15&startdate=2009-07-06&enddate=2009-07-22&extent=35.80852748&extent=-87.01515977&extent=35.82814209&extent=-86.97920855&limit=1000&units=standard\n",
      "No stations found for 3432472 within the given extent: {'north': 35.82814209, 'south': 35.80852748, 'east': -86.97920855, 'west': -87.01515977}\n",
      "Attempting to expand the extent by 0.2 degrees...\n",
      "https://www.ncdc.noaa.gov/cdo-web/api/v2/stations?datasetid=PRECIP_15&startdate=2009-07-06&enddate=2009-07-22&extent=35.60852748&extent=-87.21515977&extent=36.02814209&extent=-86.77920854999999&limit=1000&units=standard\n",
      "No stations found even after expanding the extent. Skipping this gauge.\n",
      "Rainfall data processing is done for 3432472 starting from 2009-07-06\n",
      "https://www.ncdc.noaa.gov/cdo-web/api/v2/stations?datasetid=PRECIP_15&startdate=2011-04-26&enddate=2011-05-12&extent=35.79690068&extent=-87.03415221&extent=35.82602345&extent=-87.00605068&limit=1000&units=standard\n",
      "No stations found for 34325065 within the given extent: {'north': 35.82602345, 'south': 35.79690068, 'east': -87.00605068, 'west': -87.03415221}\n",
      "Attempting to expand the extent by 0.2 degrees...\n",
      "https://www.ncdc.noaa.gov/cdo-web/api/v2/stations?datasetid=PRECIP_15&startdate=2011-04-26&enddate=2011-05-12&extent=35.59690068&extent=-87.23415221&extent=36.026023450000004&extent=-86.80605068&limit=1000&units=standard\n",
      "No stations found even after expanding the extent. Skipping this gauge.\n",
      "Rainfall data processing is done for 34325065 starting from 2011-04-26\n",
      "https://www.ncdc.noaa.gov/cdo-web/api/v2/stations?datasetid=PRECIP_15&startdate=2011-03-29&enddate=2011-04-14&extent=35.79690068&extent=-87.06590957&extent=35.84695527&extent=-87.00605068&limit=1000&units=standard\n",
      "No stations found for 3432516 within the given extent: {'north': 35.84695527, 'south': 35.79690068, 'east': -87.00605068, 'west': -87.06590957}\n",
      "Attempting to expand the extent by 0.2 degrees...\n",
      "https://www.ncdc.noaa.gov/cdo-web/api/v2/stations?datasetid=PRECIP_15&startdate=2011-03-29&enddate=2011-04-14&extent=35.59690068&extent=-87.26590957&extent=36.046955270000005&extent=-86.80605068&limit=1000&units=standard\n",
      "No stations found even after expanding the extent. Skipping this gauge.\n",
      "Rainfall data processing is done for 3432516 starting from 2011-03-29\n",
      "https://www.ncdc.noaa.gov/cdo-web/api/v2/stations?datasetid=PRECIP_15&startdate=2009-06-28&enddate=2009-07-14&extent=35.88610806&extent=-87.156871&extent=35.91036299&extent=-87.12623542&limit=1000&units=standard\n",
      "No stations found for 3433637 within the given extent: {'north': 35.91036299, 'south': 35.88610806, 'east': -87.12623542, 'west': -87.156871}\n",
      "Attempting to expand the extent by 0.2 degrees...\n",
      "https://www.ncdc.noaa.gov/cdo-web/api/v2/stations?datasetid=PRECIP_15&startdate=2009-06-28&enddate=2009-07-14&extent=35.686108059999995&extent=-87.356871&extent=36.110362990000006&extent=-86.92623542&limit=1000&units=standard\n",
      "No stations found even after expanding the extent. Skipping this gauge.\n",
      "Rainfall data processing is done for 3433637 starting from 2009-06-28\n",
      "https://www.ncdc.noaa.gov/cdo-web/api/v2/stations?datasetid=PRECIP_15&startdate=2011-04-08&enddate=2011-04-25&extent=35.88397462&extent=-87.13499686&extent=35.91192244&extent=-87.09880096&limit=1000&units=standard\n",
      "No stations found for 3433640 within the given extent: {'north': 35.91192244, 'south': 35.88397462, 'east': -87.09880096, 'west': -87.13499686}\n",
      "Attempting to expand the extent by 0.2 degrees...\n",
      "https://www.ncdc.noaa.gov/cdo-web/api/v2/stations?datasetid=PRECIP_15&startdate=2011-04-08&enddate=2011-04-25&extent=35.683974619999994&extent=-87.33499686&extent=36.11192244&extent=-86.89880096&limit=1000&units=standard\n",
      "No stations found even after expanding the extent. Skipping this gauge.\n",
      "Rainfall data processing is done for 3433640 starting from 2011-04-08\n",
      "https://www.ncdc.noaa.gov/cdo-web/api/v2/stations?datasetid=PRECIP_15&startdate=2003-04-10&enddate=2003-04-26&extent=36.40887148&extent=-87.08152355&extent=36.50095989&extent=-86.95576251&limit=1000&units=standard\n",
      "No stations found for 3435970 within the given extent: {'north': 36.50095989, 'south': 36.40887148, 'east': -86.95576251, 'west': -87.08152355}\n",
      "Attempting to expand the extent by 0.2 degrees...\n",
      "https://www.ncdc.noaa.gov/cdo-web/api/v2/stations?datasetid=PRECIP_15&startdate=2003-04-10&enddate=2003-04-26&extent=36.20887148&extent=-87.28152355&extent=36.70095989&extent=-86.75576251&limit=1000&units=standard\n",
      "https://www.ncdc.noaa.gov/cdo-web/api/v2/data?datasetid=PRECIP_15&startdate=2003-04-10&enddate=2003-04-26&stationid=COOP:401663&limit=1000&units=standard\n",
      "https://www.ncdc.noaa.gov/cdo-web/api/v2/data?datasetid=PRECIP_15&startdate=2003-04-10&enddate=2003-04-26&stationid=COOP:408562&limit=1000&units=standard\n",
      "Rainfall data processing is done for 3435970 starting from 2003-04-10\n",
      "https://www.ncdc.noaa.gov/cdo-web/api/v2/stations?datasetid=PRECIP_15&startdate=2004-06-19&enddate=2004-07-05&extent=36.23566899&extent=-82.37727876&extent=36.31697728&extent=-82.32536546&limit=1000&units=standard\n",
      "No stations found for 3486311 within the given extent: {'north': 36.31697728, 'south': 36.23566899, 'east': -82.32536546, 'west': -82.37727876}\n",
      "Attempting to expand the extent by 0.2 degrees...\n",
      "https://www.ncdc.noaa.gov/cdo-web/api/v2/stations?datasetid=PRECIP_15&startdate=2004-06-19&enddate=2004-07-05&extent=36.03566899&extent=-82.57727876&extent=36.516977280000006&extent=-82.12536546&limit=1000&units=standard\n",
      "https://www.ncdc.noaa.gov/cdo-web/api/v2/data?datasetid=PRECIP_15&startdate=2004-06-19&enddate=2004-07-05&stationid=COOP:402934&limit=1000&units=standard\n",
      "Rainfall data processing is done for 3486311 starting from 2004-06-19\n",
      "https://www.ncdc.noaa.gov/cdo-web/api/v2/stations?datasetid=PRECIP_15&startdate=2016-06-28&enddate=2016-07-14&extent=36.37321371&extent=-83.05688717&extent=36.42555552&extent=-82.98309718&limit=1000&units=standard\n",
      "No stations found for 3491544 within the given extent: {'north': 36.42555552, 'south': 36.37321371, 'east': -82.98309718, 'west': -83.05688717}\n",
      "Attempting to expand the extent by 0.2 degrees...\n",
      "https://www.ncdc.noaa.gov/cdo-web/api/v2/stations?datasetid=PRECIP_15&startdate=2016-06-28&enddate=2016-07-14&extent=36.17321371&extent=-83.25688717&extent=36.625555520000006&extent=-82.78309718&limit=1000&units=standard\n",
      "No stations found even after expanding the extent. Skipping this gauge.\n",
      "Rainfall data processing is done for 3491544 starting from 2016-06-28\n",
      "https://www.ncdc.noaa.gov/cdo-web/api/v2/stations?datasetid=PRECIP_15&startdate=2017-03-30&enddate=2017-04-15&extent=36.07117705&extent=-83.85598071&extent=36.13632579&extent=-83.75988312&limit=1000&units=standard\n",
      "No stations found for 3495405 within the given extent: {'north': 36.13632579, 'south': 36.07117705, 'east': -83.75988312, 'west': -83.85598071}\n",
      "Attempting to expand the extent by 0.2 degrees...\n",
      "https://www.ncdc.noaa.gov/cdo-web/api/v2/stations?datasetid=PRECIP_15&startdate=2017-03-30&enddate=2017-04-15&extent=35.87117705&extent=-84.05598071&extent=36.336325790000004&extent=-83.55988312&limit=1000&units=standard\n",
      "No stations found even after expanding the extent. Skipping this gauge.\n",
      "Rainfall data processing is done for 3495405 starting from 2017-03-30\n",
      "https://www.ncdc.noaa.gov/cdo-web/api/v2/stations?datasetid=PRECIP_15&startdate=2010-04-26&enddate=2010-05-12&extent=35.8546123&extent=-83.85496784&extent=35.8929825&extent=-83.8007075&limit=1000&units=standard\n",
      "No stations found for 34991105 within the given extent: {'north': 35.8929825, 'south': 35.8546123, 'east': -83.8007075, 'west': -83.85496784}\n",
      "Attempting to expand the extent by 0.2 degrees...\n",
      "https://www.ncdc.noaa.gov/cdo-web/api/v2/stations?datasetid=PRECIP_15&startdate=2010-04-26&enddate=2010-05-12&extent=35.6546123&extent=-84.05496784&extent=36.092982500000005&extent=-83.6007075&limit=1000&units=standard\n",
      "No stations found even after expanding the extent. Skipping this gauge.\n",
      "Rainfall data processing is done for 34991105 starting from 2010-04-26\n",
      "https://www.ncdc.noaa.gov/cdo-web/api/v2/stations?datasetid=PRECIP_15&startdate=2011-07-17&enddate=2011-08-02&extent=35.85339047&extent=-83.89852241&extent=35.91893952&extent=-83.8007075&limit=1000&units=standard\n",
      "No stations found for 34991109 within the given extent: {'north': 35.91893952, 'south': 35.85339047, 'east': -83.8007075, 'west': -83.89852241}\n",
      "Attempting to expand the extent by 0.2 degrees...\n",
      "https://www.ncdc.noaa.gov/cdo-web/api/v2/stations?datasetid=PRECIP_15&startdate=2011-07-17&enddate=2011-08-02&extent=35.65339047&extent=-84.09852241&extent=36.118939520000005&extent=-83.6007075&limit=1000&units=standard\n",
      "No stations found even after expanding the extent. Skipping this gauge.\n",
      "Rainfall data processing is done for 34991109 starting from 2011-07-17\n",
      "https://www.ncdc.noaa.gov/cdo-web/api/v2/stations?datasetid=PRECIP_15&startdate=2018-05-21&enddate=2018-06-06&extent=35.5602573&extent=-83.84338361&extent=35.62883319&extent=-83.72851131&limit=1000&units=standard\n",
      "No stations found for 3518100 within the given extent: {'north': 35.62883319, 'south': 35.5602573, 'east': -83.72851131, 'west': -83.84338361}\n",
      "Attempting to expand the extent by 0.2 degrees...\n",
      "https://www.ncdc.noaa.gov/cdo-web/api/v2/stations?datasetid=PRECIP_15&startdate=2018-05-21&enddate=2018-06-06&extent=35.3602573&extent=-84.04338361&extent=35.828833190000005&extent=-83.52851131&limit=1000&units=standard\n",
      "No stations found even after expanding the extent. Skipping this gauge.\n",
      "Rainfall data processing is done for 3518100 starting from 2018-05-21\n",
      "https://www.ncdc.noaa.gov/cdo-web/api/v2/stations?datasetid=PRECIP_15&startdate=2003-04-03&enddate=2003-04-20&extent=35.98604651&extent=-84.98580367&extent=36.04870537&extent=-84.92582596&limit=1000&units=standard\n",
      "No stations found for 3538845 within the given extent: {'north': 36.04870537, 'south': 35.98604651, 'east': -84.92582596, 'west': -84.98580367}\n",
      "Attempting to expand the extent by 0.2 degrees...\n",
      "https://www.ncdc.noaa.gov/cdo-web/api/v2/stations?datasetid=PRECIP_15&startdate=2003-04-03&enddate=2003-04-20&extent=35.78604651&extent=-85.18580367&extent=36.24870537&extent=-84.72582596&limit=1000&units=standard\n",
      "No stations found even after expanding the extent. Skipping this gauge.\n",
      "Rainfall data processing is done for 3538845 starting from 2003-04-03\n",
      "https://www.ncdc.noaa.gov/cdo-web/api/v2/stations?datasetid=PRECIP_15&startdate=2003-04-02&enddate=2003-04-18&extent=36.07352082&extent=-84.98326528&extent=36.11850478&extent=-84.89807066&limit=1000&units=standard\n",
      "No stations found for 3538865 within the given extent: {'north': 36.11850478, 'south': 36.07352082, 'east': -84.89807066, 'west': -84.98326528}\n",
      "Attempting to expand the extent by 0.2 degrees...\n",
      "https://www.ncdc.noaa.gov/cdo-web/api/v2/stations?datasetid=PRECIP_15&startdate=2003-04-02&enddate=2003-04-18&extent=35.873520819999996&extent=-85.18326528&extent=36.318504780000005&extent=-84.69807066&limit=1000&units=standard\n",
      "No stations found even after expanding the extent. Skipping this gauge.\n",
      "Rainfall data processing is done for 3538865 starting from 2003-04-02\n",
      "https://www.ncdc.noaa.gov/cdo-web/api/v2/stations?datasetid=PRECIP_15&startdate=2017-03-27&enddate=2017-04-12&extent=35.83002675&extent=-85.10105441&extent=35.88963653&extent=-85.03928839&limit=1000&units=standard\n",
      "No stations found for 3538970 within the given extent: {'north': 35.88963653, 'south': 35.83002675, 'east': -85.03928839, 'west': -85.10105441}\n",
      "Attempting to expand the extent by 0.2 degrees...\n",
      "https://www.ncdc.noaa.gov/cdo-web/api/v2/stations?datasetid=PRECIP_15&startdate=2017-03-27&enddate=2017-04-12&extent=35.63002675&extent=-85.30105441&extent=36.08963653&extent=-84.83928839&limit=1000&units=standard\n",
      "No stations found even after expanding the extent. Skipping this gauge.\n",
      "Rainfall data processing is done for 3538970 starting from 2017-03-27\n",
      "https://www.ncdc.noaa.gov/cdo-web/api/v2/stations?datasetid=PRECIP_15&startdate=2003-05-02&enddate=2003-05-18&extent=35.43234109&extent=-84.61386089&extent=35.5391693&extent=-84.44254838&limit=1000&units=standard\n",
      "No stations found for 3565442 within the given extent: {'north': 35.5391693, 'south': 35.43234109, 'east': -84.44254838, 'west': -84.61386089}\n",
      "Attempting to expand the extent by 0.2 degrees...\n",
      "https://www.ncdc.noaa.gov/cdo-web/api/v2/stations?datasetid=PRECIP_15&startdate=2003-05-02&enddate=2003-05-18&extent=35.23234109&extent=-84.81386089&extent=35.7391693&extent=-84.24254838&limit=1000&units=standard\n",
      "No stations found even after expanding the extent. Skipping this gauge.\n",
      "Rainfall data processing is done for 3565442 starting from 2003-05-02\n",
      "https://www.ncdc.noaa.gov/cdo-web/api/v2/stations?datasetid=PRECIP_15&startdate=2002-04-27&enddate=2002-05-13&extent=35.29759725&extent=-86.16869329&extent=35.37069856&extent=-86.11064113&limit=1000&units=standard\n",
      "No stations found for 3579040 within the given extent: {'north': 35.37069856, 'south': 35.29759725, 'east': -86.11064113, 'west': -86.16869329}\n",
      "Attempting to expand the extent by 0.2 degrees...\n",
      "https://www.ncdc.noaa.gov/cdo-web/api/v2/stations?datasetid=PRECIP_15&startdate=2002-04-27&enddate=2002-05-13&extent=35.09759725&extent=-86.36869329&extent=35.570698560000004&extent=-85.91064113&limit=1000&units=standard\n",
      "No stations found even after expanding the extent. Skipping this gauge.\n",
      "Rainfall data processing is done for 3579040 starting from 2002-04-27\n",
      "https://www.ncdc.noaa.gov/cdo-web/api/v2/stations?datasetid=PRECIP_15&startdate=2003-03-31&enddate=2003-04-16&extent=35.40935017&extent=-86.09389556&extent=35.47507918&extent=-86.00351129&limit=1000&units=standard\n",
      "No stations found for 3595100 within the given extent: {'north': 35.47507918, 'south': 35.40935017, 'east': -86.00351129, 'west': -86.09389556}\n",
      "Attempting to expand the extent by 0.2 degrees...\n",
      "https://www.ncdc.noaa.gov/cdo-web/api/v2/stations?datasetid=PRECIP_15&startdate=2003-03-31&enddate=2003-04-16&extent=35.20935017&extent=-86.29389556000001&extent=35.675079180000004&extent=-85.80351129&limit=1000&units=standard\n",
      "https://www.ncdc.noaa.gov/cdo-web/api/v2/data?datasetid=PRECIP_15&startdate=2003-03-31&enddate=2003-04-16&stationid=COOP:406162&limit=1000&units=standard\n",
      "Rainfall data processing is done for 3595100 starting from 2003-03-31\n",
      "https://www.ncdc.noaa.gov/cdo-web/api/v2/stations?datasetid=PRECIP_15&startdate=2005-03-31&enddate=2005-04-16&extent=35.36054983&extent=-86.15944768&extent=35.45212428&extent=-86.03567599&limit=1000&units=standard\n",
      "No stations found for 3596100 within the given extent: {'north': 35.45212428, 'south': 35.36054983, 'east': -86.03567599, 'west': -86.15944768}\n",
      "Attempting to expand the extent by 0.2 degrees...\n",
      "https://www.ncdc.noaa.gov/cdo-web/api/v2/stations?datasetid=PRECIP_15&startdate=2005-03-31&enddate=2005-04-16&extent=35.160549829999994&extent=-86.35944768&extent=35.65212428&extent=-85.83567599&limit=1000&units=standard\n",
      "https://www.ncdc.noaa.gov/cdo-web/api/v2/data?datasetid=PRECIP_15&startdate=2005-03-31&enddate=2005-04-16&stationid=COOP:406162&limit=1000&units=standard\n",
      "Rainfall data processing is done for 3596100 starting from 2005-03-31\n",
      "https://www.ncdc.noaa.gov/cdo-web/api/v2/stations?datasetid=PRECIP_15&startdate=2009-03-27&enddate=2009-04-12&extent=35.56227767&extent=-86.45657281&extent=35.61146435&extent=-86.38652084&limit=1000&units=standard\n",
      "No stations found for 3598169 within the given extent: {'north': 35.61146435, 'south': 35.56227767, 'east': -86.38652084, 'west': -86.45657281}\n",
      "Attempting to expand the extent by 0.2 degrees...\n",
      "https://www.ncdc.noaa.gov/cdo-web/api/v2/stations?datasetid=PRECIP_15&startdate=2009-03-27&enddate=2009-04-12&extent=35.36227767&extent=-86.65657281&extent=35.81146435&extent=-86.18652084&limit=1000&units=standard\n",
      "No stations found even after expanding the extent. Skipping this gauge.\n",
      "Rainfall data processing is done for 3598169 starting from 2009-03-27\n",
      "https://www.ncdc.noaa.gov/cdo-web/api/v2/stations?datasetid=PRECIP_15&startdate=2015-03-27&enddate=2015-04-13&extent=35.9593737&extent=-88.17490636&extent=36.10035386&extent=-88.06467076&limit=1000&units=standard\n",
      "No stations found for 3605078 within the given extent: {'north': 36.10035386, 'south': 35.9593737, 'east': -88.06467076, 'west': -88.17490636}\n",
      "Attempting to expand the extent by 0.2 degrees...\n",
      "https://www.ncdc.noaa.gov/cdo-web/api/v2/stations?datasetid=PRECIP_15&startdate=2015-03-27&enddate=2015-04-13&extent=35.7593737&extent=-88.37490636&extent=36.30035386&extent=-87.86467076&limit=1000&units=standard\n",
      "No stations found even after expanding the extent. Skipping this gauge.\n",
      "Rainfall data processing is done for 3605078 starting from 2015-03-27\n",
      "https://www.ncdc.noaa.gov/cdo-web/api/v2/stations?datasetid=PRECIP_15&startdate=2016-03-25&enddate=2016-04-10&extent=36.45700063&extent=-89.33575488&extent=36.58079572&extent=-89.17949579&limit=1000&units=standard\n",
      "No stations found for 7026680 within the given extent: {'north': 36.58079572, 'south': 36.45700063, 'east': -89.17949579, 'west': -89.33575488}\n",
      "Attempting to expand the extent by 0.2 degrees...\n",
      "https://www.ncdc.noaa.gov/cdo-web/api/v2/stations?datasetid=PRECIP_15&startdate=2016-03-25&enddate=2016-04-10&extent=36.25700063&extent=-89.53575488&extent=36.78079572&extent=-88.97949579&limit=1000&units=standard\n",
      "No stations found even after expanding the extent. Skipping this gauge.\n",
      "Rainfall data processing is done for 7026680 starting from 2016-03-25\n",
      "https://www.ncdc.noaa.gov/cdo-web/api/v2/stations?datasetid=PRECIP_15&startdate=2016-05-05&enddate=2016-05-21&extent=36.34292002&extent=-89.35028677&extent=36.39845329&extent=-89.29288658&limit=1000&units=standard\n",
      "No stations found for 7026795 within the given extent: {'north': 36.39845329, 'south': 36.34292002, 'east': -89.29288658, 'west': -89.35028677}\n",
      "Attempting to expand the extent by 0.2 degrees...\n",
      "https://www.ncdc.noaa.gov/cdo-web/api/v2/stations?datasetid=PRECIP_15&startdate=2016-05-05&enddate=2016-05-21&extent=36.14292002&extent=-89.55028677&extent=36.59845329&extent=-89.09288658&limit=1000&units=standard\n",
      "No stations found even after expanding the extent. Skipping this gauge.\n",
      "Rainfall data processing is done for 7026795 starting from 2016-05-05\n",
      "https://www.ncdc.noaa.gov/cdo-web/api/v2/stations?datasetid=PRECIP_15&startdate=2002-03-23&enddate=2002-04-08&extent=35.79841428&extent=-88.81509142&extent=35.83311581&extent=-88.75380996&limit=1000&units=standard\n",
      "No stations found for 7028930 within the given extent: {'north': 35.83311581, 'south': 35.79841428, 'east': -88.75380996, 'west': -88.81509142}\n",
      "Attempting to expand the extent by 0.2 degrees...\n",
      "https://www.ncdc.noaa.gov/cdo-web/api/v2/stations?datasetid=PRECIP_15&startdate=2002-03-23&enddate=2002-04-08&extent=35.59841428&extent=-89.01509142&extent=36.033115810000005&extent=-88.55380996&limit=1000&units=standard\n",
      "https://www.ncdc.noaa.gov/cdo-web/api/v2/data?datasetid=PRECIP_15&startdate=2002-03-23&enddate=2002-04-08&stationid=COOP:404561&limit=1000&units=standard\n",
      "Warnings for 7028930: \"None of [Index(['date', 'QPCP'], dtype='object')] are in the [columns]\"\n",
      "No valid data collected for 7028930. Exiting process.\n",
      "Rainfall data processing is done for 7028930 starting from 2002-03-23\n",
      "https://www.ncdc.noaa.gov/cdo-web/api/v2/stations?datasetid=PRECIP_15&startdate=2000-04-04&enddate=2000-04-20&extent=35.89402029&extent=-89.22361669&extent=35.97786749&extent=-89.15245689&limit=1000&units=standard\n",
      "No stations found for 7029035 within the given extent: {'north': 35.97786749, 'south': 35.89402029, 'east': -89.15245689, 'west': -89.22361669}\n",
      "Attempting to expand the extent by 0.2 degrees...\n",
      "https://www.ncdc.noaa.gov/cdo-web/api/v2/stations?datasetid=PRECIP_15&startdate=2000-04-04&enddate=2000-04-20&extent=35.69402029&extent=-89.42361669&extent=36.177867490000004&extent=-88.95245689&limit=1000&units=standard\n",
      "https://www.ncdc.noaa.gov/cdo-web/api/v2/data?datasetid=PRECIP_15&startdate=2000-04-04&enddate=2000-04-20&stationid=COOP:402680&limit=1000&units=standard\n",
      "Warnings for 7029035: \"None of [Index(['date', 'QPCP'], dtype='object')] are in the [columns]\"\n",
      "No valid data collected for 7029035. Exiting process.\n",
      "Rainfall data processing is done for 7029035 starting from 2000-04-04\n",
      "https://www.ncdc.noaa.gov/cdo-web/api/v2/stations?datasetid=PRECIP_15&startdate=2020-08-16&enddate=2020-08-30&extent=36.06495557&extent=-86.81620105&extent=36.16118001&extent=-86.72033451&limit=1000&units=standard\n",
      "No stations found for 3431300 within the given extent: {'north': 36.16118001, 'south': 36.06495557, 'east': -86.72033451, 'west': -86.81620105}\n",
      "Attempting to expand the extent by 0.2 degrees...\n",
      "https://www.ncdc.noaa.gov/cdo-web/api/v2/stations?datasetid=PRECIP_15&startdate=2020-08-16&enddate=2020-08-30&extent=35.86495557&extent=-87.01620105&extent=36.361180010000005&extent=-86.52033451&limit=1000&units=standard\n",
      "No stations found even after expanding the extent. Skipping this gauge.\n",
      "Rainfall data processing is done for 3431300 starting from 2020-08-16\n",
      "https://www.ncdc.noaa.gov/cdo-web/api/v2/stations?datasetid=PRECIP_15&startdate=2020-08-23&enddate=2020-09-05&extent=36.06495557&extent=-86.81620105&extent=36.16118001&extent=-86.72033451&limit=1000&units=standard\n",
      "No stations found for 3431300 within the given extent: {'north': 36.16118001, 'south': 36.06495557, 'east': -86.72033451, 'west': -86.81620105}\n",
      "Attempting to expand the extent by 0.2 degrees...\n",
      "https://www.ncdc.noaa.gov/cdo-web/api/v2/stations?datasetid=PRECIP_15&startdate=2020-08-23&enddate=2020-09-05&extent=35.86495557&extent=-87.01620105&extent=36.361180010000005&extent=-86.52033451&limit=1000&units=standard\n",
      "No stations found even after expanding the extent. Skipping this gauge.\n",
      "Rainfall data processing is done for 3431300 starting from 2020-08-23\n",
      "https://www.ncdc.noaa.gov/cdo-web/api/v2/stations?datasetid=PRECIP_15&startdate=2020-08-24&enddate=2020-09-07&extent=36.06495557&extent=-86.81620105&extent=36.16118001&extent=-86.72033451&limit=1000&units=standard\n",
      "No stations found for 3431300 within the given extent: {'north': 36.16118001, 'south': 36.06495557, 'east': -86.72033451, 'west': -86.81620105}\n",
      "Attempting to expand the extent by 0.2 degrees...\n",
      "https://www.ncdc.noaa.gov/cdo-web/api/v2/stations?datasetid=PRECIP_15&startdate=2020-08-24&enddate=2020-09-07&extent=35.86495557&extent=-87.01620105&extent=36.361180010000005&extent=-86.52033451&limit=1000&units=standard\n",
      "No stations found even after expanding the extent. Skipping this gauge.\n",
      "Rainfall data processing is done for 3431300 starting from 2020-08-24\n",
      "https://www.ncdc.noaa.gov/cdo-web/api/v2/stations?datasetid=PRECIP_15&startdate=2017-05-17&enddate=2017-06-02&extent=36.47054977&extent=-85.87185917&extent=36.56569568&extent=-85.80165628&limit=1000&units=standard\n",
      "No stations found for 3312259 within the given extent: {'north': 36.56569568, 'south': 36.47054977, 'east': -85.80165628, 'west': -85.87185917}\n",
      "Attempting to expand the extent by 0.2 degrees...\n",
      "https://www.ncdc.noaa.gov/cdo-web/api/v2/stations?datasetid=PRECIP_15&startdate=2017-05-17&enddate=2017-06-02&extent=36.270549769999995&extent=-86.07185917&extent=36.76569568&extent=-85.60165628&limit=1000&units=standard\n",
      "No stations found even after expanding the extent. Skipping this gauge.\n",
      "Rainfall data processing is done for 3312259 starting from 2017-05-17\n",
      "https://www.ncdc.noaa.gov/cdo-web/api/v2/stations?datasetid=PRECIP_15&startdate=2000-04-01&enddate=2000-04-17&extent=36.31355449&extent=-86.79300794&extent=36.41892638&extent=-86.71621875&limit=1000&units=standard\n",
      "No stations found for 3426385 within the given extent: {'north': 36.41892638, 'south': 36.31355449, 'east': -86.71621875, 'west': -86.79300794}\n",
      "Attempting to expand the extent by 0.2 degrees...\n",
      "https://www.ncdc.noaa.gov/cdo-web/api/v2/stations?datasetid=PRECIP_15&startdate=2000-04-01&enddate=2000-04-17&extent=36.11355449&extent=-86.99300794&extent=36.618926380000005&extent=-86.51621875&limit=1000&units=standard\n",
      "https://www.ncdc.noaa.gov/cdo-web/api/v2/data?datasetid=PRECIP_15&startdate=2000-04-01&enddate=2000-04-17&stationid=COOP:407359&limit=1000&units=standard\n",
      "https://www.ncdc.noaa.gov/cdo-web/api/v2/data?datasetid=PRECIP_15&startdate=2000-04-01&enddate=2000-04-17&stationid=COOP:408562&limit=1000&units=standard\n",
      "Rainfall data processing is done for 3426385 starting from 2000-04-01\n",
      "https://www.ncdc.noaa.gov/cdo-web/api/v2/stations?datasetid=PRECIP_15&startdate=2017-04-11&enddate=2017-04-27&extent=36.26672548&extent=-86.76382851&extent=36.31769794&extent=-86.68765616&limit=1000&units=standard\n",
      "No stations found for 3426470 within the given extent: {'north': 36.31769794, 'south': 36.26672548, 'east': -86.68765616, 'west': -86.76382851}\n",
      "Attempting to expand the extent by 0.2 degrees...\n",
      "https://www.ncdc.noaa.gov/cdo-web/api/v2/stations?datasetid=PRECIP_15&startdate=2017-04-11&enddate=2017-04-27&extent=36.066725479999995&extent=-86.96382851&extent=36.517697940000005&extent=-86.48765616&limit=1000&units=standard\n",
      "No stations found even after expanding the extent. Skipping this gauge.\n",
      "Rainfall data processing is done for 3426470 starting from 2017-04-11\n",
      "https://www.ncdc.noaa.gov/cdo-web/api/v2/stations?datasetid=PRECIP_15&startdate=2004-07-30&enddate=2004-08-13&extent=35.9138341&extent=-86.86123297&extent=35.93584826&extent=-86.81715714&limit=1000&units=standard\n",
      "No stations found for 34323531 within the given extent: {'north': 35.93584826, 'south': 35.9138341, 'east': -86.81715714, 'west': -86.86123297}\n",
      "Attempting to expand the extent by 0.2 degrees...\n",
      "https://www.ncdc.noaa.gov/cdo-web/api/v2/stations?datasetid=PRECIP_15&startdate=2004-07-30&enddate=2004-08-13&extent=35.7138341&extent=-87.06123297&extent=36.13584826&extent=-86.61715714&limit=1000&units=standard\n",
      "No stations found even after expanding the extent. Skipping this gauge.\n",
      "Rainfall data processing is done for 34323531 starting from 2004-07-30\n",
      "https://www.ncdc.noaa.gov/cdo-web/api/v2/stations?datasetid=PRECIP_15&startdate=2005-08-08&enddate=2005-08-24&extent=35.89558097&extent=-86.90401478&extent=35.93319367&extent=-86.86676872&limit=1000&units=standard\n",
      "No stations found for 3432376 within the given extent: {'north': 35.93319367, 'south': 35.89558097, 'east': -86.86676872, 'west': -86.90401478}\n",
      "Attempting to expand the extent by 0.2 degrees...\n",
      "https://www.ncdc.noaa.gov/cdo-web/api/v2/stations?datasetid=PRECIP_15&startdate=2005-08-08&enddate=2005-08-24&extent=35.695580969999995&extent=-87.10401478&extent=36.133193670000004&extent=-86.66676872&limit=1000&units=standard\n",
      "No stations found even after expanding the extent. Skipping this gauge.\n",
      "Rainfall data processing is done for 3432376 starting from 2005-08-08\n",
      "https://www.ncdc.noaa.gov/cdo-web/api/v2/stations?datasetid=PRECIP_15&startdate=2005-03-25&enddate=2005-04-10&extent=35.92571722&extent=-86.82916748&extent=35.9481873&extent=-86.77946158&limit=1000&units=standard\n",
      "No stations found for 3432387 within the given extent: {'north': 35.9481873, 'south': 35.92571722, 'east': -86.77946158, 'west': -86.82916748}\n",
      "Attempting to expand the extent by 0.2 degrees...\n",
      "https://www.ncdc.noaa.gov/cdo-web/api/v2/stations?datasetid=PRECIP_15&startdate=2005-03-25&enddate=2005-04-10&extent=35.72571722&extent=-87.02916748&extent=36.148187300000004&extent=-86.57946158&limit=1000&units=standard\n",
      "No stations found even after expanding the extent. Skipping this gauge.\n",
      "Rainfall data processing is done for 3432387 starting from 2005-03-25\n",
      "https://www.ncdc.noaa.gov/cdo-web/api/v2/stations?datasetid=PRECIP_15&startdate=2009-03-27&enddate=2009-05-28&extent=35.92571722&extent=-86.86050701&extent=35.99175158&extent=-86.77946158&limit=1000&units=standard\n",
      "No stations found for 3432390 within the given extent: {'north': 35.99175158, 'south': 35.92571722, 'east': -86.77946158, 'west': -86.86050701}\n",
      "Attempting to expand the extent by 0.2 degrees...\n",
      "https://www.ncdc.noaa.gov/cdo-web/api/v2/stations?datasetid=PRECIP_15&startdate=2009-03-27&enddate=2009-05-28&extent=35.72571722&extent=-87.06050701000001&extent=36.19175158&extent=-86.57946158&limit=1000&units=standard\n",
      "No stations found even after expanding the extent. Skipping this gauge.\n",
      "Rainfall data processing is done for 3432390 starting from 2009-03-27\n",
      "https://www.ncdc.noaa.gov/cdo-web/api/v2/stations?datasetid=PRECIP_15&startdate=2011-06-21&enddate=2011-07-07&extent=35.79690068&extent=-87.03415221&extent=35.82602345&extent=-87.00605068&limit=1000&units=standard\n",
      "No stations found for 34325065 within the given extent: {'north': 35.82602345, 'south': 35.79690068, 'east': -87.00605068, 'west': -87.03415221}\n",
      "Attempting to expand the extent by 0.2 degrees...\n",
      "https://www.ncdc.noaa.gov/cdo-web/api/v2/stations?datasetid=PRECIP_15&startdate=2011-06-21&enddate=2011-07-07&extent=35.59690068&extent=-87.23415221&extent=36.026023450000004&extent=-86.80605068&limit=1000&units=standard\n",
      "No stations found even after expanding the extent. Skipping this gauge.\n",
      "Rainfall data processing is done for 34325065 starting from 2011-06-21\n",
      "https://www.ncdc.noaa.gov/cdo-web/api/v2/stations?datasetid=PRECIP_15&startdate=2011-04-09&enddate=2011-04-25&extent=35.79690068&extent=-87.06590957&extent=35.84695527&extent=-87.00605068&limit=1000&units=standard\n",
      "No stations found for 3432516 within the given extent: {'north': 35.84695527, 'south': 35.79690068, 'east': -87.00605068, 'west': -87.06590957}\n",
      "Attempting to expand the extent by 0.2 degrees...\n",
      "https://www.ncdc.noaa.gov/cdo-web/api/v2/stations?datasetid=PRECIP_15&startdate=2011-04-09&enddate=2011-04-25&extent=35.59690068&extent=-87.26590957&extent=36.046955270000005&extent=-86.80605068&limit=1000&units=standard\n",
      "No stations found even after expanding the extent. Skipping this gauge.\n",
      "Rainfall data processing is done for 3432516 starting from 2011-04-09\n",
      "https://www.ncdc.noaa.gov/cdo-web/api/v2/stations?datasetid=PRECIP_15&startdate=2008-04-26&enddate=2008-05-12&extent=35.88610806&extent=-87.156871&extent=35.91036299&extent=-87.12623542&limit=1000&units=standard\n",
      "No stations found for 3433637 within the given extent: {'north': 35.91036299, 'south': 35.88610806, 'east': -87.12623542, 'west': -87.156871}\n",
      "Attempting to expand the extent by 0.2 degrees...\n",
      "https://www.ncdc.noaa.gov/cdo-web/api/v2/stations?datasetid=PRECIP_15&startdate=2008-04-26&enddate=2008-05-12&extent=35.686108059999995&extent=-87.356871&extent=36.110362990000006&extent=-86.92623542&limit=1000&units=standard\n",
      "No stations found even after expanding the extent. Skipping this gauge.\n",
      "Rainfall data processing is done for 3433637 starting from 2008-04-26\n",
      "https://www.ncdc.noaa.gov/cdo-web/api/v2/stations?datasetid=PRECIP_15&startdate=2011-04-20&enddate=2011-05-06&extent=35.88397462&extent=-87.13499686&extent=35.91192244&extent=-87.09880096&limit=1000&units=standard\n",
      "No stations found for 3433640 within the given extent: {'north': 35.91192244, 'south': 35.88397462, 'east': -87.09880096, 'west': -87.13499686}\n",
      "Attempting to expand the extent by 0.2 degrees...\n",
      "https://www.ncdc.noaa.gov/cdo-web/api/v2/stations?datasetid=PRECIP_15&startdate=2011-04-20&enddate=2011-05-06&extent=35.683974619999994&extent=-87.33499686&extent=36.11192244&extent=-86.89880096&limit=1000&units=standard\n",
      "No stations found even after expanding the extent. Skipping this gauge.\n",
      "Rainfall data processing is done for 3433640 starting from 2011-04-20\n",
      "https://www.ncdc.noaa.gov/cdo-web/api/v2/stations?datasetid=PRECIP_15&startdate=2004-04-06&enddate=2004-04-23&extent=36.40887148&extent=-87.08152355&extent=36.50095989&extent=-86.95576251&limit=1000&units=standard\n",
      "No stations found for 3435970 within the given extent: {'north': 36.50095989, 'south': 36.40887148, 'east': -86.95576251, 'west': -87.08152355}\n",
      "Attempting to expand the extent by 0.2 degrees...\n",
      "https://www.ncdc.noaa.gov/cdo-web/api/v2/stations?datasetid=PRECIP_15&startdate=2004-04-06&enddate=2004-04-23&extent=36.20887148&extent=-87.28152355&extent=36.70095989&extent=-86.75576251&limit=1000&units=standard\n",
      "https://www.ncdc.noaa.gov/cdo-web/api/v2/data?datasetid=PRECIP_15&startdate=2004-04-06&enddate=2004-04-23&stationid=COOP:401663&limit=1000&units=standard\n",
      "https://www.ncdc.noaa.gov/cdo-web/api/v2/data?datasetid=PRECIP_15&startdate=2004-04-06&enddate=2004-04-23&stationid=COOP:408562&limit=1000&units=standard\n",
      "Rainfall data processing is done for 3435970 starting from 2004-04-06\n",
      "https://www.ncdc.noaa.gov/cdo-web/api/v2/stations?datasetid=PRECIP_15&startdate=2004-07-06&enddate=2004-07-22&extent=36.23566899&extent=-82.37727876&extent=36.31697728&extent=-82.32536546&limit=1000&units=standard\n",
      "No stations found for 3486311 within the given extent: {'north': 36.31697728, 'south': 36.23566899, 'east': -82.32536546, 'west': -82.37727876}\n",
      "Attempting to expand the extent by 0.2 degrees...\n",
      "https://www.ncdc.noaa.gov/cdo-web/api/v2/stations?datasetid=PRECIP_15&startdate=2004-07-06&enddate=2004-07-22&extent=36.03566899&extent=-82.57727876&extent=36.516977280000006&extent=-82.12536546&limit=1000&units=standard\n",
      "https://www.ncdc.noaa.gov/cdo-web/api/v2/data?datasetid=PRECIP_15&startdate=2004-07-06&enddate=2004-07-22&stationid=COOP:402934&limit=1000&units=standard\n",
      "Warnings for 3486311: \"None of [Index(['date', 'QPCP'], dtype='object')] are in the [columns]\"\n",
      "No valid data collected for 3486311. Exiting process.\n",
      "Rainfall data processing is done for 3486311 starting from 2004-07-06\n",
      "https://www.ncdc.noaa.gov/cdo-web/api/v2/stations?datasetid=PRECIP_15&startdate=2019-04-07&enddate=2019-04-24&extent=36.37321371&extent=-83.05688717&extent=36.42555552&extent=-82.98309718&limit=1000&units=standard\n",
      "No stations found for 3491544 within the given extent: {'north': 36.42555552, 'south': 36.37321371, 'east': -82.98309718, 'west': -83.05688717}\n",
      "Attempting to expand the extent by 0.2 degrees...\n",
      "https://www.ncdc.noaa.gov/cdo-web/api/v2/stations?datasetid=PRECIP_15&startdate=2019-04-07&enddate=2019-04-24&extent=36.17321371&extent=-83.25688717&extent=36.625555520000006&extent=-82.78309718&limit=1000&units=standard\n",
      "No stations found even after expanding the extent. Skipping this gauge.\n",
      "Rainfall data processing is done for 3491544 starting from 2019-04-07\n",
      "https://www.ncdc.noaa.gov/cdo-web/api/v2/stations?datasetid=PRECIP_15&startdate=2017-04-15&enddate=2017-05-02&extent=36.07117705&extent=-83.85598071&extent=36.13632579&extent=-83.75988312&limit=1000&units=standard\n",
      "No stations found for 3495405 within the given extent: {'north': 36.13632579, 'south': 36.07117705, 'east': -83.75988312, 'west': -83.85598071}\n",
      "Attempting to expand the extent by 0.2 degrees...\n",
      "https://www.ncdc.noaa.gov/cdo-web/api/v2/stations?datasetid=PRECIP_15&startdate=2017-04-15&enddate=2017-05-02&extent=35.87117705&extent=-84.05598071&extent=36.336325790000004&extent=-83.55988312&limit=1000&units=standard\n",
      "No stations found even after expanding the extent. Skipping this gauge.\n",
      "Rainfall data processing is done for 3495405 starting from 2017-04-15\n",
      "https://www.ncdc.noaa.gov/cdo-web/api/v2/stations?datasetid=PRECIP_15&startdate=2009-05-22&enddate=2009-06-07&extent=35.8546123&extent=-83.85496784&extent=35.8929825&extent=-83.8007075&limit=1000&units=standard\n",
      "No stations found for 34991105 within the given extent: {'north': 35.8929825, 'south': 35.8546123, 'east': -83.8007075, 'west': -83.85496784}\n",
      "Attempting to expand the extent by 0.2 degrees...\n",
      "https://www.ncdc.noaa.gov/cdo-web/api/v2/stations?datasetid=PRECIP_15&startdate=2009-05-22&enddate=2009-06-07&extent=35.6546123&extent=-84.05496784&extent=36.092982500000005&extent=-83.6007075&limit=1000&units=standard\n",
      "No stations found even after expanding the extent. Skipping this gauge.\n",
      "Rainfall data processing is done for 34991105 starting from 2009-05-22\n",
      "https://www.ncdc.noaa.gov/cdo-web/api/v2/stations?datasetid=PRECIP_15&startdate=2018-06-21&enddate=2018-07-07&extent=35.5602573&extent=-83.84338361&extent=35.62883319&extent=-83.72851131&limit=1000&units=standard\n",
      "No stations found for 3518100 within the given extent: {'north': 35.62883319, 'south': 35.5602573, 'east': -83.72851131, 'west': -83.84338361}\n",
      "Attempting to expand the extent by 0.2 degrees...\n",
      "https://www.ncdc.noaa.gov/cdo-web/api/v2/stations?datasetid=PRECIP_15&startdate=2018-06-21&enddate=2018-07-07&extent=35.3602573&extent=-84.04338361&extent=35.828833190000005&extent=-83.52851131&limit=1000&units=standard\n",
      "No stations found even after expanding the extent. Skipping this gauge.\n",
      "Rainfall data processing is done for 3518100 starting from 2018-06-21\n",
      "https://www.ncdc.noaa.gov/cdo-web/api/v2/stations?datasetid=PRECIP_15&startdate=2001-03-24&enddate=2001-04-09&extent=35.9104829&extent=-84.339059&extent=35.9577433&extent=-84.29154599&limit=1000&units=standard\n",
      "No stations found for 3536550 within the given extent: {'north': 35.9577433, 'south': 35.9104829, 'east': -84.29154599, 'west': -84.339059}\n",
      "Attempting to expand the extent by 0.2 degrees...\n",
      "https://www.ncdc.noaa.gov/cdo-web/api/v2/stations?datasetid=PRECIP_15&startdate=2001-03-24&enddate=2001-04-09&extent=35.710482899999995&extent=-84.53905900000001&extent=36.1577433&extent=-84.09154599&limit=1000&units=standard\n",
      "No stations found even after expanding the extent. Skipping this gauge.\n",
      "Rainfall data processing is done for 3536550 starting from 2001-03-24\n",
      "https://www.ncdc.noaa.gov/cdo-web/api/v2/stations?datasetid=PRECIP_15&startdate=2000-03-27&enddate=2000-04-13&extent=35.93220047&extent=-84.34150401&extent=35.9830483&extent=-84.26938022&limit=1000&units=standard\n",
      "No stations found for 3538270 within the given extent: {'north': 35.9830483, 'south': 35.93220047, 'east': -84.26938022, 'west': -84.34150401}\n",
      "Attempting to expand the extent by 0.2 degrees...\n",
      "https://www.ncdc.noaa.gov/cdo-web/api/v2/stations?datasetid=PRECIP_15&startdate=2000-03-27&enddate=2000-04-13&extent=35.732200469999995&extent=-84.54150401&extent=36.1830483&extent=-84.06938022&limit=1000&units=standard\n",
      "No stations found even after expanding the extent. Skipping this gauge.\n",
      "Rainfall data processing is done for 3538270 starting from 2000-03-27\n",
      "https://www.ncdc.noaa.gov/cdo-web/api/v2/stations?datasetid=PRECIP_15&startdate=2003-04-29&enddate=2003-05-15&extent=35.98604651&extent=-84.98580367&extent=36.04870537&extent=-84.92582596&limit=1000&units=standard\n",
      "No stations found for 3538845 within the given extent: {'north': 36.04870537, 'south': 35.98604651, 'east': -84.92582596, 'west': -84.98580367}\n",
      "Attempting to expand the extent by 0.2 degrees...\n",
      "https://www.ncdc.noaa.gov/cdo-web/api/v2/stations?datasetid=PRECIP_15&startdate=2003-04-29&enddate=2003-05-15&extent=35.78604651&extent=-85.18580367&extent=36.24870537&extent=-84.72582596&limit=1000&units=standard\n",
      "No stations found even after expanding the extent. Skipping this gauge.\n",
      "Rainfall data processing is done for 3538845 starting from 2003-04-29\n",
      "https://www.ncdc.noaa.gov/cdo-web/api/v2/stations?datasetid=PRECIP_15&startdate=2003-04-03&enddate=2003-04-20&extent=36.07352082&extent=-84.98326528&extent=36.11850478&extent=-84.89807066&limit=1000&units=standard\n",
      "No stations found for 3538865 within the given extent: {'north': 36.11850478, 'south': 36.07352082, 'east': -84.89807066, 'west': -84.98326528}\n",
      "Attempting to expand the extent by 0.2 degrees...\n",
      "https://www.ncdc.noaa.gov/cdo-web/api/v2/stations?datasetid=PRECIP_15&startdate=2003-04-03&enddate=2003-04-20&extent=35.873520819999996&extent=-85.18326528&extent=36.318504780000005&extent=-84.69807066&limit=1000&units=standard\n",
      "No stations found even after expanding the extent. Skipping this gauge.\n",
      "Rainfall data processing is done for 3538865 starting from 2003-04-03\n",
      "https://www.ncdc.noaa.gov/cdo-web/api/v2/stations?datasetid=PRECIP_15&startdate=2018-03-28&enddate=2018-04-13&extent=35.83002675&extent=-85.10105441&extent=35.88963653&extent=-85.03928839&limit=1000&units=standard\n",
      "No stations found for 3538970 within the given extent: {'north': 35.88963653, 'south': 35.83002675, 'east': -85.03928839, 'west': -85.10105441}\n",
      "Attempting to expand the extent by 0.2 degrees...\n",
      "https://www.ncdc.noaa.gov/cdo-web/api/v2/stations?datasetid=PRECIP_15&startdate=2018-03-28&enddate=2018-04-13&extent=35.63002675&extent=-85.30105441&extent=36.08963653&extent=-84.83928839&limit=1000&units=standard\n",
      "No stations found even after expanding the extent. Skipping this gauge.\n",
      "Rainfall data processing is done for 3538970 starting from 2018-03-28\n",
      "https://www.ncdc.noaa.gov/cdo-web/api/v2/stations?datasetid=PRECIP_15&startdate=2007-03-28&enddate=2007-04-13&extent=35.43234109&extent=-84.61386089&extent=35.5391693&extent=-84.44254838&limit=1000&units=standard\n",
      "No stations found for 3565442 within the given extent: {'north': 35.5391693, 'south': 35.43234109, 'east': -84.44254838, 'west': -84.61386089}\n",
      "Attempting to expand the extent by 0.2 degrees...\n",
      "https://www.ncdc.noaa.gov/cdo-web/api/v2/stations?datasetid=PRECIP_15&startdate=2007-03-28&enddate=2007-04-13&extent=35.23234109&extent=-84.81386089&extent=35.7391693&extent=-84.24254838&limit=1000&units=standard\n",
      "No stations found even after expanding the extent. Skipping this gauge.\n",
      "Rainfall data processing is done for 3565442 starting from 2007-03-28\n",
      "https://www.ncdc.noaa.gov/cdo-web/api/v2/stations?datasetid=PRECIP_15&startdate=2003-04-28&enddate=2003-05-14&extent=35.40935017&extent=-86.09389556&extent=35.47507918&extent=-86.00351129&limit=1000&units=standard\n",
      "No stations found for 3595100 within the given extent: {'north': 35.47507918, 'south': 35.40935017, 'east': -86.00351129, 'west': -86.09389556}\n",
      "Attempting to expand the extent by 0.2 degrees...\n",
      "https://www.ncdc.noaa.gov/cdo-web/api/v2/stations?datasetid=PRECIP_15&startdate=2003-04-28&enddate=2003-05-14&extent=35.20935017&extent=-86.29389556000001&extent=35.675079180000004&extent=-85.80351129&limit=1000&units=standard\n",
      "https://www.ncdc.noaa.gov/cdo-web/api/v2/data?datasetid=PRECIP_15&startdate=2003-04-28&enddate=2003-05-14&stationid=COOP:406162&limit=1000&units=standard\n",
      "Rainfall data processing is done for 3595100 starting from 2003-04-28\n",
      "https://www.ncdc.noaa.gov/cdo-web/api/v2/stations?datasetid=PRECIP_15&startdate=2006-03-25&enddate=2006-04-10&extent=35.36054983&extent=-86.15944768&extent=35.45212428&extent=-86.03567599&limit=1000&units=standard\n",
      "No stations found for 3596100 within the given extent: {'north': 35.45212428, 'south': 35.36054983, 'east': -86.03567599, 'west': -86.15944768}\n",
      "Attempting to expand the extent by 0.2 degrees...\n",
      "https://www.ncdc.noaa.gov/cdo-web/api/v2/stations?datasetid=PRECIP_15&startdate=2006-03-25&enddate=2006-04-10&extent=35.160549829999994&extent=-86.35944768&extent=35.65212428&extent=-85.83567599&limit=1000&units=standard\n",
      "https://www.ncdc.noaa.gov/cdo-web/api/v2/data?datasetid=PRECIP_15&startdate=2006-03-25&enddate=2006-04-10&stationid=COOP:406162&limit=1000&units=standard\n",
      "Rainfall data processing is done for 3596100 starting from 2006-03-25\n",
      "https://www.ncdc.noaa.gov/cdo-web/api/v2/stations?datasetid=PRECIP_15&startdate=2009-04-03&enddate=2009-04-20&extent=35.56227767&extent=-86.45657281&extent=35.61146435&extent=-86.38652084&limit=1000&units=standard\n",
      "No stations found for 3598169 within the given extent: {'north': 35.61146435, 'south': 35.56227767, 'east': -86.38652084, 'west': -86.45657281}\n",
      "Attempting to expand the extent by 0.2 degrees...\n",
      "https://www.ncdc.noaa.gov/cdo-web/api/v2/stations?datasetid=PRECIP_15&startdate=2009-04-03&enddate=2009-04-20&extent=35.36227767&extent=-86.65657281&extent=35.81146435&extent=-86.18652084&limit=1000&units=standard\n",
      "No stations found even after expanding the extent. Skipping this gauge.\n",
      "Rainfall data processing is done for 3598169 starting from 2009-04-03\n",
      "https://www.ncdc.noaa.gov/cdo-web/api/v2/stations?datasetid=PRECIP_15&startdate=2019-03-31&enddate=2019-04-17&extent=35.9593737&extent=-88.17490636&extent=36.10035386&extent=-88.06467076&limit=1000&units=standard\n",
      "No stations found for 3605078 within the given extent: {'north': 36.10035386, 'south': 35.9593737, 'east': -88.06467076, 'west': -88.17490636}\n",
      "Attempting to expand the extent by 0.2 degrees...\n",
      "https://www.ncdc.noaa.gov/cdo-web/api/v2/stations?datasetid=PRECIP_15&startdate=2019-03-31&enddate=2019-04-17&extent=35.7593737&extent=-88.37490636&extent=36.30035386&extent=-87.86467076&limit=1000&units=standard\n",
      "No stations found even after expanding the extent. Skipping this gauge.\n",
      "Rainfall data processing is done for 3605078 starting from 2019-03-31\n",
      "https://www.ncdc.noaa.gov/cdo-web/api/v2/stations?datasetid=PRECIP_15&startdate=2015-03-30&enddate=2015-04-15&extent=36.02985571&extent=-88.4245398&extent=36.13893026&extent=-88.30413436&limit=1000&units=standard\n",
      "No stations found for 7024200 within the given extent: {'north': 36.13893026, 'south': 36.02985571, 'east': -88.30413436, 'west': -88.4245398}\n",
      "Attempting to expand the extent by 0.2 degrees...\n",
      "https://www.ncdc.noaa.gov/cdo-web/api/v2/stations?datasetid=PRECIP_15&startdate=2015-03-30&enddate=2015-04-15&extent=35.82985571&extent=-88.62453980000001&extent=36.338930260000005&extent=-88.10413436&limit=1000&units=standard\n",
      "No stations found even after expanding the extent. Skipping this gauge.\n",
      "Rainfall data processing is done for 7024200 starting from 2015-03-30\n",
      "https://www.ncdc.noaa.gov/cdo-web/api/v2/stations?datasetid=PRECIP_15&startdate=2016-04-13&enddate=2016-04-29&extent=36.45700063&extent=-89.33575488&extent=36.58079572&extent=-89.17949579&limit=1000&units=standard\n",
      "No stations found for 7026680 within the given extent: {'north': 36.58079572, 'south': 36.45700063, 'east': -89.17949579, 'west': -89.33575488}\n",
      "Attempting to expand the extent by 0.2 degrees...\n",
      "https://www.ncdc.noaa.gov/cdo-web/api/v2/stations?datasetid=PRECIP_15&startdate=2016-04-13&enddate=2016-04-29&extent=36.25700063&extent=-89.53575488&extent=36.78079572&extent=-88.97949579&limit=1000&units=standard\n",
      "No stations found even after expanding the extent. Skipping this gauge.\n",
      "Rainfall data processing is done for 7026680 starting from 2016-04-13\n",
      "https://www.ncdc.noaa.gov/cdo-web/api/v2/stations?datasetid=PRECIP_15&startdate=2016-05-28&enddate=2016-06-13&extent=36.34292002&extent=-89.35028677&extent=36.39845329&extent=-89.29288658&limit=1000&units=standard\n",
      "No stations found for 7026795 within the given extent: {'north': 36.39845329, 'south': 36.34292002, 'east': -89.29288658, 'west': -89.35028677}\n",
      "Attempting to expand the extent by 0.2 degrees...\n",
      "https://www.ncdc.noaa.gov/cdo-web/api/v2/stations?datasetid=PRECIP_15&startdate=2016-05-28&enddate=2016-06-13&extent=36.14292002&extent=-89.55028677&extent=36.59845329&extent=-89.09288658&limit=1000&units=standard\n",
      "No stations found even after expanding the extent. Skipping this gauge.\n",
      "Rainfall data processing is done for 7026795 starting from 2016-05-28\n",
      "https://www.ncdc.noaa.gov/cdo-web/api/v2/stations?datasetid=PRECIP_15&startdate=2002-03-24&enddate=2002-04-09&extent=35.79841428&extent=-88.81509142&extent=35.83311581&extent=-88.75380996&limit=1000&units=standard\n",
      "No stations found for 7028930 within the given extent: {'north': 35.83311581, 'south': 35.79841428, 'east': -88.75380996, 'west': -88.81509142}\n",
      "Attempting to expand the extent by 0.2 degrees...\n",
      "https://www.ncdc.noaa.gov/cdo-web/api/v2/stations?datasetid=PRECIP_15&startdate=2002-03-24&enddate=2002-04-09&extent=35.59841428&extent=-89.01509142&extent=36.033115810000005&extent=-88.55380996&limit=1000&units=standard\n",
      "https://www.ncdc.noaa.gov/cdo-web/api/v2/data?datasetid=PRECIP_15&startdate=2002-03-24&enddate=2002-04-09&stationid=COOP:404561&limit=1000&units=standard\n",
      "Warnings for 7028930: \"None of [Index(['date', 'QPCP'], dtype='object')] are in the [columns]\"\n",
      "No valid data collected for 7028930. Exiting process.\n",
      "Rainfall data processing is done for 7028930 starting from 2002-03-24\n",
      "https://www.ncdc.noaa.gov/cdo-web/api/v2/stations?datasetid=PRECIP_15&startdate=2000-04-17&enddate=2000-05-03&extent=35.89402029&extent=-89.22361669&extent=35.97786749&extent=-89.15245689&limit=1000&units=standard\n",
      "No stations found for 7029035 within the given extent: {'north': 35.97786749, 'south': 35.89402029, 'east': -89.15245689, 'west': -89.22361669}\n",
      "Attempting to expand the extent by 0.2 degrees...\n",
      "https://www.ncdc.noaa.gov/cdo-web/api/v2/stations?datasetid=PRECIP_15&startdate=2000-04-17&enddate=2000-05-03&extent=35.69402029&extent=-89.42361669&extent=36.177867490000004&extent=-88.95245689&limit=1000&units=standard\n",
      "https://www.ncdc.noaa.gov/cdo-web/api/v2/data?datasetid=PRECIP_15&startdate=2000-04-17&enddate=2000-05-03&stationid=COOP:402680&limit=1000&units=standard\n",
      "No valid mean rainfall data for 7029035. Exiting process.\n",
      "Rainfall data processing is done for 7029035 starting from 2000-04-17\n",
      "https://www.ncdc.noaa.gov/cdo-web/api/v2/stations?datasetid=PRECIP_15&startdate=2018-04-08&enddate=2018-04-24&extent=36.47054977&extent=-85.87185917&extent=36.56569568&extent=-85.80165628&limit=1000&units=standard\n",
      "No stations found for 3312259 within the given extent: {'north': 36.56569568, 'south': 36.47054977, 'east': -85.80165628, 'west': -85.87185917}\n",
      "Attempting to expand the extent by 0.2 degrees...\n",
      "https://www.ncdc.noaa.gov/cdo-web/api/v2/stations?datasetid=PRECIP_15&startdate=2018-04-08&enddate=2018-04-24&extent=36.270549769999995&extent=-86.07185917&extent=36.76569568&extent=-85.60165628&limit=1000&units=standard\n",
      "No stations found even after expanding the extent. Skipping this gauge.\n",
      "Rainfall data processing is done for 3312259 starting from 2018-04-08\n",
      "https://www.ncdc.noaa.gov/cdo-web/api/v2/stations?datasetid=PRECIP_15&startdate=2007-03-28&enddate=2007-04-13&extent=36.31355449&extent=-86.79300794&extent=36.41892638&extent=-86.71621875&limit=1000&units=standard\n",
      "No stations found for 3426385 within the given extent: {'north': 36.41892638, 'south': 36.31355449, 'east': -86.71621875, 'west': -86.79300794}\n",
      "Attempting to expand the extent by 0.2 degrees...\n",
      "https://www.ncdc.noaa.gov/cdo-web/api/v2/stations?datasetid=PRECIP_15&startdate=2007-03-28&enddate=2007-04-13&extent=36.11355449&extent=-86.99300794&extent=36.618926380000005&extent=-86.51621875&limit=1000&units=standard\n",
      "https://www.ncdc.noaa.gov/cdo-web/api/v2/data?datasetid=PRECIP_15&startdate=2007-03-28&enddate=2007-04-13&stationid=COOP:406806&limit=1000&units=standard\n",
      "https://www.ncdc.noaa.gov/cdo-web/api/v2/data?datasetid=PRECIP_15&startdate=2007-03-28&enddate=2007-04-13&stationid=COOP:407359&limit=1000&units=standard\n",
      "https://www.ncdc.noaa.gov/cdo-web/api/v2/data?datasetid=PRECIP_15&startdate=2007-03-28&enddate=2007-04-13&stationid=COOP:408562&limit=1000&units=standard\n",
      "Rainfall data processing is done for 3426385 starting from 2007-03-28\n",
      "https://www.ncdc.noaa.gov/cdo-web/api/v2/stations?datasetid=PRECIP_15&startdate=2017-04-15&enddate=2017-05-01&extent=36.26672548&extent=-86.76382851&extent=36.31769794&extent=-86.68765616&limit=1000&units=standard\n",
      "No stations found for 3426470 within the given extent: {'north': 36.31769794, 'south': 36.26672548, 'east': -86.68765616, 'west': -86.76382851}\n",
      "Attempting to expand the extent by 0.2 degrees...\n",
      "https://www.ncdc.noaa.gov/cdo-web/api/v2/stations?datasetid=PRECIP_15&startdate=2017-04-15&enddate=2017-05-01&extent=36.066725479999995&extent=-86.96382851&extent=36.517697940000005&extent=-86.48765616&limit=1000&units=standard\n",
      "No stations found even after expanding the extent. Skipping this gauge.\n",
      "Rainfall data processing is done for 3426470 starting from 2017-04-15\n",
      "https://www.ncdc.noaa.gov/cdo-web/api/v2/stations?datasetid=PRECIP_15&startdate=2003-06-23&enddate=2003-07-09&extent=35.9138341&extent=-86.86123297&extent=35.93584826&extent=-86.81715714&limit=1000&units=standard\n",
      "No stations found for 34323531 within the given extent: {'north': 35.93584826, 'south': 35.9138341, 'east': -86.81715714, 'west': -86.86123297}\n",
      "Attempting to expand the extent by 0.2 degrees...\n",
      "https://www.ncdc.noaa.gov/cdo-web/api/v2/stations?datasetid=PRECIP_15&startdate=2003-06-23&enddate=2003-07-09&extent=35.7138341&extent=-87.06123297&extent=36.13584826&extent=-86.61715714&limit=1000&units=standard\n",
      "No stations found even after expanding the extent. Skipping this gauge.\n",
      "Rainfall data processing is done for 34323531 starting from 2003-06-23\n",
      "https://www.ncdc.noaa.gov/cdo-web/api/v2/stations?datasetid=PRECIP_15&startdate=2005-08-09&enddate=2005-08-25&extent=35.89558097&extent=-86.90401478&extent=35.93319367&extent=-86.86676872&limit=1000&units=standard\n",
      "No stations found for 3432376 within the given extent: {'north': 35.93319367, 'south': 35.89558097, 'east': -86.86676872, 'west': -86.90401478}\n",
      "Attempting to expand the extent by 0.2 degrees...\n",
      "https://www.ncdc.noaa.gov/cdo-web/api/v2/stations?datasetid=PRECIP_15&startdate=2005-08-09&enddate=2005-08-25&extent=35.695580969999995&extent=-87.10401478&extent=36.133193670000004&extent=-86.66676872&limit=1000&units=standard\n",
      "No stations found even after expanding the extent. Skipping this gauge.\n",
      "Rainfall data processing is done for 3432376 starting from 2005-08-09\n",
      "https://www.ncdc.noaa.gov/cdo-web/api/v2/stations?datasetid=PRECIP_15&startdate=2005-03-31&enddate=2005-04-16&extent=35.92571722&extent=-86.82916748&extent=35.9481873&extent=-86.77946158&limit=1000&units=standard\n",
      "No stations found for 3432387 within the given extent: {'north': 35.9481873, 'south': 35.92571722, 'east': -86.77946158, 'west': -86.82916748}\n",
      "Attempting to expand the extent by 0.2 degrees...\n",
      "https://www.ncdc.noaa.gov/cdo-web/api/v2/stations?datasetid=PRECIP_15&startdate=2005-03-31&enddate=2005-04-16&extent=35.72571722&extent=-87.02916748&extent=36.148187300000004&extent=-86.57946158&limit=1000&units=standard\n",
      "Warning: could not squash response: \n",
      " <Response [503]>, b'<!DOCTYPE HTML PUBLIC \"-//IETF//DTD HTML 2.0//EN\">\\n<html><head>\\n<title>503 Service Unavailable</title>\\n</head><body>\\n<h1>Service Unavailable</h1>\\n<p>The server is temporarily unable to service your\\nrequest due to maintenance downtime or capacity\\nproblems. Please try again later.</p>\\n<p>Additionally, a 503 Service Unavailable\\nerror was encountered while trying to use an ErrorDocument to handle the request.</p>\\n</body></html>\\n'\n",
      "No stations found even after expanding the extent. Skipping this gauge.\n",
      "Rainfall data processing is done for 3432387 starting from 2005-03-31\n",
      "https://www.ncdc.noaa.gov/cdo-web/api/v2/stations?datasetid=PRECIP_15&startdate=2008-04-12&enddate=2008-06-30&extent=35.92571722&extent=-86.86050701&extent=35.99175158&extent=-86.77946158&limit=1000&units=standard\n",
      "No stations found for 3432390 within the given extent: {'north': 35.99175158, 'south': 35.92571722, 'east': -86.77946158, 'west': -86.86050701}\n",
      "Attempting to expand the extent by 0.2 degrees...\n",
      "https://www.ncdc.noaa.gov/cdo-web/api/v2/stations?datasetid=PRECIP_15&startdate=2008-04-12&enddate=2008-06-30&extent=35.72571722&extent=-87.06050701000001&extent=36.19175158&extent=-86.57946158&limit=1000&units=standard\n",
      "No stations found even after expanding the extent. Skipping this gauge.\n",
      "Rainfall data processing is done for 3432390 starting from 2008-04-12\n",
      "https://www.ncdc.noaa.gov/cdo-web/api/v2/stations?datasetid=PRECIP_15&startdate=2012-03-29&enddate=2012-04-15&extent=35.79690068&extent=-87.06590957&extent=35.84695527&extent=-87.00605068&limit=1000&units=standard\n",
      "No stations found for 3432516 within the given extent: {'north': 35.84695527, 'south': 35.79690068, 'east': -87.00605068, 'west': -87.06590957}\n",
      "Attempting to expand the extent by 0.2 degrees...\n",
      "https://www.ncdc.noaa.gov/cdo-web/api/v2/stations?datasetid=PRECIP_15&startdate=2012-03-29&enddate=2012-04-15&extent=35.59690068&extent=-87.26590957&extent=36.046955270000005&extent=-86.80605068&limit=1000&units=standard\n",
      "No stations found even after expanding the extent. Skipping this gauge.\n",
      "Rainfall data processing is done for 3432516 starting from 2012-03-29\n",
      "https://www.ncdc.noaa.gov/cdo-web/api/v2/stations?datasetid=PRECIP_15&startdate=2005-08-23&enddate=2005-09-08&extent=35.88397462&extent=-87.13499686&extent=35.91192244&extent=-87.09880096&limit=1000&units=standard\n",
      "No stations found for 3433640 within the given extent: {'north': 35.91192244, 'south': 35.88397462, 'east': -87.09880096, 'west': -87.13499686}\n",
      "Attempting to expand the extent by 0.2 degrees...\n",
      "https://www.ncdc.noaa.gov/cdo-web/api/v2/stations?datasetid=PRECIP_15&startdate=2005-08-23&enddate=2005-09-08&extent=35.683974619999994&extent=-87.33499686&extent=36.11192244&extent=-86.89880096&limit=1000&units=standard\n",
      "No stations found even after expanding the extent. Skipping this gauge.\n",
      "Rainfall data processing is done for 3433640 starting from 2005-08-23\n",
      "https://www.ncdc.noaa.gov/cdo-web/api/v2/stations?datasetid=PRECIP_15&startdate=2004-04-15&enddate=2004-05-01&extent=36.40887148&extent=-87.08152355&extent=36.50095989&extent=-86.95576251&limit=1000&units=standard\n",
      "No stations found for 3435970 within the given extent: {'north': 36.50095989, 'south': 36.40887148, 'east': -86.95576251, 'west': -87.08152355}\n",
      "Attempting to expand the extent by 0.2 degrees...\n",
      "https://www.ncdc.noaa.gov/cdo-web/api/v2/stations?datasetid=PRECIP_15&startdate=2004-04-15&enddate=2004-05-01&extent=36.20887148&extent=-87.28152355&extent=36.70095989&extent=-86.75576251&limit=1000&units=standard\n",
      "https://www.ncdc.noaa.gov/cdo-web/api/v2/data?datasetid=PRECIP_15&startdate=2004-04-15&enddate=2004-05-01&stationid=COOP:401663&limit=1000&units=standard\n",
      "https://www.ncdc.noaa.gov/cdo-web/api/v2/data?datasetid=PRECIP_15&startdate=2004-04-15&enddate=2004-05-01&stationid=COOP:408562&limit=1000&units=standard\n",
      "Rainfall data processing is done for 3435970 starting from 2004-04-15\n",
      "https://www.ncdc.noaa.gov/cdo-web/api/v2/stations?datasetid=PRECIP_15&startdate=2019-05-05&enddate=2019-05-21&extent=36.37321371&extent=-83.05688717&extent=36.42555552&extent=-82.98309718&limit=1000&units=standard\n",
      "No stations found for 3491544 within the given extent: {'north': 36.42555552, 'south': 36.37321371, 'east': -82.98309718, 'west': -83.05688717}\n",
      "Attempting to expand the extent by 0.2 degrees...\n",
      "https://www.ncdc.noaa.gov/cdo-web/api/v2/stations?datasetid=PRECIP_15&startdate=2019-05-05&enddate=2019-05-21&extent=36.17321371&extent=-83.25688717&extent=36.625555520000006&extent=-82.78309718&limit=1000&units=standard\n",
      "No stations found even after expanding the extent. Skipping this gauge.\n",
      "Rainfall data processing is done for 3491544 starting from 2019-05-05\n",
      "https://www.ncdc.noaa.gov/cdo-web/api/v2/stations?datasetid=PRECIP_15&startdate=2017-04-16&enddate=2017-05-03&extent=36.07117705&extent=-83.85598071&extent=36.13632579&extent=-83.75988312&limit=1000&units=standard\n",
      "No stations found for 3495405 within the given extent: {'north': 36.13632579, 'south': 36.07117705, 'east': -83.75988312, 'west': -83.85598071}\n",
      "Attempting to expand the extent by 0.2 degrees...\n",
      "https://www.ncdc.noaa.gov/cdo-web/api/v2/stations?datasetid=PRECIP_15&startdate=2017-04-16&enddate=2017-05-03&extent=35.87117705&extent=-84.05598071&extent=36.336325790000004&extent=-83.55988312&limit=1000&units=standard\n",
      "No stations found even after expanding the extent. Skipping this gauge.\n",
      "Rainfall data processing is done for 3495405 starting from 2017-04-16\n",
      "https://www.ncdc.noaa.gov/cdo-web/api/v2/stations?datasetid=PRECIP_15&startdate=2009-05-28&enddate=2009-06-13&extent=35.8546123&extent=-83.85496784&extent=35.8929825&extent=-83.8007075&limit=1000&units=standard\n",
      "No stations found for 34991105 within the given extent: {'north': 35.8929825, 'south': 35.8546123, 'east': -83.8007075, 'west': -83.85496784}\n",
      "Attempting to expand the extent by 0.2 degrees...\n",
      "https://www.ncdc.noaa.gov/cdo-web/api/v2/stations?datasetid=PRECIP_15&startdate=2009-05-28&enddate=2009-06-13&extent=35.6546123&extent=-84.05496784&extent=36.092982500000005&extent=-83.6007075&limit=1000&units=standard\n",
      "No stations found even after expanding the extent. Skipping this gauge.\n",
      "Rainfall data processing is done for 34991105 starting from 2009-05-28\n",
      "https://www.ncdc.noaa.gov/cdo-web/api/v2/stations?datasetid=PRECIP_15&startdate=2018-07-25&enddate=2018-08-11&extent=35.5602573&extent=-83.84338361&extent=35.62883319&extent=-83.72851131&limit=1000&units=standard\n",
      "No stations found for 3518100 within the given extent: {'north': 35.62883319, 'south': 35.5602573, 'east': -83.72851131, 'west': -83.84338361}\n",
      "Attempting to expand the extent by 0.2 degrees...\n",
      "https://www.ncdc.noaa.gov/cdo-web/api/v2/stations?datasetid=PRECIP_15&startdate=2018-07-25&enddate=2018-08-11&extent=35.3602573&extent=-84.04338361&extent=35.828833190000005&extent=-83.52851131&limit=1000&units=standard\n",
      "No stations found even after expanding the extent. Skipping this gauge.\n",
      "Rainfall data processing is done for 3518100 starting from 2018-07-25\n",
      "https://www.ncdc.noaa.gov/cdo-web/api/v2/stations?datasetid=PRECIP_15&startdate=2001-03-27&enddate=2001-04-12&extent=35.9104829&extent=-84.339059&extent=35.9577433&extent=-84.29154599&limit=1000&units=standard\n",
      "No stations found for 3536550 within the given extent: {'north': 35.9577433, 'south': 35.9104829, 'east': -84.29154599, 'west': -84.339059}\n",
      "Attempting to expand the extent by 0.2 degrees...\n",
      "https://www.ncdc.noaa.gov/cdo-web/api/v2/stations?datasetid=PRECIP_15&startdate=2001-03-27&enddate=2001-04-12&extent=35.710482899999995&extent=-84.53905900000001&extent=36.1577433&extent=-84.09154599&limit=1000&units=standard\n",
      "No stations found even after expanding the extent. Skipping this gauge.\n",
      "Rainfall data processing is done for 3536550 starting from 2001-03-27\n",
      "https://www.ncdc.noaa.gov/cdo-web/api/v2/stations?datasetid=PRECIP_15&startdate=2004-04-06&enddate=2004-04-19&extent=35.97466049&extent=-84.2748036&extent=36.01601348&extent=-84.22800419&limit=1000&units=standard\n",
      "No stations found for 3538235 within the given extent: {'north': 36.01601348, 'south': 35.97466049, 'east': -84.22800419, 'west': -84.2748036}\n",
      "Attempting to expand the extent by 0.2 degrees...\n",
      "https://www.ncdc.noaa.gov/cdo-web/api/v2/stations?datasetid=PRECIP_15&startdate=2004-04-06&enddate=2004-04-19&extent=35.774660489999995&extent=-84.4748036&extent=36.21601348&extent=-84.02800418999999&limit=1000&units=standard\n",
      "No stations found even after expanding the extent. Skipping this gauge.\n",
      "Rainfall data processing is done for 3538235 starting from 2004-04-06\n",
      "https://www.ncdc.noaa.gov/cdo-web/api/v2/stations?datasetid=PRECIP_15&startdate=2000-05-17&enddate=2000-06-02&extent=35.93220047&extent=-84.34150401&extent=35.9830483&extent=-84.26938022&limit=1000&units=standard\n",
      "No stations found for 3538270 within the given extent: {'north': 35.9830483, 'south': 35.93220047, 'east': -84.26938022, 'west': -84.34150401}\n",
      "Attempting to expand the extent by 0.2 degrees...\n",
      "https://www.ncdc.noaa.gov/cdo-web/api/v2/stations?datasetid=PRECIP_15&startdate=2000-05-17&enddate=2000-06-02&extent=35.732200469999995&extent=-84.54150401&extent=36.1830483&extent=-84.06938022&limit=1000&units=standard\n",
      "No stations found even after expanding the extent. Skipping this gauge.\n",
      "Rainfall data processing is done for 3538270 starting from 2000-05-17\n",
      "https://www.ncdc.noaa.gov/cdo-web/api/v2/stations?datasetid=PRECIP_15&startdate=2003-04-30&enddate=2003-05-16&extent=35.98604651&extent=-84.98580367&extent=36.04870537&extent=-84.92582596&limit=1000&units=standard\n",
      "No stations found for 3538845 within the given extent: {'north': 36.04870537, 'south': 35.98604651, 'east': -84.92582596, 'west': -84.98580367}\n",
      "Attempting to expand the extent by 0.2 degrees...\n",
      "https://www.ncdc.noaa.gov/cdo-web/api/v2/stations?datasetid=PRECIP_15&startdate=2003-04-30&enddate=2003-05-16&extent=35.78604651&extent=-85.18580367&extent=36.24870537&extent=-84.72582596&limit=1000&units=standard\n",
      "No stations found even after expanding the extent. Skipping this gauge.\n",
      "Rainfall data processing is done for 3538845 starting from 2003-04-30\n",
      "https://www.ncdc.noaa.gov/cdo-web/api/v2/stations?datasetid=PRECIP_15&startdate=2003-04-28&enddate=2003-05-15&extent=36.07352082&extent=-84.98326528&extent=36.11850478&extent=-84.89807066&limit=1000&units=standard\n",
      "No stations found for 3538865 within the given extent: {'north': 36.11850478, 'south': 36.07352082, 'east': -84.89807066, 'west': -84.98326528}\n",
      "Attempting to expand the extent by 0.2 degrees...\n",
      "https://www.ncdc.noaa.gov/cdo-web/api/v2/stations?datasetid=PRECIP_15&startdate=2003-04-28&enddate=2003-05-15&extent=35.873520819999996&extent=-85.18326528&extent=36.318504780000005&extent=-84.69807066&limit=1000&units=standard\n",
      "Warning: could not squash response: \n",
      " <Response [503]>, b'<!DOCTYPE HTML PUBLIC \"-//IETF//DTD HTML 2.0//EN\">\\n<html><head>\\n<title>503 Service Unavailable</title>\\n</head><body>\\n<h1>Service Unavailable</h1>\\n<p>The server is temporarily unable to service your\\nrequest due to maintenance downtime or capacity\\nproblems. Please try again later.</p>\\n<p>Additionally, a 503 Service Unavailable\\nerror was encountered while trying to use an ErrorDocument to handle the request.</p>\\n</body></html>\\n'\n",
      "No stations found even after expanding the extent. Skipping this gauge.\n",
      "Rainfall data processing is done for 3538865 starting from 2003-04-28\n",
      "https://www.ncdc.noaa.gov/cdo-web/api/v2/stations?datasetid=PRECIP_15&startdate=2018-04-08&enddate=2018-04-24&extent=35.83002675&extent=-85.10105441&extent=35.88963653&extent=-85.03928839&limit=1000&units=standard\n",
      "No stations found for 3538970 within the given extent: {'north': 35.88963653, 'south': 35.83002675, 'east': -85.03928839, 'west': -85.10105441}\n",
      "Attempting to expand the extent by 0.2 degrees...\n",
      "https://www.ncdc.noaa.gov/cdo-web/api/v2/stations?datasetid=PRECIP_15&startdate=2018-04-08&enddate=2018-04-24&extent=35.63002675&extent=-85.30105441&extent=36.08963653&extent=-84.83928839&limit=1000&units=standard\n",
      "No stations found even after expanding the extent. Skipping this gauge.\n",
      "Rainfall data processing is done for 3538970 starting from 2018-04-08\n",
      "https://www.ncdc.noaa.gov/cdo-web/api/v2/stations?datasetid=PRECIP_15&startdate=2007-04-04&enddate=2007-04-20&extent=35.43234109&extent=-84.61386089&extent=35.5391693&extent=-84.44254838&limit=1000&units=standard\n",
      "No stations found for 3565442 within the given extent: {'north': 35.5391693, 'south': 35.43234109, 'east': -84.44254838, 'west': -84.61386089}\n",
      "Attempting to expand the extent by 0.2 degrees...\n",
      "https://www.ncdc.noaa.gov/cdo-web/api/v2/stations?datasetid=PRECIP_15&startdate=2007-04-04&enddate=2007-04-20&extent=35.23234109&extent=-84.81386089&extent=35.7391693&extent=-84.24254838&limit=1000&units=standard\n",
      "No stations found even after expanding the extent. Skipping this gauge.\n",
      "Rainfall data processing is done for 3565442 starting from 2007-04-04\n",
      "https://www.ncdc.noaa.gov/cdo-web/api/v2/stations?datasetid=PRECIP_15&startdate=2020-04-06&enddate=2020-04-22&extent=35.09088592&extent=-85.34162069&extent=35.15988874&extent=-85.28837621&limit=1000&units=standard\n",
      "No stations found for 3569190 within the given extent: {'north': 35.15988874, 'south': 35.09088592, 'east': -85.28837621, 'west': -85.34162069}\n",
      "Attempting to expand the extent by 0.2 degrees...\n",
      "https://www.ncdc.noaa.gov/cdo-web/api/v2/stations?datasetid=PRECIP_15&startdate=2020-04-06&enddate=2020-04-22&extent=34.890885919999995&extent=-85.54162069&extent=35.35988874&extent=-85.08837620999999&limit=1000&units=standard\n",
      "No stations found even after expanding the extent. Skipping this gauge.\n",
      "Rainfall data processing is done for 3569190 starting from 2020-04-06\n",
      "https://www.ncdc.noaa.gov/cdo-web/api/v2/stations?datasetid=PRECIP_15&startdate=2003-04-29&enddate=2003-05-15&extent=35.40935017&extent=-86.09389556&extent=35.47507918&extent=-86.00351129&limit=1000&units=standard\n",
      "No stations found for 3595100 within the given extent: {'north': 35.47507918, 'south': 35.40935017, 'east': -86.00351129, 'west': -86.09389556}\n",
      "Attempting to expand the extent by 0.2 degrees...\n",
      "https://www.ncdc.noaa.gov/cdo-web/api/v2/stations?datasetid=PRECIP_15&startdate=2003-04-29&enddate=2003-05-15&extent=35.20935017&extent=-86.29389556000001&extent=35.675079180000004&extent=-85.80351129&limit=1000&units=standard\n",
      "https://www.ncdc.noaa.gov/cdo-web/api/v2/data?datasetid=PRECIP_15&startdate=2003-04-29&enddate=2003-05-15&stationid=COOP:406162&limit=1000&units=standard\n",
      "Rainfall data processing is done for 3595100 starting from 2003-04-29\n",
      "https://www.ncdc.noaa.gov/cdo-web/api/v2/stations?datasetid=PRECIP_15&startdate=2006-04-01&enddate=2006-04-17&extent=35.36054983&extent=-86.15944768&extent=35.45212428&extent=-86.03567599&limit=1000&units=standard\n",
      "No stations found for 3596100 within the given extent: {'north': 35.45212428, 'south': 35.36054983, 'east': -86.03567599, 'west': -86.15944768}\n",
      "Attempting to expand the extent by 0.2 degrees...\n",
      "https://www.ncdc.noaa.gov/cdo-web/api/v2/stations?datasetid=PRECIP_15&startdate=2006-04-01&enddate=2006-04-17&extent=35.160549829999994&extent=-86.35944768&extent=35.65212428&extent=-85.83567599&limit=1000&units=standard\n",
      "https://www.ncdc.noaa.gov/cdo-web/api/v2/data?datasetid=PRECIP_15&startdate=2006-04-01&enddate=2006-04-17&stationid=COOP:406162&limit=1000&units=standard\n",
      "Rainfall data processing is done for 3596100 starting from 2006-04-01\n",
      "https://www.ncdc.noaa.gov/cdo-web/api/v2/stations?datasetid=PRECIP_15&startdate=2011-03-23&enddate=2011-04-08&extent=35.50636667&extent=-86.40167047&extent=35.66428&extent=-86.300294&limit=1000&units=standard\n",
      "No stations found for 3597590 within the given extent: {'north': 35.66428, 'south': 35.50636667, 'east': -86.300294, 'west': -86.40167047}\n",
      "Attempting to expand the extent by 0.2 degrees...\n",
      "https://www.ncdc.noaa.gov/cdo-web/api/v2/stations?datasetid=PRECIP_15&startdate=2011-03-23&enddate=2011-04-08&extent=35.306366669999996&extent=-86.60167047&extent=35.86428&extent=-86.10029399999999&limit=1000&units=standard\n",
      "No stations found even after expanding the extent. Skipping this gauge.\n",
      "Rainfall data processing is done for 3597590 starting from 2011-03-23\n",
      "https://www.ncdc.noaa.gov/cdo-web/api/v2/stations?datasetid=PRECIP_15&startdate=2009-04-12&enddate=2009-04-29&extent=35.56227767&extent=-86.45657281&extent=35.61146435&extent=-86.38652084&limit=1000&units=standard\n",
      "No stations found for 3598169 within the given extent: {'north': 35.61146435, 'south': 35.56227767, 'east': -86.38652084, 'west': -86.45657281}\n",
      "Attempting to expand the extent by 0.2 degrees...\n",
      "https://www.ncdc.noaa.gov/cdo-web/api/v2/stations?datasetid=PRECIP_15&startdate=2009-04-12&enddate=2009-04-29&extent=35.36227767&extent=-86.65657281&extent=35.81146435&extent=-86.18652084&limit=1000&units=standard\n",
      "No stations found even after expanding the extent. Skipping this gauge.\n",
      "Rainfall data processing is done for 3598169 starting from 2009-04-12\n",
      "https://www.ncdc.noaa.gov/cdo-web/api/v2/stations?datasetid=PRECIP_15&startdate=2000-03-27&enddate=2000-04-12&extent=35.36466547&extent=-86.86027159&extent=35.45978346&extent=-86.7393628&limit=1000&units=standard\n",
      "https://www.ncdc.noaa.gov/cdo-web/api/v2/data?datasetid=PRECIP_15&startdate=2000-03-27&enddate=2000-04-12&stationid=COOP:405187&limit=1000&units=standard\n",
      "Rainfall data processing is done for 3599000 starting from 2000-03-27\n",
      "https://www.ncdc.noaa.gov/cdo-web/api/v2/stations?datasetid=PRECIP_15&startdate=2019-05-08&enddate=2019-05-24&extent=35.9593737&extent=-88.17490636&extent=36.10035386&extent=-88.06467076&limit=1000&units=standard\n",
      "No stations found for 3605078 within the given extent: {'north': 36.10035386, 'south': 35.9593737, 'east': -88.06467076, 'west': -88.17490636}\n",
      "Attempting to expand the extent by 0.2 degrees...\n",
      "https://www.ncdc.noaa.gov/cdo-web/api/v2/stations?datasetid=PRECIP_15&startdate=2019-05-08&enddate=2019-05-24&extent=35.7593737&extent=-88.37490636&extent=36.30035386&extent=-87.86467076&limit=1000&units=standard\n",
      "No stations found even after expanding the extent. Skipping this gauge.\n",
      "Rainfall data processing is done for 3605078 starting from 2019-05-08\n",
      "https://www.ncdc.noaa.gov/cdo-web/api/v2/stations?datasetid=PRECIP_15&startdate=2015-04-03&enddate=2015-04-19&extent=36.02985571&extent=-88.4245398&extent=36.13893026&extent=-88.30413436&limit=1000&units=standard\n",
      "No stations found for 7024200 within the given extent: {'north': 36.13893026, 'south': 36.02985571, 'east': -88.30413436, 'west': -88.4245398}\n",
      "Attempting to expand the extent by 0.2 degrees...\n",
      "https://www.ncdc.noaa.gov/cdo-web/api/v2/stations?datasetid=PRECIP_15&startdate=2015-04-03&enddate=2015-04-19&extent=35.82985571&extent=-88.62453980000001&extent=36.338930260000005&extent=-88.10413436&limit=1000&units=standard\n",
      "No stations found even after expanding the extent. Skipping this gauge.\n",
      "Rainfall data processing is done for 7024200 starting from 2015-04-03\n",
      "https://www.ncdc.noaa.gov/cdo-web/api/v2/stations?datasetid=PRECIP_15&startdate=2016-04-24&enddate=2016-05-10&extent=36.45700063&extent=-89.33575488&extent=36.58079572&extent=-89.17949579&limit=1000&units=standard\n",
      "No stations found for 7026680 within the given extent: {'north': 36.58079572, 'south': 36.45700063, 'east': -89.17949579, 'west': -89.33575488}\n",
      "Attempting to expand the extent by 0.2 degrees...\n",
      "https://www.ncdc.noaa.gov/cdo-web/api/v2/stations?datasetid=PRECIP_15&startdate=2016-04-24&enddate=2016-05-10&extent=36.25700063&extent=-89.53575488&extent=36.78079572&extent=-88.97949579&limit=1000&units=standard\n",
      "No stations found even after expanding the extent. Skipping this gauge.\n",
      "Rainfall data processing is done for 7026680 starting from 2016-04-24\n",
      "https://www.ncdc.noaa.gov/cdo-web/api/v2/stations?datasetid=PRECIP_15&startdate=2016-07-21&enddate=2016-08-06&extent=36.34292002&extent=-89.35028677&extent=36.39845329&extent=-89.29288658&limit=1000&units=standard\n",
      "No stations found for 7026795 within the given extent: {'north': 36.39845329, 'south': 36.34292002, 'east': -89.29288658, 'west': -89.35028677}\n",
      "Attempting to expand the extent by 0.2 degrees...\n",
      "https://www.ncdc.noaa.gov/cdo-web/api/v2/stations?datasetid=PRECIP_15&startdate=2016-07-21&enddate=2016-08-06&extent=36.14292002&extent=-89.55028677&extent=36.59845329&extent=-89.09288658&limit=1000&units=standard\n",
      "No stations found even after expanding the extent. Skipping this gauge.\n",
      "Rainfall data processing is done for 7026795 starting from 2016-07-21\n",
      "https://www.ncdc.noaa.gov/cdo-web/api/v2/stations?datasetid=PRECIP_15&startdate=2002-04-24&enddate=2002-05-10&extent=35.79841428&extent=-88.81509142&extent=35.83311581&extent=-88.75380996&limit=1000&units=standard\n",
      "No stations found for 7028930 within the given extent: {'north': 35.83311581, 'south': 35.79841428, 'east': -88.75380996, 'west': -88.81509142}\n",
      "Attempting to expand the extent by 0.2 degrees...\n",
      "https://www.ncdc.noaa.gov/cdo-web/api/v2/stations?datasetid=PRECIP_15&startdate=2002-04-24&enddate=2002-05-10&extent=35.59841428&extent=-89.01509142&extent=36.033115810000005&extent=-88.55380996&limit=1000&units=standard\n",
      "https://www.ncdc.noaa.gov/cdo-web/api/v2/data?datasetid=PRECIP_15&startdate=2002-04-24&enddate=2002-05-10&stationid=COOP:404561&limit=1000&units=standard\n",
      "Warnings for 7028930: \"None of [Index(['date', 'QPCP'], dtype='object')] are in the [columns]\"\n",
      "No valid data collected for 7028930. Exiting process.\n",
      "Rainfall data processing is done for 7028930 starting from 2002-04-24\n",
      "https://www.ncdc.noaa.gov/cdo-web/api/v2/stations?datasetid=PRECIP_15&startdate=2000-04-27&enddate=2000-05-13&extent=35.89402029&extent=-89.22361669&extent=35.97786749&extent=-89.15245689&limit=1000&units=standard\n",
      "No stations found for 7029035 within the given extent: {'north': 35.97786749, 'south': 35.89402029, 'east': -89.15245689, 'west': -89.22361669}\n",
      "Attempting to expand the extent by 0.2 degrees...\n",
      "https://www.ncdc.noaa.gov/cdo-web/api/v2/stations?datasetid=PRECIP_15&startdate=2000-04-27&enddate=2000-05-13&extent=35.69402029&extent=-89.42361669&extent=36.177867490000004&extent=-88.95245689&limit=1000&units=standard\n",
      "https://www.ncdc.noaa.gov/cdo-web/api/v2/data?datasetid=PRECIP_15&startdate=2000-04-27&enddate=2000-05-13&stationid=COOP:402680&limit=1000&units=standard\n",
      "Rainfall data processing is done for 7029035 starting from 2000-04-27\n",
      "https://www.ncdc.noaa.gov/cdo-web/api/v2/stations?datasetid=PRECIP_15&startdate=2018-04-17&enddate=2018-05-03&extent=36.47054977&extent=-85.87185917&extent=36.56569568&extent=-85.80165628&limit=1000&units=standard\n",
      "No stations found for 3312259 within the given extent: {'north': 36.56569568, 'south': 36.47054977, 'east': -85.80165628, 'west': -85.87185917}\n",
      "Attempting to expand the extent by 0.2 degrees...\n",
      "https://www.ncdc.noaa.gov/cdo-web/api/v2/stations?datasetid=PRECIP_15&startdate=2018-04-17&enddate=2018-05-03&extent=36.270549769999995&extent=-86.07185917&extent=36.76569568&extent=-85.60165628&limit=1000&units=standard\n",
      "No stations found even after expanding the extent. Skipping this gauge.\n",
      "Rainfall data processing is done for 3312259 starting from 2018-04-17\n",
      "https://www.ncdc.noaa.gov/cdo-web/api/v2/stations?datasetid=PRECIP_15&startdate=2009-03-26&enddate=2009-04-12&extent=36.31355449&extent=-86.79300794&extent=36.41892638&extent=-86.71621875&limit=1000&units=standard\n",
      "No stations found for 3426385 within the given extent: {'north': 36.41892638, 'south': 36.31355449, 'east': -86.71621875, 'west': -86.79300794}\n",
      "Attempting to expand the extent by 0.2 degrees...\n",
      "https://www.ncdc.noaa.gov/cdo-web/api/v2/stations?datasetid=PRECIP_15&startdate=2009-03-26&enddate=2009-04-12&extent=36.11355449&extent=-86.99300794&extent=36.618926380000005&extent=-86.51621875&limit=1000&units=standard\n",
      "https://www.ncdc.noaa.gov/cdo-web/api/v2/data?datasetid=PRECIP_15&startdate=2009-03-26&enddate=2009-04-12&stationid=COOP:406806&limit=1000&units=standard\n",
      "https://www.ncdc.noaa.gov/cdo-web/api/v2/data?datasetid=PRECIP_15&startdate=2009-03-26&enddate=2009-04-12&stationid=COOP:407359&limit=1000&units=standard\n",
      "https://www.ncdc.noaa.gov/cdo-web/api/v2/data?datasetid=PRECIP_15&startdate=2009-03-26&enddate=2009-04-12&stationid=COOP:408562&limit=1000&units=standard\n",
      "Rainfall data processing is done for 3426385 starting from 2009-03-26\n",
      "https://www.ncdc.noaa.gov/cdo-web/api/v2/stations?datasetid=PRECIP_15&startdate=2017-04-17&enddate=2017-05-03&extent=36.26672548&extent=-86.76382851&extent=36.31769794&extent=-86.68765616&limit=1000&units=standard\n",
      "No stations found for 3426470 within the given extent: {'north': 36.31769794, 'south': 36.26672548, 'east': -86.68765616, 'west': -86.76382851}\n",
      "Attempting to expand the extent by 0.2 degrees...\n",
      "https://www.ncdc.noaa.gov/cdo-web/api/v2/stations?datasetid=PRECIP_15&startdate=2017-04-17&enddate=2017-05-03&extent=36.066725479999995&extent=-86.96382851&extent=36.517697940000005&extent=-86.48765616&limit=1000&units=standard\n",
      "No stations found even after expanding the extent. Skipping this gauge.\n",
      "Rainfall data processing is done for 3426470 starting from 2017-04-17\n",
      "https://www.ncdc.noaa.gov/cdo-web/api/v2/stations?datasetid=PRECIP_15&startdate=2004-03-22&enddate=2004-04-08&extent=36.14948376&extent=-86.61437007&extent=36.23681666&extent=-86.4603212&limit=1000&units=standard\n",
      "No stations found for 3430147 within the given extent: {'north': 36.23681666, 'south': 36.14948376, 'east': -86.4603212, 'west': -86.61437007}\n",
      "Attempting to expand the extent by 0.2 degrees...\n",
      "https://www.ncdc.noaa.gov/cdo-web/api/v2/stations?datasetid=PRECIP_15&startdate=2004-03-22&enddate=2004-04-08&extent=35.94948376&extent=-86.81437007000001&extent=36.436816660000005&extent=-86.26032119999999&limit=1000&units=standard\n",
      "https://www.ncdc.noaa.gov/cdo-web/api/v2/data?datasetid=PRECIP_15&startdate=2004-03-22&enddate=2004-04-08&stationid=COOP:405108&limit=1000&units=standard\n",
      "https://www.ncdc.noaa.gov/cdo-web/api/v2/data?datasetid=PRECIP_15&startdate=2004-03-22&enddate=2004-04-08&stationid=COOP:406806&limit=1000&units=standard\n",
      "Rainfall data processing is done for 3430147 starting from 2004-03-22\n",
      "https://www.ncdc.noaa.gov/cdo-web/api/v2/stations?datasetid=PRECIP_15&startdate=2015-03-27&enddate=2015-04-13&extent=36.06439975&extent=-86.91755364&extent=36.1539268&extent=-86.79783154&limit=1000&units=standard\n",
      "No stations found for 3431700 within the given extent: {'north': 36.1539268, 'south': 36.06439975, 'east': -86.79783154, 'west': -86.91755364}\n",
      "Attempting to expand the extent by 0.2 degrees...\n",
      "https://www.ncdc.noaa.gov/cdo-web/api/v2/stations?datasetid=PRECIP_15&startdate=2015-03-27&enddate=2015-04-13&extent=35.86439975&extent=-87.11755364&extent=36.3539268&extent=-86.59783154&limit=1000&units=standard\n",
      "No stations found even after expanding the extent. Skipping this gauge.\n",
      "Rainfall data processing is done for 3431700 starting from 2015-03-27\n",
      "https://www.ncdc.noaa.gov/cdo-web/api/v2/stations?datasetid=PRECIP_15&startdate=2000-05-17&enddate=2000-05-31&extent=35.9138341&extent=-86.86123297&extent=35.93584826&extent=-86.81715714&limit=1000&units=standard\n",
      "No stations found for 34323531 within the given extent: {'north': 35.93584826, 'south': 35.9138341, 'east': -86.81715714, 'west': -86.86123297}\n",
      "Attempting to expand the extent by 0.2 degrees...\n",
      "https://www.ncdc.noaa.gov/cdo-web/api/v2/stations?datasetid=PRECIP_15&startdate=2000-05-17&enddate=2000-05-31&extent=35.7138341&extent=-87.06123297&extent=36.13584826&extent=-86.61715714&limit=1000&units=standard\n",
      "No stations found even after expanding the extent. Skipping this gauge.\n",
      "Rainfall data processing is done for 34323531 starting from 2000-05-17\n",
      "https://www.ncdc.noaa.gov/cdo-web/api/v2/stations?datasetid=PRECIP_15&startdate=2005-08-10&enddate=2005-08-26&extent=35.89558097&extent=-86.90401478&extent=35.93319367&extent=-86.86676872&limit=1000&units=standard\n",
      "No stations found for 3432376 within the given extent: {'north': 35.93319367, 'south': 35.89558097, 'east': -86.86676872, 'west': -86.90401478}\n",
      "Attempting to expand the extent by 0.2 degrees...\n",
      "https://www.ncdc.noaa.gov/cdo-web/api/v2/stations?datasetid=PRECIP_15&startdate=2005-08-10&enddate=2005-08-26&extent=35.695580969999995&extent=-87.10401478&extent=36.133193670000004&extent=-86.66676872&limit=1000&units=standard\n",
      "No stations found even after expanding the extent. Skipping this gauge.\n",
      "Rainfall data processing is done for 3432376 starting from 2005-08-10\n",
      "https://www.ncdc.noaa.gov/cdo-web/api/v2/stations?datasetid=PRECIP_15&startdate=2005-04-23&enddate=2005-05-09&extent=35.92571722&extent=-86.82916748&extent=35.9481873&extent=-86.77946158&limit=1000&units=standard\n",
      "No stations found for 3432387 within the given extent: {'north': 35.9481873, 'south': 35.92571722, 'east': -86.77946158, 'west': -86.82916748}\n",
      "Attempting to expand the extent by 0.2 degrees...\n",
      "https://www.ncdc.noaa.gov/cdo-web/api/v2/stations?datasetid=PRECIP_15&startdate=2005-04-23&enddate=2005-05-09&extent=35.72571722&extent=-87.02916748&extent=36.148187300000004&extent=-86.57946158&limit=1000&units=standard\n",
      "No stations found even after expanding the extent. Skipping this gauge.\n",
      "Rainfall data processing is done for 3432387 starting from 2005-04-23\n",
      "https://www.ncdc.noaa.gov/cdo-web/api/v2/stations?datasetid=PRECIP_15&startdate=2008-04-28&enddate=2008-07-15&extent=35.92571722&extent=-86.86050701&extent=35.99175158&extent=-86.77946158&limit=1000&units=standard\n",
      "No stations found for 3432390 within the given extent: {'north': 35.99175158, 'south': 35.92571722, 'east': -86.77946158, 'west': -86.86050701}\n",
      "Attempting to expand the extent by 0.2 degrees...\n",
      "https://www.ncdc.noaa.gov/cdo-web/api/v2/stations?datasetid=PRECIP_15&startdate=2008-04-28&enddate=2008-07-15&extent=35.72571722&extent=-87.06050701000001&extent=36.19175158&extent=-86.57946158&limit=1000&units=standard\n",
      "No stations found even after expanding the extent. Skipping this gauge.\n",
      "Rainfall data processing is done for 3432390 starting from 2008-04-28\n",
      "https://www.ncdc.noaa.gov/cdo-web/api/v2/stations?datasetid=PRECIP_15&startdate=2012-05-06&enddate=2012-05-22&extent=35.79690068&extent=-87.06590957&extent=35.84695527&extent=-87.00605068&limit=1000&units=standard\n",
      "No stations found for 3432516 within the given extent: {'north': 35.84695527, 'south': 35.79690068, 'east': -87.00605068, 'west': -87.06590957}\n",
      "Attempting to expand the extent by 0.2 degrees...\n",
      "https://www.ncdc.noaa.gov/cdo-web/api/v2/stations?datasetid=PRECIP_15&startdate=2012-05-06&enddate=2012-05-22&extent=35.59690068&extent=-87.26590957&extent=36.046955270000005&extent=-86.80605068&limit=1000&units=standard\n",
      "No stations found even after expanding the extent. Skipping this gauge.\n",
      "Rainfall data processing is done for 3432516 starting from 2012-05-06\n",
      "https://www.ncdc.noaa.gov/cdo-web/api/v2/stations?datasetid=PRECIP_15&startdate=2004-04-16&enddate=2004-05-02&extent=36.40887148&extent=-87.08152355&extent=36.50095989&extent=-86.95576251&limit=1000&units=standard\n",
      "No stations found for 3435970 within the given extent: {'north': 36.50095989, 'south': 36.40887148, 'east': -86.95576251, 'west': -87.08152355}\n",
      "Attempting to expand the extent by 0.2 degrees...\n",
      "https://www.ncdc.noaa.gov/cdo-web/api/v2/stations?datasetid=PRECIP_15&startdate=2004-04-16&enddate=2004-05-02&extent=36.20887148&extent=-87.28152355&extent=36.70095989&extent=-86.75576251&limit=1000&units=standard\n",
      "https://www.ncdc.noaa.gov/cdo-web/api/v2/data?datasetid=PRECIP_15&startdate=2004-04-16&enddate=2004-05-02&stationid=COOP:401663&limit=1000&units=standard\n",
      "https://www.ncdc.noaa.gov/cdo-web/api/v2/data?datasetid=PRECIP_15&startdate=2004-04-16&enddate=2004-05-02&stationid=COOP:408562&limit=1000&units=standard\n",
      "Rainfall data processing is done for 3435970 starting from 2004-04-16\n",
      "https://www.ncdc.noaa.gov/cdo-web/api/v2/stations?datasetid=PRECIP_15&startdate=2019-05-11&enddate=2019-05-28&extent=36.37321371&extent=-83.05688717&extent=36.42555552&extent=-82.98309718&limit=1000&units=standard\n",
      "No stations found for 3491544 within the given extent: {'north': 36.42555552, 'south': 36.37321371, 'east': -82.98309718, 'west': -83.05688717}\n",
      "Attempting to expand the extent by 0.2 degrees...\n",
      "https://www.ncdc.noaa.gov/cdo-web/api/v2/stations?datasetid=PRECIP_15&startdate=2019-05-11&enddate=2019-05-28&extent=36.17321371&extent=-83.25688717&extent=36.625555520000006&extent=-82.78309718&limit=1000&units=standard\n",
      "No stations found even after expanding the extent. Skipping this gauge.\n",
      "Rainfall data processing is done for 3491544 starting from 2019-05-11\n",
      "https://www.ncdc.noaa.gov/cdo-web/api/v2/stations?datasetid=PRECIP_15&startdate=2017-06-07&enddate=2017-06-23&extent=36.07117705&extent=-83.85598071&extent=36.13632579&extent=-83.75988312&limit=1000&units=standard\n",
      "No stations found for 3495405 within the given extent: {'north': 36.13632579, 'south': 36.07117705, 'east': -83.75988312, 'west': -83.85598071}\n",
      "Attempting to expand the extent by 0.2 degrees...\n",
      "https://www.ncdc.noaa.gov/cdo-web/api/v2/stations?datasetid=PRECIP_15&startdate=2017-06-07&enddate=2017-06-23&extent=35.87117705&extent=-84.05598071&extent=36.336325790000004&extent=-83.55988312&limit=1000&units=standard\n",
      "No stations found even after expanding the extent. Skipping this gauge.\n",
      "Rainfall data processing is done for 3495405 starting from 2017-06-07\n",
      "https://www.ncdc.noaa.gov/cdo-web/api/v2/stations?datasetid=PRECIP_15&startdate=2009-06-10&enddate=2009-06-27&extent=35.8546123&extent=-83.85496784&extent=35.8929825&extent=-83.8007075&limit=1000&units=standard\n",
      "No stations found for 34991105 within the given extent: {'north': 35.8929825, 'south': 35.8546123, 'east': -83.8007075, 'west': -83.85496784}\n",
      "Attempting to expand the extent by 0.2 degrees...\n",
      "https://www.ncdc.noaa.gov/cdo-web/api/v2/stations?datasetid=PRECIP_15&startdate=2009-06-10&enddate=2009-06-27&extent=35.6546123&extent=-84.05496784&extent=36.092982500000005&extent=-83.6007075&limit=1000&units=standard\n",
      "No stations found even after expanding the extent. Skipping this gauge.\n",
      "Rainfall data processing is done for 34991105 starting from 2009-06-10\n",
      "https://www.ncdc.noaa.gov/cdo-web/api/v2/stations?datasetid=PRECIP_15&startdate=2009-03-25&enddate=2009-04-10&extent=36.06203317&extent=-83.93733116&extent=36.15646214&extent=-83.83673724&limit=1000&units=standard\n",
      "No stations found for 35351830 within the given extent: {'north': 36.15646214, 'south': 36.06203317, 'east': -83.83673724, 'west': -83.93733116}\n",
      "Attempting to expand the extent by 0.2 degrees...\n",
      "https://www.ncdc.noaa.gov/cdo-web/api/v2/stations?datasetid=PRECIP_15&startdate=2009-03-25&enddate=2009-04-10&extent=35.86203317&extent=-84.13733116&extent=36.356462140000005&extent=-83.63673724&limit=1000&units=standard\n",
      "No stations found even after expanding the extent. Skipping this gauge.\n",
      "Rainfall data processing is done for 35351830 starting from 2009-03-25\n",
      "https://www.ncdc.noaa.gov/cdo-web/api/v2/stations?datasetid=PRECIP_15&startdate=2004-04-06&enddate=2004-04-20&extent=35.97466049&extent=-84.2748036&extent=36.01601348&extent=-84.22800419&limit=1000&units=standard\n",
      "No stations found for 3538235 within the given extent: {'north': 36.01601348, 'south': 35.97466049, 'east': -84.22800419, 'west': -84.2748036}\n",
      "Attempting to expand the extent by 0.2 degrees...\n",
      "https://www.ncdc.noaa.gov/cdo-web/api/v2/stations?datasetid=PRECIP_15&startdate=2004-04-06&enddate=2004-04-20&extent=35.774660489999995&extent=-84.4748036&extent=36.21601348&extent=-84.02800418999999&limit=1000&units=standard\n",
      "No stations found even after expanding the extent. Skipping this gauge.\n",
      "Rainfall data processing is done for 3538235 starting from 2004-04-06\n",
      "https://www.ncdc.noaa.gov/cdo-web/api/v2/stations?datasetid=PRECIP_15&startdate=2000-05-18&enddate=2000-06-03&extent=35.93220047&extent=-84.34150401&extent=35.9830483&extent=-84.26938022&limit=1000&units=standard\n",
      "No stations found for 3538270 within the given extent: {'north': 35.9830483, 'south': 35.93220047, 'east': -84.26938022, 'west': -84.34150401}\n",
      "Attempting to expand the extent by 0.2 degrees...\n",
      "https://www.ncdc.noaa.gov/cdo-web/api/v2/stations?datasetid=PRECIP_15&startdate=2000-05-18&enddate=2000-06-03&extent=35.732200469999995&extent=-84.54150401&extent=36.1830483&extent=-84.06938022&limit=1000&units=standard\n",
      "No stations found even after expanding the extent. Skipping this gauge.\n",
      "Rainfall data processing is done for 3538270 starting from 2000-05-18\n",
      "https://www.ncdc.noaa.gov/cdo-web/api/v2/stations?datasetid=PRECIP_15&startdate=2003-04-30&enddate=2003-05-16&extent=36.07352082&extent=-84.98326528&extent=36.11850478&extent=-84.89807066&limit=1000&units=standard\n",
      "No stations found for 3538865 within the given extent: {'north': 36.11850478, 'south': 36.07352082, 'east': -84.89807066, 'west': -84.98326528}\n",
      "Attempting to expand the extent by 0.2 degrees...\n",
      "https://www.ncdc.noaa.gov/cdo-web/api/v2/stations?datasetid=PRECIP_15&startdate=2003-04-30&enddate=2003-05-16&extent=35.873520819999996&extent=-85.18326528&extent=36.318504780000005&extent=-84.69807066&limit=1000&units=standard\n",
      "No stations found even after expanding the extent. Skipping this gauge.\n",
      "Rainfall data processing is done for 3538865 starting from 2003-04-30\n",
      "https://www.ncdc.noaa.gov/cdo-web/api/v2/stations?datasetid=PRECIP_15&startdate=2020-04-06&enddate=2020-04-22&extent=35.83002675&extent=-85.10105441&extent=35.88963653&extent=-85.03928839&limit=1000&units=standard\n",
      "No stations found for 3538970 within the given extent: {'north': 35.88963653, 'south': 35.83002675, 'east': -85.03928839, 'west': -85.10105441}\n",
      "Attempting to expand the extent by 0.2 degrees...\n",
      "https://www.ncdc.noaa.gov/cdo-web/api/v2/stations?datasetid=PRECIP_15&startdate=2020-04-06&enddate=2020-04-22&extent=35.63002675&extent=-85.30105441&extent=36.08963653&extent=-84.83928839&limit=1000&units=standard\n",
      "No stations found even after expanding the extent. Skipping this gauge.\n",
      "Rainfall data processing is done for 3538970 starting from 2020-04-06\n",
      "https://www.ncdc.noaa.gov/cdo-web/api/v2/stations?datasetid=PRECIP_15&startdate=2007-04-08&enddate=2007-04-24&extent=35.43234109&extent=-84.61386089&extent=35.5391693&extent=-84.44254838&limit=1000&units=standard\n",
      "No stations found for 3565442 within the given extent: {'north': 35.5391693, 'south': 35.43234109, 'east': -84.44254838, 'west': -84.61386089}\n",
      "Attempting to expand the extent by 0.2 degrees...\n",
      "https://www.ncdc.noaa.gov/cdo-web/api/v2/stations?datasetid=PRECIP_15&startdate=2007-04-08&enddate=2007-04-24&extent=35.23234109&extent=-84.81386089&extent=35.7391693&extent=-84.24254838&limit=1000&units=standard\n",
      "No stations found even after expanding the extent. Skipping this gauge.\n",
      "Rainfall data processing is done for 3565442 starting from 2007-04-08\n",
      "https://www.ncdc.noaa.gov/cdo-web/api/v2/stations?datasetid=PRECIP_15&startdate=2020-04-28&enddate=2020-05-14&extent=35.09088592&extent=-85.34162069&extent=35.15988874&extent=-85.28837621&limit=1000&units=standard\n",
      "No stations found for 3569190 within the given extent: {'north': 35.15988874, 'south': 35.09088592, 'east': -85.28837621, 'west': -85.34162069}\n",
      "Attempting to expand the extent by 0.2 degrees...\n",
      "https://www.ncdc.noaa.gov/cdo-web/api/v2/stations?datasetid=PRECIP_15&startdate=2020-04-28&enddate=2020-05-14&extent=34.890885919999995&extent=-85.54162069&extent=35.35988874&extent=-85.08837620999999&limit=1000&units=standard\n",
      "No stations found even after expanding the extent. Skipping this gauge.\n",
      "Rainfall data processing is done for 3569190 starting from 2020-04-28\n",
      "https://www.ncdc.noaa.gov/cdo-web/api/v2/stations?datasetid=PRECIP_15&startdate=2003-04-30&enddate=2003-05-16&extent=35.40935017&extent=-86.09389556&extent=35.47507918&extent=-86.00351129&limit=1000&units=standard\n",
      "No stations found for 3595100 within the given extent: {'north': 35.47507918, 'south': 35.40935017, 'east': -86.00351129, 'west': -86.09389556}\n",
      "Attempting to expand the extent by 0.2 degrees...\n",
      "https://www.ncdc.noaa.gov/cdo-web/api/v2/stations?datasetid=PRECIP_15&startdate=2003-04-30&enddate=2003-05-16&extent=35.20935017&extent=-86.29389556000001&extent=35.675079180000004&extent=-85.80351129&limit=1000&units=standard\n",
      "https://www.ncdc.noaa.gov/cdo-web/api/v2/data?datasetid=PRECIP_15&startdate=2003-04-30&enddate=2003-05-16&stationid=COOP:406162&limit=1000&units=standard\n",
      "Rainfall data processing is done for 3595100 starting from 2003-04-30\n",
      "https://www.ncdc.noaa.gov/cdo-web/api/v2/stations?datasetid=PRECIP_15&startdate=2006-04-15&enddate=2006-05-01&extent=35.36054983&extent=-86.15944768&extent=35.45212428&extent=-86.03567599&limit=1000&units=standard\n",
      "No stations found for 3596100 within the given extent: {'north': 35.45212428, 'south': 35.36054983, 'east': -86.03567599, 'west': -86.15944768}\n",
      "Attempting to expand the extent by 0.2 degrees...\n",
      "https://www.ncdc.noaa.gov/cdo-web/api/v2/stations?datasetid=PRECIP_15&startdate=2006-04-15&enddate=2006-05-01&extent=35.160549829999994&extent=-86.35944768&extent=35.65212428&extent=-85.83567599&limit=1000&units=standard\n",
      "https://www.ncdc.noaa.gov/cdo-web/api/v2/data?datasetid=PRECIP_15&startdate=2006-04-15&enddate=2006-05-01&stationid=COOP:406162&limit=1000&units=standard\n",
      "Rainfall data processing is done for 3596100 starting from 2006-04-15\n",
      "https://www.ncdc.noaa.gov/cdo-web/api/v2/stations?datasetid=PRECIP_15&startdate=2011-03-29&enddate=2011-04-14&extent=35.50636667&extent=-86.40167047&extent=35.66428&extent=-86.300294&limit=1000&units=standard\n",
      "No stations found for 3597590 within the given extent: {'north': 35.66428, 'south': 35.50636667, 'east': -86.300294, 'west': -86.40167047}\n",
      "Attempting to expand the extent by 0.2 degrees...\n",
      "https://www.ncdc.noaa.gov/cdo-web/api/v2/stations?datasetid=PRECIP_15&startdate=2011-03-29&enddate=2011-04-14&extent=35.306366669999996&extent=-86.60167047&extent=35.86428&extent=-86.10029399999999&limit=1000&units=standard\n",
      "No stations found even after expanding the extent. Skipping this gauge.\n",
      "Rainfall data processing is done for 3597590 starting from 2011-03-29\n",
      "https://www.ncdc.noaa.gov/cdo-web/api/v2/stations?datasetid=PRECIP_15&startdate=2009-04-25&enddate=2009-05-11&extent=35.56227767&extent=-86.45657281&extent=35.61146435&extent=-86.38652084&limit=1000&units=standard\n",
      "No stations found for 3598169 within the given extent: {'north': 35.61146435, 'south': 35.56227767, 'east': -86.38652084, 'west': -86.45657281}\n",
      "Attempting to expand the extent by 0.2 degrees...\n",
      "https://www.ncdc.noaa.gov/cdo-web/api/v2/stations?datasetid=PRECIP_15&startdate=2009-04-25&enddate=2009-05-11&extent=35.36227767&extent=-86.65657281&extent=35.81146435&extent=-86.18652084&limit=1000&units=standard\n",
      "No stations found even after expanding the extent. Skipping this gauge.\n",
      "Rainfall data processing is done for 3598169 starting from 2009-04-25\n",
      "https://www.ncdc.noaa.gov/cdo-web/api/v2/stations?datasetid=PRECIP_15&startdate=2000-04-01&enddate=2000-04-17&extent=35.36466547&extent=-86.86027159&extent=35.45978346&extent=-86.7393628&limit=1000&units=standard\n",
      "https://www.ncdc.noaa.gov/cdo-web/api/v2/data?datasetid=PRECIP_15&startdate=2000-04-01&enddate=2000-04-17&stationid=COOP:405187&limit=1000&units=standard\n",
      "Rainfall data processing is done for 3599000 starting from 2000-04-01\n",
      "https://www.ncdc.noaa.gov/cdo-web/api/v2/stations?datasetid=PRECIP_15&startdate=2020-03-24&enddate=2020-04-09&extent=35.9593737&extent=-88.17490636&extent=36.10035386&extent=-88.06467076&limit=1000&units=standard\n",
      "No stations found for 3605078 within the given extent: {'north': 36.10035386, 'south': 35.9593737, 'east': -88.06467076, 'west': -88.17490636}\n",
      "Attempting to expand the extent by 0.2 degrees...\n",
      "https://www.ncdc.noaa.gov/cdo-web/api/v2/stations?datasetid=PRECIP_15&startdate=2020-03-24&enddate=2020-04-09&extent=35.7593737&extent=-88.37490636&extent=36.30035386&extent=-87.86467076&limit=1000&units=standard\n",
      "No stations found even after expanding the extent. Skipping this gauge.\n",
      "Rainfall data processing is done for 3605078 starting from 2020-03-24\n",
      "https://www.ncdc.noaa.gov/cdo-web/api/v2/stations?datasetid=PRECIP_15&startdate=2015-04-07&enddate=2015-04-23&extent=36.02985571&extent=-88.4245398&extent=36.13893026&extent=-88.30413436&limit=1000&units=standard\n",
      "No stations found for 7024200 within the given extent: {'north': 36.13893026, 'south': 36.02985571, 'east': -88.30413436, 'west': -88.4245398}\n",
      "Attempting to expand the extent by 0.2 degrees...\n",
      "https://www.ncdc.noaa.gov/cdo-web/api/v2/stations?datasetid=PRECIP_15&startdate=2015-04-07&enddate=2015-04-23&extent=35.82985571&extent=-88.62453980000001&extent=36.338930260000005&extent=-88.10413436&limit=1000&units=standard\n",
      "No stations found even after expanding the extent. Skipping this gauge.\n",
      "Rainfall data processing is done for 7024200 starting from 2015-04-07\n",
      "https://www.ncdc.noaa.gov/cdo-web/api/v2/stations?datasetid=PRECIP_15&startdate=2016-05-06&enddate=2016-05-22&extent=36.45700063&extent=-89.33575488&extent=36.58079572&extent=-89.17949579&limit=1000&units=standard\n",
      "No stations found for 7026680 within the given extent: {'north': 36.58079572, 'south': 36.45700063, 'east': -89.17949579, 'west': -89.33575488}\n",
      "Attempting to expand the extent by 0.2 degrees...\n",
      "https://www.ncdc.noaa.gov/cdo-web/api/v2/stations?datasetid=PRECIP_15&startdate=2016-05-06&enddate=2016-05-22&extent=36.25700063&extent=-89.53575488&extent=36.78079572&extent=-88.97949579&limit=1000&units=standard\n",
      "No stations found even after expanding the extent. Skipping this gauge.\n",
      "Rainfall data processing is done for 7026680 starting from 2016-05-06\n",
      "https://www.ncdc.noaa.gov/cdo-web/api/v2/stations?datasetid=PRECIP_15&startdate=2014-05-29&enddate=2014-06-15&extent=36.34292002&extent=-89.35028677&extent=36.39845329&extent=-89.29288658&limit=1000&units=standard\n",
      "No stations found for 7026795 within the given extent: {'north': 36.39845329, 'south': 36.34292002, 'east': -89.29288658, 'west': -89.35028677}\n",
      "Attempting to expand the extent by 0.2 degrees...\n",
      "https://www.ncdc.noaa.gov/cdo-web/api/v2/stations?datasetid=PRECIP_15&startdate=2014-05-29&enddate=2014-06-15&extent=36.14292002&extent=-89.55028677&extent=36.59845329&extent=-89.09288658&limit=1000&units=standard\n",
      "No stations found even after expanding the extent. Skipping this gauge.\n",
      "Rainfall data processing is done for 7026795 starting from 2014-05-29\n",
      "https://www.ncdc.noaa.gov/cdo-web/api/v2/stations?datasetid=PRECIP_15&startdate=2002-06-06&enddate=2002-06-22&extent=35.79841428&extent=-88.81509142&extent=35.83311581&extent=-88.75380996&limit=1000&units=standard\n",
      "No stations found for 7028930 within the given extent: {'north': 35.83311581, 'south': 35.79841428, 'east': -88.75380996, 'west': -88.81509142}\n",
      "Attempting to expand the extent by 0.2 degrees...\n",
      "https://www.ncdc.noaa.gov/cdo-web/api/v2/stations?datasetid=PRECIP_15&startdate=2002-06-06&enddate=2002-06-22&extent=35.59841428&extent=-89.01509142&extent=36.033115810000005&extent=-88.55380996&limit=1000&units=standard\n",
      "https://www.ncdc.noaa.gov/cdo-web/api/v2/data?datasetid=PRECIP_15&startdate=2002-06-06&enddate=2002-06-22&stationid=COOP:404561&limit=1000&units=standard\n",
      "Warnings for 7028930: \"None of [Index(['date', 'QPCP'], dtype='object')] are in the [columns]\"\n",
      "No valid data collected for 7028930. Exiting process.\n",
      "Rainfall data processing is done for 7028930 starting from 2002-06-06\n",
      "https://www.ncdc.noaa.gov/cdo-web/api/v2/stations?datasetid=PRECIP_15&startdate=2000-05-03&enddate=2000-05-19&extent=35.89402029&extent=-89.22361669&extent=35.97786749&extent=-89.15245689&limit=1000&units=standard\n",
      "No stations found for 7029035 within the given extent: {'north': 35.97786749, 'south': 35.89402029, 'east': -89.15245689, 'west': -89.22361669}\n",
      "Attempting to expand the extent by 0.2 degrees...\n",
      "https://www.ncdc.noaa.gov/cdo-web/api/v2/stations?datasetid=PRECIP_15&startdate=2000-05-03&enddate=2000-05-19&extent=35.69402029&extent=-89.42361669&extent=36.177867490000004&extent=-88.95245689&limit=1000&units=standard\n",
      "https://www.ncdc.noaa.gov/cdo-web/api/v2/data?datasetid=PRECIP_15&startdate=2000-05-03&enddate=2000-05-19&stationid=COOP:402680&limit=1000&units=standard\n",
      "Rainfall data processing is done for 7029035 starting from 2000-05-03\n",
      "https://www.ncdc.noaa.gov/cdo-web/api/v2/stations?datasetid=PRECIP_15&startdate=2004-04-01&enddate=2004-04-17&extent=35.13780356&extent=-89.87493327&extent=35.23990334&extent=-89.74421197&limit=1000&units=standard\n",
      "No stations found for 7031692 within the given extent: {'north': 35.23990334, 'south': 35.13780356, 'east': -89.74421197, 'west': -89.87493327}\n",
      "Attempting to expand the extent by 0.2 degrees...\n",
      "https://www.ncdc.noaa.gov/cdo-web/api/v2/stations?datasetid=PRECIP_15&startdate=2004-04-01&enddate=2004-04-17&extent=34.93780356&extent=-90.07493327&extent=35.43990334&extent=-89.54421196999999&limit=1000&units=standard\n",
      "https://www.ncdc.noaa.gov/cdo-web/api/v2/data?datasetid=PRECIP_15&startdate=2004-04-01&enddate=2004-04-17&stationid=COOP:405956&limit=1000&units=standard\n",
      "Rainfall data processing is done for 7031692 starting from 2004-04-01\n",
      "https://www.ncdc.noaa.gov/cdo-web/api/v2/stations?datasetid=PRECIP_15&startdate=2018-04-28&enddate=2018-05-14&extent=36.47054977&extent=-85.87185917&extent=36.56569568&extent=-85.80165628&limit=1000&units=standard\n",
      "No stations found for 3312259 within the given extent: {'north': 36.56569568, 'south': 36.47054977, 'east': -85.80165628, 'west': -85.87185917}\n",
      "Attempting to expand the extent by 0.2 degrees...\n",
      "https://www.ncdc.noaa.gov/cdo-web/api/v2/stations?datasetid=PRECIP_15&startdate=2018-04-28&enddate=2018-05-14&extent=36.270549769999995&extent=-86.07185917&extent=36.76569568&extent=-85.60165628&limit=1000&units=standard\n",
      "Warning: could not squash response: \n",
      " <Response [503]>, b'<!DOCTYPE HTML PUBLIC \"-//IETF//DTD HTML 2.0//EN\">\\n<html><head>\\n<title>503 Service Unavailable</title>\\n</head><body>\\n<h1>Service Unavailable</h1>\\n<p>The server is temporarily unable to service your\\nrequest due to maintenance downtime or capacity\\nproblems. Please try again later.</p>\\n<p>Additionally, a 503 Service Unavailable\\nerror was encountered while trying to use an ErrorDocument to handle the request.</p>\\n</body></html>\\n'\n",
      "No stations found even after expanding the extent. Skipping this gauge.\n",
      "Rainfall data processing is done for 3312259 starting from 2018-04-28\n",
      "https://www.ncdc.noaa.gov/cdo-web/api/v2/stations?datasetid=PRECIP_15&startdate=2009-04-03&enddate=2009-04-19&extent=36.31355449&extent=-86.79300794&extent=36.41892638&extent=-86.71621875&limit=1000&units=standard\n",
      "No stations found for 3426385 within the given extent: {'north': 36.41892638, 'south': 36.31355449, 'east': -86.71621875, 'west': -86.79300794}\n",
      "Attempting to expand the extent by 0.2 degrees...\n",
      "https://www.ncdc.noaa.gov/cdo-web/api/v2/stations?datasetid=PRECIP_15&startdate=2009-04-03&enddate=2009-04-19&extent=36.11355449&extent=-86.99300794&extent=36.618926380000005&extent=-86.51621875&limit=1000&units=standard\n",
      "https://www.ncdc.noaa.gov/cdo-web/api/v2/data?datasetid=PRECIP_15&startdate=2009-04-03&enddate=2009-04-19&stationid=COOP:406806&limit=1000&units=standard\n",
      "https://www.ncdc.noaa.gov/cdo-web/api/v2/data?datasetid=PRECIP_15&startdate=2009-04-03&enddate=2009-04-19&stationid=COOP:407359&limit=1000&units=standard\n",
      "https://www.ncdc.noaa.gov/cdo-web/api/v2/data?datasetid=PRECIP_15&startdate=2009-04-03&enddate=2009-04-19&stationid=COOP:408562&limit=1000&units=standard\n",
      "Rainfall data processing is done for 3426385 starting from 2009-04-03\n",
      "https://www.ncdc.noaa.gov/cdo-web/api/v2/stations?datasetid=PRECIP_15&startdate=2017-04-27&enddate=2017-05-13&extent=36.26672548&extent=-86.76382851&extent=36.31769794&extent=-86.68765616&limit=1000&units=standard\n",
      "No stations found for 3426470 within the given extent: {'north': 36.31769794, 'south': 36.26672548, 'east': -86.68765616, 'west': -86.76382851}\n",
      "Attempting to expand the extent by 0.2 degrees...\n",
      "https://www.ncdc.noaa.gov/cdo-web/api/v2/stations?datasetid=PRECIP_15&startdate=2017-04-27&enddate=2017-05-13&extent=36.066725479999995&extent=-86.96382851&extent=36.517697940000005&extent=-86.48765616&limit=1000&units=standard\n",
      "No stations found even after expanding the extent. Skipping this gauge.\n",
      "Rainfall data processing is done for 3426470 starting from 2017-04-27\n",
      "https://www.ncdc.noaa.gov/cdo-web/api/v2/stations?datasetid=PRECIP_15&startdate=2004-04-05&enddate=2004-04-21&extent=36.14948376&extent=-86.61437007&extent=36.23681666&extent=-86.4603212&limit=1000&units=standard\n",
      "No stations found for 3430147 within the given extent: {'north': 36.23681666, 'south': 36.14948376, 'east': -86.4603212, 'west': -86.61437007}\n",
      "Attempting to expand the extent by 0.2 degrees...\n",
      "https://www.ncdc.noaa.gov/cdo-web/api/v2/stations?datasetid=PRECIP_15&startdate=2004-04-05&enddate=2004-04-21&extent=35.94948376&extent=-86.81437007000001&extent=36.436816660000005&extent=-86.26032119999999&limit=1000&units=standard\n",
      "https://www.ncdc.noaa.gov/cdo-web/api/v2/data?datasetid=PRECIP_15&startdate=2004-04-05&enddate=2004-04-21&stationid=COOP:405108&limit=1000&units=standard\n",
      "https://www.ncdc.noaa.gov/cdo-web/api/v2/data?datasetid=PRECIP_15&startdate=2004-04-05&enddate=2004-04-21&stationid=COOP:406806&limit=1000&units=standard\n",
      "Warnings for 3430147: \"None of [Index(['date', 'QPCP'], dtype='object')] are in the [columns]\"\n",
      "Rainfall data processing is done for 3430147 starting from 2004-04-05\n",
      "https://www.ncdc.noaa.gov/cdo-web/api/v2/stations?datasetid=PRECIP_15&startdate=2015-03-30&enddate=2015-04-15&extent=36.06439975&extent=-86.91755364&extent=36.1539268&extent=-86.79783154&limit=1000&units=standard\n",
      "No stations found for 3431700 within the given extent: {'north': 36.1539268, 'south': 36.06439975, 'east': -86.79783154, 'west': -86.91755364}\n",
      "Attempting to expand the extent by 0.2 degrees...\n",
      "https://www.ncdc.noaa.gov/cdo-web/api/v2/stations?datasetid=PRECIP_15&startdate=2015-03-30&enddate=2015-04-15&extent=35.86439975&extent=-87.11755364&extent=36.3539268&extent=-86.59783154&limit=1000&units=standard\n",
      "No stations found even after expanding the extent. Skipping this gauge.\n",
      "Rainfall data processing is done for 3431700 starting from 2015-03-30\n",
      "https://www.ncdc.noaa.gov/cdo-web/api/v2/stations?datasetid=PRECIP_15&startdate=2000-05-19&enddate=2000-06-02&extent=35.9138341&extent=-86.86123297&extent=35.93584826&extent=-86.81715714&limit=1000&units=standard\n",
      "No stations found for 34323531 within the given extent: {'north': 35.93584826, 'south': 35.9138341, 'east': -86.81715714, 'west': -86.86123297}\n",
      "Attempting to expand the extent by 0.2 degrees...\n",
      "https://www.ncdc.noaa.gov/cdo-web/api/v2/stations?datasetid=PRECIP_15&startdate=2000-05-19&enddate=2000-06-02&extent=35.7138341&extent=-87.06123297&extent=36.13584826&extent=-86.61715714&limit=1000&units=standard\n",
      "No stations found even after expanding the extent. Skipping this gauge.\n",
      "Rainfall data processing is done for 34323531 starting from 2000-05-19\n",
      "https://www.ncdc.noaa.gov/cdo-web/api/v2/stations?datasetid=PRECIP_15&startdate=2005-08-18&enddate=2005-09-03&extent=35.89558097&extent=-86.90401478&extent=35.93319367&extent=-86.86676872&limit=1000&units=standard\n",
      "No stations found for 3432376 within the given extent: {'north': 35.93319367, 'south': 35.89558097, 'east': -86.86676872, 'west': -86.90401478}\n",
      "Attempting to expand the extent by 0.2 degrees...\n",
      "https://www.ncdc.noaa.gov/cdo-web/api/v2/stations?datasetid=PRECIP_15&startdate=2005-08-18&enddate=2005-09-03&extent=35.695580969999995&extent=-87.10401478&extent=36.133193670000004&extent=-86.66676872&limit=1000&units=standard\n",
      "No stations found even after expanding the extent. Skipping this gauge.\n",
      "Rainfall data processing is done for 3432376 starting from 2005-08-18\n",
      "https://www.ncdc.noaa.gov/cdo-web/api/v2/stations?datasetid=PRECIP_15&startdate=2005-07-12&enddate=2005-07-28&extent=35.92571722&extent=-86.82916748&extent=35.9481873&extent=-86.77946158&limit=1000&units=standard\n",
      "No stations found for 3432387 within the given extent: {'north': 35.9481873, 'south': 35.92571722, 'east': -86.77946158, 'west': -86.82916748}\n",
      "Attempting to expand the extent by 0.2 degrees...\n",
      "https://www.ncdc.noaa.gov/cdo-web/api/v2/stations?datasetid=PRECIP_15&startdate=2005-07-12&enddate=2005-07-28&extent=35.72571722&extent=-87.02916748&extent=36.148187300000004&extent=-86.57946158&limit=1000&units=standard\n",
      "No stations found even after expanding the extent. Skipping this gauge.\n",
      "Rainfall data processing is done for 3432387 starting from 2005-07-12\n",
      "https://www.ncdc.noaa.gov/cdo-web/api/v2/stations?datasetid=PRECIP_15&startdate=2008-06-01&enddate=2008-08-19&extent=35.92571722&extent=-86.86050701&extent=35.99175158&extent=-86.77946158&limit=1000&units=standard\n",
      "No stations found for 3432390 within the given extent: {'north': 35.99175158, 'south': 35.92571722, 'east': -86.77946158, 'west': -86.86050701}\n",
      "Attempting to expand the extent by 0.2 degrees...\n",
      "https://www.ncdc.noaa.gov/cdo-web/api/v2/stations?datasetid=PRECIP_15&startdate=2008-06-01&enddate=2008-08-19&extent=35.72571722&extent=-87.06050701000001&extent=36.19175158&extent=-86.57946158&limit=1000&units=standard\n",
      "No stations found even after expanding the extent. Skipping this gauge.\n",
      "Rainfall data processing is done for 3432390 starting from 2008-06-01\n",
      "https://www.ncdc.noaa.gov/cdo-web/api/v2/stations?datasetid=PRECIP_15&startdate=2012-07-07&enddate=2012-07-23&extent=35.79690068&extent=-87.06590957&extent=35.84695527&extent=-87.00605068&limit=1000&units=standard\n",
      "No stations found for 3432516 within the given extent: {'north': 35.84695527, 'south': 35.79690068, 'east': -87.00605068, 'west': -87.06590957}\n",
      "Attempting to expand the extent by 0.2 degrees...\n",
      "https://www.ncdc.noaa.gov/cdo-web/api/v2/stations?datasetid=PRECIP_15&startdate=2012-07-07&enddate=2012-07-23&extent=35.59690068&extent=-87.26590957&extent=36.046955270000005&extent=-86.80605068&limit=1000&units=standard\n",
      "No stations found even after expanding the extent. Skipping this gauge.\n",
      "Rainfall data processing is done for 3432516 starting from 2012-07-07\n",
      "https://www.ncdc.noaa.gov/cdo-web/api/v2/stations?datasetid=PRECIP_15&startdate=2004-04-25&enddate=2004-05-11&extent=36.40887148&extent=-87.08152355&extent=36.50095989&extent=-86.95576251&limit=1000&units=standard\n",
      "No stations found for 3435970 within the given extent: {'north': 36.50095989, 'south': 36.40887148, 'east': -86.95576251, 'west': -87.08152355}\n",
      "Attempting to expand the extent by 0.2 degrees...\n",
      "https://www.ncdc.noaa.gov/cdo-web/api/v2/stations?datasetid=PRECIP_15&startdate=2004-04-25&enddate=2004-05-11&extent=36.20887148&extent=-87.28152355&extent=36.70095989&extent=-86.75576251&limit=1000&units=standard\n",
      "https://www.ncdc.noaa.gov/cdo-web/api/v2/data?datasetid=PRECIP_15&startdate=2004-04-25&enddate=2004-05-11&stationid=COOP:401663&limit=1000&units=standard\n",
      "https://www.ncdc.noaa.gov/cdo-web/api/v2/data?datasetid=PRECIP_15&startdate=2004-04-25&enddate=2004-05-11&stationid=COOP:408562&limit=1000&units=standard\n",
      "Rainfall data processing is done for 3435970 starting from 2004-04-25\n",
      "https://www.ncdc.noaa.gov/cdo-web/api/v2/stations?datasetid=PRECIP_15&startdate=2019-06-13&enddate=2019-06-30&extent=36.37321371&extent=-83.05688717&extent=36.42555552&extent=-82.98309718&limit=1000&units=standard\n",
      "No stations found for 3491544 within the given extent: {'north': 36.42555552, 'south': 36.37321371, 'east': -82.98309718, 'west': -83.05688717}\n",
      "Attempting to expand the extent by 0.2 degrees...\n",
      "https://www.ncdc.noaa.gov/cdo-web/api/v2/stations?datasetid=PRECIP_15&startdate=2019-06-13&enddate=2019-06-30&extent=36.17321371&extent=-83.25688717&extent=36.625555520000006&extent=-82.78309718&limit=1000&units=standard\n",
      "No stations found even after expanding the extent. Skipping this gauge.\n",
      "Rainfall data processing is done for 3491544 starting from 2019-06-13\n",
      "https://www.ncdc.noaa.gov/cdo-web/api/v2/stations?datasetid=PRECIP_15&startdate=2017-06-12&enddate=2017-06-28&extent=36.07117705&extent=-83.85598071&extent=36.13632579&extent=-83.75988312&limit=1000&units=standard\n",
      "No stations found for 3495405 within the given extent: {'north': 36.13632579, 'south': 36.07117705, 'east': -83.75988312, 'west': -83.85598071}\n",
      "Attempting to expand the extent by 0.2 degrees...\n",
      "https://www.ncdc.noaa.gov/cdo-web/api/v2/stations?datasetid=PRECIP_15&startdate=2017-06-12&enddate=2017-06-28&extent=35.87117705&extent=-84.05598071&extent=36.336325790000004&extent=-83.55988312&limit=1000&units=standard\n",
      "No stations found even after expanding the extent. Skipping this gauge.\n",
      "Rainfall data processing is done for 3495405 starting from 2017-06-12\n",
      "https://www.ncdc.noaa.gov/cdo-web/api/v2/stations?datasetid=PRECIP_15&startdate=2009-06-11&enddate=2009-06-27&extent=35.8546123&extent=-83.85496784&extent=35.8929825&extent=-83.8007075&limit=1000&units=standard\n",
      "No stations found for 34991105 within the given extent: {'north': 35.8929825, 'south': 35.8546123, 'east': -83.8007075, 'west': -83.85496784}\n",
      "Attempting to expand the extent by 0.2 degrees...\n",
      "https://www.ncdc.noaa.gov/cdo-web/api/v2/stations?datasetid=PRECIP_15&startdate=2009-06-11&enddate=2009-06-27&extent=35.6546123&extent=-84.05496784&extent=36.092982500000005&extent=-83.6007075&limit=1000&units=standard\n",
      "No stations found even after expanding the extent. Skipping this gauge.\n",
      "Rainfall data processing is done for 34991105 starting from 2009-06-11\n",
      "https://www.ncdc.noaa.gov/cdo-web/api/v2/stations?datasetid=PRECIP_15&startdate=2009-03-27&enddate=2009-04-12&extent=36.06203317&extent=-83.93733116&extent=36.15646214&extent=-83.83673724&limit=1000&units=standard\n",
      "No stations found for 35351830 within the given extent: {'north': 36.15646214, 'south': 36.06203317, 'east': -83.83673724, 'west': -83.93733116}\n",
      "Attempting to expand the extent by 0.2 degrees...\n",
      "https://www.ncdc.noaa.gov/cdo-web/api/v2/stations?datasetid=PRECIP_15&startdate=2009-03-27&enddate=2009-04-12&extent=35.86203317&extent=-84.13733116&extent=36.356462140000005&extent=-83.63673724&limit=1000&units=standard\n",
      "No stations found even after expanding the extent. Skipping this gauge.\n",
      "Rainfall data processing is done for 35351830 starting from 2009-03-27\n",
      "https://www.ncdc.noaa.gov/cdo-web/api/v2/stations?datasetid=PRECIP_15&startdate=2000-03-27&enddate=2000-04-13&extent=35.9104829&extent=-84.339059&extent=35.9577433&extent=-84.29154599&limit=1000&units=standard\n",
      "No stations found for 3536550 within the given extent: {'north': 35.9577433, 'south': 35.9104829, 'east': -84.29154599, 'west': -84.339059}\n",
      "Attempting to expand the extent by 0.2 degrees...\n",
      "https://www.ncdc.noaa.gov/cdo-web/api/v2/stations?datasetid=PRECIP_15&startdate=2000-03-27&enddate=2000-04-13&extent=35.710482899999995&extent=-84.53905900000001&extent=36.1577433&extent=-84.09154599&limit=1000&units=standard\n",
      "No stations found even after expanding the extent. Skipping this gauge.\n",
      "Rainfall data processing is done for 3536550 starting from 2000-03-27\n",
      "https://www.ncdc.noaa.gov/cdo-web/api/v2/stations?datasetid=PRECIP_15&startdate=2005-03-27&enddate=2005-04-09&extent=35.97466049&extent=-84.2748036&extent=36.01601348&extent=-84.22800419&limit=1000&units=standard\n",
      "No stations found for 3538235 within the given extent: {'north': 36.01601348, 'south': 35.97466049, 'east': -84.22800419, 'west': -84.2748036}\n",
      "Attempting to expand the extent by 0.2 degrees...\n",
      "https://www.ncdc.noaa.gov/cdo-web/api/v2/stations?datasetid=PRECIP_15&startdate=2005-03-27&enddate=2005-04-09&extent=35.774660489999995&extent=-84.4748036&extent=36.21601348&extent=-84.02800418999999&limit=1000&units=standard\n",
      "No stations found even after expanding the extent. Skipping this gauge.\n",
      "Rainfall data processing is done for 3538235 starting from 2005-03-27\n",
      "https://www.ncdc.noaa.gov/cdo-web/api/v2/stations?datasetid=PRECIP_15&startdate=2000-05-27&enddate=2000-06-13&extent=35.93220047&extent=-84.34150401&extent=35.9830483&extent=-84.26938022&limit=1000&units=standard\n",
      "No stations found for 3538270 within the given extent: {'north': 35.9830483, 'south': 35.93220047, 'east': -84.26938022, 'west': -84.34150401}\n",
      "Attempting to expand the extent by 0.2 degrees...\n",
      "https://www.ncdc.noaa.gov/cdo-web/api/v2/stations?datasetid=PRECIP_15&startdate=2000-05-27&enddate=2000-06-13&extent=35.732200469999995&extent=-84.54150401&extent=36.1830483&extent=-84.06938022&limit=1000&units=standard\n",
      "No stations found even after expanding the extent. Skipping this gauge.\n",
      "Rainfall data processing is done for 3538270 starting from 2000-05-27\n",
      "https://www.ncdc.noaa.gov/cdo-web/api/v2/stations?datasetid=PRECIP_15&startdate=2003-06-12&enddate=2003-06-28&extent=36.07352082&extent=-84.98326528&extent=36.11850478&extent=-84.89807066&limit=1000&units=standard\n",
      "No stations found for 3538865 within the given extent: {'north': 36.11850478, 'south': 36.07352082, 'east': -84.89807066, 'west': -84.98326528}\n",
      "Attempting to expand the extent by 0.2 degrees...\n",
      "https://www.ncdc.noaa.gov/cdo-web/api/v2/stations?datasetid=PRECIP_15&startdate=2003-06-12&enddate=2003-06-28&extent=35.873520819999996&extent=-85.18326528&extent=36.318504780000005&extent=-84.69807066&limit=1000&units=standard\n",
      "No stations found even after expanding the extent. Skipping this gauge.\n",
      "Rainfall data processing is done for 3538865 starting from 2003-06-12\n",
      "https://www.ncdc.noaa.gov/cdo-web/api/v2/stations?datasetid=PRECIP_15&startdate=2020-04-17&enddate=2020-05-03&extent=35.83002675&extent=-85.10105441&extent=35.88963653&extent=-85.03928839&limit=1000&units=standard\n",
      "No stations found for 3538970 within the given extent: {'north': 35.88963653, 'south': 35.83002675, 'east': -85.03928839, 'west': -85.10105441}\n",
      "Attempting to expand the extent by 0.2 degrees...\n",
      "https://www.ncdc.noaa.gov/cdo-web/api/v2/stations?datasetid=PRECIP_15&startdate=2020-04-17&enddate=2020-05-03&extent=35.63002675&extent=-85.30105441&extent=36.08963653&extent=-84.83928839&limit=1000&units=standard\n",
      "No stations found even after expanding the extent. Skipping this gauge.\n",
      "Rainfall data processing is done for 3538970 starting from 2020-04-17\n",
      "https://www.ncdc.noaa.gov/cdo-web/api/v2/stations?datasetid=PRECIP_15&startdate=2007-04-20&enddate=2007-05-06&extent=35.43234109&extent=-84.61386089&extent=35.5391693&extent=-84.44254838&limit=1000&units=standard\n",
      "No stations found for 3565442 within the given extent: {'north': 35.5391693, 'south': 35.43234109, 'east': -84.44254838, 'west': -84.61386089}\n",
      "Attempting to expand the extent by 0.2 degrees...\n",
      "https://www.ncdc.noaa.gov/cdo-web/api/v2/stations?datasetid=PRECIP_15&startdate=2007-04-20&enddate=2007-05-06&extent=35.23234109&extent=-84.81386089&extent=35.7391693&extent=-84.24254838&limit=1000&units=standard\n",
      "No stations found even after expanding the extent. Skipping this gauge.\n",
      "Rainfall data processing is done for 3565442 starting from 2007-04-20\n",
      "https://www.ncdc.noaa.gov/cdo-web/api/v2/stations?datasetid=PRECIP_15&startdate=2020-05-16&enddate=2020-06-01&extent=35.09088592&extent=-85.34162069&extent=35.15988874&extent=-85.28837621&limit=1000&units=standard\n",
      "No stations found for 3569190 within the given extent: {'north': 35.15988874, 'south': 35.09088592, 'east': -85.28837621, 'west': -85.34162069}\n",
      "Attempting to expand the extent by 0.2 degrees...\n",
      "https://www.ncdc.noaa.gov/cdo-web/api/v2/stations?datasetid=PRECIP_15&startdate=2020-05-16&enddate=2020-06-01&extent=34.890885919999995&extent=-85.54162069&extent=35.35988874&extent=-85.08837620999999&limit=1000&units=standard\n",
      "No stations found even after expanding the extent. Skipping this gauge.\n",
      "Rainfall data processing is done for 3569190 starting from 2020-05-16\n",
      "https://www.ncdc.noaa.gov/cdo-web/api/v2/stations?datasetid=PRECIP_15&startdate=2003-05-04&enddate=2003-05-20&extent=35.40935017&extent=-86.09389556&extent=35.47507918&extent=-86.00351129&limit=1000&units=standard\n",
      "No stations found for 3595100 within the given extent: {'north': 35.47507918, 'south': 35.40935017, 'east': -86.00351129, 'west': -86.09389556}\n",
      "Attempting to expand the extent by 0.2 degrees...\n",
      "https://www.ncdc.noaa.gov/cdo-web/api/v2/stations?datasetid=PRECIP_15&startdate=2003-05-04&enddate=2003-05-20&extent=35.20935017&extent=-86.29389556000001&extent=35.675079180000004&extent=-85.80351129&limit=1000&units=standard\n",
      "https://www.ncdc.noaa.gov/cdo-web/api/v2/data?datasetid=PRECIP_15&startdate=2003-05-04&enddate=2003-05-20&stationid=COOP:406162&limit=1000&units=standard\n",
      "Rainfall data processing is done for 3595100 starting from 2003-05-04\n",
      "https://www.ncdc.noaa.gov/cdo-web/api/v2/stations?datasetid=PRECIP_15&startdate=2006-05-25&enddate=2006-06-11&extent=35.36054983&extent=-86.15944768&extent=35.45212428&extent=-86.03567599&limit=1000&units=standard\n",
      "No stations found for 3596100 within the given extent: {'north': 35.45212428, 'south': 35.36054983, 'east': -86.03567599, 'west': -86.15944768}\n",
      "Attempting to expand the extent by 0.2 degrees...\n",
      "https://www.ncdc.noaa.gov/cdo-web/api/v2/stations?datasetid=PRECIP_15&startdate=2006-05-25&enddate=2006-06-11&extent=35.160549829999994&extent=-86.35944768&extent=35.65212428&extent=-85.83567599&limit=1000&units=standard\n",
      "https://www.ncdc.noaa.gov/cdo-web/api/v2/data?datasetid=PRECIP_15&startdate=2006-05-25&enddate=2006-06-11&stationid=COOP:406162&limit=1000&units=standard\n",
      "Rainfall data processing is done for 3596100 starting from 2006-05-25\n",
      "https://www.ncdc.noaa.gov/cdo-web/api/v2/stations?datasetid=PRECIP_15&startdate=2011-04-09&enddate=2011-04-25&extent=35.50636667&extent=-86.40167047&extent=35.66428&extent=-86.300294&limit=1000&units=standard\n",
      "No stations found for 3597590 within the given extent: {'north': 35.66428, 'south': 35.50636667, 'east': -86.300294, 'west': -86.40167047}\n",
      "Attempting to expand the extent by 0.2 degrees...\n",
      "https://www.ncdc.noaa.gov/cdo-web/api/v2/stations?datasetid=PRECIP_15&startdate=2011-04-09&enddate=2011-04-25&extent=35.306366669999996&extent=-86.60167047&extent=35.86428&extent=-86.10029399999999&limit=1000&units=standard\n",
      "No stations found even after expanding the extent. Skipping this gauge.\n",
      "Rainfall data processing is done for 3597590 starting from 2011-04-09\n",
      "https://www.ncdc.noaa.gov/cdo-web/api/v2/stations?datasetid=PRECIP_15&startdate=2009-04-26&enddate=2009-05-12&extent=35.56227767&extent=-86.45657281&extent=35.61146435&extent=-86.38652084&limit=1000&units=standard\n",
      "No stations found for 3598169 within the given extent: {'north': 35.61146435, 'south': 35.56227767, 'east': -86.38652084, 'west': -86.45657281}\n",
      "Attempting to expand the extent by 0.2 degrees...\n",
      "https://www.ncdc.noaa.gov/cdo-web/api/v2/stations?datasetid=PRECIP_15&startdate=2009-04-26&enddate=2009-05-12&extent=35.36227767&extent=-86.65657281&extent=35.81146435&extent=-86.18652084&limit=1000&units=standard\n",
      "No stations found even after expanding the extent. Skipping this gauge.\n",
      "Rainfall data processing is done for 3598169 starting from 2009-04-26\n",
      "https://www.ncdc.noaa.gov/cdo-web/api/v2/stations?datasetid=PRECIP_15&startdate=2000-04-05&enddate=2000-04-21&extent=35.36466547&extent=-86.86027159&extent=35.45978346&extent=-86.7393628&limit=1000&units=standard\n",
      "https://www.ncdc.noaa.gov/cdo-web/api/v2/data?datasetid=PRECIP_15&startdate=2000-04-05&enddate=2000-04-21&stationid=COOP:405187&limit=1000&units=standard\n",
      "Rainfall data processing is done for 3599000 starting from 2000-04-05\n",
      "https://www.ncdc.noaa.gov/cdo-web/api/v2/stations?datasetid=PRECIP_15&startdate=2020-04-16&enddate=2020-05-02&extent=35.9593737&extent=-88.17490636&extent=36.10035386&extent=-88.06467076&limit=1000&units=standard\n",
      "No stations found for 3605078 within the given extent: {'north': 36.10035386, 'south': 35.9593737, 'east': -88.06467076, 'west': -88.17490636}\n",
      "Attempting to expand the extent by 0.2 degrees...\n",
      "https://www.ncdc.noaa.gov/cdo-web/api/v2/stations?datasetid=PRECIP_15&startdate=2020-04-16&enddate=2020-05-02&extent=35.7593737&extent=-88.37490636&extent=36.30035386&extent=-87.86467076&limit=1000&units=standard\n",
      "No stations found even after expanding the extent. Skipping this gauge.\n",
      "Rainfall data processing is done for 3605078 starting from 2020-04-16\n",
      "https://www.ncdc.noaa.gov/cdo-web/api/v2/stations?datasetid=PRECIP_15&startdate=2016-03-24&enddate=2016-04-09&extent=36.02985571&extent=-88.4245398&extent=36.13893026&extent=-88.30413436&limit=1000&units=standard\n",
      "No stations found for 7024200 within the given extent: {'north': 36.13893026, 'south': 36.02985571, 'east': -88.30413436, 'west': -88.4245398}\n",
      "Attempting to expand the extent by 0.2 degrees...\n",
      "https://www.ncdc.noaa.gov/cdo-web/api/v2/stations?datasetid=PRECIP_15&startdate=2016-03-24&enddate=2016-04-09&extent=35.82985571&extent=-88.62453980000001&extent=36.338930260000005&extent=-88.10413436&limit=1000&units=standard\n",
      "No stations found even after expanding the extent. Skipping this gauge.\n",
      "Rainfall data processing is done for 7024200 starting from 2016-03-24\n",
      "https://www.ncdc.noaa.gov/cdo-web/api/v2/stations?datasetid=PRECIP_15&startdate=2015-05-10&enddate=2015-05-26&extent=36.45700063&extent=-89.33575488&extent=36.58079572&extent=-89.17949579&limit=1000&units=standard\n",
      "No stations found for 7026680 within the given extent: {'north': 36.58079572, 'south': 36.45700063, 'east': -89.17949579, 'west': -89.33575488}\n",
      "Attempting to expand the extent by 0.2 degrees...\n",
      "https://www.ncdc.noaa.gov/cdo-web/api/v2/stations?datasetid=PRECIP_15&startdate=2015-05-10&enddate=2015-05-26&extent=36.25700063&extent=-89.53575488&extent=36.78079572&extent=-88.97949579&limit=1000&units=standard\n",
      "No stations found even after expanding the extent. Skipping this gauge.\n",
      "Rainfall data processing is done for 7026680 starting from 2015-05-10\n",
      "https://www.ncdc.noaa.gov/cdo-web/api/v2/stations?datasetid=PRECIP_15&startdate=2014-05-31&enddate=2014-06-16&extent=36.34292002&extent=-89.35028677&extent=36.39845329&extent=-89.29288658&limit=1000&units=standard\n",
      "No stations found for 7026795 within the given extent: {'north': 36.39845329, 'south': 36.34292002, 'east': -89.29288658, 'west': -89.35028677}\n",
      "Attempting to expand the extent by 0.2 degrees...\n",
      "https://www.ncdc.noaa.gov/cdo-web/api/v2/stations?datasetid=PRECIP_15&startdate=2014-05-31&enddate=2014-06-16&extent=36.14292002&extent=-89.55028677&extent=36.59845329&extent=-89.09288658&limit=1000&units=standard\n",
      "No stations found even after expanding the extent. Skipping this gauge.\n",
      "Rainfall data processing is done for 7026795 starting from 2014-05-31\n",
      "https://www.ncdc.noaa.gov/cdo-web/api/v2/stations?datasetid=PRECIP_15&startdate=2002-07-05&enddate=2002-07-21&extent=35.79841428&extent=-88.81509142&extent=35.83311581&extent=-88.75380996&limit=1000&units=standard\n",
      "No stations found for 7028930 within the given extent: {'north': 35.83311581, 'south': 35.79841428, 'east': -88.75380996, 'west': -88.81509142}\n",
      "Attempting to expand the extent by 0.2 degrees...\n",
      "https://www.ncdc.noaa.gov/cdo-web/api/v2/stations?datasetid=PRECIP_15&startdate=2002-07-05&enddate=2002-07-21&extent=35.59841428&extent=-89.01509142&extent=36.033115810000005&extent=-88.55380996&limit=1000&units=standard\n",
      "https://www.ncdc.noaa.gov/cdo-web/api/v2/data?datasetid=PRECIP_15&startdate=2002-07-05&enddate=2002-07-21&stationid=COOP:404561&limit=1000&units=standard\n",
      "Warnings for 7028930: \"None of [Index(['date', 'QPCP'], dtype='object')] are in the [columns]\"\n",
      "No valid data collected for 7028930. Exiting process.\n",
      "Rainfall data processing is done for 7028930 starting from 2002-07-05\n",
      "https://www.ncdc.noaa.gov/cdo-web/api/v2/stations?datasetid=PRECIP_15&startdate=2000-05-06&enddate=2000-05-22&extent=35.89402029&extent=-89.22361669&extent=35.97786749&extent=-89.15245689&limit=1000&units=standard\n",
      "No stations found for 7029035 within the given extent: {'north': 35.97786749, 'south': 35.89402029, 'east': -89.15245689, 'west': -89.22361669}\n",
      "Attempting to expand the extent by 0.2 degrees...\n",
      "https://www.ncdc.noaa.gov/cdo-web/api/v2/stations?datasetid=PRECIP_15&startdate=2000-05-06&enddate=2000-05-22&extent=35.69402029&extent=-89.42361669&extent=36.177867490000004&extent=-88.95245689&limit=1000&units=standard\n",
      "https://www.ncdc.noaa.gov/cdo-web/api/v2/data?datasetid=PRECIP_15&startdate=2000-05-06&enddate=2000-05-22&stationid=COOP:402680&limit=1000&units=standard\n",
      "Rainfall data processing is done for 7029035 starting from 2000-05-06\n",
      "https://www.ncdc.noaa.gov/cdo-web/api/v2/stations?datasetid=PRECIP_15&startdate=2004-04-05&enddate=2004-04-21&extent=35.13780356&extent=-89.87493327&extent=35.23990334&extent=-89.74421197&limit=1000&units=standard\n",
      "No stations found for 7031692 within the given extent: {'north': 35.23990334, 'south': 35.13780356, 'east': -89.74421197, 'west': -89.87493327}\n",
      "Attempting to expand the extent by 0.2 degrees...\n",
      "https://www.ncdc.noaa.gov/cdo-web/api/v2/stations?datasetid=PRECIP_15&startdate=2004-04-05&enddate=2004-04-21&extent=34.93780356&extent=-90.07493327&extent=35.43990334&extent=-89.54421196999999&limit=1000&units=standard\n",
      "https://www.ncdc.noaa.gov/cdo-web/api/v2/data?datasetid=PRECIP_15&startdate=2004-04-05&enddate=2004-04-21&stationid=COOP:405956&limit=1000&units=standard\n",
      "Rainfall data processing is done for 7031692 starting from 2004-04-05\n"
     ]
    },
    {
     "ename": "FileNotFoundError",
     "evalue": "[WinError 3] The system cannot find the path specified: 'C:/Users/mgalib/Box/Finley_UH_work/Data/TN/Precipitation_data1'",
     "output_type": "error",
     "traceback": [
      "\u001b[1;31m---------------------------------------------------------------------------\u001b[0m",
      "\u001b[1;31mFileNotFoundError\u001b[0m                         Traceback (most recent call last)",
      "Cell \u001b[1;32mIn[17], line 28\u001b[0m\n\u001b[0;32m     24\u001b[0m     GetRain(USGS_Gauge,start_date,end_date,extent,Folder1,Folder2)\n\u001b[0;32m     25\u001b[0m     \u001b[38;5;28mprint\u001b[39m(\u001b[38;5;124m\"\u001b[39m\u001b[38;5;124mRainfall data processing is done for \u001b[39m\u001b[38;5;124m\"\u001b[39m \u001b[38;5;241m+\u001b[39m USGS_Gauge \u001b[38;5;241m+\u001b[39m \u001b[38;5;124m\"\u001b[39m\u001b[38;5;124m starting from \u001b[39m\u001b[38;5;124m\"\u001b[39m \u001b[38;5;241m+\u001b[39m start_date)\n\u001b[1;32m---> 28\u001b[0m delete_empty(\u001b[38;5;124m'\u001b[39m\u001b[38;5;124mC:/Users/mgalib/Box/Finley_UH_work/Data/TN/Precipitation_data1\u001b[39m\u001b[38;5;124m'\u001b[39m)\n",
      "Cell \u001b[1;32mIn[16], line 8\u001b[0m, in \u001b[0;36mdelete_empty\u001b[1;34m(path)\u001b[0m\n\u001b[0;32m      7\u001b[0m \u001b[38;5;28;01mdef\u001b[39;00m \u001b[38;5;21mdelete_empty\u001b[39m(path):\n\u001b[1;32m----> 8\u001b[0m     \u001b[38;5;28;01mfor\u001b[39;00m folder_name \u001b[38;5;129;01min\u001b[39;00m os\u001b[38;5;241m.\u001b[39mlistdir(path):\n\u001b[0;32m      9\u001b[0m         folder_path \u001b[38;5;241m=\u001b[39m os\u001b[38;5;241m.\u001b[39mpath\u001b[38;5;241m.\u001b[39mjoin(path, folder_name)\n\u001b[0;32m     10\u001b[0m         \u001b[38;5;28;01mif\u001b[39;00m os\u001b[38;5;241m.\u001b[39mpath\u001b[38;5;241m.\u001b[39misdir(folder_path):\n",
      "\u001b[1;31mFileNotFoundError\u001b[0m: [WinError 3] The system cannot find the path specified: 'C:/Users/mgalib/Box/Finley_UH_work/Data/TN/Precipitation_data1'"
     ]
    },
    {
     "data": {
      "text/plain": [
       "<Figure size 2000x1800 with 0 Axes>"
      ]
     },
     "metadata": {},
     "output_type": "display_data"
    },
    {
     "data": {
      "text/plain": [
       "<Figure size 2000x1000 with 0 Axes>"
      ]
     },
     "metadata": {},
     "output_type": "display_data"
    },
    {
     "data": {
      "text/plain": [
       "<Figure size 2000x1800 with 0 Axes>"
      ]
     },
     "metadata": {},
     "output_type": "display_data"
    },
    {
     "data": {
      "text/plain": [
       "<Figure size 2000x1000 with 0 Axes>"
      ]
     },
     "metadata": {},
     "output_type": "display_data"
    },
    {
     "data": {
      "text/plain": [
       "<Figure size 2000x1800 with 0 Axes>"
      ]
     },
     "metadata": {},
     "output_type": "display_data"
    },
    {
     "data": {
      "text/plain": [
       "<Figure size 2000x1000 with 0 Axes>"
      ]
     },
     "metadata": {},
     "output_type": "display_data"
    },
    {
     "data": {
      "text/plain": [
       "<Figure size 2000x1800 with 0 Axes>"
      ]
     },
     "metadata": {},
     "output_type": "display_data"
    },
    {
     "data": {
      "text/plain": [
       "<Figure size 2000x1000 with 0 Axes>"
      ]
     },
     "metadata": {},
     "output_type": "display_data"
    },
    {
     "data": {
      "text/plain": [
       "<Figure size 2000x1800 with 0 Axes>"
      ]
     },
     "metadata": {},
     "output_type": "display_data"
    },
    {
     "data": {
      "text/plain": [
       "<Figure size 2000x1000 with 0 Axes>"
      ]
     },
     "metadata": {},
     "output_type": "display_data"
    },
    {
     "data": {
      "text/plain": [
       "<Figure size 2000x1800 with 0 Axes>"
      ]
     },
     "metadata": {},
     "output_type": "display_data"
    },
    {
     "data": {
      "text/plain": [
       "<Figure size 2000x1000 with 0 Axes>"
      ]
     },
     "metadata": {},
     "output_type": "display_data"
    },
    {
     "data": {
      "text/plain": [
       "<Figure size 2000x1800 with 0 Axes>"
      ]
     },
     "metadata": {},
     "output_type": "display_data"
    },
    {
     "data": {
      "text/plain": [
       "<Figure size 2000x1000 with 0 Axes>"
      ]
     },
     "metadata": {},
     "output_type": "display_data"
    },
    {
     "data": {
      "text/plain": [
       "<Figure size 2000x1800 with 0 Axes>"
      ]
     },
     "metadata": {},
     "output_type": "display_data"
    },
    {
     "data": {
      "text/plain": [
       "<Figure size 2000x1000 with 0 Axes>"
      ]
     },
     "metadata": {},
     "output_type": "display_data"
    },
    {
     "data": {
      "text/plain": [
       "<Figure size 2000x1800 with 0 Axes>"
      ]
     },
     "metadata": {},
     "output_type": "display_data"
    },
    {
     "data": {
      "text/plain": [
       "<Figure size 2000x1000 with 0 Axes>"
      ]
     },
     "metadata": {},
     "output_type": "display_data"
    },
    {
     "data": {
      "text/plain": [
       "<Figure size 2000x1800 with 0 Axes>"
      ]
     },
     "metadata": {},
     "output_type": "display_data"
    },
    {
     "data": {
      "text/plain": [
       "<Figure size 2000x1000 with 0 Axes>"
      ]
     },
     "metadata": {},
     "output_type": "display_data"
    },
    {
     "data": {
      "text/plain": [
       "<Figure size 2000x1800 with 0 Axes>"
      ]
     },
     "metadata": {},
     "output_type": "display_data"
    },
    {
     "data": {
      "text/plain": [
       "<Figure size 2000x1000 with 0 Axes>"
      ]
     },
     "metadata": {},
     "output_type": "display_data"
    },
    {
     "data": {
      "text/plain": [
       "<Figure size 2000x1800 with 0 Axes>"
      ]
     },
     "metadata": {},
     "output_type": "display_data"
    },
    {
     "data": {
      "text/plain": [
       "<Figure size 2000x1000 with 0 Axes>"
      ]
     },
     "metadata": {},
     "output_type": "display_data"
    },
    {
     "data": {
      "text/plain": [
       "<Figure size 2000x1800 with 0 Axes>"
      ]
     },
     "metadata": {},
     "output_type": "display_data"
    },
    {
     "data": {
      "text/plain": [
       "<Figure size 2000x1000 with 0 Axes>"
      ]
     },
     "metadata": {},
     "output_type": "display_data"
    },
    {
     "data": {
      "text/plain": [
       "<Figure size 2000x1800 with 0 Axes>"
      ]
     },
     "metadata": {},
     "output_type": "display_data"
    },
    {
     "data": {
      "text/plain": [
       "<Figure size 2000x1000 with 0 Axes>"
      ]
     },
     "metadata": {},
     "output_type": "display_data"
    },
    {
     "data": {
      "text/plain": [
       "<Figure size 2000x1800 with 0 Axes>"
      ]
     },
     "metadata": {},
     "output_type": "display_data"
    },
    {
     "data": {
      "text/plain": [
       "<Figure size 2000x1000 with 0 Axes>"
      ]
     },
     "metadata": {},
     "output_type": "display_data"
    },
    {
     "data": {
      "text/plain": [
       "<Figure size 2000x1800 with 0 Axes>"
      ]
     },
     "metadata": {},
     "output_type": "display_data"
    },
    {
     "data": {
      "text/plain": [
       "<Figure size 2000x1000 with 0 Axes>"
      ]
     },
     "metadata": {},
     "output_type": "display_data"
    },
    {
     "data": {
      "text/plain": [
       "<Figure size 2000x1800 with 0 Axes>"
      ]
     },
     "metadata": {},
     "output_type": "display_data"
    },
    {
     "data": {
      "text/plain": [
       "<Figure size 2000x1000 with 0 Axes>"
      ]
     },
     "metadata": {},
     "output_type": "display_data"
    },
    {
     "data": {
      "text/plain": [
       "<Figure size 2000x1800 with 0 Axes>"
      ]
     },
     "metadata": {},
     "output_type": "display_data"
    },
    {
     "data": {
      "text/plain": [
       "<Figure size 2000x1000 with 0 Axes>"
      ]
     },
     "metadata": {},
     "output_type": "display_data"
    },
    {
     "data": {
      "text/plain": [
       "<Figure size 2000x1800 with 0 Axes>"
      ]
     },
     "metadata": {},
     "output_type": "display_data"
    },
    {
     "data": {
      "text/plain": [
       "<Figure size 2000x1000 with 0 Axes>"
      ]
     },
     "metadata": {},
     "output_type": "display_data"
    },
    {
     "data": {
      "text/plain": [
       "<Figure size 2000x1800 with 0 Axes>"
      ]
     },
     "metadata": {},
     "output_type": "display_data"
    },
    {
     "data": {
      "text/plain": [
       "<Figure size 2000x1000 with 0 Axes>"
      ]
     },
     "metadata": {},
     "output_type": "display_data"
    },
    {
     "data": {
      "text/plain": [
       "<Figure size 2000x1800 with 0 Axes>"
      ]
     },
     "metadata": {},
     "output_type": "display_data"
    },
    {
     "data": {
      "text/plain": [
       "<Figure size 2000x1000 with 0 Axes>"
      ]
     },
     "metadata": {},
     "output_type": "display_data"
    },
    {
     "data": {
      "text/plain": [
       "<Figure size 2000x1800 with 0 Axes>"
      ]
     },
     "metadata": {},
     "output_type": "display_data"
    },
    {
     "data": {
      "text/plain": [
       "<Figure size 2000x1000 with 0 Axes>"
      ]
     },
     "metadata": {},
     "output_type": "display_data"
    },
    {
     "data": {
      "text/plain": [
       "<Figure size 2000x1800 with 0 Axes>"
      ]
     },
     "metadata": {},
     "output_type": "display_data"
    },
    {
     "data": {
      "text/plain": [
       "<Figure size 2000x1000 with 0 Axes>"
      ]
     },
     "metadata": {},
     "output_type": "display_data"
    },
    {
     "data": {
      "text/plain": [
       "<Figure size 2000x1800 with 0 Axes>"
      ]
     },
     "metadata": {},
     "output_type": "display_data"
    },
    {
     "data": {
      "text/plain": [
       "<Figure size 2000x1000 with 0 Axes>"
      ]
     },
     "metadata": {},
     "output_type": "display_data"
    },
    {
     "data": {
      "text/plain": [
       "<Figure size 2000x1800 with 0 Axes>"
      ]
     },
     "metadata": {},
     "output_type": "display_data"
    },
    {
     "data": {
      "text/plain": [
       "<Figure size 2000x1000 with 0 Axes>"
      ]
     },
     "metadata": {},
     "output_type": "display_data"
    },
    {
     "data": {
      "text/plain": [
       "<Figure size 2000x1800 with 0 Axes>"
      ]
     },
     "metadata": {},
     "output_type": "display_data"
    },
    {
     "data": {
      "text/plain": [
       "<Figure size 2000x1000 with 0 Axes>"
      ]
     },
     "metadata": {},
     "output_type": "display_data"
    },
    {
     "data": {
      "text/plain": [
       "<Figure size 2000x1800 with 0 Axes>"
      ]
     },
     "metadata": {},
     "output_type": "display_data"
    },
    {
     "data": {
      "text/plain": [
       "<Figure size 2000x1000 with 0 Axes>"
      ]
     },
     "metadata": {},
     "output_type": "display_data"
    },
    {
     "data": {
      "text/plain": [
       "<Figure size 2000x1800 with 0 Axes>"
      ]
     },
     "metadata": {},
     "output_type": "display_data"
    },
    {
     "data": {
      "text/plain": [
       "<Figure size 2000x1000 with 0 Axes>"
      ]
     },
     "metadata": {},
     "output_type": "display_data"
    },
    {
     "data": {
      "text/plain": [
       "<Figure size 2000x1800 with 0 Axes>"
      ]
     },
     "metadata": {},
     "output_type": "display_data"
    },
    {
     "data": {
      "text/plain": [
       "<Figure size 2000x1000 with 0 Axes>"
      ]
     },
     "metadata": {},
     "output_type": "display_data"
    },
    {
     "data": {
      "text/plain": [
       "<Figure size 2000x1800 with 0 Axes>"
      ]
     },
     "metadata": {},
     "output_type": "display_data"
    },
    {
     "data": {
      "text/plain": [
       "<Figure size 2000x1000 with 0 Axes>"
      ]
     },
     "metadata": {},
     "output_type": "display_data"
    },
    {
     "data": {
      "text/plain": [
       "<Figure size 2000x1800 with 0 Axes>"
      ]
     },
     "metadata": {},
     "output_type": "display_data"
    },
    {
     "data": {
      "text/plain": [
       "<Figure size 2000x1000 with 0 Axes>"
      ]
     },
     "metadata": {},
     "output_type": "display_data"
    },
    {
     "data": {
      "text/plain": [
       "<Figure size 2000x1800 with 0 Axes>"
      ]
     },
     "metadata": {},
     "output_type": "display_data"
    },
    {
     "data": {
      "text/plain": [
       "<Figure size 2000x1000 with 0 Axes>"
      ]
     },
     "metadata": {},
     "output_type": "display_data"
    },
    {
     "data": {
      "text/plain": [
       "<Figure size 2000x1800 with 0 Axes>"
      ]
     },
     "metadata": {},
     "output_type": "display_data"
    },
    {
     "data": {
      "text/plain": [
       "<Figure size 2000x1000 with 0 Axes>"
      ]
     },
     "metadata": {},
     "output_type": "display_data"
    },
    {
     "data": {
      "text/plain": [
       "<Figure size 2000x1800 with 0 Axes>"
      ]
     },
     "metadata": {},
     "output_type": "display_data"
    },
    {
     "data": {
      "text/plain": [
       "<Figure size 2000x1000 with 0 Axes>"
      ]
     },
     "metadata": {},
     "output_type": "display_data"
    },
    {
     "data": {
      "text/plain": [
       "<Figure size 2000x1800 with 0 Axes>"
      ]
     },
     "metadata": {},
     "output_type": "display_data"
    },
    {
     "data": {
      "text/plain": [
       "<Figure size 2000x1000 with 0 Axes>"
      ]
     },
     "metadata": {},
     "output_type": "display_data"
    },
    {
     "data": {
      "text/plain": [
       "<Figure size 2000x1800 with 0 Axes>"
      ]
     },
     "metadata": {},
     "output_type": "display_data"
    },
    {
     "data": {
      "text/plain": [
       "<Figure size 2000x1000 with 0 Axes>"
      ]
     },
     "metadata": {},
     "output_type": "display_data"
    },
    {
     "data": {
      "text/plain": [
       "<Figure size 2000x1800 with 0 Axes>"
      ]
     },
     "metadata": {},
     "output_type": "display_data"
    },
    {
     "data": {
      "text/plain": [
       "<Figure size 2000x1000 with 0 Axes>"
      ]
     },
     "metadata": {},
     "output_type": "display_data"
    },
    {
     "data": {
      "text/plain": [
       "<Figure size 2000x1800 with 0 Axes>"
      ]
     },
     "metadata": {},
     "output_type": "display_data"
    },
    {
     "data": {
      "text/plain": [
       "<Figure size 2000x1000 with 0 Axes>"
      ]
     },
     "metadata": {},
     "output_type": "display_data"
    },
    {
     "data": {
      "text/plain": [
       "<Figure size 2000x1800 with 0 Axes>"
      ]
     },
     "metadata": {},
     "output_type": "display_data"
    },
    {
     "data": {
      "text/plain": [
       "<Figure size 2000x1000 with 0 Axes>"
      ]
     },
     "metadata": {},
     "output_type": "display_data"
    },
    {
     "data": {
      "text/plain": [
       "<Figure size 2000x1800 with 0 Axes>"
      ]
     },
     "metadata": {},
     "output_type": "display_data"
    },
    {
     "data": {
      "text/plain": [
       "<Figure size 2000x1000 with 0 Axes>"
      ]
     },
     "metadata": {},
     "output_type": "display_data"
    },
    {
     "data": {
      "text/plain": [
       "<Figure size 2000x1800 with 0 Axes>"
      ]
     },
     "metadata": {},
     "output_type": "display_data"
    },
    {
     "data": {
      "text/plain": [
       "<Figure size 2000x1000 with 0 Axes>"
      ]
     },
     "metadata": {},
     "output_type": "display_data"
    },
    {
     "data": {
      "text/plain": [
       "<Figure size 2000x1800 with 0 Axes>"
      ]
     },
     "metadata": {},
     "output_type": "display_data"
    },
    {
     "data": {
      "text/plain": [
       "<Figure size 2000x1000 with 0 Axes>"
      ]
     },
     "metadata": {},
     "output_type": "display_data"
    },
    {
     "data": {
      "text/plain": [
       "<Figure size 2000x1800 with 0 Axes>"
      ]
     },
     "metadata": {},
     "output_type": "display_data"
    },
    {
     "data": {
      "text/plain": [
       "<Figure size 2000x1000 with 0 Axes>"
      ]
     },
     "metadata": {},
     "output_type": "display_data"
    },
    {
     "data": {
      "text/plain": [
       "<Figure size 2000x1800 with 0 Axes>"
      ]
     },
     "metadata": {},
     "output_type": "display_data"
    },
    {
     "data": {
      "text/plain": [
       "<Figure size 2000x1000 with 0 Axes>"
      ]
     },
     "metadata": {},
     "output_type": "display_data"
    },
    {
     "data": {
      "text/plain": [
       "<Figure size 2000x1800 with 0 Axes>"
      ]
     },
     "metadata": {},
     "output_type": "display_data"
    },
    {
     "data": {
      "text/plain": [
       "<Figure size 2000x1000 with 0 Axes>"
      ]
     },
     "metadata": {},
     "output_type": "display_data"
    },
    {
     "data": {
      "text/plain": [
       "<Figure size 2000x1800 with 0 Axes>"
      ]
     },
     "metadata": {},
     "output_type": "display_data"
    },
    {
     "data": {
      "text/plain": [
       "<Figure size 2000x1000 with 0 Axes>"
      ]
     },
     "metadata": {},
     "output_type": "display_data"
    },
    {
     "data": {
      "text/plain": [
       "<Figure size 2000x1800 with 0 Axes>"
      ]
     },
     "metadata": {},
     "output_type": "display_data"
    },
    {
     "data": {
      "text/plain": [
       "<Figure size 2000x1000 with 0 Axes>"
      ]
     },
     "metadata": {},
     "output_type": "display_data"
    },
    {
     "data": {
      "text/plain": [
       "<Figure size 2000x1800 with 0 Axes>"
      ]
     },
     "metadata": {},
     "output_type": "display_data"
    },
    {
     "data": {
      "text/plain": [
       "<Figure size 2000x1000 with 0 Axes>"
      ]
     },
     "metadata": {},
     "output_type": "display_data"
    },
    {
     "data": {
      "text/plain": [
       "<Figure size 2000x1800 with 0 Axes>"
      ]
     },
     "metadata": {},
     "output_type": "display_data"
    },
    {
     "data": {
      "text/plain": [
       "<Figure size 2000x1000 with 0 Axes>"
      ]
     },
     "metadata": {},
     "output_type": "display_data"
    },
    {
     "data": {
      "text/plain": [
       "<Figure size 2000x1800 with 0 Axes>"
      ]
     },
     "metadata": {},
     "output_type": "display_data"
    },
    {
     "data": {
      "text/plain": [
       "<Figure size 2000x1000 with 0 Axes>"
      ]
     },
     "metadata": {},
     "output_type": "display_data"
    },
    {
     "data": {
      "text/plain": [
       "<Figure size 2000x1800 with 0 Axes>"
      ]
     },
     "metadata": {},
     "output_type": "display_data"
    },
    {
     "data": {
      "text/plain": [
       "<Figure size 2000x1000 with 0 Axes>"
      ]
     },
     "metadata": {},
     "output_type": "display_data"
    },
    {
     "data": {
      "text/plain": [
       "<Figure size 2000x1800 with 0 Axes>"
      ]
     },
     "metadata": {},
     "output_type": "display_data"
    },
    {
     "data": {
      "text/plain": [
       "<Figure size 2000x1000 with 0 Axes>"
      ]
     },
     "metadata": {},
     "output_type": "display_data"
    },
    {
     "data": {
      "text/plain": [
       "<Figure size 2000x1800 with 0 Axes>"
      ]
     },
     "metadata": {},
     "output_type": "display_data"
    },
    {
     "data": {
      "text/plain": [
       "<Figure size 2000x1000 with 0 Axes>"
      ]
     },
     "metadata": {},
     "output_type": "display_data"
    },
    {
     "data": {
      "text/plain": [
       "<Figure size 2000x1800 with 0 Axes>"
      ]
     },
     "metadata": {},
     "output_type": "display_data"
    },
    {
     "data": {
      "text/plain": [
       "<Figure size 2000x1000 with 0 Axes>"
      ]
     },
     "metadata": {},
     "output_type": "display_data"
    },
    {
     "data": {
      "text/plain": [
       "<Figure size 2000x1800 with 0 Axes>"
      ]
     },
     "metadata": {},
     "output_type": "display_data"
    },
    {
     "data": {
      "text/plain": [
       "<Figure size 2000x1000 with 0 Axes>"
      ]
     },
     "metadata": {},
     "output_type": "display_data"
    },
    {
     "data": {
      "text/plain": [
       "<Figure size 2000x1800 with 0 Axes>"
      ]
     },
     "metadata": {},
     "output_type": "display_data"
    },
    {
     "data": {
      "text/plain": [
       "<Figure size 2000x1000 with 0 Axes>"
      ]
     },
     "metadata": {},
     "output_type": "display_data"
    },
    {
     "data": {
      "text/plain": [
       "<Figure size 2000x1800 with 0 Axes>"
      ]
     },
     "metadata": {},
     "output_type": "display_data"
    },
    {
     "data": {
      "text/plain": [
       "<Figure size 2000x1000 with 0 Axes>"
      ]
     },
     "metadata": {},
     "output_type": "display_data"
    },
    {
     "data": {
      "text/plain": [
       "<Figure size 2000x1800 with 0 Axes>"
      ]
     },
     "metadata": {},
     "output_type": "display_data"
    },
    {
     "data": {
      "text/plain": [
       "<Figure size 2000x1000 with 0 Axes>"
      ]
     },
     "metadata": {},
     "output_type": "display_data"
    },
    {
     "data": {
      "text/plain": [
       "<Figure size 2000x1800 with 0 Axes>"
      ]
     },
     "metadata": {},
     "output_type": "display_data"
    },
    {
     "data": {
      "text/plain": [
       "<Figure size 2000x1000 with 0 Axes>"
      ]
     },
     "metadata": {},
     "output_type": "display_data"
    },
    {
     "data": {
      "text/plain": [
       "<Figure size 2000x1800 with 0 Axes>"
      ]
     },
     "metadata": {},
     "output_type": "display_data"
    },
    {
     "data": {
      "text/plain": [
       "<Figure size 2000x1000 with 0 Axes>"
      ]
     },
     "metadata": {},
     "output_type": "display_data"
    },
    {
     "data": {
      "text/plain": [
       "<Figure size 2000x1800 with 0 Axes>"
      ]
     },
     "metadata": {},
     "output_type": "display_data"
    },
    {
     "data": {
      "text/plain": [
       "<Figure size 2000x1000 with 0 Axes>"
      ]
     },
     "metadata": {},
     "output_type": "display_data"
    },
    {
     "data": {
      "text/plain": [
       "<Figure size 2000x1800 with 0 Axes>"
      ]
     },
     "metadata": {},
     "output_type": "display_data"
    },
    {
     "data": {
      "text/plain": [
       "<Figure size 2000x1000 with 0 Axes>"
      ]
     },
     "metadata": {},
     "output_type": "display_data"
    },
    {
     "data": {
      "text/plain": [
       "<Figure size 2000x1800 with 0 Axes>"
      ]
     },
     "metadata": {},
     "output_type": "display_data"
    },
    {
     "data": {
      "text/plain": [
       "<Figure size 2000x1000 with 0 Axes>"
      ]
     },
     "metadata": {},
     "output_type": "display_data"
    },
    {
     "data": {
      "text/plain": [
       "<Figure size 2000x1800 with 0 Axes>"
      ]
     },
     "metadata": {},
     "output_type": "display_data"
    },
    {
     "data": {
      "text/plain": [
       "<Figure size 2000x1000 with 0 Axes>"
      ]
     },
     "metadata": {},
     "output_type": "display_data"
    },
    {
     "data": {
      "text/plain": [
       "<Figure size 2000x1800 with 0 Axes>"
      ]
     },
     "metadata": {},
     "output_type": "display_data"
    },
    {
     "data": {
      "text/plain": [
       "<Figure size 2000x1000 with 0 Axes>"
      ]
     },
     "metadata": {},
     "output_type": "display_data"
    },
    {
     "data": {
      "text/plain": [
       "<Figure size 2000x1800 with 0 Axes>"
      ]
     },
     "metadata": {},
     "output_type": "display_data"
    },
    {
     "data": {
      "text/plain": [
       "<Figure size 2000x1000 with 0 Axes>"
      ]
     },
     "metadata": {},
     "output_type": "display_data"
    },
    {
     "data": {
      "text/plain": [
       "<Figure size 2000x1800 with 0 Axes>"
      ]
     },
     "metadata": {},
     "output_type": "display_data"
    },
    {
     "data": {
      "text/plain": [
       "<Figure size 2000x1000 with 0 Axes>"
      ]
     },
     "metadata": {},
     "output_type": "display_data"
    },
    {
     "data": {
      "text/plain": [
       "<Figure size 2000x1800 with 0 Axes>"
      ]
     },
     "metadata": {},
     "output_type": "display_data"
    },
    {
     "data": {
      "text/plain": [
       "<Figure size 2000x1000 with 0 Axes>"
      ]
     },
     "metadata": {},
     "output_type": "display_data"
    },
    {
     "data": {
      "text/plain": [
       "<Figure size 2000x1800 with 0 Axes>"
      ]
     },
     "metadata": {},
     "output_type": "display_data"
    },
    {
     "data": {
      "text/plain": [
       "<Figure size 2000x1000 with 0 Axes>"
      ]
     },
     "metadata": {},
     "output_type": "display_data"
    },
    {
     "data": {
      "text/plain": [
       "<Figure size 2000x1800 with 0 Axes>"
      ]
     },
     "metadata": {},
     "output_type": "display_data"
    },
    {
     "data": {
      "text/plain": [
       "<Figure size 2000x1000 with 0 Axes>"
      ]
     },
     "metadata": {},
     "output_type": "display_data"
    },
    {
     "data": {
      "text/plain": [
       "<Figure size 2000x1800 with 0 Axes>"
      ]
     },
     "metadata": {},
     "output_type": "display_data"
    },
    {
     "data": {
      "text/plain": [
       "<Figure size 2000x1000 with 0 Axes>"
      ]
     },
     "metadata": {},
     "output_type": "display_data"
    },
    {
     "data": {
      "text/plain": [
       "<Figure size 2000x1800 with 0 Axes>"
      ]
     },
     "metadata": {},
     "output_type": "display_data"
    },
    {
     "data": {
      "text/plain": [
       "<Figure size 2000x1000 with 0 Axes>"
      ]
     },
     "metadata": {},
     "output_type": "display_data"
    },
    {
     "data": {
      "text/plain": [
       "<Figure size 2000x1800 with 0 Axes>"
      ]
     },
     "metadata": {},
     "output_type": "display_data"
    },
    {
     "data": {
      "text/plain": [
       "<Figure size 2000x1000 with 0 Axes>"
      ]
     },
     "metadata": {},
     "output_type": "display_data"
    },
    {
     "data": {
      "text/plain": [
       "<Figure size 2000x1800 with 0 Axes>"
      ]
     },
     "metadata": {},
     "output_type": "display_data"
    },
    {
     "data": {
      "text/plain": [
       "<Figure size 2000x1000 with 0 Axes>"
      ]
     },
     "metadata": {},
     "output_type": "display_data"
    },
    {
     "data": {
      "text/plain": [
       "<Figure size 2000x1800 with 0 Axes>"
      ]
     },
     "metadata": {},
     "output_type": "display_data"
    },
    {
     "data": {
      "text/plain": [
       "<Figure size 2000x1000 with 0 Axes>"
      ]
     },
     "metadata": {},
     "output_type": "display_data"
    },
    {
     "data": {
      "text/plain": [
       "<Figure size 2000x1800 with 0 Axes>"
      ]
     },
     "metadata": {},
     "output_type": "display_data"
    },
    {
     "data": {
      "text/plain": [
       "<Figure size 2000x1000 with 0 Axes>"
      ]
     },
     "metadata": {},
     "output_type": "display_data"
    },
    {
     "data": {
      "text/plain": [
       "<Figure size 2000x1800 with 0 Axes>"
      ]
     },
     "metadata": {},
     "output_type": "display_data"
    },
    {
     "data": {
      "text/plain": [
       "<Figure size 2000x1000 with 0 Axes>"
      ]
     },
     "metadata": {},
     "output_type": "display_data"
    },
    {
     "data": {
      "text/plain": [
       "<Figure size 2000x1800 with 0 Axes>"
      ]
     },
     "metadata": {},
     "output_type": "display_data"
    },
    {
     "data": {
      "text/plain": [
       "<Figure size 2000x1000 with 0 Axes>"
      ]
     },
     "metadata": {},
     "output_type": "display_data"
    },
    {
     "data": {
      "text/plain": [
       "<Figure size 2000x1800 with 0 Axes>"
      ]
     },
     "metadata": {},
     "output_type": "display_data"
    },
    {
     "data": {
      "text/plain": [
       "<Figure size 2000x1000 with 0 Axes>"
      ]
     },
     "metadata": {},
     "output_type": "display_data"
    },
    {
     "data": {
      "text/plain": [
       "<Figure size 2000x1800 with 0 Axes>"
      ]
     },
     "metadata": {},
     "output_type": "display_data"
    },
    {
     "data": {
      "text/plain": [
       "<Figure size 2000x1000 with 0 Axes>"
      ]
     },
     "metadata": {},
     "output_type": "display_data"
    },
    {
     "data": {
      "text/plain": [
       "<Figure size 2000x1800 with 0 Axes>"
      ]
     },
     "metadata": {},
     "output_type": "display_data"
    },
    {
     "data": {
      "text/plain": [
       "<Figure size 2000x1000 with 0 Axes>"
      ]
     },
     "metadata": {},
     "output_type": "display_data"
    },
    {
     "data": {
      "text/plain": [
       "<Figure size 2000x1800 with 0 Axes>"
      ]
     },
     "metadata": {},
     "output_type": "display_data"
    },
    {
     "data": {
      "text/plain": [
       "<Figure size 2000x1000 with 0 Axes>"
      ]
     },
     "metadata": {},
     "output_type": "display_data"
    },
    {
     "data": {
      "text/plain": [
       "<Figure size 2000x1800 with 0 Axes>"
      ]
     },
     "metadata": {},
     "output_type": "display_data"
    },
    {
     "data": {
      "text/plain": [
       "<Figure size 2000x1000 with 0 Axes>"
      ]
     },
     "metadata": {},
     "output_type": "display_data"
    },
    {
     "data": {
      "text/plain": [
       "<Figure size 2000x1800 with 0 Axes>"
      ]
     },
     "metadata": {},
     "output_type": "display_data"
    },
    {
     "data": {
      "text/plain": [
       "<Figure size 2000x1000 with 0 Axes>"
      ]
     },
     "metadata": {},
     "output_type": "display_data"
    },
    {
     "data": {
      "text/plain": [
       "<Figure size 2000x1800 with 0 Axes>"
      ]
     },
     "metadata": {},
     "output_type": "display_data"
    },
    {
     "data": {
      "text/plain": [
       "<Figure size 2000x1000 with 0 Axes>"
      ]
     },
     "metadata": {},
     "output_type": "display_data"
    },
    {
     "data": {
      "text/plain": [
       "<Figure size 2000x1800 with 0 Axes>"
      ]
     },
     "metadata": {},
     "output_type": "display_data"
    },
    {
     "data": {
      "text/plain": [
       "<Figure size 2000x1000 with 0 Axes>"
      ]
     },
     "metadata": {},
     "output_type": "display_data"
    },
    {
     "data": {
      "text/plain": [
       "<Figure size 2000x1800 with 0 Axes>"
      ]
     },
     "metadata": {},
     "output_type": "display_data"
    },
    {
     "data": {
      "text/plain": [
       "<Figure size 2000x1000 with 0 Axes>"
      ]
     },
     "metadata": {},
     "output_type": "display_data"
    },
    {
     "data": {
      "text/plain": [
       "<Figure size 2000x1800 with 0 Axes>"
      ]
     },
     "metadata": {},
     "output_type": "display_data"
    },
    {
     "data": {
      "text/plain": [
       "<Figure size 2000x1000 with 0 Axes>"
      ]
     },
     "metadata": {},
     "output_type": "display_data"
    },
    {
     "data": {
      "text/plain": [
       "<Figure size 2000x1800 with 0 Axes>"
      ]
     },
     "metadata": {},
     "output_type": "display_data"
    },
    {
     "data": {
      "text/plain": [
       "<Figure size 2000x1000 with 0 Axes>"
      ]
     },
     "metadata": {},
     "output_type": "display_data"
    },
    {
     "data": {
      "text/plain": [
       "<Figure size 2000x1800 with 0 Axes>"
      ]
     },
     "metadata": {},
     "output_type": "display_data"
    },
    {
     "data": {
      "text/plain": [
       "<Figure size 2000x1000 with 0 Axes>"
      ]
     },
     "metadata": {},
     "output_type": "display_data"
    },
    {
     "data": {
      "text/plain": [
       "<Figure size 2000x1800 with 0 Axes>"
      ]
     },
     "metadata": {},
     "output_type": "display_data"
    },
    {
     "data": {
      "text/plain": [
       "<Figure size 2000x1000 with 0 Axes>"
      ]
     },
     "metadata": {},
     "output_type": "display_data"
    },
    {
     "data": {
      "text/plain": [
       "<Figure size 2000x1800 with 0 Axes>"
      ]
     },
     "metadata": {},
     "output_type": "display_data"
    },
    {
     "data": {
      "text/plain": [
       "<Figure size 2000x1000 with 0 Axes>"
      ]
     },
     "metadata": {},
     "output_type": "display_data"
    },
    {
     "data": {
      "text/plain": [
       "<Figure size 2000x1800 with 0 Axes>"
      ]
     },
     "metadata": {},
     "output_type": "display_data"
    },
    {
     "data": {
      "text/plain": [
       "<Figure size 2000x1000 with 0 Axes>"
      ]
     },
     "metadata": {},
     "output_type": "display_data"
    },
    {
     "data": {
      "text/plain": [
       "<Figure size 2000x1800 with 0 Axes>"
      ]
     },
     "metadata": {},
     "output_type": "display_data"
    },
    {
     "data": {
      "text/plain": [
       "<Figure size 2000x1000 with 0 Axes>"
      ]
     },
     "metadata": {},
     "output_type": "display_data"
    },
    {
     "data": {
      "text/plain": [
       "<Figure size 2000x1800 with 0 Axes>"
      ]
     },
     "metadata": {},
     "output_type": "display_data"
    },
    {
     "data": {
      "text/plain": [
       "<Figure size 2000x1000 with 0 Axes>"
      ]
     },
     "metadata": {},
     "output_type": "display_data"
    },
    {
     "data": {
      "text/plain": [
       "<Figure size 2000x1800 with 0 Axes>"
      ]
     },
     "metadata": {},
     "output_type": "display_data"
    },
    {
     "data": {
      "text/plain": [
       "<Figure size 2000x1000 with 0 Axes>"
      ]
     },
     "metadata": {},
     "output_type": "display_data"
    },
    {
     "data": {
      "text/plain": [
       "<Figure size 2000x1800 with 0 Axes>"
      ]
     },
     "metadata": {},
     "output_type": "display_data"
    },
    {
     "data": {
      "text/plain": [
       "<Figure size 2000x1000 with 0 Axes>"
      ]
     },
     "metadata": {},
     "output_type": "display_data"
    },
    {
     "data": {
      "text/plain": [
       "<Figure size 2000x1800 with 0 Axes>"
      ]
     },
     "metadata": {},
     "output_type": "display_data"
    },
    {
     "data": {
      "text/plain": [
       "<Figure size 2000x1000 with 0 Axes>"
      ]
     },
     "metadata": {},
     "output_type": "display_data"
    },
    {
     "data": {
      "text/plain": [
       "<Figure size 2000x1800 with 0 Axes>"
      ]
     },
     "metadata": {},
     "output_type": "display_data"
    },
    {
     "data": {
      "text/plain": [
       "<Figure size 2000x1000 with 0 Axes>"
      ]
     },
     "metadata": {},
     "output_type": "display_data"
    },
    {
     "data": {
      "text/plain": [
       "<Figure size 2000x1800 with 0 Axes>"
      ]
     },
     "metadata": {},
     "output_type": "display_data"
    },
    {
     "data": {
      "text/plain": [
       "<Figure size 2000x1000 with 0 Axes>"
      ]
     },
     "metadata": {},
     "output_type": "display_data"
    },
    {
     "data": {
      "text/plain": [
       "<Figure size 2000x1800 with 0 Axes>"
      ]
     },
     "metadata": {},
     "output_type": "display_data"
    },
    {
     "data": {
      "text/plain": [
       "<Figure size 2000x1000 with 0 Axes>"
      ]
     },
     "metadata": {},
     "output_type": "display_data"
    },
    {
     "data": {
      "text/plain": [
       "<Figure size 2000x1800 with 0 Axes>"
      ]
     },
     "metadata": {},
     "output_type": "display_data"
    },
    {
     "data": {
      "text/plain": [
       "<Figure size 2000x1000 with 0 Axes>"
      ]
     },
     "metadata": {},
     "output_type": "display_data"
    },
    {
     "data": {
      "text/plain": [
       "<Figure size 2000x1800 with 0 Axes>"
      ]
     },
     "metadata": {},
     "output_type": "display_data"
    },
    {
     "data": {
      "text/plain": [
       "<Figure size 2000x1000 with 0 Axes>"
      ]
     },
     "metadata": {},
     "output_type": "display_data"
    },
    {
     "data": {
      "text/plain": [
       "<Figure size 2000x1800 with 0 Axes>"
      ]
     },
     "metadata": {},
     "output_type": "display_data"
    },
    {
     "data": {
      "text/plain": [
       "<Figure size 2000x1000 with 0 Axes>"
      ]
     },
     "metadata": {},
     "output_type": "display_data"
    },
    {
     "data": {
      "text/plain": [
       "<Figure size 2000x1800 with 0 Axes>"
      ]
     },
     "metadata": {},
     "output_type": "display_data"
    },
    {
     "data": {
      "text/plain": [
       "<Figure size 2000x1000 with 0 Axes>"
      ]
     },
     "metadata": {},
     "output_type": "display_data"
    },
    {
     "data": {
      "text/plain": [
       "<Figure size 2000x1800 with 0 Axes>"
      ]
     },
     "metadata": {},
     "output_type": "display_data"
    },
    {
     "data": {
      "text/plain": [
       "<Figure size 2000x1000 with 0 Axes>"
      ]
     },
     "metadata": {},
     "output_type": "display_data"
    },
    {
     "data": {
      "text/plain": [
       "<Figure size 2000x1800 with 0 Axes>"
      ]
     },
     "metadata": {},
     "output_type": "display_data"
    },
    {
     "data": {
      "text/plain": [
       "<Figure size 2000x1000 with 0 Axes>"
      ]
     },
     "metadata": {},
     "output_type": "display_data"
    },
    {
     "data": {
      "text/plain": [
       "<Figure size 2000x1800 with 0 Axes>"
      ]
     },
     "metadata": {},
     "output_type": "display_data"
    },
    {
     "data": {
      "text/plain": [
       "<Figure size 2000x1000 with 0 Axes>"
      ]
     },
     "metadata": {},
     "output_type": "display_data"
    },
    {
     "data": {
      "text/plain": [
       "<Figure size 2000x1800 with 0 Axes>"
      ]
     },
     "metadata": {},
     "output_type": "display_data"
    },
    {
     "data": {
      "text/plain": [
       "<Figure size 2000x1000 with 0 Axes>"
      ]
     },
     "metadata": {},
     "output_type": "display_data"
    },
    {
     "data": {
      "text/plain": [
       "<Figure size 2000x1800 with 0 Axes>"
      ]
     },
     "metadata": {},
     "output_type": "display_data"
    },
    {
     "data": {
      "text/plain": [
       "<Figure size 2000x1000 with 0 Axes>"
      ]
     },
     "metadata": {},
     "output_type": "display_data"
    },
    {
     "data": {
      "text/plain": [
       "<Figure size 2000x1800 with 0 Axes>"
      ]
     },
     "metadata": {},
     "output_type": "display_data"
    },
    {
     "data": {
      "text/plain": [
       "<Figure size 2000x1000 with 0 Axes>"
      ]
     },
     "metadata": {},
     "output_type": "display_data"
    },
    {
     "data": {
      "text/plain": [
       "<Figure size 2000x1800 with 0 Axes>"
      ]
     },
     "metadata": {},
     "output_type": "display_data"
    },
    {
     "data": {
      "text/plain": [
       "<Figure size 2000x1000 with 0 Axes>"
      ]
     },
     "metadata": {},
     "output_type": "display_data"
    },
    {
     "data": {
      "text/plain": [
       "<Figure size 2000x1800 with 0 Axes>"
      ]
     },
     "metadata": {},
     "output_type": "display_data"
    },
    {
     "data": {
      "text/plain": [
       "<Figure size 2000x1000 with 0 Axes>"
      ]
     },
     "metadata": {},
     "output_type": "display_data"
    },
    {
     "data": {
      "text/plain": [
       "<Figure size 2000x1800 with 0 Axes>"
      ]
     },
     "metadata": {},
     "output_type": "display_data"
    },
    {
     "data": {
      "text/plain": [
       "<Figure size 2000x1000 with 0 Axes>"
      ]
     },
     "metadata": {},
     "output_type": "display_data"
    },
    {
     "data": {
      "text/plain": [
       "<Figure size 2000x1800 with 0 Axes>"
      ]
     },
     "metadata": {},
     "output_type": "display_data"
    },
    {
     "data": {
      "text/plain": [
       "<Figure size 2000x1000 with 0 Axes>"
      ]
     },
     "metadata": {},
     "output_type": "display_data"
    },
    {
     "data": {
      "text/plain": [
       "<Figure size 2000x1800 with 0 Axes>"
      ]
     },
     "metadata": {},
     "output_type": "display_data"
    },
    {
     "data": {
      "text/plain": [
       "<Figure size 2000x1000 with 0 Axes>"
      ]
     },
     "metadata": {},
     "output_type": "display_data"
    },
    {
     "data": {
      "text/plain": [
       "<Figure size 2000x1800 with 0 Axes>"
      ]
     },
     "metadata": {},
     "output_type": "display_data"
    },
    {
     "data": {
      "text/plain": [
       "<Figure size 2000x1000 with 0 Axes>"
      ]
     },
     "metadata": {},
     "output_type": "display_data"
    },
    {
     "data": {
      "text/plain": [
       "<Figure size 2000x1800 with 0 Axes>"
      ]
     },
     "metadata": {},
     "output_type": "display_data"
    },
    {
     "data": {
      "text/plain": [
       "<Figure size 2000x1000 with 0 Axes>"
      ]
     },
     "metadata": {},
     "output_type": "display_data"
    },
    {
     "data": {
      "text/plain": [
       "<Figure size 2000x1800 with 0 Axes>"
      ]
     },
     "metadata": {},
     "output_type": "display_data"
    },
    {
     "data": {
      "text/plain": [
       "<Figure size 2000x1000 with 0 Axes>"
      ]
     },
     "metadata": {},
     "output_type": "display_data"
    },
    {
     "data": {
      "text/plain": [
       "<Figure size 2000x1800 with 0 Axes>"
      ]
     },
     "metadata": {},
     "output_type": "display_data"
    },
    {
     "data": {
      "text/plain": [
       "<Figure size 2000x1000 with 0 Axes>"
      ]
     },
     "metadata": {},
     "output_type": "display_data"
    },
    {
     "data": {
      "text/plain": [
       "<Figure size 2000x1800 with 0 Axes>"
      ]
     },
     "metadata": {},
     "output_type": "display_data"
    },
    {
     "data": {
      "text/plain": [
       "<Figure size 2000x1000 with 0 Axes>"
      ]
     },
     "metadata": {},
     "output_type": "display_data"
    },
    {
     "data": {
      "text/plain": [
       "<Figure size 2000x1800 with 0 Axes>"
      ]
     },
     "metadata": {},
     "output_type": "display_data"
    },
    {
     "data": {
      "text/plain": [
       "<Figure size 2000x1000 with 0 Axes>"
      ]
     },
     "metadata": {},
     "output_type": "display_data"
    },
    {
     "data": {
      "text/plain": [
       "<Figure size 2000x1800 with 0 Axes>"
      ]
     },
     "metadata": {},
     "output_type": "display_data"
    },
    {
     "data": {
      "text/plain": [
       "<Figure size 2000x1000 with 0 Axes>"
      ]
     },
     "metadata": {},
     "output_type": "display_data"
    },
    {
     "data": {
      "text/plain": [
       "<Figure size 2000x1800 with 0 Axes>"
      ]
     },
     "metadata": {},
     "output_type": "display_data"
    },
    {
     "data": {
      "text/plain": [
       "<Figure size 2000x1000 with 0 Axes>"
      ]
     },
     "metadata": {},
     "output_type": "display_data"
    },
    {
     "data": {
      "text/plain": [
       "<Figure size 2000x1800 with 0 Axes>"
      ]
     },
     "metadata": {},
     "output_type": "display_data"
    },
    {
     "data": {
      "text/plain": [
       "<Figure size 2000x1000 with 0 Axes>"
      ]
     },
     "metadata": {},
     "output_type": "display_data"
    },
    {
     "data": {
      "text/plain": [
       "<Figure size 2000x1800 with 0 Axes>"
      ]
     },
     "metadata": {},
     "output_type": "display_data"
    },
    {
     "data": {
      "text/plain": [
       "<Figure size 2000x1000 with 0 Axes>"
      ]
     },
     "metadata": {},
     "output_type": "display_data"
    },
    {
     "data": {
      "text/plain": [
       "<Figure size 2000x1800 with 0 Axes>"
      ]
     },
     "metadata": {},
     "output_type": "display_data"
    },
    {
     "data": {
      "text/plain": [
       "<Figure size 2000x1000 with 0 Axes>"
      ]
     },
     "metadata": {},
     "output_type": "display_data"
    },
    {
     "data": {
      "text/plain": [
       "<Figure size 2000x1800 with 0 Axes>"
      ]
     },
     "metadata": {},
     "output_type": "display_data"
    },
    {
     "data": {
      "text/plain": [
       "<Figure size 2000x1000 with 0 Axes>"
      ]
     },
     "metadata": {},
     "output_type": "display_data"
    },
    {
     "data": {
      "text/plain": [
       "<Figure size 2000x1800 with 0 Axes>"
      ]
     },
     "metadata": {},
     "output_type": "display_data"
    },
    {
     "data": {
      "text/plain": [
       "<Figure size 2000x1000 with 0 Axes>"
      ]
     },
     "metadata": {},
     "output_type": "display_data"
    },
    {
     "data": {
      "text/plain": [
       "<Figure size 2000x1800 with 0 Axes>"
      ]
     },
     "metadata": {},
     "output_type": "display_data"
    },
    {
     "data": {
      "text/plain": [
       "<Figure size 2000x1000 with 0 Axes>"
      ]
     },
     "metadata": {},
     "output_type": "display_data"
    },
    {
     "data": {
      "text/plain": [
       "<Figure size 2000x1800 with 0 Axes>"
      ]
     },
     "metadata": {},
     "output_type": "display_data"
    },
    {
     "data": {
      "text/plain": [
       "<Figure size 2000x1000 with 0 Axes>"
      ]
     },
     "metadata": {},
     "output_type": "display_data"
    },
    {
     "data": {
      "text/plain": [
       "<Figure size 2000x1800 with 0 Axes>"
      ]
     },
     "metadata": {},
     "output_type": "display_data"
    },
    {
     "data": {
      "text/plain": [
       "<Figure size 2000x1000 with 0 Axes>"
      ]
     },
     "metadata": {},
     "output_type": "display_data"
    },
    {
     "data": {
      "text/plain": [
       "<Figure size 2000x1800 with 0 Axes>"
      ]
     },
     "metadata": {},
     "output_type": "display_data"
    },
    {
     "data": {
      "text/plain": [
       "<Figure size 2000x1000 with 0 Axes>"
      ]
     },
     "metadata": {},
     "output_type": "display_data"
    },
    {
     "data": {
      "text/plain": [
       "<Figure size 2000x1800 with 0 Axes>"
      ]
     },
     "metadata": {},
     "output_type": "display_data"
    },
    {
     "data": {
      "text/plain": [
       "<Figure size 2000x1000 with 0 Axes>"
      ]
     },
     "metadata": {},
     "output_type": "display_data"
    },
    {
     "data": {
      "text/plain": [
       "<Figure size 2000x1800 with 0 Axes>"
      ]
     },
     "metadata": {},
     "output_type": "display_data"
    },
    {
     "data": {
      "text/plain": [
       "<Figure size 2000x1000 with 0 Axes>"
      ]
     },
     "metadata": {},
     "output_type": "display_data"
    },
    {
     "data": {
      "text/plain": [
       "<Figure size 2000x1800 with 0 Axes>"
      ]
     },
     "metadata": {},
     "output_type": "display_data"
    },
    {
     "data": {
      "text/plain": [
       "<Figure size 2000x1000 with 0 Axes>"
      ]
     },
     "metadata": {},
     "output_type": "display_data"
    },
    {
     "data": {
      "text/plain": [
       "<Figure size 2000x1800 with 0 Axes>"
      ]
     },
     "metadata": {},
     "output_type": "display_data"
    },
    {
     "data": {
      "text/plain": [
       "<Figure size 2000x1000 with 0 Axes>"
      ]
     },
     "metadata": {},
     "output_type": "display_data"
    },
    {
     "data": {
      "text/plain": [
       "<Figure size 2000x1800 with 0 Axes>"
      ]
     },
     "metadata": {},
     "output_type": "display_data"
    },
    {
     "data": {
      "text/plain": [
       "<Figure size 2000x1000 with 0 Axes>"
      ]
     },
     "metadata": {},
     "output_type": "display_data"
    },
    {
     "data": {
      "text/plain": [
       "<Figure size 2000x1800 with 0 Axes>"
      ]
     },
     "metadata": {},
     "output_type": "display_data"
    },
    {
     "data": {
      "text/plain": [
       "<Figure size 2000x1000 with 0 Axes>"
      ]
     },
     "metadata": {},
     "output_type": "display_data"
    }
   ],
   "source": [
    "## Main program\n",
    "\n",
    "# access the data from the NCDC database with my token\n",
    "\n",
    "my_token = 'KFeRXLcZnMpQdBsNWwOPtvBBMOLkmAcW'\n",
    "watershed_extent = \"C:/Users/mgalib/Box/Finley_UH_work/Data/TN/watershed_extent_TN.csv\"\n",
    "NSEW = pd.read_csv(watershed_extent,dtype={'Gauge_No':str})\n",
    "\n",
    "for i in range(len(NSEW)):\n",
    "    # The extend is the lat, long of the target region.\n",
    "    extent = dict()\n",
    "    Directions = ['north','south','east','west']\n",
    "    USGS_Gauge = str(NSEW.iloc[i,0])\n",
    "\n",
    "    for j in range(4):\n",
    "        extent[Directions[j]] = NSEW.iloc[i,j+1]\n",
    "    \n",
    "    start_date = pd.to_datetime(NSEW.iloc[i, 5]).strftime('%Y-%m-%d')\n",
    "    end_date = pd.to_datetime(NSEW.iloc[i, 6]).strftime('%Y-%m-%d')\n",
    "    Folder1 = f'C:/Users/mgalib/Box/Finley_UH_work/Data/TN/Precipitation_data/Raw_Rainfall_Data_{USGS_Gauge}_{start_date}/'\n",
    "    Folder2 = f'C:/Users/mgalib/Box/Finley_UH_work/Data/TN/Hyetograph/Results_Rainfall_{USGS_Gauge}_{start_date}/'\n",
    "\n",
    "  \n",
    "    GetRain(USGS_Gauge,start_date,end_date,extent,Folder1,Folder2)\n",
    "    print(\"Rainfall data processing is done for \" + USGS_Gauge + \" starting from \" + start_date)\n",
    "\n",
    "\n",
    "delete_empty('C:/Users/mgalib/Box/Finley_UH_work/Data/TN/Precipitation_data')"
   ]
  }
 ],
 "metadata": {
  "kernelspec": {
   "display_name": "Python 3",
   "language": "python",
   "name": "python3"
  },
  "language_info": {
   "codemirror_mode": {
    "name": "ipython",
    "version": 3
   },
   "file_extension": ".py",
   "mimetype": "text/x-python",
   "name": "python",
   "nbconvert_exporter": "python",
   "pygments_lexer": "ipython3",
   "version": "3.11.7"
  }
 },
 "nbformat": 4,
 "nbformat_minor": 2
}
